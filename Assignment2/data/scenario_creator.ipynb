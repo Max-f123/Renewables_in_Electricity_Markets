{
 "cells": [
  {
   "cell_type": "code",
   "execution_count": 61,
   "metadata": {},
   "outputs": [],
   "source": [
    "import pandas as pd\n",
    "import numpy as np\n",
    "import matplotlib.pyplot as plt"
   ]
  },
  {
   "cell_type": "code",
   "execution_count": 62,
   "metadata": {},
   "outputs": [],
   "source": [
    "prices = pd.read_csv('prices.csv')\n",
    "wind = pd.read_csv('wind_power_cleaned.csv')"
   ]
  },
  {
   "cell_type": "code",
   "execution_count": 63,
   "metadata": {},
   "outputs": [],
   "source": [
    "prices['date'] = pd.to_datetime(prices['date'])\n",
    "wind['date'] = pd.to_datetime(wind['date'])"
   ]
  },
  {
   "cell_type": "code",
   "execution_count": 64,
   "metadata": {},
   "outputs": [],
   "source": [
    "data = pd.merge(prices, wind, on=['date', 'hour'], how='outer')\n",
    "\n",
    "#select every 18th day and save that to a new dataframe\n",
    "data['date'] = pd.to_datetime(data['date'])"
   ]
  },
  {
   "cell_type": "code",
   "execution_count": 65,
   "metadata": {},
   "outputs": [
    {
     "data": {
      "text/html": [
       "<div>\n",
       "<style scoped>\n",
       "    .dataframe tbody tr th:only-of-type {\n",
       "        vertical-align: middle;\n",
       "    }\n",
       "\n",
       "    .dataframe tbody tr th {\n",
       "        vertical-align: top;\n",
       "    }\n",
       "\n",
       "    .dataframe thead th {\n",
       "        text-align: right;\n",
       "    }\n",
       "</style>\n",
       "<table border=\"1\" class=\"dataframe\">\n",
       "  <thead>\n",
       "    <tr style=\"text-align: right;\">\n",
       "      <th></th>\n",
       "      <th>date</th>\n",
       "      <th>hour</th>\n",
       "      <th>price</th>\n",
       "      <th>wind power</th>\n",
       "    </tr>\n",
       "  </thead>\n",
       "  <tbody>\n",
       "    <tr>\n",
       "      <th>7160</th>\n",
       "      <td>2023-10-26</td>\n",
       "      <td>9</td>\n",
       "      <td>70.47</td>\n",
       "      <td>NaN</td>\n",
       "    </tr>\n",
       "    <tr>\n",
       "      <th>7161</th>\n",
       "      <td>2023-10-26</td>\n",
       "      <td>10</td>\n",
       "      <td>70.50</td>\n",
       "      <td>NaN</td>\n",
       "    </tr>\n",
       "    <tr>\n",
       "      <th>7162</th>\n",
       "      <td>2023-10-26</td>\n",
       "      <td>11</td>\n",
       "      <td>74.21</td>\n",
       "      <td>NaN</td>\n",
       "    </tr>\n",
       "    <tr>\n",
       "      <th>7163</th>\n",
       "      <td>2023-10-26</td>\n",
       "      <td>12</td>\n",
       "      <td>74.17</td>\n",
       "      <td>NaN</td>\n",
       "    </tr>\n",
       "    <tr>\n",
       "      <th>7223</th>\n",
       "      <td>2023-10-29</td>\n",
       "      <td>0</td>\n",
       "      <td>14.05</td>\n",
       "      <td>NaN</td>\n",
       "    </tr>\n",
       "    <tr>\n",
       "      <th>8760</th>\n",
       "      <td>2023-03-26</td>\n",
       "      <td>2</td>\n",
       "      <td>NaN</td>\n",
       "      <td>1293.8</td>\n",
       "    </tr>\n",
       "  </tbody>\n",
       "</table>\n",
       "</div>"
      ],
      "text/plain": [
       "           date  hour  price  wind power\n",
       "7160 2023-10-26     9  70.47         NaN\n",
       "7161 2023-10-26    10  70.50         NaN\n",
       "7162 2023-10-26    11  74.21         NaN\n",
       "7163 2023-10-26    12  74.17         NaN\n",
       "7223 2023-10-29     0  14.05         NaN\n",
       "8760 2023-03-26     2    NaN      1293.8"
      ]
     },
     "execution_count": 65,
     "metadata": {},
     "output_type": "execute_result"
    }
   ],
   "source": [
    "#show rows with nan values\n",
    "data[data.isnull().any(axis=1)]"
   ]
  },
  {
   "cell_type": "code",
   "execution_count": 66,
   "metadata": {},
   "outputs": [],
   "source": [
    "#get a list of every 18th day in 2023\n",
    "selected_dates = pd.date_range(start='2023-01-01', end='2023-12-31', freq='18D')"
   ]
  },
  {
   "cell_type": "code",
   "execution_count": 67,
   "metadata": {},
   "outputs": [],
   "source": [
    "#select every 18th day\n",
    "scenarios_price = {}\n",
    "scenarios_wind = {}\n",
    "i=1\n",
    "for date in selected_dates:\n",
    "    scenarios_price[i] = prices[prices['date'] == date].reset_index(drop=True)\n",
    "    scenarios_wind[i] = wind[wind['date'] == date].reset_index(drop=True)\n",
    "    i+=1"
   ]
  },
  {
   "cell_type": "code",
   "execution_count": 68,
   "metadata": {},
   "outputs": [
    {
     "data": {
      "text/plain": [
       "DatetimeIndex(['2023-01-01', '2023-01-19', '2023-02-06', '2023-02-24',\n",
       "               '2023-03-14', '2023-04-01', '2023-04-19', '2023-05-07',\n",
       "               '2023-05-25', '2023-06-12', '2023-06-30', '2023-07-18',\n",
       "               '2023-08-05', '2023-08-23', '2023-09-10', '2023-09-28',\n",
       "               '2023-10-16', '2023-11-03', '2023-11-21', '2023-12-09',\n",
       "               '2023-12-27'],\n",
       "              dtype='datetime64[ns]', freq='18D')"
      ]
     },
     "execution_count": 68,
     "metadata": {},
     "output_type": "execute_result"
    }
   ],
   "source": [
    "selected_dates"
   ]
  },
  {
   "cell_type": "code",
   "execution_count": null,
   "metadata": {},
   "outputs": [],
   "source": []
  }
 ],
 "metadata": {
  "kernelspec": {
   "display_name": "Python 3",
   "language": "python",
   "name": "python3"
  },
  "language_info": {
   "codemirror_mode": {
    "name": "ipython",
    "version": 3
   },
   "file_extension": ".py",
   "mimetype": "text/x-python",
   "name": "python",
   "nbconvert_exporter": "python",
   "pygments_lexer": "ipython3",
   "version": "3.11.1"
  }
 },
 "nbformat": 4,
 "nbformat_minor": 2
}
