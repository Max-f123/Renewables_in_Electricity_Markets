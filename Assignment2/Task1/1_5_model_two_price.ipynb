{
 "cells": [
  {
   "cell_type": "code",
   "execution_count": 1,
   "metadata": {},
   "outputs": [],
   "source": [
    "import Pkg\n",
    "#Pkg.add(\"JuMP\")\n",
    "#Pkg.add(\"GLPK\")\n",
    "#Pkg.add(\"Gruobi\")\n",
    "#Pkg.add(\"DataFrames\")\n",
    "#Pkg.add(\"CSV\")\n",
    "#Pkg.add(\"PyCall\")"
   ]
  },
  {
   "cell_type": "code",
   "execution_count": 2,
   "metadata": {},
   "outputs": [],
   "source": [
    "using JuMP, GLPK\n",
    "using DataFrames\n",
    "using CSV\n",
    "using PrettyTables\n",
    "using Random"
   ]
  },
  {
   "cell_type": "code",
   "execution_count": 3,
   "metadata": {},
   "outputs": [],
   "source": [
    "# Load the data\n",
    "scenarios_df = CSV.read(\"../data/scenarios.csv\", DataFrame)\n",
    "\n",
    "n_scenarios = size(scenarios_df, 2)/3\n",
    "n_scenarios = convert(Int, n_scenarios)\n",
    "\n",
    "# create a dictonary with 200 dataframes for each scenario\n",
    "all_scenarios = Dict()\n",
    "for i in 1:n_scenarios\n",
    "    df_helper = DataFrame(scenarios_df[:,3*i-2:3*i])\n",
    "    df_helper[!,3] = df_helper[!,3] .* 1.0\n",
    "    rename!(df_helper, [:\"price\", :\"wind power\", :\"grid_excess\"])\n",
    "    all_scenarios[i] = df_helper\n",
    "end"
   ]
  },
  {
   "cell_type": "code",
   "execution_count": 4,
   "metadata": {},
   "outputs": [
    {
     "data": {
      "text/plain": [
       "Any[]"
      ]
     },
     "metadata": {},
     "output_type": "display_data"
    }
   ],
   "source": [
    "W = 250\n",
    "hours = 24\n",
    "\n",
    "insample_scenarios = Dict()\n",
    "out_of_sample_scenarios = Dict()\n",
    "seeds = [1,2,3,4,5,6,7,8,9,10]\n",
    "\n",
    "for seed in seeds\n",
    "    Random.seed!(seed)\n",
    "    selected_scenarios = rand(1:n_scenarios, W)\n",
    "    scenarios = Dict()\n",
    "    counter = 1\n",
    "    for i in selected_scenarios\n",
    "        scenarios[counter] = all_scenarios[i]\n",
    "        counter += 1\n",
    "    end\n",
    "    insample_scenarios[seed] = scenarios\n",
    "\n",
    "    # create the list of index of scenarios out of sample\n",
    "    out_of_sample = []\n",
    "    for i in 1:n_scenarios\n",
    "        if i ∉ selected_scenarios\n",
    "            push!(out_of_sample, i)\n",
    "        end\n",
    "    end\n",
    "\n",
    "    unselected_scenarios = Dict()\n",
    "    counter = 1\n",
    "    for i in out_of_sample\n",
    "        unselected_scenarios[counter] = all_scenarios[i]\n",
    "        counter += 1\n",
    "    end\n",
    "    out_of_sample_scenarios[seed] = unselected_scenarios\n",
    "end\n",
    "\n",
    "alpha = 0.9\n",
    "beta = 0.8\n",
    "objectiv_values = []\n",
    "exp_profits = []\n",
    "profits_in = []\n",
    "CVaR_values = []\n"
   ]
  },
  {
   "cell_type": "code",
   "execution_count": 5,
   "metadata": {},
   "outputs": [
    {
     "name": "stdout",
     "output_type": "stream",
     "text": [
      "Expected profit 125415.10715913188\n",
      "p_DA: [22.33724183870968, 14.389693451612905, 15.949935451612903, 13.469580564516129, 9.242903161290323, 5.90827414516129, 145.9269354516129, 2.7339112741935483, 1.1038967741935486, 146.94499998387096, 0.7919354838709678, 0.7419306451612904, 142.91516125806453, 1.167741935483871, 135.9887096612903, 2.3072451612903224, 146.0248386935484, 149.60145158064518, 5.493548387096774, 152.74596772580645, 4.493516129032258, 4.803145161290321, 6.808774177419355, 149.57870966129033]\n",
      "Expected profit 132429.67084251664\n",
      "p_DA: [22.33724183870968, 14.389693451612905, 15.949935451612903, 13.469580564516129, 9.242903161290323, 5.90827414516129, 145.9269354516129, 2.7339112741935483, 1.1038967741935415, 146.94499998387096, 0.7919354838709678, 0.7419306451612904, 142.91516125806453, 1.167741935483871, 135.9887096612903, 2.3072451612903224, 146.0248386935484, 149.60145158064518, 5.493548387096774, 152.74596772580645, 4.493516129032258, 4.803145161290321, 6.808774177419355, 149.57870966129033]\n",
      "Expected profit 129424.68417300444\n",
      "p_DA: [22.33724183870968, 14.389693451612905, 15.949935451612903, 13.469580564516129, 9.242903161290323, 5.90827414516129, 145.9269354516129, 2.7339112741935483, 1.1038967741935415, 146.94499998387096, 0.7919354838709678, 0.7419306451612904, 142.91516125806453, 1.167741935483871, 135.9887096612903, 2.3072451612903224, 146.0248386935484, 149.60145158064518, 5.493548387096774, 152.74596772580645, 4.493516129032258, 14.784612903225804, 6.808774177419355, 149.57870966129033]\n"
     ]
    }
   ],
   "source": [
    "expected_profit_list = []\n",
    "#create df with seeds as column and add the p_DA_values for each seed and definec the columns\n",
    "bids_df = DataFrame()\n",
    "\n",
    "for seed in seeds[1:3]\n",
    "    scenarios = insample_scenarios[seed]\n",
    "\n",
    "    # Create a new model with GLPK solver\n",
    "    model = Model(GLPK.Optimizer)\n",
    "    unregister(model, :p_DA)\n",
    "\n",
    "    # Define the decision variables for hour\n",
    "    @variable(model, p_DA[1:hours])\n",
    "    @variable(model, delta[1:W,1:hours])\n",
    "    @variable(model, delta_up[1:W,1:hours])\n",
    "    @variable(model, delta_down[1:W,1:hours])\n",
    "    @variable(model, zeta)\n",
    "    @variable(model, eta[1:W] >= 0)\n",
    "\n",
    "    # Define the objective function\n",
    "    @objective(model, Max, (1-beta) *  sum(1/W*(scenarios[i][hour,\"price\"] * p_DA[hour]\n",
    "        + delta_up[i,hour] * scenarios[i][hour,\"price\"] * (scenarios[i][hour,\"grid_excess\"]*0.9 + (1-scenarios[i][hour,\"grid_excess\"])*1)\n",
    "        - delta_down[i,hour] * scenarios[i][hour,\"price\"] * (scenarios[i][hour,\"grid_excess\"]*1 + (1-scenarios[i][hour,\"grid_excess\"])*1.2)\n",
    "        + beta  * (zeta - (1/(1-alpha)) * sum(1/W * eta[i] for i in 1:W))) for i in 1:W, hour in 1:hours))\n",
    "\n",
    "    # Define the constraints\n",
    "    @constraint(model, [hour in 1:hours], p_DA[hour] <= 200)\n",
    "    @constraint(model, [hour in 1:hours], p_DA[hour] >= 0)\n",
    "    @constraint(model, [i in 1:W, hour in 1:hours], delta[i,hour] == scenarios[i][hour,\"wind power\"] - p_DA[hour])\n",
    "    @constraint(model, [i in 1:W, hour in 1:hours], delta[i,hour] == delta_up[i,hour] - delta_down[i,hour])\n",
    "    @constraint(model, [i in 1:W, hour in 1:hours], delta_down[i,hour] >= 0)\n",
    "    #@constraint(model, [i in 1:W, hour in 1:hours], delta_down[i,hour] <= p_DA[hour])\n",
    "    @constraint(model, [i in 1:W, hour in 1:hours], delta_up[i,hour] >= 0)\n",
    "    #@constraint(model, [i in 1:W, hour in 1:hours], delta_up[i,hour] + p_DA[hour] <= 200)\n",
    "\n",
    "    @constraint(model, [i in 1:W], -1 * sum(scenarios[i][hour,\"price\"] * p_DA[hour]\n",
    "    + delta_up[i,hour] * scenarios[i][hour,\"price\"] * (scenarios[i][hour,\"grid_excess\"]*0.9 + (1-scenarios[i][hour,\"grid_excess\"])*1)\n",
    "    - delta_down[i,hour] * scenarios[i][hour,\"price\"] * (scenarios[i][hour,\"grid_excess\"]*1 + (1-scenarios[i][hour,\"grid_excess\"])*1.2) for hour in 1:hours) + zeta - eta[i] <= 0)\n",
    "\n",
    "\n",
    "\n",
    "    # Solve the optimization problem\n",
    "    optimize!(model)\n",
    "\n",
    "    # save the p_DA values\n",
    "    p_DA_values = value.(p_DA)\n",
    "\n",
    "    exp_profit = value.(sum(1/W.*(scenarios[i][hour,\"price\"] * p_DA[hour]\n",
    "        + delta_up[i,hour] * scenarios[i][hour,\"price\"] * (scenarios[i][hour,\"grid_excess\"]*0.9 + (1-scenarios[i][hour,\"grid_excess\"])*1)\n",
    "        - delta_down[i,hour] * scenarios[i][hour,\"price\"] * (scenarios[i][hour,\"grid_excess\"]*1 + (1-scenarios[i][hour,\"grid_excess\"])*1.2) for i in 1:W, hour in 1:hours)))\n",
    "\n",
    "    # save the profit of each scenario\n",
    "    for i in 1:W\n",
    "        push!(profits_in, value.(sum(scenarios[i][hour,\"price\"] * p_DA[hour]\n",
    "        + delta_up[i,hour] * scenarios[i][hour,\"price\"] * (scenarios[i][hour,\"grid_excess\"]*0.9 + (1-scenarios[i][hour,\"grid_excess\"])*1)\n",
    "        - delta_down[i,hour] * scenarios[i][hour,\"price\"] * (scenarios[i][hour,\"grid_excess\"]*1 + (1-scenarios[i][hour,\"grid_excess\"])*1.2) for hour in 1:hours)))\n",
    "    end\n",
    "\n",
    "\n",
    "    #println(model)\n",
    "\n",
    "    # Print the termination status\n",
    "    status = termination_status(model)\n",
    "    if status == MOI.OPTIMAL\n",
    "        println(\"Expected profit \", exp_profit)\n",
    "        println(\"p_DA: \", value.(p_DA))\n",
    "        #add the p_DA values to the df\n",
    "        bids_df[!, string(seed)] = value.(p_DA)\n",
    "        \n",
    "    else\n",
    "        println(\"No optimal solution found\")\n",
    "    end\n",
    "end"
   ]
  },
  {
   "cell_type": "code",
   "execution_count": 6,
   "metadata": {},
   "outputs": [
    {
     "data": {
      "text/html": [
       "<div><div style = \"float: left;\"><span>24×3 DataFrame</span></div><div style = \"clear: both;\"></div></div><div class = \"data-frame\" style = \"overflow-x: scroll;\"><table class = \"data-frame\" style = \"margin-bottom: 6px;\"><thead><tr class = \"header\"><th class = \"rowNumber\" style = \"font-weight: bold; text-align: right;\">Row</th><th style = \"text-align: left;\">1</th><th style = \"text-align: left;\">2</th><th style = \"text-align: left;\">3</th></tr><tr class = \"subheader headerLastRow\"><th class = \"rowNumber\" style = \"font-weight: bold; text-align: right;\"></th><th title = \"Float64\" style = \"text-align: left;\">Float64</th><th title = \"Float64\" style = \"text-align: left;\">Float64</th><th title = \"Float64\" style = \"text-align: left;\">Float64</th></tr></thead><tbody><tr><td class = \"rowNumber\" style = \"font-weight: bold; text-align: right;\">1</td><td style = \"text-align: right;\">22.3372</td><td style = \"text-align: right;\">22.3372</td><td style = \"text-align: right;\">22.3372</td></tr><tr><td class = \"rowNumber\" style = \"font-weight: bold; text-align: right;\">2</td><td style = \"text-align: right;\">14.3897</td><td style = \"text-align: right;\">14.3897</td><td style = \"text-align: right;\">14.3897</td></tr><tr><td class = \"rowNumber\" style = \"font-weight: bold; text-align: right;\">3</td><td style = \"text-align: right;\">15.9499</td><td style = \"text-align: right;\">15.9499</td><td style = \"text-align: right;\">15.9499</td></tr><tr><td class = \"rowNumber\" style = \"font-weight: bold; text-align: right;\">4</td><td style = \"text-align: right;\">13.4696</td><td style = \"text-align: right;\">13.4696</td><td style = \"text-align: right;\">13.4696</td></tr><tr><td class = \"rowNumber\" style = \"font-weight: bold; text-align: right;\">5</td><td style = \"text-align: right;\">9.2429</td><td style = \"text-align: right;\">9.2429</td><td style = \"text-align: right;\">9.2429</td></tr><tr><td class = \"rowNumber\" style = \"font-weight: bold; text-align: right;\">6</td><td style = \"text-align: right;\">5.90827</td><td style = \"text-align: right;\">5.90827</td><td style = \"text-align: right;\">5.90827</td></tr><tr><td class = \"rowNumber\" style = \"font-weight: bold; text-align: right;\">7</td><td style = \"text-align: right;\">145.927</td><td style = \"text-align: right;\">145.927</td><td style = \"text-align: right;\">145.927</td></tr><tr><td class = \"rowNumber\" style = \"font-weight: bold; text-align: right;\">8</td><td style = \"text-align: right;\">2.73391</td><td style = \"text-align: right;\">2.73391</td><td style = \"text-align: right;\">2.73391</td></tr><tr><td class = \"rowNumber\" style = \"font-weight: bold; text-align: right;\">9</td><td style = \"text-align: right;\">1.1039</td><td style = \"text-align: right;\">1.1039</td><td style = \"text-align: right;\">1.1039</td></tr><tr><td class = \"rowNumber\" style = \"font-weight: bold; text-align: right;\">10</td><td style = \"text-align: right;\">146.945</td><td style = \"text-align: right;\">146.945</td><td style = \"text-align: right;\">146.945</td></tr><tr><td class = \"rowNumber\" style = \"font-weight: bold; text-align: right;\">11</td><td style = \"text-align: right;\">0.791935</td><td style = \"text-align: right;\">0.791935</td><td style = \"text-align: right;\">0.791935</td></tr><tr><td class = \"rowNumber\" style = \"font-weight: bold; text-align: right;\">12</td><td style = \"text-align: right;\">0.741931</td><td style = \"text-align: right;\">0.741931</td><td style = \"text-align: right;\">0.741931</td></tr><tr><td class = \"rowNumber\" style = \"font-weight: bold; text-align: right;\">13</td><td style = \"text-align: right;\">142.915</td><td style = \"text-align: right;\">142.915</td><td style = \"text-align: right;\">142.915</td></tr><tr><td class = \"rowNumber\" style = \"font-weight: bold; text-align: right;\">14</td><td style = \"text-align: right;\">1.16774</td><td style = \"text-align: right;\">1.16774</td><td style = \"text-align: right;\">1.16774</td></tr><tr><td class = \"rowNumber\" style = \"font-weight: bold; text-align: right;\">15</td><td style = \"text-align: right;\">135.989</td><td style = \"text-align: right;\">135.989</td><td style = \"text-align: right;\">135.989</td></tr><tr><td class = \"rowNumber\" style = \"font-weight: bold; text-align: right;\">16</td><td style = \"text-align: right;\">2.30725</td><td style = \"text-align: right;\">2.30725</td><td style = \"text-align: right;\">2.30725</td></tr><tr><td class = \"rowNumber\" style = \"font-weight: bold; text-align: right;\">17</td><td style = \"text-align: right;\">146.025</td><td style = \"text-align: right;\">146.025</td><td style = \"text-align: right;\">146.025</td></tr><tr><td class = \"rowNumber\" style = \"font-weight: bold; text-align: right;\">18</td><td style = \"text-align: right;\">149.601</td><td style = \"text-align: right;\">149.601</td><td style = \"text-align: right;\">149.601</td></tr><tr><td class = \"rowNumber\" style = \"font-weight: bold; text-align: right;\">19</td><td style = \"text-align: right;\">5.49355</td><td style = \"text-align: right;\">5.49355</td><td style = \"text-align: right;\">5.49355</td></tr><tr><td class = \"rowNumber\" style = \"font-weight: bold; text-align: right;\">20</td><td style = \"text-align: right;\">152.746</td><td style = \"text-align: right;\">152.746</td><td style = \"text-align: right;\">152.746</td></tr><tr><td class = \"rowNumber\" style = \"font-weight: bold; text-align: right;\">21</td><td style = \"text-align: right;\">4.49352</td><td style = \"text-align: right;\">4.49352</td><td style = \"text-align: right;\">4.49352</td></tr><tr><td class = \"rowNumber\" style = \"font-weight: bold; text-align: right;\">22</td><td style = \"text-align: right;\">4.80315</td><td style = \"text-align: right;\">4.80315</td><td style = \"text-align: right;\">14.7846</td></tr><tr><td class = \"rowNumber\" style = \"font-weight: bold; text-align: right;\">23</td><td style = \"text-align: right;\">6.80877</td><td style = \"text-align: right;\">6.80877</td><td style = \"text-align: right;\">6.80877</td></tr><tr><td class = \"rowNumber\" style = \"font-weight: bold; text-align: right;\">24</td><td style = \"text-align: right;\">149.579</td><td style = \"text-align: right;\">149.579</td><td style = \"text-align: right;\">149.579</td></tr></tbody></table></div>"
      ],
      "text/latex": [
       "\\begin{tabular}{r|ccc}\n",
       "\t& 1 & 2 & 3\\\\\n",
       "\t\\hline\n",
       "\t& Float64 & Float64 & Float64\\\\\n",
       "\t\\hline\n",
       "\t1 & 22.3372 & 22.3372 & 22.3372 \\\\\n",
       "\t2 & 14.3897 & 14.3897 & 14.3897 \\\\\n",
       "\t3 & 15.9499 & 15.9499 & 15.9499 \\\\\n",
       "\t4 & 13.4696 & 13.4696 & 13.4696 \\\\\n",
       "\t5 & 9.2429 & 9.2429 & 9.2429 \\\\\n",
       "\t6 & 5.90827 & 5.90827 & 5.90827 \\\\\n",
       "\t7 & 145.927 & 145.927 & 145.927 \\\\\n",
       "\t8 & 2.73391 & 2.73391 & 2.73391 \\\\\n",
       "\t9 & 1.1039 & 1.1039 & 1.1039 \\\\\n",
       "\t10 & 146.945 & 146.945 & 146.945 \\\\\n",
       "\t11 & 0.791935 & 0.791935 & 0.791935 \\\\\n",
       "\t12 & 0.741931 & 0.741931 & 0.741931 \\\\\n",
       "\t13 & 142.915 & 142.915 & 142.915 \\\\\n",
       "\t14 & 1.16774 & 1.16774 & 1.16774 \\\\\n",
       "\t15 & 135.989 & 135.989 & 135.989 \\\\\n",
       "\t16 & 2.30725 & 2.30725 & 2.30725 \\\\\n",
       "\t17 & 146.025 & 146.025 & 146.025 \\\\\n",
       "\t18 & 149.601 & 149.601 & 149.601 \\\\\n",
       "\t19 & 5.49355 & 5.49355 & 5.49355 \\\\\n",
       "\t20 & 152.746 & 152.746 & 152.746 \\\\\n",
       "\t21 & 4.49352 & 4.49352 & 4.49352 \\\\\n",
       "\t22 & 4.80315 & 4.80315 & 14.7846 \\\\\n",
       "\t23 & 6.80877 & 6.80877 & 6.80877 \\\\\n",
       "\t24 & 149.579 & 149.579 & 149.579 \\\\\n",
       "\\end{tabular}\n"
      ],
      "text/plain": [
       "\u001b[1m24×3 DataFrame\u001b[0m\n",
       "\u001b[1m Row \u001b[0m│\u001b[1m 1          \u001b[0m\u001b[1m 2          \u001b[0m\u001b[1m 3          \u001b[0m\n",
       "     │\u001b[90m Float64    \u001b[0m\u001b[90m Float64    \u001b[0m\u001b[90m Float64    \u001b[0m\n",
       "─────┼────────────────────────────────────\n",
       "   1 │  22.3372     22.3372     22.3372\n",
       "   2 │  14.3897     14.3897     14.3897\n",
       "   3 │  15.9499     15.9499     15.9499\n",
       "   4 │  13.4696     13.4696     13.4696\n",
       "   5 │   9.2429      9.2429      9.2429\n",
       "   6 │   5.90827     5.90827     5.90827\n",
       "   7 │ 145.927     145.927     145.927\n",
       "   8 │   2.73391     2.73391     2.73391\n",
       "  ⋮  │     ⋮           ⋮           ⋮\n",
       "  18 │ 149.601     149.601     149.601\n",
       "  19 │   5.49355     5.49355     5.49355\n",
       "  20 │ 152.746     152.746     152.746\n",
       "  21 │   4.49352     4.49352     4.49352\n",
       "  22 │   4.80315     4.80315    14.7846\n",
       "  23 │   6.80877     6.80877     6.80877\n",
       "  24 │ 149.579     149.579     149.579\n",
       "\u001b[36m                            9 rows omitted\u001b[0m"
      ]
     },
     "metadata": {},
     "output_type": "display_data"
    }
   ],
   "source": [
    "bids_df"
   ]
  },
  {
   "cell_type": "code",
   "execution_count": 7,
   "metadata": {},
   "outputs": [
    {
     "ename": "UndefVarError",
     "evalue": "UndefVarError: `unselected_scenarios` not defined",
     "output_type": "error",
     "traceback": [
      "UndefVarError: `unselected_scenarios` not defined\n",
      "\n",
      "Stacktrace:\n",
      " [1] top-level scope\n",
      "   @ c:\\Users\\janle\\Desktop\\Master_local\\2\\renewables_in_electricity_markets\\Assignment2\\Task1\\1_5_model_two_price.ipynb:11"
     ]
    }
   ],
   "source": [
    "W_new = n_scenarios - W\n",
    "hours = 24\n",
    "profits_out = []\n",
    "\n",
    "# calculate the expected profit for the out of sample scenarios\n",
    "exp_profit = 0\n",
    "for i in 1:W_new\n",
    "    profit_day = 0\n",
    "    for hour in 1:hours\n",
    "        profit = 0\n",
    "        profit += unselected_scenarios[1][hour,\"price\"] * p_DA_values[hour] # should the day ahead price be fixed to the first scenario? So instead of i, 1?\n",
    "        if unselected_scenarios[i][hour,\"wind power\"] > p_DA_values[hour]\n",
    "            profit += unselected_scenarios[i][hour,\"price\"] * (unselected_scenarios[i][hour,\"wind power\"] - p_DA_values[hour]) * (unselected_scenarios[i][hour,\"grid_excess\"]*0.9 + (1-unselected_scenarios[i][hour,\"grid_excess\"])*1)\n",
    "        else\n",
    "            profit -= unselected_scenarios[i][hour,\"price\"] * (p_DA_values[hour] - unselected_scenarios[i][hour,\"wind power\"]) * (unselected_scenarios[i][hour,\"grid_excess\"]*1 + (1-unselected_scenarios[i][hour,\"grid_excess\"])*1.2)\n",
    "        end\n",
    "        profit_day += profit\n",
    "    end\n",
    "    push!(profits_out, profit_day)\n",
    "    exp_profit += profit_day\n",
    "end\n",
    "\n",
    "exp_profit = exp_profit / W_new\n",
    "\n"
   ]
  },
  {
   "cell_type": "code",
   "execution_count": 8,
   "metadata": {},
   "outputs": [
    {
     "ename": "DimensionMismatch",
     "evalue": "DimensionMismatch: column :Scenario has length 1200 and column :Profit has length 750",
     "output_type": "error",
     "traceback": [
      "DimensionMismatch: column :Scenario has length 1200 and column :Profit has length 750\n",
      "\n",
      "Stacktrace:\n",
      " [1] DataFrame(columns::Vector{Any}, colindex::DataFrames.Index; copycols::Bool)\n",
      "   @ DataFrames C:\\Users\\janle\\.julia\\packages\\DataFrames\\58MUJ\\src\\dataframe\\dataframe.jl:212\n",
      " [2] DataFrame\n",
      "   @ C:\\Users\\janle\\.julia\\packages\\DataFrames\\58MUJ\\src\\dataframe\\dataframe.jl:193 [inlined]\n",
      " [3] DataFrame(; kwargs::Base.Pairs{Symbol, AbstractVector, Tuple{Symbol, Symbol, Symbol}, NamedTuple{(:Scenario, :Profit, :In_Out), Tuple{UnitRange{Int64}, Vector{Any}, Vector{String}}}})\n",
      "   @ DataFrames C:\\Users\\janle\\.julia\\packages\\DataFrames\\58MUJ\\src\\dataframe\\dataframe.jl:332\n",
      " [4] top-level scope\n",
      "   @ c:\\Users\\janle\\Desktop\\Master_local\\2\\renewables_in_electricity_markets\\Assignment2\\Task1\\1_5_model_two_price.ipynb:2"
     ]
    }
   ],
   "source": [
    "# create a dataframe with the profits and if the scenanrio is in or out of sample\n",
    "df = DataFrame(Scenario = 1:W + W_new, Profit = [profits_in; profits_out], In_Out = [fill(\"In\",W); fill(\"Out\",W_new)])  \n",
    "\n",
    "# save the data\n",
    "CSV.write(\"1_4_results/profits.csv\", df)\n",
    "\n",
    "\n"
   ]
  },
  {
   "cell_type": "code",
   "execution_count": 9,
   "metadata": {},
   "outputs": [],
   "source": []
  }
 ],
 "metadata": {
  "kernelspec": {
   "display_name": "Julia 1.9.3",
   "language": "julia",
   "name": "julia-1.9"
  },
  "language_info": {
   "file_extension": ".jl",
   "mimetype": "application/julia",
   "name": "julia",
   "version": "1.9.3"
  }
 },
 "nbformat": 4,
 "nbformat_minor": 2
}
