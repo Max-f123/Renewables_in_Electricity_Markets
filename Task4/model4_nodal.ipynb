{
 "cells": [
  {
   "cell_type": "code",
   "execution_count": 36,
   "metadata": {},
   "outputs": [],
   "source": [
    "#import Pkg\n",
    "#Pkg.add(\"JuMP\")\n",
    "#Pkg.add(\"GLPK\")\n",
    "#Pkg.add(\"Gruobi\")\n",
    "#Pkg.add(\"DataFrames\")\n",
    "#Pkg.add(\"CSV\")"
   ]
  },
  {
   "cell_type": "code",
   "execution_count": 37,
   "metadata": {},
   "outputs": [],
   "source": [
    "using JuMP, GLPK\n",
    "using DataFrames\n",
    "using CSV"
   ]
  },
  {
   "cell_type": "code",
   "execution_count": 38,
   "metadata": {},
   "outputs": [
    {
     "data": {
      "text/html": [
       "<div><div style = \"float: left;\"><span>34×4 DataFrame</span></div><div style = \"float: right;\"><span style = \"font-style: italic;\">9 rows omitted</span></div><div style = \"clear: both;\"></div></div><div class = \"data-frame\" style = \"overflow-x: scroll;\"><table class = \"data-frame\" style = \"margin-bottom: 6px;\"><thead><tr class = \"header\"><th class = \"rowNumber\" style = \"font-weight: bold; text-align: right;\">Row</th><th style = \"text-align: left;\">Transmission lines: From node</th><th style = \"text-align: left;\">To node</th><th style = \"text-align: left;\"> Susceptance [per-unit]</th><th style = \"text-align: left;\"> Capacity [MW]</th></tr><tr class = \"subheader headerLastRow\"><th class = \"rowNumber\" style = \"font-weight: bold; text-align: right;\"></th><th title = \"Int64\" style = \"text-align: left;\">Int64</th><th title = \"Int64\" style = \"text-align: left;\">Int64</th><th title = \"String7\" style = \"text-align: left;\">String7</th><th title = \"Int64\" style = \"text-align: left;\">Int64</th></tr></thead><tbody><tr><td class = \"rowNumber\" style = \"font-weight: bold; text-align: right;\">1</td><td style = \"text-align: right;\">1</td><td style = \"text-align: right;\">2</td><td style = \"text-align: left;\">0.0146</td><td style = \"text-align: right;\">175</td></tr><tr><td class = \"rowNumber\" style = \"font-weight: bold; text-align: right;\">2</td><td style = \"text-align: right;\">1</td><td style = \"text-align: right;\">3</td><td style = \"text-align: left;\">0.2253</td><td style = \"text-align: right;\">175</td></tr><tr><td class = \"rowNumber\" style = \"font-weight: bold; text-align: right;\">3</td><td style = \"text-align: right;\">1</td><td style = \"text-align: right;\">5</td><td style = \"text-align: left;\">0.0907</td><td style = \"text-align: right;\">350</td></tr><tr><td class = \"rowNumber\" style = \"font-weight: bold; text-align: right;\">4</td><td style = \"text-align: right;\">2</td><td style = \"text-align: right;\">4</td><td style = \"text-align: left;\">0.1356</td><td style = \"text-align: right;\">175</td></tr><tr><td class = \"rowNumber\" style = \"font-weight: bold; text-align: right;\">5</td><td style = \"text-align: right;\">2</td><td style = \"text-align: right;\">6</td><td style = \"text-align: left;\">0.205</td><td style = \"text-align: right;\">175</td></tr><tr><td class = \"rowNumber\" style = \"font-weight: bold; text-align: right;\">6</td><td style = \"text-align: right;\">3</td><td style = \"text-align: right;\">9</td><td style = \"text-align: left;\">0.1271</td><td style = \"text-align: right;\">175</td></tr><tr><td class = \"rowNumber\" style = \"font-weight: bold; text-align: right;\">7</td><td style = \"text-align: right;\">3</td><td style = \"text-align: right;\">24</td><td style = \"text-align: left;\">0.084</td><td style = \"text-align: right;\">400</td></tr><tr><td class = \"rowNumber\" style = \"font-weight: bold; text-align: right;\">8</td><td style = \"text-align: right;\">4</td><td style = \"text-align: right;\">9</td><td style = \"text-align: left;\">0.111</td><td style = \"text-align: right;\">175</td></tr><tr><td class = \"rowNumber\" style = \"font-weight: bold; text-align: right;\">9</td><td style = \"text-align: right;\">5</td><td style = \"text-align: right;\">10</td><td style = \"text-align: left;\">0.094</td><td style = \"text-align: right;\">350</td></tr><tr><td class = \"rowNumber\" style = \"font-weight: bold; text-align: right;\">10</td><td style = \"text-align: right;\">6</td><td style = \"text-align: right;\">10</td><td style = \"text-align: left;\">0.0642</td><td style = \"text-align: right;\">175</td></tr><tr><td class = \"rowNumber\" style = \"font-weight: bold; text-align: right;\">11</td><td style = \"text-align: right;\">7</td><td style = \"text-align: right;\">8</td><td style = \"text-align: left;\">0.0652</td><td style = \"text-align: right;\">350</td></tr><tr><td class = \"rowNumber\" style = \"font-weight: bold; text-align: right;\">12</td><td style = \"text-align: right;\">8</td><td style = \"text-align: right;\">9</td><td style = \"text-align: left;\">0.1762</td><td style = \"text-align: right;\">175</td></tr><tr><td class = \"rowNumber\" style = \"font-weight: bold; text-align: right;\">13</td><td style = \"text-align: right;\">8</td><td style = \"text-align: right;\">10</td><td style = \"text-align: left;\">0.1762</td><td style = \"text-align: right;\">175</td></tr><tr><td style = \"text-align: right;\">&vellip;</td><td style = \"text-align: right;\">&vellip;</td><td style = \"text-align: right;\">&vellip;</td><td style = \"text-align: right;\">&vellip;</td><td style = \"text-align: right;\">&vellip;</td></tr><tr><td class = \"rowNumber\" style = \"font-weight: bold; text-align: right;\">23</td><td style = \"text-align: right;\">14</td><td style = \"text-align: right;\">16</td><td style = \"text-align: left;\">594</td><td style = \"text-align: right;\">250</td></tr><tr><td class = \"rowNumber\" style = \"font-weight: bold; text-align: right;\">24</td><td style = \"text-align: right;\">15</td><td style = \"text-align: right;\">16</td><td style = \"text-align: left;\">172</td><td style = \"text-align: right;\">500</td></tr><tr><td class = \"rowNumber\" style = \"font-weight: bold; text-align: right;\">25</td><td style = \"text-align: right;\">15</td><td style = \"text-align: right;\">21</td><td style = \"text-align: left;\">249</td><td style = \"text-align: right;\">400</td></tr><tr><td class = \"rowNumber\" style = \"font-weight: bold; text-align: right;\">26</td><td style = \"text-align: right;\">15</td><td style = \"text-align: right;\">24</td><td style = \"text-align: left;\">529</td><td style = \"text-align: right;\">500</td></tr><tr><td class = \"rowNumber\" style = \"font-weight: bold; text-align: right;\">27</td><td style = \"text-align: right;\">16</td><td style = \"text-align: right;\">17</td><td style = \"text-align: left;\">263</td><td style = \"text-align: right;\">500</td></tr><tr><td class = \"rowNumber\" style = \"font-weight: bold; text-align: right;\">28</td><td style = \"text-align: right;\">16</td><td style = \"text-align: right;\">19</td><td style = \"text-align: left;\">234</td><td style = \"text-align: right;\">500</td></tr><tr><td class = \"rowNumber\" style = \"font-weight: bold; text-align: right;\">29</td><td style = \"text-align: right;\">17</td><td style = \"text-align: right;\">18</td><td style = \"text-align: left;\">143</td><td style = \"text-align: right;\">500</td></tr><tr><td class = \"rowNumber\" style = \"font-weight: bold; text-align: right;\">30</td><td style = \"text-align: right;\">17</td><td style = \"text-align: right;\">22</td><td style = \"text-align: left;\">1,069</td><td style = \"text-align: right;\">500</td></tr><tr><td class = \"rowNumber\" style = \"font-weight: bold; text-align: right;\">31</td><td style = \"text-align: right;\">18</td><td style = \"text-align: right;\">21</td><td style = \"text-align: left;\">132</td><td style = \"text-align: right;\">1000</td></tr><tr><td class = \"rowNumber\" style = \"font-weight: bold; text-align: right;\">32</td><td style = \"text-align: right;\">19</td><td style = \"text-align: right;\">20</td><td style = \"text-align: left;\">203</td><td style = \"text-align: right;\">1000</td></tr><tr><td class = \"rowNumber\" style = \"font-weight: bold; text-align: right;\">33</td><td style = \"text-align: right;\">20</td><td style = \"text-align: right;\">23</td><td style = \"text-align: left;\">112</td><td style = \"text-align: right;\">1000</td></tr><tr><td class = \"rowNumber\" style = \"font-weight: bold; text-align: right;\">34</td><td style = \"text-align: right;\">21</td><td style = \"text-align: right;\">22</td><td style = \"text-align: left;\">692</td><td style = \"text-align: right;\">500</td></tr></tbody></table></div>"
      ],
      "text/latex": [
       "\\begin{tabular}{r|cccc}\n",
       "\t& Transmission lines: From node & To node &  Susceptance [per-unit] &  Capacity [MW]\\\\\n",
       "\t\\hline\n",
       "\t& Int64 & Int64 & String7 & Int64\\\\\n",
       "\t\\hline\n",
       "\t1 & 1 & 2 & 0.0146 & 175 \\\\\n",
       "\t2 & 1 & 3 & 0.2253 & 175 \\\\\n",
       "\t3 & 1 & 5 & 0.0907 & 350 \\\\\n",
       "\t4 & 2 & 4 & 0.1356 & 175 \\\\\n",
       "\t5 & 2 & 6 & 0.205 & 175 \\\\\n",
       "\t6 & 3 & 9 & 0.1271 & 175 \\\\\n",
       "\t7 & 3 & 24 & 0.084 & 400 \\\\\n",
       "\t8 & 4 & 9 & 0.111 & 175 \\\\\n",
       "\t9 & 5 & 10 & 0.094 & 350 \\\\\n",
       "\t10 & 6 & 10 & 0.0642 & 175 \\\\\n",
       "\t11 & 7 & 8 & 0.0652 & 350 \\\\\n",
       "\t12 & 8 & 9 & 0.1762 & 175 \\\\\n",
       "\t13 & 8 & 10 & 0.1762 & 175 \\\\\n",
       "\t14 & 9 & 11 & 0.084 & 400 \\\\\n",
       "\t15 & 9 & 12 & 0.084 & 400 \\\\\n",
       "\t16 & 10 & 11 & 0.084 & 400 \\\\\n",
       "\t17 & 10 & 12 & 0.084 & 400 \\\\\n",
       "\t18 & 11 & 13 & 488 & 500 \\\\\n",
       "\t19 & 11 & 14 & 426 & 500 \\\\\n",
       "\t20 & 12 & 13 & 488 & 500 \\\\\n",
       "\t21 & 12 & 23 & 985 & 500 \\\\\n",
       "\t22 & 13 & 23 & 884 & 250 \\\\\n",
       "\t23 & 14 & 16 & 594 & 250 \\\\\n",
       "\t24 & 15 & 16 & 172 & 500 \\\\\n",
       "\t$\\dots$ & $\\dots$ & $\\dots$ & $\\dots$ & $\\dots$ \\\\\n",
       "\\end{tabular}\n"
      ],
      "text/plain": [
       "\u001b[1m34×4 DataFrame\u001b[0m\n",
       "\u001b[1m Row \u001b[0m│\u001b[1m Transmission lines: From node \u001b[0m\u001b[1m To node \u001b[0m\u001b[1m  Susceptance [per-unit] \u001b[0m\u001b[1m  Capac\u001b[0m ⋯\n",
       "     │\u001b[90m Int64                         \u001b[0m\u001b[90m Int64   \u001b[0m\u001b[90m String7                 \u001b[0m\u001b[90m Int64 \u001b[0m ⋯\n",
       "─────┼──────────────────────────────────────────────────────────────────────────\n",
       "   1 │                             1        2  0.0146                          ⋯\n",
       "   2 │                             1        3  0.2253\n",
       "   3 │                             1        5  0.0907\n",
       "   4 │                             2        4  0.1356\n",
       "   5 │                             2        6  0.205                           ⋯\n",
       "   6 │                             3        9  0.1271\n",
       "   7 │                             3       24  0.084\n",
       "   8 │                             4        9  0.111\n",
       "  ⋮  │               ⋮                   ⋮                ⋮                    ⋱\n",
       "  28 │                            16       19  234                             ⋯\n",
       "  29 │                            17       18  143\n",
       "  30 │                            17       22  1,069\n",
       "  31 │                            18       21  132\n",
       "  32 │                            19       20  203                             ⋯\n",
       "  33 │                            20       23  112\n",
       "  34 │                            21       22  692\n",
       "\u001b[36m                                                    1 column and 19 rows omitted\u001b[0m"
      ]
     },
     "metadata": {},
     "output_type": "display_data"
    }
   ],
   "source": [
    "#load cost data\n",
    "con_generation = CSV.File(\"../data/conventional_generators.csv\") |> DataFrame\n",
    "\n",
    "#load wind_technicaldata\n",
    "wind_generation = CSV.File(\"../data/wind_farms.csv\") |> DataFrame\n",
    "\n",
    "# load wind profile\n",
    "wind_profile = CSV.File(\"../data/wind_powerprofile_200.csv\") |> DataFrame\n",
    "\n",
    "# batteries\n",
    "battery = CSV.File(\"../data/Battery.csv\") |> DataFrame\n",
    "\n",
    "# transmission_lines\n",
    "transmission_lines = CSV.File(\"../data/transmission_lines.csv\") |> DataFrame\n"
   ]
  },
  {
   "cell_type": "code",
   "execution_count": 39,
   "metadata": {},
   "outputs": [
    {
     "data": {
      "text/plain": [
       "24"
      ]
     },
     "metadata": {},
     "output_type": "display_data"
    }
   ],
   "source": [
    "#demand bids\n",
    "name = \"demand_hour_0.csv\"\n",
    "demand_bids = CSV.File(\"../data/demand_bids_hour/\" * name) |> DataFrame\n",
    " \n",
    "# number of convential generators\n",
    "G = size(con_generation, 1)\n",
    "\n",
    "# number of demand\n",
    "D = size(demand_bids, 1)\n",
    "\n",
    "# number of wind generators\n",
    "W = size(wind_generation, 1)\n",
    "\n",
    "# number of batteries\n",
    "B = size(battery, 1)\n",
    "\n",
    "# number of transmission lines\n",
    "L = size(transmission_lines, 1)\n",
    "\n",
    "# number of nodes\n",
    "N = 24\n"
   ]
  },
  {
   "cell_type": "code",
   "execution_count": 40,
   "metadata": {},
   "outputs": [],
   "source": [
    "# Initialize the DataFrame directly without dynamic column names\n",
    "result_df = DataFrame(hour = Int[])\n",
    "\n",
    "# For x variables, manually add each column. This is a one-time setup.\n",
    "for i in 1:G\n",
    "    result_df[!, Symbol(\"x_con$i\")] = Float64[]\n",
    "end\n",
    "\n",
    "# For w variables, manually add each column. This is a one-time setup.\n",
    "for i in 1:W\n",
    "    result_df[!, Symbol(\"x_wind$i\")] = Float64[]\n",
    "end\n",
    "\n",
    "# For y variables, manually add each column. This is a one-time setup.\n",
    "for i in 1:D\n",
    "    result_df[!, Symbol(\"y$i\")] = Float64[]\n",
    "end\n",
    "\n",
    "# For b variables, manually add each column. This is a one-time setup.\n",
    "for i in 1:B\n",
    "    result_df[!, Symbol(\"x_bat$i\")] = Float64[]\n",
    "end\n",
    "\n",
    "# For l variables, manually add each column. This is a one-time setup.\n",
    "for i in 1:L\n",
    "    result_df[!, Symbol(\"x_line$i\")] = Float64[]\n",
    "end\n",
    "\n",
    "\n",
    "\n",
    "equilibrium_df = DataFrame(hour = Int[])\n",
    "\n",
    "# for each node a market price column\n",
    "for i in 1:N\n",
    "    equilibrium_df[!, Symbol(\"market_price_node$i\")] = Float64[]\n",
    "end\n",
    "\n"
   ]
  },
  {
   "cell_type": "code",
   "execution_count": 41,
   "metadata": {},
   "outputs": [
    {
     "name": "stdout",
     "output_type": "stream",
     "text": [
      "\u001b[1m0×73 DataFrame\u001b[0m\n",
      "\u001b[1m Row \u001b[0m│\u001b[1m hour  \u001b[0m\u001b[1m x_con1  \u001b[0m\u001b[1m x_con2  \u001b[0m\u001b[1m x_con3  \u001b[0m\u001b[1m x_con4  \u001b[0m\u001b[1m x_con5  \u001b[0m\u001b[1m x_con6  \u001b[0m\u001b[1m x_con7  \u001b[0m\u001b[1m x_con8  \u001b[0m\u001b[1m x_con9  \u001b[0m\u001b[1m x_con10 \u001b[0m\u001b[1m x_con11 \u001b[0m\u001b[1m x_con12 \u001b[0m\u001b[1m x_wind1 \u001b[0m\u001b[1m x_wind2 \u001b[0m\u001b[1m x_wind3 \u001b[0m\u001b[1m x_wind4 \u001b[0m\u001b[1m y1      \u001b[0m\u001b[1m y2      \u001b[0m\u001b[1m y3      \u001b[0m\u001b[1m y4      \u001b[0m\u001b[1m y5      \u001b[0m\u001b[1m y6      \u001b[0m\u001b[1m y7      \u001b[0m\u001b[1m y8      \u001b[0m\u001b[1m y9      \u001b[0m\u001b[1m y10     \u001b[0m\u001b[1m y11     \u001b[0m\u001b[1m y12     \u001b[0m\u001b[1m y13     \u001b[0m\u001b[1m y14     \u001b[0m\u001b[1m y15     \u001b[0m\u001b[1m y16     \u001b[0m\u001b[1m y17     \u001b[0m\u001b[1m x_bat1  \u001b[0m\u001b[1m x_bat2  \u001b[0m\u001b[1m x_bat3  \u001b[0m\u001b[1m x_bat4  \u001b[0m\u001b[1m x_bat5  \u001b[0m\u001b[1m x_line1 \u001b[0m\u001b[1m x_line2 \u001b[0m\u001b[1m x_line3 \u001b[0m\u001b[1m x_line4 \u001b[0m\u001b[1m x_line5 \u001b[0m\u001b[1m x_line6 \u001b[0m\u001b[1m x_line7 \u001b[0m\u001b[1m x_line8 \u001b[0m\u001b[1m x_line9 \u001b[0m\u001b[1m x_line10 \u001b[0m\u001b[1m x_line11 \u001b[0m\u001b[1m x_line12 \u001b[0m\u001b[1m x_line13 \u001b[0m\u001b[1m x_line14 \u001b[0m\u001b[1m x_line15 \u001b[0m\u001b[1m x_line16 \u001b[0m\u001b[1m x_line17 \u001b[0m\u001b[1m x_line18 \u001b[0m\u001b[1m x_line19 \u001b[0m\u001b[1m x_line20 \u001b[0m\u001b[1m x_line21 \u001b[0m\u001b[1m x_line22 \u001b[0m\u001b[1m x_line23 \u001b[0m\u001b[1m x_line24 \u001b[0m\u001b[1m x_line25 \u001b[0m\u001b[1m x_line26 \u001b[0m\u001b[1m x_line27 \u001b[0m\u001b[1m x_line28 \u001b[0m\u001b[1m x_line29 \u001b[0m\u001b[1m x_line30 \u001b[0m\u001b[1m x_line31 \u001b[0m\u001b[1m x_line32 \u001b[0m\u001b[1m x_line33 \u001b[0m\u001b[1m x_line34 \u001b[0m\n",
      "     │\u001b[90m Int64 \u001b[0m\u001b[90m Float64 \u001b[0m\u001b[90m Float64 \u001b[0m\u001b[90m Float64 \u001b[0m\u001b[90m Float64 \u001b[0m\u001b[90m Float64 \u001b[0m\u001b[90m Float64 \u001b[0m\u001b[90m Float64 \u001b[0m\u001b[90m Float64 \u001b[0m\u001b[90m Float64 \u001b[0m\u001b[90m Float64 \u001b[0m\u001b[90m Float64 \u001b[0m\u001b[90m Float64 \u001b[0m\u001b[90m Float64 \u001b[0m\u001b[90m Float64 \u001b[0m\u001b[90m Float64 \u001b[0m\u001b[90m Float64 \u001b[0m\u001b[90m Float64 \u001b[0m\u001b[90m Float64 \u001b[0m\u001b[90m Float64 \u001b[0m\u001b[90m Float64 \u001b[0m\u001b[90m Float64 \u001b[0m\u001b[90m Float64 \u001b[0m\u001b[90m Float64 \u001b[0m\u001b[90m Float64 \u001b[0m\u001b[90m Float64 \u001b[0m\u001b[90m Float64 \u001b[0m\u001b[90m Float64 \u001b[0m\u001b[90m Float64 \u001b[0m\u001b[90m Float64 \u001b[0m\u001b[90m Float64 \u001b[0m\u001b[90m Float64 \u001b[0m\u001b[90m Float64 \u001b[0m\u001b[90m Float64 \u001b[0m\u001b[90m Float64 \u001b[0m\u001b[90m Float64 \u001b[0m\u001b[90m Float64 \u001b[0m\u001b[90m Float64 \u001b[0m\u001b[90m Float64 \u001b[0m\u001b[90m Float64 \u001b[0m\u001b[90m Float64 \u001b[0m\u001b[90m Float64 \u001b[0m\u001b[90m Float64 \u001b[0m\u001b[90m Float64 \u001b[0m\u001b[90m Float64 \u001b[0m\u001b[90m Float64 \u001b[0m\u001b[90m Float64 \u001b[0m\u001b[90m Float64 \u001b[0m\u001b[90m Float64  \u001b[0m\u001b[90m Float64  \u001b[0m\u001b[90m Float64  \u001b[0m\u001b[90m Float64  \u001b[0m\u001b[90m Float64  \u001b[0m\u001b[90m Float64  \u001b[0m\u001b[90m Float64  \u001b[0m\u001b[90m Float64  \u001b[0m\u001b[90m Float64  \u001b[0m\u001b[90m Float64  \u001b[0m\u001b[90m Float64  \u001b[0m\u001b[90m Float64  \u001b[0m\u001b[90m Float64  \u001b[0m\u001b[90m Float64  \u001b[0m\u001b[90m Float64  \u001b[0m\u001b[90m Float64  \u001b[0m\u001b[90m Float64  \u001b[0m\u001b[90m Float64  \u001b[0m\u001b[90m Float64  \u001b[0m\u001b[90m Float64  \u001b[0m\u001b[90m Float64  \u001b[0m\u001b[90m Float64  \u001b[0m\u001b[90m Float64  \u001b[0m\u001b[90m Float64  \u001b[0m\u001b[90m Float64  \u001b[0m\n",
      "─────┴────────────────────────────────────────────────────────────────────────────────────────────────────────────────────────────────────────────────────────────────────────────────────────────────────────────────────────────────────────────────────────────────────────────────────────────────────────────────────────────────────────────────────────────────────────────────────────────────────────────────────────────────────────────────────────────────────────────────────────────────────────────────────────────────────────────────────────────────────────────────────────────────────────────────────────────────────────────────────────────────────────────────────────────────────────\n"
     ]
    }
   ],
   "source": [
    "println(result_df)"
   ]
  },
  {
   "cell_type": "code",
   "execution_count": 42,
   "metadata": {},
   "outputs": [
    {
     "name": "stdout",
     "output_type": "stream",
     "text": [
      "Optimal solution found\n",
      "Objective value: 1.0244594345210121e6\n"
     ]
    }
   ],
   "source": [
    "# Load demand bids data\n",
    "demand_bids_all = [CSV.File(\"../data/demand_bids_hour/demand_hour_$(i-1).csv\") |> DataFrame for i in 1:24]\n",
    "\n",
    "# Create a new model with GLPK solver\n",
    "model = Model(GLPK.Optimizer)\n",
    "\n",
    "# Define the decision variables for every generator and hour\n",
    "@variable(model, x_con[1:G, 1:24] >= 0)  # Power output variable for conventional generators\n",
    "@variable(model, x_wind[1:W, 1:24] >= 0)  # Power output variable for wind generators\n",
    "@variable(model, y[1:D, 1:24] >= 0)  # Demand variable\n",
    "@variable(model, bat[1:B, 1:24])  # Battery variable\n",
    "@variable(model, l[1:L, 1:24])  # Transmission line variable\n",
    "\n",
    "\n",
    "# Add constraints for each plant\n",
    "for g in 1:G\n",
    "    for hour in 1:24\n",
    "        @constraint(model, x_con[g, hour] <= con_generation[g, 6])  # Set the upper bound\n",
    "        @constraint(model, x_con[g, hour] >= 0)  # Set the lower bound\n",
    "    end\n",
    "end\n",
    "\n",
    "# Add constraints for each wind farm\n",
    "for w in 1:W\n",
    "    for hour in 1:24\n",
    "        @constraint(model, x_wind[w, hour] <= wind_profile[hour, w+1])  # Set the upper bound\n",
    "        @constraint(model, x_wind[w, hour] >= 0)  # Set the lower bound\n",
    "    end\n",
    "end\n",
    "\n",
    "# Add constraints for each demand bid\n",
    "for d in 1:D\n",
    "    for hour in 1:24\n",
    "        @constraint(model, y[d, hour] <= demand_bids_all[hour][d, 2])  # Set the upper bound\n",
    "        @constraint(model, y[d, hour] >= 0)  # Set the lower bound\n",
    "    end\n",
    "end\n",
    "\n",
    "# Add temporary for each generator\n",
    "for g in 1:G\n",
    "    for hour in 2:24\n",
    "        @constraint(model, x_con[g, hour] <= x_con[g, hour - 1] + con_generation[g, 7])  # Set the upper bound\n",
    "        @constraint(model, x_con[g, hour] >= x_con[g, hour - 1] - con_generation[g, 8])  # Set the lower bound\n",
    "    end\n",
    "end\n",
    "\n",
    "# add constraints for battery charging and discharging\n",
    "for b in 1:B\n",
    "    for hour in 1:24\n",
    "        @constraint(model, bat[b, hour] <= battery[b, 5])  # Set the upper bound\n",
    "        @constraint(model, bat[b, hour] >= -1 *battery[b, 5])  # Set the lower bound\n",
    "    end\n",
    "end\n",
    "\n",
    "# add constraints for battery capacity\n",
    "# sum all previous battery charging and discharging, they need to be below the battery capacity\n",
    "for b in 1:B\n",
    "    for hour in 2:24\n",
    "        @constraint(model, sum(bat[b, h] for h in 1:hour) <= battery[b, 4])  # Set the upper bound\n",
    "        @constraint(model, sum(bat[b, h] for h in 1:hour) >= 0)  # Set the lower bound\n",
    "    end\n",
    "end\n",
    "\n",
    "# add constraints for transmission lines\n",
    "for line in 1:L\n",
    "    for hour in 1:24\n",
    "        @constraint(model, l[line, hour] <= transmission_lines[line, 4])  # Set the upper bound\n",
    "        @constraint(model, l[line, hour] >= -1 * transmission_lines[line, 4])  # Set the lower bound\n",
    "    end\n",
    "end\n",
    "\n",
    "balance = Vector{Any}(undef, N*24)\n",
    "\n",
    "# add balance constraint for each node and each demand_hour_\n",
    "for hour in 1:24\n",
    "    for node in 1:N\n",
    "        balance[(hour-1)*24+node] = @constraint(model, sum(x_con[g, hour] for g in 1:G if con_generation[g, 2] == node) +\n",
    "                            sum(x_wind[w, hour] for w in 1:W if wind_generation[w, 2] == node) +\n",
    "                            sum(l[line, hour] for line in 1:L if transmission_lines[line, 1] == node) ==\n",
    "                            sum(y[d, hour] for d in 1:D if demand_bids_all[hour][d, 1] == node))\n",
    "        #set_name(c, \"balance_constraint_node$(node)_hour$(hour)\")\n",
    "    end\n",
    "end\n",
    "\n",
    "# Define the objective function\n",
    "@objective(model, Max, sum(demand_bids_all[hour][d, 3] * y[d, hour] for hour in 1:24, d in 1:D) -\n",
    "                     sum(con_generation[g, 3] * x_con[g, hour] for hour in 1:24, g in 1:G))\n",
    "\n",
    "#- sum(dual(balance[hour]) * bat[b, hour] for hour in 1:24, b in 1:B)\n",
    "\n",
    "\n",
    "\n",
    "# Solve the model\n",
    "optimize!(model)\n",
    "\n",
    "\n",
    "# Check the status of the solution\n",
    "status = termination_status(model)\n",
    "if status == MOI.OPTIMAL\n",
    "    println(\"Optimal solution found\")\n",
    "\n",
    "    # RETURN OBJECTIVE value\n",
    "    println(\"Objective value: \", objective_value(model))\n",
    "\n",
    "\n",
    "else\n",
    "    println(\"No optimal solution found\")\n",
    "end\n"
   ]
  },
  {
   "cell_type": "code",
   "execution_count": 43,
   "metadata": {},
   "outputs": [
    {
     "data": {
      "text/plain": [
       "\"results/optimization_results_marketprices.csv\""
      ]
     },
     "metadata": {},
     "output_type": "display_data"
    }
   ],
   "source": [
    "#save the duals of the balance constraints to the equilibrium_df\n",
    "for hour in 1:24\n",
    "    hour_results = []\n",
    "\n",
    "    for node in 1:N\n",
    "        push!(hour_results, dual(balance[(hour-1)*24+node]))\n",
    "    end\n",
    "    push!(equilibrium_df, [hour; hour_results...])\n",
    "end\n",
    "\n",
    "\n",
    "\n",
    "#save results to dataframe\n",
    "CSV.write(\"results/optimization_results_marketprices.csv\", equilibrium_df)\n",
    "\n"
   ]
  },
  {
   "cell_type": "code",
   "execution_count": 44,
   "metadata": {},
   "outputs": [
    {
     "data": {
      "text/html": [
       "<div><div style = \"float: left;\"><span>24×25 DataFrame</span></div><div style = \"clear: both;\"></div></div><div class = \"data-frame\" style = \"overflow-x: scroll;\"><table class = \"data-frame\" style = \"margin-bottom: 6px;\"><thead><tr class = \"header\"><th class = \"rowNumber\" style = \"font-weight: bold; text-align: right;\">Row</th><th style = \"text-align: left;\">hour</th><th style = \"text-align: left;\">market_price_node1</th><th style = \"text-align: left;\">market_price_node2</th><th style = \"text-align: left;\">market_price_node3</th><th style = \"text-align: left;\">market_price_node4</th><th style = \"text-align: left;\">market_price_node5</th><th style = \"text-align: left;\">market_price_node6</th><th style = \"text-align: left;\">market_price_node7</th><th style = \"text-align: left;\">market_price_node8</th><th style = \"text-align: left;\">market_price_node9</th><th style = \"text-align: left;\">market_price_node10</th><th style = \"text-align: left;\">market_price_node11</th><th style = \"text-align: left;\">market_price_node12</th><th style = \"text-align: left;\">market_price_node13</th><th style = \"text-align: left;\">market_price_node14</th><th style = \"text-align: left;\">market_price_node15</th><th style = \"text-align: left;\">market_price_node16</th><th style = \"text-align: left;\">market_price_node17</th><th style = \"text-align: left;\">market_price_node18</th><th style = \"text-align: left;\">market_price_node19</th><th style = \"text-align: left;\">market_price_node20</th><th style = \"text-align: left;\">market_price_node21</th><th style = \"text-align: left;\">market_price_node22</th><th style = \"text-align: left;\">market_price_node23</th><th style = \"text-align: left;\">market_price_node24</th></tr><tr class = \"subheader headerLastRow\"><th class = \"rowNumber\" style = \"font-weight: bold; text-align: right;\"></th><th title = \"Int64\" style = \"text-align: left;\">Int64</th><th title = \"Float64\" style = \"text-align: left;\">Float64</th><th title = \"Float64\" style = \"text-align: left;\">Float64</th><th title = \"Float64\" style = \"text-align: left;\">Float64</th><th title = \"Float64\" style = \"text-align: left;\">Float64</th><th title = \"Float64\" style = \"text-align: left;\">Float64</th><th title = \"Float64\" style = \"text-align: left;\">Float64</th><th title = \"Float64\" style = \"text-align: left;\">Float64</th><th title = \"Float64\" style = \"text-align: left;\">Float64</th><th title = \"Float64\" style = \"text-align: left;\">Float64</th><th title = \"Float64\" style = \"text-align: left;\">Float64</th><th title = \"Float64\" style = \"text-align: left;\">Float64</th><th title = \"Float64\" style = \"text-align: left;\">Float64</th><th title = \"Float64\" style = \"text-align: left;\">Float64</th><th title = \"Float64\" style = \"text-align: left;\">Float64</th><th title = \"Float64\" style = \"text-align: left;\">Float64</th><th title = \"Float64\" style = \"text-align: left;\">Float64</th><th title = \"Float64\" style = \"text-align: left;\">Float64</th><th title = \"Float64\" style = \"text-align: left;\">Float64</th><th title = \"Float64\" style = \"text-align: left;\">Float64</th><th title = \"Float64\" style = \"text-align: left;\">Float64</th><th title = \"Float64\" style = \"text-align: left;\">Float64</th><th title = \"Float64\" style = \"text-align: left;\">Float64</th><th title = \"Float64\" style = \"text-align: left;\">Float64</th><th title = \"Float64\" style = \"text-align: left;\">Float64</th></tr></thead><tbody><tr><td class = \"rowNumber\" style = \"font-weight: bold; text-align: right;\">1</td><td style = \"text-align: right;\">1</td><td style = \"text-align: right;\">0.0</td><td style = \"text-align: right;\">0.0</td><td style = \"text-align: right;\">0.0</td><td style = \"text-align: right;\">0.0</td><td style = \"text-align: right;\">0.0</td><td style = \"text-align: right;\">0.0</td><td style = \"text-align: right;\">0.0</td><td style = \"text-align: right;\">0.0</td><td style = \"text-align: right;\">0.0</td><td style = \"text-align: right;\">0.0</td><td style = \"text-align: right;\">-0.0</td><td style = \"text-align: right;\">-0.0</td><td style = \"text-align: right;\">0.0</td><td style = \"text-align: right;\">0.0</td><td style = \"text-align: right;\">0.0</td><td style = \"text-align: right;\">0.0</td><td style = \"text-align: right;\">-0.0</td><td style = \"text-align: right;\">0.0</td><td style = \"text-align: right;\">0.0</td><td style = \"text-align: right;\">0.0</td><td style = \"text-align: right;\">-0.0</td><td style = \"text-align: right;\">-0.0</td><td style = \"text-align: right;\">-0.0</td><td style = \"text-align: right;\">-0.0</td></tr><tr><td class = \"rowNumber\" style = \"font-weight: bold; text-align: right;\">2</td><td style = \"text-align: right;\">2</td><td style = \"text-align: right;\">0.0</td><td style = \"text-align: right;\">0.0</td><td style = \"text-align: right;\">0.0</td><td style = \"text-align: right;\">0.0</td><td style = \"text-align: right;\">0.0</td><td style = \"text-align: right;\">0.0</td><td style = \"text-align: right;\">0.0</td><td style = \"text-align: right;\">0.0</td><td style = \"text-align: right;\">0.0</td><td style = \"text-align: right;\">0.0</td><td style = \"text-align: right;\">-0.0</td><td style = \"text-align: right;\">-0.0</td><td style = \"text-align: right;\">0.0</td><td style = \"text-align: right;\">0.0</td><td style = \"text-align: right;\">0.0</td><td style = \"text-align: right;\">0.0</td><td style = \"text-align: right;\">-0.0</td><td style = \"text-align: right;\">0.0</td><td style = \"text-align: right;\">0.0</td><td style = \"text-align: right;\">0.0</td><td style = \"text-align: right;\">-0.0</td><td style = \"text-align: right;\">-0.0</td><td style = \"text-align: right;\">-0.0</td><td style = \"text-align: right;\">-0.0</td></tr><tr><td class = \"rowNumber\" style = \"font-weight: bold; text-align: right;\">3</td><td style = \"text-align: right;\">3</td><td style = \"text-align: right;\">0.0</td><td style = \"text-align: right;\">0.0</td><td style = \"text-align: right;\">0.0</td><td style = \"text-align: right;\">0.0</td><td style = \"text-align: right;\">0.0</td><td style = \"text-align: right;\">0.0</td><td style = \"text-align: right;\">0.0</td><td style = \"text-align: right;\">0.0</td><td style = \"text-align: right;\">0.0</td><td style = \"text-align: right;\">0.0</td><td style = \"text-align: right;\">-0.0</td><td style = \"text-align: right;\">-0.0</td><td style = \"text-align: right;\">0.0</td><td style = \"text-align: right;\">0.0</td><td style = \"text-align: right;\">0.0</td><td style = \"text-align: right;\">0.0</td><td style = \"text-align: right;\">-0.0</td><td style = \"text-align: right;\">0.0</td><td style = \"text-align: right;\">0.0</td><td style = \"text-align: right;\">0.0</td><td style = \"text-align: right;\">-0.0</td><td style = \"text-align: right;\">-0.0</td><td style = \"text-align: right;\">-0.0</td><td style = \"text-align: right;\">-0.0</td></tr><tr><td class = \"rowNumber\" style = \"font-weight: bold; text-align: right;\">4</td><td style = \"text-align: right;\">4</td><td style = \"text-align: right;\">0.0</td><td style = \"text-align: right;\">0.0</td><td style = \"text-align: right;\">0.0</td><td style = \"text-align: right;\">0.0</td><td style = \"text-align: right;\">0.0</td><td style = \"text-align: right;\">0.0</td><td style = \"text-align: right;\">0.0</td><td style = \"text-align: right;\">0.0</td><td style = \"text-align: right;\">0.0</td><td style = \"text-align: right;\">0.0</td><td style = \"text-align: right;\">-0.0</td><td style = \"text-align: right;\">-0.0</td><td style = \"text-align: right;\">0.0</td><td style = \"text-align: right;\">0.0</td><td style = \"text-align: right;\">0.0</td><td style = \"text-align: right;\">0.0</td><td style = \"text-align: right;\">-0.0</td><td style = \"text-align: right;\">0.0</td><td style = \"text-align: right;\">0.0</td><td style = \"text-align: right;\">0.0</td><td style = \"text-align: right;\">-0.0</td><td style = \"text-align: right;\">-0.0</td><td style = \"text-align: right;\">-0.0</td><td style = \"text-align: right;\">-0.0</td></tr><tr><td class = \"rowNumber\" style = \"font-weight: bold; text-align: right;\">5</td><td style = \"text-align: right;\">5</td><td style = \"text-align: right;\">0.0</td><td style = \"text-align: right;\">0.0</td><td style = \"text-align: right;\">0.0</td><td style = \"text-align: right;\">0.0</td><td style = \"text-align: right;\">0.0</td><td style = \"text-align: right;\">0.0</td><td style = \"text-align: right;\">0.0</td><td style = \"text-align: right;\">0.0</td><td style = \"text-align: right;\">0.0</td><td style = \"text-align: right;\">0.0</td><td style = \"text-align: right;\">-0.0</td><td style = \"text-align: right;\">-0.0</td><td style = \"text-align: right;\">0.0</td><td style = \"text-align: right;\">0.0</td><td style = \"text-align: right;\">0.0</td><td style = \"text-align: right;\">0.0</td><td style = \"text-align: right;\">-0.0</td><td style = \"text-align: right;\">0.0</td><td style = \"text-align: right;\">0.0</td><td style = \"text-align: right;\">0.0</td><td style = \"text-align: right;\">-0.0</td><td style = \"text-align: right;\">-0.0</td><td style = \"text-align: right;\">-0.0</td><td style = \"text-align: right;\">-0.0</td></tr><tr><td class = \"rowNumber\" style = \"font-weight: bold; text-align: right;\">6</td><td style = \"text-align: right;\">6</td><td style = \"text-align: right;\">0.0</td><td style = \"text-align: right;\">0.0</td><td style = \"text-align: right;\">0.0</td><td style = \"text-align: right;\">0.0</td><td style = \"text-align: right;\">0.0</td><td style = \"text-align: right;\">0.0</td><td style = \"text-align: right;\">0.0</td><td style = \"text-align: right;\">0.0</td><td style = \"text-align: right;\">0.0</td><td style = \"text-align: right;\">0.0</td><td style = \"text-align: right;\">-0.0</td><td style = \"text-align: right;\">-0.0</td><td style = \"text-align: right;\">0.0</td><td style = \"text-align: right;\">0.0</td><td style = \"text-align: right;\">0.0</td><td style = \"text-align: right;\">0.0</td><td style = \"text-align: right;\">-0.0</td><td style = \"text-align: right;\">0.0</td><td style = \"text-align: right;\">0.0</td><td style = \"text-align: right;\">0.0</td><td style = \"text-align: right;\">-0.0</td><td style = \"text-align: right;\">-0.0</td><td style = \"text-align: right;\">-0.0</td><td style = \"text-align: right;\">-0.0</td></tr><tr><td class = \"rowNumber\" style = \"font-weight: bold; text-align: right;\">7</td><td style = \"text-align: right;\">7</td><td style = \"text-align: right;\">0.0</td><td style = \"text-align: right;\">0.0</td><td style = \"text-align: right;\">0.0</td><td style = \"text-align: right;\">0.0</td><td style = \"text-align: right;\">0.0</td><td style = \"text-align: right;\">0.0</td><td style = \"text-align: right;\">0.0</td><td style = \"text-align: right;\">0.0</td><td style = \"text-align: right;\">0.0</td><td style = \"text-align: right;\">0.0</td><td style = \"text-align: right;\">-0.0</td><td style = \"text-align: right;\">-0.0</td><td style = \"text-align: right;\">0.0</td><td style = \"text-align: right;\">0.0</td><td style = \"text-align: right;\">0.0</td><td style = \"text-align: right;\">0.0</td><td style = \"text-align: right;\">-0.0</td><td style = \"text-align: right;\">0.0</td><td style = \"text-align: right;\">0.0</td><td style = \"text-align: right;\">0.0</td><td style = \"text-align: right;\">-0.0</td><td style = \"text-align: right;\">-0.0</td><td style = \"text-align: right;\">-0.0</td><td style = \"text-align: right;\">-0.0</td></tr><tr><td class = \"rowNumber\" style = \"font-weight: bold; text-align: right;\">8</td><td style = \"text-align: right;\">8</td><td style = \"text-align: right;\">0.0</td><td style = \"text-align: right;\">0.0</td><td style = \"text-align: right;\">0.0</td><td style = \"text-align: right;\">0.0</td><td style = \"text-align: right;\">0.0</td><td style = \"text-align: right;\">0.0</td><td style = \"text-align: right;\">0.0</td><td style = \"text-align: right;\">0.0</td><td style = \"text-align: right;\">0.0</td><td style = \"text-align: right;\">0.0</td><td style = \"text-align: right;\">-0.0</td><td style = \"text-align: right;\">-0.0</td><td style = \"text-align: right;\">0.0</td><td style = \"text-align: right;\">0.0</td><td style = \"text-align: right;\">0.0</td><td style = \"text-align: right;\">0.0</td><td style = \"text-align: right;\">-0.0</td><td style = \"text-align: right;\">0.0</td><td style = \"text-align: right;\">0.0</td><td style = \"text-align: right;\">0.0</td><td style = \"text-align: right;\">-0.0</td><td style = \"text-align: right;\">-0.0</td><td style = \"text-align: right;\">-0.0</td><td style = \"text-align: right;\">-0.0</td></tr><tr><td class = \"rowNumber\" style = \"font-weight: bold; text-align: right;\">9</td><td style = \"text-align: right;\">9</td><td style = \"text-align: right;\">0.0</td><td style = \"text-align: right;\">0.0</td><td style = \"text-align: right;\">0.0</td><td style = \"text-align: right;\">0.0</td><td style = \"text-align: right;\">0.0</td><td style = \"text-align: right;\">0.0</td><td style = \"text-align: right;\">0.0</td><td style = \"text-align: right;\">0.0</td><td style = \"text-align: right;\">0.0</td><td style = \"text-align: right;\">0.0</td><td style = \"text-align: right;\">-0.0</td><td style = \"text-align: right;\">-0.0</td><td style = \"text-align: right;\">0.0</td><td style = \"text-align: right;\">0.0</td><td style = \"text-align: right;\">0.0</td><td style = \"text-align: right;\">0.0</td><td style = \"text-align: right;\">-0.0</td><td style = \"text-align: right;\">0.0</td><td style = \"text-align: right;\">0.0</td><td style = \"text-align: right;\">0.0</td><td style = \"text-align: right;\">-0.0</td><td style = \"text-align: right;\">-0.0</td><td style = \"text-align: right;\">-0.0</td><td style = \"text-align: right;\">-0.0</td></tr><tr><td class = \"rowNumber\" style = \"font-weight: bold; text-align: right;\">10</td><td style = \"text-align: right;\">10</td><td style = \"text-align: right;\">0.0</td><td style = \"text-align: right;\">0.0</td><td style = \"text-align: right;\">0.0</td><td style = \"text-align: right;\">0.0</td><td style = \"text-align: right;\">0.0</td><td style = \"text-align: right;\">0.0</td><td style = \"text-align: right;\">0.0</td><td style = \"text-align: right;\">0.0</td><td style = \"text-align: right;\">0.0</td><td style = \"text-align: right;\">0.0</td><td style = \"text-align: right;\">-0.0</td><td style = \"text-align: right;\">-0.0</td><td style = \"text-align: right;\">0.0</td><td style = \"text-align: right;\">0.0</td><td style = \"text-align: right;\">0.0</td><td style = \"text-align: right;\">0.0</td><td style = \"text-align: right;\">-0.0</td><td style = \"text-align: right;\">0.0</td><td style = \"text-align: right;\">0.0</td><td style = \"text-align: right;\">0.0</td><td style = \"text-align: right;\">-0.0</td><td style = \"text-align: right;\">-0.0</td><td style = \"text-align: right;\">-0.0</td><td style = \"text-align: right;\">-0.0</td></tr><tr><td class = \"rowNumber\" style = \"font-weight: bold; text-align: right;\">11</td><td style = \"text-align: right;\">11</td><td style = \"text-align: right;\">0.0</td><td style = \"text-align: right;\">0.0</td><td style = \"text-align: right;\">0.0</td><td style = \"text-align: right;\">0.0</td><td style = \"text-align: right;\">0.0</td><td style = \"text-align: right;\">0.0</td><td style = \"text-align: right;\">0.0</td><td style = \"text-align: right;\">0.0</td><td style = \"text-align: right;\">0.0</td><td style = \"text-align: right;\">0.0</td><td style = \"text-align: right;\">-0.0</td><td style = \"text-align: right;\">-0.0</td><td style = \"text-align: right;\">0.0</td><td style = \"text-align: right;\">0.0</td><td style = \"text-align: right;\">0.0</td><td style = \"text-align: right;\">0.0</td><td style = \"text-align: right;\">-0.0</td><td style = \"text-align: right;\">0.0</td><td style = \"text-align: right;\">0.0</td><td style = \"text-align: right;\">0.0</td><td style = \"text-align: right;\">-0.0</td><td style = \"text-align: right;\">-0.0</td><td style = \"text-align: right;\">-0.0</td><td style = \"text-align: right;\">-0.0</td></tr><tr><td class = \"rowNumber\" style = \"font-weight: bold; text-align: right;\">12</td><td style = \"text-align: right;\">12</td><td style = \"text-align: right;\">0.0</td><td style = \"text-align: right;\">0.0</td><td style = \"text-align: right;\">0.0</td><td style = \"text-align: right;\">0.0</td><td style = \"text-align: right;\">0.0</td><td style = \"text-align: right;\">0.0</td><td style = \"text-align: right;\">0.0</td><td style = \"text-align: right;\">0.0</td><td style = \"text-align: right;\">0.0</td><td style = \"text-align: right;\">0.0</td><td style = \"text-align: right;\">-0.0</td><td style = \"text-align: right;\">-0.0</td><td style = \"text-align: right;\">0.0</td><td style = \"text-align: right;\">0.0</td><td style = \"text-align: right;\">0.0</td><td style = \"text-align: right;\">0.0</td><td style = \"text-align: right;\">-0.0</td><td style = \"text-align: right;\">0.0</td><td style = \"text-align: right;\">0.0</td><td style = \"text-align: right;\">0.0</td><td style = \"text-align: right;\">-0.0</td><td style = \"text-align: right;\">-0.0</td><td style = \"text-align: right;\">-0.0</td><td style = \"text-align: right;\">-0.0</td></tr><tr><td class = \"rowNumber\" style = \"font-weight: bold; text-align: right;\">13</td><td style = \"text-align: right;\">13</td><td style = \"text-align: right;\">0.0</td><td style = \"text-align: right;\">0.0</td><td style = \"text-align: right;\">0.0</td><td style = \"text-align: right;\">0.0</td><td style = \"text-align: right;\">0.0</td><td style = \"text-align: right;\">0.0</td><td style = \"text-align: right;\">0.0</td><td style = \"text-align: right;\">0.0</td><td style = \"text-align: right;\">0.0</td><td style = \"text-align: right;\">0.0</td><td style = \"text-align: right;\">-0.0</td><td style = \"text-align: right;\">-0.0</td><td style = \"text-align: right;\">0.0</td><td style = \"text-align: right;\">0.0</td><td style = \"text-align: right;\">0.0</td><td style = \"text-align: right;\">0.0</td><td style = \"text-align: right;\">-0.0</td><td style = \"text-align: right;\">0.0</td><td style = \"text-align: right;\">0.0</td><td style = \"text-align: right;\">0.0</td><td style = \"text-align: right;\">-0.0</td><td style = \"text-align: right;\">-0.0</td><td style = \"text-align: right;\">-0.0</td><td style = \"text-align: right;\">-0.0</td></tr><tr><td class = \"rowNumber\" style = \"font-weight: bold; text-align: right;\">14</td><td style = \"text-align: right;\">14</td><td style = \"text-align: right;\">0.0</td><td style = \"text-align: right;\">0.0</td><td style = \"text-align: right;\">0.0</td><td style = \"text-align: right;\">0.0</td><td style = \"text-align: right;\">0.0</td><td style = \"text-align: right;\">0.0</td><td style = \"text-align: right;\">0.0</td><td style = \"text-align: right;\">0.0</td><td style = \"text-align: right;\">0.0</td><td style = \"text-align: right;\">0.0</td><td style = \"text-align: right;\">-0.0</td><td style = \"text-align: right;\">-0.0</td><td style = \"text-align: right;\">0.0</td><td style = \"text-align: right;\">0.0</td><td style = \"text-align: right;\">0.0</td><td style = \"text-align: right;\">0.0</td><td style = \"text-align: right;\">-0.0</td><td style = \"text-align: right;\">0.0</td><td style = \"text-align: right;\">0.0</td><td style = \"text-align: right;\">0.0</td><td style = \"text-align: right;\">-0.0</td><td style = \"text-align: right;\">-0.0</td><td style = \"text-align: right;\">-0.0</td><td style = \"text-align: right;\">-0.0</td></tr><tr><td class = \"rowNumber\" style = \"font-weight: bold; text-align: right;\">15</td><td style = \"text-align: right;\">15</td><td style = \"text-align: right;\">0.0</td><td style = \"text-align: right;\">0.0</td><td style = \"text-align: right;\">0.0</td><td style = \"text-align: right;\">0.0</td><td style = \"text-align: right;\">0.0</td><td style = \"text-align: right;\">0.0</td><td style = \"text-align: right;\">0.0</td><td style = \"text-align: right;\">0.0</td><td style = \"text-align: right;\">0.0</td><td style = \"text-align: right;\">0.0</td><td style = \"text-align: right;\">-0.0</td><td style = \"text-align: right;\">-0.0</td><td style = \"text-align: right;\">0.0</td><td style = \"text-align: right;\">0.0</td><td style = \"text-align: right;\">0.0</td><td style = \"text-align: right;\">0.0</td><td style = \"text-align: right;\">-0.0</td><td style = \"text-align: right;\">0.0</td><td style = \"text-align: right;\">0.0</td><td style = \"text-align: right;\">0.0</td><td style = \"text-align: right;\">-0.0</td><td style = \"text-align: right;\">-0.0</td><td style = \"text-align: right;\">-0.0</td><td style = \"text-align: right;\">-0.0</td></tr><tr><td class = \"rowNumber\" style = \"font-weight: bold; text-align: right;\">16</td><td style = \"text-align: right;\">16</td><td style = \"text-align: right;\">0.0</td><td style = \"text-align: right;\">0.0</td><td style = \"text-align: right;\">0.0</td><td style = \"text-align: right;\">0.0</td><td style = \"text-align: right;\">0.0</td><td style = \"text-align: right;\">0.0</td><td style = \"text-align: right;\">0.0</td><td style = \"text-align: right;\">0.0</td><td style = \"text-align: right;\">0.0</td><td style = \"text-align: right;\">0.0</td><td style = \"text-align: right;\">-0.0</td><td style = \"text-align: right;\">-0.0</td><td style = \"text-align: right;\">0.0</td><td style = \"text-align: right;\">0.0</td><td style = \"text-align: right;\">0.0</td><td style = \"text-align: right;\">0.0</td><td style = \"text-align: right;\">-0.0</td><td style = \"text-align: right;\">0.0</td><td style = \"text-align: right;\">0.0</td><td style = \"text-align: right;\">0.0</td><td style = \"text-align: right;\">-0.0</td><td style = \"text-align: right;\">-0.0</td><td style = \"text-align: right;\">-0.0</td><td style = \"text-align: right;\">-0.0</td></tr><tr><td class = \"rowNumber\" style = \"font-weight: bold; text-align: right;\">17</td><td style = \"text-align: right;\">17</td><td style = \"text-align: right;\">0.0</td><td style = \"text-align: right;\">0.0</td><td style = \"text-align: right;\">0.0</td><td style = \"text-align: right;\">0.0</td><td style = \"text-align: right;\">0.0</td><td style = \"text-align: right;\">0.0</td><td style = \"text-align: right;\">0.0</td><td style = \"text-align: right;\">0.0</td><td style = \"text-align: right;\">0.0</td><td style = \"text-align: right;\">0.0</td><td style = \"text-align: right;\">-0.0</td><td style = \"text-align: right;\">-0.0</td><td style = \"text-align: right;\">0.0</td><td style = \"text-align: right;\">0.0</td><td style = \"text-align: right;\">0.0</td><td style = \"text-align: right;\">0.0</td><td style = \"text-align: right;\">-0.0</td><td style = \"text-align: right;\">0.0</td><td style = \"text-align: right;\">0.0</td><td style = \"text-align: right;\">0.0</td><td style = \"text-align: right;\">-0.0</td><td style = \"text-align: right;\">-0.0</td><td style = \"text-align: right;\">-0.0</td><td style = \"text-align: right;\">-0.0</td></tr><tr><td class = \"rowNumber\" style = \"font-weight: bold; text-align: right;\">18</td><td style = \"text-align: right;\">18</td><td style = \"text-align: right;\">0.0</td><td style = \"text-align: right;\">0.0</td><td style = \"text-align: right;\">0.0</td><td style = \"text-align: right;\">0.0</td><td style = \"text-align: right;\">0.0</td><td style = \"text-align: right;\">0.0</td><td style = \"text-align: right;\">0.0</td><td style = \"text-align: right;\">0.0</td><td style = \"text-align: right;\">0.0</td><td style = \"text-align: right;\">0.0</td><td style = \"text-align: right;\">-0.0</td><td style = \"text-align: right;\">-0.0</td><td style = \"text-align: right;\">0.0</td><td style = \"text-align: right;\">0.0</td><td style = \"text-align: right;\">0.0</td><td style = \"text-align: right;\">0.0</td><td style = \"text-align: right;\">-0.0</td><td style = \"text-align: right;\">0.0</td><td style = \"text-align: right;\">0.0</td><td style = \"text-align: right;\">0.0</td><td style = \"text-align: right;\">-0.0</td><td style = \"text-align: right;\">-0.0</td><td style = \"text-align: right;\">-0.0</td><td style = \"text-align: right;\">-0.0</td></tr><tr><td class = \"rowNumber\" style = \"font-weight: bold; text-align: right;\">19</td><td style = \"text-align: right;\">19</td><td style = \"text-align: right;\">0.0</td><td style = \"text-align: right;\">0.0</td><td style = \"text-align: right;\">0.0</td><td style = \"text-align: right;\">0.0</td><td style = \"text-align: right;\">0.0</td><td style = \"text-align: right;\">0.0</td><td style = \"text-align: right;\">0.0</td><td style = \"text-align: right;\">0.0</td><td style = \"text-align: right;\">0.0</td><td style = \"text-align: right;\">0.0</td><td style = \"text-align: right;\">-0.0</td><td style = \"text-align: right;\">-0.0</td><td style = \"text-align: right;\">0.0</td><td style = \"text-align: right;\">0.0</td><td style = \"text-align: right;\">0.0</td><td style = \"text-align: right;\">0.0</td><td style = \"text-align: right;\">-0.0</td><td style = \"text-align: right;\">0.0</td><td style = \"text-align: right;\">0.0</td><td style = \"text-align: right;\">0.0</td><td style = \"text-align: right;\">-0.0</td><td style = \"text-align: right;\">-0.0</td><td style = \"text-align: right;\">-0.0</td><td style = \"text-align: right;\">-0.0</td></tr><tr><td class = \"rowNumber\" style = \"font-weight: bold; text-align: right;\">20</td><td style = \"text-align: right;\">20</td><td style = \"text-align: right;\">0.0</td><td style = \"text-align: right;\">0.0</td><td style = \"text-align: right;\">0.0</td><td style = \"text-align: right;\">0.0</td><td style = \"text-align: right;\">0.0</td><td style = \"text-align: right;\">0.0</td><td style = \"text-align: right;\">0.0</td><td style = \"text-align: right;\">0.0</td><td style = \"text-align: right;\">0.0</td><td style = \"text-align: right;\">0.0</td><td style = \"text-align: right;\">-0.0</td><td style = \"text-align: right;\">-0.0</td><td style = \"text-align: right;\">0.0</td><td style = \"text-align: right;\">0.0</td><td style = \"text-align: right;\">0.0</td><td style = \"text-align: right;\">0.0</td><td style = \"text-align: right;\">-0.0</td><td style = \"text-align: right;\">0.0</td><td style = \"text-align: right;\">0.0</td><td style = \"text-align: right;\">0.0</td><td style = \"text-align: right;\">-0.0</td><td style = \"text-align: right;\">-0.0</td><td style = \"text-align: right;\">-0.0</td><td style = \"text-align: right;\">-0.0</td></tr><tr><td class = \"rowNumber\" style = \"font-weight: bold; text-align: right;\">21</td><td style = \"text-align: right;\">21</td><td style = \"text-align: right;\">0.0</td><td style = \"text-align: right;\">0.0</td><td style = \"text-align: right;\">0.0</td><td style = \"text-align: right;\">0.0</td><td style = \"text-align: right;\">0.0</td><td style = \"text-align: right;\">0.0</td><td style = \"text-align: right;\">0.0</td><td style = \"text-align: right;\">0.0</td><td style = \"text-align: right;\">0.0</td><td style = \"text-align: right;\">0.0</td><td style = \"text-align: right;\">-0.0</td><td style = \"text-align: right;\">-0.0</td><td style = \"text-align: right;\">0.0</td><td style = \"text-align: right;\">0.0</td><td style = \"text-align: right;\">0.0</td><td style = \"text-align: right;\">0.0</td><td style = \"text-align: right;\">-0.0</td><td style = \"text-align: right;\">0.0</td><td style = \"text-align: right;\">0.0</td><td style = \"text-align: right;\">0.0</td><td style = \"text-align: right;\">-0.0</td><td style = \"text-align: right;\">-0.0</td><td style = \"text-align: right;\">-0.0</td><td style = \"text-align: right;\">-0.0</td></tr><tr><td class = \"rowNumber\" style = \"font-weight: bold; text-align: right;\">22</td><td style = \"text-align: right;\">22</td><td style = \"text-align: right;\">0.0</td><td style = \"text-align: right;\">0.0</td><td style = \"text-align: right;\">0.0</td><td style = \"text-align: right;\">0.0</td><td style = \"text-align: right;\">0.0</td><td style = \"text-align: right;\">0.0</td><td style = \"text-align: right;\">0.0</td><td style = \"text-align: right;\">0.0</td><td style = \"text-align: right;\">0.0</td><td style = \"text-align: right;\">0.0</td><td style = \"text-align: right;\">-0.0</td><td style = \"text-align: right;\">-0.0</td><td style = \"text-align: right;\">0.0</td><td style = \"text-align: right;\">0.0</td><td style = \"text-align: right;\">0.0</td><td style = \"text-align: right;\">0.0</td><td style = \"text-align: right;\">-0.0</td><td style = \"text-align: right;\">0.0</td><td style = \"text-align: right;\">0.0</td><td style = \"text-align: right;\">0.0</td><td style = \"text-align: right;\">-0.0</td><td style = \"text-align: right;\">-0.0</td><td style = \"text-align: right;\">-0.0</td><td style = \"text-align: right;\">-0.0</td></tr><tr><td class = \"rowNumber\" style = \"font-weight: bold; text-align: right;\">23</td><td style = \"text-align: right;\">23</td><td style = \"text-align: right;\">0.0</td><td style = \"text-align: right;\">0.0</td><td style = \"text-align: right;\">0.0</td><td style = \"text-align: right;\">0.0</td><td style = \"text-align: right;\">0.0</td><td style = \"text-align: right;\">0.0</td><td style = \"text-align: right;\">0.0</td><td style = \"text-align: right;\">0.0</td><td style = \"text-align: right;\">0.0</td><td style = \"text-align: right;\">0.0</td><td style = \"text-align: right;\">-0.0</td><td style = \"text-align: right;\">-0.0</td><td style = \"text-align: right;\">0.0</td><td style = \"text-align: right;\">0.0</td><td style = \"text-align: right;\">0.0</td><td style = \"text-align: right;\">0.0</td><td style = \"text-align: right;\">-0.0</td><td style = \"text-align: right;\">0.0</td><td style = \"text-align: right;\">0.0</td><td style = \"text-align: right;\">0.0</td><td style = \"text-align: right;\">-0.0</td><td style = \"text-align: right;\">-0.0</td><td style = \"text-align: right;\">-0.0</td><td style = \"text-align: right;\">-0.0</td></tr><tr><td class = \"rowNumber\" style = \"font-weight: bold; text-align: right;\">24</td><td style = \"text-align: right;\">24</td><td style = \"text-align: right;\">0.0</td><td style = \"text-align: right;\">0.0</td><td style = \"text-align: right;\">0.0</td><td style = \"text-align: right;\">0.0</td><td style = \"text-align: right;\">0.0</td><td style = \"text-align: right;\">0.0</td><td style = \"text-align: right;\">0.0</td><td style = \"text-align: right;\">0.0</td><td style = \"text-align: right;\">0.0</td><td style = \"text-align: right;\">0.0</td><td style = \"text-align: right;\">-0.0</td><td style = \"text-align: right;\">-0.0</td><td style = \"text-align: right;\">0.0</td><td style = \"text-align: right;\">0.0</td><td style = \"text-align: right;\">0.0</td><td style = \"text-align: right;\">0.0</td><td style = \"text-align: right;\">-0.0</td><td style = \"text-align: right;\">0.0</td><td style = \"text-align: right;\">0.0</td><td style = \"text-align: right;\">0.0</td><td style = \"text-align: right;\">-0.0</td><td style = \"text-align: right;\">-0.0</td><td style = \"text-align: right;\">-0.0</td><td style = \"text-align: right;\">-0.0</td></tr></tbody></table></div>"
      ],
      "text/latex": [
       "\\begin{tabular}{r|cccccc}\n",
       "\t& hour & market\\_price\\_node1 & market\\_price\\_node2 & market\\_price\\_node3 & market\\_price\\_node4 & \\\\\n",
       "\t\\hline\n",
       "\t& Int64 & Float64 & Float64 & Float64 & Float64 & \\\\\n",
       "\t\\hline\n",
       "\t1 & 1 & 0.0 & 0.0 & 0.0 & 0.0 & $\\dots$ \\\\\n",
       "\t2 & 2 & 0.0 & 0.0 & 0.0 & 0.0 & $\\dots$ \\\\\n",
       "\t3 & 3 & 0.0 & 0.0 & 0.0 & 0.0 & $\\dots$ \\\\\n",
       "\t4 & 4 & 0.0 & 0.0 & 0.0 & 0.0 & $\\dots$ \\\\\n",
       "\t5 & 5 & 0.0 & 0.0 & 0.0 & 0.0 & $\\dots$ \\\\\n",
       "\t6 & 6 & 0.0 & 0.0 & 0.0 & 0.0 & $\\dots$ \\\\\n",
       "\t7 & 7 & 0.0 & 0.0 & 0.0 & 0.0 & $\\dots$ \\\\\n",
       "\t8 & 8 & 0.0 & 0.0 & 0.0 & 0.0 & $\\dots$ \\\\\n",
       "\t9 & 9 & 0.0 & 0.0 & 0.0 & 0.0 & $\\dots$ \\\\\n",
       "\t10 & 10 & 0.0 & 0.0 & 0.0 & 0.0 & $\\dots$ \\\\\n",
       "\t11 & 11 & 0.0 & 0.0 & 0.0 & 0.0 & $\\dots$ \\\\\n",
       "\t12 & 12 & 0.0 & 0.0 & 0.0 & 0.0 & $\\dots$ \\\\\n",
       "\t13 & 13 & 0.0 & 0.0 & 0.0 & 0.0 & $\\dots$ \\\\\n",
       "\t14 & 14 & 0.0 & 0.0 & 0.0 & 0.0 & $\\dots$ \\\\\n",
       "\t15 & 15 & 0.0 & 0.0 & 0.0 & 0.0 & $\\dots$ \\\\\n",
       "\t16 & 16 & 0.0 & 0.0 & 0.0 & 0.0 & $\\dots$ \\\\\n",
       "\t17 & 17 & 0.0 & 0.0 & 0.0 & 0.0 & $\\dots$ \\\\\n",
       "\t18 & 18 & 0.0 & 0.0 & 0.0 & 0.0 & $\\dots$ \\\\\n",
       "\t19 & 19 & 0.0 & 0.0 & 0.0 & 0.0 & $\\dots$ \\\\\n",
       "\t20 & 20 & 0.0 & 0.0 & 0.0 & 0.0 & $\\dots$ \\\\\n",
       "\t21 & 21 & 0.0 & 0.0 & 0.0 & 0.0 & $\\dots$ \\\\\n",
       "\t22 & 22 & 0.0 & 0.0 & 0.0 & 0.0 & $\\dots$ \\\\\n",
       "\t23 & 23 & 0.0 & 0.0 & 0.0 & 0.0 & $\\dots$ \\\\\n",
       "\t24 & 24 & 0.0 & 0.0 & 0.0 & 0.0 & $\\dots$ \\\\\n",
       "\\end{tabular}\n"
      ],
      "text/plain": [
       "\u001b[1m24×25 DataFrame\u001b[0m\n",
       "\u001b[1m Row \u001b[0m│\u001b[1m hour  \u001b[0m\u001b[1m market_price_node1 \u001b[0m\u001b[1m market_price_node2 \u001b[0m\u001b[1m market_price_node3 \u001b[0m\u001b[1m mark\u001b[0m ⋯\n",
       "     │\u001b[90m Int64 \u001b[0m\u001b[90m Float64            \u001b[0m\u001b[90m Float64            \u001b[0m\u001b[90m Float64            \u001b[0m\u001b[90m Floa\u001b[0m ⋯\n",
       "─────┼──────────────────────────────────────────────────────────────────────────\n",
       "   1 │     1                 0.0                 0.0                 0.0       ⋯\n",
       "   2 │     2                 0.0                 0.0                 0.0\n",
       "   3 │     3                 0.0                 0.0                 0.0\n",
       "   4 │     4                 0.0                 0.0                 0.0\n",
       "   5 │     5                 0.0                 0.0                 0.0       ⋯\n",
       "   6 │     6                 0.0                 0.0                 0.0\n",
       "   7 │     7                 0.0                 0.0                 0.0\n",
       "   8 │     8                 0.0                 0.0                 0.0\n",
       "  ⋮  │   ⋮            ⋮                   ⋮                   ⋮                ⋱\n",
       "  18 │    18                 0.0                 0.0                 0.0       ⋯\n",
       "  19 │    19                 0.0                 0.0                 0.0\n",
       "  20 │    20                 0.0                 0.0                 0.0\n",
       "  21 │    21                 0.0                 0.0                 0.0\n",
       "  22 │    22                 0.0                 0.0                 0.0       ⋯\n",
       "  23 │    23                 0.0                 0.0                 0.0\n",
       "  24 │    24                 0.0                 0.0                 0.0\n",
       "\u001b[36m                                                   21 columns and 9 rows omitted\u001b[0m"
      ]
     },
     "metadata": {},
     "output_type": "display_data"
    }
   ],
   "source": [
    "equilibrium_df"
   ]
  },
  {
   "cell_type": "code",
   "execution_count": 45,
   "metadata": {},
   "outputs": [
    {
     "ename": "ArgumentError",
     "evalue": "ArgumentError: column name :market_price not found in the data frame",
     "output_type": "error",
     "traceback": [
      "ArgumentError: column name :market_price not found in the data frame\n",
      "\n",
      "Stacktrace:\n",
      " [1] lookupname\n",
      "   @ C:\\Users\\janle\\.julia\\packages\\DataFrames\\58MUJ\\src\\other\\index.jl:413 [inlined]\n",
      " [2] getindex\n",
      "   @ C:\\Users\\janle\\.julia\\packages\\DataFrames\\58MUJ\\src\\other\\index.jl:422 [inlined]\n",
      " [3] getindex(df::DataFrame, #unused#::typeof(!), col_ind::Symbol)\n",
      "   @ DataFrames C:\\Users\\janle\\.julia\\packages\\DataFrames\\58MUJ\\src\\dataframe\\dataframe.jl:557\n",
      " [4] getproperty(df::DataFrame, col_ind::Symbol)\n",
      "   @ DataFrames C:\\Users\\janle\\.julia\\packages\\DataFrames\\58MUJ\\src\\abstractdataframe\\abstractdataframe.jl:431\n",
      " [5] top-level scope\n",
      "   @ c:\\Users\\janle\\Desktop\\Master_local\\2\\renewables_in_electricity_markets\\Task4\\model4_nodal.ipynb:3"
     ]
    }
   ],
   "source": [
    "#plot equilibrium_df market_price in a line plot\n",
    "using Plots\n",
    "plot(equilibrium_df.hour, equilibrium_df.market_price, label=\"Market Price\", xlabel=\"Hour\", ylabel=\"Price\", title=\"Market Price by Hour\", lw=2)"
   ]
  },
  {
   "cell_type": "code",
   "execution_count": 46,
   "metadata": {},
   "outputs": [
    {
     "ename": "ArgumentError",
     "evalue": "ArgumentError: column name :market_quantity not found in the data frame",
     "output_type": "error",
     "traceback": [
      "ArgumentError: column name :market_quantity not found in the data frame\n",
      "\n",
      "Stacktrace:\n",
      " [1] lookupname\n",
      "   @ C:\\Users\\janle\\.julia\\packages\\DataFrames\\58MUJ\\src\\other\\index.jl:413 [inlined]\n",
      " [2] getindex\n",
      "   @ C:\\Users\\janle\\.julia\\packages\\DataFrames\\58MUJ\\src\\other\\index.jl:422 [inlined]\n",
      " [3] getindex(df::DataFrame, #unused#::typeof(!), col_ind::Symbol)\n",
      "   @ DataFrames C:\\Users\\janle\\.julia\\packages\\DataFrames\\58MUJ\\src\\dataframe\\dataframe.jl:557\n",
      " [4] getproperty(df::DataFrame, col_ind::Symbol)\n",
      "   @ DataFrames C:\\Users\\janle\\.julia\\packages\\DataFrames\\58MUJ\\src\\abstractdataframe\\abstractdataframe.jl:431\n",
      " [5] top-level scope\n",
      "   @ c:\\Users\\janle\\Desktop\\Master_local\\2\\renewables_in_electricity_markets\\Task4\\model4_nodal.ipynb:2"
     ]
    }
   ],
   "source": [
    "#plot equilibrium_df market_quantity in a bar chart\n",
    "bar(equilibrium_df.hour, equilibrium_df.market_quantity, label=\"Market Quantity\", xlabel=\"Hour\", ylabel=\"Quantity\", title=\"Market Quantity by Hour\")"
   ]
  },
  {
   "cell_type": "code",
   "execution_count": 47,
   "metadata": {},
   "outputs": [
    {
     "data": {
      "text/plain": [
       "\"results/market_clearing_model2.csv\""
      ]
     },
     "metadata": {},
     "output_type": "display_data"
    }
   ],
   "source": [
    "#save result_df to csv\n",
    "CSV.write(\"results/market_clearing_model2.csv\", result_df)"
   ]
  }
 ],
 "metadata": {
  "kernelspec": {
   "display_name": "Julia 1.9.3",
   "language": "julia",
   "name": "julia-1.9"
  },
  "language_info": {
   "file_extension": ".jl",
   "mimetype": "application/julia",
   "name": "julia",
   "version": "1.9.3"
  }
 },
 "nbformat": 4,
 "nbformat_minor": 2
}
