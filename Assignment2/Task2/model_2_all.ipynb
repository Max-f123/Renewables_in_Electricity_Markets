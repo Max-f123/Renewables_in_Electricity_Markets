{
 "cells": [
  {
   "cell_type": "code",
   "execution_count": 11,
   "metadata": {},
   "outputs": [],
   "source": [
    "using JuMP, GLPK\n",
    "using DataFrames\n",
    "using CSV\n",
    "using PrettyTables\n",
    "using Random\n",
    "using Plots"
   ]
  },
  {
   "cell_type": "code",
   "execution_count": 12,
   "metadata": {},
   "outputs": [
    {
     "data": {
      "text/plain": [
       "50"
      ]
     },
     "metadata": {},
     "output_type": "display_data"
    }
   ],
   "source": [
    "scenarios_df = CSV.read(\"load_profiles.csv\", DataFrame)\n",
    "n_scenarios = size(scenarios_df, 2)\n",
    "M = 10000\n",
    "in_sample_n = 50"
   ]
  },
  {
   "cell_type": "markdown",
   "metadata": {},
   "source": [
    "# Task 2.1"
   ]
  },
  {
   "cell_type": "code",
   "execution_count": 13,
   "metadata": {},
   "outputs": [
    {
     "data": {
      "text/plain": [
       "also_x_function (generic function with 1 method)"
      ]
     },
     "metadata": {},
     "output_type": "display_data"
    }
   ],
   "source": [
    "#define function\n",
    "function also_x_loop(q)\n",
    "    # Create a new model with GLPK solver\n",
    "    model = Model(GLPK.Optimizer)\n",
    "\n",
    "    @variable(model, cap_bid)\n",
    "    @variable(model, bin_var[1:60, 1:in_sample_n])\n",
    "\n",
    "    @constraint(model, cap_bid >= 0)\n",
    "\n",
    "\n",
    "    for scenario in 1:in_sample_n\n",
    "        for minute in 1:60\n",
    "            @constraint(model, cap_bid - scenarios_df[minute, scenario] <= M * bin_var[minute, scenario])\n",
    "            @constraint(model, bin_var[minute, scenario] <= 1)\n",
    "            @constraint(model, bin_var[minute, scenario] >= 0)\n",
    "        end\n",
    "    end\n",
    "    @constraint(model, sum(bin_var[minute, scenario] for scenario in 1:in_sample_n, minute in 1:60) <= q)\n",
    "\n",
    "    # Define the objective function\n",
    "    @objective(model, Max, cap_bid)\n",
    "\n",
    "    # Solve the model\n",
    "    optimize!(model)\n",
    "\n",
    "    # Check the status of the solution\n",
    "    status = termination_status(model)\n",
    "    if status == MOI.OPTIMAL\n",
    "        #println(\"Optimal solution found\")\n",
    "        #println(\"Optimal solution cap_bid by also_x: \", value(cap_bid))\n",
    "    elseif status == MOI.INFEASIBLE\n",
    "        println(\"No feasible solution found\")\n",
    "    else\n",
    "        println(\"Solver status: \", status)\n",
    "    end\n",
    "    return JuMP.value.(bin_var), JuMP.value(cap_bid)\n",
    "end\n",
    "\n",
    "function also_x_function(p_value)\n",
    "\n",
    "    stopping_parameter = 0.0001\n",
    "\n",
    "    lwr_q = 0\n",
    "    upr_q = (1-p_value)*in_sample_n*60\n",
    "    counter = 0\n",
    "\n",
    "    while upr_q - lwr_q >= stopping_parameter\n",
    "        q = (lwr_q + upr_q)/2\n",
    "        bin_var, cap_bid = also_x_loop(q)\n",
    "        num_zeros = count(x -> x == 0, bin_var)\n",
    "        #println(\"q: \", q, \" num_zeros: \", num_zeros)\n",
    "\n",
    "        if num_zeros/length(bin_var) >= p_value\n",
    "            lwr_q = q\n",
    "        else\n",
    "            upr_q = q\n",
    "        end\n",
    "\n",
    "        if upr_q - lwr_q < stopping_parameter\n",
    "            #println(\"q: \", q, \" num_zeros: \", num_zeros)\n",
    "            println(\"Optimal solution cap_bid by Also_X: \", value(cap_bid))\n",
    "            return cap_bid\n",
    "        end\n",
    "\n",
    "        # if counter > 100\n",
    "        #     #println(\"q: \", q, \" num_zeros: \", num_zeros)\n",
    "        #     println(\"Optimal solution cap_bid by Also_X: \", value(cap_bid))\n",
    "        #     return cap_bid\n",
    "        # end\n",
    "        counter += 1\n",
    "    end\n",
    "end"
   ]
  },
  {
   "cell_type": "code",
   "execution_count": 14,
   "metadata": {},
   "outputs": [
    {
     "data": {
      "text/plain": [
       "cvar_function (generic function with 1 method)"
      ]
     },
     "metadata": {},
     "output_type": "display_data"
    }
   ],
   "source": [
    "function cvar_function(p_value)\n",
    "    # Create a new model with GLPK solver\n",
    "    model = Model(GLPK.Optimizer)\n",
    "\n",
    "    @variable(model, cap_bid)\n",
    "    @variable(model, beta <= 0)\n",
    "    @variable(model, theta[1:60, 1:in_sample_n])\n",
    "\n",
    "    @constraint(model, cap_bid >= 0)\n",
    "\n",
    "    for scenario in 1:in_sample_n\n",
    "        for minute in 1:60\n",
    "            @constraint(model, cap_bid - scenarios_df[minute, scenario] <= theta[minute, scenario])\n",
    "            @constraint(model, beta <= theta[minute, scenario])\n",
    "        end\n",
    "    end\n",
    "    @constraint(model, (1/(60*in_sample_n))*sum(theta[minute, scenario] for scenario in 1:in_sample_n, minute in 1:60) <= p_value*beta) \n",
    "\n",
    "    # Define the objective function\n",
    "    @objective(model, Max, cap_bid)\n",
    "\n",
    "    # Solve the model\n",
    "    optimize!(model)\n",
    "\n",
    "    # Check the status of the solution\n",
    "    status = termination_status(model)\n",
    "    if status == MOI.OPTIMAL\n",
    "        #println(\"Optimal solution found\")\n",
    "        println(\"Optimal solution cap_bid by C_Var: \", value(cap_bid))\n",
    "    elseif status == MOI.INFEASIBLE\n",
    "        println(\"No feasible solution found\")\n",
    "    else\n",
    "        println(\"Solver status: \", status)\n",
    "    end\n",
    "\n",
    "    return value(cap_bid)\n",
    "end"
   ]
  },
  {
   "cell_type": "code",
   "execution_count": 15,
   "metadata": {},
   "outputs": [
    {
     "name": "stdout",
     "output_type": "stream",
     "text": [
      "Optimal solution cap_bid by Also_X: 321.8061393650475\n",
      "Optimal solution cap_bid by C_Var: 296.4980071934071\n"
     ]
    },
    {
     "data": {
      "text/plain": [
       "296.4980071934071"
      ]
     },
     "metadata": {},
     "output_type": "display_data"
    }
   ],
   "source": [
    "p_value = 0.9\n",
    "also_x_value = also_x_function(p_value)\n",
    "cvar_value = cvar_function(p_value)"
   ]
  },
  {
   "cell_type": "markdown",
   "metadata": {},
   "source": [
    "# Task 2.2"
   ]
  },
  {
   "cell_type": "code",
   "execution_count": 23,
   "metadata": {},
   "outputs": [
    {
     "data": {
      "text/plain": [
       "in_sample_test (generic function with 1 method)"
      ]
     },
     "metadata": {},
     "output_type": "display_data"
    }
   ],
   "source": [
    "function in_sample_test(p_value, cvar_value, also_x_value)\n",
    "    below_cvar = 0\n",
    "    below_also_x = 0\n",
    "\n",
    "    out_sample_n = n_scenarios-in_sample_n\n",
    "\n",
    "    c_var_shortfall = zeros(60)\t\n",
    "    also_x_shortfall = zeros(60)\n",
    "\n",
    "    #check how many values are above the cvar_value\n",
    "    #for i in 1+in_sample_n:n_scenarios\n",
    "    for i in 1:in_sample_n\n",
    "\n",
    "        minute_values = scenarios_df[:,i]\n",
    "        \n",
    "        for minute in 1:60\n",
    "            if minute_values[minute] < cvar_value\n",
    "                #println(\"Scenario \", i, \" minute \", minute, \" value \", minute_values[minute])\n",
    "                c_var_shortfall[minute] += (cvar_value - minute_values[minute])\n",
    "            end\n",
    "            if minute_values[minute] < also_x_value\n",
    "                #println(\"Scenario \", i, \" minute \", minute, \" value \", minute_values[minute])\n",
    "                also_x_shortfall[minute] += (also_x_value - minute_values[minute])\n",
    "            end\n",
    "        end\n",
    "        below_cvar += sum(minute_values .< cvar_value)\n",
    "        below_also_x += sum(minute_values .< also_x_value)\n",
    "    end\n",
    "\n",
    "    below_cvar = below_cvar/in_sample_n/60\n",
    "    below_also_x = below_also_x/in_sample_n/60\n",
    "\n",
    "    #sum the shortfalls\n",
    "    c_var_shortfall = sum(c_var_shortfall)/in_sample_n/60\n",
    "    also_x_shortfall = sum(also_x_shortfall)/in_sample_n/60\n",
    "\n",
    "    println(\"CVaR shortfall: \", c_var_shortfall, \" Also_X shortfall: \", also_x_shortfall)\n",
    "\n",
    "    println(\"Percentage of values below CVaR: \", below_cvar)\n",
    "    println(\"Percentage of values below Also_X: \", below_also_x)\n",
    "\n",
    "    return below_cvar, below_also_x\n",
    "end"
   ]
  },
  {
   "cell_type": "code",
   "execution_count": 17,
   "metadata": {},
   "outputs": [
    {
     "data": {
      "text/plain": [
       "out_sample_test (generic function with 1 method)"
      ]
     },
     "metadata": {},
     "output_type": "display_data"
    }
   ],
   "source": [
    "function out_sample_test(p_value, cvar_value, also_x_value)\n",
    "    below_cvar = 0\n",
    "    below_also_x = 0\n",
    "\n",
    "    out_sample_n = n_scenarios-in_sample_n\n",
    "\n",
    "    c_var_shortfall = zeros(60)\t\n",
    "    also_x_shortfall = zeros(60)\n",
    "\n",
    "    #check how many values are above the cvar_value\n",
    "    for i in 1+in_sample_n:n_scenarios\n",
    "    #for i in 1:in_sample_n\n",
    "\n",
    "        minute_values = scenarios_df[:,i]\n",
    "        \n",
    "        for minute in 1:60\n",
    "            if minute_values[minute] < cvar_value\n",
    "                #println(\"Scenario \", i, \" minute \", minute, \" value \", minute_values[minute])\n",
    "                c_var_shortfall[minute] += (cvar_value - minute_values[minute])\n",
    "            end\n",
    "            if minute_values[minute] < also_x_value\n",
    "                #println(\"Scenario \", i, \" minute \", minute, \" value \", minute_values[minute])\n",
    "                also_x_shortfall[minute] += (also_x_value - minute_values[minute])\n",
    "            end\n",
    "        end\n",
    "        below_cvar += sum(minute_values .< cvar_value)\n",
    "        below_also_x += sum(minute_values .< also_x_value)\n",
    "    end\n",
    "\n",
    "    below_cvar = below_cvar/out_sample_n/60\n",
    "    below_also_x = below_also_x/out_sample_n/60\n",
    "\n",
    "    #sum the shortfalls\n",
    "    c_var_shortfall = sum(c_var_shortfall)/out_sample_n/60\n",
    "    also_x_shortfall = sum(also_x_shortfall)/out_sample_n/60\n",
    "\n",
    "    println(\"CVaR shortfall: \", c_var_shortfall, \" Also_X shortfall: \", also_x_shortfall)\n",
    "\n",
    "    println(\"Percentage of values below CVaR: \", below_cvar)\n",
    "    println(\"Percentage of values below Also_X: \", below_also_x)\n",
    "\n",
    "    return below_cvar, below_also_x\n",
    "end"
   ]
  },
  {
   "cell_type": "code",
   "execution_count": 24,
   "metadata": {},
   "outputs": [
    {
     "name": "stdout",
     "output_type": "stream",
     "text": [
      "Optimal solution cap_bid by Also_X: 321.8061393650475\n",
      "Optimal solution cap_bid by C_Var: 296.4980071934071\n",
      "CVaR shortfall: 0.8988123194512176 Also_X shortfall: 2.530813217163159\n",
      "Percentage of values below CVaR: 0.03966666666666666\n",
      "Percentage of values below Also_X: 0.1\n",
      "CVaR shortfall: 2.3909599309668716 Also_X shortfall: 4.822477417536566\n",
      "Percentage of values below CVaR: 0.07111111111111111\n",
      "Percentage of values below Also_X: 0.12877777777777777\n"
     ]
    },
    {
     "data": {
      "text/plain": [
       "(0.07111111111111111, 0.12877777777777777)"
      ]
     },
     "metadata": {},
     "output_type": "display_data"
    }
   ],
   "source": [
    "p_value = 0.9\n",
    "also_x_value = also_x_function(p_value)\n",
    "cvar_value = cvar_function(p_value)\n",
    "in_sample_test(p_value, cvar_value, also_x_value)\n",
    "out_sample_test(p_value, cvar_value, also_x_value)"
   ]
  },
  {
   "cell_type": "markdown",
   "metadata": {},
   "source": [
    "# Task 2.3"
   ]
  },
  {
   "cell_type": "code",
   "execution_count": 19,
   "metadata": {},
   "outputs": [
    {
     "name": "stdout",
     "output_type": "stream",
     "text": [
      "Optimal solution cap_bid by Also_X: 346.0413071233624\n",
      "Optimal solution cap_bid by C_Var: 320.2742191869674\n",
      "CVaR shortfall: 4.629555801922582 Also_X shortfall: 9.597381252795197\n",
      "Percentage of values below CVaR: 0.12355555555555556\n",
      "Percentage of values below Also_X: 0.27799999999999997\n",
      "Optimal solution cap_bid by Also_X: 340.4650200209225\n",
      "Optimal solution cap_bid by C_Var: 314.5286548933596\n",
      "CVaR shortfall: 3.9696574439667014 Also_X shortfall: 8.151388199614722\n",
      "Percentage of values below CVaR: 0.1061111111111111\n",
      "Percentage of values below Also_X: 0.23955555555555555\n",
      "Optimal solution cap_bid by Also_X: 333.64391520730425\n",
      "Optimal solution cap_bid by C_Var: 306.9469948124019\n",
      "CVaR shortfall: 3.2275220210025273 Also_X shortfall: 6.682135842525239\n",
      "Percentage of values below CVaR: 0.08955555555555555\n",
      "Percentage of values below Also_X: 0.19144444444444444\n",
      "Optimal solution cap_bid by Also_X: 321.8061393650475\n",
      "Optimal solution cap_bid by C_Var: 296.4980071934071\n",
      "CVaR shortfall: 2.3909599309668716 Also_X shortfall: 4.822477417536566\n",
      "Percentage of values below CVaR: 0.07111111111111111\n",
      "Percentage of values below Also_X: 0.12877777777777777\n",
      "Optimal solution cap_bid by Also_X: 303.6364140160623\n",
      "Optimal solution cap_bid by C_Var: 279.1699010793507\n",
      "CVaR shortfall: 1.372576668556468 Also_X shortfall: 2.941876109532222\n",
      "Percentage of values below CVaR: 0.04666666666666666\n",
      "Percentage of values below Also_X: 0.08288888888888889\n",
      "Optimal solution cap_bid by Also_X: 262.7954678376639\n",
      "Optimal solution cap_bid by C_Var: 247.82287907406476\n",
      "CVaR shortfall: 0.417114288603858 Also_X shortfall: 0.7585704277775502\n",
      "Percentage of values below CVaR: 0.017444444444444443\n",
      "Percentage of values below Also_X: 0.028\n"
     ]
    }
   ],
   "source": [
    "p_value_list = [0.75, 0.8, 0.85, 0.9, 0.95, 0.99]\n",
    "below_cvar_list = []\n",
    "below_also_x_list = []\n",
    "also_x_bids = []\n",
    "cvar_bids = []\n",
    "\n",
    "for p_value in p_value_list\n",
    "    also_x_value = also_x_function(p_value)\n",
    "    cvar_value = cvar_function(p_value)\n",
    "    below_cvar, below_also_x = out_sample_test(p_value, cvar_value, also_x_value)\n",
    "    push!(below_cvar_list, below_cvar)\n",
    "    push!(below_also_x_list, below_also_x)\n",
    "    push!(also_x_bids, also_x_value)\n",
    "    push!(cvar_bids, cvar_value)\n",
    "end"
   ]
  },
  {
   "cell_type": "code",
   "execution_count": 20,
   "metadata": {},
   "outputs": [
    {
     "data": {
      "text/plain": [
       "\"result_df.csv\""
      ]
     },
     "metadata": {},
     "output_type": "display_data"
    }
   ],
   "source": [
    "#make dataframe with results\n",
    "results_df = DataFrame(p_value = p_value_list, below_cvar = below_cvar_list, below_also_x = below_also_x_list, also_x_bids = also_x_bids, cvar_bids = cvar_bids)\n",
    "\n",
    "# save the data\n",
    "CSV.write(\"result_df.csv\", results_df)"
   ]
  }
 ],
 "metadata": {
  "kernelspec": {
   "display_name": "Julia 1.9.3",
   "language": "julia",
   "name": "julia-1.9"
  },
  "language_info": {
   "file_extension": ".jl",
   "mimetype": "application/julia",
   "name": "julia",
   "version": "1.9.3"
  }
 },
 "nbformat": 4,
 "nbformat_minor": 2
}
