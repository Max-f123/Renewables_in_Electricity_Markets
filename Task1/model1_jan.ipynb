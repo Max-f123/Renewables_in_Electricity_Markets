{
 "cells": [
  {
   "cell_type": "code",
   "execution_count": 31,
   "metadata": {},
   "outputs": [],
   "source": [
    "#import Pkg\n",
    "#Pkg.add(\"JuMP\")\n",
    "#Pkg.add(\"GLPK\")\n",
    "#Pkg.add(\"Gruobi\")\n",
    "#Pkg.add(\"DataFrames\")\n",
    "#Pkg.add(\"CSV\")"
   ]
  },
  {
   "cell_type": "code",
   "execution_count": 32,
   "metadata": {},
   "outputs": [],
   "source": [
    "using JuMP, GLPK\n",
    "using DataFrames\n",
    "using CSV"
   ]
  },
  {
   "cell_type": "code",
   "execution_count": 33,
   "metadata": {},
   "outputs": [
    {
     "data": {
      "text/html": [
       "<div><div style = \"float: left;\"><span>24×7 DataFrame</span></div><div style = \"clear: both;\"></div></div><div class = \"data-frame\" style = \"overflow-x: scroll;\"><table class = \"data-frame\" style = \"margin-bottom: 6px;\"><thead><tr class = \"header\"><th class = \"rowNumber\" style = \"font-weight: bold; text-align: right;\">Row</th><th style = \"text-align: left;\">Hour</th><th style = \"text-align: left;\">W1</th><th style = \"text-align: left;\">W2</th><th style = \"text-align: left;\">W3</th><th style = \"text-align: left;\">W4</th><th style = \"text-align: left;\">W5</th><th style = \"text-align: left;\">W6</th></tr><tr class = \"subheader headerLastRow\"><th class = \"rowNumber\" style = \"font-weight: bold; text-align: right;\"></th><th title = \"Int64\" style = \"text-align: left;\">Int64</th><th title = \"Float64\" style = \"text-align: left;\">Float64</th><th title = \"Float64\" style = \"text-align: left;\">Float64</th><th title = \"Float64\" style = \"text-align: left;\">Float64</th><th title = \"Float64\" style = \"text-align: left;\">Float64</th><th title = \"Float64\" style = \"text-align: left;\">Float64</th><th title = \"Float64\" style = \"text-align: left;\">Float64</th></tr></thead><tbody><tr><td class = \"rowNumber\" style = \"font-weight: bold; text-align: right;\">1</td><td style = \"text-align: right;\">1</td><td style = \"text-align: right;\">76.8921</td><td style = \"text-align: right;\">101.54</td><td style = \"text-align: right;\">92.8003</td><td style = \"text-align: right;\">95.3709</td><td style = \"text-align: right;\">96.002</td><td style = \"text-align: right;\">70.9073</td></tr><tr><td class = \"rowNumber\" style = \"font-weight: bold; text-align: right;\">2</td><td style = \"text-align: right;\">2</td><td style = \"text-align: right;\">66.8277</td><td style = \"text-align: right;\">90.9989</td><td style = \"text-align: right;\">109.167</td><td style = \"text-align: right;\">107.937</td><td style = \"text-align: right;\">103.616</td><td style = \"text-align: right;\">112.618</td></tr><tr><td class = \"rowNumber\" style = \"font-weight: bold; text-align: right;\">3</td><td style = \"text-align: right;\">3</td><td style = \"text-align: right;\">78.422</td><td style = \"text-align: right;\">116.959</td><td style = \"text-align: right;\">142.88</td><td style = \"text-align: right;\">134.78</td><td style = \"text-align: right;\">128.276</td><td style = \"text-align: right;\">133.832</td></tr><tr><td class = \"rowNumber\" style = \"font-weight: bold; text-align: right;\">4</td><td style = \"text-align: right;\">4</td><td style = \"text-align: right;\">64.1437</td><td style = \"text-align: right;\">134.249</td><td style = \"text-align: right;\">159.57</td><td style = \"text-align: right;\">133.664</td><td style = \"text-align: right;\">142.969</td><td style = \"text-align: right;\">154.233</td></tr><tr><td class = \"rowNumber\" style = \"font-weight: bold; text-align: right;\">5</td><td style = \"text-align: right;\">5</td><td style = \"text-align: right;\">102.22</td><td style = \"text-align: right;\">145.507</td><td style = \"text-align: right;\">160.944</td><td style = \"text-align: right;\">165.303</td><td style = \"text-align: right;\">144.03</td><td style = \"text-align: right;\">161.49</td></tr><tr><td class = \"rowNumber\" style = \"font-weight: bold; text-align: right;\">6</td><td style = \"text-align: right;\">6</td><td style = \"text-align: right;\">134.039</td><td style = \"text-align: right;\">131.112</td><td style = \"text-align: right;\">157.023</td><td style = \"text-align: right;\">161.828</td><td style = \"text-align: right;\">144.636</td><td style = \"text-align: right;\">155.222</td></tr><tr><td class = \"rowNumber\" style = \"font-weight: bold; text-align: right;\">7</td><td style = \"text-align: right;\">7</td><td style = \"text-align: right;\">146.517</td><td style = \"text-align: right;\">153.67</td><td style = \"text-align: right;\">141.566</td><td style = \"text-align: right;\">159.927</td><td style = \"text-align: right;\">152.86</td><td style = \"text-align: right;\">153.604</td></tr><tr><td class = \"rowNumber\" style = \"font-weight: bold; text-align: right;\">8</td><td style = \"text-align: right;\">8</td><td style = \"text-align: right;\">143.176</td><td style = \"text-align: right;\">163.392</td><td style = \"text-align: right;\">155.294</td><td style = \"text-align: right;\">170.805</td><td style = \"text-align: right;\">158.643</td><td style = \"text-align: right;\">164.307</td></tr><tr><td class = \"rowNumber\" style = \"font-weight: bold; text-align: right;\">9</td><td style = \"text-align: right;\">9</td><td style = \"text-align: right;\">163.297</td><td style = \"text-align: right;\">144.48</td><td style = \"text-align: right;\">172.638</td><td style = \"text-align: right;\">185.318</td><td style = \"text-align: right;\">150.901</td><td style = \"text-align: right;\">166.558</td></tr><tr><td class = \"rowNumber\" style = \"font-weight: bold; text-align: right;\">10</td><td style = \"text-align: right;\">10</td><td style = \"text-align: right;\">172.635</td><td style = \"text-align: right;\">104.022</td><td style = \"text-align: right;\">166.636</td><td style = \"text-align: right;\">178.014</td><td style = \"text-align: right;\">149.664</td><td style = \"text-align: right;\">150.295</td></tr><tr><td class = \"rowNumber\" style = \"font-weight: bold; text-align: right;\">11</td><td style = \"text-align: right;\">11</td><td style = \"text-align: right;\">166.935</td><td style = \"text-align: right;\">88.9871</td><td style = \"text-align: right;\">154.896</td><td style = \"text-align: right;\">187.256</td><td style = \"text-align: right;\">163.69</td><td style = \"text-align: right;\">147.406</td></tr><tr><td class = \"rowNumber\" style = \"font-weight: bold; text-align: right;\">12</td><td style = \"text-align: right;\">12</td><td style = \"text-align: right;\">161.92</td><td style = \"text-align: right;\">44.976</td><td style = \"text-align: right;\">128.268</td><td style = \"text-align: right;\">164.533</td><td style = \"text-align: right;\">154.556</td><td style = \"text-align: right;\">152.979</td></tr><tr><td class = \"rowNumber\" style = \"font-weight: bold; text-align: right;\">13</td><td style = \"text-align: right;\">13</td><td style = \"text-align: right;\">155.941</td><td style = \"text-align: right;\">29.2907</td><td style = \"text-align: right;\">125.294</td><td style = \"text-align: right;\">153.164</td><td style = \"text-align: right;\">143.349</td><td style = \"text-align: right;\">148.691</td></tr><tr><td class = \"rowNumber\" style = \"font-weight: bold; text-align: right;\">14</td><td style = \"text-align: right;\">14</td><td style = \"text-align: right;\">147.45</td><td style = \"text-align: right;\">99.6239</td><td style = \"text-align: right;\">137.481</td><td style = \"text-align: right;\">145.091</td><td style = \"text-align: right;\">149.504</td><td style = \"text-align: right;\">128.692</td></tr><tr><td class = \"rowNumber\" style = \"font-weight: bold; text-align: right;\">15</td><td style = \"text-align: right;\">15</td><td style = \"text-align: right;\">144.046</td><td style = \"text-align: right;\">119.052</td><td style = \"text-align: right;\">136.311</td><td style = \"text-align: right;\">142.282</td><td style = \"text-align: right;\">148.958</td><td style = \"text-align: right;\">97.3963</td></tr><tr><td class = \"rowNumber\" style = \"font-weight: bold; text-align: right;\">16</td><td style = \"text-align: right;\">16</td><td style = \"text-align: right;\">149.042</td><td style = \"text-align: right;\">104.619</td><td style = \"text-align: right;\">131.206</td><td style = \"text-align: right;\">145.473</td><td style = \"text-align: right;\">142.826</td><td style = \"text-align: right;\">109.022</td></tr><tr><td class = \"rowNumber\" style = \"font-weight: bold; text-align: right;\">17</td><td style = \"text-align: right;\">17</td><td style = \"text-align: right;\">136.464</td><td style = \"text-align: right;\">115.34</td><td style = \"text-align: right;\">130.63</td><td style = \"text-align: right;\">146.518</td><td style = \"text-align: right;\">139.699</td><td style = \"text-align: right;\">96.4666</td></tr><tr><td class = \"rowNumber\" style = \"font-weight: bold; text-align: right;\">18</td><td style = \"text-align: right;\">18</td><td style = \"text-align: right;\">131.297</td><td style = \"text-align: right;\">145.216</td><td style = \"text-align: right;\">134.656</td><td style = \"text-align: right;\">147.406</td><td style = \"text-align: right;\">142.942</td><td style = \"text-align: right;\">90.028</td></tr><tr><td class = \"rowNumber\" style = \"font-weight: bold; text-align: right;\">19</td><td style = \"text-align: right;\">19</td><td style = \"text-align: right;\">146.851</td><td style = \"text-align: right;\">156.859</td><td style = \"text-align: right;\">98.1546</td><td style = \"text-align: right;\">156.673</td><td style = \"text-align: right;\">132.721</td><td style = \"text-align: right;\">110.738</td></tr><tr><td class = \"rowNumber\" style = \"font-weight: bold; text-align: right;\">20</td><td style = \"text-align: right;\">20</td><td style = \"text-align: right;\">144.815</td><td style = \"text-align: right;\">163.31</td><td style = \"text-align: right;\">120.838</td><td style = \"text-align: right;\">153.6</td><td style = \"text-align: right;\">148.263</td><td style = \"text-align: right;\">131.151</td></tr><tr><td class = \"rowNumber\" style = \"font-weight: bold; text-align: right;\">21</td><td style = \"text-align: right;\">21</td><td style = \"text-align: right;\">147.298</td><td style = \"text-align: right;\">163.693</td><td style = \"text-align: right;\">138.631</td><td style = \"text-align: right;\">146.525</td><td style = \"text-align: right;\">163.368</td><td style = \"text-align: right;\">135.953</td></tr><tr><td class = \"rowNumber\" style = \"font-weight: bold; text-align: right;\">22</td><td style = \"text-align: right;\">22</td><td style = \"text-align: right;\">126.313</td><td style = \"text-align: right;\">157.048</td><td style = \"text-align: right;\">163.306</td><td style = \"text-align: right;\">154.949</td><td style = \"text-align: right;\">151.918</td><td style = \"text-align: right;\">128.113</td></tr><tr><td class = \"rowNumber\" style = \"font-weight: bold; text-align: right;\">23</td><td style = \"text-align: right;\">23</td><td style = \"text-align: right;\">124.879</td><td style = \"text-align: right;\">122.933</td><td style = \"text-align: right;\">163.273</td><td style = \"text-align: right;\">151.649</td><td style = \"text-align: right;\">160.448</td><td style = \"text-align: right;\">63.902</td></tr><tr><td class = \"rowNumber\" style = \"font-weight: bold; text-align: right;\">24</td><td style = \"text-align: right;\">24</td><td style = \"text-align: right;\">137.862</td><td style = \"text-align: right;\">152.792</td><td style = \"text-align: right;\">161.572</td><td style = \"text-align: right;\">128.656</td><td style = \"text-align: right;\">158.047</td><td style = \"text-align: right;\">32.0439</td></tr></tbody></table></div>"
      ],
      "text/latex": [
       "\\begin{tabular}{r|ccccccc}\n",
       "\t& Hour & W1 & W2 & W3 & W4 & W5 & W6\\\\\n",
       "\t\\hline\n",
       "\t& Int64 & Float64 & Float64 & Float64 & Float64 & Float64 & Float64\\\\\n",
       "\t\\hline\n",
       "\t1 & 1 & 76.8921 & 101.54 & 92.8003 & 95.3709 & 96.002 & 70.9073 \\\\\n",
       "\t2 & 2 & 66.8277 & 90.9989 & 109.167 & 107.937 & 103.616 & 112.618 \\\\\n",
       "\t3 & 3 & 78.422 & 116.959 & 142.88 & 134.78 & 128.276 & 133.832 \\\\\n",
       "\t4 & 4 & 64.1437 & 134.249 & 159.57 & 133.664 & 142.969 & 154.233 \\\\\n",
       "\t5 & 5 & 102.22 & 145.507 & 160.944 & 165.303 & 144.03 & 161.49 \\\\\n",
       "\t6 & 6 & 134.039 & 131.112 & 157.023 & 161.828 & 144.636 & 155.222 \\\\\n",
       "\t7 & 7 & 146.517 & 153.67 & 141.566 & 159.927 & 152.86 & 153.604 \\\\\n",
       "\t8 & 8 & 143.176 & 163.392 & 155.294 & 170.805 & 158.643 & 164.307 \\\\\n",
       "\t9 & 9 & 163.297 & 144.48 & 172.638 & 185.318 & 150.901 & 166.558 \\\\\n",
       "\t10 & 10 & 172.635 & 104.022 & 166.636 & 178.014 & 149.664 & 150.295 \\\\\n",
       "\t11 & 11 & 166.935 & 88.9871 & 154.896 & 187.256 & 163.69 & 147.406 \\\\\n",
       "\t12 & 12 & 161.92 & 44.976 & 128.268 & 164.533 & 154.556 & 152.979 \\\\\n",
       "\t13 & 13 & 155.941 & 29.2907 & 125.294 & 153.164 & 143.349 & 148.691 \\\\\n",
       "\t14 & 14 & 147.45 & 99.6239 & 137.481 & 145.091 & 149.504 & 128.692 \\\\\n",
       "\t15 & 15 & 144.046 & 119.052 & 136.311 & 142.282 & 148.958 & 97.3963 \\\\\n",
       "\t16 & 16 & 149.042 & 104.619 & 131.206 & 145.473 & 142.826 & 109.022 \\\\\n",
       "\t17 & 17 & 136.464 & 115.34 & 130.63 & 146.518 & 139.699 & 96.4666 \\\\\n",
       "\t18 & 18 & 131.297 & 145.216 & 134.656 & 147.406 & 142.942 & 90.028 \\\\\n",
       "\t19 & 19 & 146.851 & 156.859 & 98.1546 & 156.673 & 132.721 & 110.738 \\\\\n",
       "\t20 & 20 & 144.815 & 163.31 & 120.838 & 153.6 & 148.263 & 131.151 \\\\\n",
       "\t21 & 21 & 147.298 & 163.693 & 138.631 & 146.525 & 163.368 & 135.953 \\\\\n",
       "\t22 & 22 & 126.313 & 157.048 & 163.306 & 154.949 & 151.918 & 128.113 \\\\\n",
       "\t23 & 23 & 124.879 & 122.933 & 163.273 & 151.649 & 160.448 & 63.902 \\\\\n",
       "\t24 & 24 & 137.862 & 152.792 & 161.572 & 128.656 & 158.047 & 32.0439 \\\\\n",
       "\\end{tabular}\n"
      ],
      "text/plain": [
       "\u001b[1m24×7 DataFrame\u001b[0m\n",
       "\u001b[1m Row \u001b[0m│\u001b[1m Hour  \u001b[0m\u001b[1m W1       \u001b[0m\u001b[1m W2       \u001b[0m\u001b[1m W3       \u001b[0m\u001b[1m W4       \u001b[0m\u001b[1m W5      \u001b[0m\u001b[1m W6       \u001b[0m\n",
       "     │\u001b[90m Int64 \u001b[0m\u001b[90m Float64  \u001b[0m\u001b[90m Float64  \u001b[0m\u001b[90m Float64  \u001b[0m\u001b[90m Float64  \u001b[0m\u001b[90m Float64 \u001b[0m\u001b[90m Float64  \u001b[0m\n",
       "─────┼──────────────────────────────────────────────────────────────────\n",
       "   1 │     1   76.8921  101.54     92.8003   95.3709   96.002   70.9073\n",
       "   2 │     2   66.8277   90.9989  109.167   107.937   103.616  112.618\n",
       "   3 │     3   78.422   116.959   142.88    134.78    128.276  133.832\n",
       "   4 │     4   64.1437  134.249   159.57    133.664   142.969  154.233\n",
       "   5 │     5  102.22    145.507   160.944   165.303   144.03   161.49\n",
       "   6 │     6  134.039   131.112   157.023   161.828   144.636  155.222\n",
       "   7 │     7  146.517   153.67    141.566   159.927   152.86   153.604\n",
       "   8 │     8  143.176   163.392   155.294   170.805   158.643  164.307\n",
       "  ⋮  │   ⋮       ⋮         ⋮         ⋮         ⋮         ⋮        ⋮\n",
       "  18 │    18  131.297   145.216   134.656   147.406   142.942   90.028\n",
       "  19 │    19  146.851   156.859    98.1546  156.673   132.721  110.738\n",
       "  20 │    20  144.815   163.31    120.838   153.6     148.263  131.151\n",
       "  21 │    21  147.298   163.693   138.631   146.525   163.368  135.953\n",
       "  22 │    22  126.313   157.048   163.306   154.949   151.918  128.113\n",
       "  23 │    23  124.879   122.933   163.273   151.649   160.448   63.902\n",
       "  24 │    24  137.862   152.792   161.572   128.656   158.047   32.0439\n",
       "\u001b[36m                                                          9 rows omitted\u001b[0m"
      ]
     },
     "metadata": {},
     "output_type": "display_data"
    }
   ],
   "source": [
    "#load cost data\n",
    "con_generation = CSV.File(\"../data/conventional_generators.csv\") |> DataFrame\n",
    "\n",
    "#load wind_technicaldata\n",
    "wind_generation = CSV.File(\"../data/wind_farms.csv\") |> DataFrame\n",
    "\n",
    "# load wind profile\n",
    "wind_profile = CSV.File(\"../data/wind_powerprofile_200.csv\") |> DataFrame\n"
   ]
  },
  {
   "cell_type": "code",
   "execution_count": 34,
   "metadata": {},
   "outputs": [
    {
     "data": {
      "text/plain": [
       "4"
      ]
     },
     "metadata": {},
     "output_type": "display_data"
    }
   ],
   "source": [
    "#demand bids\n",
    "name = \"demand_hour_0.csv\"\n",
    "demand_bids = CSV.File(\"../data/demand_bids_hour/\" * name) |> DataFrame\n",
    " \n",
    "# number of convential generators\n",
    " G = size(con_generation, 1)\n",
    "\n",
    " # number of demand\n",
    " D = size(demand_bids, 1)\n",
    "\n",
    " # number of wind generators\n",
    " W = size(wind_generation, 1)"
   ]
  },
  {
   "cell_type": "code",
   "execution_count": 35,
   "metadata": {},
   "outputs": [],
   "source": [
    "# Initialize the DataFrame directly without dynamic column names\n",
    "result_df = DataFrame(hour = Int[], objective_value = Float64[])\n",
    "\n",
    "# For x variables, manually add each column. This is a one-time setup.\n",
    "for i in 1:G\n",
    "    result_df[!, Symbol(\"x_con$i\")] = Float64[]\n",
    "end\n",
    "\n",
    "# For w variables, manually add each column. This is a one-time setup.\n",
    "for i in 1:W\n",
    "    result_df[!, Symbol(\"x_wind$i\")] = Float64[]\n",
    "end\n",
    "\n",
    "# For y variables, manually add each column. This is a one-time setup.\n",
    "for i in 1:D\n",
    "    result_df[!, Symbol(\"y$i\")] = Float64[]\n",
    "end"
   ]
  },
  {
   "cell_type": "code",
   "execution_count": 36,
   "metadata": {},
   "outputs": [
    {
     "name": "stdout",
     "output_type": "stream",
     "text": [
      "Hour 1: Optimal solution found\n",
      "10.52\n",
      "Hour 2: Optimal solution found\n",
      "10.26905187546268\n",
      "Hour 3: Optimal solution found\n",
      "10.52\n",
      "Hour 4: Optimal solution found\n",
      "7.0\n",
      "Hour 5: Optimal solution found\n",
      "7.0\n"
     ]
    },
    {
     "name": "stdout",
     "output_type": "stream",
     "text": [
      "Hour 6: Optimal solution found\n",
      "8.527328469352174\n",
      "Hour 7: Optimal solution found\n",
      "10.512712364322477\n",
      "Hour 8: Optimal solution found\n",
      "9.008746858513351\n",
      "Hour 9: Optimal solution found\n",
      "7.730244978885052\n",
      "Hour 10: Optimal solution found\n",
      "10.52\n",
      "Hour 11: Optimal solution found\n",
      "10.52\n",
      "Hour 12: Optimal solution found\n",
      "10.52\n",
      "Hour 13: Optimal solution found\n",
      "10.89\n",
      "Hour 14: Optimal solution found\n",
      "10.89\n",
      "Hour 15: Optimal solution found\n",
      "11.25296892824927\n",
      "Hour 16: Optimal solution found\n",
      "10.52\n",
      "Hour 17: Optimal solution found\n",
      "10.52\n",
      "Hour 18: Optimal solution found\n",
      "13.32\n",
      "Hour 19: Optimal solution found\n",
      "10.52\n",
      "Hour 20: Optimal solution found\n",
      "11.813749279032312\n",
      "Hour 21: Optimal solution found\n",
      "7.0\n",
      "Hour 22: Optimal solution found\n",
      "10.52\n",
      "Hour 23: Optimal solution found\n",
      "10.52\n",
      "Hour 24: Optimal solution found\n",
      "7.0\n"
     ]
    }
   ],
   "source": [
    "\n",
    "for hour in 1:24\n",
    "  # Create a new model with GLPK solver\n",
    "  model = Model(GLPK.Optimizer)\n",
    "\n",
    "  # Define the decision variables for every generator\n",
    "  unregister(model, :x)  # Unregister the existing variable named \"x\" from the model\n",
    "  \n",
    "  #demand bids\n",
    "  name = \"demand_hour_\" * string(hour-1) * \".csv\"\n",
    "  demand_bids = CSV.File(\"../data/demand_bids_hour/\" * name) |> DataFrame\n",
    "\n",
    "   # number of demand\n",
    "   D = size(demand_bids, 1)\n",
    "\n",
    "   #@variable(model, x_bin[1:G], Bin)  # binary variable for on/off status\n",
    "   @variable(model, x_con[1:G])  # power output variable\n",
    "\n",
    "   for g in 1:G\n",
    "    set_lower_bound(x_con[g], 0)  # Set the lower bound\n",
    "    set_upper_bound(x_con[g], con_generation[g,6])  # Set the upper bound\n",
    "   end\n",
    "\n",
    "   # Add constraints for each plant\n",
    "  #for g in 1:G\n",
    "  #  @constraint(model, x_con[g] >= capacity[g,4] * x_bin[g])  # If plant i is on, power must be at least 15\n",
    "  #  @constraint(model, x_con[g] <= capacity[g,3] * x_bin[g])  # If plant i is on, power cannot exceed 20\n",
    "  #end\n",
    "\n",
    "  # wind decision variables\n",
    "  @variable(model, x_wind[1:W])  # Create the new variable\n",
    "  for g in 1:W\n",
    "      set_lower_bound(x_wind[g], 0)  # Set the lower bound\n",
    "      set_upper_bound(x_wind[g], wind_profile[hour,g+1])  # Set the upper bound\n",
    "  end\n",
    "\n",
    "  # decision variables for demand\n",
    "  @variable(model, y[1:size(demand_bids, 1)])  # Create the new variable\n",
    "  for bid in 1:D\n",
    "      set_lower_bound(y[bid], 0)  # Set the lower bound\n",
    "      set_upper_bound(y[bid], demand_bids[bid,2])  # Set the upper bound\n",
    "  end\n",
    "\n",
    "\n",
    "  # Define the objective function\n",
    "  @objective(model, Max, sum(demand_bids[d,3] * y[d] for d in 1:D) - sum(con_generation[g,3] * x_con[g] for g in 1:G))\n",
    "\n",
    "  # Add the constraint for the balance between supply and demand\n",
    "  @constraint(model, BalanceConstraint,  sum(x_con[g] for g in 1:G) + sum(x_wind[w] for w in 1:W) - sum(y[d] for d in 1:D) == 0)\n",
    "\n",
    "  # Print the model\n",
    "  #print(model)\n",
    "\n",
    "  # Solve the model\n",
    "  optimize!(model)\n",
    "\n",
    "  # Check the status of the solution\n",
    "  status = termination_status(model)\n",
    "  if status == MOI.OPTIMAL\n",
    "      println(\"Hour \", hour, \": Optimal solution found\")\n",
    "      #println(\"Objective value: \", objective_value(model))\n",
    "      #println(\"x values: \", [value(x[i]) for i in 1:G])\n",
    "      #println(\"x_wind values: \", [value(x_wind[i]) for i in 1:W])\n",
    "      #println(\"y values: \", [value(y[i]) for i in 1:D])\n",
    "      println(dual(BalanceConstraint))\n",
    "\n",
    "      #save results to dataframe\n",
    "      push!(result_df, [hour, objective_value(model), [value(x_con[i]) for i in 1:G]..., [value(x_wind[i]) for i in 1:W]..., [value(y[i]) for i in 1:D]...])\n",
    "\n",
    "  elseif status == MOI.INFEASIBLE\n",
    "      println(\"Hour \", hour, \": No feasible solution found\")\n",
    "  else\n",
    "      println(\"Hour \", hour, \": Solver status: \", status)\n",
    "  end\n",
    "end"
   ]
  },
  {
   "cell_type": "code",
   "execution_count": 37,
   "metadata": {},
   "outputs": [
    {
     "data": {
      "text/html": [
       "<div><div style = \"float: left;\"><span>24×35 DataFrame</span></div><div style = \"clear: both;\"></div></div><div class = \"data-frame\" style = \"overflow-x: scroll;\"><table class = \"data-frame\" style = \"margin-bottom: 6px;\"><thead><tr class = \"header\"><th class = \"rowNumber\" style = \"font-weight: bold; text-align: right;\">Row</th><th style = \"text-align: left;\">hour</th><th style = \"text-align: left;\">objective_value</th><th style = \"text-align: left;\">x_con1</th><th style = \"text-align: left;\">x_con2</th><th style = \"text-align: left;\">x_con3</th><th style = \"text-align: left;\">x_con4</th><th style = \"text-align: left;\">x_con5</th><th style = \"text-align: left;\">x_con6</th><th style = \"text-align: left;\">x_con7</th><th style = \"text-align: left;\">x_con8</th><th style = \"text-align: left;\">x_con9</th><th style = \"text-align: left;\">x_con10</th><th style = \"text-align: left;\">x_con11</th><th style = \"text-align: left;\">x_con12</th><th style = \"text-align: left;\">x_wind1</th><th style = \"text-align: left;\">x_wind2</th><th style = \"text-align: left;\">x_wind3</th><th style = \"text-align: left;\">x_wind4</th><th style = \"text-align: left;\">y1</th><th style = \"text-align: left;\">y2</th><th style = \"text-align: left;\">y3</th><th style = \"text-align: left;\">y4</th><th style = \"text-align: left;\">y5</th><th style = \"text-align: left;\">y6</th><th style = \"text-align: left;\">y7</th><th style = \"text-align: left;\">y8</th><th style = \"text-align: left;\">y9</th><th style = \"text-align: left;\">y10</th><th style = \"text-align: left;\">y11</th><th style = \"text-align: left;\">y12</th><th style = \"text-align: left;\">y13</th><th style = \"text-align: left;\">y14</th><th style = \"text-align: left;\">y15</th><th style = \"text-align: left;\">y16</th><th style = \"text-align: left;\">y17</th></tr><tr class = \"subheader headerLastRow\"><th class = \"rowNumber\" style = \"font-weight: bold; text-align: right;\"></th><th title = \"Int64\" style = \"text-align: left;\">Int64</th><th title = \"Float64\" style = \"text-align: left;\">Float64</th><th title = \"Float64\" style = \"text-align: left;\">Float64</th><th title = \"Float64\" style = \"text-align: left;\">Float64</th><th title = \"Float64\" style = \"text-align: left;\">Float64</th><th title = \"Float64\" style = \"text-align: left;\">Float64</th><th title = \"Float64\" style = \"text-align: left;\">Float64</th><th title = \"Float64\" style = \"text-align: left;\">Float64</th><th title = \"Float64\" style = \"text-align: left;\">Float64</th><th title = \"Float64\" style = \"text-align: left;\">Float64</th><th title = \"Float64\" style = \"text-align: left;\">Float64</th><th title = \"Float64\" style = \"text-align: left;\">Float64</th><th title = \"Float64\" style = \"text-align: left;\">Float64</th><th title = \"Float64\" style = \"text-align: left;\">Float64</th><th title = \"Float64\" style = \"text-align: left;\">Float64</th><th title = \"Float64\" style = \"text-align: left;\">Float64</th><th title = \"Float64\" style = \"text-align: left;\">Float64</th><th title = \"Float64\" style = \"text-align: left;\">Float64</th><th title = \"Float64\" style = \"text-align: left;\">Float64</th><th title = \"Float64\" style = \"text-align: left;\">Float64</th><th title = \"Float64\" style = \"text-align: left;\">Float64</th><th title = \"Float64\" style = \"text-align: left;\">Float64</th><th title = \"Float64\" style = \"text-align: left;\">Float64</th><th title = \"Float64\" style = \"text-align: left;\">Float64</th><th title = \"Float64\" style = \"text-align: left;\">Float64</th><th title = \"Float64\" style = \"text-align: left;\">Float64</th><th title = \"Float64\" style = \"text-align: left;\">Float64</th><th title = \"Float64\" style = \"text-align: left;\">Float64</th><th title = \"Float64\" style = \"text-align: left;\">Float64</th><th title = \"Float64\" style = \"text-align: left;\">Float64</th><th title = \"Float64\" style = \"text-align: left;\">Float64</th><th title = \"Float64\" style = \"text-align: left;\">Float64</th><th title = \"Float64\" style = \"text-align: left;\">Float64</th><th title = \"Float64\" style = \"text-align: left;\">Float64</th><th title = \"Float64\" style = \"text-align: left;\">Float64</th></tr></thead><tbody><tr><td class = \"rowNumber\" style = \"font-weight: bold; text-align: right;\">1</td><td style = \"text-align: right;\">1</td><td style = \"text-align: right;\">21854.3</td><td style = \"text-align: right;\">0.0</td><td style = \"text-align: right;\">0.0</td><td style = \"text-align: right;\">0.0</td><td style = \"text-align: right;\">0.0</td><td style = \"text-align: right;\">0.0</td><td style = \"text-align: right;\">108.5</td><td style = \"text-align: right;\">108.5</td><td style = \"text-align: right;\">280.0</td><td style = \"text-align: right;\">280.0</td><td style = \"text-align: right;\">210.0</td><td style = \"text-align: right;\">40.3736</td><td style = \"text-align: right;\">0.0</td><td style = \"text-align: right;\">76.8921</td><td style = \"text-align: right;\">101.54</td><td style = \"text-align: right;\">92.8003</td><td style = \"text-align: right;\">95.3709</td><td style = \"text-align: right;\">67.8413</td><td style = \"text-align: right;\">0.0</td><td style = \"text-align: right;\">165.565</td><td style = \"text-align: right;\">0.0</td><td style = \"text-align: right;\">197.87</td><td style = \"text-align: right;\">62.1878</td><td style = \"text-align: right;\">208.37</td><td style = \"text-align: right;\">113.876</td><td style = \"text-align: right;\">80.7634</td><td style = \"text-align: right;\">112.261</td><td style = \"text-align: right;\">46.8428</td><td style = \"text-align: right;\">44.4199</td><td style = \"text-align: right;\">0.0</td><td style = \"text-align: right;\">78.3405</td><td style = \"text-align: right;\">106.608</td><td style = \"text-align: right;\">109.031</td><td style = \"text-align: right;\">0.0</td></tr><tr><td class = \"rowNumber\" style = \"font-weight: bold; text-align: right;\">2</td><td style = \"text-align: right;\">2</td><td style = \"text-align: right;\">19674.0</td><td style = \"text-align: right;\">0.0</td><td style = \"text-align: right;\">0.0</td><td style = \"text-align: right;\">0.0</td><td style = \"text-align: right;\">0.0</td><td style = \"text-align: right;\">0.0</td><td style = \"text-align: right;\">0.0</td><td style = \"text-align: right;\">0.0</td><td style = \"text-align: right;\">280.0</td><td style = \"text-align: right;\">280.0</td><td style = \"text-align: right;\">210.0</td><td style = \"text-align: right;\">0.0</td><td style = \"text-align: right;\">0.0</td><td style = \"text-align: right;\">66.8277</td><td style = \"text-align: right;\">90.9989</td><td style = \"text-align: right;\">109.167</td><td style = \"text-align: right;\">107.937</td><td style = \"text-align: right;\">63.7911</td><td style = \"text-align: right;\">0.0</td><td style = \"text-align: right;\">78.7092</td><td style = \"text-align: right;\">0.0</td><td style = \"text-align: right;\">186.057</td><td style = \"text-align: right;\">58.4751</td><td style = \"text-align: right;\">195.93</td><td style = \"text-align: right;\">0.0</td><td style = \"text-align: right;\">0.0</td><td style = \"text-align: right;\">105.559</td><td style = \"text-align: right;\">44.0462</td><td style = \"text-align: right;\">41.768</td><td style = \"text-align: right;\">80.4982</td><td style = \"text-align: right;\">73.6635</td><td style = \"text-align: right;\">0.0</td><td style = \"text-align: right;\">102.521</td><td style = \"text-align: right;\">113.913</td></tr><tr><td class = \"rowNumber\" style = \"font-weight: bold; text-align: right;\">3</td><td style = \"text-align: right;\">3</td><td style = \"text-align: right;\">29052.6</td><td style = \"text-align: right;\">0.0</td><td style = \"text-align: right;\">0.0</td><td style = \"text-align: right;\">0.0</td><td style = \"text-align: right;\">0.0</td><td style = \"text-align: right;\">0.0</td><td style = \"text-align: right;\">108.5</td><td style = \"text-align: right;\">102.2</td><td style = \"text-align: right;\">280.0</td><td style = \"text-align: right;\">280.0</td><td style = \"text-align: right;\">210.0</td><td style = \"text-align: right;\">0.0</td><td style = \"text-align: right;\">0.0</td><td style = \"text-align: right;\">78.422</td><td style = \"text-align: right;\">116.959</td><td style = \"text-align: right;\">142.88</td><td style = \"text-align: right;\">134.78</td><td style = \"text-align: right;\">60.7534</td><td style = \"text-align: right;\">54.2441</td><td style = \"text-align: right;\">148.267</td><td style = \"text-align: right;\">108.488</td><td style = \"text-align: right;\">177.197</td><td style = \"text-align: right;\">55.6906</td><td style = \"text-align: right;\">186.6</td><td style = \"text-align: right;\">101.979</td><td style = \"text-align: right;\">0.0</td><td style = \"text-align: right;\">100.532</td><td style = \"text-align: right;\">41.9488</td><td style = \"text-align: right;\">39.779</td><td style = \"text-align: right;\">76.665</td><td style = \"text-align: right;\">0.0</td><td style = \"text-align: right;\">95.4696</td><td style = \"text-align: right;\">97.6394</td><td style = \"text-align: right;\">108.488</td></tr><tr><td class = \"rowNumber\" style = \"font-weight: bold; text-align: right;\">4</td><td style = \"text-align: right;\">4</td><td style = \"text-align: right;\">16618.5</td><td style = \"text-align: right;\">0.0</td><td style = \"text-align: right;\">0.0</td><td style = \"text-align: right;\">0.0</td><td style = \"text-align: right;\">0.0</td><td style = \"text-align: right;\">0.0</td><td style = \"text-align: right;\">0.0</td><td style = \"text-align: right;\">0.0</td><td style = \"text-align: right;\">280.0</td><td style = \"text-align: right;\">280.0</td><td style = \"text-align: right;\">163.815</td><td style = \"text-align: right;\">0.0</td><td style = \"text-align: right;\">0.0</td><td style = \"text-align: right;\">64.1437</td><td style = \"text-align: right;\">134.249</td><td style = \"text-align: right;\">159.57</td><td style = \"text-align: right;\">133.664</td><td style = \"text-align: right;\">59.7408</td><td style = \"text-align: right;\">0.0</td><td style = \"text-align: right;\">145.796</td><td style = \"text-align: right;\">106.68</td><td style = \"text-align: right;\">174.244</td><td style = \"text-align: right;\">0.0</td><td style = \"text-align: right;\">183.49</td><td style = \"text-align: right;\">0.0</td><td style = \"text-align: right;\">71.12</td><td style = \"text-align: right;\">98.8569</td><td style = \"text-align: right;\">41.2496</td><td style = \"text-align: right;\">0.0</td><td style = \"text-align: right;\">75.3872</td><td style = \"text-align: right;\">68.9864</td><td style = \"text-align: right;\">93.8785</td><td style = \"text-align: right;\">96.0121</td><td style = \"text-align: right;\">0.0</td></tr><tr><td class = \"rowNumber\" style = \"font-weight: bold; text-align: right;\">5</td><td style = \"text-align: right;\">5</td><td style = \"text-align: right;\">19401.7</td><td style = \"text-align: right;\">0.0</td><td style = \"text-align: right;\">0.0</td><td style = \"text-align: right;\">0.0</td><td style = \"text-align: right;\">0.0</td><td style = \"text-align: right;\">0.0</td><td style = \"text-align: right;\">0.0</td><td style = \"text-align: right;\">0.0</td><td style = \"text-align: right;\">280.0</td><td style = \"text-align: right;\">280.0</td><td style = \"text-align: right;\">186.014</td><td style = \"text-align: right;\">0.0</td><td style = \"text-align: right;\">0.0</td><td style = \"text-align: right;\">102.22</td><td style = \"text-align: right;\">145.507</td><td style = \"text-align: right;\">160.944</td><td style = \"text-align: right;\">165.303</td><td style = \"text-align: right;\">59.7408</td><td style = \"text-align: right;\">53.34</td><td style = \"text-align: right;\">145.796</td><td style = \"text-align: right;\">106.68</td><td style = \"text-align: right;\">0.0</td><td style = \"text-align: right;\">54.7624</td><td style = \"text-align: right;\">183.49</td><td style = \"text-align: right;\">100.279</td><td style = \"text-align: right;\">71.12</td><td style = \"text-align: right;\">98.8569</td><td style = \"text-align: right;\">41.2496</td><td style = \"text-align: right;\">39.116</td><td style = \"text-align: right;\">0.0</td><td style = \"text-align: right;\">68.9864</td><td style = \"text-align: right;\">93.8785</td><td style = \"text-align: right;\">96.0121</td><td style = \"text-align: right;\">106.68</td></tr><tr><td class = \"rowNumber\" style = \"font-weight: bold; text-align: right;\">6</td><td style = \"text-align: right;\">6</td><td style = \"text-align: right;\">26563.6</td><td style = \"text-align: right;\">0.0</td><td style = \"text-align: right;\">0.0</td><td style = \"text-align: right;\">0.0</td><td style = \"text-align: right;\">0.0</td><td style = \"text-align: right;\">0.0</td><td style = \"text-align: right;\">0.0</td><td style = \"text-align: right;\">0.0</td><td style = \"text-align: right;\">280.0</td><td style = \"text-align: right;\">280.0</td><td style = \"text-align: right;\">210.0</td><td style = \"text-align: right;\">0.0</td><td style = \"text-align: right;\">0.0</td><td style = \"text-align: right;\">134.039</td><td style = \"text-align: right;\">131.112</td><td style = \"text-align: right;\">157.023</td><td style = \"text-align: right;\">161.828</td><td style = \"text-align: right;\">60.7534</td><td style = \"text-align: right;\">54.2441</td><td style = \"text-align: right;\">148.267</td><td style = \"text-align: right;\">108.488</td><td style = \"text-align: right;\">177.197</td><td style = \"text-align: right;\">55.6906</td><td style = \"text-align: right;\">21.0436</td><td style = \"text-align: right;\">101.979</td><td style = \"text-align: right;\">72.3255</td><td style = \"text-align: right;\">100.532</td><td style = \"text-align: right;\">41.9488</td><td style = \"text-align: right;\">39.779</td><td style = \"text-align: right;\">0.0</td><td style = \"text-align: right;\">70.1557</td><td style = \"text-align: right;\">95.4696</td><td style = \"text-align: right;\">97.6394</td><td style = \"text-align: right;\">108.488</td></tr><tr><td class = \"rowNumber\" style = \"font-weight: bold; text-align: right;\">7</td><td style = \"text-align: right;\">7</td><td style = \"text-align: right;\">26375.2</td><td style = \"text-align: right;\">0.0</td><td style = \"text-align: right;\">0.0</td><td style = \"text-align: right;\">0.0</td><td style = \"text-align: right;\">0.0</td><td style = \"text-align: right;\">0.0</td><td style = \"text-align: right;\">0.0</td><td style = \"text-align: right;\">0.0</td><td style = \"text-align: right;\">280.0</td><td style = \"text-align: right;\">280.0</td><td style = \"text-align: right;\">210.0</td><td style = \"text-align: right;\">0.0</td><td style = \"text-align: right;\">0.0</td><td style = \"text-align: right;\">146.517</td><td style = \"text-align: right;\">153.67</td><td style = \"text-align: right;\">141.566</td><td style = \"text-align: right;\">159.927</td><td style = \"text-align: right;\">74.9292</td><td style = \"text-align: right;\">66.9011</td><td style = \"text-align: right;\">182.863</td><td style = \"text-align: right;\">133.802</td><td style = \"text-align: right;\">0.0</td><td style = \"text-align: right;\">0.0</td><td style = \"text-align: right;\">230.14</td><td style = \"text-align: right;\">0.0</td><td style = \"text-align: right;\">89.2014</td><td style = \"text-align: right;\">0.0</td><td style = \"text-align: right;\">40.7944</td><td style = \"text-align: right;\">0.0</td><td style = \"text-align: right;\">94.5535</td><td style = \"text-align: right;\">86.5254</td><td style = \"text-align: right;\">117.746</td><td style = \"text-align: right;\">120.422</td><td style = \"text-align: right;\">133.802</td></tr><tr><td class = \"rowNumber\" style = \"font-weight: bold; text-align: right;\">8</td><td style = \"text-align: right;\">8</td><td style = \"text-align: right;\">29512.8</td><td style = \"text-align: right;\">0.0</td><td style = \"text-align: right;\">0.0</td><td style = \"text-align: right;\">0.0</td><td style = \"text-align: right;\">0.0</td><td style = \"text-align: right;\">0.0</td><td style = \"text-align: right;\">0.0</td><td style = \"text-align: right;\">0.0</td><td style = \"text-align: right;\">280.0</td><td style = \"text-align: right;\">280.0</td><td style = \"text-align: right;\">210.0</td><td style = \"text-align: right;\">0.0</td><td style = \"text-align: right;\">0.0</td><td style = \"text-align: right;\">143.176</td><td style = \"text-align: right;\">163.392</td><td style = \"text-align: right;\">155.294</td><td style = \"text-align: right;\">170.805</td><td style = \"text-align: right;\">87.0799</td><td style = \"text-align: right;\">77.7499</td><td style = \"text-align: right;\">212.516</td><td style = \"text-align: right;\">0.0</td><td style = \"text-align: right;\">253.983</td><td style = \"text-align: right;\">79.8232</td><td style = \"text-align: right;\">0.0</td><td style = \"text-align: right;\">0.0</td><td style = \"text-align: right;\">103.666</td><td style = \"text-align: right;\">144.096</td><td style = \"text-align: right;\">60.1266</td><td style = \"text-align: right;\">57.0166</td><td style = \"text-align: right;\">0.0</td><td style = \"text-align: right;\">31.1591</td><td style = \"text-align: right;\">0.0</td><td style = \"text-align: right;\">139.95</td><td style = \"text-align: right;\">155.5</td></tr><tr><td class = \"rowNumber\" style = \"font-weight: bold; text-align: right;\">9</td><td style = \"text-align: right;\">9</td><td style = \"text-align: right;\">27427.4</td><td style = \"text-align: right;\">0.0</td><td style = \"text-align: right;\">0.0</td><td style = \"text-align: right;\">0.0</td><td style = \"text-align: right;\">0.0</td><td style = \"text-align: right;\">0.0</td><td style = \"text-align: right;\">0.0</td><td style = \"text-align: right;\">0.0</td><td style = \"text-align: right;\">280.0</td><td style = \"text-align: right;\">280.0</td><td style = \"text-align: right;\">210.0</td><td style = \"text-align: right;\">0.0</td><td style = \"text-align: right;\">0.0</td><td style = \"text-align: right;\">163.297</td><td style = \"text-align: right;\">144.48</td><td style = \"text-align: right;\">172.638</td><td style = \"text-align: right;\">185.318</td><td style = \"text-align: right;\">96.1929</td><td style = \"text-align: right;\">85.8865</td><td style = \"text-align: right;\">0.0</td><td style = \"text-align: right;\">171.773</td><td style = \"text-align: right;\">280.563</td><td style = \"text-align: right;\">88.1768</td><td style = \"text-align: right;\">295.45</td><td style = \"text-align: right;\">0.0</td><td style = \"text-align: right;\">114.515</td><td style = \"text-align: right;\">0.0</td><td style = \"text-align: right;\">0.0</td><td style = \"text-align: right;\">0.0</td><td style = \"text-align: right;\">121.386</td><td style = \"text-align: right;\">10.0175</td><td style = \"text-align: right;\">0.0</td><td style = \"text-align: right;\">0.0</td><td style = \"text-align: right;\">171.773</td></tr><tr><td class = \"rowNumber\" style = \"font-weight: bold; text-align: right;\">10</td><td style = \"text-align: right;\">10</td><td style = \"text-align: right;\">31002.1</td><td style = \"text-align: right;\">0.0</td><td style = \"text-align: right;\">0.0</td><td style = \"text-align: right;\">0.0</td><td style = \"text-align: right;\">0.0</td><td style = \"text-align: right;\">0.0</td><td style = \"text-align: right;\">108.5</td><td style = \"text-align: right;\">108.5</td><td style = \"text-align: right;\">280.0</td><td style = \"text-align: right;\">280.0</td><td style = \"text-align: right;\">210.0</td><td style = \"text-align: right;\">48.8134</td><td style = \"text-align: right;\">0.0</td><td style = \"text-align: right;\">172.635</td><td style = \"text-align: right;\">104.022</td><td style = \"text-align: right;\">166.636</td><td style = \"text-align: right;\">178.014</td><td style = \"text-align: right;\">97.2054</td><td style = \"text-align: right;\">86.7906</td><td style = \"text-align: right;\">237.228</td><td style = \"text-align: right;\">0.0</td><td style = \"text-align: right;\">283.516</td><td style = \"text-align: right;\">0.0</td><td style = \"text-align: right;\">0.0</td><td style = \"text-align: right;\">163.166</td><td style = \"text-align: right;\">115.721</td><td style = \"text-align: right;\">160.852</td><td style = \"text-align: right;\">0.0</td><td style = \"text-align: right;\">63.6464</td><td style = \"text-align: right;\">122.664</td><td style = \"text-align: right;\">0.0</td><td style = \"text-align: right;\">152.751</td><td style = \"text-align: right;\">0.0</td><td style = \"text-align: right;\">173.581</td></tr><tr><td class = \"rowNumber\" style = \"font-weight: bold; text-align: right;\">11</td><td style = \"text-align: right;\">11</td><td style = \"text-align: right;\">29242.5</td><td style = \"text-align: right;\">0.0</td><td style = \"text-align: right;\">0.0</td><td style = \"text-align: right;\">0.0</td><td style = \"text-align: right;\">0.0</td><td style = \"text-align: right;\">0.0</td><td style = \"text-align: right;\">108.5</td><td style = \"text-align: right;\">108.5</td><td style = \"text-align: right;\">280.0</td><td style = \"text-align: right;\">280.0</td><td style = \"text-align: right;\">210.0</td><td style = \"text-align: right;\">207.44</td><td style = \"text-align: right;\">0.0</td><td style = \"text-align: right;\">166.935</td><td style = \"text-align: right;\">88.9871</td><td style = \"text-align: right;\">154.896</td><td style = \"text-align: right;\">187.256</td><td style = \"text-align: right;\">0.0</td><td style = \"text-align: right;\">86.7906</td><td style = \"text-align: right;\">237.228</td><td style = \"text-align: right;\">173.581</td><td style = \"text-align: right;\">283.516</td><td style = \"text-align: right;\">0.0</td><td style = \"text-align: right;\">298.56</td><td style = \"text-align: right;\">0.0</td><td style = \"text-align: right;\">0.0</td><td style = \"text-align: right;\">160.852</td><td style = \"text-align: right;\">67.118</td><td style = \"text-align: right;\">63.6464</td><td style = \"text-align: right;\">0.0</td><td style = \"text-align: right;\">112.249</td><td style = \"text-align: right;\">152.751</td><td style = \"text-align: right;\">156.223</td><td style = \"text-align: right;\">0.0</td></tr><tr><td class = \"rowNumber\" style = \"font-weight: bold; text-align: right;\">12</td><td style = \"text-align: right;\">12</td><td style = \"text-align: right;\">21674.2</td><td style = \"text-align: right;\">0.0</td><td style = \"text-align: right;\">0.0</td><td style = \"text-align: right;\">0.0</td><td style = \"text-align: right;\">0.0</td><td style = \"text-align: right;\">0.0</td><td style = \"text-align: right;\">41.5028</td><td style = \"text-align: right;\">0.0</td><td style = \"text-align: right;\">280.0</td><td style = \"text-align: right;\">280.0</td><td style = \"text-align: right;\">210.0</td><td style = \"text-align: right;\">0.0</td><td style = \"text-align: right;\">0.0</td><td style = \"text-align: right;\">161.92</td><td style = \"text-align: right;\">44.976</td><td style = \"text-align: right;\">128.268</td><td style = \"text-align: right;\">164.533</td><td style = \"text-align: right;\">0.0</td><td style = \"text-align: right;\">85.8865</td><td style = \"text-align: right;\">0.0</td><td style = \"text-align: right;\">171.773</td><td style = \"text-align: right;\">280.563</td><td style = \"text-align: right;\">0.0</td><td style = \"text-align: right;\">0.0</td><td style = \"text-align: right;\">0.0</td><td style = \"text-align: right;\">0.0</td><td style = \"text-align: right;\">0.0</td><td style = \"text-align: right;\">0.0</td><td style = \"text-align: right;\">62.9834</td><td style = \"text-align: right;\">121.386</td><td style = \"text-align: right;\">111.08</td><td style = \"text-align: right;\">151.16</td><td style = \"text-align: right;\">154.596</td><td style = \"text-align: right;\">171.773</td></tr><tr><td class = \"rowNumber\" style = \"font-weight: bold; text-align: right;\">13</td><td style = \"text-align: right;\">13</td><td style = \"text-align: right;\">31985.1</td><td style = \"text-align: right;\">0.0</td><td style = \"text-align: right;\">0.0</td><td style = \"text-align: right;\">0.0</td><td style = \"text-align: right;\">0.0</td><td style = \"text-align: right;\">0.0</td><td style = \"text-align: right;\">108.5</td><td style = \"text-align: right;\">108.5</td><td style = \"text-align: right;\">280.0</td><td style = \"text-align: right;\">280.0</td><td style = \"text-align: right;\">210.0</td><td style = \"text-align: right;\">217.0</td><td style = \"text-align: right;\">29.4267</td><td style = \"text-align: right;\">155.941</td><td style = \"text-align: right;\">29.2907</td><td style = \"text-align: right;\">125.294</td><td style = \"text-align: right;\">153.164</td><td style = \"text-align: right;\">96.1929</td><td style = \"text-align: right;\">85.8865</td><td style = \"text-align: right;\">234.756</td><td style = \"text-align: right;\">171.773</td><td style = \"text-align: right;\">280.563</td><td style = \"text-align: right;\">0.0</td><td style = \"text-align: right;\">0.0</td><td style = \"text-align: right;\">161.467</td><td style = \"text-align: right;\">114.515</td><td style = \"text-align: right;\">159.176</td><td style = \"text-align: right;\">66.4189</td><td style = \"text-align: right;\">0.0</td><td style = \"text-align: right;\">0.0</td><td style = \"text-align: right;\">0.0</td><td style = \"text-align: right;\">0.0</td><td style = \"text-align: right;\">154.596</td><td style = \"text-align: right;\">171.773</td></tr><tr><td class = \"rowNumber\" style = \"font-weight: bold; text-align: right;\">14</td><td style = \"text-align: right;\">14</td><td style = \"text-align: right;\">30523.2</td><td style = \"text-align: right;\">0.0</td><td style = \"text-align: right;\">0.0</td><td style = \"text-align: right;\">0.0</td><td style = \"text-align: right;\">0.0</td><td style = \"text-align: right;\">0.0</td><td style = \"text-align: right;\">108.5</td><td style = \"text-align: right;\">108.5</td><td style = \"text-align: right;\">280.0</td><td style = \"text-align: right;\">280.0</td><td style = \"text-align: right;\">210.0</td><td style = \"text-align: right;\">217.0</td><td style = \"text-align: right;\">167.308</td><td style = \"text-align: right;\">147.45</td><td style = \"text-align: right;\">99.6239</td><td style = \"text-align: right;\">137.481</td><td style = \"text-align: right;\">145.091</td><td style = \"text-align: right;\">96.1929</td><td style = \"text-align: right;\">0.0</td><td style = \"text-align: right;\">0.0</td><td style = \"text-align: right;\">171.773</td><td style = \"text-align: right;\">280.563</td><td style = \"text-align: right;\">0.0</td><td style = \"text-align: right;\">295.45</td><td style = \"text-align: right;\">161.467</td><td style = \"text-align: right;\">114.515</td><td style = \"text-align: right;\">159.176</td><td style = \"text-align: right;\">66.4189</td><td style = \"text-align: right;\">0.0</td><td style = \"text-align: right;\">121.386</td><td style = \"text-align: right;\">111.08</td><td style = \"text-align: right;\">151.16</td><td style = \"text-align: right;\">0.0</td><td style = \"text-align: right;\">171.773</td></tr><tr><td class = \"rowNumber\" style = \"font-weight: bold; text-align: right;\">15</td><td style = \"text-align: right;\">15</td><td style = \"text-align: right;\">30456.0</td><td style = \"text-align: right;\">0.0</td><td style = \"text-align: right;\">0.0</td><td style = \"text-align: right;\">0.0</td><td style = \"text-align: right;\">0.0</td><td style = \"text-align: right;\">0.0</td><td style = \"text-align: right;\">108.5</td><td style = \"text-align: right;\">108.5</td><td style = \"text-align: right;\">280.0</td><td style = \"text-align: right;\">280.0</td><td style = \"text-align: right;\">210.0</td><td style = \"text-align: right;\">217.0</td><td style = \"text-align: right;\">245.0</td><td style = \"text-align: right;\">144.046</td><td style = \"text-align: right;\">119.052</td><td style = \"text-align: right;\">136.311</td><td style = \"text-align: right;\">142.282</td><td style = \"text-align: right;\">94.1678</td><td style = \"text-align: right;\">84.0784</td><td style = \"text-align: right;\">229.814</td><td style = \"text-align: right;\">0.0</td><td style = \"text-align: right;\">274.656</td><td style = \"text-align: right;\">86.3204</td><td style = \"text-align: right;\">289.23</td><td style = \"text-align: right;\">158.067</td><td style = \"text-align: right;\">112.104</td><td style = \"text-align: right;\">0.0</td><td style = \"text-align: right;\">65.0206</td><td style = \"text-align: right;\">61.6575</td><td style = \"text-align: right;\">0.0</td><td style = \"text-align: right;\">68.0987</td><td style = \"text-align: right;\">147.978</td><td style = \"text-align: right;\">151.341</td><td style = \"text-align: right;\">168.157</td></tr><tr><td class = \"rowNumber\" style = \"font-weight: bold; text-align: right;\">16</td><td style = \"text-align: right;\">16</td><td style = \"text-align: right;\">28863.6</td><td style = \"text-align: right;\">0.0</td><td style = \"text-align: right;\">0.0</td><td style = \"text-align: right;\">0.0</td><td style = \"text-align: right;\">0.0</td><td style = \"text-align: right;\">0.0</td><td style = \"text-align: right;\">108.5</td><td style = \"text-align: right;\">108.5</td><td style = \"text-align: right;\">280.0</td><td style = \"text-align: right;\">280.0</td><td style = \"text-align: right;\">210.0</td><td style = \"text-align: right;\">100.328</td><td style = \"text-align: right;\">0.0</td><td style = \"text-align: right;\">149.042</td><td style = \"text-align: right;\">104.619</td><td style = \"text-align: right;\">131.206</td><td style = \"text-align: right;\">145.473</td><td style = \"text-align: right;\">0.0</td><td style = \"text-align: right;\">84.0784</td><td style = \"text-align: right;\">0.0</td><td style = \"text-align: right;\">0.0</td><td style = \"text-align: right;\">274.656</td><td style = \"text-align: right;\">86.3204</td><td style = \"text-align: right;\">289.23</td><td style = \"text-align: right;\">158.067</td><td style = \"text-align: right;\">112.104</td><td style = \"text-align: right;\">155.825</td><td style = \"text-align: right;\">0.0</td><td style = \"text-align: right;\">61.6575</td><td style = \"text-align: right;\">118.831</td><td style = \"text-align: right;\">108.741</td><td style = \"text-align: right;\">0.0</td><td style = \"text-align: right;\">0.0</td><td style = \"text-align: right;\">168.157</td></tr><tr><td class = \"rowNumber\" style = \"font-weight: bold; text-align: right;\">17</td><td style = \"text-align: right;\">17</td><td style = \"text-align: right;\">30170.7</td><td style = \"text-align: right;\">0.0</td><td style = \"text-align: right;\">0.0</td><td style = \"text-align: right;\">0.0</td><td style = \"text-align: right;\">0.0</td><td style = \"text-align: right;\">0.0</td><td style = \"text-align: right;\">108.5</td><td style = \"text-align: right;\">108.5</td><td style = \"text-align: right;\">280.0</td><td style = \"text-align: right;\">280.0</td><td style = \"text-align: right;\">210.0</td><td style = \"text-align: right;\">182.214</td><td style = \"text-align: right;\">0.0</td><td style = \"text-align: right;\">136.464</td><td style = \"text-align: right;\">115.34</td><td style = \"text-align: right;\">130.63</td><td style = \"text-align: right;\">146.518</td><td style = \"text-align: right;\">100.243</td><td style = \"text-align: right;\">0.0</td><td style = \"text-align: right;\">244.641</td><td style = \"text-align: right;\">0.0</td><td style = \"text-align: right;\">0.0</td><td style = \"text-align: right;\">91.8895</td><td style = \"text-align: right;\">307.89</td><td style = \"text-align: right;\">168.265</td><td style = \"text-align: right;\">119.337</td><td style = \"text-align: right;\">165.878</td><td style = \"text-align: right;\">0.0</td><td style = \"text-align: right;\">65.6354</td><td style = \"text-align: right;\">0.0</td><td style = \"text-align: right;\">115.757</td><td style = \"text-align: right;\">157.525</td><td style = \"text-align: right;\">161.105</td><td style = \"text-align: right;\">0.0</td></tr><tr><td class = \"rowNumber\" style = \"font-weight: bold; text-align: right;\">18</td><td style = \"text-align: right;\">18</td><td style = \"text-align: right;\">37719.1</td><td style = \"text-align: right;\">106.4</td><td style = \"text-align: right;\">69.0493</td><td style = \"text-align: right;\">0.0</td><td style = \"text-align: right;\">0.0</td><td style = \"text-align: right;\">0.0</td><td style = \"text-align: right;\">108.5</td><td style = \"text-align: right;\">108.5</td><td style = \"text-align: right;\">280.0</td><td style = \"text-align: right;\">280.0</td><td style = \"text-align: right;\">210.0</td><td style = \"text-align: right;\">217.0</td><td style = \"text-align: right;\">245.0</td><td style = \"text-align: right;\">131.297</td><td style = \"text-align: right;\">145.216</td><td style = \"text-align: right;\">134.656</td><td style = \"text-align: right;\">147.406</td><td style = \"text-align: right;\">101.256</td><td style = \"text-align: right;\">90.4068</td><td style = \"text-align: right;\">247.112</td><td style = \"text-align: right;\">180.814</td><td style = \"text-align: right;\">295.329</td><td style = \"text-align: right;\">0.0</td><td style = \"text-align: right;\">310.999</td><td style = \"text-align: right;\">169.965</td><td style = \"text-align: right;\">0.0</td><td style = \"text-align: right;\">167.554</td><td style = \"text-align: right;\">0.0</td><td style = \"text-align: right;\">0.0</td><td style = \"text-align: right;\">0.0</td><td style = \"text-align: right;\">116.926</td><td style = \"text-align: right;\">159.116</td><td style = \"text-align: right;\">162.732</td><td style = \"text-align: right;\">180.814</td></tr><tr><td class = \"rowNumber\" style = \"font-weight: bold; text-align: right;\">19</td><td style = \"text-align: right;\">19</td><td style = \"text-align: right;\">29086.2</td><td style = \"text-align: right;\">0.0</td><td style = \"text-align: right;\">0.0</td><td style = \"text-align: right;\">0.0</td><td style = \"text-align: right;\">0.0</td><td style = \"text-align: right;\">0.0</td><td style = \"text-align: right;\">108.5</td><td style = \"text-align: right;\">108.5</td><td style = \"text-align: right;\">280.0</td><td style = \"text-align: right;\">280.0</td><td style = \"text-align: right;\">210.0</td><td style = \"text-align: right;\">185.452</td><td style = \"text-align: right;\">0.0</td><td style = \"text-align: right;\">146.851</td><td style = \"text-align: right;\">156.859</td><td style = \"text-align: right;\">98.1546</td><td style = \"text-align: right;\">156.673</td><td style = \"text-align: right;\">101.256</td><td style = \"text-align: right;\">0.0</td><td style = \"text-align: right;\">247.112</td><td style = \"text-align: right;\">180.814</td><td style = \"text-align: right;\">295.329</td><td style = \"text-align: right;\">92.8177</td><td style = \"text-align: right;\">0.0</td><td style = \"text-align: right;\">169.965</td><td style = \"text-align: right;\">0.0</td><td style = \"text-align: right;\">167.554</td><td style = \"text-align: right;\">69.9146</td><td style = \"text-align: right;\">66.2983</td><td style = \"text-align: right;\">0.0</td><td style = \"text-align: right;\">0.0</td><td style = \"text-align: right;\">159.116</td><td style = \"text-align: right;\">0.0</td><td style = \"text-align: right;\">180.814</td></tr><tr><td class = \"rowNumber\" style = \"font-weight: bold; text-align: right;\">20</td><td style = \"text-align: right;\">20</td><td style = \"text-align: right;\">34013.5</td><td style = \"text-align: right;\">0.0</td><td style = \"text-align: right;\">0.0</td><td style = \"text-align: right;\">0.0</td><td style = \"text-align: right;\">0.0</td><td style = \"text-align: right;\">0.0</td><td style = \"text-align: right;\">108.5</td><td style = \"text-align: right;\">108.5</td><td style = \"text-align: right;\">280.0</td><td style = \"text-align: right;\">280.0</td><td style = \"text-align: right;\">210.0</td><td style = \"text-align: right;\">217.0</td><td style = \"text-align: right;\">245.0</td><td style = \"text-align: right;\">144.815</td><td style = \"text-align: right;\">163.31</td><td style = \"text-align: right;\">120.838</td><td style = \"text-align: right;\">153.6</td><td style = \"text-align: right;\">97.2054</td><td style = \"text-align: right;\">86.7906</td><td style = \"text-align: right;\">0.0</td><td style = \"text-align: right;\">173.581</td><td style = \"text-align: right;\">283.516</td><td style = \"text-align: right;\">89.105</td><td style = \"text-align: right;\">298.56</td><td style = \"text-align: right;\">163.166</td><td style = \"text-align: right;\">115.721</td><td style = \"text-align: right;\">0.0</td><td style = \"text-align: right;\">0.0</td><td style = \"text-align: right;\">63.6464</td><td style = \"text-align: right;\">65.4677</td><td style = \"text-align: right;\">112.249</td><td style = \"text-align: right;\">152.751</td><td style = \"text-align: right;\">156.223</td><td style = \"text-align: right;\">173.581</td></tr><tr><td class = \"rowNumber\" style = \"font-weight: bold; text-align: right;\">21</td><td style = \"text-align: right;\">21</td><td style = \"text-align: right;\">24241.0</td><td style = \"text-align: right;\">0.0</td><td style = \"text-align: right;\">0.0</td><td style = \"text-align: right;\">0.0</td><td style = \"text-align: right;\">0.0</td><td style = \"text-align: right;\">0.0</td><td style = \"text-align: right;\">0.0</td><td style = \"text-align: right;\">0.0</td><td style = \"text-align: right;\">280.0</td><td style = \"text-align: right;\">280.0</td><td style = \"text-align: right;\">126.171</td><td style = \"text-align: right;\">0.0</td><td style = \"text-align: right;\">0.0</td><td style = \"text-align: right;\">147.298</td><td style = \"text-align: right;\">163.693</td><td style = \"text-align: right;\">138.631</td><td style = \"text-align: right;\">146.525</td><td style = \"text-align: right;\">92.1426</td><td style = \"text-align: right;\">82.2702</td><td style = \"text-align: right;\">224.872</td><td style = \"text-align: right;\">0.0</td><td style = \"text-align: right;\">0.0</td><td style = \"text-align: right;\">84.4641</td><td style = \"text-align: right;\">283.01</td><td style = \"text-align: right;\">0.0</td><td style = \"text-align: right;\">0.0</td><td style = \"text-align: right;\">0.0</td><td style = \"text-align: right;\">0.0</td><td style = \"text-align: right;\">0.0</td><td style = \"text-align: right;\">116.275</td><td style = \"text-align: right;\">106.403</td><td style = \"text-align: right;\">144.796</td><td style = \"text-align: right;\">148.086</td><td style = \"text-align: right;\">0.0</td></tr><tr><td class = \"rowNumber\" style = \"font-weight: bold; text-align: right;\">22</td><td style = \"text-align: right;\">22</td><td style = \"text-align: right;\">28379.3</td><td style = \"text-align: right;\">0.0</td><td style = \"text-align: right;\">0.0</td><td style = \"text-align: right;\">0.0</td><td style = \"text-align: right;\">0.0</td><td style = \"text-align: right;\">0.0</td><td style = \"text-align: right;\">84.1152</td><td style = \"text-align: right;\">0.0</td><td style = \"text-align: right;\">280.0</td><td style = \"text-align: right;\">280.0</td><td style = \"text-align: right;\">210.0</td><td style = \"text-align: right;\">0.0</td><td style = \"text-align: right;\">0.0</td><td style = \"text-align: right;\">126.313</td><td style = \"text-align: right;\">157.048</td><td style = \"text-align: right;\">163.306</td><td style = \"text-align: right;\">154.949</td><td style = \"text-align: right;\">0.0</td><td style = \"text-align: right;\">75.0377</td><td style = \"text-align: right;\">205.103</td><td style = \"text-align: right;\">150.075</td><td style = \"text-align: right;\">0.0</td><td style = \"text-align: right;\">0.0</td><td style = \"text-align: right;\">258.13</td><td style = \"text-align: right;\">0.0</td><td style = \"text-align: right;\">100.05</td><td style = \"text-align: right;\">139.07</td><td style = \"text-align: right;\">58.0291</td><td style = \"text-align: right;\">0.0</td><td style = \"text-align: right;\">106.053</td><td style = \"text-align: right;\">97.0487</td><td style = \"text-align: right;\">132.066</td><td style = \"text-align: right;\">135.068</td><td style = \"text-align: right;\">0.0</td></tr><tr><td class = \"rowNumber\" style = \"font-weight: bold; text-align: right;\">23</td><td style = \"text-align: right;\">23</td><td style = \"text-align: right;\">23450.6</td><td style = \"text-align: right;\">0.0</td><td style = \"text-align: right;\">0.0</td><td style = \"text-align: right;\">0.0</td><td style = \"text-align: right;\">0.0</td><td style = \"text-align: right;\">0.0</td><td style = \"text-align: right;\">108.5</td><td style = \"text-align: right;\">108.5</td><td style = \"text-align: right;\">280.0</td><td style = \"text-align: right;\">280.0</td><td style = \"text-align: right;\">210.0</td><td style = \"text-align: right;\">44.754</td><td style = \"text-align: right;\">0.0</td><td style = \"text-align: right;\">124.879</td><td style = \"text-align: right;\">122.933</td><td style = \"text-align: right;\">163.273</td><td style = \"text-align: right;\">151.649</td><td style = \"text-align: right;\">73.9166</td><td style = \"text-align: right;\">65.997</td><td style = \"text-align: right;\">180.392</td><td style = \"text-align: right;\">131.994</td><td style = \"text-align: right;\">0.0</td><td style = \"text-align: right;\">67.7569</td><td style = \"text-align: right;\">227.03</td><td style = \"text-align: right;\">124.074</td><td style = \"text-align: right;\">87.996</td><td style = \"text-align: right;\">122.314</td><td style = \"text-align: right;\">51.0377</td><td style = \"text-align: right;\">48.3978</td><td style = \"text-align: right;\">93.2757</td><td style = \"text-align: right;\">85.3561</td><td style = \"text-align: right;\">116.155</td><td style = \"text-align: right;\">118.795</td><td style = \"text-align: right;\">0.0</td></tr><tr><td class = \"rowNumber\" style = \"font-weight: bold; text-align: right;\">24</td><td style = \"text-align: right;\">24</td><td style = \"text-align: right;\">18165.8</td><td style = \"text-align: right;\">0.0</td><td style = \"text-align: right;\">0.0</td><td style = \"text-align: right;\">0.0</td><td style = \"text-align: right;\">0.0</td><td style = \"text-align: right;\">0.0</td><td style = \"text-align: right;\">0.0</td><td style = \"text-align: right;\">0.0</td><td style = \"text-align: right;\">280.0</td><td style = \"text-align: right;\">280.0</td><td style = \"text-align: right;\">194.933</td><td style = \"text-align: right;\">0.0</td><td style = \"text-align: right;\">0.0</td><td style = \"text-align: right;\">137.862</td><td style = \"text-align: right;\">152.792</td><td style = \"text-align: right;\">161.572</td><td style = \"text-align: right;\">128.656</td><td style = \"text-align: right;\">0.0</td><td style = \"text-align: right;\">56.9563</td><td style = \"text-align: right;\">155.681</td><td style = \"text-align: right;\">113.913</td><td style = \"text-align: right;\">186.057</td><td style = \"text-align: right;\">0.0</td><td style = \"text-align: right;\">195.93</td><td style = \"text-align: right;\">107.078</td><td style = \"text-align: right;\">75.9417</td><td style = \"text-align: right;\">105.559</td><td style = \"text-align: right;\">0.0</td><td style = \"text-align: right;\">41.768</td><td style = \"text-align: right;\">80.4982</td><td style = \"text-align: right;\">0.0</td><td style = \"text-align: right;\">0.0</td><td style = \"text-align: right;\">102.521</td><td style = \"text-align: right;\">113.913</td></tr></tbody></table></div>"
      ],
      "text/latex": [
       "\\begin{tabular}{r|cccccccccc}\n",
       "\t& hour & objective\\_value & x\\_con1 & x\\_con2 & x\\_con3 & x\\_con4 & x\\_con5 & x\\_con6 & x\\_con7 & \\\\\n",
       "\t\\hline\n",
       "\t& Int64 & Float64 & Float64 & Float64 & Float64 & Float64 & Float64 & Float64 & Float64 & \\\\\n",
       "\t\\hline\n",
       "\t1 & 1 & 21854.3 & 0.0 & 0.0 & 0.0 & 0.0 & 0.0 & 108.5 & 108.5 & $\\dots$ \\\\\n",
       "\t2 & 2 & 19674.0 & 0.0 & 0.0 & 0.0 & 0.0 & 0.0 & 0.0 & 0.0 & $\\dots$ \\\\\n",
       "\t3 & 3 & 29052.6 & 0.0 & 0.0 & 0.0 & 0.0 & 0.0 & 108.5 & 102.2 & $\\dots$ \\\\\n",
       "\t4 & 4 & 16618.5 & 0.0 & 0.0 & 0.0 & 0.0 & 0.0 & 0.0 & 0.0 & $\\dots$ \\\\\n",
       "\t5 & 5 & 19401.7 & 0.0 & 0.0 & 0.0 & 0.0 & 0.0 & 0.0 & 0.0 & $\\dots$ \\\\\n",
       "\t6 & 6 & 26563.6 & 0.0 & 0.0 & 0.0 & 0.0 & 0.0 & 0.0 & 0.0 & $\\dots$ \\\\\n",
       "\t7 & 7 & 26375.2 & 0.0 & 0.0 & 0.0 & 0.0 & 0.0 & 0.0 & 0.0 & $\\dots$ \\\\\n",
       "\t8 & 8 & 29512.8 & 0.0 & 0.0 & 0.0 & 0.0 & 0.0 & 0.0 & 0.0 & $\\dots$ \\\\\n",
       "\t9 & 9 & 27427.4 & 0.0 & 0.0 & 0.0 & 0.0 & 0.0 & 0.0 & 0.0 & $\\dots$ \\\\\n",
       "\t10 & 10 & 31002.1 & 0.0 & 0.0 & 0.0 & 0.0 & 0.0 & 108.5 & 108.5 & $\\dots$ \\\\\n",
       "\t11 & 11 & 29242.5 & 0.0 & 0.0 & 0.0 & 0.0 & 0.0 & 108.5 & 108.5 & $\\dots$ \\\\\n",
       "\t12 & 12 & 21674.2 & 0.0 & 0.0 & 0.0 & 0.0 & 0.0 & 41.5028 & 0.0 & $\\dots$ \\\\\n",
       "\t13 & 13 & 31985.1 & 0.0 & 0.0 & 0.0 & 0.0 & 0.0 & 108.5 & 108.5 & $\\dots$ \\\\\n",
       "\t14 & 14 & 30523.2 & 0.0 & 0.0 & 0.0 & 0.0 & 0.0 & 108.5 & 108.5 & $\\dots$ \\\\\n",
       "\t15 & 15 & 30456.0 & 0.0 & 0.0 & 0.0 & 0.0 & 0.0 & 108.5 & 108.5 & $\\dots$ \\\\\n",
       "\t16 & 16 & 28863.6 & 0.0 & 0.0 & 0.0 & 0.0 & 0.0 & 108.5 & 108.5 & $\\dots$ \\\\\n",
       "\t17 & 17 & 30170.7 & 0.0 & 0.0 & 0.0 & 0.0 & 0.0 & 108.5 & 108.5 & $\\dots$ \\\\\n",
       "\t18 & 18 & 37719.1 & 106.4 & 69.0493 & 0.0 & 0.0 & 0.0 & 108.5 & 108.5 & $\\dots$ \\\\\n",
       "\t19 & 19 & 29086.2 & 0.0 & 0.0 & 0.0 & 0.0 & 0.0 & 108.5 & 108.5 & $\\dots$ \\\\\n",
       "\t20 & 20 & 34013.5 & 0.0 & 0.0 & 0.0 & 0.0 & 0.0 & 108.5 & 108.5 & $\\dots$ \\\\\n",
       "\t21 & 21 & 24241.0 & 0.0 & 0.0 & 0.0 & 0.0 & 0.0 & 0.0 & 0.0 & $\\dots$ \\\\\n",
       "\t22 & 22 & 28379.3 & 0.0 & 0.0 & 0.0 & 0.0 & 0.0 & 84.1152 & 0.0 & $\\dots$ \\\\\n",
       "\t23 & 23 & 23450.6 & 0.0 & 0.0 & 0.0 & 0.0 & 0.0 & 108.5 & 108.5 & $\\dots$ \\\\\n",
       "\t24 & 24 & 18165.8 & 0.0 & 0.0 & 0.0 & 0.0 & 0.0 & 0.0 & 0.0 & $\\dots$ \\\\\n",
       "\\end{tabular}\n"
      ],
      "text/plain": [
       "\u001b[1m24×35 DataFrame\u001b[0m\n",
       "\u001b[1m Row \u001b[0m│\u001b[1m hour  \u001b[0m\u001b[1m objective_value \u001b[0m\u001b[1m x_con1  \u001b[0m\u001b[1m x_con2  \u001b[0m\u001b[1m x_con3  \u001b[0m\u001b[1m x_con4  \u001b[0m\u001b[1m x_con5  \u001b[0m\u001b[1m x_\u001b[0m ⋯\n",
       "     │\u001b[90m Int64 \u001b[0m\u001b[90m Float64         \u001b[0m\u001b[90m Float64 \u001b[0m\u001b[90m Float64 \u001b[0m\u001b[90m Float64 \u001b[0m\u001b[90m Float64 \u001b[0m\u001b[90m Float64 \u001b[0m\u001b[90m Fl\u001b[0m ⋯\n",
       "─────┼──────────────────────────────────────────────────────────────────────────\n",
       "   1 │     1          21854.3      0.0   0.0         0.0      0.0      0.0  10 ⋯\n",
       "   2 │     2          19674.0      0.0   0.0         0.0      0.0      0.0\n",
       "   3 │     3          29052.6      0.0   0.0         0.0      0.0      0.0  10\n",
       "   4 │     4          16618.5      0.0   0.0         0.0      0.0      0.0\n",
       "   5 │     5          19401.7      0.0   0.0         0.0      0.0      0.0     ⋯\n",
       "   6 │     6          26563.6      0.0   0.0         0.0      0.0      0.0\n",
       "   7 │     7          26375.2      0.0   0.0         0.0      0.0      0.0\n",
       "   8 │     8          29512.8      0.0   0.0         0.0      0.0      0.0\n",
       "  ⋮  │   ⋮           ⋮            ⋮        ⋮        ⋮        ⋮        ⋮        ⋱\n",
       "  18 │    18          37719.1    106.4  69.0493      0.0      0.0      0.0  10 ⋯\n",
       "  19 │    19          29086.2      0.0   0.0         0.0      0.0      0.0  10\n",
       "  20 │    20          34013.5      0.0   0.0         0.0      0.0      0.0  10\n",
       "  21 │    21          24241.0      0.0   0.0         0.0      0.0      0.0\n",
       "  22 │    22          28379.3      0.0   0.0         0.0      0.0      0.0   8 ⋯\n",
       "  23 │    23          23450.6      0.0   0.0         0.0      0.0      0.0  10\n",
       "  24 │    24          18165.8      0.0   0.0         0.0      0.0      0.0\n",
       "\u001b[36m                                                   28 columns and 9 rows omitted\u001b[0m"
      ]
     },
     "metadata": {},
     "output_type": "display_data"
    }
   ],
   "source": [
    "result_df"
   ]
  },
  {
   "cell_type": "code",
   "execution_count": 41,
   "metadata": {},
   "outputs": [
    {
     "data": {
      "text/plain": [
       "\"results/market_clearing_Jan.csv\""
      ]
     },
     "metadata": {},
     "output_type": "display_data"
    }
   ],
   "source": [
    "#save result_df to csv\n",
    "CSV.write(\"results/market_clearing_Jan.csv\", result_df)"
   ]
  }
 ],
 "metadata": {
  "kernelspec": {
   "display_name": "Julia 1.9.3",
   "language": "julia",
   "name": "julia-1.9"
  },
  "language_info": {
   "file_extension": ".jl",
   "mimetype": "application/julia",
   "name": "julia",
   "version": "1.9.3"
  }
 },
 "nbformat": 4,
 "nbformat_minor": 2
}
