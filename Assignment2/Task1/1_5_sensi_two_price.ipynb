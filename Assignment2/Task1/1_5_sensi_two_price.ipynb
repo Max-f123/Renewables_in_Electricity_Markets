{
 "cells": [
  {
   "cell_type": "code",
   "execution_count": 1,
   "metadata": {},
   "outputs": [],
   "source": [
    "import Pkg\n",
    "#Pkg.add(\"JuMP\")\n",
    "#Pkg.add(\"GLPK\")\n",
    "#Pkg.add(\"Gruobi\")\n",
    "#Pkg.add(\"DataFrames\")\n",
    "#Pkg.add(\"CSV\")\n",
    "#Pkg.add(\"PyCall\")"
   ]
  },
  {
   "cell_type": "code",
   "execution_count": 2,
   "metadata": {},
   "outputs": [],
   "source": [
    "using JuMP, GLPK\n",
    "using DataFrames\n",
    "using CSV\n",
    "using PrettyTables\n",
    "using Random"
   ]
  },
  {
   "cell_type": "code",
   "execution_count": 3,
   "metadata": {},
   "outputs": [],
   "source": [
    "# Load the data\n",
    "scenarios_df = CSV.read(\"../data/scenarios.csv\", DataFrame)\n",
    "\n",
    "n_scenarios = size(scenarios_df, 2)/3\n",
    "n_scenarios = convert(Int, n_scenarios)\n",
    "\n",
    "# create a dictonary with 200 dataframes for each scenario\n",
    "all_scenarios = Dict()\n",
    "for i in 1:n_scenarios\n",
    "    df_helper = DataFrame(scenarios_df[:,3*i-2:3*i])\n",
    "    df_helper[!,3] = df_helper[!,3] .* 1.0\n",
    "    rename!(df_helper, [:\"price\", :\"wind power\", :\"grid_excess\"])\n",
    "    all_scenarios[i] = df_helper\n",
    "end"
   ]
  },
  {
   "cell_type": "code",
   "execution_count": 8,
   "metadata": {},
   "outputs": [
    {
     "data": {
      "text/plain": [
       "Any[]"
      ]
     },
     "metadata": {},
     "output_type": "display_data"
    }
   ],
   "source": [
    "#W = 250\n",
    "hours = 24\n",
    "\n",
    "insample_scenarios = Dict()\n",
    "out_of_sample_scenarios = Dict()\n",
    "seeds = [1,2]\n",
    "n_seeds = length(seeds)\n",
    "Ws = [100, 500]\n",
    "\n",
    "\n",
    "W_index = 0\n",
    "for W in Ws\n",
    "\n",
    "    for seed in seeds\n",
    "        Random.seed!(seed)\n",
    "        selected_scenarios = rand(1:n_scenarios, W)\n",
    "        scenarios = Dict()\n",
    "        counter = 1\n",
    "        for i in selected_scenarios\n",
    "            scenarios[counter] = all_scenarios[i]\n",
    "            counter += 1\n",
    "        end\n",
    "        insample_scenarios[seed + n_seeds * W_index] = scenarios\n",
    "\n",
    "        # create the list of index of scenarios out of sample\n",
    "        out_of_sample = []\n",
    "        for i in 1:n_scenarios\n",
    "            if i ∉ selected_scenarios\n",
    "                push!(out_of_sample, i)\n",
    "            end\n",
    "        end\n",
    "\n",
    "        unselected_scenarios = Dict()\n",
    "        counter = 1\n",
    "        for i in out_of_sample\n",
    "            unselected_scenarios[counter] = all_scenarios[i]\n",
    "            counter += 1\n",
    "        end\n",
    "        out_of_sample_scenarios[seed + n_seeds * W_index] = unselected_scenarios\n",
    "    end\n",
    "    W_index += 1\n",
    "end\n",
    "\n",
    "alpha = 0.9\n",
    "beta = 0.1\n",
    "objectiv_values = []\n",
    "exp_profits = []\n",
    "profits_in = []\n",
    "CVaR_values = []\n"
   ]
  },
  {
   "cell_type": "code",
   "execution_count": 9,
   "metadata": {},
   "outputs": [
    {
     "name": "stdout",
     "output_type": "stream",
     "text": [
      "Expected profit 112071.28482149242\n",
      "p_DA: [17.904935403225807, 14.389693451612905, 16.245967693548387, 21.93790314516129, 26.74930637096774, 5.90827414516129, 145.9269354516129, 2.7339112741935483, 1.1038967741935486, 146.94499998387096, 9.519177403225806, 0.7419306451612904, 142.91516125806453, 1.167741935483871, 135.9887096612903, 11.538677403225806, 146.0248386935484, 149.60145158064518, 10.317629032258065, 152.74596772580645, 4.493516129032258, 27.22990317741936, 6.808774177419355, 149.57870966129033]\n",
      "Expected profit 126723.49285273923\n",
      "p_DA: [22.33724183870968, 14.389693451612905, 15.949935451612903, 13.469580564516129, 9.242903161290323, 5.90827414516129, 145.9269354516129, 2.7339112741935483, 1.1038967741935486, 146.94499998387096, 0.7919354838709678, 0.7419306451612904, 142.91516125806453, 1.167741935483871, 135.9887096612903, 2.3072451612903224, 146.0248386935484, 149.60145158064518, 5.493548387096774, 152.74596772580645, 4.493516129032258, 4.803145161290321, 6.808774177419355, 149.57870966129033]\n",
      "Expected profit 128527.43509980231\n",
      "p_DA: [22.33724183870968, 14.389693451612905, 15.949935451612903, 13.469580564516129, 9.242903161290323, 7.841935483870968, 145.9269354516129, 2.7339112741935483, 1.1038967741935486, 146.94499998387096, 0.7919354838709678, 0.7419306451612904, 142.91516125806453, 19.42317732258065, 135.9887096612903, 19.107161209677415, 146.0248386935484, 149.60145158064518, 5.493548387096774, 152.74596772580645, 4.493516129032258, 14.784612903225804, 6.808774177419355, 149.57870966129033]\n",
      "Expected profit 136386.9369966145\n",
      "p_DA: [22.33724183870968, 14.389693451612905, 15.949935451612903, 13.469580564516129, 9.242903161290323, 7.841935483870968, 145.9269354516129, 2.7339112741935483, 1.1038967741935486, 146.94499998387096, 0.7919354838709678, 0.7419306451612904, 142.91516125806453, 19.42317732258065, 135.9887096612903, 28.99003225806452, 146.0248386935484, 149.60145158064518, 5.493548387096774, 152.74596772580645, 4.493516129032258, 14.784612903225804, 6.808774177419355, 149.57870966129033]\n"
     ]
    }
   ],
   "source": [
    "expected_profit_list = []\n",
    "#create df with seeds as column and add the p_DA_values for each seed and definec the columns\n",
    "bids_df = DataFrame()\n",
    "W_index = 0\n",
    "\n",
    "for W in Ws\n",
    "    for seed in seeds\n",
    "        scenarios = insample_scenarios[seed + n_seeds * (W_index)]\n",
    "\n",
    "        # Create a new model with GLPK solver\n",
    "        model = Model(GLPK.Optimizer)\n",
    "        unregister(model, :p_DA)\n",
    "\n",
    "        # Define the decision variables for hour\n",
    "        @variable(model, p_DA[1:hours])\n",
    "        @variable(model, delta[1:W,1:hours])\n",
    "        @variable(model, delta_up[1:W,1:hours])\n",
    "        @variable(model, delta_down[1:W,1:hours])\n",
    "        @variable(model, zeta)\n",
    "        @variable(model, eta[1:W] >= 0)\n",
    "\n",
    "        # Define the objective function\n",
    "        @objective(model, Max, (1-beta) *  sum(1/W*(scenarios[i][hour,\"price\"] * p_DA[hour]\n",
    "            + delta_up[i,hour] * scenarios[i][hour,\"price\"] * (scenarios[i][hour,\"grid_excess\"]*0.9 + (1-scenarios[i][hour,\"grid_excess\"])*1)\n",
    "            - delta_down[i,hour] * scenarios[i][hour,\"price\"] * (scenarios[i][hour,\"grid_excess\"]*1 + (1-scenarios[i][hour,\"grid_excess\"])*1.2)\n",
    "            + beta  * (zeta - (1/(1-alpha)) * sum(1/W * eta[i] for i in 1:W))) for i in 1:W, hour in 1:hours))\n",
    "\n",
    "        # Define the constraints\n",
    "        @constraint(model, [hour in 1:hours], p_DA[hour] <= 200)\n",
    "        @constraint(model, [hour in 1:hours], p_DA[hour] >= 0)\n",
    "        @constraint(model, [i in 1:W, hour in 1:hours], delta[i,hour] == scenarios[i][hour,\"wind power\"] - p_DA[hour])\n",
    "        @constraint(model, [i in 1:W, hour in 1:hours], delta[i,hour] == delta_up[i,hour] - delta_down[i,hour])\n",
    "        @constraint(model, [i in 1:W, hour in 1:hours], delta_down[i,hour] >= 0)\n",
    "        #@constraint(model, [i in 1:W, hour in 1:hours], delta_down[i,hour] <= p_DA[hour])\n",
    "        @constraint(model, [i in 1:W, hour in 1:hours], delta_up[i,hour] >= 0)\n",
    "        #@constraint(model, [i in 1:W, hour in 1:hours], delta_up[i,hour] + p_DA[hour] <= 200)\n",
    "\n",
    "        @constraint(model, [i in 1:W], -1 * sum(scenarios[i][hour,\"price\"] * p_DA[hour]\n",
    "        + delta_up[i,hour] * scenarios[i][hour,\"price\"] * (scenarios[i][hour,\"grid_excess\"]*0.9 + (1-scenarios[i][hour,\"grid_excess\"])*1)\n",
    "        - delta_down[i,hour] * scenarios[i][hour,\"price\"] * (scenarios[i][hour,\"grid_excess\"]*1 + (1-scenarios[i][hour,\"grid_excess\"])*1.2) for hour in 1:hours) + zeta - eta[i] <= 0)\n",
    "\n",
    "\n",
    "\n",
    "        # Solve the optimization problem\n",
    "        optimize!(model)\n",
    "\n",
    "        # save the p_DA values\n",
    "        p_DA_values = value.(p_DA)\n",
    "\n",
    "        exp_profit = value.(sum(1/W.*(scenarios[i][hour,\"price\"] * p_DA[hour]\n",
    "            + delta_up[i,hour] * scenarios[i][hour,\"price\"] * (scenarios[i][hour,\"grid_excess\"]*0.9 + (1-scenarios[i][hour,\"grid_excess\"])*1)\n",
    "            - delta_down[i,hour] * scenarios[i][hour,\"price\"] * (scenarios[i][hour,\"grid_excess\"]*1 + (1-scenarios[i][hour,\"grid_excess\"])*1.2) for i in 1:W, hour in 1:hours)))\n",
    "\n",
    "\n",
    "        #println(model)\n",
    "\n",
    "        # Print the termination status\n",
    "        status = termination_status(model)\n",
    "        if status == MOI.OPTIMAL\n",
    "            println(\"Expected profit \", exp_profit)\n",
    "            println(\"p_DA: \", value.(p_DA))\n",
    "            #add the p_DA values to the df\n",
    "            bids_df[!, string(seed +  n_seeds * (W_index))] = value.(p_DA)\n",
    "            push!(expected_profit_list, exp_profit)\n",
    "            \n",
    "        else\n",
    "            println(\"No optimal solution found\")\n",
    "        end\n",
    "    end\n",
    "    W_index += 1\n",
    "end"
   ]
  },
  {
   "cell_type": "code",
   "execution_count": 10,
   "metadata": {},
   "outputs": [
    {
     "data": {
      "text/plain": [
       "4-element Vector{Any}:\n",
       " 131958.74446837892\n",
       " 130478.63649734083\n",
       " 130662.5855330624\n",
       " 127554.90346579831"
      ]
     },
     "metadata": {},
     "output_type": "display_data"
    }
   ],
   "source": [
    "hours = 24\n",
    "profits_list = []\n",
    "W_index=0\n",
    "\n",
    "for W in Ws\n",
    "    for seed in seeds\n",
    "        unselected_scenarios = out_of_sample_scenarios[seed +  n_seeds * (W_index)]\n",
    "        W_new = length(unselected_scenarios)\n",
    "        p_DA_values = value.(bids_df[!, string(seed +  n_seeds * (W_index))])\n",
    "        # calculate the expected profit for the out of sample scenarios\n",
    "        exp_profit = 0\n",
    "        for i in 1:W_new\n",
    "            profit_day = 0\n",
    "            for hour in 1:hours\n",
    "                profit = 0\n",
    "                profit += unselected_scenarios[i][hour,\"price\"] * p_DA_values[hour] # should the day ahead price be fixed to the first scenario? So instead of i, 1?\n",
    "                if unselected_scenarios[i][hour,\"wind power\"] > p_DA_values[hour]\n",
    "                    profit += unselected_scenarios[i][hour,\"price\"] * (unselected_scenarios[i][hour,\"wind power\"] - p_DA_values[hour]) * (unselected_scenarios[i][hour,\"grid_excess\"]*0.9 + (1-unselected_scenarios[i][hour,\"grid_excess\"])*1)\n",
    "                else\n",
    "                    profit -= unselected_scenarios[i][hour,\"price\"] * (p_DA_values[hour] - unselected_scenarios[i][hour,\"wind power\"]) * (unselected_scenarios[i][hour,\"grid_excess\"]*1 + (1-unselected_scenarios[i][hour,\"grid_excess\"])*1.2)\n",
    "                end\n",
    "                profit_day += profit\n",
    "            end\n",
    "            #push!(profits_out, profit_day)\n",
    "            exp_profit += profit_day\n",
    "        end\n",
    "        exp_profit = exp_profit / W_new\n",
    "        push!(profits_list, exp_profit)\n",
    "    end\n",
    "    W_index += 1\n",
    "end\n",
    "\n",
    "profits_list"
   ]
  },
  {
   "cell_type": "code",
   "execution_count": 11,
   "metadata": {},
   "outputs": [
    {
     "data": {
      "text/html": [
       "<div><div style = \"float: left;\"><span>4×5 DataFrame</span></div><div style = \"clear: both;\"></div></div><div class = \"data-frame\" style = \"overflow-x: scroll;\"><table class = \"data-frame\" style = \"margin-bottom: 6px;\"><thead><tr class = \"header\"><th class = \"rowNumber\" style = \"font-weight: bold; text-align: right;\">Row</th><th style = \"text-align: left;\">In sample scenarios</th><th style = \"text-align: left;\">Seed</th><th style = \"text-align: left;\">In sample profit</th><th style = \"text-align: left;\">Out of sample profit</th><th style = \"text-align: left;\">Relative profit</th></tr><tr class = \"subheader headerLastRow\"><th class = \"rowNumber\" style = \"font-weight: bold; text-align: right;\"></th><th title = \"Int64\" style = \"text-align: left;\">Int64</th><th title = \"Int64\" style = \"text-align: left;\">Int64</th><th title = \"Any\" style = \"text-align: left;\">Any</th><th title = \"Any\" style = \"text-align: left;\">Any</th><th title = \"Float64\" style = \"text-align: left;\">Float64</th></tr></thead><tbody><tr><td class = \"rowNumber\" style = \"font-weight: bold; text-align: right;\">1</td><td style = \"text-align: right;\">100</td><td style = \"text-align: right;\">1</td><td style = \"text-align: left;\">1.12071e5</td><td style = \"text-align: left;\">1.31959e5</td><td style = \"text-align: right;\">-0.15071</td></tr><tr><td class = \"rowNumber\" style = \"font-weight: bold; text-align: right;\">2</td><td style = \"text-align: right;\">100</td><td style = \"text-align: right;\">2</td><td style = \"text-align: left;\">1.26723e5</td><td style = \"text-align: left;\">1.30479e5</td><td style = \"text-align: right;\">-0.0287798</td></tr><tr><td class = \"rowNumber\" style = \"font-weight: bold; text-align: right;\">3</td><td style = \"text-align: right;\">500</td><td style = \"text-align: right;\">1</td><td style = \"text-align: left;\">1.28527e5</td><td style = \"text-align: left;\">1.30663e5</td><td style = \"text-align: right;\">-0.0163409</td></tr><tr><td class = \"rowNumber\" style = \"font-weight: bold; text-align: right;\">4</td><td style = \"text-align: right;\">500</td><td style = \"text-align: right;\">2</td><td style = \"text-align: left;\">1.36387e5</td><td style = \"text-align: left;\">1.27555e5</td><td style = \"text-align: right;\">0.069241</td></tr></tbody></table></div>"
      ],
      "text/latex": [
       "\\begin{tabular}{r|ccccc}\n",
       "\t& In sample scenarios & Seed & In sample profit & Out of sample profit & Relative profit\\\\\n",
       "\t\\hline\n",
       "\t& Int64 & Int64 & Any & Any & Float64\\\\\n",
       "\t\\hline\n",
       "\t1 & 100 & 1 & 1.12071e5 & 1.31959e5 & -0.15071 \\\\\n",
       "\t2 & 100 & 2 & 1.26723e5 & 1.30479e5 & -0.0287798 \\\\\n",
       "\t3 & 500 & 1 & 1.28527e5 & 1.30663e5 & -0.0163409 \\\\\n",
       "\t4 & 500 & 2 & 1.36387e5 & 1.27555e5 & 0.069241 \\\\\n",
       "\\end{tabular}\n"
      ],
      "text/plain": [
       "\u001b[1m4×5 DataFrame\u001b[0m\n",
       "\u001b[1m Row \u001b[0m│\u001b[1m In sample scenarios \u001b[0m\u001b[1m Seed  \u001b[0m\u001b[1m In sample profit \u001b[0m\u001b[1m Out of sample profit \u001b[0m\u001b[1m Rel\u001b[0m ⋯\n",
       "     │\u001b[90m Int64               \u001b[0m\u001b[90m Int64 \u001b[0m\u001b[90m Any              \u001b[0m\u001b[90m Any                  \u001b[0m\u001b[90m Flo\u001b[0m ⋯\n",
       "─────┼──────────────────────────────────────────────────────────────────────────\n",
       "   1 │                 100      1  1.12071e5         1.31959e5                 ⋯\n",
       "   2 │                 100      2  1.26723e5         1.30479e5\n",
       "   3 │                 500      1  1.28527e5         1.30663e5\n",
       "   4 │                 500      2  1.36387e5         1.27555e5\n",
       "\u001b[36m                                                                1 column omitted\u001b[0m"
      ]
     },
     "metadata": {},
     "output_type": "display_data"
    }
   ],
   "source": [
    "# create a dataframe with the expected profits, the seeds and the Ws\n",
    "profits_df = DataFrame()\n",
    "\n",
    "profits_df[!, \"In sample scenarios\"] = repeat(Ws, inner = length(seeds))\n",
    "profits_df[!, \"Seed\"] = repeat(seeds, outer = length(Ws))\n",
    "profits_df[!, \"In sample profit\"] = expected_profit_list\n",
    "profits_df[!, \"Out of sample profit\"] = profits_list\n",
    "\n",
    "# make a relative column\n",
    "profits_df[!, \"Relative profit\"] = profits_df[!,\"In sample profit\"] ./ profits_df[!,\"Out of sample profit\"] .-1\n",
    "profits_df"
   ]
  },
  {
   "cell_type": "code",
   "execution_count": 12,
   "metadata": {},
   "outputs": [
    {
     "data": {
      "text/plain": [
       "\"1_5_results/relative_profits_two_price.csv\""
      ]
     },
     "metadata": {},
     "output_type": "display_data"
    }
   ],
   "source": [
    "# save to a csv file \n",
    "CSV.write(\"1_5_results/relative_profits_two_price.csv\", profits_df)"
   ]
  }
 ],
 "metadata": {
  "kernelspec": {
   "display_name": "Julia 1.10.0",
   "language": "julia",
   "name": "julia-1.10"
  },
  "language_info": {
   "file_extension": ".jl",
   "mimetype": "application/julia",
   "name": "julia",
   "version": "1.10.0"
  }
 },
 "nbformat": 4,
 "nbformat_minor": 2
}
