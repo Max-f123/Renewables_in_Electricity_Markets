{
 "cells": [
  {
   "cell_type": "code",
   "execution_count": 1,
   "metadata": {},
   "outputs": [],
   "source": [
    "import pandas as pd\n",
    "\n",
    "# Data for Table 1: Technical Data of Generating Units\n",
    "data_table_1 = {\n",
    "    \"Unit #\": [1, 2, 3, 4, 5, 6, 7, 8, 9, 10, 11, 12],\n",
    "    \"Node\": [1, 2, 7, 13, 15, 15, 16, 18, 21, 22, 23, 23],\n",
    "    \"Pimax (MW)\": [152, 152, 350, 591, 60, 155, 155, 400, 400, 300, 310, 350],\n",
    "    \"Pimin (MW)\": [30.4, 30.4, 75, 206.85, 12, 54.25, 54.25, 100, 100, 300, 108.5, 140],\n",
    "    \"Ri+ (MW)\": [40, 40, 70, 180, 60, 30, 30, 0, 0, 0, 60, 40],\n",
    "    \"Ri- (MW)\": [40, 40, 70, 180, 60, 30, 30, 0, 0, 0, 60, 40],\n",
    "    \"RiU (MW/h)\": [120, 120, 350, 240, 60, 155, 155, 280, 280, 300, 180, 240],\n",
    "    \"RiD (MW/h)\": [120, 120, 350, 240, 60, 155, 155, 280, 280, 300, 180, 240],\n",
    "    \"UT (h)\": [8, 8, 8, 12, 4, 8, 8, 1, 1, 0, 8, 8],\n",
    "    \"DT (h)\": [4, 4, 8, 10, 2, 8, 8, 1, 1, 0, 8, 8]\n",
    "}\n",
    "\n",
    "# Data for Table 2: Costs and Initial State of Generating Units\n",
    "data_table_2 = {\n",
    "    \"Unit #\": [1, 2, 3, 4, 5, 6, 7, 8, 9, 10, 11, 12],\n",
    "    \"Ciu ($/MWh)\": [15, 15, 10, 8, 7, 16, 16, 0, 0, 0, 17, 16],\n",
    "    \"Cid ($/MWh)\": [14, 14, 9, 7, 5, 14, 14, 0, 0, 0, 16, 14],\n",
    "    \"Ci+ ($/MWh)\": [15, 15, 24, 25, 28, 16, 16, 0, 0, 0, 14, 16],\n",
    "    \"Ci- ($/MWh)\": [11, 11, 16, 17, 23, 7, 7, 0, 0, 0, 8, 8],\n",
    "    \"Cisu ($)\": [1430.4, 1430.4, 1725, 3056.7, 437, 312, 312, 0, 0, 0, 624, 2298],\n",
    "    \"Pini (MW)\": [76, 76, 0, 0, 0, 0, 124, 240, 240, 240, 248, 280],\n",
    "    \"Uini (0/1)\": [1, 1, 0, 0, 0, 0, 1, 1, 1, 1, 1, 1],\n",
    "    \"Tini (h)\": [22, 22, -2, -1, -1, -2, 10, 50, 16, 24, 10, 50]\n",
    "}\n",
    "\n",
    "#save data to csv\n",
    "df = pd.DataFrame(data_table_1)\n",
    "df.to_csv('table_1.csv', index=False)\n",
    "\n",
    "df = pd.DataFrame(data_table_2)\n",
    "df.to_csv('table_2.csv', index=False)\n"
   ]
  }
 ],
 "metadata": {
  "kernelspec": {
   "display_name": "Python 3",
   "language": "python",
   "name": "python3"
  },
  "language_info": {
   "codemirror_mode": {
    "name": "ipython",
    "version": 3
   },
   "file_extension": ".py",
   "mimetype": "text/x-python",
   "name": "python",
   "nbconvert_exporter": "python",
   "pygments_lexer": "ipython3",
   "version": "3.11.1"
  }
 },
 "nbformat": 4,
 "nbformat_minor": 2
}
