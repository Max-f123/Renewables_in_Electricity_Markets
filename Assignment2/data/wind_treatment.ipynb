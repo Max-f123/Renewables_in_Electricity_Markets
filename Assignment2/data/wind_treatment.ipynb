{
 "cells": [
  {
   "cell_type": "code",
   "execution_count": 33,
   "metadata": {},
   "outputs": [],
   "source": [
    "# import the necessary packages\n",
    "\n",
    "import numpy as np\n",
    "import pandas as pd"
   ]
  },
  {
   "cell_type": "code",
   "execution_count": 34,
   "metadata": {},
   "outputs": [],
   "source": [
    "# Load the wind data\n",
    "wind = pd.read_csv(\"wind_power.csv\")\n",
    "\n",
    "# Transform the first column to datetime\n",
    "wind.iloc[:, 0] = pd.to_datetime(wind.iloc[:, 0])\n",
    "\n",
    "# Rename the column 'Wind power production - real time data' to 'wind power'\n",
    "wind.rename(columns={'Wind power production - real time data': 'wind power'}, inplace=True)\n",
    "\n",
    "# Delete column End time UTC\n",
    "wind.drop(columns=['End time UTC'], inplace=True)\n"
   ]
  },
  {
   "cell_type": "code",
   "execution_count": 35,
   "metadata": {},
   "outputs": [
    {
     "name": "stdout",
     "output_type": "stream",
     "text": [
      "             Start time UTC   wind power\n",
      "0 2023-01-01 00:00:00+00:00  3558.065000\n",
      "1 2023-01-01 01:00:00+00:00  3635.240000\n",
      "2 2023-01-01 02:00:00+00:00  3627.525000\n",
      "3 2023-01-01 03:00:00+00:00  3503.089999\n",
      "4 2023-01-01 04:00:00+00:00  3352.544999\n"
     ]
    }
   ],
   "source": [
    "# chANGE START TIME COLUMN TO DATTIME WITH HOURLY GRANULARITY\n",
    "wind['Start time UTC'] = pd.to_datetime(wind['Start time UTC'])\n",
    "\n",
    "# drop minutes\n",
    "wind['Start time UTC'] = wind['Start time UTC'].dt.floor('H')\n",
    "\n",
    "# groupby start time and sum the wind power\n",
    "wind = wind.groupby('Start time UTC',as_index=False).mean()\n",
    "\n",
    "# print the head of the wind DataFrame\n",
    "print(wind.head())\n",
    "\n"
   ]
  },
  {
   "cell_type": "code",
   "execution_count": 36,
   "metadata": {},
   "outputs": [
    {
     "name": "stdout",
     "output_type": "stream",
     "text": [
      "  Start time UTC   wind power  hour\n",
      "0     2023-01-01  3558.065000     0\n",
      "1     2023-01-01  3635.240000     1\n",
      "2     2023-01-01  3627.525000     2\n",
      "3     2023-01-01  3503.089999     3\n",
      "4     2023-01-01  3352.544999     4\n"
     ]
    }
   ],
   "source": [
    "# drop time from start time UTC\n",
    "wind['Start time UTC'] = pd.to_datetime(wind['Start time UTC'], format = '%Y-%m-%d %H:%M:%S')\n",
    "\n",
    "# extract the hour from start time UTC\n",
    "wind['hour'] = wind['Start time UTC'].dt.hour\n",
    "\n",
    "#drop time from start time UTC\n",
    "wind['Start time UTC'] = wind['Start time UTC'].dt.date\n",
    "\n",
    "# print the head of the wind DataFrame\n",
    "print(wind.head())"
   ]
  },
  {
   "cell_type": "code",
   "execution_count": 37,
   "metadata": {},
   "outputs": [],
   "source": [
    "# rename the column 'Start time UTC' to 'date'\n",
    "wind.rename(columns={'Start time UTC': 'date'}, inplace=True)"
   ]
  },
  {
   "cell_type": "code",
   "execution_count": 38,
   "metadata": {},
   "outputs": [
    {
     "name": "stdout",
     "output_type": "stream",
     "text": [
      "         date  hour   wind power\n",
      "0  2023-01-01     0  3558.065000\n",
      "1  2023-01-01     1  3635.240000\n",
      "2  2023-01-01     2  3627.525000\n",
      "3  2023-01-01     3  3503.089999\n",
      "4  2023-01-01     4  3352.544999\n"
     ]
    }
   ],
   "source": [
    "# change the order of column wind power and hour\n",
    "wind = wind[['date', 'hour', 'wind power']]\n",
    "# print the head of the wind DataFrame\n",
    "print(wind.head())"
   ]
  },
  {
   "cell_type": "code",
   "execution_count": 39,
   "metadata": {},
   "outputs": [],
   "source": [
    "# normalize the wind power by dividing by 6200MW and multiply by 200MW\n",
    "wind['wind power'] = wind['wind power']/6200*200\n",
    "\n",
    "# transform negative values to zeros\n",
    "wind['wind power'] = wind['wind power'].clip(lower=0)"
   ]
  },
  {
   "cell_type": "code",
   "execution_count": 40,
   "metadata": {},
   "outputs": [
    {
     "data": {
      "text/html": [
       "<div>\n",
       "<style scoped>\n",
       "    .dataframe tbody tr th:only-of-type {\n",
       "        vertical-align: middle;\n",
       "    }\n",
       "\n",
       "    .dataframe tbody tr th {\n",
       "        vertical-align: top;\n",
       "    }\n",
       "\n",
       "    .dataframe thead th {\n",
       "        text-align: right;\n",
       "    }\n",
       "</style>\n",
       "<table border=\"1\" class=\"dataframe\">\n",
       "  <thead>\n",
       "    <tr style=\"text-align: right;\">\n",
       "      <th></th>\n",
       "      <th>hour</th>\n",
       "      <th>wind power</th>\n",
       "    </tr>\n",
       "  </thead>\n",
       "  <tbody>\n",
       "    <tr>\n",
       "      <th>count</th>\n",
       "      <td>8755.000000</td>\n",
       "      <td>8755.000000</td>\n",
       "    </tr>\n",
       "    <tr>\n",
       "      <th>mean</th>\n",
       "      <td>11.501770</td>\n",
       "      <td>51.620353</td>\n",
       "    </tr>\n",
       "    <tr>\n",
       "      <th>std</th>\n",
       "      <td>6.923393</td>\n",
       "      <td>39.766459</td>\n",
       "    </tr>\n",
       "    <tr>\n",
       "      <th>min</th>\n",
       "      <td>0.000000</td>\n",
       "      <td>0.000000</td>\n",
       "    </tr>\n",
       "    <tr>\n",
       "      <th>25%</th>\n",
       "      <td>5.500000</td>\n",
       "      <td>17.815274</td>\n",
       "    </tr>\n",
       "    <tr>\n",
       "      <th>50%</th>\n",
       "      <td>12.000000</td>\n",
       "      <td>41.376935</td>\n",
       "    </tr>\n",
       "    <tr>\n",
       "      <th>75%</th>\n",
       "      <td>18.000000</td>\n",
       "      <td>78.605645</td>\n",
       "    </tr>\n",
       "    <tr>\n",
       "      <th>max</th>\n",
       "      <td>23.000000</td>\n",
       "      <td>179.024677</td>\n",
       "    </tr>\n",
       "  </tbody>\n",
       "</table>\n",
       "</div>"
      ],
      "text/plain": [
       "              hour   wind power\n",
       "count  8755.000000  8755.000000\n",
       "mean     11.501770    51.620353\n",
       "std       6.923393    39.766459\n",
       "min       0.000000     0.000000\n",
       "25%       5.500000    17.815274\n",
       "50%      12.000000    41.376935\n",
       "75%      18.000000    78.605645\n",
       "max      23.000000   179.024677"
      ]
     },
     "execution_count": 40,
     "metadata": {},
     "output_type": "execute_result"
    }
   ],
   "source": [
    "wind.describe()"
   ]
  },
  {
   "cell_type": "code",
   "execution_count": 41,
   "metadata": {},
   "outputs": [],
   "source": [
    "# save as csv\n",
    "wind.to_csv('wind_power_cleaned.csv', index=False)"
   ]
  }
 ],
 "metadata": {
  "kernelspec": {
   "display_name": "Renew_in_elec_market",
   "language": "python",
   "name": "python3"
  },
  "language_info": {
   "codemirror_mode": {
    "name": "ipython",
    "version": 3
   },
   "file_extension": ".py",
   "mimetype": "text/x-python",
   "name": "python",
   "nbconvert_exporter": "python",
   "pygments_lexer": "ipython3",
   "version": "3.11.1"
  }
 },
 "nbformat": 4,
 "nbformat_minor": 2
}
