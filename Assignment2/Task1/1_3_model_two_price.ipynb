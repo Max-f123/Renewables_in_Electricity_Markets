{
 "cells": [
  {
   "cell_type": "code",
   "execution_count": 1,
   "metadata": {},
   "outputs": [],
   "source": [
    "import Pkg\n",
    "#Pkg.add(\"JuMP\")\n",
    "#Pkg.add(\"GLPK\")\n",
    "#Pkg.add(\"Gruobi\")\n",
    "#Pkg.add(\"DataFrames\")\n",
    "#Pkg.add(\"CSV\")\n",
    "# Pkg.add(\"PyPlot\")\n",
    "# Pkg.add(\"PyCall\")"
   ]
  },
  {
   "cell_type": "code",
   "execution_count": 2,
   "metadata": {},
   "outputs": [],
   "source": [
    "using JuMP, GLPK\n",
    "using DataFrames\n",
    "using CSV\n",
    "using PrettyTables\n",
    "using Random\n",
    "using Plots\n",
    "# using PyPlot\n",
    "# using PyCall"
   ]
  },
  {
   "cell_type": "code",
   "execution_count": 3,
   "metadata": {},
   "outputs": [],
   "source": [
    "# Load the data\n",
    "scenarios_df = CSV.read(\"../data/scenarios.csv\", DataFrame)\n",
    "\n",
    "n_scenarios = size(scenarios_df, 2)/3\n",
    "n_scenarios = convert(Int, n_scenarios)\n",
    "\n",
    "# create a dictonary with 200 dataframes for each scenario\n",
    "all_scenarios = Dict()\n",
    "for i in 1:n_scenarios\n",
    "    df_helper = DataFrame(scenarios_df[:,3*i-2:3*i])\n",
    "    df_helper[!,3] = df_helper[!,3] .* 1.0\n",
    "    rename!(df_helper, [:\"price\", :\"wind power\", :\"grid_excess\"])\n",
    "    all_scenarios[i] = df_helper\n",
    "end"
   ]
  },
  {
   "cell_type": "code",
   "execution_count": 4,
   "metadata": {},
   "outputs": [
    {
     "data": {
      "text/plain": [
       "Any[]"
      ]
     },
     "metadata": {},
     "output_type": "display_data"
    }
   ],
   "source": [
    "W = 250\n",
    "hours = 24\n",
    "Random.seed!(123)\n",
    "selected_scenarios = rand(1:n_scenarios, W)\n",
    "\n",
    "scenarios = Dict()\n",
    "counter = 1\n",
    "for i in selected_scenarios\n",
    "    scenarios[counter] = all_scenarios[i]\n",
    "    counter += 1\n",
    "end\n",
    "\n",
    "alpha = 0.9\n",
    "#make beta a list of values\n",
    "betas = [0, 0.1, 0.2, 0.3, 0.4, 0.5, 0.6, 0.7, 0.8, 0.9, 1]\n",
    "objectiv_values = []\n",
    "exp_profits = []\n",
    "CVaR_values = [] "
   ]
  },
  {
   "cell_type": "code",
   "execution_count": 5,
   "metadata": {},
   "outputs": [],
   "source": [
    "# create a dataframe to store the profits per scenario for each beta\n",
    "profits_df = DataFrame()\n",
    "\n",
    "# add a first column to the dataframe for beta\n",
    "profits_df[!, \"beta\"] = zeros(length(betas))\n",
    "\n",
    "# add columns to the dataframe for the profits per scenario\n",
    "for i in 1:W\n",
    "    profits_df[!, Symbol(\"profit_scenario_\" * string(i))] = zeros(length(betas))\n",
    "end\n"
   ]
  },
  {
   "cell_type": "code",
   "execution_count": 6,
   "metadata": {},
   "outputs": [
    {
     "name": "stdout",
     "output_type": "stream",
     "text": [
      "Beta: 0.0\n",
      "p_DA: [64.39741935483872, 14.389693451612905, 56.90564516129032, 50.954193548387096, 43.07419354838709, 45.95790322580645, 145.9269354516129, 13.34106441935484, 1.1038967741935486, 146.94499998387096, 21.6095805, 0.7419306451612904, 142.91516125806453, 50.27709674193549, 135.9887096612903, 53.12935479032258, 146.0248386935484, 149.60145158064518, 16.439596645161288, 152.74596772580645, 4.493516129032258, 49.94887096774193, 6.808774177419355, 149.57870966129033]\n",
      "Objective value: 130697.43588726835\n",
      "Expected profit: 130697.4358872683\n",
      "CVaR: 6119.726263387715\n",
      "zeta: 6785.373050601131\n",
      "sum of eta: 16641.169680335373\n",
      "Beta: 0.1\n",
      "p_DA: [64.39741935483872, 14.389693451612905, 51.149032258064494, 50.04241930645161, 39.36129030645162, 45.95790322580645, 145.9269354516129, 10.52779022580645, 1.1038967741935486, 146.94499998387096, 21.6095805, 0.7419306451612904, 142.91516125806453, 50.27709674193549, 135.9887096612903, 41.58451606451612, 146.0248386935484, 149.60145158064518, 10.981193532258066, 152.74596772580645, 4.493516129032258, 49.94887096774193, 6.808774177419355, 149.57870966129033]\n",
      "Objective value: 118585.52056249297\n",
      "Expected profit: 130690.065234197\n",
      "CVaR: 9644.61851715785\n",
      "zeta: 16908.9694649881\n",
      "sum of eta: 181608.77369575613\n",
      "Beta: 0.2\n",
      "p_DA: [52.2395160967742, 14.389693451612905, 51.14903225806452, 45.99032258064516, 39.36129030645162, 45.95790322580645, 145.9269354516129, 10.52779022580645, 1.1038967741935486, 146.94499998387096, 9.519177403225806, 0.7419306451612904, 142.91516125806453, 50.27709674193549, 135.9887096612903, 40.13322579032258, 146.0248386935484, 149.60145158064518, 10.317629032258065, 152.74596772580645, 4.493516129032258, 31.87990316129032, 6.808774177419355, 149.57870966129033]\n",
      "Objective value: 106492.50638153074\n",
      "Expected profit: 130663.73921369344\n",
      "CVaR: 9807.57505287646\n",
      "zeta: 16824.144736134327\n",
      "sum of eta: 175414.24208144663\n",
      "Beta: 0.3\n",
      "p_DA: [52.2395160967742, 14.389693451612905, 45.116290306451454, 45.8980645, 30.70599990322581, 43.34193548387096, 145.9269354516129, 7.711258064516128, 1.1038967741935486, 146.94499998387096, 9.519177403225806, 0.7419306451612904, 142.91516125806453, 50.27709674193549, 135.9887096612903, 40.13322579032258, 146.0248386935484, 149.60145158064518, 10.317629032258065, 152.74596772580645, 4.493516129032258, 31.87990316129032, 6.808774177419355, 149.57870966129033]\n",
      "Objective value: 94410.41436246297\n",
      "Expected profit: 130641.8542657911\n",
      "CVaR: 9870.387921363874\n",
      "zeta: 16824.144736134327\n",
      "sum of eta: 173843.92036926124\n",
      "Beta: 0.4\n",
      "p_DA: [51.54661290322581, 14.389693451612905, 36.18306451612903, 42.03951611290322, 29.417048322580648, 39.978870951612905, 145.9269354516129, 7.711258064516128, 1.1038967741935486, 146.94499998387096, 0.7919354838709678, 0.7419306451612904, 142.91516125806453, 50.27709674193549, 135.9887096612903, 38.51393548387097, 146.0248386935484, 149.60145158064518, 10.317629032258065, 152.74596772580645, 4.493516129032258, 31.39583864516129, 6.808774177419355, 149.57870966129033]\n",
      "Objective value: 82337.46590595222\n",
      "Expected profit: 130591.9884283311\n",
      "CVaR: 9955.68212238385\n",
      "zeta: 16803.862278969988\n",
      "sum of eta: 171204.5039146534\n",
      "Beta: 0.5\n",
      "p_DA: [49.619032258064514, 14.389693451612905, 35.290483854838705, 29.92041925806452, 26.74930637096774, 34.75303225806452, 145.9269354516129, 6.318161258064516, 1.1038967741935486, 146.94499998387096, 0.7919354838709678, 0.7419306451612904, 142.91516125806453, 32.4904354516129, 135.9887096612903, 30.31774183870968, 146.0248386935484, 149.60145158064518, 5.493548387096774, 152.74596772580645, 4.493516129032258, 27.22990317741936, 6.808774177419355, 149.57870966129033]\n",
      "Objective value: 70286.24881879063\n",
      "Expected profit: 130490.29224972735\n",
      "CVaR: 10082.205387853151\n",
      "zeta: 16823.872634673113\n",
      "sum of eta: 168541.68117049907\n",
      "Beta: 0.6\n",
      "p_DA: [31.93559669354839, 14.389693451612905, 15.949935451612903, 15.687870887096777, 9.242903161290323, 25.56291929032258, 145.9269354516129, 2.7339112741935483, 1.1038967741935486, 146.94499998387096, 0.7919354838709678, 0.7419306451612904, 142.91516125806453, 32.4904354516129, 135.9887096612903, 28.99003225806452, 146.0248386935484, 149.60145158064518, 5.493548387096774, 152.74596772580645, 4.493516129032258, 22.114467725806406, 6.808774177419355, 149.57870966129033]\n",
      "Objective value: 58267.802919838636\n",
      "Expected profit: 130183.02816132198\n",
      "CVaR: 10324.319425516402\n",
      "zeta: 16814.51295536828\n",
      "sum of eta: 162254.83824629686\n",
      "Beta: 0.7\n",
      "p_DA: [22.33724183870968, 14.389693451612905, 15.949935451612903, 13.469580564516129, 9.242903161290323, 7.841935483870968, 145.9269354516129, 2.7339112741935483, 1.1038967741935486, 146.94499998387096, 0.7919354838709678, 0.7419306451612904, 142.91516125806453, 22.92266117741936, 135.9887096612903, 22.37141930645161, 146.0248386935484, 149.60145158064518, 5.493548387096774, 152.74596772580645, 4.493516129032258, 16.500016064516128, 6.808774177419355, 149.57870966129033]\n",
      "Objective value: 46298.4686127767\n",
      "Expected profit: 129997.0258090001\n",
      "CVaR: 10427.658385823914\n",
      "zeta: 16836.506561326565\n",
      "sum of eta: 160221.20438756625\n",
      "Beta: 0.8\n",
      "p_DA: [22.33724183870968, 14.389693451612905, 15.949935451612903, 13.469580564516129, 9.242903161290323, 7.841935483870968, 145.9269354516129, 2.7339112741935483, 1.1038967741935486, 146.94499998387096, 0.7919354838709678, 0.7419306451612904, 142.91516125806453, 19.42317732258065, 135.9887096612903, 19.107161209677415, 146.0248386935484, 149.60145158064518, 5.493548387096774, 152.74596772580645, 4.493516129032258, 14.784612903225804, 6.808774177419355, 149.57870966129033]\n",
      "Objective value: 34343.112289746656\n",
      "Expected profit: 129969.43318080927\n",
      "CVaR: 10436.532066980997\n",
      "zeta: 16847.90201321818\n",
      "sum of eta: 160284.2486559295\n",
      "Beta: 0.9\n",
      "p_DA: [22.33724183870968, 14.389693451612905, 15.949935451612903, 13.469580564516129, 9.242903161290323, 5.90827414516129, 145.9269354516129, 2.7339112741935483, 1.1038967741935486, 146.94499998387096, 0.7919354838709678, 0.7419306451612904, 142.91516125806453, 1.167741935483871, 135.9887096612903, 2.3072451612903224, 146.0248386935484, 149.60145158064518, 5.493548387096774, 152.74596772580645, 4.493516129032258, 4.803145161290321, 6.808774177419355, 149.57870966129033]\n",
      "Objective value: 22399.292230249746\n",
      "Expected profit: 129743.68116920897\n",
      "CVaR: 10472.137903698736\n",
      "zeta: 16818.97571970204\n",
      "sum of eta: 158670.94540008262\n",
      "Beta: 1.0\n",
      "p_DA: [22.33724183870968, 14.389693451612905, 15.949935451612903, 13.469580564516129, 9.242903161290323, 5.90827414516129, 145.9269354516129, 2.7339112741935483, 1.1038967741935486, 142.21532251612905, 0.7919354838709678, 0.7419306451612904, 137.33516127419355, 1.167741935483871, 132.9970967419355, 2.3072451612903224, 146.0248386935484, 149.60145158064518, 5.493548387096774, 152.74596772580645, 4.493516129032258, 4.803145161290322, 6.808774177419355, 149.57870966129033]\n",
      "Objective value: 10472.137903698733\n",
      "Expected profit: 129726.32730835814\n",
      "CVaR: 10472.137903698736\n",
      "zeta: 16818.975719702055\n",
      "sum of eta: 158670.94540008297\n"
     ]
    }
   ],
   "source": [
    "loop = 0\n",
    "\n",
    "for beta in betas\n",
    "    print(\"Beta: \", beta, \"\\n\")\n",
    "    loop += 1\n",
    "    # Create a new model with GLPK solver\n",
    "    model = Model(GLPK.Optimizer)\n",
    "    unregister(model, :p_DA)\n",
    "    #reset the model\n",
    "    \n",
    "\n",
    "    # Define the decision variables for hour\n",
    "    @variable(model, p_DA[1:hours])\n",
    "    @variable(model, delta[1:W,1:hours])\n",
    "    @variable(model, delta_up[1:W,1:hours])\n",
    "    @variable(model, delta_down[1:W,1:hours])\n",
    "    @variable(model, zeta)\n",
    "    @variable(model, eta[1:W])\n",
    "\n",
    "\n",
    "    # Define the objective function\n",
    "    @objective(model, Max, (1-beta) * sum(1/W *\n",
    "    (scenarios[i][hour,\"price\"] * p_DA[hour]\n",
    "    + delta_up[i,hour] * scenarios[i][hour,\"price\"] * (scenarios[i][hour,\"grid_excess\"]*0.9 + (1-scenarios[i][hour,\"grid_excess\"])*1)\n",
    "    - delta_down[i,hour] * scenarios[i][hour,\"price\"] * (scenarios[i][hour,\"grid_excess\"]*1 + (1-scenarios[i][hour,\"grid_excess\"])*1.2)\n",
    "    ) for i in 1:W, hour in 1:hours)\n",
    "    + beta * (zeta - (1/(1-alpha)) * sum(1/W * eta[i] for i in 1:W)))\n",
    "\n",
    "    # Define the constraints\n",
    "    @constraint(model, [hour in 1:hours], p_DA[hour] <= 200)\n",
    "    @constraint(model, [hour in 1:hours], p_DA[hour] >= 0)\n",
    "    @constraint(model, [i in 1:W, hour in 1:hours], delta[i,hour] == scenarios[i][hour,\"wind power\"] - p_DA[hour])\n",
    "    @constraint(model, [i in 1:W, hour in 1:hours], delta[i,hour] == delta_up[i,hour] - delta_down[i,hour])\n",
    "    @constraint(model, [i in 1:W, hour in 1:hours], delta_down[i,hour] >= 0)\n",
    "    @constraint(model, [i in 1:W, hour in 1:hours], delta_up[i,hour] >= 0)\n",
    "    @constraint(model, [i in 1:W], eta[i] >= 0)\n",
    "    @constraint(model, [i in 1:W], -1 * sum((scenarios[i][hour,\"price\"] * p_DA[hour]\n",
    "    + delta_up[i,hour] * scenarios[i][hour,\"price\"] * (scenarios[i][hour,\"grid_excess\"]*0.9 + (1-scenarios[i][hour,\"grid_excess\"])*1)\n",
    "    - delta_down[i,hour] * scenarios[i][hour,\"price\"] * (scenarios[i][hour,\"grid_excess\"]*1 + (1-scenarios[i][hour,\"grid_excess\"])*1.2)) for hour in 1:hours) \n",
    "    + zeta - eta[i] <= 0)\n",
    "\n",
    "\n",
    "    # Solve the optimization problem\n",
    "    optimize!(model)\n",
    "\n",
    "    exp_profit = value.(sum(1/W *(\n",
    "        scenarios[i][hour,\"price\"] * p_DA[hour]\n",
    "        + delta_up[i,hour] * scenarios[i][hour,\"price\"] * (scenarios[i][hour,\"grid_excess\"]*0.9 + (1-scenarios[i][hour,\"grid_excess\"])*1)\n",
    "        - delta_down[i,hour] * scenarios[i][hour,\"price\"] * (scenarios[i][hour,\"grid_excess\"]*1 + (1-scenarios[i][hour,\"grid_excess\"])*1.2)\n",
    "        ) for i in 1:W, hour in 1:hours))\n",
    "\n",
    "    CVaR = (value.(zeta) - (1/(1-alpha)) * sum(1/W .* value.(eta[i]) for i in 1:W))\n",
    "\n",
    "    # Print the termination status\n",
    "    status = termination_status(model)\n",
    "    if status == MOI.OPTIMAL\n",
    "        #println(\"Optimal solution found\")\n",
    "\n",
    "        println(\"p_DA: \", value.(p_DA))\n",
    "        \n",
    "        # RETURN OBJECTIVE value\n",
    "        println(\"Objective value: \", objective_value(model))\n",
    "        println(\"Expected profit: \", exp_profit)\n",
    "        println(\"CVaR: \", CVaR)\n",
    "        println(\"zeta: \", value.(zeta))\n",
    "        #print sum of eta\n",
    "        println(\"sum of eta: \", sum(value.(eta)))\n",
    "        push!(objectiv_values, objective_value(model))\n",
    "        push!(exp_profits, exp_profit)\n",
    "        push!(CVaR_values, CVaR)\n",
    "    else\n",
    "        println(\"No optimal solution found\")\n",
    "    end\n",
    "\n",
    "    # save the profits of each scenario for this beta in profits_df\n",
    "     profits_df[loop, \"beta\"] = beta\n",
    "     for i in 1:W\n",
    "         profits_df[loop, Symbol(\"profit_scenario_\" * string(i))] = value.(sum(scenarios[i][hour,\"price\"] * p_DA[hour]\n",
    "            + delta_up[i,hour] * scenarios[i][hour,\"price\"] * (scenarios[i][hour,\"grid_excess\"]*0.9 + (1-scenarios[i][hour,\"grid_excess\"])*1)\n",
    "            - delta_down[i,hour] * scenarios[i][hour,\"price\"] * (scenarios[i][hour,\"grid_excess\"]*1 + (1-scenarios[i][hour,\"grid_excess\"])*1.2)\n",
    "         for hour in 1:hours))\n",
    "     end\n",
    "end"
   ]
  },
  {
   "cell_type": "code",
   "execution_count": 7,
   "metadata": {},
   "outputs": [
    {
     "data": {
      "text/plain": [
       "\"1_3_results/two_price_results.csv\""
      ]
     },
     "metadata": {},
     "output_type": "display_data"
    }
   ],
   "source": [
    "#make a dataframe with the results\n",
    "results = DataFrame(betas = betas, objective_values = objectiv_values, exp_profits = exp_profits, CVaR_values = CVaR_values)\n",
    "\n",
    "#save the results\n",
    "CSV.write(\"1_3_results/two_price_results.csv\", results)"
   ]
  },
  {
   "cell_type": "code",
   "execution_count": 8,
   "metadata": {},
   "outputs": [
    {
     "data": {
      "text/plain": [
       "\"1_3_results/two_price_profits.csv\""
      ]
     },
     "metadata": {},
     "output_type": "display_data"
    }
   ],
   "source": [
    "\n",
    "\n",
    "CSV.write(\"1_3_results/two_price_profits.csv\", profits_df)\n"
   ]
  }
 ],
 "metadata": {
  "kernelspec": {
   "display_name": "Julia 1.9.3",
   "language": "julia",
   "name": "julia-1.9"
  },
  "language_info": {
   "file_extension": ".jl",
   "mimetype": "application/julia",
   "name": "julia",
   "version": "1.9.3"
  }
 },
 "nbformat": 4,
 "nbformat_minor": 2
}
