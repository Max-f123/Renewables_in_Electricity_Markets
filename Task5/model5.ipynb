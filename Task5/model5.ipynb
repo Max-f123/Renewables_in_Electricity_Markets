{
 "cells": [
  {
   "cell_type": "code",
   "execution_count": 404,
   "metadata": {},
   "outputs": [],
   "source": [
    "#import Pkg\n",
    "#Pkg.add(\"JuMP\")\n",
    "#Pkg.add(\"GLPK\")\n",
    "#Pkg.add(\"Gruobi\")\n",
    "#Pkg.add(\"DataFrames\")\n",
    "#Pkg.add(\"CSV\")"
   ]
  },
  {
   "cell_type": "code",
   "execution_count": 405,
   "metadata": {},
   "outputs": [],
   "source": [
    "using JuMP, GLPK\n",
    "using DataFrames\n",
    "using CSV\n",
    "using PrettyTables"
   ]
  },
  {
   "cell_type": "code",
   "execution_count": 406,
   "metadata": {},
   "outputs": [
    {
     "name": "stdout",
     "output_type": "stream",
     "text": [
      "\u001b[1m12×17 DataFrame\u001b[0m\n",
      "\u001b[1m Row \u001b[0m│\u001b[1m Conventional generators \u001b[0m\u001b[1m Location [node] \u001b[0m\u001b[1m Production cost [$/MWh] \u001b[0m\u001b[1m Upward reserve cost [$/MW] \u001b[0m\u001b[1m Downward reserve cost [$/MW] \u001b[0m\u001b[1m Capacity [MW] \u001b[0m\u001b[1m Maximum upward reserve provision capability [MW] \u001b[0m\u001b[1m Maximum downward reserve provision capability [MW] \u001b[0m\u001b[1m RUi (MW/h)_x \u001b[0m\u001b[1m RDi (MW/h)_x \u001b[0m\u001b[1m P inii (MW)_x \u001b[0m\u001b[1m RUi (MW/h)_y \u001b[0m\u001b[1m RDi (MW/h)_y \u001b[0m\u001b[1m P inii (MW)_y \u001b[0m\u001b[1m RUi (MW/h) \u001b[0m\u001b[1m RDi (MW/h) \u001b[0m\u001b[1m P inii (MW) \u001b[0m\n",
      "     │\u001b[90m Int64                   \u001b[0m\u001b[90m Int64           \u001b[0m\u001b[90m Float64                 \u001b[0m\u001b[90m Float64                    \u001b[0m\u001b[90m Float64                      \u001b[0m\u001b[90m Float64       \u001b[0m\u001b[90m Int64                                            \u001b[0m\u001b[90m Int64                                              \u001b[0m\u001b[90m Int64        \u001b[0m\u001b[90m Int64        \u001b[0m\u001b[90m Int64         \u001b[0m\u001b[90m Int64        \u001b[0m\u001b[90m Int64        \u001b[0m\u001b[90m Int64         \u001b[0m\u001b[90m Int64      \u001b[0m\u001b[90m Int64      \u001b[0m\u001b[90m Int64       \u001b[0m\n",
      "─────┼─────────────────────────────────────────────────────────────────────────────────────────────────────────────────────────────────────────────────────────────────────────────────────────────────────────────────────────────────────────────────────────────────────────────────────────────────────────────────────────────────────────────────────────────────────────────\n",
      "   1 │                       1                1                    13.32                        1.68                          2.32          106.4                                                48                                                  48           120           120             76           120           120             76         120         120           76\n",
      "   2 │                       2                2                    13.32                        1.68                          2.32          106.4                                                48                                                  48           120           120             76           120           120             76         120         120           76\n",
      "   3 │                       3                7                    20.7                         3.3                           4.67          245.0                                                84                                                  84           350           350              0           350           350              0         350         350            0\n",
      "   4 │                       4               13                    20.93                        4.07                          3.93          413.7                                               216                                                 216           240           240              0           240           240              0         240         240            0\n",
      "   5 │                       5               15                    26.11                        1.89                          3.11           42.0                                                42                                                  42            60            60              0            60            60              0          60          60            0\n",
      "   6 │                       6               15                    10.52                        5.48                          3.52          108.5                                                36                                                  36           155           155              0           155           155              0         155         155            0\n",
      "   7 │                       7               16                    10.52                        5.48                          3.52          108.5                                                36                                                  36           155           155            124           155           155            124         155         155          124\n",
      "   8 │                       8               18                     6.02                        4.98                          5.02          280.0                                                60                                                  60           280           280            240           280           280            240         280         280          240\n",
      "   9 │                       9               21                     5.47                        5.53                          4.97          280.0                                                60                                                  60           280           280            240           280           280            240         280         280          240\n",
      "  10 │                      10               22                     7.0                         8.0                           6.0           210.0                                                48                                                  48           300           300            240           300           300            240         300         300          240\n",
      "  11 │                      11               23                    10.52                        3.45                          2.52          217.0                                                72                                                  72           180           180            248           180           180            248         180         180          248\n",
      "  12 │                      12               23                    10.89                        5.11                          2.89          245.0                                                48                                                  48           240           240            280           240           240            280         240         240          280"
     ]
    }
   ],
   "source": [
    "#load cost data\n",
    "con_generation = CSV.File(\"../data/conventional_generators.csv\") |> DataFrame\n",
    "\n",
    "#load wind_technicaldata\n",
    "wind_generation = CSV.File(\"../data/wind_farms.csv\") |> DataFrame\n",
    "\n",
    "# load wind profile\n",
    "wind_profile = CSV.File(\"../data/wind_powerprofile_200.csv\") |> DataFrame\n",
    "\n",
    "print(con_generation)"
   ]
  },
  {
   "cell_type": "code",
   "execution_count": 407,
   "metadata": {},
   "outputs": [
    {
     "name": "stdout",
     "output_type": "stream",
     "text": [
      "\u001b[1m1×12 DataFrame\u001b[0m\n",
      "\u001b[1m Row \u001b[0m│\u001b[1m x_con1  \u001b[0m\u001b[1m x_con2  \u001b[0m\u001b[1m x_con3  \u001b[0m\u001b[1m x_con4  \u001b[0m\u001b[1m x_con5  \u001b[0m\u001b[1m x_con6  \u001b[0m\u001b[1m x_con7  \u001b[0m\u001b[1m x_con8  \u001b[0m\u001b[1m x_con9  \u001b[0m\u001b[1m x_con10 \u001b[0m\u001b[1m x_con11 \u001b[0m\u001b[1m x_con12 \u001b[0m\n",
      "     │\u001b[90m Float64 \u001b[0m\u001b[90m Float64 \u001b[0m\u001b[90m Float64 \u001b[0m\u001b[90m Float64 \u001b[0m\u001b[90m Float64 \u001b[0m\u001b[90m Float64 \u001b[0m\u001b[90m Float64 \u001b[0m\u001b[90m Float64 \u001b[0m\u001b[90m Float64 \u001b[0m\u001b[90m Float64 \u001b[0m\u001b[90m Float64 \u001b[0m\u001b[90m Float64 \u001b[0m\n",
      "─────┼────────────────────────────────────────────────────────────────────────────────────────────────────────────\n",
      "   1 │     0.0      0.0      0.0      0.0      0.0    108.5    108.5    280.0    280.0    210.0    217.0  100.411"
     ]
    }
   ],
   "source": [
    "# load equilibrium and market results from Task1 result foler\n",
    "equilibrium = CSV.File(\"../Task 1/results/equilibrium_model1.csv\") |> DataFrame\n",
    "market = CSV.File(\"../Task 1/results/market_clearing_model1.csv\") |> DataFrame\n",
    "\n",
    "#get hour from market df\n",
    "hour = equilibrium[!, :hour][1]\n",
    "\n",
    "market_price = equilibrium[!, :market_price][1]\n",
    "\n",
    "\n",
    "# get all the columns, which are starting with x_con and x_wind\n",
    "x_con_names = [col for col in names(market) if occursin(\"x_con\", col)]\n",
    "x_wind_names = [col for col in names(market) if occursin(\"x_wind\", col)]\n",
    "y_names = [col for col in names(market) if occursin(\"y\", col)]\n",
    "\n",
    "x_con = market[!, x_con_names]\n",
    "x_wind = market[!, x_wind_names]\n",
    "y = market[!, y_names]\n",
    "\n",
    "print(x_con)"
   ]
  },
  {
   "cell_type": "code",
   "execution_count": 408,
   "metadata": {},
   "outputs": [
    {
     "data": {
      "text/plain": [
       "257.5429648624811"
      ]
     },
     "metadata": {},
     "output_type": "display_data"
    }
   ],
   "source": [
    "# market changes defintion\n",
    "import Random\n",
    "Random.seed!(1234)\n",
    "\n",
    "# make a list of all the positive x_con values and their x_con_list_indexindex\n",
    "x_con_list = []\n",
    "x_con_list_index = []\n",
    "for i in 1:size(x_con, 1)\n",
    "    for j in 1:size(x_con, 2)\n",
    "        if x_con[i, j] > 0\n",
    "            push!(x_con_list, x_con[i, j])\n",
    "            push!(x_con_list_index, (i, j))\n",
    "        end\n",
    "    end\n",
    "end\n",
    "\n",
    "# return random number between 1 and length of x_con_list\n",
    "random_number = rand(1:length(x_con_list))\n",
    "# get the index of the x_con_list_indexindex\n",
    "outage_index = x_con_list_index[random_number]\n",
    "# give the column name of the x_con\n",
    "outage_generator = x_con_names[outage_index[2]]\n",
    "\n",
    "# get wind generatorion differences\n",
    "x_wind_bal = []\n",
    "\n",
    "for i in 1:2\n",
    "    push!(x_wind_bal, x_wind[1,i] *0.1)#0.1\n",
    "end\n",
    "\n",
    "for i in 3:4\n",
    "    push!(x_wind_bal, -x_wind[1,i] * 0.15)#0.15\n",
    "end\n",
    "\n",
    "balance_amount = x_con[1, outage_index[2]] + sum(x_wind_bal)"
   ]
  },
  {
   "cell_type": "code",
   "execution_count": 409,
   "metadata": {},
   "outputs": [
    {
     "data": {
      "text/plain": [
       "4"
      ]
     },
     "metadata": {},
     "output_type": "display_data"
    }
   ],
   "source": [
    "#demand bids\n",
    "name = \"demand_hour_0.csv\"\n",
    "demand_bids = CSV.File(\"../data/demand_bids_hour/\" * name) |> DataFrame\n",
    " \n",
    "# number of convential generators\n",
    "G = size(con_generation, 1)\n",
    "\n",
    "# number of demand\n",
    "D = size(demand_bids, 1)\n",
    "\n",
    "# number of wind generators\n",
    "W = size(wind_generation, 1)"
   ]
  },
  {
   "cell_type": "code",
   "execution_count": 410,
   "metadata": {},
   "outputs": [],
   "source": [
    "# Initialize the DataFrame directly without dynamic column names\n",
    "result_df = DataFrame(hour = Int[], objective_value = Float64[])\n",
    "equilibrium_df = DataFrame(hour = Int[], market_price_bal = Float64[], market_quantity = Float64[], market_state = String[])\n",
    "\n",
    "# For x variables, manually add each column. This is a one-time setup.\n",
    "for i in 1:G\n",
    "    result_df[!, Symbol(\"x_con_down$i\")] = Float64[]\n",
    "end\n",
    "\n",
    "for i in 1:G\n",
    "    result_df[!, Symbol(\"x_con_up$i\")] = Float64[]\n",
    "end\n",
    "\n",
    "# For y variables, manually add each column. This is a one-time setup.\n",
    "for i in 1:D\n",
    "    result_df[!, Symbol(\"y_down$i\")] = Float64[]\n",
    "end"
   ]
  },
  {
   "cell_type": "code",
   "execution_count": 411,
   "metadata": {},
   "outputs": [
    {
     "name": "stdout",
     "output_type": "stream",
     "text": [
      "Hour 23: Optimal solution found\n",
      "11.979000000000001\n"
     ]
    },
    {
     "data": {
      "text/html": [
       "<div><div style = \"float: left;\"><span>1×43 DataFrame</span></div><div style = \"clear: both;\"></div></div><div class = \"data-frame\" style = \"overflow-x: scroll;\"><table class = \"data-frame\" style = \"margin-bottom: 6px;\"><thead><tr class = \"header\"><th class = \"rowNumber\" style = \"font-weight: bold; text-align: right;\">Row</th><th style = \"text-align: left;\">hour</th><th style = \"text-align: left;\">objective_value</th><th style = \"text-align: left;\">x_con_down1</th><th style = \"text-align: left;\">x_con_down2</th><th style = \"text-align: left;\">x_con_down3</th><th style = \"text-align: left;\">x_con_down4</th><th style = \"text-align: left;\">x_con_down5</th><th style = \"text-align: left;\">x_con_down6</th><th style = \"text-align: left;\">x_con_down7</th><th style = \"text-align: left;\">x_con_down8</th><th style = \"text-align: left;\">x_con_down9</th><th style = \"text-align: left;\">x_con_down10</th><th style = \"text-align: left;\">x_con_down11</th><th style = \"text-align: left;\">x_con_down12</th><th style = \"text-align: left;\">x_con_up1</th><th style = \"text-align: left;\">x_con_up2</th><th style = \"text-align: left;\">x_con_up3</th><th style = \"text-align: left;\">x_con_up4</th><th style = \"text-align: left;\">x_con_up5</th><th style = \"text-align: left;\">x_con_up6</th><th style = \"text-align: left;\">x_con_up7</th><th style = \"text-align: left;\">x_con_up8</th><th style = \"text-align: left;\">x_con_up9</th><th style = \"text-align: left;\">x_con_up10</th><th style = \"text-align: left;\">x_con_up11</th><th style = \"text-align: left;\">x_con_up12</th><th style = \"text-align: left;\">y_down1</th><th style = \"text-align: left;\">y_down2</th><th style = \"text-align: left;\">y_down3</th><th style = \"text-align: left;\">y_down4</th><th style = \"text-align: left;\">y_down5</th><th style = \"text-align: left;\">y_down6</th><th style = \"text-align: left;\">y_down7</th><th style = \"text-align: left;\">y_down8</th><th style = \"text-align: left;\">y_down9</th><th style = \"text-align: left;\">y_down10</th><th style = \"text-align: left;\">y_down11</th><th style = \"text-align: left;\">y_down12</th><th style = \"text-align: left;\">y_down13</th><th style = \"text-align: left;\">y_down14</th><th style = \"text-align: left;\">y_down15</th><th style = \"text-align: left;\">y_down16</th><th style = \"text-align: left;\">y_down17</th></tr><tr class = \"subheader headerLastRow\"><th class = \"rowNumber\" style = \"font-weight: bold; text-align: right;\"></th><th title = \"Int64\" style = \"text-align: left;\">Int64</th><th title = \"Float64\" style = \"text-align: left;\">Float64</th><th title = \"Float64\" style = \"text-align: left;\">Float64</th><th title = \"Float64\" style = \"text-align: left;\">Float64</th><th title = \"Float64\" style = \"text-align: left;\">Float64</th><th title = \"Float64\" style = \"text-align: left;\">Float64</th><th title = \"Float64\" style = \"text-align: left;\">Float64</th><th title = \"Float64\" style = \"text-align: left;\">Float64</th><th title = \"Float64\" style = \"text-align: left;\">Float64</th><th title = \"Float64\" style = \"text-align: left;\">Float64</th><th title = \"Float64\" style = \"text-align: left;\">Float64</th><th title = \"Float64\" style = \"text-align: left;\">Float64</th><th title = \"Float64\" style = \"text-align: left;\">Float64</th><th title = \"Float64\" style = \"text-align: left;\">Float64</th><th title = \"Float64\" style = \"text-align: left;\">Float64</th><th title = \"Float64\" style = \"text-align: left;\">Float64</th><th title = \"Float64\" style = \"text-align: left;\">Float64</th><th title = \"Float64\" style = \"text-align: left;\">Float64</th><th title = \"Float64\" style = \"text-align: left;\">Float64</th><th title = \"Float64\" style = \"text-align: left;\">Float64</th><th title = \"Float64\" style = \"text-align: left;\">Float64</th><th title = \"Float64\" style = \"text-align: left;\">Float64</th><th title = \"Float64\" style = \"text-align: left;\">Float64</th><th title = \"Float64\" style = \"text-align: left;\">Float64</th><th title = \"Float64\" style = \"text-align: left;\">Float64</th><th title = \"Float64\" style = \"text-align: left;\">Float64</th><th title = \"Float64\" style = \"text-align: left;\">Float64</th><th title = \"Float64\" style = \"text-align: left;\">Float64</th><th title = \"Float64\" style = \"text-align: left;\">Float64</th><th title = \"Float64\" style = \"text-align: left;\">Float64</th><th title = \"Float64\" style = \"text-align: left;\">Float64</th><th title = \"Float64\" style = \"text-align: left;\">Float64</th><th title = \"Float64\" style = \"text-align: left;\">Float64</th><th title = \"Float64\" style = \"text-align: left;\">Float64</th><th title = \"Float64\" style = \"text-align: left;\">Float64</th><th title = \"Float64\" style = \"text-align: left;\">Float64</th><th title = \"Float64\" style = \"text-align: left;\">Float64</th><th title = \"Float64\" style = \"text-align: left;\">Float64</th><th title = \"Float64\" style = \"text-align: left;\">Float64</th><th title = \"Float64\" style = \"text-align: left;\">Float64</th><th title = \"Float64\" style = \"text-align: left;\">Float64</th><th title = \"Float64\" style = \"text-align: left;\">Float64</th><th title = \"Float64\" style = \"text-align: left;\">Float64</th></tr></thead><tbody><tr><td class = \"rowNumber\" style = \"font-weight: bold; text-align: right;\">1</td><td style = \"text-align: right;\">23</td><td style = \"text-align: right;\">3028.59</td><td style = \"text-align: right;\">0.0</td><td style = \"text-align: right;\">0.0</td><td style = \"text-align: right;\">0.0</td><td style = \"text-align: right;\">0.0</td><td style = \"text-align: right;\">0.0</td><td style = \"text-align: right;\">0.0</td><td style = \"text-align: right;\">0.0</td><td style = \"text-align: right;\">0.0</td><td style = \"text-align: right;\">0.0</td><td style = \"text-align: right;\">0.0</td><td style = \"text-align: right;\">0.0</td><td style = \"text-align: right;\">0.0</td><td style = \"text-align: right;\">0.0</td><td style = \"text-align: right;\">0.0</td><td style = \"text-align: right;\">0.0</td><td style = \"text-align: right;\">0.0</td><td style = \"text-align: right;\">0.0</td><td style = \"text-align: right;\">36.0</td><td style = \"text-align: right;\">36.0</td><td style = \"text-align: right;\">0.0</td><td style = \"text-align: right;\">60.0</td><td style = \"text-align: right;\">48.0</td><td style = \"text-align: right;\">72.0</td><td style = \"text-align: right;\">5.54296</td><td style = \"text-align: right;\">0.0</td><td style = \"text-align: right;\">0.0</td><td style = \"text-align: right;\">0.0</td><td style = \"text-align: right;\">0.0</td><td style = \"text-align: right;\">0.0</td><td style = \"text-align: right;\">0.0</td><td style = \"text-align: right;\">0.0</td><td style = \"text-align: right;\">0.0</td><td style = \"text-align: right;\">0.0</td><td style = \"text-align: right;\">0.0</td><td style = \"text-align: right;\">0.0</td><td style = \"text-align: right;\">0.0</td><td style = \"text-align: right;\">0.0</td><td style = \"text-align: right;\">0.0</td><td style = \"text-align: right;\">0.0</td><td style = \"text-align: right;\">0.0</td><td style = \"text-align: right;\">0.0</td></tr></tbody></table></div>"
      ],
      "text/latex": [
       "\\begin{tabular}{r|cccccccc}\n",
       "\t& hour & objective\\_value & x\\_con\\_down1 & x\\_con\\_down2 & x\\_con\\_down3 & x\\_con\\_down4 & x\\_con\\_down5 & \\\\\n",
       "\t\\hline\n",
       "\t& Int64 & Float64 & Float64 & Float64 & Float64 & Float64 & Float64 & \\\\\n",
       "\t\\hline\n",
       "\t1 & 23 & 3028.59 & 0.0 & 0.0 & 0.0 & 0.0 & 0.0 & $\\dots$ \\\\\n",
       "\\end{tabular}\n"
      ],
      "text/plain": [
       "\u001b[1m1×43 DataFrame\u001b[0m\n",
       "\u001b[1m Row \u001b[0m│\u001b[1m hour  \u001b[0m\u001b[1m objective_value \u001b[0m\u001b[1m x_con_down1 \u001b[0m\u001b[1m x_con_down2 \u001b[0m\u001b[1m x_con_down3 \u001b[0m\u001b[1m x_con_do\u001b[0m ⋯\n",
       "     │\u001b[90m Int64 \u001b[0m\u001b[90m Float64         \u001b[0m\u001b[90m Float64     \u001b[0m\u001b[90m Float64     \u001b[0m\u001b[90m Float64     \u001b[0m\u001b[90m Float64 \u001b[0m ⋯\n",
       "─────┼──────────────────────────────────────────────────────────────────────────\n",
       "   1 │    23          3028.59          0.0          0.0          0.0           ⋯\n",
       "\u001b[36m                                                              38 columns omitted\u001b[0m"
      ]
     },
     "metadata": {},
     "output_type": "display_data"
    }
   ],
   "source": [
    "# Create a new model with GLPK solver\n",
    "model = Model(GLPK.Optimizer)\n",
    "\n",
    "# Define the decision variables for every generator\n",
    "unregister(model, :x)  # Unregister the existing variable named \"x\" from the model\n",
    "\n",
    "#demand bids\n",
    "name = \"demand_hour_\" * string(hour-1) * \".csv\"\n",
    "demand_bids = CSV.File(\"../data/demand_bids_hour/\" * name) |> DataFrame\n",
    "\n",
    "# number of demand\n",
    "D = size(demand_bids, 1)\n",
    "\n",
    "#@variable(model, x_bin[1:G], Bin)  # binary variable for on/off status\n",
    "@variable(model, x_con_down[1:G])  # power output variable\n",
    "\n",
    "#@variable(model, x_bin[1:G], Bin)  # binary variable for on/off status\n",
    "@variable(model, x_con_up[1:G])  # power output variable\n",
    "\n",
    "# Create explicit constraints for the bounds, to be able to access their dual values later\n",
    "lb_g = Vector{Any}(undef, G+G)\n",
    "ub_g = Vector{Any}(undef, G+G)\n",
    "for g in 1:G\n",
    "    lb_g[g] = @constraint(model, x_con_down[g] >= 0)\n",
    "    ub_g[g] = @constraint(model, x_con_down[g] <= con_generation[g,8])\n",
    "end\n",
    "\n",
    "for g in 1:G\n",
    "    lb_g[g+G] = @constraint(model, x_con_up[g] >= 0)\n",
    "    ub_g[g+G] = @constraint(model, x_con_up[g] <= con_generation[g,7])\n",
    "end\n",
    "\n",
    "# extra constraint for the outage generator\n",
    "@constraint(model, x_con_down[outage_index[2]] == 0)\n",
    "@constraint(model, x_con_up[outage_index[2]] == 0)\n",
    "\n",
    "\n",
    "\n",
    "# decision variables for demand\n",
    "@variable(model, y_down[1:size(demand_bids, 1)])  # Create the new variable\n",
    "# Create explicit constraints for the bounds, to be able to access their dual values later\n",
    "lb_d = Vector{Any}(undef, D)\n",
    "ub_d = Vector{Any}(undef, D)\n",
    "for d in 1:D\n",
    "    lb_d[d] = @constraint(model, y_down[d] >= 0)\n",
    "    ub_d[d] = @constraint(model, y_down[d] <= y[1,d])\n",
    "end\n",
    "\n",
    "# Add the constraint for the balance between supply and demand\n",
    "@constraint(model, BalanceConstraint, sum(x_con_up[g] for g in 1:G)  + sum(y_down[d] for d in 1:D) - sum(x_con_down[g] for g in 1:G) == balance_amount)\n",
    "\n",
    "# Define the objective function\n",
    "@objective(model, Min, sum((market_price+0.1*con_generation[g,3])*x_con_up[g] for g in 1:G) + 400 * sum(y_down[d] for d in 1:D) - sum((market_price-0.13*con_generation[g,3])*x_con_down[g] for g in 1:G))\n",
    "\n",
    "# Print the model\n",
    "#print(model)\n",
    "\n",
    "# Solve the model\n",
    "optimize!(model)\n",
    "\n",
    "# Check the status of the solution\n",
    "status = termination_status(model)\n",
    "if status == MOI.OPTIMAL\n",
    "    println(\"Hour \", hour, \": Optimal solution found\")\n",
    "    #println(\"Objective value: \", objective_value(model))\n",
    "    #println(\"x values: \", [value(x[i]) for i in 1:G])\n",
    "    #println(\"x_wind values: \", [value(x_wind[i]) for i in 1:W])\n",
    "    #println(\"y values: \", [value(y[i]) for i in 1:D])\n",
    "    println(dual(BalanceConstraint))\n",
    "\n",
    "    market_state = 0\n",
    "\n",
    "    if balance_amount > 0\n",
    "        market_state = \"Deficit\"\n",
    "    else\n",
    "        market_state = \"Excess\"\n",
    "    end\n",
    "    #add dual values to dataframe\n",
    "    push!(equilibrium_df, [hour, dual(BalanceConstraint), balance_amount, market_state])\n",
    "\n",
    "    #save results to dataframe\n",
    "    push!(result_df, [hour, objective_value(model), [value(x_con_down[i]) for i in 1:G]..., [value(x_con_up[i]) for i in 1:G]..., [value(y_down[i]) for i in 1:D]...])\n",
    "\n",
    "elseif status == MOI.INFEASIBLE\n",
    "    println(\"Hour \", hour, \": No feasible solution found\")\n",
    "else\n",
    "    println(\"Hour \", hour, \": Solver status: \", status)\n",
    "end\n"
   ]
  },
  {
   "cell_type": "code",
   "execution_count": 412,
   "metadata": {},
   "outputs": [
    {
     "name": "stdout",
     "output_type": "stream",
     "text": [
      "10.89"
     ]
    }
   ],
   "source": [
    "print(market_price)"
   ]
  },
  {
   "cell_type": "code",
   "execution_count": 413,
   "metadata": {},
   "outputs": [
    {
     "data": {
      "text/html": [
       "<div><div style = \"float: left;\"><span>1×4 DataFrame</span></div><div style = \"clear: both;\"></div></div><div class = \"data-frame\" style = \"overflow-x: scroll;\"><table class = \"data-frame\" style = \"margin-bottom: 6px;\"><thead><tr class = \"header\"><th class = \"rowNumber\" style = \"font-weight: bold; text-align: right;\">Row</th><th style = \"text-align: left;\">hour</th><th style = \"text-align: left;\">market_price_bal</th><th style = \"text-align: left;\">market_quantity</th><th style = \"text-align: left;\">market_state</th></tr><tr class = \"subheader headerLastRow\"><th class = \"rowNumber\" style = \"font-weight: bold; text-align: right;\"></th><th title = \"Int64\" style = \"text-align: left;\">Int64</th><th title = \"Float64\" style = \"text-align: left;\">Float64</th><th title = \"Float64\" style = \"text-align: left;\">Float64</th><th title = \"String\" style = \"text-align: left;\">String</th></tr></thead><tbody><tr><td class = \"rowNumber\" style = \"font-weight: bold; text-align: right;\">1</td><td style = \"text-align: right;\">23</td><td style = \"text-align: right;\">11.979</td><td style = \"text-align: right;\">257.543</td><td style = \"text-align: left;\">Deficit</td></tr></tbody></table></div>"
      ],
      "text/latex": [
       "\\begin{tabular}{r|cccc}\n",
       "\t& hour & market\\_price\\_bal & market\\_quantity & market\\_state\\\\\n",
       "\t\\hline\n",
       "\t& Int64 & Float64 & Float64 & String\\\\\n",
       "\t\\hline\n",
       "\t1 & 23 & 11.979 & 257.543 & Deficit \\\\\n",
       "\\end{tabular}\n"
      ],
      "text/plain": [
       "\u001b[1m1×4 DataFrame\u001b[0m\n",
       "\u001b[1m Row \u001b[0m│\u001b[1m hour  \u001b[0m\u001b[1m market_price_bal \u001b[0m\u001b[1m market_quantity \u001b[0m\u001b[1m market_state \u001b[0m\n",
       "     │\u001b[90m Int64 \u001b[0m\u001b[90m Float64          \u001b[0m\u001b[90m Float64         \u001b[0m\u001b[90m String       \u001b[0m\n",
       "─────┼────────────────────────────────────────────────────────\n",
       "   1 │    23            11.979          257.543  Deficit"
      ]
     },
     "metadata": {},
     "output_type": "display_data"
    }
   ],
   "source": [
    "equilibrium_df"
   ]
  },
  {
   "cell_type": "code",
   "execution_count": 414,
   "metadata": {},
   "outputs": [
    {
     "data": {
      "text/plain": [
       "\"results/optimization_results_demand5.csv\""
      ]
     },
     "metadata": {},
     "output_type": "display_data"
    }
   ],
   "source": [
    "#Access the dual values of all the generators constraints and add them to a new dataframe, in scientific notation\n",
    "duals_g = DataFrame(hour = Int[], gen = Symbol[], lower_bound = Float64[], upper_bound = Float64[])\n",
    "for i in 1:G\n",
    "    push!(duals_g, [hour, Symbol(\"x_con_down$i\"), dual(lb_g[i]), dual(ub_g[i])])\n",
    "end\n",
    "for i in 1:G\n",
    "    push!(duals_g, [hour, Symbol(\"x_con_up$i\"), dual(lb_g[i+G]), dual(ub_g[i+G])])\n",
    "end\n",
    "\n",
    "duals_d = DataFrame(hour = Int[], node = Int[],lower_bound = Float64[], upper_bound = Float64[])\n",
    "for i in 1:D\n",
    "    push!(duals_d, [hour, demand_bids[i,1], dual(lb_d[i]), dual(ub_d[i])])\n",
    "end\n",
    "\n",
    "\n",
    "#save results to dataframe\n",
    "CSV.write(\"results/optimization_results_generation5.csv\", duals_g)\n",
    "CSV.write(\"results/optimization_results_demand5.csv\", duals_d)\n"
   ]
  },
  {
   "cell_type": "code",
   "execution_count": 415,
   "metadata": {},
   "outputs": [
    {
     "data": {
      "text/html": [
       "<div><div style = \"float: left;\"><span>1×43 DataFrame</span></div><div style = \"clear: both;\"></div></div><div class = \"data-frame\" style = \"overflow-x: scroll;\"><table class = \"data-frame\" style = \"margin-bottom: 6px;\"><thead><tr class = \"header\"><th class = \"rowNumber\" style = \"font-weight: bold; text-align: right;\">Row</th><th style = \"text-align: left;\">hour</th><th style = \"text-align: left;\">objective_value</th><th style = \"text-align: left;\">x_con_down1</th><th style = \"text-align: left;\">x_con_down2</th><th style = \"text-align: left;\">x_con_down3</th><th style = \"text-align: left;\">x_con_down4</th><th style = \"text-align: left;\">x_con_down5</th><th style = \"text-align: left;\">x_con_down6</th><th style = \"text-align: left;\">x_con_down7</th><th style = \"text-align: left;\">x_con_down8</th><th style = \"text-align: left;\">x_con_down9</th><th style = \"text-align: left;\">x_con_down10</th><th style = \"text-align: left;\">x_con_down11</th><th style = \"text-align: left;\">x_con_down12</th><th style = \"text-align: left;\">x_con_up1</th><th style = \"text-align: left;\">x_con_up2</th><th style = \"text-align: left;\">x_con_up3</th><th style = \"text-align: left;\">x_con_up4</th><th style = \"text-align: left;\">x_con_up5</th><th style = \"text-align: left;\">x_con_up6</th><th style = \"text-align: left;\">x_con_up7</th><th style = \"text-align: left;\">x_con_up8</th><th style = \"text-align: left;\">x_con_up9</th><th style = \"text-align: left;\">x_con_up10</th><th style = \"text-align: left;\">x_con_up11</th><th style = \"text-align: left;\">x_con_up12</th><th style = \"text-align: left;\">y_down1</th><th style = \"text-align: left;\">y_down2</th><th style = \"text-align: left;\">y_down3</th><th style = \"text-align: left;\">y_down4</th><th style = \"text-align: left;\">y_down5</th><th style = \"text-align: left;\">y_down6</th><th style = \"text-align: left;\">y_down7</th><th style = \"text-align: left;\">y_down8</th><th style = \"text-align: left;\">y_down9</th><th style = \"text-align: left;\">y_down10</th><th style = \"text-align: left;\">y_down11</th><th style = \"text-align: left;\">y_down12</th><th style = \"text-align: left;\">y_down13</th><th style = \"text-align: left;\">y_down14</th><th style = \"text-align: left;\">y_down15</th><th style = \"text-align: left;\">y_down16</th><th style = \"text-align: left;\">y_down17</th></tr><tr class = \"subheader headerLastRow\"><th class = \"rowNumber\" style = \"font-weight: bold; text-align: right;\"></th><th title = \"Int64\" style = \"text-align: left;\">Int64</th><th title = \"Float64\" style = \"text-align: left;\">Float64</th><th title = \"Float64\" style = \"text-align: left;\">Float64</th><th title = \"Float64\" style = \"text-align: left;\">Float64</th><th title = \"Float64\" style = \"text-align: left;\">Float64</th><th title = \"Float64\" style = \"text-align: left;\">Float64</th><th title = \"Float64\" style = \"text-align: left;\">Float64</th><th title = \"Float64\" style = \"text-align: left;\">Float64</th><th title = \"Float64\" style = \"text-align: left;\">Float64</th><th title = \"Float64\" style = \"text-align: left;\">Float64</th><th title = \"Float64\" style = \"text-align: left;\">Float64</th><th title = \"Float64\" style = \"text-align: left;\">Float64</th><th title = \"Float64\" style = \"text-align: left;\">Float64</th><th title = \"Float64\" style = \"text-align: left;\">Float64</th><th title = \"Float64\" style = \"text-align: left;\">Float64</th><th title = \"Float64\" style = \"text-align: left;\">Float64</th><th title = \"Float64\" style = \"text-align: left;\">Float64</th><th title = \"Float64\" style = \"text-align: left;\">Float64</th><th title = \"Float64\" style = \"text-align: left;\">Float64</th><th title = \"Float64\" style = \"text-align: left;\">Float64</th><th title = \"Float64\" style = \"text-align: left;\">Float64</th><th title = \"Float64\" style = \"text-align: left;\">Float64</th><th title = \"Float64\" style = \"text-align: left;\">Float64</th><th title = \"Float64\" style = \"text-align: left;\">Float64</th><th title = \"Float64\" style = \"text-align: left;\">Float64</th><th title = \"Float64\" style = \"text-align: left;\">Float64</th><th title = \"Float64\" style = \"text-align: left;\">Float64</th><th title = \"Float64\" style = \"text-align: left;\">Float64</th><th title = \"Float64\" style = \"text-align: left;\">Float64</th><th title = \"Float64\" style = \"text-align: left;\">Float64</th><th title = \"Float64\" style = \"text-align: left;\">Float64</th><th title = \"Float64\" style = \"text-align: left;\">Float64</th><th title = \"Float64\" style = \"text-align: left;\">Float64</th><th title = \"Float64\" style = \"text-align: left;\">Float64</th><th title = \"Float64\" style = \"text-align: left;\">Float64</th><th title = \"Float64\" style = \"text-align: left;\">Float64</th><th title = \"Float64\" style = \"text-align: left;\">Float64</th><th title = \"Float64\" style = \"text-align: left;\">Float64</th><th title = \"Float64\" style = \"text-align: left;\">Float64</th><th title = \"Float64\" style = \"text-align: left;\">Float64</th><th title = \"Float64\" style = \"text-align: left;\">Float64</th><th title = \"Float64\" style = \"text-align: left;\">Float64</th><th title = \"Float64\" style = \"text-align: left;\">Float64</th></tr></thead><tbody><tr><td class = \"rowNumber\" style = \"font-weight: bold; text-align: right;\">1</td><td style = \"text-align: right;\">23</td><td style = \"text-align: right;\">3028.59</td><td style = \"text-align: right;\">0.0</td><td style = \"text-align: right;\">0.0</td><td style = \"text-align: right;\">0.0</td><td style = \"text-align: right;\">0.0</td><td style = \"text-align: right;\">0.0</td><td style = \"text-align: right;\">0.0</td><td style = \"text-align: right;\">0.0</td><td style = \"text-align: right;\">0.0</td><td style = \"text-align: right;\">0.0</td><td style = \"text-align: right;\">0.0</td><td style = \"text-align: right;\">0.0</td><td style = \"text-align: right;\">0.0</td><td style = \"text-align: right;\">0.0</td><td style = \"text-align: right;\">0.0</td><td style = \"text-align: right;\">0.0</td><td style = \"text-align: right;\">0.0</td><td style = \"text-align: right;\">0.0</td><td style = \"text-align: right;\">36.0</td><td style = \"text-align: right;\">36.0</td><td style = \"text-align: right;\">0.0</td><td style = \"text-align: right;\">60.0</td><td style = \"text-align: right;\">48.0</td><td style = \"text-align: right;\">72.0</td><td style = \"text-align: right;\">5.54296</td><td style = \"text-align: right;\">0.0</td><td style = \"text-align: right;\">0.0</td><td style = \"text-align: right;\">0.0</td><td style = \"text-align: right;\">0.0</td><td style = \"text-align: right;\">0.0</td><td style = \"text-align: right;\">0.0</td><td style = \"text-align: right;\">0.0</td><td style = \"text-align: right;\">0.0</td><td style = \"text-align: right;\">0.0</td><td style = \"text-align: right;\">0.0</td><td style = \"text-align: right;\">0.0</td><td style = \"text-align: right;\">0.0</td><td style = \"text-align: right;\">0.0</td><td style = \"text-align: right;\">0.0</td><td style = \"text-align: right;\">0.0</td><td style = \"text-align: right;\">0.0</td><td style = \"text-align: right;\">0.0</td></tr></tbody></table></div>"
      ],
      "text/latex": [
       "\\begin{tabular}{r|cccccccc}\n",
       "\t& hour & objective\\_value & x\\_con\\_down1 & x\\_con\\_down2 & x\\_con\\_down3 & x\\_con\\_down4 & x\\_con\\_down5 & \\\\\n",
       "\t\\hline\n",
       "\t& Int64 & Float64 & Float64 & Float64 & Float64 & Float64 & Float64 & \\\\\n",
       "\t\\hline\n",
       "\t1 & 23 & 3028.59 & 0.0 & 0.0 & 0.0 & 0.0 & 0.0 & $\\dots$ \\\\\n",
       "\\end{tabular}\n"
      ],
      "text/plain": [
       "\u001b[1m1×43 DataFrame\u001b[0m\n",
       "\u001b[1m Row \u001b[0m│\u001b[1m hour  \u001b[0m\u001b[1m objective_value \u001b[0m\u001b[1m x_con_down1 \u001b[0m\u001b[1m x_con_down2 \u001b[0m\u001b[1m x_con_down3 \u001b[0m\u001b[1m x_con_do\u001b[0m ⋯\n",
       "     │\u001b[90m Int64 \u001b[0m\u001b[90m Float64         \u001b[0m\u001b[90m Float64     \u001b[0m\u001b[90m Float64     \u001b[0m\u001b[90m Float64     \u001b[0m\u001b[90m Float64 \u001b[0m ⋯\n",
       "─────┼──────────────────────────────────────────────────────────────────────────\n",
       "   1 │    23          3028.59          0.0          0.0          0.0           ⋯\n",
       "\u001b[36m                                                              38 columns omitted\u001b[0m"
      ]
     },
     "metadata": {},
     "output_type": "display_data"
    }
   ],
   "source": [
    "result_df"
   ]
  },
  {
   "cell_type": "code",
   "execution_count": 416,
   "metadata": {},
   "outputs": [
    {
     "data": {
      "text/plain": [
       "\"results/equilibrium_model5.csv\""
      ]
     },
     "metadata": {},
     "output_type": "display_data"
    }
   ],
   "source": [
    "#save result_df to csv\n",
    "CSV.write(\"results/market_clearing_model5.csv\", result_df)\n",
    "CSV.write(\"results/equilibrium_model5.csv\", equilibrium_df)"
   ]
  },
  {
   "cell_type": "code",
   "execution_count": 417,
   "metadata": {},
   "outputs": [
    {
     "name": "stdout",
     "output_type": "stream",
     "text": [
      "\u001b[1m12×10 DataFrame\u001b[0m\n",
      "\u001b[1m Row \u001b[0m│\u001b[1m energy_day_ahead \u001b[0m\u001b[1m day_ahead_revenue \u001b[0m\u001b[1m capacity_change \u001b[0m\u001b[1m penalty \u001b[0m\u001b[1m balance_volume \u001b[0m\u001b[1m balance_revenue \u001b[0m\u001b[1m total_revenue \u001b[0m\u001b[1m variable_costs \u001b[0m\u001b[1m costs   \u001b[0m\u001b[1m profit     \u001b[0m\n",
      "     │\u001b[90m Any              \u001b[0m\u001b[90m Any               \u001b[0m\u001b[90m Any             \u001b[0m\u001b[90m Any     \u001b[0m\u001b[90m Any            \u001b[0m\u001b[90m Any             \u001b[0m\u001b[90m Float64       \u001b[0m\u001b[90m Any            \u001b[0m\u001b[90m Float64 \u001b[0m\u001b[90m Float64    \u001b[0m\n",
      "─────┼────────────────────────────────────────────────────────────────────────────────────────────────────────────────────────────────────────────────────\n",
      "   1 │ 0.0               0.0                0                -0.0     0.0             0.0                       0.0   13.32              0.0      0.0\n",
      "   2 │ 0.0               0.0                0                -0.0     0.0             0.0                       0.0   13.32              0.0      0.0\n",
      "   3 │ 0.0               0.0                0                -0.0     0.0             0.0                       0.0   20.7               0.0      0.0\n",
      "   4 │ 0.0               0.0                0                -0.0     0.0             0.0                       0.0   20.93              0.0      0.0\n",
      "   5 │ 0.0               0.0                0                -0.0     0.0             0.0                       0.0   26.11              0.0      0.0\n",
      "   6 │ 108.5             1181.57            0                -0.0     36.0            431.244                1612.81  10.52           1520.14    92.669\n",
      "   7 │ 108.5             1181.57            0                -0.0     36.0            431.244                1612.81  10.52           1520.14    92.669\n",
      "   8 │ 280.0             3049.2             -280.0           3354.12  0.0             0.0                    -304.92  6.02               0.0   -304.92\n",
      "   9 │ 280.0             3049.2             0                -0.0     60.0            718.74                 3767.94  5.47            1859.8   1908.14\n",
      "  10 │ 210.0             2286.9             0                -0.0     48.0            574.992                2861.89  7.0             1806.0   1055.89\n",
      "  11 │ 217.0             2363.13            0                -0.0     72.0            862.488                3225.62  10.52           3040.28   185.338\n",
      "  12 │ 100.411           1093.48            0                -0.0     5.54296         66.3992                1159.88  10.89           1153.84     6.03629"
     ]
    },
    {
     "data": {
      "text/plain": [
       "\"results/profits_model5.csv\""
      ]
     },
     "metadata": {},
     "output_type": "display_data"
    }
   ],
   "source": [
    "# sign = 0\n",
    "# if (x_con[1, outage_index[2]] + sum(x_wind_bal)) > 0\n",
    "#     #deficit\n",
    "#     sign = -1\n",
    "# else\n",
    "#     #excess\n",
    "#     sign = 1\n",
    "# end\n",
    "\n",
    "\n",
    "\n",
    "profit_df_one_price = DataFrame()\n",
    "\n",
    "# insert the assigned capacity for each generator\n",
    "energy_day_ahead = []\n",
    "for i in 1:G\n",
    "    # make array with the assigned capacity\n",
    "    push!(energy_day_ahead, x_con[1,i])\n",
    "end\n",
    "profit_df_one_price[!, :energy_day_ahead] = energy_day_ahead\n",
    "\n",
    "#calculate the profit for each generator\n",
    "day_ahead_revenue = []\n",
    "for i in 1:G\n",
    "    push!(day_ahead_revenue,x_con[1,i]* market_price)\n",
    "end\n",
    "profit_df_one_price[!, :day_ahead_revenue] = day_ahead_revenue\n",
    "\n",
    "capacity_change = []\n",
    "for i in 1:G\n",
    "    if i == outage_index[2]\n",
    "        push!(capacity_change, -1*x_con[1, outage_index[2]])\n",
    "    else\n",
    "        push!(capacity_change, 0)\n",
    "    end\n",
    "end\n",
    "profit_df_one_price[!, :capacity_change] = capacity_change\n",
    "\n",
    "#insert column for penalty for each generator\n",
    "penalty = []\n",
    "for i in 1:G\n",
    "    push!(penalty, dual(BalanceConstraint) * profit_df_one_price[!, :capacity_change][i] * -1)\n",
    "end\n",
    "profit_df_one_price[!, :penalty] = penalty\n",
    "\n",
    "# insert the assigned capacity for each generator\n",
    "balance_volume = []\n",
    "for i in 1:G\n",
    "    # make array with the assigned capacity\n",
    "    push!(balance_volume, value(x_con_up[i]) - value(x_con_down[i]))\n",
    "end\n",
    "profit_df_one_price[!, :balance_volume] = balance_volume\n",
    "\n",
    "#calculate the profit for each generator\n",
    "balance_revenue = []\n",
    "for i in 1:G\n",
    "    push!(balance_revenue, (value(x_con_up[i]) - value(x_con_down[i])) * dual(BalanceConstraint))\n",
    "end\n",
    "profit_df_one_price[!, :balance_revenue] = balance_revenue\n",
    "\n",
    "#total revenue for each generator\n",
    "profit_df_one_price[!, :total_revenue] = profit_df_one_price[!, :day_ahead_revenue] + profit_df_one_price[!, :balance_revenue] - profit_df_one_price[!, :penalty]\n",
    "\n",
    "#insert the variable costs for each generator\n",
    "variable_costs = []\n",
    "for i in 1:G\n",
    "    push!(variable_costs, con_generation[i,3])\n",
    "end\n",
    "profit_df_one_price[!, :variable_costs] = variable_costs\n",
    "\n",
    "#calculate costs for each generator\n",
    "profit_df_one_price[!, :costs] = (profit_df_one_price[!, :energy_day_ahead] + profit_df_one_price[!, :capacity_change] + profit_df_one_price[!, :balance_volume]) .* profit_df_one_price[!, :variable_costs]\n",
    "\n",
    "#calculate the profit for each generator\n",
    "profit_df_one_price[!, :profit] = profit_df_one_price[!, :total_revenue]-profit_df_one_price[!, :costs]\n",
    "\n",
    "print(profit_df_one_price)\n",
    "\n",
    "\n",
    "CSV.write(\"results/profits_model5.csv\", profit_df_one_price)\n",
    "\n",
    "#pretty_table(profit_df_one_price, backend = Val(:latex))"
   ]
  },
  {
   "cell_type": "code",
   "execution_count": 418,
   "metadata": {},
   "outputs": [
    {
     "name": "stdout",
     "output_type": "stream",
     "text": [
      "\u001b[1m4×10 DataFrame\u001b[0m\n",
      "\u001b[1m Row \u001b[0m│\u001b[1m energy_day_ahead \u001b[0m\u001b[1m day_ahead_revenue \u001b[0m\u001b[1m capacity_change \u001b[0m\u001b[1m penalty  \u001b[0m\u001b[1m balance_volume \u001b[0m\u001b[1m balance_revenue \u001b[0m\u001b[1m total_revenue \u001b[0m\u001b[1m variable_costs \u001b[0m\u001b[1m costs   \u001b[0m\u001b[1m profit  \u001b[0m\n",
      "     │\u001b[90m Any              \u001b[0m\u001b[90m Any               \u001b[0m\u001b[90m Any             \u001b[0m\u001b[90m Any      \u001b[0m\u001b[90m Any            \u001b[0m\u001b[90m Any             \u001b[0m\u001b[90m Float64       \u001b[0m\u001b[90m Any            \u001b[0m\u001b[90m Float64 \u001b[0m\u001b[90m Float64 \u001b[0m\n",
      "─────┼──────────────────────────────────────────────────────────────────────────────────────────────────────────────────────────────────────────────────\n",
      "   1 │ 124.879           1359.93            -12.4879         149.592   0               0                      1210.34  0                   0.0  1210.34\n",
      "   2 │ 122.933           1338.74            -12.2933         147.261   0               0                      1191.48  0                   0.0  1191.48\n",
      "   3 │ 163.273           1778.04            24.4909          -293.377  0               0                      2071.42  0                   0.0  2071.42\n",
      "   4 │ 151.649           1651.45            22.7473          -272.49   0               0                      1923.94  0                   0.0  1923.94"
     ]
    }
   ],
   "source": [
    "#do the same for thw wind farms\n",
    "profit_df_one_price_wind = DataFrame()\n",
    "\n",
    "# insert the assigned capacity for each generator\n",
    "energy_day_ahead = []\n",
    "for i in 1:W\n",
    "    # make array with the assigned capacity\n",
    "    push!(energy_day_ahead, x_wind[1,i])\n",
    "end\n",
    "profit_df_one_price_wind[!, :energy_day_ahead] = energy_day_ahead\n",
    "\n",
    "#calculate the profit for each generator\n",
    "day_ahead_revenue = []\n",
    "for i in 1:W\n",
    "    push!(day_ahead_revenue,x_wind[1,i]* market_price)\n",
    "end\n",
    "profit_df_one_price_wind[!, :day_ahead_revenue] = day_ahead_revenue\n",
    "\n",
    "capacity_change = []\n",
    "for i in 1:W\n",
    "    push!(capacity_change, x_wind_bal[i]*-1)\n",
    "end\n",
    "profit_df_one_price_wind[!, :capacity_change] = capacity_change\n",
    "\n",
    "#insert column for penalty for each generator\n",
    "penalty = []\n",
    "for i in 1:W\n",
    "        push!(penalty, dual(BalanceConstraint) * profit_df_one_price_wind[!, :capacity_change][i] * -1)\n",
    "end\n",
    "profit_df_one_price_wind[!, :penalty] = penalty\n",
    "\n",
    "balance_volume = []\n",
    "for i in 1:W\n",
    "    # make array with the assigned capacity\n",
    "    push!(balance_volume, 0)\n",
    "end\n",
    "profit_df_one_price_wind[!, :balance_volume] = balance_volume\n",
    "\n",
    "#calculate the profit for each generator\n",
    "balance_revenue = []\n",
    "for i in 1:W\n",
    "    push!(balance_revenue, 0)\n",
    "end\n",
    "profit_df_one_price_wind[!, :balance_revenue] = balance_revenue\n",
    "\n",
    "#total revenue for each generator\n",
    "profit_df_one_price_wind[!, :total_revenue] = profit_df_one_price_wind[!, :day_ahead_revenue] + profit_df_one_price_wind[!, :balance_revenue] - profit_df_one_price_wind[!, :penalty]\n",
    "\n",
    "#insert the variable costs for each generator\n",
    "variable_costs = []\n",
    "for i in 1:W\n",
    "    push!(variable_costs, 0)\n",
    "end\n",
    "profit_df_one_price_wind[!, :variable_costs] = variable_costs\n",
    "\n",
    "#calculate costs for each generator\n",
    "profit_df_one_price_wind[!, :costs] = (profit_df_one_price_wind[!, :energy_day_ahead] + profit_df_one_price_wind[!, :capacity_change] + profit_df_one_price_wind[!, :balance_volume]) .* profit_df_one_price_wind[!, :variable_costs]\n",
    "\n",
    "#calculate the profit for each generator\n",
    "profit_df_one_price_wind[!, :profit] = profit_df_one_price_wind[!, :total_revenue]-profit_df_one_price_wind[!, :costs]\n",
    "\n",
    "print(profit_df_one_price_wind)"
   ]
  },
  {
   "cell_type": "code",
   "execution_count": 419,
   "metadata": {},
   "outputs": [
    {
     "data": {
      "text/plain": [
       "257.5429648624811"
      ]
     },
     "metadata": {},
     "output_type": "display_data"
    }
   ],
   "source": [
    "balance_amount"
   ]
  },
  {
   "cell_type": "code",
   "execution_count": 420,
   "metadata": {},
   "outputs": [
    {
     "name": "stdout",
     "output_type": "stream",
     "text": [
      "\u001b[1m12×10 DataFrame\u001b[0m\n",
      "\u001b[1m Row \u001b[0m│\u001b[1m energy_day_ahead \u001b[0m\u001b[1m day_ahead_revenue \u001b[0m\u001b[1m capacity_change \u001b[0m\u001b[1m penalty \u001b[0m\u001b[1m balance_volume \u001b[0m\u001b[1m balance_revenue \u001b[0m\u001b[1m total_revenue \u001b[0m\u001b[1m variable_costs \u001b[0m\u001b[1m costs   \u001b[0m\u001b[1m profit     \u001b[0m\n",
      "     │\u001b[90m Any              \u001b[0m\u001b[90m Any               \u001b[0m\u001b[90m Any             \u001b[0m\u001b[90m Any     \u001b[0m\u001b[90m Any            \u001b[0m\u001b[90m Any             \u001b[0m\u001b[90m Float64       \u001b[0m\u001b[90m Any            \u001b[0m\u001b[90m Float64 \u001b[0m\u001b[90m Float64    \u001b[0m\n",
      "─────┼────────────────────────────────────────────────────────────────────────────────────────────────────────────────────────────────────────────────────\n",
      "   1 │ 0.0               0.0                0                -0.0     0.0             0.0                       0.0   13.32              0.0      0.0\n",
      "   2 │ 0.0               0.0                0                -0.0     0.0             0.0                       0.0   13.32              0.0      0.0\n",
      "   3 │ 0.0               0.0                0                -0.0     0.0             0.0                       0.0   20.7               0.0      0.0\n",
      "   4 │ 0.0               0.0                0                -0.0     0.0             0.0                       0.0   20.93              0.0      0.0\n",
      "   5 │ 0.0               0.0                0                -0.0     0.0             0.0                       0.0   26.11              0.0      0.0\n",
      "   6 │ 108.5             1181.57            0                -0.0     36.0            431.244                1612.81  10.52           1520.14    92.669\n",
      "   7 │ 108.5             1181.57            0                -0.0     36.0            431.244                1612.81  10.52           1520.14    92.669\n",
      "   8 │ 280.0             3049.2             -280.0           3354.12  0.0             0.0                    -304.92  6.02               0.0   -304.92\n",
      "   9 │ 280.0             3049.2             0                -0.0     60.0            718.74                 3767.94  5.47            1859.8   1908.14\n",
      "  10 │ 210.0             2286.9             0                -0.0     48.0            574.992                2861.89  7.0             1806.0   1055.89\n",
      "  11 │ 217.0             2363.13            0                -0.0     72.0            862.488                3225.62  10.52           3040.28   185.338\n",
      "  12 │ 100.411           1093.48            0                -0.0     5.54296         66.3992                1159.88  10.89           1153.84     6.03629"
     ]
    },
    {
     "data": {
      "text/plain": [
       "\"results/profits_model5.csv\""
      ]
     },
     "metadata": {},
     "output_type": "display_data"
    }
   ],
   "source": [
    "state = 0\n",
    "if balance_amount > 0\n",
    "     #deficit\n",
    "    state = -1\n",
    "else\n",
    "     #excess\n",
    "    state = 1\n",
    "end\n",
    "\n",
    "\n",
    "\n",
    "profit_df_two_price = DataFrame()\n",
    "\n",
    "# insert the assigned capacity for each generator\n",
    "energy_day_ahead = []\n",
    "for i in 1:G\n",
    "    # make array with the assigned capacity\n",
    "    push!(energy_day_ahead, x_con[1,i])\n",
    "end\n",
    "profit_df_two_price[!, :energy_day_ahead] = energy_day_ahead\n",
    "\n",
    "#calculate the profit for each generator\n",
    "day_ahead_revenue = []\n",
    "for i in 1:G\n",
    "    push!(day_ahead_revenue,x_con[1,i]* market_price)\n",
    "end\n",
    "profit_df_two_price[!, :day_ahead_revenue] = day_ahead_revenue\n",
    "\n",
    "capacity_change = []\n",
    "for i in 1:G\n",
    "    if i == outage_index[2]\n",
    "        push!(capacity_change, -1*x_con[1, outage_index[2]])\n",
    "    else\n",
    "        push!(capacity_change, 0)\n",
    "    end\n",
    "end\n",
    "profit_df_two_price[!, :capacity_change] = capacity_change\n",
    "\n",
    "#insert column for penalty for each generator\n",
    "penalty = []\n",
    "for i in 1:G\n",
    "    if (state * profit_df_two_price[!, :capacity_change][i]) > 0\n",
    "        push!(penalty, dual(BalanceConstraint) * profit_df_two_price[!, :capacity_change][i] * -1)\n",
    "    else\n",
    "        push!(penalty, market_price * profit_df_two_price[!, :capacity_change][i] * -1)\n",
    "    end\n",
    "end\n",
    "profit_df_two_price[!, :penalty] = penalty\n",
    "\n",
    "# insert the assigned capacity for each generator\n",
    "balance_volume = []\n",
    "for i in 1:G\n",
    "    # make array with the assigned capacity\n",
    "    push!(balance_volume, value(x_con_up[i]) - value(x_con_down[i]))\n",
    "end\n",
    "profit_df_two_price[!, :balance_volume] = balance_volume\n",
    "\n",
    "#calculate the profit for each generator\n",
    "balance_revenue = []\n",
    "for i in 1:G\n",
    "    push!(balance_revenue, (value(x_con_up[i]) - value(x_con_down[i])) * dual(BalanceConstraint))\n",
    "end\n",
    "profit_df_two_price[!, :balance_revenue] = balance_revenue\n",
    "\n",
    "#total revenue for each generator\n",
    "profit_df_two_price[!, :total_revenue] = profit_df_two_price[!, :day_ahead_revenue] + profit_df_two_price[!, :balance_revenue] - profit_df_two_price[!, :penalty]\n",
    "\n",
    "#insert the variable costs for each generator\n",
    "variable_costs = []\n",
    "for i in 1:G\n",
    "    push!(variable_costs, con_generation[i,3])\n",
    "end\n",
    "profit_df_two_price[!, :variable_costs] = variable_costs\n",
    "\n",
    "#calculate costs for each generator\n",
    "profit_df_two_price[!, :costs] = (profit_df_two_price[!, :energy_day_ahead] + profit_df_two_price[!, :capacity_change] + profit_df_two_price[!, :balance_volume]) .* profit_df_two_price[!, :variable_costs]\n",
    "\n",
    "#calculate the profit for each generator\n",
    "profit_df_two_price[!, :profit] = profit_df_two_price[!, :total_revenue]-profit_df_two_price[!, :costs]\n",
    "\n",
    "print(profit_df_two_price)\n",
    "\n",
    "\n",
    "CSV.write(\"results/profits_model5.csv\", profit_df_two_price)\n",
    "\n",
    "#pretty_table(profit_df_two_price, backend = Val(:latex))"
   ]
  },
  {
   "cell_type": "code",
   "execution_count": 421,
   "metadata": {},
   "outputs": [
    {
     "name": "stdout",
     "output_type": "stream",
     "text": [
      "\u001b[1m4×10 DataFrame\u001b[0m\n",
      "\u001b[1m Row \u001b[0m│\u001b[1m energy_day_ahead \u001b[0m\u001b[1m day_ahead_revenue \u001b[0m\u001b[1m capacity_change \u001b[0m\u001b[1m penalty  \u001b[0m\u001b[1m balance_volume \u001b[0m\u001b[1m balance_revenue \u001b[0m\u001b[1m total_revenue \u001b[0m\u001b[1m variable_costs \u001b[0m\u001b[1m costs   \u001b[0m\u001b[1m profit  \u001b[0m\n",
      "     │\u001b[90m Any              \u001b[0m\u001b[90m Any               \u001b[0m\u001b[90m Any             \u001b[0m\u001b[90m Any      \u001b[0m\u001b[90m Any            \u001b[0m\u001b[90m Any             \u001b[0m\u001b[90m Float64       \u001b[0m\u001b[90m Any            \u001b[0m\u001b[90m Float64 \u001b[0m\u001b[90m Float64 \u001b[0m\n",
      "─────┼──────────────────────────────────────────────────────────────────────────────────────────────────────────────────────────────────────────────────\n",
      "   1 │ 124.879           1359.93            -12.4879         149.592   0               0                      1210.34  0                   0.0  1210.34\n",
      "   2 │ 122.933           1338.74            -12.2933         147.261   0               0                      1191.48  0                   0.0  1191.48\n",
      "   3 │ 163.273           1778.04            24.4909          -266.706  0               0                      2071.42  0                   0.0  2071.42\n",
      "   4 │ 151.649           1651.45            22.7473          -247.718  0               0                      1923.94  0                   0.0  1923.94"
     ]
    }
   ],
   "source": [
    "#do the same for thw wind farms\n",
    "profit_df_two_price_wind = DataFrame()\n",
    "\n",
    "# insert the assigned capacity for each generator\n",
    "energy_day_ahead = []\n",
    "for i in 1:W\n",
    "    # make array with the assigned capacity\n",
    "    push!(energy_day_ahead, x_wind[1,i])\n",
    "end\n",
    "profit_df_two_price_wind[!, :energy_day_ahead] = energy_day_ahead\n",
    "\n",
    "#calculate the profit for each generator\n",
    "day_ahead_revenue = []\n",
    "for i in 1:W\n",
    "    push!(day_ahead_revenue,x_wind[1,i]* market_price)\n",
    "end\n",
    "profit_df_two_price_wind[!, :day_ahead_revenue] = day_ahead_revenue\n",
    "\n",
    "capacity_change = []\n",
    "for i in 1:W\n",
    "    push!(capacity_change, x_wind_bal[i]*-1)\n",
    "end\n",
    "profit_df_two_price_wind[!, :capacity_change] = capacity_change\n",
    "\n",
    "#insert column for penalty for each generator\n",
    "penalty = []\n",
    "for i in 1:W\n",
    "    if (state * profit_df_two_price_wind[!, :capacity_change][i]) > 0\n",
    "        push!(penalty, dual(BalanceConstraint) * profit_df_two_price_wind[!, :capacity_change][i] * -1)\n",
    "    else\n",
    "        push!(penalty, market_price * profit_df_two_price_wind[!, :capacity_change][i] * -1)\n",
    "    end\n",
    "end\n",
    "profit_df_two_price_wind[!, :penalty] = penalty\n",
    "\n",
    "balance_volume = []\n",
    "for i in 1:W\n",
    "    # make array with the assigned capacity\n",
    "    push!(balance_volume, 0)\n",
    "end\n",
    "profit_df_two_price_wind[!, :balance_volume] = balance_volume\n",
    "\n",
    "#calculate the profit for each generator\n",
    "balance_revenue = []\n",
    "for i in 1:W\n",
    "    push!(balance_revenue, 0)\n",
    "end\n",
    "profit_df_two_price_wind[!, :balance_revenue] = balance_revenue\n",
    "\n",
    "#total revenue for each generator\n",
    "profit_df_two_price_wind[!, :total_revenue] = profit_df_one_price_wind[!, :day_ahead_revenue] + profit_df_one_price_wind[!, :balance_revenue] - profit_df_one_price_wind[!, :penalty]\n",
    "\n",
    "#insert the variable costs for each generator\n",
    "variable_costs = []\n",
    "for i in 1:W\n",
    "    push!(variable_costs, 0)\n",
    "end\n",
    "profit_df_two_price_wind[!, :variable_costs] = variable_costs\n",
    "\n",
    "#calculate costs for each generator\n",
    "profit_df_two_price_wind[!, :costs] = (profit_df_one_price_wind[!, :energy_day_ahead] + profit_df_one_price_wind[!, :capacity_change] + profit_df_one_price_wind[!, :balance_volume]) .* profit_df_one_price_wind[!, :variable_costs]\n",
    "\n",
    "#calculate the profit for each generator\n",
    "profit_df_two_price_wind[!, :profit] = profit_df_one_price_wind[!, :total_revenue]-profit_df_one_price_wind[!, :costs]\n",
    "\n",
    "print(profit_df_two_price_wind)"
   ]
  }
 ],
 "metadata": {
  "kernelspec": {
   "display_name": "Julia 1.9.3",
   "language": "julia",
   "name": "julia-1.9"
  },
  "language_info": {
   "file_extension": ".jl",
   "mimetype": "application/julia",
   "name": "julia",
   "version": "1.9.3"
  }
 },
 "nbformat": 4,
 "nbformat_minor": 2
}
