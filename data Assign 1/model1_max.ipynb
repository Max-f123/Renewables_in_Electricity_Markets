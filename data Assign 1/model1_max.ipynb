{
 "cells": [
  {
   "cell_type": "code",
   "execution_count": 1,
   "metadata": {},
   "outputs": [],
   "source": [
    "using JuMP, GLPK\n",
    "using DataFrames\n",
    "using CSV"
   ]
  },
  {
   "cell_type": "code",
   "execution_count": 2,
   "metadata": {},
   "outputs": [
    {
     "data": {
      "text/html": [
       "<div><div style = \"float: left;\"><span>34×4 DataFrame</span></div><div style = \"float: right;\"><span style = \"font-style: italic;\">9 rows omitted</span></div><div style = \"clear: both;\"></div></div><div class = \"data-frame\" style = \"overflow-x: scroll;\"><table class = \"data-frame\" style = \"margin-bottom: 6px;\"><thead><tr class = \"header\"><th class = \"rowNumber\" style = \"font-weight: bold; text-align: right;\">Row</th><th style = \"text-align: left;\">Transmission lines: From node</th><th style = \"text-align: left;\">To node</th><th style = \"text-align: left;\"> Susceptance [per-unit]</th><th style = \"text-align: left;\"> Capacity [MW]</th></tr><tr class = \"subheader headerLastRow\"><th class = \"rowNumber\" style = \"font-weight: bold; text-align: right;\"></th><th title = \"Int64\" style = \"text-align: left;\">Int64</th><th title = \"Int64\" style = \"text-align: left;\">Int64</th><th title = \"String7\" style = \"text-align: left;\">String7</th><th title = \"Int64\" style = \"text-align: left;\">Int64</th></tr></thead><tbody><tr><td class = \"rowNumber\" style = \"font-weight: bold; text-align: right;\">1</td><td style = \"text-align: right;\">1</td><td style = \"text-align: right;\">2</td><td style = \"text-align: left;\">0.0146</td><td style = \"text-align: right;\">175</td></tr><tr><td class = \"rowNumber\" style = \"font-weight: bold; text-align: right;\">2</td><td style = \"text-align: right;\">1</td><td style = \"text-align: right;\">3</td><td style = \"text-align: left;\">0.2253</td><td style = \"text-align: right;\">175</td></tr><tr><td class = \"rowNumber\" style = \"font-weight: bold; text-align: right;\">3</td><td style = \"text-align: right;\">1</td><td style = \"text-align: right;\">5</td><td style = \"text-align: left;\">0.0907</td><td style = \"text-align: right;\">350</td></tr><tr><td class = \"rowNumber\" style = \"font-weight: bold; text-align: right;\">4</td><td style = \"text-align: right;\">2</td><td style = \"text-align: right;\">4</td><td style = \"text-align: left;\">0.1356</td><td style = \"text-align: right;\">175</td></tr><tr><td class = \"rowNumber\" style = \"font-weight: bold; text-align: right;\">5</td><td style = \"text-align: right;\">2</td><td style = \"text-align: right;\">6</td><td style = \"text-align: left;\">0.205</td><td style = \"text-align: right;\">175</td></tr><tr><td class = \"rowNumber\" style = \"font-weight: bold; text-align: right;\">6</td><td style = \"text-align: right;\">3</td><td style = \"text-align: right;\">9</td><td style = \"text-align: left;\">0.1271</td><td style = \"text-align: right;\">175</td></tr><tr><td class = \"rowNumber\" style = \"font-weight: bold; text-align: right;\">7</td><td style = \"text-align: right;\">3</td><td style = \"text-align: right;\">24</td><td style = \"text-align: left;\">0.084</td><td style = \"text-align: right;\">400</td></tr><tr><td class = \"rowNumber\" style = \"font-weight: bold; text-align: right;\">8</td><td style = \"text-align: right;\">4</td><td style = \"text-align: right;\">9</td><td style = \"text-align: left;\">0.111</td><td style = \"text-align: right;\">175</td></tr><tr><td class = \"rowNumber\" style = \"font-weight: bold; text-align: right;\">9</td><td style = \"text-align: right;\">5</td><td style = \"text-align: right;\">10</td><td style = \"text-align: left;\">0.094</td><td style = \"text-align: right;\">350</td></tr><tr><td class = \"rowNumber\" style = \"font-weight: bold; text-align: right;\">10</td><td style = \"text-align: right;\">6</td><td style = \"text-align: right;\">10</td><td style = \"text-align: left;\">0.0642</td><td style = \"text-align: right;\">175</td></tr><tr><td class = \"rowNumber\" style = \"font-weight: bold; text-align: right;\">11</td><td style = \"text-align: right;\">7</td><td style = \"text-align: right;\">8</td><td style = \"text-align: left;\">0.0652</td><td style = \"text-align: right;\">350</td></tr><tr><td class = \"rowNumber\" style = \"font-weight: bold; text-align: right;\">12</td><td style = \"text-align: right;\">8</td><td style = \"text-align: right;\">9</td><td style = \"text-align: left;\">0.1762</td><td style = \"text-align: right;\">175</td></tr><tr><td class = \"rowNumber\" style = \"font-weight: bold; text-align: right;\">13</td><td style = \"text-align: right;\">8</td><td style = \"text-align: right;\">10</td><td style = \"text-align: left;\">0.1762</td><td style = \"text-align: right;\">175</td></tr><tr><td style = \"text-align: right;\">&vellip;</td><td style = \"text-align: right;\">&vellip;</td><td style = \"text-align: right;\">&vellip;</td><td style = \"text-align: right;\">&vellip;</td><td style = \"text-align: right;\">&vellip;</td></tr><tr><td class = \"rowNumber\" style = \"font-weight: bold; text-align: right;\">23</td><td style = \"text-align: right;\">14</td><td style = \"text-align: right;\">16</td><td style = \"text-align: left;\">594</td><td style = \"text-align: right;\">250</td></tr><tr><td class = \"rowNumber\" style = \"font-weight: bold; text-align: right;\">24</td><td style = \"text-align: right;\">15</td><td style = \"text-align: right;\">16</td><td style = \"text-align: left;\">172</td><td style = \"text-align: right;\">500</td></tr><tr><td class = \"rowNumber\" style = \"font-weight: bold; text-align: right;\">25</td><td style = \"text-align: right;\">15</td><td style = \"text-align: right;\">21</td><td style = \"text-align: left;\">249</td><td style = \"text-align: right;\">400</td></tr><tr><td class = \"rowNumber\" style = \"font-weight: bold; text-align: right;\">26</td><td style = \"text-align: right;\">15</td><td style = \"text-align: right;\">24</td><td style = \"text-align: left;\">529</td><td style = \"text-align: right;\">500</td></tr><tr><td class = \"rowNumber\" style = \"font-weight: bold; text-align: right;\">27</td><td style = \"text-align: right;\">16</td><td style = \"text-align: right;\">17</td><td style = \"text-align: left;\">263</td><td style = \"text-align: right;\">500</td></tr><tr><td class = \"rowNumber\" style = \"font-weight: bold; text-align: right;\">28</td><td style = \"text-align: right;\">16</td><td style = \"text-align: right;\">19</td><td style = \"text-align: left;\">234</td><td style = \"text-align: right;\">500</td></tr><tr><td class = \"rowNumber\" style = \"font-weight: bold; text-align: right;\">29</td><td style = \"text-align: right;\">17</td><td style = \"text-align: right;\">18</td><td style = \"text-align: left;\">143</td><td style = \"text-align: right;\">500</td></tr><tr><td class = \"rowNumber\" style = \"font-weight: bold; text-align: right;\">30</td><td style = \"text-align: right;\">17</td><td style = \"text-align: right;\">22</td><td style = \"text-align: left;\">1,069</td><td style = \"text-align: right;\">500</td></tr><tr><td class = \"rowNumber\" style = \"font-weight: bold; text-align: right;\">31</td><td style = \"text-align: right;\">18</td><td style = \"text-align: right;\">21</td><td style = \"text-align: left;\">132</td><td style = \"text-align: right;\">1000</td></tr><tr><td class = \"rowNumber\" style = \"font-weight: bold; text-align: right;\">32</td><td style = \"text-align: right;\">19</td><td style = \"text-align: right;\">20</td><td style = \"text-align: left;\">203</td><td style = \"text-align: right;\">1000</td></tr><tr><td class = \"rowNumber\" style = \"font-weight: bold; text-align: right;\">33</td><td style = \"text-align: right;\">20</td><td style = \"text-align: right;\">23</td><td style = \"text-align: left;\">112</td><td style = \"text-align: right;\">1000</td></tr><tr><td class = \"rowNumber\" style = \"font-weight: bold; text-align: right;\">34</td><td style = \"text-align: right;\">21</td><td style = \"text-align: right;\">22</td><td style = \"text-align: left;\">692</td><td style = \"text-align: right;\">500</td></tr></tbody></table></div>"
      ],
      "text/latex": [
       "\\begin{tabular}{r|cccc}\n",
       "\t& Transmission lines: From node & To node &  Susceptance [per-unit] &  Capacity [MW]\\\\\n",
       "\t\\hline\n",
       "\t& Int64 & Int64 & String7 & Int64\\\\\n",
       "\t\\hline\n",
       "\t1 & 1 & 2 & 0.0146 & 175 \\\\\n",
       "\t2 & 1 & 3 & 0.2253 & 175 \\\\\n",
       "\t3 & 1 & 5 & 0.0907 & 350 \\\\\n",
       "\t4 & 2 & 4 & 0.1356 & 175 \\\\\n",
       "\t5 & 2 & 6 & 0.205 & 175 \\\\\n",
       "\t6 & 3 & 9 & 0.1271 & 175 \\\\\n",
       "\t7 & 3 & 24 & 0.084 & 400 \\\\\n",
       "\t8 & 4 & 9 & 0.111 & 175 \\\\\n",
       "\t9 & 5 & 10 & 0.094 & 350 \\\\\n",
       "\t10 & 6 & 10 & 0.0642 & 175 \\\\\n",
       "\t11 & 7 & 8 & 0.0652 & 350 \\\\\n",
       "\t12 & 8 & 9 & 0.1762 & 175 \\\\\n",
       "\t13 & 8 & 10 & 0.1762 & 175 \\\\\n",
       "\t14 & 9 & 11 & 0.084 & 400 \\\\\n",
       "\t15 & 9 & 12 & 0.084 & 400 \\\\\n",
       "\t16 & 10 & 11 & 0.084 & 400 \\\\\n",
       "\t17 & 10 & 12 & 0.084 & 400 \\\\\n",
       "\t18 & 11 & 13 & 488 & 500 \\\\\n",
       "\t19 & 11 & 14 & 426 & 500 \\\\\n",
       "\t20 & 12 & 13 & 488 & 500 \\\\\n",
       "\t21 & 12 & 23 & 985 & 500 \\\\\n",
       "\t22 & 13 & 23 & 884 & 250 \\\\\n",
       "\t23 & 14 & 16 & 594 & 250 \\\\\n",
       "\t24 & 15 & 16 & 172 & 500 \\\\\n",
       "\t$\\dots$ & $\\dots$ & $\\dots$ & $\\dots$ & $\\dots$ \\\\\n",
       "\\end{tabular}\n"
      ],
      "text/plain": [
       "\u001b[1m34×4 DataFrame\u001b[0m\n",
       "\u001b[1m Row \u001b[0m│\u001b[1m Transmission lines: From node \u001b[0m\u001b[1m To node \u001b[0m\u001b[1m  Susceptance [per-unit] \u001b[0m\u001b[1m  Capac\u001b[0m ⋯\n",
       "     │\u001b[90m Int64                         \u001b[0m\u001b[90m Int64   \u001b[0m\u001b[90m String7                 \u001b[0m\u001b[90m Int64 \u001b[0m ⋯\n",
       "─────┼──────────────────────────────────────────────────────────────────────────\n",
       "   1 │                             1        2  0.0146                          ⋯\n",
       "   2 │                             1        3  0.2253\n",
       "   3 │                             1        5  0.0907\n",
       "   4 │                             2        4  0.1356\n",
       "   5 │                             2        6  0.205                           ⋯\n",
       "   6 │                             3        9  0.1271\n",
       "   7 │                             3       24  0.084\n",
       "   8 │                             4        9  0.111\n",
       "  ⋮  │               ⋮                   ⋮                ⋮                    ⋱\n",
       "  28 │                            16       19  234                             ⋯\n",
       "  29 │                            17       18  143\n",
       "  30 │                            17       22  1,069\n",
       "  31 │                            18       21  132\n",
       "  32 │                            19       20  203                             ⋯\n",
       "  33 │                            20       23  112\n",
       "  34 │                            21       22  692\n",
       "\u001b[36m                                                    1 column and 19 rows omitted\u001b[0m"
      ]
     },
     "metadata": {},
     "output_type": "display_data"
    }
   ],
   "source": [
    "##Creation of the Input DataFrames\n",
    "\n",
    "#load demand data\n",
    "Demands = CSV.File(\"../data Assign 1/Demands.csv\") |> DataFrame\n",
    "\n",
    "#load conventional generators data\n",
    "Conv_gen = CSV.File(\"../data Assign 1/Conventional_generators.csv\") |> DataFrame\n",
    "\n",
    "#load wind farms data\n",
    "Wind_farms = CSV.File(\"../data Assign 1/Wind_farms.csv\") |> DataFrame\n",
    "\n",
    "#load transmission lines data\n",
    "Trans_lines = CSV.File(\"../data Assign 1/transmission_lines.csv\") |> DataFrame"
   ]
  },
  {
   "cell_type": "code",
   "execution_count": 3,
   "metadata": {},
   "outputs": [],
   "source": [
    "##Definition of the Result DataFrames\n",
    "\n",
    "# Definition of the Main result DataFrame\n",
    "main_result = DataFrame(hour = Int[], social_welfare = Float64[], market_price = Float64[])\n",
    "\n",
    "# Initialize the Demand DataFrame directly without dynamic column names\n",
    "details_results_demand = DataFrame(hour = Int[], total_demand = Float64[])\n",
    "# For x variables, manually add each column. This is a one-time setup.\n",
    "for i in 1:size(Demands, 1)\n",
    "    details_results_demand[!, Symbol(\"demand_n°$i\")] = Float64[]\n",
    "end\n",
    "\n",
    "# Initialize the Supply DataFrame directly without dynamic column names\n",
    "details_results_supply = DataFrame(hour = Int[], total_supply = Float64[])\n",
    "# For x variables, manually add each column. This is a one-time setup.\n",
    "for i in 1:size(Conv_gen, 1)\n",
    "    details_results_supply[!, Symbol(\"supply_n°$i\")] = Float64[]\n",
    "end\n",
    "for i in size(Conv_gen, 1):(size(Conv_gen, 1)+size(Wind_farms, 1))\n",
    "    details_results_supply[!, Symbol(\"supply_n°$i\")] = Float64[]\n",
    "end\n"
   ]
  },
  {
   "cell_type": "code",
   "execution_count": 4,
   "metadata": {},
   "outputs": [
    {
     "data": {
      "text/plain": [
       "A JuMP Model\n",
       "Feasibility problem with:\n",
       "Variables: 0\n",
       "Model mode: AUTOMATIC\n",
       "CachingOptimizer state: EMPTY_OPTIMIZER\n",
       "Solver name: GLPK"
      ]
     },
     "metadata": {},
     "output_type": "display_data"
    }
   ],
   "source": [
    "##Definition of the model\n",
    "\n",
    "# Create a new model with GLPK solver\n",
    "model = Model(GLPK.Optimizer)\n"
   ]
  },
  {
   "cell_type": "code",
   "execution_count": 16,
   "metadata": {},
   "outputs": [
    {
     "name": "stdout",
     "output_type": "stream",
     "text": [
      "Hour 1: Optimal solution found\n"
     ]
    },
    {
     "name": "stdout",
     "output_type": "stream",
     "text": [
      "Hour 2: Optimal solution found\n",
      "Hour 3: Optimal solution found\n",
      "Hour 4: Optimal solution found\n",
      "Hour 5: Optimal solution found\n",
      "Hour 6: Optimal solution found\n",
      "Hour 7: Optimal solution found\n",
      "Hour 8: Optimal solution found\n",
      "Hour 9: Optimal solution found\n",
      "Hour 10: Optimal solution found\n",
      "Hour 11: Optimal solution found\n",
      "Hour 12: Optimal solution found\n",
      "Hour 13: Optimal solution found\n",
      "Hour 14: Optimal solution found\n",
      "Hour 15: Optimal solution found\n",
      "Hour 16: Optimal solution found\n",
      "Hour 17: Optimal solution found\n",
      "Hour 18: Optimal solution found\n",
      "Hour 19: Optimal solution found\n",
      "Hour 20: Optimal solution found\n",
      "Hour 21: Optimal solution found\n",
      "Hour 22: Optimal solution found\n",
      "Hour 23: Optimal solution found\n",
      "Hour 24: Optimal solution found\n"
     ]
    }
   ],
   "source": [
    "##Computation of the optimization problem for every hour\n",
    "\n",
    "#Clearing the DataFrames\n",
    "empty!(main_result)\n",
    "empty!(details_results_demand)\n",
    "empty!(details_results_supply)\n",
    "\n",
    "\n",
    "for hour in 1:24\n",
    "    # Define the decision variables for every supply and every demand\n",
    "    unregister(model, :x)  # Unregister the existing variable named \"x\" from the model\n",
    "    unregister(model, :BalanceConstraint)\n",
    "    @variable(model, x[1:size(Conv_gen, 1) + size(Wind_farms, 1) + size(Demands, 1)])  # Create the new variables\n",
    "\n",
    "    for i in 1:size(Conv_gen, 1)\n",
    "        set_lower_bound(x[i], 0)  # Set the lower bound\n",
    "        set_upper_bound(x[i], Conv_gen[i,6])  # Set the upper bound\n",
    "    end\n",
    "    for i in (size(Conv_gen, 1) + 1):(size(Conv_gen, 1)+size(Wind_farms, 1))\n",
    "        set_lower_bound(x[i], 0)  # Set the lower bound\n",
    "        set_upper_bound(x[i], Wind_farms[i - size(Conv_gen, 1),4])  # Set the upper bound\n",
    "    end\n",
    "    for i in (size(Conv_gen, 1)+size(Wind_farms, 1) + 1):(size(Conv_gen, 1) + size(Wind_farms, 1) + size(Demands, 1))\n",
    "        set_lower_bound(x[i], 0)  # Set the lower bound\n",
    "        set_upper_bound(x[i], Demands[i - size(Conv_gen, 1) - size(Wind_farms, 1),3])  # Set the upper bound\n",
    "    end\n",
    "\n",
    "    # Define the objective function\n",
    "    @objective(model, Min, \n",
    "    - (sum(Demands[demand,4] * x[demand + size(Conv_gen, 1) + size(Wind_farms, 1)] for demand in 1:size(Demands,1))\n",
    "    - (sum(Conv_gen[generator,3] * x[generator] for generator in 1:size(Conv_gen,1))\n",
    "    + sum( 0 * x[generator + size(Conv_gen,1)] for generator in 1:size(Wind_farms,1)))))\n",
    "\n",
    "     # Add the equilibrium constraint\n",
    "     @constraint(model, BalanceConstraint, sum(x[generator] for generator in 1:size(Conv_gen,1)+size(Wind_farms,1)) == sum(x[demand + size(Conv_gen, 1) + size(Wind_farms, 1)] for demand in 1:size(Demands,1)))\n",
    "\n",
    "    # Print the model\n",
    "    #print(model)\n",
    "\n",
    "    # Solve the model\n",
    "    optimize!(model)\n",
    "\n",
    "    status = termination_status(model)\n",
    "    if status == MOI.OPTIMAL\n",
    "        println(\"Hour \", hour, \": Optimal solution found\")\n",
    "\n",
    "        # Assuming 'model' and 'x' are properly defined and 'hour' is known\n",
    "        new_mainrow = [hour, -objective_value(model),dual(BalanceConstraint)]\n",
    "        push!(main_result, new_mainrow)\n",
    "\n",
    "        new_demandrow = [hour, sum(value(x[i + size(Conv_gen, 1)+size(Wind_farms, 1)]) for i in 1:size(Demands, 1))]\n",
    "        append!(new_demandrow, [value(x[i + size(Conv_gen, 1)+size(Wind_farms, 1)]) for i in 1:size(Demands, 1)])\n",
    "        push!(details_results_demand, new_demandrow)\n",
    "\n",
    "        new_supplyrow = [hour, sum(value(x[i]) for i in 1:size(Conv_gen, 1)+size(Wind_farms, 1))]\n",
    "        append!(new_supplyrow, [value(x[i]) for i in 1:size(Conv_gen, 1)+size(Wind_farms, 1)])\n",
    "        push!(details_results_supply, new_supplyrow)\n",
    "\n",
    "\n",
    "    elseif status == MOI.INFEASIBLE\n",
    "        println(\"Hour \", hour, \": No feasible solution found\")\n",
    "    else\n",
    "        println(\"Hour \", hour, \": Solver status: \", status)\n",
    "    end\n",
    "end\n",
    "\n",
    "    "
   ]
  },
  {
   "cell_type": "code",
   "execution_count": 23,
   "metadata": {},
   "outputs": [
    {
     "data": {
      "text/plain": [
       "\"../data Assign 1/Results/details_results_supply_Max\""
      ]
     },
     "metadata": {},
     "output_type": "display_data"
    }
   ],
   "source": [
    "#save result_df to csv\n",
    "CSV.write(\"../data Assign 1/Results/main_result_Max\", main_result)\n",
    "CSV.write(\"../data Assign 1/Results/details_results_demand_Max\", details_results_demand)\n",
    "CSV.write(\"../data Assign 1/Results/details_results_supply_Max\", details_results_supply)\n"
   ]
  }
 ],
 "metadata": {
  "kernelspec": {
   "display_name": "Julia 1.10.0",
   "language": "julia",
   "name": "julia-1.10"
  },
  "language_info": {
   "file_extension": ".jl",
   "mimetype": "application/julia",
   "name": "julia",
   "version": "1.10.0"
  }
 },
 "nbformat": 4,
 "nbformat_minor": 2
}
