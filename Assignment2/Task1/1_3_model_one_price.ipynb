{
 "cells": [
  {
   "cell_type": "code",
   "execution_count": 1,
   "metadata": {},
   "outputs": [],
   "source": [
    "import Pkg\n",
    "#Pkg.add(\"JuMP\")\n",
    "#Pkg.add(\"GLPK\")\n",
    "#Pkg.add(\"Gruobi\")\n",
    "#Pkg.add(\"DataFrames\")\n",
    "#Pkg.add(\"CSV\")\n",
    "# Pkg.add(\"PyPlot\")\n",
    "# Pkg.add(\"PyCall\")"
   ]
  },
  {
   "cell_type": "code",
   "execution_count": 2,
   "metadata": {},
   "outputs": [],
   "source": [
    "using JuMP, GLPK\n",
    "using DataFrames\n",
    "using CSV\n",
    "using PrettyTables\n",
    "using Random\n",
    "using Plots\n",
    "# using PyPlot\n",
    "# using PyCall"
   ]
  },
  {
   "cell_type": "code",
   "execution_count": 3,
   "metadata": {},
   "outputs": [],
   "source": [
    "# Load the data\n",
    "scenarios_df = CSV.read(\"../data/scenarios.csv\", DataFrame)\n",
    "\n",
    "n_scenarios = size(scenarios_df, 2)/3\n",
    "n_scenarios = convert(Int, n_scenarios)\n",
    "\n",
    "# create a dictonary with 200 dataframes for each scenario\n",
    "all_scenarios = Dict()\n",
    "for i in 1:n_scenarios\n",
    "    df_helper = DataFrame(scenarios_df[:,3*i-2:3*i])\n",
    "    df_helper[!,3] = df_helper[!,3] .* 1.0\n",
    "    rename!(df_helper, [:\"price\", :\"wind power\", :\"grid_excess\"])\n",
    "    all_scenarios[i] = df_helper\n",
    "end"
   ]
  },
  {
   "cell_type": "code",
   "execution_count": 4,
   "metadata": {},
   "outputs": [
    {
     "data": {
      "text/plain": [
       "Any[]"
      ]
     },
     "metadata": {},
     "output_type": "display_data"
    }
   ],
   "source": [
    "W = 250\n",
    "hours = 24\n",
    "Random.seed!(123)\n",
    "selected_scenarios = rand(1:n_scenarios, W)\n",
    "\n",
    "scenarios = Dict()\n",
    "counter = 1\n",
    "for i in selected_scenarios\n",
    "    scenarios[counter] = all_scenarios[i]\n",
    "    counter += 1\n",
    "end\n",
    "\n",
    "alpha = 0.99\n",
    "betas = [0.5, 0.75, 0.9, 0.95, 0.99, 0.999, 0.9999, 0.99999]\n",
    "objectiv_values = []\n",
    "exp_profits = []\n",
    "CVaR_values = []"
   ]
  },
  {
   "cell_type": "code",
   "execution_count": 5,
   "metadata": {},
   "outputs": [
    {
     "name": "stdout",
     "output_type": "stream",
     "text": [
      "Optimal solution found\n",
      "Objective value: 154391.55537235324\n",
      "Expected profit: 151705.65829751402\n",
      "CVaR: 2685.897074837732\n",
      "Optimal solution found\n",
      "Objective value: 155734.50390977206\n",
      "Expected profit: 151705.65829751402\n",
      "CVaR: 4028.8456122565976\n",
      "Optimal solution found\n",
      "Objective value: 156540.27303222337\n",
      "Expected profit: 151705.65829751402\n",
      "CVaR: 4834.614734707917\n",
      "Optimal solution found\n",
      "Objective value: 156808.86273970714\n",
      "Expected profit: 151705.65829751402\n",
      "CVaR: 5103.20444219169\n",
      "Optimal solution found\n",
      "Objective value: 157023.7345056942\n",
      "Expected profit: 151705.65829751402\n",
      "CVaR: 5318.076208178709\n",
      "Optimal solution found\n",
      "Objective value: 157072.08065304125\n",
      "Expected profit: 151705.65829751402\n",
      "CVaR: 5366.422355525789\n",
      "Optimal solution found\n",
      "Objective value: 157076.91526777597\n",
      "Expected profit: 151705.65829751402\n",
      "CVaR: 5371.256970260496\n",
      "Optimal solution found\n",
      "Objective value: 157077.39872924946\n",
      "Expected profit: 151705.65829751402\n",
      "CVaR: 5371.740431733967\n"
     ]
    }
   ],
   "source": [
    "for beta in betas\n",
    "    # Create a new model with GLPK solver\n",
    "    model = Model(GLPK.Optimizer)\n",
    "\n",
    "    # Define the decision variables for hour\n",
    "    @variable(model, p_DA[1:hours])\n",
    "    @variable(model, delta[1:W,1:hours])\n",
    "    @variable(model, zeta)\n",
    "    @variable(model, eta[1:W] >= 0)\n",
    "\n",
    "    # Define the objective function\n",
    "    @objective(model, Max, sum(1/W .*\n",
    "    (scenarios[i][hour,\"price\"] * p_DA[hour]\n",
    "    + scenarios[i][hour,\"price\"] * delta[i, hour]*((0.9.*scenarios[i][hour,\"grid_excess\"]) + 1.2.*(1-scenarios[i][hour,\"grid_excess\"]))) for i in 1:W, hour in 1:hours)\n",
    "    + beta  * (zeta - (1/(1-alpha)) * sum(1/W .* eta[i] for i in 1:W)))\n",
    "\n",
    "    # Define the constraints\n",
    "    @constraint(model, [hour in 1:hours], p_DA[hour] <= 200)\n",
    "    @constraint(model, [hour in 1:hours], p_DA[hour] >= 0)\n",
    "    @constraint(model, [i in 1:W, hour in 1:hours], delta[i,hour] == scenarios[i][hour,\"wind power\"] - p_DA[hour])\n",
    "    @constraint(model, [i in 1:W], -1 * sum((scenarios[i][hour,\"price\"] * p_DA[hour]\n",
    "    + scenarios[i][hour,\"price\"] * delta[i, hour]*((0.9.*scenarios[i][hour,\"grid_excess\"]) + 1.2.*(1-scenarios[i][hour,\"grid_excess\"]))) for hour in 1:hours) + zeta - eta[i] <= 0)\n",
    "\n",
    "\n",
    "    # Solve the optimization problem\n",
    "    optimize!(model)\n",
    "\n",
    "    exp_profit = sum(1/W .*\n",
    "    (scenarios[i][hour,\"price\"] * value.(p_DA[hour])\n",
    "    + scenarios[i][hour,\"price\"] * value.(delta[i, hour])*((0.9.*scenarios[i][hour,\"grid_excess\"]) + 1.2.*(1-scenarios[i][hour,\"grid_excess\"]))) for i in 1:W, hour in 1:hours)\n",
    "\n",
    "    CVaR = beta  * (value.(zeta) - (1/(1-alpha)) * sum(1/W .* value.(eta[i]) for i in 1:W))\n",
    "\n",
    "    # Print the termination status\n",
    "    status = termination_status(model)\n",
    "    if status == MOI.OPTIMAL\n",
    "        println(\"Optimal solution found\")\n",
    "        \n",
    "        # RETURN OBJECTIVE value\n",
    "        #println(\"Objective value: \", objective_value(model))\n",
    "        #println(\"Expected profit: \", exp_profit)\n",
    "        #println(\"CVaR: \", CVaR)\n",
    "        push!(objectiv_values, objective_value(model))\n",
    "        push!(exp_profits, exp_profit)\n",
    "        push!(CVaR_values, CVaR)\n",
    "    else\n",
    "        println(\"No optimal solution found\")\n",
    "    end\n",
    "end"
   ]
  },
  {
   "cell_type": "code",
   "execution_count": 20,
   "metadata": {},
   "outputs": [
    {
     "data": {
      "text/plain": [
       "\"1_3_results/one_price_results.csv\""
      ]
     },
     "metadata": {},
     "output_type": "display_data"
    }
   ],
   "source": [
    "#make a dataframe with the results\n",
    "results = DataFrame(betas = betas, objective_values = objectiv_values, exp_profits = exp_profits, CVaR_values = CVaR_values)\n",
    "\n",
    "#save the results\n",
    "CSV.write(\"1_3_results/one_price_results.csv\", results)"
   ]
  }
 ],
 "metadata": {
  "kernelspec": {
   "display_name": "Julia 1.9.3",
   "language": "julia",
   "name": "julia-1.9"
  },
  "language_info": {
   "file_extension": ".jl",
   "mimetype": "application/julia",
   "name": "julia",
   "version": "1.9.3"
  }
 },
 "nbformat": 4,
 "nbformat_minor": 2
}
