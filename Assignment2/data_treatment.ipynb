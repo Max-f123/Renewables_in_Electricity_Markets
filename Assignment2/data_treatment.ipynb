{
 "cells": [
  {
   "cell_type": "code",
   "execution_count": 1,
   "metadata": {},
   "outputs": [],
   "source": [
    "# import the necessary packages\n",
    "\n",
    "import numpy as np\n",
    "import pandas as pd\n",
    "\n"
   ]
  },
  {
   "cell_type": "code",
   "execution_count": 30,
   "metadata": {},
   "outputs": [],
   "source": [
    "\n",
    "\n",
    "# Load the wind data\n",
    "wind = pd.read_csv(\"wind_power.csv\")\n",
    "\n",
    "# Extract the day from the first column\n",
    "day = wind.iloc[:, 0]\n",
    "\n",
    "# Extract day from data of this type: \"2022-12-31T23:01:00.000Z\"\n",
    "day = [x.split(\"T\")[0] for x in day]\n",
    "day = [int(x.split(\"-\")[2]) for x in day]\n",
    "\n",
    "# Do the same for hour\n",
    "hour = wind.iloc[:, 0]\n",
    "hour = [x.split(\"T\")[1] for x in hour]\n",
    "hour = [int(x.split(\":\")[0]) for x in hour]\n",
    "\n",
    "# Do the same for month\n",
    "month = wind.iloc[:, 0]\n",
    "month = [x.split(\"T\")[0] for x in month]\n",
    "month = [int(x.split(\"-\")[1]) for x in month]\n",
    "\n",
    "# Transform the first column to datetime\n",
    "wind.iloc[:, 0] = pd.to_datetime(wind.iloc[:, 0])\n",
    "\n",
    "# Add columns for day, hour, and month to the wind DataFrame\n",
    "wind['day'] = day\n",
    "wind['hour'] = hour\n",
    "wind['month'] = month\n",
    "\n",
    "# Rename the column 'Wind power production - real time data' to 'wind power'\n",
    "wind.rename(columns={'Wind power production - real time data': 'wind power'}, inplace=True)\n",
    "\n",
    "# Delete column End time UTC\n",
    "wind.drop(columns=['End time UTC'], inplace=True)\n"
   ]
  },
  {
   "cell_type": "code",
   "execution_count": 31,
   "metadata": {},
   "outputs": [
    {
     "name": "stdout",
     "output_type": "stream",
     "text": [
      "             Start time UTC   wind power  day  hour  month\n",
      "0 2023-01-01 00:00:00+00:00  3558.065000  1.0   0.0    1.0\n",
      "1 2023-01-01 01:00:00+00:00  3635.240000  1.0   1.0    1.0\n",
      "2 2023-01-01 02:00:00+00:00  3627.525000  1.0   2.0    1.0\n",
      "3 2023-01-01 03:00:00+00:00  3503.089999  1.0   3.0    1.0\n",
      "4 2023-01-01 04:00:00+00:00  3352.544999  1.0   4.0    1.0\n"
     ]
    }
   ],
   "source": [
    "# chANGE START TIME COLUMN TO DATTIME WITH HOURLY GRANULARITY\n",
    "wind['Start time UTC'] = pd.to_datetime(wind['Start time UTC'])\n",
    "\n",
    "# drop minutes\n",
    "wind['Start time UTC'] = wind['Start time UTC'].dt.floor('H')\n",
    "\n",
    "# groupby start time and sum the wind power\n",
    "wind = wind.groupby('Start time UTC',as_index=False).mean()\n",
    "\n",
    "# print the head of the wind DataFrame\n",
    "print(wind.head())\n",
    "\n"
   ]
  },
  {
   "cell_type": "code",
   "execution_count": 32,
   "metadata": {},
   "outputs": [],
   "source": [
    "\n",
    "# save as csv\n",
    "wind.to_csv('wind_power_cleaned.csv', index=False)"
   ]
  },
  {
   "cell_type": "code",
   "execution_count": null,
   "metadata": {},
   "outputs": [],
   "source": [
    "\n",
    "# Add a column with the day and the hour, starting from 01/01/2023 00:00\n",
    "wind['Date'] = pd.date_range(start='01/01/2023 00:00', periods=len(wind), freq='H')\n",
    "\n",
    "# Change the order of the columns\n",
    "cols = wind.columns.tolist()\n",
    "cols = cols[-1:] + cols[:-1]\n",
    "wind = wind[cols]\n",
    "\n",
    "# Change the name of the second column to 'Wind power'\n",
    "wind = wind.rename(columns={wind.columns[1]: 'Wind power'})\n",
    "\n",
    "# show the tail of the data\n",
    "print(wind.tail())"
   ]
  },
  {
   "cell_type": "code",
   "execution_count": 3,
   "metadata": {},
   "outputs": [
    {
     "ename": "UndefVarError",
     "evalue": "UndefVarError: `pd` not defined",
     "output_type": "error",
     "traceback": [
      "UndefVarError: `pd` not defined\n",
      "\n",
      "Stacktrace:\n",
      " [1] top-level scope\n",
      "   @ ~/Desktop/46755 Renewables in electricity markets/renewables_in_electricity_markets/Assignment2/data_treatment.ipynb:2"
     ]
    }
   ],
   "source": [
    "# Create a new dataframe with wind scenarios of 24 hours for 20 days equally spaced in the year\n",
    "wind_scenarios = pd.DataFrame()\n",
    "for i in range(0, len(wind), 18*24):  # the step corresponds to 18 days of 24 hours, because we have around 18 intervals of 20 days in one year\n",
    "    push!(wind_scenarios, wind.iloc[i:i+24])\n",
    "\n",
    "# print the dataframe\n",
    "print(wind_scenarios)\n",
    "\n",
    "\n",
    "\n"
   ]
  }
 ],
 "metadata": {
  "kernelspec": {
   "display_name": "Renew_in_elec_market",
   "language": "python",
   "name": "python3"
  },
  "language_info": {
   "codemirror_mode": {
    "name": "ipython",
    "version": 3
   },
   "file_extension": ".py",
   "mimetype": "text/x-python",
   "name": "python",
   "nbconvert_exporter": "python",
   "pygments_lexer": "ipython3",
   "version": "3.11.5"
  }
 },
 "nbformat": 4,
 "nbformat_minor": 2
}
