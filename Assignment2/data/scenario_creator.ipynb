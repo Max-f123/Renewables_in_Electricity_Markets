{
 "cells": [
  {
   "cell_type": "code",
   "execution_count": 174,
   "metadata": {},
   "outputs": [],
   "source": [
    "import pandas as pd\n",
    "import numpy as np\n",
    "import matplotlib.pyplot as plt"
   ]
  },
  {
   "cell_type": "code",
   "execution_count": 175,
   "metadata": {},
   "outputs": [],
   "source": [
    "prices = pd.read_csv('prices.csv')\n",
    "wind = pd.read_csv('wind_power_cleaned.csv')\n",
    "grid_excess = pd.read_csv('grid_excess.csv')"
   ]
  },
  {
   "cell_type": "code",
   "execution_count": 176,
   "metadata": {},
   "outputs": [],
   "source": [
    "prices['date'] = pd.to_datetime(prices['date'])\n",
    "wind['date'] = pd.to_datetime(wind['date'])"
   ]
  },
  {
   "cell_type": "code",
   "execution_count": 177,
   "metadata": {},
   "outputs": [],
   "source": [
    "data = pd.merge(prices, wind, on=['date', 'hour'], how='outer')\n",
    "\n",
    "#select every 18th day and save that to a new dataframe\n",
    "data['date'] = pd.to_datetime(data['date'])"
   ]
  },
  {
   "cell_type": "code",
   "execution_count": 178,
   "metadata": {},
   "outputs": [
    {
     "data": {
      "text/html": [
       "<div>\n",
       "<style scoped>\n",
       "    .dataframe tbody tr th:only-of-type {\n",
       "        vertical-align: middle;\n",
       "    }\n",
       "\n",
       "    .dataframe tbody tr th {\n",
       "        vertical-align: top;\n",
       "    }\n",
       "\n",
       "    .dataframe thead th {\n",
       "        text-align: right;\n",
       "    }\n",
       "</style>\n",
       "<table border=\"1\" class=\"dataframe\">\n",
       "  <thead>\n",
       "    <tr style=\"text-align: right;\">\n",
       "      <th></th>\n",
       "      <th>date</th>\n",
       "      <th>hour</th>\n",
       "      <th>price</th>\n",
       "      <th>wind power</th>\n",
       "    </tr>\n",
       "  </thead>\n",
       "  <tbody>\n",
       "    <tr>\n",
       "      <th>7160</th>\n",
       "      <td>2023-10-26</td>\n",
       "      <td>9</td>\n",
       "      <td>70.47</td>\n",
       "      <td>NaN</td>\n",
       "    </tr>\n",
       "    <tr>\n",
       "      <th>7161</th>\n",
       "      <td>2023-10-26</td>\n",
       "      <td>10</td>\n",
       "      <td>70.50</td>\n",
       "      <td>NaN</td>\n",
       "    </tr>\n",
       "    <tr>\n",
       "      <th>7162</th>\n",
       "      <td>2023-10-26</td>\n",
       "      <td>11</td>\n",
       "      <td>74.21</td>\n",
       "      <td>NaN</td>\n",
       "    </tr>\n",
       "    <tr>\n",
       "      <th>7163</th>\n",
       "      <td>2023-10-26</td>\n",
       "      <td>12</td>\n",
       "      <td>74.17</td>\n",
       "      <td>NaN</td>\n",
       "    </tr>\n",
       "    <tr>\n",
       "      <th>7223</th>\n",
       "      <td>2023-10-29</td>\n",
       "      <td>0</td>\n",
       "      <td>14.05</td>\n",
       "      <td>NaN</td>\n",
       "    </tr>\n",
       "    <tr>\n",
       "      <th>8760</th>\n",
       "      <td>2023-03-26</td>\n",
       "      <td>2</td>\n",
       "      <td>NaN</td>\n",
       "      <td>1293.8</td>\n",
       "    </tr>\n",
       "  </tbody>\n",
       "</table>\n",
       "</div>"
      ],
      "text/plain": [
       "           date  hour  price  wind power\n",
       "7160 2023-10-26     9  70.47         NaN\n",
       "7161 2023-10-26    10  70.50         NaN\n",
       "7162 2023-10-26    11  74.21         NaN\n",
       "7163 2023-10-26    12  74.17         NaN\n",
       "7223 2023-10-29     0  14.05         NaN\n",
       "8760 2023-03-26     2    NaN      1293.8"
      ]
     },
     "execution_count": 178,
     "metadata": {},
     "output_type": "execute_result"
    }
   ],
   "source": [
    "#show rows with nan values\n",
    "data[data.isnull().any(axis=1)]"
   ]
  },
  {
   "cell_type": "code",
   "execution_count": 179,
   "metadata": {},
   "outputs": [],
   "source": [
    "#get a list of every 18th day in 2023\n",
    "selected_dates = pd.date_range(start='2023-01-01', end='2023-12-31', freq='19D')"
   ]
  },
  {
   "cell_type": "code",
   "execution_count": 180,
   "metadata": {},
   "outputs": [],
   "source": [
    "#select every 18th day\n",
    "scenarios_price = {}\n",
    "scenarios_wind = {}\n",
    "i=1\n",
    "for date in selected_dates:\n",
    "    scenarios_price[i] = prices[prices['date'] == date].reset_index(drop=True).drop(columns=['date', 'hour'])\n",
    "    scenarios_wind[i] = wind[wind['date'] == date].reset_index(drop=True).drop(columns=['date', 'hour'])\n",
    "    i+=1"
   ]
  },
  {
   "cell_type": "code",
   "execution_count": 181,
   "metadata": {},
   "outputs": [],
   "source": [
    "#make 20 times 20 times 2 scenarios\n",
    "scenarios = {}\n",
    "for price in scenarios_price:\n",
    "    for wind in scenarios_wind:\n",
    "        for grid in grid_excess:\n",
    "            df = pd.merge(scenarios_price[price], scenarios_wind[wind], left_index=True, right_index=True)\n",
    "            #add column with grid excess\n",
    "            df['grid_excess'] = grid_excess[grid]\n",
    "            scenarios[(price, wind, int(grid))] = df"
   ]
  },
  {
   "cell_type": "code",
   "execution_count": 182,
   "metadata": {},
   "outputs": [],
   "source": [
    "import pickle \n",
    "\n",
    "with open('scenarios.pkl', 'wb') as f:\n",
    "    pickle.dump(scenarios, f)\n",
    "        \n",
    "with open('scenarios.pkl', 'rb') as f:\n",
    "    loaded_dict = pickle.load(f)"
   ]
  }
 ],
 "metadata": {
  "kernelspec": {
   "display_name": "Python 3",
   "language": "python",
   "name": "python3"
  },
  "language_info": {
   "codemirror_mode": {
    "name": "ipython",
    "version": 3
   },
   "file_extension": ".py",
   "mimetype": "text/x-python",
   "name": "python",
   "nbconvert_exporter": "python",
   "pygments_lexer": "ipython3",
   "version": "3.11.1"
  }
 },
 "nbformat": 4,
 "nbformat_minor": 2
}
