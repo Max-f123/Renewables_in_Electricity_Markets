{
 "cells": [
  {
   "cell_type": "code",
   "execution_count": 22,
   "metadata": {},
   "outputs": [],
   "source": [
    "import Pkg\n",
    "#Pkg.add(\"JuMP\")\n",
    "#Pkg.add(\"GLPK\")\n",
    "#Pkg.add(\"Gruobi\")\n",
    "#Pkg.add(\"DataFrames\")\n",
    "#Pkg.add(\"CSV\")\n",
    "#Pkg.add(\"PyCall\")"
   ]
  },
  {
   "cell_type": "code",
   "execution_count": 23,
   "metadata": {},
   "outputs": [],
   "source": [
    "using JuMP, GLPK\n",
    "using DataFrames\n",
    "using CSV"
   ]
  },
  {
   "cell_type": "code",
   "execution_count": 24,
   "metadata": {},
   "outputs": [],
   "source": [
    "# Load the data\n",
    "scenarios_200 = CSV.read(\"../data/scenarios_200.csv\", DataFrame)\n",
    "\n",
    "# create a dictonary with 200 dataframes for each scenario\n",
    "scenarios = Dict()\n",
    "for i in 1:200\n",
    "    df_helper = DataFrame(scenarios_200[:,3*i-2:3*i])\n",
    "    #set column names\n",
    "    rename!(df_helper, [:\"price\", :\"wind power\", :\"grid_excess\"])\n",
    "    scenarios[i] = df_helper\n",
    "end"
   ]
  },
  {
   "cell_type": "code",
   "execution_count": 25,
   "metadata": {},
   "outputs": [
    {
     "data": {
      "text/html": [
       "<div><div style = \"float: left;\"><span>24×3 DataFrame</span></div><div style = \"clear: both;\"></div></div><div class = \"data-frame\" style = \"overflow-x: scroll;\"><table class = \"data-frame\" style = \"margin-bottom: 6px;\"><thead><tr class = \"header\"><th class = \"rowNumber\" style = \"font-weight: bold; text-align: right;\">Row</th><th style = \"text-align: left;\">price</th><th style = \"text-align: left;\">wind power</th><th style = \"text-align: left;\">grid_excess</th></tr><tr class = \"subheader headerLastRow\"><th class = \"rowNumber\" style = \"font-weight: bold; text-align: right;\"></th><th title = \"Float64\" style = \"text-align: left;\">Float64</th><th title = \"Float64\" style = \"text-align: left;\">Float64</th><th title = \"Int64\" style = \"text-align: left;\">Int64</th></tr></thead><tbody><tr><td class = \"rowNumber\" style = \"font-weight: bold; text-align: right;\">1</td><td style = \"text-align: right;\">122.83</td><td style = \"text-align: right;\">151.992</td><td style = \"text-align: right;\">1</td></tr><tr><td class = \"rowNumber\" style = \"font-weight: bold; text-align: right;\">2</td><td style = \"text-align: right;\">132.91</td><td style = \"text-align: right;\">143.459</td><td style = \"text-align: right;\">1</td></tr><tr><td class = \"rowNumber\" style = \"font-weight: bold; text-align: right;\">3</td><td style = \"text-align: right;\">132.9</td><td style = \"text-align: right;\">142.587</td><td style = \"text-align: right;\">0</td></tr><tr><td class = \"rowNumber\" style = \"font-weight: bold; text-align: right;\">4</td><td style = \"text-align: right;\">125.03</td><td style = \"text-align: right;\">146.618</td><td style = \"text-align: right;\">1</td></tr><tr><td class = \"rowNumber\" style = \"font-weight: bold; text-align: right;\">5</td><td style = \"text-align: right;\">120.07</td><td style = \"text-align: right;\">150.136</td><td style = \"text-align: right;\">1</td></tr><tr><td class = \"rowNumber\" style = \"font-weight: bold; text-align: right;\">6</td><td style = \"text-align: right;\">139.83</td><td style = \"text-align: right;\">151.102</td><td style = \"text-align: right;\">1</td></tr><tr><td class = \"rowNumber\" style = \"font-weight: bold; text-align: right;\">7</td><td style = \"text-align: right;\">164.23</td><td style = \"text-align: right;\">145.927</td><td style = \"text-align: right;\">0</td></tr><tr><td class = \"rowNumber\" style = \"font-weight: bold; text-align: right;\">8</td><td style = \"text-align: right;\">186.66</td><td style = \"text-align: right;\">143.261</td><td style = \"text-align: right;\">1</td></tr><tr><td class = \"rowNumber\" style = \"font-weight: bold; text-align: right;\">9</td><td style = \"text-align: right;\">186.95</td><td style = \"text-align: right;\">142.279</td><td style = \"text-align: right;\">0</td></tr><tr><td class = \"rowNumber\" style = \"font-weight: bold; text-align: right;\">10</td><td style = \"text-align: right;\">121.8</td><td style = \"text-align: right;\">142.215</td><td style = \"text-align: right;\">1</td></tr><tr><td class = \"rowNumber\" style = \"font-weight: bold; text-align: right;\">11</td><td style = \"text-align: right;\">118.64</td><td style = \"text-align: right;\">141.579</td><td style = \"text-align: right;\">0</td></tr><tr><td class = \"rowNumber\" style = \"font-weight: bold; text-align: right;\">12</td><td style = \"text-align: right;\">115.34</td><td style = \"text-align: right;\">138.318</td><td style = \"text-align: right;\">1</td></tr><tr><td class = \"rowNumber\" style = \"font-weight: bold; text-align: right;\">13</td><td style = \"text-align: right;\">112.02</td><td style = \"text-align: right;\">137.335</td><td style = \"text-align: right;\">0</td></tr><tr><td class = \"rowNumber\" style = \"font-weight: bold; text-align: right;\">14</td><td style = \"text-align: right;\">104.35</td><td style = \"text-align: right;\">136.806</td><td style = \"text-align: right;\">1</td></tr><tr><td class = \"rowNumber\" style = \"font-weight: bold; text-align: right;\">15</td><td style = \"text-align: right;\">131.51</td><td style = \"text-align: right;\">132.997</td><td style = \"text-align: right;\">0</td></tr><tr><td class = \"rowNumber\" style = \"font-weight: bold; text-align: right;\">16</td><td style = \"text-align: right;\">132.2</td><td style = \"text-align: right;\">129.529</td><td style = \"text-align: right;\">1</td></tr><tr><td class = \"rowNumber\" style = \"font-weight: bold; text-align: right;\">17</td><td style = \"text-align: right;\">153.45</td><td style = \"text-align: right;\">121.83</td><td style = \"text-align: right;\">0</td></tr><tr><td class = \"rowNumber\" style = \"font-weight: bold; text-align: right;\">18</td><td style = \"text-align: right;\">170.69</td><td style = \"text-align: right;\">115.126</td><td style = \"text-align: right;\">1</td></tr><tr><td class = \"rowNumber\" style = \"font-weight: bold; text-align: right;\">19</td><td style = \"text-align: right;\">190.01</td><td style = \"text-align: right;\">108.501</td><td style = \"text-align: right;\">0</td></tr><tr><td class = \"rowNumber\" style = \"font-weight: bold; text-align: right;\">20</td><td style = \"text-align: right;\">197.49</td><td style = \"text-align: right;\">103.541</td><td style = \"text-align: right;\">0</td></tr><tr><td class = \"rowNumber\" style = \"font-weight: bold; text-align: right;\">21</td><td style = \"text-align: right;\">174.49</td><td style = \"text-align: right;\">98.1823</td><td style = \"text-align: right;\">1</td></tr><tr><td class = \"rowNumber\" style = \"font-weight: bold; text-align: right;\">22</td><td style = \"text-align: right;\">160.3</td><td style = \"text-align: right;\">92.166</td><td style = \"text-align: right;\">1</td></tr><tr><td class = \"rowNumber\" style = \"font-weight: bold; text-align: right;\">23</td><td style = \"text-align: right;\">153.46</td><td style = \"text-align: right;\">84.6527</td><td style = \"text-align: right;\">1</td></tr><tr><td class = \"rowNumber\" style = \"font-weight: bold; text-align: right;\">24</td><td style = \"text-align: right;\">149.46</td><td style = \"text-align: right;\">78.0695</td><td style = \"text-align: right;\">0</td></tr></tbody></table></div>"
      ],
      "text/latex": [
       "\\begin{tabular}{r|ccc}\n",
       "\t& price & wind power & grid\\_excess\\\\\n",
       "\t\\hline\n",
       "\t& Float64 & Float64 & Int64\\\\\n",
       "\t\\hline\n",
       "\t1 & 122.83 & 151.992 & 1 \\\\\n",
       "\t2 & 132.91 & 143.459 & 1 \\\\\n",
       "\t3 & 132.9 & 142.587 & 0 \\\\\n",
       "\t4 & 125.03 & 146.618 & 1 \\\\\n",
       "\t5 & 120.07 & 150.136 & 1 \\\\\n",
       "\t6 & 139.83 & 151.102 & 1 \\\\\n",
       "\t7 & 164.23 & 145.927 & 0 \\\\\n",
       "\t8 & 186.66 & 143.261 & 1 \\\\\n",
       "\t9 & 186.95 & 142.279 & 0 \\\\\n",
       "\t10 & 121.8 & 142.215 & 1 \\\\\n",
       "\t11 & 118.64 & 141.579 & 0 \\\\\n",
       "\t12 & 115.34 & 138.318 & 1 \\\\\n",
       "\t13 & 112.02 & 137.335 & 0 \\\\\n",
       "\t14 & 104.35 & 136.806 & 1 \\\\\n",
       "\t15 & 131.51 & 132.997 & 0 \\\\\n",
       "\t16 & 132.2 & 129.529 & 1 \\\\\n",
       "\t17 & 153.45 & 121.83 & 0 \\\\\n",
       "\t18 & 170.69 & 115.126 & 1 \\\\\n",
       "\t19 & 190.01 & 108.501 & 0 \\\\\n",
       "\t20 & 197.49 & 103.541 & 0 \\\\\n",
       "\t21 & 174.49 & 98.1823 & 1 \\\\\n",
       "\t22 & 160.3 & 92.166 & 1 \\\\\n",
       "\t23 & 153.46 & 84.6527 & 1 \\\\\n",
       "\t24 & 149.46 & 78.0695 & 0 \\\\\n",
       "\\end{tabular}\n"
      ],
      "text/plain": [
       "\u001b[1m24×3 DataFrame\u001b[0m\n",
       "\u001b[1m Row \u001b[0m│\u001b[1m price   \u001b[0m\u001b[1m wind power \u001b[0m\u001b[1m grid_excess \u001b[0m\n",
       "     │\u001b[90m Float64 \u001b[0m\u001b[90m Float64    \u001b[0m\u001b[90m Int64       \u001b[0m\n",
       "─────┼──────────────────────────────────\n",
       "   1 │  122.83    151.992             1\n",
       "   2 │  132.91    143.459             1\n",
       "   3 │  132.9     142.587             0\n",
       "   4 │  125.03    146.618             1\n",
       "   5 │  120.07    150.136             1\n",
       "   6 │  139.83    151.102             1\n",
       "   7 │  164.23    145.927             0\n",
       "   8 │  186.66    143.261             1\n",
       "  ⋮  │    ⋮         ⋮            ⋮\n",
       "  18 │  170.69    115.126             1\n",
       "  19 │  190.01    108.501             0\n",
       "  20 │  197.49    103.541             0\n",
       "  21 │  174.49     98.1823            1\n",
       "  22 │  160.3      92.166             1\n",
       "  23 │  153.46     84.6527            1\n",
       "  24 │  149.46     78.0695            0\n",
       "\u001b[36m                          9 rows omitted\u001b[0m"
      ]
     },
     "metadata": {},
     "output_type": "display_data"
    }
   ],
   "source": [
    "scenarios[1]"
   ]
  },
  {
   "cell_type": "code",
   "execution_count": 26,
   "metadata": {},
   "outputs": [
    {
     "data": {
      "text/html": [
       "<div><div style = \"float: left;\"><span>24×3 DataFrame</span></div><div style = \"clear: both;\"></div></div><div class = \"data-frame\" style = \"overflow-x: scroll;\"><table class = \"data-frame\" style = \"margin-bottom: 6px;\"><thead><tr class = \"header\"><th class = \"rowNumber\" style = \"font-weight: bold; text-align: right;\">Row</th><th style = \"text-align: left;\">price</th><th style = \"text-align: left;\">wind power</th><th style = \"text-align: left;\">grid_excess</th></tr><tr class = \"subheader headerLastRow\"><th class = \"rowNumber\" style = \"font-weight: bold; text-align: right;\"></th><th title = \"Float64\" style = \"text-align: left;\">Float64</th><th title = \"Float64\" style = \"text-align: left;\">Float64</th><th title = \"Int64\" style = \"text-align: left;\">Int64</th></tr></thead><tbody><tr><td class = \"rowNumber\" style = \"font-weight: bold; text-align: right;\">1</td><td style = \"text-align: right;\">2.01</td><td style = \"text-align: right;\">22.3372</td><td style = \"text-align: right;\">1</td></tr><tr><td class = \"rowNumber\" style = \"font-weight: bold; text-align: right;\">2</td><td style = \"text-align: right;\">1.38</td><td style = \"text-align: right;\">18.6099</td><td style = \"text-align: right;\">1</td></tr><tr><td class = \"rowNumber\" style = \"font-weight: bold; text-align: right;\">3</td><td style = \"text-align: right;\">0.09</td><td style = \"text-align: right;\">15.9499</td><td style = \"text-align: right;\">0</td></tr><tr><td class = \"rowNumber\" style = \"font-weight: bold; text-align: right;\">4</td><td style = \"text-align: right;\">0.08</td><td style = \"text-align: right;\">13.4696</td><td style = \"text-align: right;\">1</td></tr><tr><td class = \"rowNumber\" style = \"font-weight: bold; text-align: right;\">5</td><td style = \"text-align: right;\">0.05</td><td style = \"text-align: right;\">9.2429</td><td style = \"text-align: right;\">1</td></tr><tr><td class = \"rowNumber\" style = \"font-weight: bold; text-align: right;\">6</td><td style = \"text-align: right;\">0.0</td><td style = \"text-align: right;\">5.90827</td><td style = \"text-align: right;\">1</td></tr><tr><td class = \"rowNumber\" style = \"font-weight: bold; text-align: right;\">7</td><td style = \"text-align: right;\">-0.38</td><td style = \"text-align: right;\">4.51948</td><td style = \"text-align: right;\">0</td></tr><tr><td class = \"rowNumber\" style = \"font-weight: bold; text-align: right;\">8</td><td style = \"text-align: right;\">0.0</td><td style = \"text-align: right;\">2.73391</td><td style = \"text-align: right;\">1</td></tr><tr><td class = \"rowNumber\" style = \"font-weight: bold; text-align: right;\">9</td><td style = \"text-align: right;\">0.0</td><td style = \"text-align: right;\">1.1039</td><td style = \"text-align: right;\">0</td></tr><tr><td class = \"rowNumber\" style = \"font-weight: bold; text-align: right;\">10</td><td style = \"text-align: right;\">0.04</td><td style = \"text-align: right;\">0.977411</td><td style = \"text-align: right;\">1</td></tr><tr><td class = \"rowNumber\" style = \"font-weight: bold; text-align: right;\">11</td><td style = \"text-align: right;\">0.8</td><td style = \"text-align: right;\">0.791935</td><td style = \"text-align: right;\">0</td></tr><tr><td class = \"rowNumber\" style = \"font-weight: bold; text-align: right;\">12</td><td style = \"text-align: right;\">0.08</td><td style = \"text-align: right;\">0.741931</td><td style = \"text-align: right;\">1</td></tr><tr><td class = \"rowNumber\" style = \"font-weight: bold; text-align: right;\">13</td><td style = \"text-align: right;\">0.04</td><td style = \"text-align: right;\">0.974194</td><td style = \"text-align: right;\">0</td></tr><tr><td class = \"rowNumber\" style = \"font-weight: bold; text-align: right;\">14</td><td style = \"text-align: right;\">0.0</td><td style = \"text-align: right;\">1.16774</td><td style = \"text-align: right;\">1</td></tr><tr><td class = \"rowNumber\" style = \"font-weight: bold; text-align: right;\">15</td><td style = \"text-align: right;\">0.85</td><td style = \"text-align: right;\">1.32735</td><td style = \"text-align: right;\">0</td></tr><tr><td class = \"rowNumber\" style = \"font-weight: bold; text-align: right;\">16</td><td style = \"text-align: right;\">23.53</td><td style = \"text-align: right;\">2.30725</td><td style = \"text-align: right;\">1</td></tr><tr><td class = \"rowNumber\" style = \"font-weight: bold; text-align: right;\">17</td><td style = \"text-align: right;\">36.54</td><td style = \"text-align: right;\">3.32664</td><td style = \"text-align: right;\">0</td></tr><tr><td class = \"rowNumber\" style = \"font-weight: bold; text-align: right;\">18</td><td style = \"text-align: right;\">46.03</td><td style = \"text-align: right;\">4.49998</td><td style = \"text-align: right;\">1</td></tr><tr><td class = \"rowNumber\" style = \"font-weight: bold; text-align: right;\">19</td><td style = \"text-align: right;\">55.57</td><td style = \"text-align: right;\">5.49355</td><td style = \"text-align: right;\">0</td></tr><tr><td class = \"rowNumber\" style = \"font-weight: bold; text-align: right;\">20</td><td style = \"text-align: right;\">54.95</td><td style = \"text-align: right;\">5.03873</td><td style = \"text-align: right;\">0</td></tr><tr><td class = \"rowNumber\" style = \"font-weight: bold; text-align: right;\">21</td><td style = \"text-align: right;\">49.23</td><td style = \"text-align: right;\">4.49352</td><td style = \"text-align: right;\">1</td></tr><tr><td class = \"rowNumber\" style = \"font-weight: bold; text-align: right;\">22</td><td style = \"text-align: right;\">44.99</td><td style = \"text-align: right;\">4.80315</td><td style = \"text-align: right;\">1</td></tr><tr><td class = \"rowNumber\" style = \"font-weight: bold; text-align: right;\">23</td><td style = \"text-align: right;\">45.96</td><td style = \"text-align: right;\">6.80877</td><td style = \"text-align: right;\">1</td></tr><tr><td class = \"rowNumber\" style = \"font-weight: bold; text-align: right;\">24</td><td style = \"text-align: right;\">35.0</td><td style = \"text-align: right;\">10.6853</td><td style = \"text-align: right;\">0</td></tr></tbody></table></div>"
      ],
      "text/latex": [
       "\\begin{tabular}{r|ccc}\n",
       "\t& price & wind power & grid\\_excess\\\\\n",
       "\t\\hline\n",
       "\t& Float64 & Float64 & Int64\\\\\n",
       "\t\\hline\n",
       "\t1 & 2.01 & 22.3372 & 1 \\\\\n",
       "\t2 & 1.38 & 18.6099 & 1 \\\\\n",
       "\t3 & 0.09 & 15.9499 & 0 \\\\\n",
       "\t4 & 0.08 & 13.4696 & 1 \\\\\n",
       "\t5 & 0.05 & 9.2429 & 1 \\\\\n",
       "\t6 & 0.0 & 5.90827 & 1 \\\\\n",
       "\t7 & -0.38 & 4.51948 & 0 \\\\\n",
       "\t8 & 0.0 & 2.73391 & 1 \\\\\n",
       "\t9 & 0.0 & 1.1039 & 0 \\\\\n",
       "\t10 & 0.04 & 0.977411 & 1 \\\\\n",
       "\t11 & 0.8 & 0.791935 & 0 \\\\\n",
       "\t12 & 0.08 & 0.741931 & 1 \\\\\n",
       "\t13 & 0.04 & 0.974194 & 0 \\\\\n",
       "\t14 & 0.0 & 1.16774 & 1 \\\\\n",
       "\t15 & 0.85 & 1.32735 & 0 \\\\\n",
       "\t16 & 23.53 & 2.30725 & 1 \\\\\n",
       "\t17 & 36.54 & 3.32664 & 0 \\\\\n",
       "\t18 & 46.03 & 4.49998 & 1 \\\\\n",
       "\t19 & 55.57 & 5.49355 & 0 \\\\\n",
       "\t20 & 54.95 & 5.03873 & 0 \\\\\n",
       "\t21 & 49.23 & 4.49352 & 1 \\\\\n",
       "\t22 & 44.99 & 4.80315 & 1 \\\\\n",
       "\t23 & 45.96 & 6.80877 & 1 \\\\\n",
       "\t24 & 35.0 & 10.6853 & 0 \\\\\n",
       "\\end{tabular}\n"
      ],
      "text/plain": [
       "\u001b[1m24×3 DataFrame\u001b[0m\n",
       "\u001b[1m Row \u001b[0m│\u001b[1m price   \u001b[0m\u001b[1m wind power \u001b[0m\u001b[1m grid_excess \u001b[0m\n",
       "     │\u001b[90m Float64 \u001b[0m\u001b[90m Float64    \u001b[0m\u001b[90m Int64       \u001b[0m\n",
       "─────┼──────────────────────────────────\n",
       "   1 │    2.01   22.3372              1\n",
       "   2 │    1.38   18.6099              1\n",
       "   3 │    0.09   15.9499              0\n",
       "   4 │    0.08   13.4696              1\n",
       "   5 │    0.05    9.2429              1\n",
       "   6 │    0.0     5.90827             1\n",
       "   7 │   -0.38    4.51948             0\n",
       "   8 │    0.0     2.73391             1\n",
       "  ⋮  │    ⋮         ⋮            ⋮\n",
       "  18 │   46.03    4.49998             1\n",
       "  19 │   55.57    5.49355             0\n",
       "  20 │   54.95    5.03873             0\n",
       "  21 │   49.23    4.49352             1\n",
       "  22 │   44.99    4.80315             1\n",
       "  23 │   45.96    6.80877             1\n",
       "  24 │   35.0    10.6853              0\n",
       "\u001b[36m                          9 rows omitted\u001b[0m"
      ]
     },
     "metadata": {},
     "output_type": "display_data"
    }
   ],
   "source": [
    "scenarios[2]"
   ]
  },
  {
   "cell_type": "code",
   "execution_count": 27,
   "metadata": {},
   "outputs": [
    {
     "data": {
      "text/html": [
       "<div><div style = \"float: left;\"><span>0×2 DataFrame</span></div><div style = \"clear: both;\"></div></div><div class = \"data-frame\" style = \"overflow-x: scroll;\"><table class = \"data-frame\" style = \"margin-bottom: 6px;\"><thead><tr class = \"header\"><th class = \"rowNumber\" style = \"font-weight: bold; text-align: right;\">Row</th><th style = \"text-align: left;\">hour</th><th style = \"text-align: left;\">p_DA</th></tr><tr class = \"subheader headerLastRow\"><th class = \"rowNumber\" style = \"font-weight: bold; text-align: right;\"></th><th title = \"Int64\" style = \"text-align: left;\">Int64</th><th title = \"Float64\" style = \"text-align: left;\">Float64</th></tr></thead><tbody></tbody></table></div>"
      ],
      "text/latex": [
       "\\begin{tabular}{r|cc}\n",
       "\t& hour & p\\_DA\\\\\n",
       "\t\\hline\n",
       "\t& Int64 & Float64\\\\\n",
       "\t\\hline\n",
       "\\end{tabular}\n"
      ],
      "text/plain": [
       "\u001b[1m0×2 DataFrame\u001b[0m\n",
       "\u001b[1m Row \u001b[0m│\u001b[1m hour  \u001b[0m\u001b[1m p_DA    \u001b[0m\n",
       "     │\u001b[90m Int64 \u001b[0m\u001b[90m Float64 \u001b[0m\n",
       "─────┴────────────────"
      ]
     },
     "metadata": {},
     "output_type": "display_data"
    }
   ],
   "source": [
    "# Initialize the DataFrame directly without dynamic column names\n",
    "result_df = DataFrame(hour = Int[], p_DA = Float64[])\n",
    "\n",
    "\n"
   ]
  },
  {
   "cell_type": "code",
   "execution_count": 35,
   "metadata": {},
   "outputs": [
    {
     "data": {
      "text/plain": [
       "24"
      ]
     },
     "metadata": {},
     "output_type": "display_data"
    }
   ],
   "source": [
    "W = 200\n",
    "hours = 24"
   ]
  },
  {
   "cell_type": "code",
   "execution_count": 42,
   "metadata": {},
   "outputs": [
    {
     "ename": "Base.Meta.ParseError",
     "evalue": "ParseError:\n# Error @ c:\\Users\\leonr\\OneDrive\\Documents\\DTU\\Renewables in Electricity Markets\\renewables_in_electricity_markets\\Assignment2\\Task1\\model1_1.ipynb:11:120\n# Define the objective function\r\n@objective(model, Max, sum(1/W*(scenarios[i][hour,\"price\"] * p_DA[hour] + scenarios[i][hour,\"price\"] * p_DA[hour]*(0.9*.scenarios[i][hour,\"grid_excess\"] + 1.2*(1-scenarios[i][hour,\"grid_excess\"])) for i in 1:W, hour in 1:hours)))\r\n#                                                                                                                      ╙ ── invalid identifier",
     "output_type": "error",
     "traceback": [
      "ParseError:\n",
      "# Error @ c:\\Users\\leonr\\OneDrive\\Documents\\DTU\\Renewables in Electricity Markets\\renewables_in_electricity_markets\\Assignment2\\Task1\\model1_1.ipynb:11:120\n",
      "# Define the objective function\r\n",
      "@objective(model, Max, sum(1/W*(scenarios[i][hour,\"price\"] * p_DA[hour] + scenarios[i][hour,\"price\"] * p_DA[hour]*(0.9*.scenarios[i][hour,\"grid_excess\"] + 1.2*(1-scenarios[i][hour,\"grid_excess\"])) for i in 1:W, hour in 1:hours)))\r\n",
      "#                                                                                                                      ╙ ── invalid identifier\n",
      "\n",
      "Stacktrace:\n",
      " [1] top-level scope\n",
      "   @ c:\\Users\\leonr\\OneDrive\\Documents\\DTU\\Renewables in Electricity Markets\\renewables_in_electricity_markets\\Assignment2\\Task1\\model1_1.ipynb:11"
     ]
    }
   ],
   "source": [
    "# Create a new model with GLPK solver\n",
    "model = Model(GLPK.Optimizer)\n",
    "\n",
    "# Define the decision variables for hour\n",
    "@variable(model, p_DA[1:hours])\n",
    "@variable(model, delta[1:W,1:hours])\n",
    "#@variable(model, delta_up[1:W,1:hours])\n",
    "#@variable(model, delta_down[1:W,1:hours])\n",
    "\n",
    "# Define the objective function\n",
    "@objective(model, Max, sum(1/W*(scenarios[i][hour,\"price\"] * p_DA[hour] + scenarios[i][hour,\"price\"] * p_DA[hour]*(0.9*scenarios[i][hour,\"grid_excess\"] + 1.2*(1-scenarios[i][hour,\"grid_excess\"])) for i in 1:W, hour in 1:hours)))\n",
    "\n",
    "# Define the constraints\n",
    "@constraint(model, [hour in 1:hours], p_DA[hour] <= 200)\n",
    "@constraint(model, [hour in 1:hours], p_DA[hour] >= 0)\n",
    "@constraint(model, [i in 1:W, hour in 1:hours], delta[i,hour] == scenarios[i][hour,\"wind power\"] - p_DA[hour])\n",
    "#@constraint(model, [i in 1:W, hour in 1:hours], delta[i,hour] == delta_up[i,hour] - delta_down[i,hour])\n",
    "#@constraint(model, [i in 1:W, hour in 1:hours], delta_down[i,hour] >= 0)\n",
    "#@constraint(model, [i in 1:W, hour in 1:hours], delta_down[i,hour] <= p_DA[hour])\n",
    "#@constraint(model, [i in 1:W, hour in 1:hours], delta_up[i,hour] >= 0)\n",
    "#@constraint(model, [i in 1:W, hour in 1:hours], delta_up[i,hour] + p_DA[hour] <= 200)\n",
    "\n",
    "\n",
    "\n",
    "# Solve the optimization problem\n",
    "optimize!(model)\n",
    "\n",
    "\n",
    "#println(model)\n",
    "\n",
    "# Print the termination status\n",
    "status = termination_status(model)\n",
    "if status == MOI.OPTIMAL\n",
    "    println(\"Optimal solution found\")\n",
    "    \n",
    "    # RETURN OBJECTIVE value\n",
    "    println(\"Objective value: \", objective_value(model))\n",
    "else\n",
    "    println(\"No optimal solution found\")\n",
    "end"
   ]
  },
  {
   "cell_type": "code",
   "execution_count": 40,
   "metadata": {},
   "outputs": [
    {
     "name": "stderr",
     "output_type": "stream",
     "text": [
      "┌ Warning: The model has been modified since the last call to `optimize!` (or `optimize!` has not been called yet). If you are iteratively querying solution information and modifying a model, query all the results first, then modify the model.\n",
      "└ @ JuMP C:\\Users\\leonr\\.julia\\packages\\JuMP\\HjlGr\\src\\optimizer_interface.jl:675\n"
     ]
    },
    {
     "ename": "OptimizeNotCalled",
     "evalue": "OptimizeNotCalled()",
     "output_type": "error",
     "traceback": [
      "OptimizeNotCalled()\n",
      "\n",
      "Stacktrace:\n",
      " [1] get(model::Model, attr::MathOptInterface.ObjectiveValue)\n",
      "   @ JuMP C:\\Users\\leonr\\.julia\\packages\\JuMP\\HjlGr\\src\\optimizer_interface.jl:681\n",
      " [2] objective_value(model::Model; result::Int64)\n",
      "   @ JuMP C:\\Users\\leonr\\.julia\\packages\\JuMP\\HjlGr\\src\\objective.jl:54\n",
      " [3] objective_value(model::Model)\n",
      "   @ JuMP C:\\Users\\leonr\\.julia\\packages\\JuMP\\HjlGr\\src\\objective.jl:50\n",
      " [4] top-level scope\n",
      "   @ c:\\Users\\leonr\\OneDrive\\Documents\\DTU\\Renewables in Electricity Markets\\renewables_in_electricity_markets\\Assignment2\\Task1\\model1_1.ipynb:1"
     ]
    }
   ],
   "source": [
    "println(\"Objective value: \", objective_value(model))\n",
    "println(\"p_DA: \", value.(p_DA))\n",
    "println(\"delta: \", value.(delta))\n",
    "println(\"delta_up: \", value.(delta_up))\n",
    "println(\"delta_down: \", value.(delta_down))"
   ]
  }
 ],
 "metadata": {
  "kernelspec": {
   "display_name": "Julia 1.9.3",
   "language": "julia",
   "name": "julia-1.9"
  },
  "language_info": {
   "file_extension": ".jl",
   "mimetype": "application/julia",
   "name": "julia",
   "version": "1.9.3"
  }
 },
 "nbformat": 4,
 "nbformat_minor": 2
}
