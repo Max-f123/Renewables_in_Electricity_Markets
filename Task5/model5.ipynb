{
 "cells": [
  {
   "cell_type": "code",
   "execution_count": 2,
   "metadata": {},
   "outputs": [],
   "source": [
    "#import Pkg\n",
    "#Pkg.add(\"JuMP\")\n",
    "#Pkg.add(\"GLPK\")\n",
    "#Pkg.add(\"Gruobi\")\n",
    "#Pkg.add(\"DataFrames\")\n",
    "#Pkg.add(\"CSV\")"
   ]
  },
  {
   "cell_type": "code",
   "execution_count": 3,
   "metadata": {},
   "outputs": [],
   "source": [
    "using JuMP, GLPK\n",
    "using DataFrames\n",
    "using CSV\n",
    "using PrettyTables"
   ]
  },
  {
   "cell_type": "code",
   "execution_count": 4,
   "metadata": {},
   "outputs": [
    {
     "name": "stdout",
     "output_type": "stream",
     "text": [
      "\u001b[1m12×11 DataFrame\u001b[0m\n",
      "\u001b[1m Row \u001b[0m│\u001b[1m Conventional generators \u001b[0m\u001b[1m Location [node] \u001b[0m\u001b[1m Production cost [$/MWh] \u001b[0m\u001b[1m Upward reserve cost [$/MW] \u001b[0m\u001b[1m Downward reserve cost [$/MW] \u001b[0m\u001b[1m Capacity [MW] \u001b[0m\u001b[1m Maximum upward reserve provision capability [MW] \u001b[0m\u001b[1m Maximum downward reserve provision capability [MW] \u001b[0m\u001b[1m RUi (MW/h)_x \u001b[0m\u001b[1m RDi (MW/h)_x \u001b[0m\u001b[1m P inii (MW)_x \u001b[0m\n",
      "     │\u001b[90m Int64                   \u001b[0m\u001b[90m Int64           \u001b[0m\u001b[90m Float64                 \u001b[0m\u001b[90m Float64                    \u001b[0m\u001b[90m Float64                      \u001b[0m\u001b[90m Int64         \u001b[0m\u001b[90m Int64                                            \u001b[0m\u001b[90m Int64                                              \u001b[0m\u001b[90m Int64        \u001b[0m\u001b[90m Int64        \u001b[0m\u001b[90m Int64         \u001b[0m\n",
      "─────┼─────────────────────────────────────────────────────────────────────────────────────────────────────────────────────────────────────────────────────────────────────────────────────────────────────────────────────────────────────────────────────────────────────────────────────────────\n",
      "   1 │                       1                1                    13.32                        1.68                          2.32            152                                                40                                                  40           120           120             76\n",
      "   2 │                       2                2                    13.32                        1.68                          2.32            152                                                40                                                  40           120           120             76\n",
      "   3 │                       3                7                    20.7                         3.3                           4.67            350                                                70                                                  70           350           350              0\n",
      "   4 │                       4               13                    20.93                        4.07                          3.93            591                                               180                                                 180           240           240              0\n",
      "   5 │                       5               15                    26.11                        1.89                          3.11             60                                                60                                                  60            60            60              0\n",
      "   6 │                       6               15                    10.52                        5.48                          3.52            155                                                30                                                  30           155           155              0\n",
      "   7 │                       7               16                    10.52                        5.48                          3.52            155                                                30                                                  30           155           155            124\n",
      "   8 │                       8               18                     6.02                        4.98                          5.02            400                                                 0                                                   0           280           280            240\n",
      "   9 │                       9               21                     5.47                        5.53                          4.97            400                                                 0                                                   0           280           280            240\n",
      "  10 │                      10               22                     7.0                         8.0                           6.0             300                                                 0                                                   0           300           300            240\n",
      "  11 │                      11               23                    10.52                        3.45                          2.52            310                                                60                                                  60           180           180            248\n",
      "  12 │                      12               23                    10.89                        5.11                          2.89            350                                                40                                                  40           240           240            280"
     ]
    }
   ],
   "source": [
    "#load cost data\n",
    "con_generation = CSV.File(\"../data/conventional_generators.csv\") |> DataFrame\n",
    "\n",
    "#load wind_technicaldata\n",
    "wind_generation = CSV.File(\"../data/wind_farms.csv\") |> DataFrame\n",
    "\n",
    "# load wind profile\n",
    "wind_profile = CSV.File(\"../data/wind_powerprofile_200.csv\") |> DataFrame\n",
    "\n",
    "print(con_generation)"
   ]
  },
  {
   "cell_type": "code",
   "execution_count": 5,
   "metadata": {},
   "outputs": [
    {
     "name": "stdout",
     "output_type": "stream",
     "text": [
      "\u001b[1m1×12 DataFrame\u001b[0m\n",
      "\u001b[1m Row \u001b[0m│\u001b[1m x_con1  \u001b[0m\u001b[1m x_con2  \u001b[0m\u001b[1m x_con3  \u001b[0m\u001b[1m x_con4  \u001b[0m\u001b[1m x_con5  \u001b[0m\u001b[1m x_con6  \u001b[0m\u001b[1m x_con7  \u001b[0m\u001b[1m x_con8  \u001b[0m\u001b[1m x_con9  \u001b[0m\u001b[1m x_con10 \u001b[0m\u001b[1m x_con11 \u001b[0m\u001b[1m x_con12 \u001b[0m\n",
      "     │\u001b[90m Float64 \u001b[0m\u001b[90m Float64 \u001b[0m\u001b[90m Float64 \u001b[0m\u001b[90m Float64 \u001b[0m\u001b[90m Float64 \u001b[0m\u001b[90m Float64 \u001b[0m\u001b[90m Float64 \u001b[0m\u001b[90m Float64 \u001b[0m\u001b[90m Float64 \u001b[0m\u001b[90m Float64 \u001b[0m\u001b[90m Float64 \u001b[0m\u001b[90m Float64 \u001b[0m\n",
      "─────┼────────────────────────────────────────────────────────────────────────────────────────────────────────────\n",
      "   1 │     0.0      0.0      0.0      0.0      0.0    155.0    155.0    400.0    400.0    300.0    310.0  147.466"
     ]
    }
   ],
   "source": [
    "# load equilibrium and market results from Task1 result foler\n",
    "equilibrium = CSV.File(\"../Task 1/results/equilibrium_model1.csv\") |> DataFrame\n",
    "market = CSV.File(\"../Task 1/results/market_clearing_model1.csv\") |> DataFrame\n",
    "\n",
    "#get hour from market df\n",
    "hour = equilibrium[!, :hour][1]\n",
    "\n",
    "market_price = equilibrium[!, :market_price][1]\n",
    "\n",
    "\n",
    "# get all the columns, which are starting with x_con and x_wind\n",
    "x_con_names = [col for col in names(market) if occursin(\"x_con\", col)]\n",
    "x_wind_names = [col for col in names(market) if occursin(\"x_wind\", col)]\n",
    "y_names = [col for col in names(market) if occursin(\"y\", col)]\n",
    "\n",
    "x_con = market[!, x_con_names]\n",
    "x_wind = market[!, x_wind_names]\n",
    "y = market[!, y_names]\n",
    "\n",
    "\n",
    "print(x_con)"
   ]
  },
  {
   "cell_type": "code",
   "execution_count": 6,
   "metadata": {},
   "outputs": [
    {
     "data": {
      "text/plain": [
       "382.32161524527373"
      ]
     },
     "metadata": {},
     "output_type": "display_data"
    }
   ],
   "source": [
    "# market changes defintion\n",
    "import Random\n",
    "Random.seed!(1234)\n",
    "\n",
    "# make a list of all the positive x_con values and their x_con_list_indexindex\n",
    "x_con_list = []\n",
    "x_con_list_index = []\n",
    "for i in 1:size(x_con, 1)\n",
    "    for j in 1:size(x_con, 2)\n",
    "        if x_con[i, j] > 0\n",
    "            push!(x_con_list, x_con[i, j])\n",
    "            push!(x_con_list_index, (i, j))\n",
    "        end\n",
    "    end\n",
    "end\n",
    "\n",
    "# return random number between 1 and length of x_con_list\n",
    "random_number = rand(1:length(x_con_list))\n",
    "# get the index of the x_con_list_indexindex\n",
    "outage_index = x_con_list_index[random_number]\n",
    "\n",
    "outage_number = 8\n",
    "# give the column name of the x_con\n",
    "outage_generator = x_con_names[outage_number]\n",
    "\n",
    "# get wind generatorion differences\n",
    "x_wind_bal = []\n",
    "\n",
    "for i in 1:2\n",
    "    push!(x_wind_bal, x_wind[1,i] *0.1)#0.1\n",
    "end\n",
    "\n",
    "for i in 3:4\n",
    "    push!(x_wind_bal, -x_wind[1,i] * 0.15)#0.15\n",
    "end\n",
    "\n",
    "balance_amount = x_con[1, outage_number] + sum(x_wind_bal)"
   ]
  },
  {
   "cell_type": "code",
   "execution_count": 7,
   "metadata": {},
   "outputs": [
    {
     "data": {
      "text/plain": [
       "4"
      ]
     },
     "metadata": {},
     "output_type": "display_data"
    }
   ],
   "source": [
    "#demand bids\n",
    "name = \"demand_hour_0.csv\"\n",
    "demand_bids = CSV.File(\"../data/demand_bids_hour/\" * name) |> DataFrame\n",
    " \n",
    "# number of convential generators\n",
    "G = size(con_generation, 1)\n",
    "\n",
    "# number of demand\n",
    "D = size(demand_bids, 1)\n",
    "\n",
    "# number of wind generators\n",
    "W = size(wind_generation, 1)"
   ]
  },
  {
   "cell_type": "code",
   "execution_count": 8,
   "metadata": {},
   "outputs": [],
   "source": [
    "# Initialize the DataFrame directly without dynamic column names\n",
    "result_df = DataFrame(hour = Int[], objective_value = Float64[])\n",
    "equilibrium_df = DataFrame(hour = Int[], market_price_bal = Float64[], market_quantity = Float64[], market_state = String[])\n",
    "\n",
    "# For x variables, manually add each column. This is a one-time setup.\n",
    "for i in 1:G\n",
    "    result_df[!, Symbol(\"x_con_down$i\")] = Float64[]\n",
    "end\n",
    "\n",
    "for i in 1:G\n",
    "    result_df[!, Symbol(\"x_con_up$i\")] = Float64[]\n",
    "end\n",
    "\n",
    "# For y variables, manually add each column. This is a one-time setup.\n",
    "for i in 1:D\n",
    "    result_df[!, Symbol(\"y_down$i\")] = Float64[]\n",
    "end"
   ]
  },
  {
   "cell_type": "code",
   "execution_count": 9,
   "metadata": {},
   "outputs": [
    {
     "name": "stdout",
     "output_type": "stream",
     "text": [
      "Hour 14: Optimal solution found\n",
      "13.501000000000001\n"
     ]
    },
    {
     "data": {
      "text/html": [
       "<div><div style = \"float: left;\"><span>1×43 DataFrame</span></div><div style = \"clear: both;\"></div></div><div class = \"data-frame\" style = \"overflow-x: scroll;\"><table class = \"data-frame\" style = \"margin-bottom: 6px;\"><thead><tr class = \"header\"><th class = \"rowNumber\" style = \"font-weight: bold; text-align: right;\">Row</th><th style = \"text-align: left;\">hour</th><th style = \"text-align: left;\">objective_value</th><th style = \"text-align: left;\">x_con_down1</th><th style = \"text-align: left;\">x_con_down2</th><th style = \"text-align: left;\">x_con_down3</th><th style = \"text-align: left;\">x_con_down4</th><th style = \"text-align: left;\">x_con_down5</th><th style = \"text-align: left;\">x_con_down6</th><th style = \"text-align: left;\">x_con_down7</th><th style = \"text-align: left;\">x_con_down8</th><th style = \"text-align: left;\">x_con_down9</th><th style = \"text-align: left;\">x_con_down10</th><th style = \"text-align: left;\">x_con_down11</th><th style = \"text-align: left;\">x_con_down12</th><th style = \"text-align: left;\">x_con_up1</th><th style = \"text-align: left;\">x_con_up2</th><th style = \"text-align: left;\">x_con_up3</th><th style = \"text-align: left;\">x_con_up4</th><th style = \"text-align: left;\">x_con_up5</th><th style = \"text-align: left;\">x_con_up6</th><th style = \"text-align: left;\">x_con_up7</th><th style = \"text-align: left;\">x_con_up8</th><th style = \"text-align: left;\">x_con_up9</th><th style = \"text-align: left;\">x_con_up10</th><th style = \"text-align: left;\">x_con_up11</th><th style = \"text-align: left;\">x_con_up12</th><th style = \"text-align: left;\">y_down1</th><th style = \"text-align: left;\">y_down2</th><th style = \"text-align: left;\">y_down3</th><th style = \"text-align: left;\">y_down4</th><th style = \"text-align: left;\">y_down5</th><th style = \"text-align: left;\">y_down6</th><th style = \"text-align: left;\">y_down7</th><th style = \"text-align: left;\">y_down8</th><th style = \"text-align: left;\">y_down9</th><th style = \"text-align: left;\">y_down10</th><th style = \"text-align: left;\">y_down11</th><th style = \"text-align: left;\">y_down12</th><th style = \"text-align: left;\">y_down13</th><th style = \"text-align: left;\">y_down14</th><th style = \"text-align: left;\">y_down15</th><th style = \"text-align: left;\">y_down16</th><th style = \"text-align: left;\">y_down17</th></tr><tr class = \"subheader headerLastRow\"><th class = \"rowNumber\" style = \"font-weight: bold; text-align: right;\"></th><th title = \"Int64\" style = \"text-align: left;\">Int64</th><th title = \"Float64\" style = \"text-align: left;\">Float64</th><th title = \"Float64\" style = \"text-align: left;\">Float64</th><th title = \"Float64\" style = \"text-align: left;\">Float64</th><th title = \"Float64\" style = \"text-align: left;\">Float64</th><th title = \"Float64\" style = \"text-align: left;\">Float64</th><th title = \"Float64\" style = \"text-align: left;\">Float64</th><th title = \"Float64\" style = \"text-align: left;\">Float64</th><th title = \"Float64\" style = \"text-align: left;\">Float64</th><th title = \"Float64\" style = \"text-align: left;\">Float64</th><th title = \"Float64\" style = \"text-align: left;\">Float64</th><th title = \"Float64\" style = \"text-align: left;\">Float64</th><th title = \"Float64\" style = \"text-align: left;\">Float64</th><th title = \"Float64\" style = \"text-align: left;\">Float64</th><th title = \"Float64\" style = \"text-align: left;\">Float64</th><th title = \"Float64\" style = \"text-align: left;\">Float64</th><th title = \"Float64\" style = \"text-align: left;\">Float64</th><th title = \"Float64\" style = \"text-align: left;\">Float64</th><th title = \"Float64\" style = \"text-align: left;\">Float64</th><th title = \"Float64\" style = \"text-align: left;\">Float64</th><th title = \"Float64\" style = \"text-align: left;\">Float64</th><th title = \"Float64\" style = \"text-align: left;\">Float64</th><th title = \"Float64\" style = \"text-align: left;\">Float64</th><th title = \"Float64\" style = \"text-align: left;\">Float64</th><th title = \"Float64\" style = \"text-align: left;\">Float64</th><th title = \"Float64\" style = \"text-align: left;\">Float64</th><th title = \"Float64\" style = \"text-align: left;\">Float64</th><th title = \"Float64\" style = \"text-align: left;\">Float64</th><th title = \"Float64\" style = \"text-align: left;\">Float64</th><th title = \"Float64\" style = \"text-align: left;\">Float64</th><th title = \"Float64\" style = \"text-align: left;\">Float64</th><th title = \"Float64\" style = \"text-align: left;\">Float64</th><th title = \"Float64\" style = \"text-align: left;\">Float64</th><th title = \"Float64\" style = \"text-align: left;\">Float64</th><th title = \"Float64\" style = \"text-align: left;\">Float64</th><th title = \"Float64\" style = \"text-align: left;\">Float64</th><th title = \"Float64\" style = \"text-align: left;\">Float64</th><th title = \"Float64\" style = \"text-align: left;\">Float64</th><th title = \"Float64\" style = \"text-align: left;\">Float64</th><th title = \"Float64\" style = \"text-align: left;\">Float64</th><th title = \"Float64\" style = \"text-align: left;\">Float64</th><th title = \"Float64\" style = \"text-align: left;\">Float64</th><th title = \"Float64\" style = \"text-align: left;\">Float64</th></tr></thead><tbody><tr><td class = \"rowNumber\" style = \"font-weight: bold; text-align: right;\">1</td><td style = \"text-align: right;\">14</td><td style = \"text-align: right;\">4867.41</td><td style = \"text-align: right;\">0.0</td><td style = \"text-align: right;\">0.0</td><td style = \"text-align: right;\">0.0</td><td style = \"text-align: right;\">0.0</td><td style = \"text-align: right;\">0.0</td><td style = \"text-align: right;\">0.0</td><td style = \"text-align: right;\">0.0</td><td style = \"text-align: right;\">0.0</td><td style = \"text-align: right;\">0.0</td><td style = \"text-align: right;\">0.0</td><td style = \"text-align: right;\">0.0</td><td style = \"text-align: right;\">0.0</td><td style = \"text-align: right;\">40.0</td><td style = \"text-align: right;\">40.0</td><td style = \"text-align: right;\">70.0</td><td style = \"text-align: right;\">180.0</td><td style = \"text-align: right;\">12.3216</td><td style = \"text-align: right;\">0.0</td><td style = \"text-align: right;\">0.0</td><td style = \"text-align: right;\">0.0</td><td style = \"text-align: right;\">0.0</td><td style = \"text-align: right;\">0.0</td><td style = \"text-align: right;\">5.68434e-14</td><td style = \"text-align: right;\">40.0</td><td style = \"text-align: right;\">0.0</td><td style = \"text-align: right;\">0.0</td><td style = \"text-align: right;\">0.0</td><td style = \"text-align: right;\">0.0</td><td style = \"text-align: right;\">0.0</td><td style = \"text-align: right;\">0.0</td><td style = \"text-align: right;\">0.0</td><td style = \"text-align: right;\">0.0</td><td style = \"text-align: right;\">0.0</td><td style = \"text-align: right;\">0.0</td><td style = \"text-align: right;\">0.0</td><td style = \"text-align: right;\">0.0</td><td style = \"text-align: right;\">0.0</td><td style = \"text-align: right;\">0.0</td><td style = \"text-align: right;\">0.0</td><td style = \"text-align: right;\">0.0</td><td style = \"text-align: right;\">0.0</td></tr></tbody></table></div>"
      ],
      "text/latex": [
       "\\begin{tabular}{r|cccccccc}\n",
       "\t& hour & objective\\_value & x\\_con\\_down1 & x\\_con\\_down2 & x\\_con\\_down3 & x\\_con\\_down4 & x\\_con\\_down5 & \\\\\n",
       "\t\\hline\n",
       "\t& Int64 & Float64 & Float64 & Float64 & Float64 & Float64 & Float64 & \\\\\n",
       "\t\\hline\n",
       "\t1 & 14 & 4867.41 & 0.0 & 0.0 & 0.0 & 0.0 & 0.0 & $\\dots$ \\\\\n",
       "\\end{tabular}\n"
      ],
      "text/plain": [
       "\u001b[1m1×43 DataFrame\u001b[0m\n",
       "\u001b[1m Row \u001b[0m│\u001b[1m hour  \u001b[0m\u001b[1m objective_value \u001b[0m\u001b[1m x_con_down1 \u001b[0m\u001b[1m x_con_down2 \u001b[0m\u001b[1m x_con_down3 \u001b[0m\u001b[1m x_con_do\u001b[0m ⋯\n",
       "     │\u001b[90m Int64 \u001b[0m\u001b[90m Float64         \u001b[0m\u001b[90m Float64     \u001b[0m\u001b[90m Float64     \u001b[0m\u001b[90m Float64     \u001b[0m\u001b[90m Float64 \u001b[0m ⋯\n",
       "─────┼──────────────────────────────────────────────────────────────────────────\n",
       "   1 │    14          4867.41          0.0          0.0          0.0           ⋯\n",
       "\u001b[36m                                                              38 columns omitted\u001b[0m"
      ]
     },
     "metadata": {},
     "output_type": "display_data"
    }
   ],
   "source": [
    "# Create a new model with GLPK solver\n",
    "model = Model(GLPK.Optimizer)\n",
    "\n",
    "# Define the decision variables for every generator\n",
    "unregister(model, :x)  # Unregister the existing variable named \"x\" from the model\n",
    "\n",
    "#demand bids\n",
    "name = \"demand_hour_\" * string(hour-1) * \".csv\"\n",
    "demand_bids = CSV.File(\"../data/demand_bids_hour/\" * name) |> DataFrame\n",
    "\n",
    "# number of demand\n",
    "D = size(demand_bids, 1)\n",
    "\n",
    "#@variable(model, x_bin[1:G], Bin)  # binary variable for on/off status\n",
    "@variable(model, x_con_down[1:G])  # power output variable\n",
    "\n",
    "#@variable(model, x_bin[1:G], Bin)  # binary variable for on/off status\n",
    "@variable(model, x_con_up[1:G])  # power output variable\n",
    "\n",
    "# Create explicit constraints for the bounds, to be able to access their dual values later\n",
    "lb_g = Vector{Any}(undef, G+G)\n",
    "ub_g = Vector{Any}(undef, G+G)\n",
    "for g in 1:G\n",
    "    lb_g[g] = @constraint(model, x_con_down[g] >= 0)\n",
    "    ub_g[g] = @constraint(model, x_con_down[g] <= con_generation[g,8])\n",
    "end\n",
    "\n",
    "for g in 1:G\n",
    "    lb_g[g+G] = @constraint(model, x_con_up[g] >= 0)\n",
    "    ub_g[g+G] = @constraint(model, x_con_up[g] <= con_generation[g,7])\n",
    "end\n",
    "\n",
    "#constraint for generators including day-ahead market\n",
    "for g in 1:G\n",
    "    @constraint(model, x_con_down[g] <= x_con[1, g])\n",
    "    @constraint(model, x_con_up[g] + x_con[1, g] <= con_generation[g,6])\n",
    "end\n",
    "\n",
    "# extra constraint for the outage generator\n",
    "@constraint(model, x_con_down[outage_number] == 0)\n",
    "@constraint(model, x_con_up[outage_number] == 0)\n",
    "\n",
    "\n",
    "\n",
    "# decision variables for demand\n",
    "@variable(model, y_down[1:size(demand_bids, 1)])  # Create the new variable\n",
    "# Create explicit constraints for the bounds, to be able to access their dual values later\n",
    "lb_d = Vector{Any}(undef, D)\n",
    "ub_d = Vector{Any}(undef, D)\n",
    "for d in 1:D\n",
    "    lb_d[d] = @constraint(model, y_down[d] >= 0)\n",
    "    ub_d[d] = @constraint(model, y_down[d] <= y[1,d])\n",
    "end\n",
    "\n",
    "# Add the constraint for the balance between supply and demand\n",
    "@constraint(model, BalanceConstraint, sum(x_con_up[g] for g in 1:G)  + sum(y_down[d] for d in 1:D) - sum(x_con_down[g] for g in 1:G) == balance_amount)\n",
    "\n",
    "# Define the objective function\n",
    "@objective(model, Min, sum((market_price+0.1*con_generation[g,3])*x_con_up[g] for g in 1:G) + 400 * sum(y_down[d] for d in 1:D) - sum((market_price-0.13*con_generation[g,3])*x_con_down[g] for g in 1:G))\n",
    "\n",
    "# Print the model\n",
    "#print(model)\n",
    "\n",
    "# Solve the model\n",
    "optimize!(model)\n",
    "\n",
    "# Check the status of the solution\n",
    "status = termination_status(model)\n",
    "if status == MOI.OPTIMAL\n",
    "    println(\"Hour \", hour, \": Optimal solution found\")\n",
    "    #println(\"Objective value: \", objective_value(model))\n",
    "    #println(\"x values: \", [value(x[i]) for i in 1:G])\n",
    "    #println(\"x_wind values: \", [value(x_wind[i]) for i in 1:W])\n",
    "    #println(\"y values: \", [value(y[i]) for i in 1:D])\n",
    "    println(dual(BalanceConstraint))\n",
    "\n",
    "    market_state = 0\n",
    "\n",
    "    if balance_amount > 0\n",
    "        market_state = \"Deficit\"\n",
    "    else\n",
    "        market_state = \"Excess\"\n",
    "    end\n",
    "    #add dual values to dataframe\n",
    "    push!(equilibrium_df, [hour, dual(BalanceConstraint), balance_amount, market_state])\n",
    "\n",
    "    #save results to dataframe\n",
    "    push!(result_df, [hour, objective_value(model), [value(x_con_down[i]) for i in 1:G]..., [value(x_con_up[i]) for i in 1:G]..., [value(y_down[i]) for i in 1:D]...])\n",
    "\n",
    "elseif status == MOI.INFEASIBLE\n",
    "    println(\"Hour \", hour, \": No feasible solution found\")\n",
    "else\n",
    "    println(\"Hour \", hour, \": Solver status: \", status)\n",
    "end\n"
   ]
  },
  {
   "cell_type": "code",
   "execution_count": 10,
   "metadata": {},
   "outputs": [
    {
     "name": "stdout",
     "output_type": "stream",
     "text": [
      "10.89"
     ]
    }
   ],
   "source": [
    "print(market_price)"
   ]
  },
  {
   "cell_type": "code",
   "execution_count": 11,
   "metadata": {},
   "outputs": [
    {
     "data": {
      "text/html": [
       "<div><div style = \"float: left;\"><span>1×4 DataFrame</span></div><div style = \"clear: both;\"></div></div><div class = \"data-frame\" style = \"overflow-x: scroll;\"><table class = \"data-frame\" style = \"margin-bottom: 6px;\"><thead><tr class = \"header\"><th class = \"rowNumber\" style = \"font-weight: bold; text-align: right;\">Row</th><th style = \"text-align: left;\">hour</th><th style = \"text-align: left;\">market_price_bal</th><th style = \"text-align: left;\">market_quantity</th><th style = \"text-align: left;\">market_state</th></tr><tr class = \"subheader headerLastRow\"><th class = \"rowNumber\" style = \"font-weight: bold; text-align: right;\"></th><th title = \"Int64\" style = \"text-align: left;\">Int64</th><th title = \"Float64\" style = \"text-align: left;\">Float64</th><th title = \"Float64\" style = \"text-align: left;\">Float64</th><th title = \"String\" style = \"text-align: left;\">String</th></tr></thead><tbody><tr><td class = \"rowNumber\" style = \"font-weight: bold; text-align: right;\">1</td><td style = \"text-align: right;\">14</td><td style = \"text-align: right;\">13.501</td><td style = \"text-align: right;\">382.322</td><td style = \"text-align: left;\">Deficit</td></tr></tbody></table></div>"
      ],
      "text/latex": [
       "\\begin{tabular}{r|cccc}\n",
       "\t& hour & market\\_price\\_bal & market\\_quantity & market\\_state\\\\\n",
       "\t\\hline\n",
       "\t& Int64 & Float64 & Float64 & String\\\\\n",
       "\t\\hline\n",
       "\t1 & 14 & 13.501 & 382.322 & Deficit \\\\\n",
       "\\end{tabular}\n"
      ],
      "text/plain": [
       "\u001b[1m1×4 DataFrame\u001b[0m\n",
       "\u001b[1m Row \u001b[0m│\u001b[1m hour  \u001b[0m\u001b[1m market_price_bal \u001b[0m\u001b[1m market_quantity \u001b[0m\u001b[1m market_state \u001b[0m\n",
       "     │\u001b[90m Int64 \u001b[0m\u001b[90m Float64          \u001b[0m\u001b[90m Float64         \u001b[0m\u001b[90m String       \u001b[0m\n",
       "─────┼────────────────────────────────────────────────────────\n",
       "   1 │    14            13.501          382.322  Deficit"
      ]
     },
     "metadata": {},
     "output_type": "display_data"
    }
   ],
   "source": [
    "equilibrium_df"
   ]
  },
  {
   "cell_type": "code",
   "execution_count": 12,
   "metadata": {},
   "outputs": [
    {
     "data": {
      "text/plain": [
       "\"results/optimization_results_demand5.csv\""
      ]
     },
     "metadata": {},
     "output_type": "display_data"
    }
   ],
   "source": [
    "#Access the dual values of all the generators constraints and add them to a new dataframe, in scientific notation\n",
    "duals_g = DataFrame(hour = Int[], gen = Symbol[], lower_bound = Float64[], upper_bound = Float64[])\n",
    "for i in 1:G\n",
    "    push!(duals_g, [hour, Symbol(\"x_con_down$i\"), dual(lb_g[i]), dual(ub_g[i])])\n",
    "end\n",
    "for i in 1:G\n",
    "    push!(duals_g, [hour, Symbol(\"x_con_up$i\"), dual(lb_g[i+G]), dual(ub_g[i+G])])\n",
    "end\n",
    "\n",
    "duals_d = DataFrame(hour = Int[], node = Int[],lower_bound = Float64[], upper_bound = Float64[])\n",
    "for i in 1:D\n",
    "    push!(duals_d, [hour, demand_bids[i,1], dual(lb_d[i]), dual(ub_d[i])])\n",
    "end\n",
    "\n",
    "\n",
    "#save results to dataframe\n",
    "CSV.write(\"results/optimization_results_generation5.csv\", duals_g)\n",
    "CSV.write(\"results/optimization_results_demand5.csv\", duals_d)\n"
   ]
  },
  {
   "cell_type": "code",
   "execution_count": 13,
   "metadata": {},
   "outputs": [
    {
     "data": {
      "text/html": [
       "<div><div style = \"float: left;\"><span>1×43 DataFrame</span></div><div style = \"clear: both;\"></div></div><div class = \"data-frame\" style = \"overflow-x: scroll;\"><table class = \"data-frame\" style = \"margin-bottom: 6px;\"><thead><tr class = \"header\"><th class = \"rowNumber\" style = \"font-weight: bold; text-align: right;\">Row</th><th style = \"text-align: left;\">hour</th><th style = \"text-align: left;\">objective_value</th><th style = \"text-align: left;\">x_con_down1</th><th style = \"text-align: left;\">x_con_down2</th><th style = \"text-align: left;\">x_con_down3</th><th style = \"text-align: left;\">x_con_down4</th><th style = \"text-align: left;\">x_con_down5</th><th style = \"text-align: left;\">x_con_down6</th><th style = \"text-align: left;\">x_con_down7</th><th style = \"text-align: left;\">x_con_down8</th><th style = \"text-align: left;\">x_con_down9</th><th style = \"text-align: left;\">x_con_down10</th><th style = \"text-align: left;\">x_con_down11</th><th style = \"text-align: left;\">x_con_down12</th><th style = \"text-align: left;\">x_con_up1</th><th style = \"text-align: left;\">x_con_up2</th><th style = \"text-align: left;\">x_con_up3</th><th style = \"text-align: left;\">x_con_up4</th><th style = \"text-align: left;\">x_con_up5</th><th style = \"text-align: left;\">x_con_up6</th><th style = \"text-align: left;\">x_con_up7</th><th style = \"text-align: left;\">x_con_up8</th><th style = \"text-align: left;\">x_con_up9</th><th style = \"text-align: left;\">x_con_up10</th><th style = \"text-align: left;\">x_con_up11</th><th style = \"text-align: left;\">x_con_up12</th><th style = \"text-align: left;\">y_down1</th><th style = \"text-align: left;\">y_down2</th><th style = \"text-align: left;\">y_down3</th><th style = \"text-align: left;\">y_down4</th><th style = \"text-align: left;\">y_down5</th><th style = \"text-align: left;\">y_down6</th><th style = \"text-align: left;\">y_down7</th><th style = \"text-align: left;\">y_down8</th><th style = \"text-align: left;\">y_down9</th><th style = \"text-align: left;\">y_down10</th><th style = \"text-align: left;\">y_down11</th><th style = \"text-align: left;\">y_down12</th><th style = \"text-align: left;\">y_down13</th><th style = \"text-align: left;\">y_down14</th><th style = \"text-align: left;\">y_down15</th><th style = \"text-align: left;\">y_down16</th><th style = \"text-align: left;\">y_down17</th></tr><tr class = \"subheader headerLastRow\"><th class = \"rowNumber\" style = \"font-weight: bold; text-align: right;\"></th><th title = \"Int64\" style = \"text-align: left;\">Int64</th><th title = \"Float64\" style = \"text-align: left;\">Float64</th><th title = \"Float64\" style = \"text-align: left;\">Float64</th><th title = \"Float64\" style = \"text-align: left;\">Float64</th><th title = \"Float64\" style = \"text-align: left;\">Float64</th><th title = \"Float64\" style = \"text-align: left;\">Float64</th><th title = \"Float64\" style = \"text-align: left;\">Float64</th><th title = \"Float64\" style = \"text-align: left;\">Float64</th><th title = \"Float64\" style = \"text-align: left;\">Float64</th><th title = \"Float64\" style = \"text-align: left;\">Float64</th><th title = \"Float64\" style = \"text-align: left;\">Float64</th><th title = \"Float64\" style = \"text-align: left;\">Float64</th><th title = \"Float64\" style = \"text-align: left;\">Float64</th><th title = \"Float64\" style = \"text-align: left;\">Float64</th><th title = \"Float64\" style = \"text-align: left;\">Float64</th><th title = \"Float64\" style = \"text-align: left;\">Float64</th><th title = \"Float64\" style = \"text-align: left;\">Float64</th><th title = \"Float64\" style = \"text-align: left;\">Float64</th><th title = \"Float64\" style = \"text-align: left;\">Float64</th><th title = \"Float64\" style = \"text-align: left;\">Float64</th><th title = \"Float64\" style = \"text-align: left;\">Float64</th><th title = \"Float64\" style = \"text-align: left;\">Float64</th><th title = \"Float64\" style = \"text-align: left;\">Float64</th><th title = \"Float64\" style = \"text-align: left;\">Float64</th><th title = \"Float64\" style = \"text-align: left;\">Float64</th><th title = \"Float64\" style = \"text-align: left;\">Float64</th><th title = \"Float64\" style = \"text-align: left;\">Float64</th><th title = \"Float64\" style = \"text-align: left;\">Float64</th><th title = \"Float64\" style = \"text-align: left;\">Float64</th><th title = \"Float64\" style = \"text-align: left;\">Float64</th><th title = \"Float64\" style = \"text-align: left;\">Float64</th><th title = \"Float64\" style = \"text-align: left;\">Float64</th><th title = \"Float64\" style = \"text-align: left;\">Float64</th><th title = \"Float64\" style = \"text-align: left;\">Float64</th><th title = \"Float64\" style = \"text-align: left;\">Float64</th><th title = \"Float64\" style = \"text-align: left;\">Float64</th><th title = \"Float64\" style = \"text-align: left;\">Float64</th><th title = \"Float64\" style = \"text-align: left;\">Float64</th><th title = \"Float64\" style = \"text-align: left;\">Float64</th><th title = \"Float64\" style = \"text-align: left;\">Float64</th><th title = \"Float64\" style = \"text-align: left;\">Float64</th><th title = \"Float64\" style = \"text-align: left;\">Float64</th><th title = \"Float64\" style = \"text-align: left;\">Float64</th></tr></thead><tbody><tr><td class = \"rowNumber\" style = \"font-weight: bold; text-align: right;\">1</td><td style = \"text-align: right;\">14</td><td style = \"text-align: right;\">4867.41</td><td style = \"text-align: right;\">0.0</td><td style = \"text-align: right;\">0.0</td><td style = \"text-align: right;\">0.0</td><td style = \"text-align: right;\">0.0</td><td style = \"text-align: right;\">0.0</td><td style = \"text-align: right;\">0.0</td><td style = \"text-align: right;\">0.0</td><td style = \"text-align: right;\">0.0</td><td style = \"text-align: right;\">0.0</td><td style = \"text-align: right;\">0.0</td><td style = \"text-align: right;\">0.0</td><td style = \"text-align: right;\">0.0</td><td style = \"text-align: right;\">40.0</td><td style = \"text-align: right;\">40.0</td><td style = \"text-align: right;\">70.0</td><td style = \"text-align: right;\">180.0</td><td style = \"text-align: right;\">12.3216</td><td style = \"text-align: right;\">0.0</td><td style = \"text-align: right;\">0.0</td><td style = \"text-align: right;\">0.0</td><td style = \"text-align: right;\">0.0</td><td style = \"text-align: right;\">0.0</td><td style = \"text-align: right;\">5.68434e-14</td><td style = \"text-align: right;\">40.0</td><td style = \"text-align: right;\">0.0</td><td style = \"text-align: right;\">0.0</td><td style = \"text-align: right;\">0.0</td><td style = \"text-align: right;\">0.0</td><td style = \"text-align: right;\">0.0</td><td style = \"text-align: right;\">0.0</td><td style = \"text-align: right;\">0.0</td><td style = \"text-align: right;\">0.0</td><td style = \"text-align: right;\">0.0</td><td style = \"text-align: right;\">0.0</td><td style = \"text-align: right;\">0.0</td><td style = \"text-align: right;\">0.0</td><td style = \"text-align: right;\">0.0</td><td style = \"text-align: right;\">0.0</td><td style = \"text-align: right;\">0.0</td><td style = \"text-align: right;\">0.0</td><td style = \"text-align: right;\">0.0</td></tr></tbody></table></div>"
      ],
      "text/latex": [
       "\\begin{tabular}{r|cccccccc}\n",
       "\t& hour & objective\\_value & x\\_con\\_down1 & x\\_con\\_down2 & x\\_con\\_down3 & x\\_con\\_down4 & x\\_con\\_down5 & \\\\\n",
       "\t\\hline\n",
       "\t& Int64 & Float64 & Float64 & Float64 & Float64 & Float64 & Float64 & \\\\\n",
       "\t\\hline\n",
       "\t1 & 14 & 4867.41 & 0.0 & 0.0 & 0.0 & 0.0 & 0.0 & $\\dots$ \\\\\n",
       "\\end{tabular}\n"
      ],
      "text/plain": [
       "\u001b[1m1×43 DataFrame\u001b[0m\n",
       "\u001b[1m Row \u001b[0m│\u001b[1m hour  \u001b[0m\u001b[1m objective_value \u001b[0m\u001b[1m x_con_down1 \u001b[0m\u001b[1m x_con_down2 \u001b[0m\u001b[1m x_con_down3 \u001b[0m\u001b[1m x_con_do\u001b[0m ⋯\n",
       "     │\u001b[90m Int64 \u001b[0m\u001b[90m Float64         \u001b[0m\u001b[90m Float64     \u001b[0m\u001b[90m Float64     \u001b[0m\u001b[90m Float64     \u001b[0m\u001b[90m Float64 \u001b[0m ⋯\n",
       "─────┼──────────────────────────────────────────────────────────────────────────\n",
       "   1 │    14          4867.41          0.0          0.0          0.0           ⋯\n",
       "\u001b[36m                                                              38 columns omitted\u001b[0m"
      ]
     },
     "metadata": {},
     "output_type": "display_data"
    }
   ],
   "source": [
    "result_df"
   ]
  },
  {
   "cell_type": "code",
   "execution_count": 14,
   "metadata": {},
   "outputs": [
    {
     "data": {
      "text/plain": [
       "\"results/equilibrium_model5.csv\""
      ]
     },
     "metadata": {},
     "output_type": "display_data"
    }
   ],
   "source": [
    "#save result_df to csv\n",
    "CSV.write(\"results/market_clearing_model5.csv\", result_df)\n",
    "CSV.write(\"results/equilibrium_model5.csv\", equilibrium_df)"
   ]
  },
  {
   "cell_type": "code",
   "execution_count": 15,
   "metadata": {},
   "outputs": [
    {
     "name": "stdout",
     "output_type": "stream",
     "text": [
      "\u001b[1m12×10 DataFrame\u001b[0m\n",
      "\u001b[1m Row \u001b[0m│\u001b[1m energy_day_ahead \u001b[0m\u001b[1m day_ahead_revenue \u001b[0m\u001b[1m capacity_change \u001b[0m\u001b[1m penalty \u001b[0m\u001b[1m balance_volume \u001b[0m\u001b[1m balance_revenue \u001b[0m\u001b[1m total_revenue \u001b[0m\u001b[1m variable_costs \u001b[0m\u001b[1m costs    \u001b[0m\u001b[1m profit    \u001b[0m\n",
      "     │\u001b[90m Any              \u001b[0m\u001b[90m Any               \u001b[0m\u001b[90m Any             \u001b[0m\u001b[90m Any     \u001b[0m\u001b[90m Any            \u001b[0m\u001b[90m Any             \u001b[0m\u001b[90m Float64       \u001b[0m\u001b[90m Any            \u001b[0m\u001b[90m Float64  \u001b[0m\u001b[90m Float64   \u001b[0m\n",
      "─────┼────────────────────────────────────────────────────────────────────────────────────────────────────────────────────────────────────────────────────\n",
      "   1 │ 0.0               0.0                0                -0.0     40.0            540.04                 540.04   13.32            532.8        7.24\n",
      "   2 │ 0.0               0.0                0                -0.0     40.0            540.04                 540.04   13.32            532.8        7.24\n",
      "   3 │ 0.0               0.0                0                -0.0     70.0            945.07                 945.07   20.7            1449.0     -503.93\n",
      "   4 │ 0.0               0.0                0                -0.0     180.0           2430.18               2430.18   20.93           3767.4    -1337.22\n",
      "   5 │ 0.0               0.0                0                -0.0     12.3216         166.354                166.354  26.11            321.717   -155.363\n",
      "   6 │ 155.0             1687.95            0                -0.0     0.0             0.0                   1687.95   10.52           1630.6       57.35\n",
      "   7 │ 155.0             1687.95            0                -0.0     0.0             0.0                   1687.95   10.52           1630.6       57.35\n",
      "   8 │ 400.0             4356.0             -400.0           5400.4   0.0             0.0                  -1044.4    6.02               0.0    -1044.4\n",
      "   9 │ 400.0             4356.0             0                -0.0     0.0             0.0                   4356.0    5.47            2188.0     2168.0\n",
      "  10 │ 300.0             3267.0             0                -0.0     0.0             0.0                   3267.0    7.0             2100.0     1167.0\n",
      "  11 │ 310.0             3375.9             0                -0.0     5.68434e-14     7.67443e-13           3375.9    10.52           3261.2      114.7\n",
      "  12 │ 147.466           1605.91            0                -0.0     40.0            540.04                2145.95   10.89           2041.51     104.44"
     ]
    },
    {
     "data": {
      "text/plain": [
       "\"results/profits_model5.csv\""
      ]
     },
     "metadata": {},
     "output_type": "display_data"
    }
   ],
   "source": [
    "# sign = 0\n",
    "# if (x_con[1, outage_index[2]] + sum(x_wind_bal)) > 0\n",
    "#     #deficit\n",
    "#     sign = -1\n",
    "# else\n",
    "#     #excess\n",
    "#     sign = 1\n",
    "# end\n",
    "\n",
    "\n",
    "\n",
    "profit_df_one_price = DataFrame()\n",
    "\n",
    "# insert the assigned capacity for each generator\n",
    "energy_day_ahead = []\n",
    "for i in 1:G\n",
    "    # make array with the assigned capacity\n",
    "    push!(energy_day_ahead, x_con[1,i])\n",
    "end\n",
    "profit_df_one_price[!, :energy_day_ahead] = energy_day_ahead\n",
    "\n",
    "#calculate the profit for each generator\n",
    "day_ahead_revenue = []\n",
    "for i in 1:G\n",
    "    push!(day_ahead_revenue,x_con[1,i]* market_price)\n",
    "end\n",
    "profit_df_one_price[!, :day_ahead_revenue] = day_ahead_revenue\n",
    "\n",
    "capacity_change = []\n",
    "for i in 1:G\n",
    "    if i == outage_number\n",
    "        push!(capacity_change, -1*x_con[1, outage_number])\n",
    "    else\n",
    "        push!(capacity_change, 0)\n",
    "    end\n",
    "end\n",
    "profit_df_one_price[!, :capacity_change] = capacity_change\n",
    "\n",
    "#insert column for penalty for each generator\n",
    "penalty = []\n",
    "for i in 1:G\n",
    "    push!(penalty, dual(BalanceConstraint) * profit_df_one_price[!, :capacity_change][i] * -1)\n",
    "end\n",
    "profit_df_one_price[!, :penalty] = penalty\n",
    "\n",
    "# insert the assigned capacity for each generator\n",
    "balance_volume = []\n",
    "for i in 1:G\n",
    "    # make array with the assigned capacity\n",
    "    push!(balance_volume, value(x_con_up[i]) - value(x_con_down[i]))\n",
    "end\n",
    "profit_df_one_price[!, :balance_volume] = balance_volume\n",
    "\n",
    "#calculate the profit for each generator\n",
    "balance_revenue = []\n",
    "for i in 1:G\n",
    "    push!(balance_revenue, (value(x_con_up[i]) - value(x_con_down[i])) * dual(BalanceConstraint))\n",
    "end\n",
    "profit_df_one_price[!, :balance_revenue] = balance_revenue\n",
    "\n",
    "#total revenue for each generator\n",
    "profit_df_one_price[!, :total_revenue] = profit_df_one_price[!, :day_ahead_revenue] + profit_df_one_price[!, :balance_revenue] - profit_df_one_price[!, :penalty]\n",
    "\n",
    "#insert the variable costs for each generator\n",
    "variable_costs = []\n",
    "for i in 1:G\n",
    "    push!(variable_costs, con_generation[i,3])\n",
    "end\n",
    "profit_df_one_price[!, :variable_costs] = variable_costs\n",
    "\n",
    "#calculate costs for each generator\n",
    "profit_df_one_price[!, :costs] = (profit_df_one_price[!, :energy_day_ahead] + profit_df_one_price[!, :capacity_change] + profit_df_one_price[!, :balance_volume]) .* profit_df_one_price[!, :variable_costs]\n",
    "\n",
    "#calculate the profit for each generator\n",
    "profit_df_one_price[!, :profit] = profit_df_one_price[!, :total_revenue]-profit_df_one_price[!, :costs]\n",
    "\n",
    "print(profit_df_one_price)\n",
    "\n",
    "\n",
    "CSV.write(\"results/profits_model5.csv\", profit_df_one_price)\n",
    "\n",
    "#pretty_table(profit_df_one_price, backend = Val(:latex))"
   ]
  },
  {
   "cell_type": "code",
   "execution_count": 16,
   "metadata": {},
   "outputs": [
    {
     "name": "stdout",
     "output_type": "stream",
     "text": [
      "\u001b[1m4×10 DataFrame\u001b[0m\n",
      "\u001b[1m Row \u001b[0m│\u001b[1m energy_day_ahead \u001b[0m\u001b[1m day_ahead_revenue \u001b[0m\u001b[1m capacity_change \u001b[0m\u001b[1m penalty  \u001b[0m\u001b[1m balance_volume \u001b[0m\u001b[1m balance_revenue \u001b[0m\u001b[1m total_revenue \u001b[0m\u001b[1m variable_costs \u001b[0m\u001b[1m costs   \u001b[0m\u001b[1m profit   \u001b[0m\n",
      "     │\u001b[90m Any              \u001b[0m\u001b[90m Any               \u001b[0m\u001b[90m Any             \u001b[0m\u001b[90m Any      \u001b[0m\u001b[90m Any            \u001b[0m\u001b[90m Any             \u001b[0m\u001b[90m Float64       \u001b[0m\u001b[90m Any            \u001b[0m\u001b[90m Float64 \u001b[0m\u001b[90m Float64  \u001b[0m\n",
      "─────┼───────────────────────────────────────────────────────────────────────────────────────────────────────────────────────────────────────────────────\n",
      "   1 │ 147.45            1605.73            -14.745          199.072   0               0                     1406.66   0                   0.0  1406.66\n",
      "   2 │ 99.6239           1084.9             -9.96239         134.502   0               0                      950.402  0                   0.0   950.402\n",
      "   3 │ 137.481           1497.17            20.6221          -278.419  0               0                     1775.58   0                   0.0  1775.58\n",
      "   4 │ 145.091           1580.04            21.7637          -293.831  0               0                     1873.87   0                   0.0  1873.87"
     ]
    }
   ],
   "source": [
    "#do the same for thw wind farms\n",
    "profit_df_one_price_wind = DataFrame()\n",
    "\n",
    "# insert the assigned capacity for each generator\n",
    "energy_day_ahead = []\n",
    "for i in 1:W\n",
    "    # make array with the assigned capacity\n",
    "    push!(energy_day_ahead, x_wind[1,i])\n",
    "end\n",
    "profit_df_one_price_wind[!, :energy_day_ahead] = energy_day_ahead\n",
    "\n",
    "#calculate the profit for each generator\n",
    "day_ahead_revenue = []\n",
    "for i in 1:W\n",
    "    push!(day_ahead_revenue,x_wind[1,i]* market_price)\n",
    "end\n",
    "profit_df_one_price_wind[!, :day_ahead_revenue] = day_ahead_revenue\n",
    "\n",
    "capacity_change = []\n",
    "for i in 1:W\n",
    "    push!(capacity_change, x_wind_bal[i]*-1)\n",
    "end\n",
    "profit_df_one_price_wind[!, :capacity_change] = capacity_change\n",
    "\n",
    "#insert column for penalty for each generator\n",
    "penalty = []\n",
    "for i in 1:W\n",
    "        push!(penalty, dual(BalanceConstraint) * profit_df_one_price_wind[!, :capacity_change][i] * -1)\n",
    "end\n",
    "profit_df_one_price_wind[!, :penalty] = penalty\n",
    "\n",
    "balance_volume = []\n",
    "for i in 1:W\n",
    "    # make array with the assigned capacity\n",
    "    push!(balance_volume, 0)\n",
    "end\n",
    "profit_df_one_price_wind[!, :balance_volume] = balance_volume\n",
    "\n",
    "#calculate the profit for each generator\n",
    "balance_revenue = []\n",
    "for i in 1:W\n",
    "    push!(balance_revenue, 0)\n",
    "end\n",
    "profit_df_one_price_wind[!, :balance_revenue] = balance_revenue\n",
    "\n",
    "#total revenue for each generator\n",
    "profit_df_one_price_wind[!, :total_revenue] = profit_df_one_price_wind[!, :day_ahead_revenue] + profit_df_one_price_wind[!, :balance_revenue] - profit_df_one_price_wind[!, :penalty]\n",
    "\n",
    "#insert the variable costs for each generator\n",
    "variable_costs = []\n",
    "for i in 1:W\n",
    "    push!(variable_costs, 0)\n",
    "end\n",
    "profit_df_one_price_wind[!, :variable_costs] = variable_costs\n",
    "\n",
    "#calculate costs for each generator\n",
    "profit_df_one_price_wind[!, :costs] = (profit_df_one_price_wind[!, :energy_day_ahead] + profit_df_one_price_wind[!, :capacity_change] + profit_df_one_price_wind[!, :balance_volume]) .* profit_df_one_price_wind[!, :variable_costs]\n",
    "\n",
    "#calculate the profit for each generator\n",
    "profit_df_one_price_wind[!, :profit] = profit_df_one_price_wind[!, :total_revenue]-profit_df_one_price_wind[!, :costs]\n",
    "\n",
    "print(profit_df_one_price_wind)"
   ]
  },
  {
   "cell_type": "code",
   "execution_count": 17,
   "metadata": {},
   "outputs": [
    {
     "data": {
      "text/plain": [
       "382.32161524527373"
      ]
     },
     "metadata": {},
     "output_type": "display_data"
    }
   ],
   "source": [
    "balance_amount"
   ]
  },
  {
   "cell_type": "code",
   "execution_count": 18,
   "metadata": {},
   "outputs": [
    {
     "name": "stdout",
     "output_type": "stream",
     "text": [
      "\u001b[1m12×10 DataFrame\u001b[0m\n",
      "\u001b[1m Row \u001b[0m│\u001b[1m energy_day_ahead \u001b[0m\u001b[1m day_ahead_revenue \u001b[0m\u001b[1m capacity_change \u001b[0m\u001b[1m penalty \u001b[0m\u001b[1m balance_volume \u001b[0m\u001b[1m balance_revenue \u001b[0m\u001b[1m total_revenue \u001b[0m\u001b[1m variable_costs \u001b[0m\u001b[1m costs    \u001b[0m\u001b[1m profit    \u001b[0m\n",
      "     │\u001b[90m Any              \u001b[0m\u001b[90m Any               \u001b[0m\u001b[90m Any             \u001b[0m\u001b[90m Any     \u001b[0m\u001b[90m Any            \u001b[0m\u001b[90m Any             \u001b[0m\u001b[90m Float64       \u001b[0m\u001b[90m Any            \u001b[0m\u001b[90m Float64  \u001b[0m\u001b[90m Float64   \u001b[0m\n",
      "─────┼────────────────────────────────────────────────────────────────────────────────────────────────────────────────────────────────────────────────────\n",
      "   1 │ 0.0               0.0                0                -0.0     40.0            540.04                 540.04   13.32            532.8        7.24\n",
      "   2 │ 0.0               0.0                0                -0.0     40.0            540.04                 540.04   13.32            532.8        7.24\n",
      "   3 │ 0.0               0.0                0                -0.0     70.0            945.07                 945.07   20.7            1449.0     -503.93\n",
      "   4 │ 0.0               0.0                0                -0.0     180.0           2430.18               2430.18   20.93           3767.4    -1337.22\n",
      "   5 │ 0.0               0.0                0                -0.0     12.3216         166.354                166.354  26.11            321.717   -155.363\n",
      "   6 │ 155.0             1687.95            0                -0.0     0.0             0.0                   1687.95   10.52           1630.6       57.35\n",
      "   7 │ 155.0             1687.95            0                -0.0     0.0             0.0                   1687.95   10.52           1630.6       57.35\n",
      "   8 │ 400.0             4356.0             -400.0           5400.4   0.0             0.0                  -1044.4    6.02               0.0    -1044.4\n",
      "   9 │ 400.0             4356.0             0                -0.0     0.0             0.0                   4356.0    5.47            2188.0     2168.0\n",
      "  10 │ 300.0             3267.0             0                -0.0     0.0             0.0                   3267.0    7.0             2100.0     1167.0\n",
      "  11 │ 310.0             3375.9             0                -0.0     5.68434e-14     7.67443e-13           3375.9    10.52           3261.2      114.7\n",
      "  12 │ 147.466           1605.91            0                -0.0     40.0            540.04                2145.95   10.89           2041.51     104.44"
     ]
    },
    {
     "data": {
      "text/plain": [
       "\"results/profits_model5.csv\""
      ]
     },
     "metadata": {},
     "output_type": "display_data"
    }
   ],
   "source": [
    "state = 0\n",
    "if balance_amount > 0\n",
    "     #deficit\n",
    "    state = -1\n",
    "else\n",
    "     #excess\n",
    "    state = 1\n",
    "end\n",
    "\n",
    "\n",
    "\n",
    "profit_df_two_price = DataFrame()\n",
    "\n",
    "# insert the assigned capacity for each generator\n",
    "energy_day_ahead = []\n",
    "for i in 1:G\n",
    "    # make array with the assigned capacity\n",
    "    push!(energy_day_ahead, x_con[1,i])\n",
    "end\n",
    "profit_df_two_price[!, :energy_day_ahead] = energy_day_ahead\n",
    "\n",
    "#calculate the profit for each generator\n",
    "day_ahead_revenue = []\n",
    "for i in 1:G\n",
    "    push!(day_ahead_revenue,x_con[1,i]* market_price)\n",
    "end\n",
    "profit_df_two_price[!, :day_ahead_revenue] = day_ahead_revenue\n",
    "\n",
    "capacity_change = []\n",
    "for i in 1:G\n",
    "    if i == outage_number\n",
    "        push!(capacity_change, -1*x_con[1, outage_number])\n",
    "    else\n",
    "        push!(capacity_change, 0)\n",
    "    end\n",
    "end\n",
    "profit_df_two_price[!, :capacity_change] = capacity_change\n",
    "\n",
    "#insert column for penalty for each generator\n",
    "penalty = []\n",
    "for i in 1:G\n",
    "    if (state * profit_df_two_price[!, :capacity_change][i]) > 0\n",
    "        push!(penalty, dual(BalanceConstraint) * profit_df_two_price[!, :capacity_change][i] * -1)\n",
    "    else\n",
    "        push!(penalty, market_price * profit_df_two_price[!, :capacity_change][i] * -1)\n",
    "    end\n",
    "end\n",
    "profit_df_two_price[!, :penalty] = penalty\n",
    "\n",
    "# insert the assigned capacity for each generator\n",
    "balance_volume = []\n",
    "for i in 1:G\n",
    "    # make array with the assigned capacity\n",
    "    push!(balance_volume, value(x_con_up[i]) - value(x_con_down[i]))\n",
    "end\n",
    "profit_df_two_price[!, :balance_volume] = balance_volume\n",
    "\n",
    "#calculate the profit for each generator\n",
    "balance_revenue = []\n",
    "for i in 1:G\n",
    "    push!(balance_revenue, (value(x_con_up[i]) - value(x_con_down[i])) * dual(BalanceConstraint))\n",
    "end\n",
    "profit_df_two_price[!, :balance_revenue] = balance_revenue\n",
    "\n",
    "#total revenue for each generator\n",
    "profit_df_two_price[!, :total_revenue] = profit_df_two_price[!, :day_ahead_revenue] + profit_df_two_price[!, :balance_revenue] - profit_df_two_price[!, :penalty]\n",
    "\n",
    "#insert the variable costs for each generator\n",
    "variable_costs = []\n",
    "for i in 1:G\n",
    "    push!(variable_costs, con_generation[i,3])\n",
    "end\n",
    "profit_df_two_price[!, :variable_costs] = variable_costs\n",
    "\n",
    "#calculate costs for each generator\n",
    "profit_df_two_price[!, :costs] = (profit_df_two_price[!, :energy_day_ahead] + profit_df_two_price[!, :capacity_change] + profit_df_two_price[!, :balance_volume]) .* profit_df_two_price[!, :variable_costs]\n",
    "\n",
    "#calculate the profit for each generator\n",
    "profit_df_two_price[!, :profit] = profit_df_two_price[!, :total_revenue]-profit_df_two_price[!, :costs]\n",
    "\n",
    "print(profit_df_two_price)\n",
    "\n",
    "\n",
    "CSV.write(\"results/profits_model5.csv\", profit_df_two_price)\n",
    "\n",
    "#pretty_table(profit_df_two_price, backend = Val(:latex))"
   ]
  },
  {
   "cell_type": "code",
   "execution_count": 19,
   "metadata": {},
   "outputs": [
    {
     "name": "stdout",
     "output_type": "stream",
     "text": [
      "\u001b[1m4×10 DataFrame\u001b[0m\n",
      "\u001b[1m Row \u001b[0m│\u001b[1m energy_day_ahead \u001b[0m\u001b[1m day_ahead_revenue \u001b[0m\u001b[1m capacity_change \u001b[0m\u001b[1m penalty  \u001b[0m\u001b[1m balance_volume \u001b[0m\u001b[1m balance_revenue \u001b[0m\u001b[1m total_revenue \u001b[0m\u001b[1m variable_costs \u001b[0m\u001b[1m costs   \u001b[0m\u001b[1m profit   \u001b[0m\n",
      "     │\u001b[90m Any              \u001b[0m\u001b[90m Any               \u001b[0m\u001b[90m Any             \u001b[0m\u001b[90m Any      \u001b[0m\u001b[90m Any            \u001b[0m\u001b[90m Any             \u001b[0m\u001b[90m Float64       \u001b[0m\u001b[90m Any            \u001b[0m\u001b[90m Float64 \u001b[0m\u001b[90m Float64  \u001b[0m\n",
      "─────┼───────────────────────────────────────────────────────────────────────────────────────────────────────────────────────────────────────────────────\n",
      "   1 │ 147.45            1605.73            -14.745          199.072   0               0                     1406.66   0                   0.0  1406.66\n",
      "   2 │ 99.6239           1084.9             -9.96239         134.502   0               0                      950.402  0                   0.0   950.402\n",
      "   3 │ 137.481           1497.17            20.6221          -224.575  0               0                     1721.74   0                   0.0  1721.74\n",
      "   4 │ 145.091           1580.04            21.7637          -237.006  0               0                     1817.05   0                   0.0  1817.05"
     ]
    }
   ],
   "source": [
    "#do the same for thw wind farms\n",
    "profit_df_two_price_wind = DataFrame()\n",
    "\n",
    "# insert the assigned capacity for each generator\n",
    "energy_day_ahead = []\n",
    "for i in 1:W\n",
    "    # make array with the assigned capacity\n",
    "    push!(energy_day_ahead, x_wind[1,i])\n",
    "end\n",
    "profit_df_two_price_wind[!, :energy_day_ahead] = energy_day_ahead\n",
    "\n",
    "#calculate the profit for each generator\n",
    "day_ahead_revenue = []\n",
    "for i in 1:W\n",
    "    push!(day_ahead_revenue,x_wind[1,i]* market_price)\n",
    "end\n",
    "profit_df_two_price_wind[!, :day_ahead_revenue] = day_ahead_revenue\n",
    "\n",
    "capacity_change = []\n",
    "for i in 1:W\n",
    "    push!(capacity_change, x_wind_bal[i]*-1)\n",
    "end\n",
    "profit_df_two_price_wind[!, :capacity_change] = capacity_change\n",
    "\n",
    "#insert column for penalty for each generator\n",
    "penalty = []\n",
    "for i in 1:W\n",
    "    if (state * profit_df_two_price_wind[!, :capacity_change][i]) > 0\n",
    "        push!(penalty, dual(BalanceConstraint) * profit_df_two_price_wind[!, :capacity_change][i] * -1)\n",
    "    else\n",
    "        push!(penalty, market_price * profit_df_two_price_wind[!, :capacity_change][i] * -1)\n",
    "    end\n",
    "end\n",
    "profit_df_two_price_wind[!, :penalty] = penalty\n",
    "\n",
    "balance_volume = []\n",
    "for i in 1:W\n",
    "    # make array with the assigned capacity\n",
    "    push!(balance_volume, 0)\n",
    "end\n",
    "profit_df_two_price_wind[!, :balance_volume] = balance_volume\n",
    "\n",
    "#calculate the profit for each generator\n",
    "balance_revenue = []\n",
    "for i in 1:W\n",
    "    push!(balance_revenue, 0)\n",
    "end\n",
    "profit_df_two_price_wind[!, :balance_revenue] = balance_revenue\n",
    "\n",
    "#total revenue for each generator\n",
    "profit_df_two_price_wind[!, :total_revenue] = profit_df_two_price_wind[!, :day_ahead_revenue] + profit_df_two_price_wind[!, :balance_revenue] - profit_df_two_price_wind[!, :penalty]\n",
    "\n",
    "#insert the variable costs for each generator\n",
    "variable_costs = []\n",
    "for i in 1:W\n",
    "    push!(variable_costs, 0)\n",
    "end\n",
    "profit_df_two_price_wind[!, :variable_costs] = variable_costs\n",
    "\n",
    "#calculate costs for each generator\n",
    "profit_df_two_price_wind[!, :costs] = (profit_df_two_price_wind[!, :energy_day_ahead] + profit_df_two_price_wind[!, :capacity_change] + profit_df_two_price_wind[!, :balance_volume]) .* profit_df_two_price_wind[!, :variable_costs]\n",
    "\n",
    "#calculate the profit for each generator\n",
    "profit_df_two_price_wind[!, :profit] = profit_df_two_price_wind[!, :total_revenue]-profit_df_two_price_wind[!, :costs]\n",
    "\n",
    "print(profit_df_two_price_wind)"
   ]
  }
 ],
 "metadata": {
  "kernelspec": {
   "display_name": "Julia 1.9.3",
   "language": "julia",
   "name": "julia-1.9"
  },
  "language_info": {
   "file_extension": ".jl",
   "mimetype": "application/julia",
   "name": "julia",
   "version": "1.9.3"
  }
 },
 "nbformat": 4,
 "nbformat_minor": 2
}
