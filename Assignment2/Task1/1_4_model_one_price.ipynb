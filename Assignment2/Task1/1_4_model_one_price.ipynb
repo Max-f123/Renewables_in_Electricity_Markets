{
 "cells": [
  {
   "cell_type": "code",
   "execution_count": 21,
   "metadata": {},
   "outputs": [],
   "source": [
    "import Pkg\n",
    "#Pkg.add(\"JuMP\")\n",
    "#Pkg.add(\"GLPK\")\n",
    "#Pkg.add(\"Gruobi\")\n",
    "#Pkg.add(\"DataFrames\")\n",
    "#Pkg.add(\"CSV\")\n",
    "#Pkg.add(\"PyCall\")"
   ]
  },
  {
   "cell_type": "code",
   "execution_count": 22,
   "metadata": {},
   "outputs": [],
   "source": [
    "using JuMP, GLPK\n",
    "using DataFrames\n",
    "using CSV\n",
    "using PrettyTables\n",
    "using Random"
   ]
  },
  {
   "cell_type": "code",
   "execution_count": 23,
   "metadata": {},
   "outputs": [],
   "source": [
    "# Load the data\n",
    "scenarios_df = CSV.read(\"../data/scenarios.csv\", DataFrame)\n",
    "\n",
    "n_scenarios = size(scenarios_df, 2)/3\n",
    "n_scenarios = convert(Int, n_scenarios)\n",
    "\n",
    "# create a dictonary with 200 dataframes for each scenario\n",
    "all_scenarios = Dict()\n",
    "for i in 1:n_scenarios\n",
    "    df_helper = DataFrame(scenarios_df[:,3*i-2:3*i])\n",
    "    df_helper[!,3] = df_helper[!,3] .* 1.0\n",
    "    rename!(df_helper, [:\"price\", :\"wind power\", :\"grid_excess\"])\n",
    "    all_scenarios[i] = df_helper\n",
    "end"
   ]
  },
  {
   "cell_type": "code",
   "execution_count": 24,
   "metadata": {},
   "outputs": [
    {
     "data": {
      "text/plain": [
       "Any[]"
      ]
     },
     "metadata": {},
     "output_type": "display_data"
    }
   ],
   "source": [
    "W = 250\n",
    "hours = 24\n",
    "Random.seed!(123)\n",
    "selected_scenarios = rand(1:n_scenarios, W)\n",
    "\n",
    "scenarios = Dict()\n",
    "counter = 1\n",
    "for i in selected_scenarios\n",
    "    scenarios[counter] = all_scenarios[i]\n",
    "    counter += 1\n",
    "end\n",
    "\n",
    "# create the list of index of scenarios out of sample\n",
    "out_of_sample = []\n",
    "for i in 1:n_scenarios\n",
    "    if i ∉ selected_scenarios\n",
    "        push!(out_of_sample, i)\n",
    "    end\n",
    "end\n",
    "\n",
    "unselected_scenarios = Dict()\n",
    "counter = 1\n",
    "for i in out_of_sample\n",
    "    unselected_scenarios[counter] = all_scenarios[i]\n",
    "    counter += 1\n",
    "end\n",
    "\n",
    "alpha = 0.9\n",
    "beta = 0.8\n",
    "objectiv_values = []\n",
    "exp_profits = []\n",
    "profits_in = []\n",
    "CVaR_values = []\n"
   ]
  },
  {
   "cell_type": "code",
   "execution_count": 25,
   "metadata": {},
   "outputs": [
    {
     "ename": "ArgumentError",
     "evalue": "ArgumentError: Package Tables not found in current path, maybe you meant `import/using .Tables`.\n- Otherwise, run `import Pkg; Pkg.add(\"Tables\")` to install the Tables package.",
     "output_type": "error",
     "traceback": [
      "ArgumentError: Package Tables not found in current path, maybe you meant `import/using .Tables`.\n",
      "- Otherwise, run `import Pkg; Pkg.add(\"Tables\")` to install the Tables package.\n",
      "\n",
      "Stacktrace:\n",
      "  [1] macro expansion\n",
      "    @ Base ./loading.jl:1766 [inlined]\n",
      "  [2] macro expansion\n",
      "    @ Base ./lock.jl:267 [inlined]\n",
      "  [3] __require(into::Module, mod::Symbol)\n",
      "    @ Base ./loading.jl:1747\n",
      "  [4] #invoke_in_world#3\n",
      "    @ Base ./essentials.jl:921 [inlined]\n",
      "  [5] invoke_in_world\n",
      "    @ Base ./essentials.jl:918 [inlined]\n",
      "  [6] require(into::Module, mod::Symbol)\n",
      "    @ Base ./loading.jl:1740\n",
      "  [7] eval\n",
      "    @ ./boot.jl:385 [inlined]\n",
      "  [8] include_string(mapexpr::typeof(REPL.softscope), mod::Module, code::String, filename::String)\n",
      "    @ Base ./loading.jl:2070\n",
      "  [9] #invokelatest#2\n",
      "    @ ./essentials.jl:887 [inlined]\n",
      " [10] invokelatest\n",
      "    @ ./essentials.jl:884 [inlined]\n",
      " [11] (::VSCodeServer.var\"#216#217\"{VSCodeServer.NotebookRunCellArguments, String})()\n",
      "    @ VSCodeServer ~/.vscode/extensions/julialang.language-julia-1.76.2/scripts/packages/VSCodeServer/src/serve_notebook.jl:19\n",
      " [12] withpath(f::VSCodeServer.var\"#216#217\"{VSCodeServer.NotebookRunCellArguments, String}, path::String)\n",
      "    @ VSCodeServer ~/.vscode/extensions/julialang.language-julia-1.76.2/scripts/packages/VSCodeServer/src/repl.jl:274\n",
      " [13] notebook_runcell_request(conn::VSCodeServer.JSONRPC.JSONRPCEndpoint{Base.PipeEndpoint, Base.PipeEndpoint}, params::VSCodeServer.NotebookRunCellArguments)\n",
      "    @ VSCodeServer ~/.vscode/extensions/julialang.language-julia-1.76.2/scripts/packages/VSCodeServer/src/serve_notebook.jl:13\n",
      " [14] dispatch_msg(x::VSCodeServer.JSONRPC.JSONRPCEndpoint{Base.PipeEndpoint, Base.PipeEndpoint}, dispatcher::VSCodeServer.JSONRPC.MsgDispatcher, msg::Dict{String, Any})\n",
      "    @ VSCodeServer.JSONRPC ~/.vscode/extensions/julialang.language-julia-1.76.2/scripts/packages/JSONRPC/src/typed.jl:67\n",
      " [15] serve_notebook(pipename::String, outputchannel_logger::Base.CoreLogging.SimpleLogger; crashreporting_pipename::String)\n",
      "    @ VSCodeServer ~/.vscode/extensions/julialang.language-julia-1.76.2/scripts/packages/VSCodeServer/src/serve_notebook.jl:139\n",
      " [16] top-level scope\n",
      "    @ ~/.vscode/extensions/julialang.language-julia-1.76.2/scripts/notebook/notebook.jl:35"
     ]
    }
   ],
   "source": [
    "using CSV, Tables\n",
    "\n",
    "CSV.write(\"in_sample_scenarios.csv\",  Tables.table(selected_scenarios), writeheader=false)"
   ]
  },
  {
   "cell_type": "code",
   "execution_count": 26,
   "metadata": {},
   "outputs": [
    {
     "name": "stdout",
     "output_type": "stream",
     "text": [
      "Optimal solution found\n",
      "Expected profit 151170.80094988694\n",
      "p_DA: [199.9999999999999, 0.0, 0.0, 101.36268623281629, 1.820810213759617e-13, 200.00000000000003, 200.0, 0.0, 0.0, 200.0, 0.0, 0.0, 200.0, 200.0, 200.0, -8.526512829121202e-14, 200.0, 200.0, 0.0, 200.0, 0.0, 200.00000000000034, 0.0, 200.0]\n"
     ]
    }
   ],
   "source": [
    "\n",
    "# Create a new model with GLPK solver\n",
    "model = Model(GLPK.Optimizer)\n",
    "unregister(model, :p_DA)\n",
    "\n",
    "# Define the decision variables for hour\n",
    "@variable(model, p_DA[1:hours])\n",
    "@variable(model, delta[1:W,1:hours])\n",
    "@variable(model, delta_up[1:W,1:hours])\n",
    "@variable(model, delta_down[1:W,1:hours])\n",
    "@variable(model, zeta)\n",
    "@variable(model, eta[1:W] >= 0)\n",
    "\n",
    "# Define the objective function\n",
    "@objective(model, Max, (1-beta) * sum(1/W *\n",
    "(scenarios[i][hour,\"price\"] * p_DA[hour]\n",
    "+ scenarios[i][hour,\"price\"] * delta[i, hour]*((0.9.*scenarios[i][hour,\"grid_excess\"]) + 1.2.*(1-scenarios[i][hour,\"grid_excess\"]))) for i in 1:W, hour in 1:hours)\n",
    "+ beta  * (zeta - (1/(1-alpha)) * sum(1/W * eta[i] for i in 1:W)))\n",
    "\n",
    "# Define the constraints\n",
    "@constraint(model, [hour in 1:hours], p_DA[hour] <= 200)\n",
    "@constraint(model, [hour in 1:hours], p_DA[hour] >= 0)\n",
    "@constraint(model, [i in 1:W, hour in 1:hours], delta[i,hour] == scenarios[i][hour,\"wind power\"] - p_DA[hour])\n",
    "#@constraint(model, [i in 1:W, hour in 1:hours], delta[i,hour] == delta_up[i,hour] - delta_down[i,hour])\n",
    "#@constraint(model, [i in 1:W, hour in 1:hours], delta_down[i,hour] >= 0)\n",
    "#@constraint(model, [i in 1:W, hour in 1:hours], delta_down[i,hour] <= p_DA[hour])\n",
    "#@constraint(model, [i in 1:W, hour in 1:hours], delta_up[i,hour] >= 0)\n",
    "#@constraint(model, [i in 1:W, hour in 1:hours], delta_up[i,hour] + p_DA[hour] <= 200)\n",
    "@constraint(model, [i in 1:W], eta[i] >= 0)\n",
    "@constraint(model, [i in 1:W], -1 * sum((scenarios[i][hour,\"price\"] * p_DA[hour]\n",
    "+ scenarios[i][hour,\"price\"] * delta[i, hour]*((0.9.*scenarios[i][hour,\"grid_excess\"]) + 1.2.*(1-scenarios[i][hour,\"grid_excess\"]))) for hour in 1:hours) + zeta - eta[i] <= 0)\n",
    "\n",
    "\n",
    "\n",
    "# Solve the optimization problem\n",
    "optimize!(model)\n",
    "\n",
    "# save the p_DA values\n",
    "p_DA_values = value.(p_DA)\n",
    "\n",
    "exp_profit = sum(1/W .*\n",
    "(scenarios[i][hour,\"price\"] * value.(p_DA[hour])\n",
    "+ scenarios[i][hour,\"price\"] * value.(delta[i, hour])*((0.9.*scenarios[i][hour,\"grid_excess\"]) + 1.2.*(1-scenarios[i][hour,\"grid_excess\"]))) for i in 1:W, hour in 1:hours)\n",
    "\n",
    "# save the profit of each scenario\n",
    "for i in 1:W\n",
    "    push!(profits_in, sum((scenarios[i][hour,\"price\"] * value.(p_DA[hour])\n",
    "    + scenarios[i][hour,\"price\"] * value.(delta[i, hour])*((0.9.*scenarios[i][hour,\"grid_excess\"]) + 1.2.*(1-scenarios[i][hour,\"grid_excess\"]))) for hour in 1:hours))\n",
    "end\n",
    "\n",
    "\n",
    "#println(model)\n",
    "\n",
    "# Print the termination status\n",
    "status = termination_status(model)\n",
    "if status == MOI.OPTIMAL\n",
    "    println(\"Optimal solution found\")\n",
    "    println(\"Expected profit \", exp_profit)\n",
    "    println(\"p_DA: \", value.(p_DA))\n",
    "    \n",
    "else\n",
    "    println(\"No optimal solution found\")\n",
    "end\n"
   ]
  },
  {
   "cell_type": "code",
   "execution_count": 27,
   "metadata": {},
   "outputs": [
    {
     "data": {
      "text/plain": [
       "30751.68994210677"
      ]
     },
     "metadata": {},
     "output_type": "display_data"
    }
   ],
   "source": [
    "W_new = n_scenarios - W\n",
    "hours = 24\n",
    "profits_out = []\n",
    "\n",
    "# calculate the expected profit for the out of sample scenarios\n",
    "exp_profit = 0\n",
    "for i in 1:W_new\n",
    "    profit_day = 0\n",
    "    for hour in 1:hours\n",
    "        profit = 0\n",
    "        profit += unselected_scenarios[1][hour,\"price\"] * p_DA_values[hour] # should the day ahead price be fixed to the first scenario? So instead of i, 1?\n",
    "        profit += unselected_scenarios[1][hour,\"price\"] * (unselected_scenarios[i][hour,\"wind power\"]-p_DA_values[hour])*((0.9.*unselected_scenarios[i][hour,\"grid_excess\"]) + 1.2.*(1-unselected_scenarios[i][hour,\"grid_excess\"]))\n",
    "        profit_day += profit\n",
    "    end\n",
    "    push!(profits_out, profit_day)\n",
    "    exp_profit += profit_day\n",
    "end\n",
    "\n",
    "exp_profit = exp_profit / W_new\n",
    "\n"
   ]
  },
  {
   "cell_type": "code",
   "execution_count": 28,
   "metadata": {},
   "outputs": [
    {
     "data": {
      "text/plain": [
       "\"1_4_results/profits_one_price.csv\""
      ]
     },
     "metadata": {},
     "output_type": "display_data"
    }
   ],
   "source": [
    "# create a dataframe with the profits and if the scenanrio is in or out of sample\n",
    "df = DataFrame(Scenario = 1:W + W_new, Profit = [profits_in; profits_out], In_Out = [fill(\"In\",W); fill(\"Out\",W_new)])  \n",
    "\n",
    "# save the data\n",
    "CSV.write(\"1_4_results/profits_one_price.csv\", df)\n",
    "\n",
    "\n"
   ]
  },
  {
   "cell_type": "code",
   "execution_count": 29,
   "metadata": {},
   "outputs": [],
   "source": []
  }
 ],
 "metadata": {
  "kernelspec": {
   "display_name": "Julia 1.9.3",
   "language": "julia",
   "name": "julia-1.9"
  },
  "language_info": {
   "file_extension": ".jl",
   "mimetype": "application/julia",
   "name": "julia",
   "version": "1.9.3"
  }
 },
 "nbformat": 4,
 "nbformat_minor": 2
}
