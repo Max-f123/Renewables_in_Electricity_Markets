{
 "cells": [
  {
   "cell_type": "code",
   "execution_count": 11,
   "metadata": {},
   "outputs": [
    {
     "name": "stderr",
     "output_type": "stream",
     "text": [
      "\u001b[32m\u001b[1m    Updating\u001b[22m\u001b[39m registry at `C:\\Users\\janle\\.julia\\registries\\General.toml`\n"
     ]
    },
    {
     "name": "stderr",
     "output_type": "stream",
     "text": [
      "\u001b[32m\u001b[1m   Resolving\u001b[22m\u001b[39m package versions..."
     ]
    },
    {
     "name": "stderr",
     "output_type": "stream",
     "text": [
      "\n",
      "\u001b[32m\u001b[1m  No Changes\u001b[22m\u001b[39m to `C:\\Users\\janle\\.julia\\environments\\v1.9\\Project.toml`\n",
      "\u001b[32m\u001b[1m  No Changes\u001b[22m\u001b[39m to `C:\\Users\\janle\\.julia\\environments\\v1.9\\Manifest.toml`\n"
     ]
    },
    {
     "name": "stderr",
     "output_type": "stream",
     "text": [
      "\u001b[32m\u001b[1m   Resolving\u001b[22m\u001b[39m package versions..."
     ]
    },
    {
     "name": "stderr",
     "output_type": "stream",
     "text": [
      "\n",
      "\u001b[32m\u001b[1m  No Changes\u001b[22m\u001b[39m to `C:\\Users\\janle\\.julia\\environments\\v1.9\\Project.toml`\n",
      "\u001b[32m\u001b[1m  No Changes\u001b[22m\u001b[39m to `C:\\Users\\janle\\.julia\\environments\\v1.9\\Manifest.toml`"
     ]
    },
    {
     "name": "stderr",
     "output_type": "stream",
     "text": [
      "\n"
     ]
    },
    {
     "ename": "Pkg.Types.PkgError",
     "evalue": "The following package names could not be resolved:\n * Gruobi (not found in project, manifest or registry)\n\u001b[36m   Suggestions:\u001b[39m \u001b[0m\u001b[1mG\u001b[22mene\u001b[0m\u001b[1mr\u001b[22malizedD\u001b[0m\u001b[1mu\u001b[22mbinsIntervalPr\u001b[0m\u001b[1mo\u001b[22m\u001b[0m\u001b[1mb\u001b[22mlem",
     "output_type": "error",
     "traceback": [
      "The following package names could not be resolved:\n",
      " * Gruobi (not found in project, manifest or registry)\n",
      "\u001b[36m   Suggestions:\u001b[39m \u001b[0m\u001b[1mG\u001b[22mene\u001b[0m\u001b[1mr\u001b[22malizedD\u001b[0m\u001b[1mu\u001b[22mbinsIntervalPr\u001b[0m\u001b[1mo\u001b[22m\u001b[0m\u001b[1mb\u001b[22mlem\n",
      "\n",
      "Stacktrace:\n",
      "  [1] pkgerror(msg::String)\n",
      "    @ Pkg.Types C:\\Users\\janle\\AppData\\Local\\Programs\\Julia-1.9.3\\share\\julia\\stdlib\\v1.9\\Pkg\\src\\Types.jl:69\n",
      "  [2] ensure_resolved(ctx::Pkg.Types.Context, manifest::Pkg.Types.Manifest, pkgs::Vector{Pkg.Types.PackageSpec}; registry::Bool)\n",
      "    @ Pkg.Types C:\\Users\\janle\\AppData\\Local\\Programs\\Julia-1.9.3\\share\\julia\\stdlib\\v1.9\\Pkg\\src\\Types.jl:1003\n",
      "  [3] ensure_resolved\n",
      "    @ C:\\Users\\janle\\AppData\\Local\\Programs\\Julia-1.9.3\\share\\julia\\stdlib\\v1.9\\Pkg\\src\\Types.jl:954 [inlined]\n",
      "  [4] add(ctx::Pkg.Types.Context, pkgs::Vector{Pkg.Types.PackageSpec}; preserve::Pkg.Types.PreserveLevel, platform::Base.BinaryPlatforms.Platform, kwargs::Base.Pairs{Symbol, VSCodeServer.IJuliaCore.IJuliaStdio{Base.PipeEndpoint, typeof(VSCodeServer.io_send_callback)}, Tuple{Symbol}, NamedTuple{(:io,), Tuple{VSCodeServer.IJuliaCore.IJuliaStdio{Base.PipeEndpoint, typeof(VSCodeServer.io_send_callback)}}}})\n",
      "    @ Pkg.API C:\\Users\\janle\\AppData\\Local\\Programs\\Julia-1.9.3\\share\\julia\\stdlib\\v1.9\\Pkg\\src\\API.jl:264\n",
      "  [5] add(pkgs::Vector{Pkg.Types.PackageSpec}; io::VSCodeServer.IJuliaCore.IJuliaStdio{Base.PipeEndpoint, typeof(VSCodeServer.io_send_callback)}, kwargs::Base.Pairs{Symbol, Union{}, Tuple{}, NamedTuple{(), Tuple{}}})\n",
      "    @ Pkg.API C:\\Users\\janle\\AppData\\Local\\Programs\\Julia-1.9.3\\share\\julia\\stdlib\\v1.9\\Pkg\\src\\API.jl:156\n",
      "  [6] add(pkgs::Vector{Pkg.Types.PackageSpec})\n",
      "    @ Pkg.API C:\\Users\\janle\\AppData\\Local\\Programs\\Julia-1.9.3\\share\\julia\\stdlib\\v1.9\\Pkg\\src\\API.jl:145\n",
      "  [7] #add#25\n",
      "    @ C:\\Users\\janle\\AppData\\Local\\Programs\\Julia-1.9.3\\share\\julia\\stdlib\\v1.9\\Pkg\\src\\API.jl:144 [inlined]\n",
      "  [8] add\n",
      "    @ C:\\Users\\janle\\AppData\\Local\\Programs\\Julia-1.9.3\\share\\julia\\stdlib\\v1.9\\Pkg\\src\\API.jl:144 [inlined]\n",
      "  [9] #add#24\n",
      "    @ C:\\Users\\janle\\AppData\\Local\\Programs\\Julia-1.9.3\\share\\julia\\stdlib\\v1.9\\Pkg\\src\\API.jl:143 [inlined]\n",
      " [10] add(pkg::String)\n",
      "    @ Pkg.API C:\\Users\\janle\\AppData\\Local\\Programs\\Julia-1.9.3\\share\\julia\\stdlib\\v1.9\\Pkg\\src\\API.jl:143\n",
      " [11] top-level scope\n",
      "    @ c:\\Users\\janle\\Desktop\\Master_local\\2\\renewables_in_electricity_markets\\Task1\\model1_jan.ipynb:4"
     ]
    }
   ],
   "source": [
    "import Pkg\n",
    "Pkg.add(\"JuMP\")\n",
    "Pkg.add(\"GLPK\")\n",
    "Pkg.add(\"Gruobi\")\n",
    "Pkg.add(\"DataFrames\")\n",
    "Pkg.add(\"CSV\")"
   ]
  },
  {
   "cell_type": "code",
   "execution_count": 12,
   "metadata": {},
   "outputs": [],
   "source": [
    "using JuMP, GLPK\n",
    "using DataFrames\n",
    "using CSV"
   ]
  },
  {
   "cell_type": "code",
   "execution_count": 13,
   "metadata": {},
   "outputs": [
    {
     "data": {
      "text/html": [
       "<div><div style = \"float: left;\"><span>6×5 DataFrame</span></div><div style = \"clear: both;\"></div></div><div class = \"data-frame\" style = \"overflow-x: scroll;\"><table class = \"data-frame\" style = \"margin-bottom: 6px;\"><thead><tr class = \"header\"><th class = \"rowNumber\" style = \"font-weight: bold; text-align: right;\">Row</th><th style = \"text-align: left;\">Unit</th><th style = \"text-align: left;\">Node</th><th style = \"text-align: left;\">Pmax (MW)</th><th style = \"text-align: left;\">Pmin (MW)</th><th style = \"text-align: left;\">Ci ($/MWh)</th></tr><tr class = \"subheader headerLastRow\"><th class = \"rowNumber\" style = \"font-weight: bold; text-align: right;\"></th><th title = \"Int64\" style = \"text-align: left;\">Int64</th><th title = \"Int64\" style = \"text-align: left;\">Int64</th><th title = \"Int64\" style = \"text-align: left;\">Int64</th><th title = \"Int64\" style = \"text-align: left;\">Int64</th><th title = \"Int64\" style = \"text-align: left;\">Int64</th></tr></thead><tbody><tr><td class = \"rowNumber\" style = \"font-weight: bold; text-align: right;\">1</td><td style = \"text-align: right;\">1</td><td style = \"text-align: right;\">3</td><td style = \"text-align: right;\">200</td><td style = \"text-align: right;\">0</td><td style = \"text-align: right;\">0</td></tr><tr><td class = \"rowNumber\" style = \"font-weight: bold; text-align: right;\">2</td><td style = \"text-align: right;\">2</td><td style = \"text-align: right;\">5</td><td style = \"text-align: right;\">200</td><td style = \"text-align: right;\">0</td><td style = \"text-align: right;\">0</td></tr><tr><td class = \"rowNumber\" style = \"font-weight: bold; text-align: right;\">3</td><td style = \"text-align: right;\">3</td><td style = \"text-align: right;\">7</td><td style = \"text-align: right;\">200</td><td style = \"text-align: right;\">0</td><td style = \"text-align: right;\">0</td></tr><tr><td class = \"rowNumber\" style = \"font-weight: bold; text-align: right;\">4</td><td style = \"text-align: right;\">4</td><td style = \"text-align: right;\">16</td><td style = \"text-align: right;\">200</td><td style = \"text-align: right;\">0</td><td style = \"text-align: right;\">0</td></tr><tr><td class = \"rowNumber\" style = \"font-weight: bold; text-align: right;\">5</td><td style = \"text-align: right;\">5</td><td style = \"text-align: right;\">21</td><td style = \"text-align: right;\">200</td><td style = \"text-align: right;\">0</td><td style = \"text-align: right;\">0</td></tr><tr><td class = \"rowNumber\" style = \"font-weight: bold; text-align: right;\">6</td><td style = \"text-align: right;\">6</td><td style = \"text-align: right;\">23</td><td style = \"text-align: right;\">200</td><td style = \"text-align: right;\">0</td><td style = \"text-align: right;\">0</td></tr></tbody></table></div>"
      ],
      "text/latex": [
       "\\begin{tabular}{r|ccccc}\n",
       "\t& Unit & Node & Pmax (MW) & Pmin (MW) & Ci (\\$/MWh)\\\\\n",
       "\t\\hline\n",
       "\t& Int64 & Int64 & Int64 & Int64 & Int64\\\\\n",
       "\t\\hline\n",
       "\t1 & 1 & 3 & 200 & 0 & 0 \\\\\n",
       "\t2 & 2 & 5 & 200 & 0 & 0 \\\\\n",
       "\t3 & 3 & 7 & 200 & 0 & 0 \\\\\n",
       "\t4 & 4 & 16 & 200 & 0 & 0 \\\\\n",
       "\t5 & 5 & 21 & 200 & 0 & 0 \\\\\n",
       "\t6 & 6 & 23 & 200 & 0 & 0 \\\\\n",
       "\\end{tabular}\n"
      ],
      "text/plain": [
       "\u001b[1m6×5 DataFrame\u001b[0m\n",
       "\u001b[1m Row \u001b[0m│\u001b[1m Unit  \u001b[0m\u001b[1m Node  \u001b[0m\u001b[1m Pmax (MW) \u001b[0m\u001b[1m Pmin (MW) \u001b[0m\u001b[1m Ci ($/MWh) \u001b[0m\n",
       "     │\u001b[90m Int64 \u001b[0m\u001b[90m Int64 \u001b[0m\u001b[90m Int64     \u001b[0m\u001b[90m Int64     \u001b[0m\u001b[90m Int64      \u001b[0m\n",
       "─────┼────────────────────────────────────────────────\n",
       "   1 │     1      3        200          0           0\n",
       "   2 │     2      5        200          0           0\n",
       "   3 │     3      7        200          0           0\n",
       "   4 │     4     16        200          0           0\n",
       "   5 │     5     21        200          0           0\n",
       "   6 │     6     23        200          0           0"
      ]
     },
     "metadata": {},
     "output_type": "display_data"
    }
   ],
   "source": [
    "#load demand data\n",
    "demand = CSV.File(\"../data/demand.csv\") |> DataFrame\n",
    "\n",
    "#load cost data\n",
    "cost = CSV.File(\"../data/cost_generation.csv\") |> DataFrame\n",
    "\n",
    "#load capacity data\n",
    "capacity = CSV.File(\"../data/technical_data_generation.csv\") |> DataFrame\n",
    "\n",
    "#load wind_technicaldata\n",
    "wind = CSV.File(\"../data/wind_technicaldata.csv\") |> DataFrame\n"
   ]
  },
  {
   "cell_type": "code",
   "execution_count": 14,
   "metadata": {},
   "outputs": [],
   "source": [
    "# Initialize the DataFrame directly without dynamic column names\n",
    "result_df = DataFrame(hour = Int[], objective_value = Float64[])\n",
    "\n",
    "# For x variables, manually add each column. This is a one-time setup.\n",
    "for i in 1:(size(cost, 1)+size(wind, 1))\n",
    "    result_df[!, Symbol(\"x$i\")] = Float64[]\n",
    "end"
   ]
  },
  {
   "cell_type": "code",
   "execution_count": 19,
   "metadata": {},
   "outputs": [
    {
     "name": "stdout",
     "output_type": "stream",
     "text": [
      "Hour 1: No feasible solution found\n",
      "Hour 2: No feasible solution found\n",
      "Hour 3: No feasible solution found\n",
      "Hour 4: No feasible solution found\n",
      "Hour 5: No feasible solution found\n",
      "Hour 6: No feasible solution found\n",
      "Hour 7: No feasible solution found\n",
      "Hour 8: No feasible solution found\n",
      "Hour 9: No feasible solution found\n",
      "Hour 10: No feasible solution found\n",
      "Hour 11: No feasible solution found\n",
      "Hour 12: No feasible solution found\n",
      "Hour 13: No feasible solution found\n",
      "Hour 14: No feasible solution found\n",
      "Hour 15: No feasible solution found\n",
      "Hour 16: No feasible solution found\n",
      "Hour 17: No feasible solution found\n",
      "Hour 18: No feasible solution found\n",
      "Hour 19: No feasible solution found\n",
      "Hour 20: No feasible solution found\n",
      "Hour 21: No feasible solution found\n",
      "Hour 22: No feasible solution found\n",
      "Hour 23: No feasible solution found\n",
      "Hour 24: No feasible solution found\n"
     ]
    }
   ],
   "source": [
    "\n",
    "for hour in 1:24\n",
    "  # Create a new model with GLPK solver\n",
    "  model = Model(GLPK.Optimizer)\n",
    "\n",
    "  # Define the decision variables for every generator\n",
    "  unregister(model, :x)  # Unregister the existing variable named \"x\" from the model\n",
    "  \n",
    "  #demand bids\n",
    "  name = \"demand_hour_\" * string(hour-1) * \".csv\"\n",
    "  demand_bids = CSV.File(\"../data/demand_bids_hour/\" * name) |> DataFrame\n",
    "   \n",
    "  # number of convential generators\n",
    "   G = size(cost, 1)\n",
    "\n",
    "   # number of demand\n",
    "   D = size(demand_bids, 1)\n",
    " \n",
    "   # number of wind generators\n",
    "   W = size(wind, 1)\n",
    "\n",
    "\n",
    "  # decision variables for convential generators\n",
    "  @variable(model, x[1:G])  # Create the new variable\n",
    "  for generator in 1:G\n",
    "      set_lower_bound(x[generator], capacity[generator,4])  # Set the lower bound\n",
    "      set_upper_bound(x[generator], capacity[generator,3])  # Set the upper bound\n",
    "  end\n",
    "\n",
    "  # wind decision variables\n",
    "  @variable(model, x_wind[1:W])  # Create the new variable\n",
    "  for generator in 1:W\n",
    "      set_lower_bound(x_wind[generator], wind[generator,4])  # Set the lower bound\n",
    "      set_upper_bound(x_wind[generator], wind[generator,3])  # Set the upper bound\n",
    "  end\n",
    "\n",
    "  # decision variables for demand\n",
    "  @variable(model, y[1:size(demand_bids, 1)])  # Create the new variable\n",
    "  for bid in 1:D\n",
    "      set_lower_bound(y[bid], 0)  # Set the lower bound\n",
    "      set_upper_bound(y[bid], demand_bids[bid,2])  # Set the upper bound\n",
    "  end\n",
    "\n",
    "\n",
    "  # Define the objective function\n",
    "  @objective(model, Max, sum(demand_bids[d,3] * y[d] for d in D) - sum(cost[g,2] * x[g] for g in 1:G) - sum(wind[w,2] * x_wind[w] for w in 1:W))\n",
    "\n",
    "  # Add the constraint for the balance between supply and demand\n",
    "  @constraint(model, sum(x[g] for g in 1:G) + sum(x_wind[w] for w in 1:W) - sum(y[d] for d in D) == 0)\n",
    "\n",
    "  # Print the model\n",
    "  #print(model)\n",
    "\n",
    "  # Solve the model\n",
    "  optimize!(model)\n",
    "\n",
    "  # Check the status of the solution\n",
    "  status = termination_status(model)\n",
    "  if status == MOI.OPTIMAL\n",
    "      println(\"Hour \", hour, \": Optimal solution found\")\n",
    "\n",
    "      # Assuming 'model' and 'x' are properly defined and 'hour' is known\n",
    "      new_row = [hour, objective_value(model)]\n",
    "      append!(new_row, [value(x[i]) for i in 1:size(cost, 1)]) # Simplifies adding x values\n",
    "\n",
    "      push!(result_df, new_row)\n",
    "\n",
    "  elseif status == MOI.INFEASIBLE\n",
    "      println(\"Hour \", hour, \": No feasible solution found\")\n",
    "  else\n",
    "      println(\"Hour \", hour, \": Solver status: \", status)\n",
    "  end\n",
    "end"
   ]
  },
  {
   "cell_type": "code",
   "execution_count": 16,
   "metadata": {},
   "outputs": [
    {
     "ename": "UndefVarError",
     "evalue": "UndefVarError: `model` not defined",
     "output_type": "error",
     "traceback": [
      "UndefVarError: `model` not defined\n",
      "\n",
      "Stacktrace:\n",
      " [1] top-level scope\n",
      "   @ c:\\Users\\janle\\Desktop\\Master_local\\2\\renewables_in_electricity_markets\\Task1\\model1_jan.ipynb:2"
     ]
    }
   ],
   "source": [
    "\n",
    "    @variable(model, x[1:size(cost, 1)])  # Create the new variable\n",
    "    for generator in 1:size(cost, 1)\n",
    "        set_lower_bound(x[generator], capacity[generator,4])  # Set the lower bound\n",
    "        set_upper_bound(x[generator], capacity[generator,3])  # Set the upper bound\n",
    "    end\n",
    "\n",
    "\n",
    "    # Define the objective function\n",
    "    @objective(model, Min, sum(cost[generator,2] * x[generator] for generator in 1:size(cost,1)))\n",
    "\n",
    "    # Add the equilibrium constraint\n",
    "    @constraint(model, sum(x[generator] for generator in 1:size(cost,1)) == demand[hour,2])"
   ]
  },
  {
   "cell_type": "code",
   "execution_count": 17,
   "metadata": {},
   "outputs": [
    {
     "data": {
      "text/html": [
       "<div><div style = \"float: left;\"><span>0×20 DataFrame</span></div><div style = \"clear: both;\"></div></div><div class = \"data-frame\" style = \"overflow-x: scroll;\"><table class = \"data-frame\" style = \"margin-bottom: 6px;\"><thead><tr class = \"header\"><th class = \"rowNumber\" style = \"font-weight: bold; text-align: right;\">Row</th><th style = \"text-align: left;\">hour</th><th style = \"text-align: left;\">objective_value</th><th style = \"text-align: left;\">x1</th><th style = \"text-align: left;\">x2</th><th style = \"text-align: left;\">x3</th><th style = \"text-align: left;\">x4</th><th style = \"text-align: left;\">x5</th><th style = \"text-align: left;\">x6</th><th style = \"text-align: left;\">x7</th><th style = \"text-align: left;\">x8</th><th style = \"text-align: left;\">x9</th><th style = \"text-align: left;\">x10</th><th style = \"text-align: left;\">x11</th><th style = \"text-align: left;\">x12</th><th style = \"text-align: left;\">x13</th><th style = \"text-align: left;\">x14</th><th style = \"text-align: left;\">x15</th><th style = \"text-align: left;\">x16</th><th style = \"text-align: left;\">x17</th><th style = \"text-align: left;\">x18</th></tr><tr class = \"subheader headerLastRow\"><th class = \"rowNumber\" style = \"font-weight: bold; text-align: right;\"></th><th title = \"Int64\" style = \"text-align: left;\">Int64</th><th title = \"Float64\" style = \"text-align: left;\">Float64</th><th title = \"Float64\" style = \"text-align: left;\">Float64</th><th title = \"Float64\" style = \"text-align: left;\">Float64</th><th title = \"Float64\" style = \"text-align: left;\">Float64</th><th title = \"Float64\" style = \"text-align: left;\">Float64</th><th title = \"Float64\" style = \"text-align: left;\">Float64</th><th title = \"Float64\" style = \"text-align: left;\">Float64</th><th title = \"Float64\" style = \"text-align: left;\">Float64</th><th title = \"Float64\" style = \"text-align: left;\">Float64</th><th title = \"Float64\" style = \"text-align: left;\">Float64</th><th title = \"Float64\" style = \"text-align: left;\">Float64</th><th title = \"Float64\" style = \"text-align: left;\">Float64</th><th title = \"Float64\" style = \"text-align: left;\">Float64</th><th title = \"Float64\" style = \"text-align: left;\">Float64</th><th title = \"Float64\" style = \"text-align: left;\">Float64</th><th title = \"Float64\" style = \"text-align: left;\">Float64</th><th title = \"Float64\" style = \"text-align: left;\">Float64</th><th title = \"Float64\" style = \"text-align: left;\">Float64</th><th title = \"Float64\" style = \"text-align: left;\">Float64</th></tr></thead><tbody></tbody></table></div>"
      ],
      "text/latex": [
       "\\begin{tabular}{r|cccccccccc}\n",
       "\t& hour & objective\\_value & x1 & x2 & x3 & x4 & x5 & x6 & x7 & \\\\\n",
       "\t\\hline\n",
       "\t& Int64 & Float64 & Float64 & Float64 & Float64 & Float64 & Float64 & Float64 & Float64 & \\\\\n",
       "\t\\hline\n",
       "\\end{tabular}\n"
      ],
      "text/plain": [
       "\u001b[1m0×20 DataFrame\u001b[0m\n",
       "\u001b[1m Row \u001b[0m│\u001b[1m hour  \u001b[0m\u001b[1m objective_value \u001b[0m\u001b[1m x1      \u001b[0m\u001b[1m x2      \u001b[0m\u001b[1m x3      \u001b[0m\u001b[1m x4      \u001b[0m\u001b[1m x5      \u001b[0m\u001b[1m x6\u001b[0m ⋯\n",
       "     │\u001b[90m Int64 \u001b[0m\u001b[90m Float64         \u001b[0m\u001b[90m Float64 \u001b[0m\u001b[90m Float64 \u001b[0m\u001b[90m Float64 \u001b[0m\u001b[90m Float64 \u001b[0m\u001b[90m Float64 \u001b[0m\u001b[90m Fl\u001b[0m ⋯\n",
       "─────┴──────────────────────────────────────────────────────────────────────────\n",
       "\u001b[36m                                                              13 columns omitted\u001b[0m"
      ]
     },
     "metadata": {},
     "output_type": "display_data"
    }
   ],
   "source": [
    "result_df"
   ]
  },
  {
   "cell_type": "code",
   "execution_count": 18,
   "metadata": {},
   "outputs": [
    {
     "data": {
      "text/plain": [
       "\"../results/market_clearing_Jan.csv\""
      ]
     },
     "metadata": {},
     "output_type": "display_data"
    }
   ],
   "source": [
    "#save result_df to csv\n",
    "CSV.write(\"../results/market_clearing_Jan.csv\", result_df)"
   ]
  }
 ],
 "metadata": {
  "kernelspec": {
   "display_name": "Julia 1.9.3",
   "language": "julia",
   "name": "julia-1.9"
  },
  "language_info": {
   "file_extension": ".jl",
   "mimetype": "application/julia",
   "name": "julia",
   "version": "1.9.3"
  }
 },
 "nbformat": 4,
 "nbformat_minor": 2
}
