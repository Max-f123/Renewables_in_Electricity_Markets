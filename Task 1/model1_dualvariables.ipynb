{
 "cells": [
  {
   "cell_type": "code",
   "execution_count": 57,
   "metadata": {},
   "outputs": [],
   "source": [
    "#import Pkg\n",
    "#Pkg.add(\"JuMP\")\n",
    "#Pkg.add(\"GLPK\")\n",
    "#Pkg.add(\"Gruobi\")\n",
    "#Pkg.add(\"DataFrames\")\n",
    "#Pkg.add(\"CSV\")"
   ]
  },
  {
   "cell_type": "code",
   "execution_count": 58,
   "metadata": {},
   "outputs": [],
   "source": [
    "using JuMP, GLPK\n",
    "using DataFrames\n",
    "using CSV\n",
    "using PrettyTables"
   ]
  },
  {
   "cell_type": "code",
   "execution_count": 59,
   "metadata": {},
   "outputs": [
    {
     "data": {
      "text/html": [
       "<div><div style = \"float: left;\"><span>24×7 DataFrame</span></div><div style = \"clear: both;\"></div></div><div class = \"data-frame\" style = \"overflow-x: scroll;\"><table class = \"data-frame\" style = \"margin-bottom: 6px;\"><thead><tr class = \"header\"><th class = \"rowNumber\" style = \"font-weight: bold; text-align: right;\">Row</th><th style = \"text-align: left;\">Hour</th><th style = \"text-align: left;\">W1</th><th style = \"text-align: left;\">W2</th><th style = \"text-align: left;\">W3</th><th style = \"text-align: left;\">W4</th><th style = \"text-align: left;\">W5</th><th style = \"text-align: left;\">W6</th></tr><tr class = \"subheader headerLastRow\"><th class = \"rowNumber\" style = \"font-weight: bold; text-align: right;\"></th><th title = \"Int64\" style = \"text-align: left;\">Int64</th><th title = \"Float64\" style = \"text-align: left;\">Float64</th><th title = \"Float64\" style = \"text-align: left;\">Float64</th><th title = \"Float64\" style = \"text-align: left;\">Float64</th><th title = \"Float64\" style = \"text-align: left;\">Float64</th><th title = \"Float64\" style = \"text-align: left;\">Float64</th><th title = \"Float64\" style = \"text-align: left;\">Float64</th></tr></thead><tbody><tr><td class = \"rowNumber\" style = \"font-weight: bold; text-align: right;\">1</td><td style = \"text-align: right;\">1</td><td style = \"text-align: right;\">76.8921</td><td style = \"text-align: right;\">101.54</td><td style = \"text-align: right;\">92.8003</td><td style = \"text-align: right;\">95.3709</td><td style = \"text-align: right;\">96.002</td><td style = \"text-align: right;\">70.9073</td></tr><tr><td class = \"rowNumber\" style = \"font-weight: bold; text-align: right;\">2</td><td style = \"text-align: right;\">2</td><td style = \"text-align: right;\">66.8277</td><td style = \"text-align: right;\">90.9989</td><td style = \"text-align: right;\">109.167</td><td style = \"text-align: right;\">107.937</td><td style = \"text-align: right;\">103.616</td><td style = \"text-align: right;\">112.618</td></tr><tr><td class = \"rowNumber\" style = \"font-weight: bold; text-align: right;\">3</td><td style = \"text-align: right;\">3</td><td style = \"text-align: right;\">78.422</td><td style = \"text-align: right;\">116.959</td><td style = \"text-align: right;\">142.88</td><td style = \"text-align: right;\">134.78</td><td style = \"text-align: right;\">128.276</td><td style = \"text-align: right;\">133.832</td></tr><tr><td class = \"rowNumber\" style = \"font-weight: bold; text-align: right;\">4</td><td style = \"text-align: right;\">4</td><td style = \"text-align: right;\">64.1437</td><td style = \"text-align: right;\">134.249</td><td style = \"text-align: right;\">159.57</td><td style = \"text-align: right;\">133.664</td><td style = \"text-align: right;\">142.969</td><td style = \"text-align: right;\">154.233</td></tr><tr><td class = \"rowNumber\" style = \"font-weight: bold; text-align: right;\">5</td><td style = \"text-align: right;\">5</td><td style = \"text-align: right;\">102.22</td><td style = \"text-align: right;\">145.507</td><td style = \"text-align: right;\">160.944</td><td style = \"text-align: right;\">165.303</td><td style = \"text-align: right;\">144.03</td><td style = \"text-align: right;\">161.49</td></tr><tr><td class = \"rowNumber\" style = \"font-weight: bold; text-align: right;\">6</td><td style = \"text-align: right;\">6</td><td style = \"text-align: right;\">134.039</td><td style = \"text-align: right;\">131.112</td><td style = \"text-align: right;\">157.023</td><td style = \"text-align: right;\">161.828</td><td style = \"text-align: right;\">144.636</td><td style = \"text-align: right;\">155.222</td></tr><tr><td class = \"rowNumber\" style = \"font-weight: bold; text-align: right;\">7</td><td style = \"text-align: right;\">7</td><td style = \"text-align: right;\">146.517</td><td style = \"text-align: right;\">153.67</td><td style = \"text-align: right;\">141.566</td><td style = \"text-align: right;\">159.927</td><td style = \"text-align: right;\">152.86</td><td style = \"text-align: right;\">153.604</td></tr><tr><td class = \"rowNumber\" style = \"font-weight: bold; text-align: right;\">8</td><td style = \"text-align: right;\">8</td><td style = \"text-align: right;\">143.176</td><td style = \"text-align: right;\">163.392</td><td style = \"text-align: right;\">155.294</td><td style = \"text-align: right;\">170.805</td><td style = \"text-align: right;\">158.643</td><td style = \"text-align: right;\">164.307</td></tr><tr><td class = \"rowNumber\" style = \"font-weight: bold; text-align: right;\">9</td><td style = \"text-align: right;\">9</td><td style = \"text-align: right;\">163.297</td><td style = \"text-align: right;\">144.48</td><td style = \"text-align: right;\">172.638</td><td style = \"text-align: right;\">185.318</td><td style = \"text-align: right;\">150.901</td><td style = \"text-align: right;\">166.558</td></tr><tr><td class = \"rowNumber\" style = \"font-weight: bold; text-align: right;\">10</td><td style = \"text-align: right;\">10</td><td style = \"text-align: right;\">172.635</td><td style = \"text-align: right;\">104.022</td><td style = \"text-align: right;\">166.636</td><td style = \"text-align: right;\">178.014</td><td style = \"text-align: right;\">149.664</td><td style = \"text-align: right;\">150.295</td></tr><tr><td class = \"rowNumber\" style = \"font-weight: bold; text-align: right;\">11</td><td style = \"text-align: right;\">11</td><td style = \"text-align: right;\">166.935</td><td style = \"text-align: right;\">88.9871</td><td style = \"text-align: right;\">154.896</td><td style = \"text-align: right;\">187.256</td><td style = \"text-align: right;\">163.69</td><td style = \"text-align: right;\">147.406</td></tr><tr><td class = \"rowNumber\" style = \"font-weight: bold; text-align: right;\">12</td><td style = \"text-align: right;\">12</td><td style = \"text-align: right;\">161.92</td><td style = \"text-align: right;\">44.976</td><td style = \"text-align: right;\">128.268</td><td style = \"text-align: right;\">164.533</td><td style = \"text-align: right;\">154.556</td><td style = \"text-align: right;\">152.979</td></tr><tr><td class = \"rowNumber\" style = \"font-weight: bold; text-align: right;\">13</td><td style = \"text-align: right;\">13</td><td style = \"text-align: right;\">155.941</td><td style = \"text-align: right;\">29.2907</td><td style = \"text-align: right;\">125.294</td><td style = \"text-align: right;\">153.164</td><td style = \"text-align: right;\">143.349</td><td style = \"text-align: right;\">148.691</td></tr><tr><td class = \"rowNumber\" style = \"font-weight: bold; text-align: right;\">14</td><td style = \"text-align: right;\">14</td><td style = \"text-align: right;\">147.45</td><td style = \"text-align: right;\">99.6239</td><td style = \"text-align: right;\">137.481</td><td style = \"text-align: right;\">145.091</td><td style = \"text-align: right;\">149.504</td><td style = \"text-align: right;\">128.692</td></tr><tr><td class = \"rowNumber\" style = \"font-weight: bold; text-align: right;\">15</td><td style = \"text-align: right;\">15</td><td style = \"text-align: right;\">144.046</td><td style = \"text-align: right;\">119.052</td><td style = \"text-align: right;\">136.311</td><td style = \"text-align: right;\">142.282</td><td style = \"text-align: right;\">148.958</td><td style = \"text-align: right;\">97.3963</td></tr><tr><td class = \"rowNumber\" style = \"font-weight: bold; text-align: right;\">16</td><td style = \"text-align: right;\">16</td><td style = \"text-align: right;\">149.042</td><td style = \"text-align: right;\">104.619</td><td style = \"text-align: right;\">131.206</td><td style = \"text-align: right;\">145.473</td><td style = \"text-align: right;\">142.826</td><td style = \"text-align: right;\">109.022</td></tr><tr><td class = \"rowNumber\" style = \"font-weight: bold; text-align: right;\">17</td><td style = \"text-align: right;\">17</td><td style = \"text-align: right;\">136.464</td><td style = \"text-align: right;\">115.34</td><td style = \"text-align: right;\">130.63</td><td style = \"text-align: right;\">146.518</td><td style = \"text-align: right;\">139.699</td><td style = \"text-align: right;\">96.4666</td></tr><tr><td class = \"rowNumber\" style = \"font-weight: bold; text-align: right;\">18</td><td style = \"text-align: right;\">18</td><td style = \"text-align: right;\">131.297</td><td style = \"text-align: right;\">145.216</td><td style = \"text-align: right;\">134.656</td><td style = \"text-align: right;\">147.406</td><td style = \"text-align: right;\">142.942</td><td style = \"text-align: right;\">90.028</td></tr><tr><td class = \"rowNumber\" style = \"font-weight: bold; text-align: right;\">19</td><td style = \"text-align: right;\">19</td><td style = \"text-align: right;\">146.851</td><td style = \"text-align: right;\">156.859</td><td style = \"text-align: right;\">98.1546</td><td style = \"text-align: right;\">156.673</td><td style = \"text-align: right;\">132.721</td><td style = \"text-align: right;\">110.738</td></tr><tr><td class = \"rowNumber\" style = \"font-weight: bold; text-align: right;\">20</td><td style = \"text-align: right;\">20</td><td style = \"text-align: right;\">144.815</td><td style = \"text-align: right;\">163.31</td><td style = \"text-align: right;\">120.838</td><td style = \"text-align: right;\">153.6</td><td style = \"text-align: right;\">148.263</td><td style = \"text-align: right;\">131.151</td></tr><tr><td class = \"rowNumber\" style = \"font-weight: bold; text-align: right;\">21</td><td style = \"text-align: right;\">21</td><td style = \"text-align: right;\">147.298</td><td style = \"text-align: right;\">163.693</td><td style = \"text-align: right;\">138.631</td><td style = \"text-align: right;\">146.525</td><td style = \"text-align: right;\">163.368</td><td style = \"text-align: right;\">135.953</td></tr><tr><td class = \"rowNumber\" style = \"font-weight: bold; text-align: right;\">22</td><td style = \"text-align: right;\">22</td><td style = \"text-align: right;\">126.313</td><td style = \"text-align: right;\">157.048</td><td style = \"text-align: right;\">163.306</td><td style = \"text-align: right;\">154.949</td><td style = \"text-align: right;\">151.918</td><td style = \"text-align: right;\">128.113</td></tr><tr><td class = \"rowNumber\" style = \"font-weight: bold; text-align: right;\">23</td><td style = \"text-align: right;\">23</td><td style = \"text-align: right;\">124.879</td><td style = \"text-align: right;\">122.933</td><td style = \"text-align: right;\">163.273</td><td style = \"text-align: right;\">151.649</td><td style = \"text-align: right;\">160.448</td><td style = \"text-align: right;\">63.902</td></tr><tr><td class = \"rowNumber\" style = \"font-weight: bold; text-align: right;\">24</td><td style = \"text-align: right;\">24</td><td style = \"text-align: right;\">137.862</td><td style = \"text-align: right;\">152.792</td><td style = \"text-align: right;\">161.572</td><td style = \"text-align: right;\">128.656</td><td style = \"text-align: right;\">158.047</td><td style = \"text-align: right;\">32.0439</td></tr></tbody></table></div>"
      ],
      "text/latex": [
       "\\begin{tabular}{r|ccccccc}\n",
       "\t& Hour & W1 & W2 & W3 & W4 & W5 & W6\\\\\n",
       "\t\\hline\n",
       "\t& Int64 & Float64 & Float64 & Float64 & Float64 & Float64 & Float64\\\\\n",
       "\t\\hline\n",
       "\t1 & 1 & 76.8921 & 101.54 & 92.8003 & 95.3709 & 96.002 & 70.9073 \\\\\n",
       "\t2 & 2 & 66.8277 & 90.9989 & 109.167 & 107.937 & 103.616 & 112.618 \\\\\n",
       "\t3 & 3 & 78.422 & 116.959 & 142.88 & 134.78 & 128.276 & 133.832 \\\\\n",
       "\t4 & 4 & 64.1437 & 134.249 & 159.57 & 133.664 & 142.969 & 154.233 \\\\\n",
       "\t5 & 5 & 102.22 & 145.507 & 160.944 & 165.303 & 144.03 & 161.49 \\\\\n",
       "\t6 & 6 & 134.039 & 131.112 & 157.023 & 161.828 & 144.636 & 155.222 \\\\\n",
       "\t7 & 7 & 146.517 & 153.67 & 141.566 & 159.927 & 152.86 & 153.604 \\\\\n",
       "\t8 & 8 & 143.176 & 163.392 & 155.294 & 170.805 & 158.643 & 164.307 \\\\\n",
       "\t9 & 9 & 163.297 & 144.48 & 172.638 & 185.318 & 150.901 & 166.558 \\\\\n",
       "\t10 & 10 & 172.635 & 104.022 & 166.636 & 178.014 & 149.664 & 150.295 \\\\\n",
       "\t11 & 11 & 166.935 & 88.9871 & 154.896 & 187.256 & 163.69 & 147.406 \\\\\n",
       "\t12 & 12 & 161.92 & 44.976 & 128.268 & 164.533 & 154.556 & 152.979 \\\\\n",
       "\t13 & 13 & 155.941 & 29.2907 & 125.294 & 153.164 & 143.349 & 148.691 \\\\\n",
       "\t14 & 14 & 147.45 & 99.6239 & 137.481 & 145.091 & 149.504 & 128.692 \\\\\n",
       "\t15 & 15 & 144.046 & 119.052 & 136.311 & 142.282 & 148.958 & 97.3963 \\\\\n",
       "\t16 & 16 & 149.042 & 104.619 & 131.206 & 145.473 & 142.826 & 109.022 \\\\\n",
       "\t17 & 17 & 136.464 & 115.34 & 130.63 & 146.518 & 139.699 & 96.4666 \\\\\n",
       "\t18 & 18 & 131.297 & 145.216 & 134.656 & 147.406 & 142.942 & 90.028 \\\\\n",
       "\t19 & 19 & 146.851 & 156.859 & 98.1546 & 156.673 & 132.721 & 110.738 \\\\\n",
       "\t20 & 20 & 144.815 & 163.31 & 120.838 & 153.6 & 148.263 & 131.151 \\\\\n",
       "\t21 & 21 & 147.298 & 163.693 & 138.631 & 146.525 & 163.368 & 135.953 \\\\\n",
       "\t22 & 22 & 126.313 & 157.048 & 163.306 & 154.949 & 151.918 & 128.113 \\\\\n",
       "\t23 & 23 & 124.879 & 122.933 & 163.273 & 151.649 & 160.448 & 63.902 \\\\\n",
       "\t24 & 24 & 137.862 & 152.792 & 161.572 & 128.656 & 158.047 & 32.0439 \\\\\n",
       "\\end{tabular}\n"
      ],
      "text/plain": [
       "\u001b[1m24×7 DataFrame\u001b[0m\n",
       "\u001b[1m Row \u001b[0m│\u001b[1m Hour  \u001b[0m\u001b[1m W1       \u001b[0m\u001b[1m W2       \u001b[0m\u001b[1m W3       \u001b[0m\u001b[1m W4       \u001b[0m\u001b[1m W5      \u001b[0m\u001b[1m W6       \u001b[0m\n",
       "     │\u001b[90m Int64 \u001b[0m\u001b[90m Float64  \u001b[0m\u001b[90m Float64  \u001b[0m\u001b[90m Float64  \u001b[0m\u001b[90m Float64  \u001b[0m\u001b[90m Float64 \u001b[0m\u001b[90m Float64  \u001b[0m\n",
       "─────┼──────────────────────────────────────────────────────────────────\n",
       "   1 │     1   76.8921  101.54     92.8003   95.3709   96.002   70.9073\n",
       "   2 │     2   66.8277   90.9989  109.167   107.937   103.616  112.618\n",
       "   3 │     3   78.422   116.959   142.88    134.78    128.276  133.832\n",
       "   4 │     4   64.1437  134.249   159.57    133.664   142.969  154.233\n",
       "   5 │     5  102.22    145.507   160.944   165.303   144.03   161.49\n",
       "   6 │     6  134.039   131.112   157.023   161.828   144.636  155.222\n",
       "   7 │     7  146.517   153.67    141.566   159.927   152.86   153.604\n",
       "   8 │     8  143.176   163.392   155.294   170.805   158.643  164.307\n",
       "  ⋮  │   ⋮       ⋮         ⋮         ⋮         ⋮         ⋮        ⋮\n",
       "  18 │    18  131.297   145.216   134.656   147.406   142.942   90.028\n",
       "  19 │    19  146.851   156.859    98.1546  156.673   132.721  110.738\n",
       "  20 │    20  144.815   163.31    120.838   153.6     148.263  131.151\n",
       "  21 │    21  147.298   163.693   138.631   146.525   163.368  135.953\n",
       "  22 │    22  126.313   157.048   163.306   154.949   151.918  128.113\n",
       "  23 │    23  124.879   122.933   163.273   151.649   160.448   63.902\n",
       "  24 │    24  137.862   152.792   161.572   128.656   158.047   32.0439\n",
       "\u001b[36m                                                          9 rows omitted\u001b[0m"
      ]
     },
     "metadata": {},
     "output_type": "display_data"
    }
   ],
   "source": [
    "#load cost data\n",
    "con_generation = CSV.File(\"../data/conventional_generators.csv\") |> DataFrame\n",
    "\n",
    "#load wind_technicaldata\n",
    "wind_generation = CSV.File(\"../data/wind_farms.csv\") |> DataFrame\n",
    "\n",
    "# load wind profile\n",
    "wind_profile = CSV.File(\"../data/wind_powerprofile_200.csv\") |> DataFrame\n"
   ]
  },
  {
   "cell_type": "code",
   "execution_count": 60,
   "metadata": {},
   "outputs": [
    {
     "data": {
      "text/plain": [
       "4"
      ]
     },
     "metadata": {},
     "output_type": "display_data"
    }
   ],
   "source": [
    "#demand bids\n",
    "name = \"demand_hour_0.csv\"\n",
    "demand_bids = CSV.File(\"../data/demand_bids_hour/\" * name) |> DataFrame\n",
    " \n",
    "# number of convential generators\n",
    "G = size(con_generation, 1)\n",
    "\n",
    "# number of demand\n",
    "D = size(demand_bids, 1)\n",
    "\n",
    "# number of wind generators\n",
    "W = size(wind_generation, 1)"
   ]
  },
  {
   "cell_type": "code",
   "execution_count": 61,
   "metadata": {},
   "outputs": [],
   "source": [
    "# Initialize the DataFrame directly without dynamic column names\n",
    "result_df = DataFrame(hour = Int[], objective_value = Float64[])\n",
    "equilibrium_df = DataFrame(hour = Int[], market_price = Float64[], market_quantity = Float64[])\n",
    "\n",
    "# For x variables, manually add each column. This is a one-time setup.\n",
    "for i in 1:G\n",
    "    result_df[!, Symbol(\"x_con$i\")] = Float64[]\n",
    "end\n",
    "\n",
    "# For w variables, manually add each column. This is a one-time setup.\n",
    "for i in 1:W\n",
    "    result_df[!, Symbol(\"x_wind$i\")] = Float64[]\n",
    "end\n",
    "\n",
    "# For y variables, manually add each column. This is a one-time setup.\n",
    "for i in 1:D\n",
    "    result_df[!, Symbol(\"y$i\")] = Float64[]\n",
    "end"
   ]
  },
  {
   "cell_type": "code",
   "execution_count": 62,
   "metadata": {},
   "outputs": [
    {
     "name": "stdout",
     "output_type": "stream",
     "text": [
      "Hour 18: Optimal solution found\n",
      "13.32\n"
     ]
    },
    {
     "data": {
      "text/html": [
       "<div><div style = \"float: left;\"><span>1×35 DataFrame</span></div><div style = \"clear: both;\"></div></div><div class = \"data-frame\" style = \"overflow-x: scroll;\"><table class = \"data-frame\" style = \"margin-bottom: 6px;\"><thead><tr class = \"header\"><th class = \"rowNumber\" style = \"font-weight: bold; text-align: right;\">Row</th><th style = \"text-align: left;\">hour</th><th style = \"text-align: left;\">objective_value</th><th style = \"text-align: left;\">x_con1</th><th style = \"text-align: left;\">x_con2</th><th style = \"text-align: left;\">x_con3</th><th style = \"text-align: left;\">x_con4</th><th style = \"text-align: left;\">x_con5</th><th style = \"text-align: left;\">x_con6</th><th style = \"text-align: left;\">x_con7</th><th style = \"text-align: left;\">x_con8</th><th style = \"text-align: left;\">x_con9</th><th style = \"text-align: left;\">x_con10</th><th style = \"text-align: left;\">x_con11</th><th style = \"text-align: left;\">x_con12</th><th style = \"text-align: left;\">x_wind1</th><th style = \"text-align: left;\">x_wind2</th><th style = \"text-align: left;\">x_wind3</th><th style = \"text-align: left;\">x_wind4</th><th style = \"text-align: left;\">y1</th><th style = \"text-align: left;\">y2</th><th style = \"text-align: left;\">y3</th><th style = \"text-align: left;\">y4</th><th style = \"text-align: left;\">y5</th><th style = \"text-align: left;\">y6</th><th style = \"text-align: left;\">y7</th><th style = \"text-align: left;\">y8</th><th style = \"text-align: left;\">y9</th><th style = \"text-align: left;\">y10</th><th style = \"text-align: left;\">y11</th><th style = \"text-align: left;\">y12</th><th style = \"text-align: left;\">y13</th><th style = \"text-align: left;\">y14</th><th style = \"text-align: left;\">y15</th><th style = \"text-align: left;\">y16</th><th style = \"text-align: left;\">y17</th></tr><tr class = \"subheader headerLastRow\"><th class = \"rowNumber\" style = \"font-weight: bold; text-align: right;\"></th><th title = \"Int64\" style = \"text-align: left;\">Int64</th><th title = \"Float64\" style = \"text-align: left;\">Float64</th><th title = \"Float64\" style = \"text-align: left;\">Float64</th><th title = \"Float64\" style = \"text-align: left;\">Float64</th><th title = \"Float64\" style = \"text-align: left;\">Float64</th><th title = \"Float64\" style = \"text-align: left;\">Float64</th><th title = \"Float64\" style = \"text-align: left;\">Float64</th><th title = \"Float64\" style = \"text-align: left;\">Float64</th><th title = \"Float64\" style = \"text-align: left;\">Float64</th><th title = \"Float64\" style = \"text-align: left;\">Float64</th><th title = \"Float64\" style = \"text-align: left;\">Float64</th><th title = \"Float64\" style = \"text-align: left;\">Float64</th><th title = \"Float64\" style = \"text-align: left;\">Float64</th><th title = \"Float64\" style = \"text-align: left;\">Float64</th><th title = \"Float64\" style = \"text-align: left;\">Float64</th><th title = \"Float64\" style = \"text-align: left;\">Float64</th><th title = \"Float64\" style = \"text-align: left;\">Float64</th><th title = \"Float64\" style = \"text-align: left;\">Float64</th><th title = \"Float64\" style = \"text-align: left;\">Float64</th><th title = \"Float64\" style = \"text-align: left;\">Float64</th><th title = \"Float64\" style = \"text-align: left;\">Float64</th><th title = \"Float64\" style = \"text-align: left;\">Float64</th><th title = \"Float64\" style = \"text-align: left;\">Float64</th><th title = \"Float64\" style = \"text-align: left;\">Float64</th><th title = \"Float64\" style = \"text-align: left;\">Float64</th><th title = \"Float64\" style = \"text-align: left;\">Float64</th><th title = \"Float64\" style = \"text-align: left;\">Float64</th><th title = \"Float64\" style = \"text-align: left;\">Float64</th><th title = \"Float64\" style = \"text-align: left;\">Float64</th><th title = \"Float64\" style = \"text-align: left;\">Float64</th><th title = \"Float64\" style = \"text-align: left;\">Float64</th><th title = \"Float64\" style = \"text-align: left;\">Float64</th><th title = \"Float64\" style = \"text-align: left;\">Float64</th><th title = \"Float64\" style = \"text-align: left;\">Float64</th><th title = \"Float64\" style = \"text-align: left;\">Float64</th></tr></thead><tbody><tr><td class = \"rowNumber\" style = \"font-weight: bold; text-align: right;\">1</td><td style = \"text-align: right;\">18</td><td style = \"text-align: right;\">35838.0</td><td style = \"text-align: right;\">21.9257</td><td style = \"text-align: right;\">0.0</td><td style = \"text-align: right;\">0.0</td><td style = \"text-align: right;\">0.0</td><td style = \"text-align: right;\">0.0</td><td style = \"text-align: right;\">155.0</td><td style = \"text-align: right;\">155.0</td><td style = \"text-align: right;\">400.0</td><td style = \"text-align: right;\">400.0</td><td style = \"text-align: right;\">300.0</td><td style = \"text-align: right;\">310.0</td><td style = \"text-align: right;\">350.0</td><td style = \"text-align: right;\">131.297</td><td style = \"text-align: right;\">145.216</td><td style = \"text-align: right;\">134.656</td><td style = \"text-align: right;\">147.406</td><td style = \"text-align: right;\">100.719</td><td style = \"text-align: right;\">90.117</td><td style = \"text-align: right;\">246.497</td><td style = \"text-align: right;\">180.234</td><td style = \"text-align: right;\">294.205</td><td style = \"text-align: right;\">92.7675</td><td style = \"text-align: right;\">310.108</td><td style = \"text-align: right;\">169.632</td><td style = \"text-align: right;\">119.273</td><td style = \"text-align: right;\">166.981</td><td style = \"text-align: right;\">68.913</td><td style = \"text-align: right;\">66.2625</td><td style = \"text-align: right;\">127.224</td><td style = \"text-align: right;\">116.622</td><td style = \"text-align: right;\">159.03</td><td style = \"text-align: right;\">161.68</td><td style = \"text-align: right;\">180.234</td></tr></tbody></table></div>"
      ],
      "text/latex": [
       "\\begin{tabular}{r|cccccccccc}\n",
       "\t& hour & objective\\_value & x\\_con1 & x\\_con2 & x\\_con3 & x\\_con4 & x\\_con5 & x\\_con6 & x\\_con7 & \\\\\n",
       "\t\\hline\n",
       "\t& Int64 & Float64 & Float64 & Float64 & Float64 & Float64 & Float64 & Float64 & Float64 & \\\\\n",
       "\t\\hline\n",
       "\t1 & 18 & 35838.0 & 21.9257 & 0.0 & 0.0 & 0.0 & 0.0 & 155.0 & 155.0 & $\\dots$ \\\\\n",
       "\\end{tabular}\n"
      ],
      "text/plain": [
       "\u001b[1m1×35 DataFrame\u001b[0m\n",
       "\u001b[1m Row \u001b[0m│\u001b[1m hour  \u001b[0m\u001b[1m objective_value \u001b[0m\u001b[1m x_con1  \u001b[0m\u001b[1m x_con2  \u001b[0m\u001b[1m x_con3  \u001b[0m\u001b[1m x_con4  \u001b[0m\u001b[1m x_con5  \u001b[0m\u001b[1m x_\u001b[0m ⋯\n",
       "     │\u001b[90m Int64 \u001b[0m\u001b[90m Float64         \u001b[0m\u001b[90m Float64 \u001b[0m\u001b[90m Float64 \u001b[0m\u001b[90m Float64 \u001b[0m\u001b[90m Float64 \u001b[0m\u001b[90m Float64 \u001b[0m\u001b[90m Fl\u001b[0m ⋯\n",
       "─────┼──────────────────────────────────────────────────────────────────────────\n",
       "   1 │    18          35838.0  21.9257      0.0      0.0      0.0      0.0     ⋯\n",
       "\u001b[36m                                                              28 columns omitted\u001b[0m"
      ]
     },
     "metadata": {},
     "output_type": "display_data"
    }
   ],
   "source": [
    "\n",
    "hour = 18 \n",
    "# Create a new model with GLPK solver\n",
    "model = Model(GLPK.Optimizer)\n",
    "\n",
    "# Define the decision variables for every generator\n",
    "unregister(model, :x)  # Unregister the existing variable named \"x\" from the model\n",
    "\n",
    "#demand bids\n",
    "name = \"demand_hour_\" * string(hour-1) * \".csv\"\n",
    "demand_bids = CSV.File(\"../data/demand_bids_hour/\" * name) |> DataFrame\n",
    "\n",
    "# number of demand\n",
    "D = size(demand_bids, 1)\n",
    "\n",
    "#@variable(model, x_bin[1:G], Bin)  # binary variable for on/off status\n",
    "@variable(model, x_con[1:G])  # power output variable\n",
    "\n",
    "# wind decision variables\n",
    "@variable(model, x_wind[1:W])  # Create the new variable\n",
    "\n",
    "# Create explicit constraints for the bounds, to be able to access their dual values later\n",
    "lb_g = Vector{Any}(undef, G+W)\n",
    "ub_g = Vector{Any}(undef, G+W)\n",
    "for g in 1:G\n",
    "    lb_g[g] = @constraint(model, x_con[g] >= 0)\n",
    "    ub_g[g] = @constraint(model, x_con[g] <= con_generation[g,6])\n",
    "end\n",
    "for w in 1:W\n",
    "    lb_g[G+w] = @constraint(model, x_wind[w] >= 0)\n",
    "    ub_g[G+w] = @constraint(model, x_wind[w] <= wind_profile[hour,w+1])\n",
    "end\n",
    "\n",
    "\n",
    "\n",
    "# decision variables for demand\n",
    "@variable(model, y[1:size(demand_bids, 1)])  # Create the new variable\n",
    "# Create explicit constraints for the bounds, to be able to access their dual values later\n",
    "lb_d = Vector{Any}(undef, D)\n",
    "ub_d = Vector{Any}(undef, D)\n",
    "for d in 1:D\n",
    "    lb_d[d] = @constraint(model, y[d] >= 0)\n",
    "    ub_d[d] = @constraint(model, y[d] <= demand_bids[d,2])\n",
    "end\n",
    "\n",
    "# Add the constraint for the balance between supply and demand\n",
    "@constraint(model, BalanceConstraint,  sum(x_con[g] for g in 1:G) + sum(x_wind[w] for w in 1:W) - sum(y[d] for d in 1:D) == 0)\n",
    "\n",
    "# Define the objective function\n",
    "@objective(model, Max, sum(demand_bids[d,3] * y[d] for d in 1:D) - sum(con_generation[g,3] * x_con[g] for g in 1:G) - sum(0.0* x_wind[w] for w in 1:W))\n",
    "\n",
    "# Print the model\n",
    "#print(model)\n",
    "\n",
    "# Solve the model\n",
    "optimize!(model)\n",
    "\n",
    "# Check the status of the solution\n",
    "status = termination_status(model)\n",
    "if status == MOI.OPTIMAL\n",
    "    println(\"Hour \", hour, \": Optimal solution found\")\n",
    "    #println(\"Objective value: \", objective_value(model))\n",
    "    #println(\"x values: \", [value(x[i]) for i in 1:G])\n",
    "    #println(\"x_wind values: \", [value(x_wind[i]) for i in 1:W])\n",
    "    #println(\"y values: \", [value(y[i]) for i in 1:D])\n",
    "    println(dual(BalanceConstraint))\n",
    "    #add dual values to dataframe\n",
    "    push!(equilibrium_df, [hour, dual(BalanceConstraint), sum(value(y[i]) for i in 1:D)])\n",
    "\n",
    "    #save results to dataframe\n",
    "    push!(result_df, [hour, objective_value(model), [value(x_con[i]) for i in 1:G]..., [value(x_wind[i]) for i in 1:W]..., [value(y[i]) for i in 1:D]...])\n",
    "\n",
    "elseif status == MOI.INFEASIBLE\n",
    "    println(\"Hour \", hour, \": No feasible solution found\")\n",
    "else\n",
    "    println(\"Hour \", hour, \": Solver status: \", status)\n",
    "end\n"
   ]
  },
  {
   "cell_type": "code",
   "execution_count": 63,
   "metadata": {},
   "outputs": [
    {
     "data": {
      "text/plain": [
       "\"results/optimization_results_demand.csv\""
      ]
     },
     "metadata": {},
     "output_type": "display_data"
    }
   ],
   "source": [
    "#Access the dual values of all the generators constraints and add them to a new dataframe, in scientific notation\n",
    "duals_g = DataFrame(hour = Int[], gen = Symbol[], lower_bound = Float64[], upper_bound = Float64[])\n",
    "for i in 1:G\n",
    "    push!(duals_g, [hour, Symbol(\"x_conv$i\"), dual(lb_g[i]), dual(ub_g[i])])\n",
    "end\n",
    "for i in 1:W\n",
    "    push!(duals_g, [hour, Symbol(\"x_wind$i\"), dual(lb_g[i+G]), dual(ub_g[i+G])])\n",
    "end\n",
    "\n",
    "duals_d = DataFrame(hour = Int[], node = Int[],lower_bound = Float64[], upper_bound = Float64[])\n",
    "for i in 1:D\n",
    "    push!(duals_d, [hour, demand_bids[i,1], dual(lb_d[i]), dual(ub_d[i])])\n",
    "end\n",
    "\n",
    "\n",
    "#save results to dataframe\n",
    "CSV.write(\"results/optimization_results_generation.csv\", duals_g)\n",
    "CSV.write(\"results/optimization_results_demand.csv\", duals_d)\n"
   ]
  },
  {
   "cell_type": "code",
   "execution_count": 64,
   "metadata": {},
   "outputs": [
    {
     "data": {
      "text/html": [
       "<div><div style = \"float: left;\"><span>1×35 DataFrame</span></div><div style = \"clear: both;\"></div></div><div class = \"data-frame\" style = \"overflow-x: scroll;\"><table class = \"data-frame\" style = \"margin-bottom: 6px;\"><thead><tr class = \"header\"><th class = \"rowNumber\" style = \"font-weight: bold; text-align: right;\">Row</th><th style = \"text-align: left;\">hour</th><th style = \"text-align: left;\">objective_value</th><th style = \"text-align: left;\">x_con1</th><th style = \"text-align: left;\">x_con2</th><th style = \"text-align: left;\">x_con3</th><th style = \"text-align: left;\">x_con4</th><th style = \"text-align: left;\">x_con5</th><th style = \"text-align: left;\">x_con6</th><th style = \"text-align: left;\">x_con7</th><th style = \"text-align: left;\">x_con8</th><th style = \"text-align: left;\">x_con9</th><th style = \"text-align: left;\">x_con10</th><th style = \"text-align: left;\">x_con11</th><th style = \"text-align: left;\">x_con12</th><th style = \"text-align: left;\">x_wind1</th><th style = \"text-align: left;\">x_wind2</th><th style = \"text-align: left;\">x_wind3</th><th style = \"text-align: left;\">x_wind4</th><th style = \"text-align: left;\">y1</th><th style = \"text-align: left;\">y2</th><th style = \"text-align: left;\">y3</th><th style = \"text-align: left;\">y4</th><th style = \"text-align: left;\">y5</th><th style = \"text-align: left;\">y6</th><th style = \"text-align: left;\">y7</th><th style = \"text-align: left;\">y8</th><th style = \"text-align: left;\">y9</th><th style = \"text-align: left;\">y10</th><th style = \"text-align: left;\">y11</th><th style = \"text-align: left;\">y12</th><th style = \"text-align: left;\">y13</th><th style = \"text-align: left;\">y14</th><th style = \"text-align: left;\">y15</th><th style = \"text-align: left;\">y16</th><th style = \"text-align: left;\">y17</th></tr><tr class = \"subheader headerLastRow\"><th class = \"rowNumber\" style = \"font-weight: bold; text-align: right;\"></th><th title = \"Int64\" style = \"text-align: left;\">Int64</th><th title = \"Float64\" style = \"text-align: left;\">Float64</th><th title = \"Float64\" style = \"text-align: left;\">Float64</th><th title = \"Float64\" style = \"text-align: left;\">Float64</th><th title = \"Float64\" style = \"text-align: left;\">Float64</th><th title = \"Float64\" style = \"text-align: left;\">Float64</th><th title = \"Float64\" style = \"text-align: left;\">Float64</th><th title = \"Float64\" style = \"text-align: left;\">Float64</th><th title = \"Float64\" style = \"text-align: left;\">Float64</th><th title = \"Float64\" style = \"text-align: left;\">Float64</th><th title = \"Float64\" style = \"text-align: left;\">Float64</th><th title = \"Float64\" style = \"text-align: left;\">Float64</th><th title = \"Float64\" style = \"text-align: left;\">Float64</th><th title = \"Float64\" style = \"text-align: left;\">Float64</th><th title = \"Float64\" style = \"text-align: left;\">Float64</th><th title = \"Float64\" style = \"text-align: left;\">Float64</th><th title = \"Float64\" style = \"text-align: left;\">Float64</th><th title = \"Float64\" style = \"text-align: left;\">Float64</th><th title = \"Float64\" style = \"text-align: left;\">Float64</th><th title = \"Float64\" style = \"text-align: left;\">Float64</th><th title = \"Float64\" style = \"text-align: left;\">Float64</th><th title = \"Float64\" style = \"text-align: left;\">Float64</th><th title = \"Float64\" style = \"text-align: left;\">Float64</th><th title = \"Float64\" style = \"text-align: left;\">Float64</th><th title = \"Float64\" style = \"text-align: left;\">Float64</th><th title = \"Float64\" style = \"text-align: left;\">Float64</th><th title = \"Float64\" style = \"text-align: left;\">Float64</th><th title = \"Float64\" style = \"text-align: left;\">Float64</th><th title = \"Float64\" style = \"text-align: left;\">Float64</th><th title = \"Float64\" style = \"text-align: left;\">Float64</th><th title = \"Float64\" style = \"text-align: left;\">Float64</th><th title = \"Float64\" style = \"text-align: left;\">Float64</th><th title = \"Float64\" style = \"text-align: left;\">Float64</th><th title = \"Float64\" style = \"text-align: left;\">Float64</th><th title = \"Float64\" style = \"text-align: left;\">Float64</th></tr></thead><tbody><tr><td class = \"rowNumber\" style = \"font-weight: bold; text-align: right;\">1</td><td style = \"text-align: right;\">18</td><td style = \"text-align: right;\">35838.0</td><td style = \"text-align: right;\">21.9257</td><td style = \"text-align: right;\">0.0</td><td style = \"text-align: right;\">0.0</td><td style = \"text-align: right;\">0.0</td><td style = \"text-align: right;\">0.0</td><td style = \"text-align: right;\">155.0</td><td style = \"text-align: right;\">155.0</td><td style = \"text-align: right;\">400.0</td><td style = \"text-align: right;\">400.0</td><td style = \"text-align: right;\">300.0</td><td style = \"text-align: right;\">310.0</td><td style = \"text-align: right;\">350.0</td><td style = \"text-align: right;\">131.297</td><td style = \"text-align: right;\">145.216</td><td style = \"text-align: right;\">134.656</td><td style = \"text-align: right;\">147.406</td><td style = \"text-align: right;\">100.719</td><td style = \"text-align: right;\">90.117</td><td style = \"text-align: right;\">246.497</td><td style = \"text-align: right;\">180.234</td><td style = \"text-align: right;\">294.205</td><td style = \"text-align: right;\">92.7675</td><td style = \"text-align: right;\">310.108</td><td style = \"text-align: right;\">169.632</td><td style = \"text-align: right;\">119.273</td><td style = \"text-align: right;\">166.981</td><td style = \"text-align: right;\">68.913</td><td style = \"text-align: right;\">66.2625</td><td style = \"text-align: right;\">127.224</td><td style = \"text-align: right;\">116.622</td><td style = \"text-align: right;\">159.03</td><td style = \"text-align: right;\">161.68</td><td style = \"text-align: right;\">180.234</td></tr></tbody></table></div>"
      ],
      "text/latex": [
       "\\begin{tabular}{r|cccccccccc}\n",
       "\t& hour & objective\\_value & x\\_con1 & x\\_con2 & x\\_con3 & x\\_con4 & x\\_con5 & x\\_con6 & x\\_con7 & \\\\\n",
       "\t\\hline\n",
       "\t& Int64 & Float64 & Float64 & Float64 & Float64 & Float64 & Float64 & Float64 & Float64 & \\\\\n",
       "\t\\hline\n",
       "\t1 & 18 & 35838.0 & 21.9257 & 0.0 & 0.0 & 0.0 & 0.0 & 155.0 & 155.0 & $\\dots$ \\\\\n",
       "\\end{tabular}\n"
      ],
      "text/plain": [
       "\u001b[1m1×35 DataFrame\u001b[0m\n",
       "\u001b[1m Row \u001b[0m│\u001b[1m hour  \u001b[0m\u001b[1m objective_value \u001b[0m\u001b[1m x_con1  \u001b[0m\u001b[1m x_con2  \u001b[0m\u001b[1m x_con3  \u001b[0m\u001b[1m x_con4  \u001b[0m\u001b[1m x_con5  \u001b[0m\u001b[1m x_\u001b[0m ⋯\n",
       "     │\u001b[90m Int64 \u001b[0m\u001b[90m Float64         \u001b[0m\u001b[90m Float64 \u001b[0m\u001b[90m Float64 \u001b[0m\u001b[90m Float64 \u001b[0m\u001b[90m Float64 \u001b[0m\u001b[90m Float64 \u001b[0m\u001b[90m Fl\u001b[0m ⋯\n",
       "─────┼──────────────────────────────────────────────────────────────────────────\n",
       "   1 │    18          35838.0  21.9257      0.0      0.0      0.0      0.0     ⋯\n",
       "\u001b[36m                                                              28 columns omitted\u001b[0m"
      ]
     },
     "metadata": {},
     "output_type": "display_data"
    }
   ],
   "source": [
    "result_df"
   ]
  },
  {
   "cell_type": "code",
   "execution_count": 65,
   "metadata": {},
   "outputs": [
    {
     "data": {
      "text/html": [
       "<div><div style = \"float: left;\"><span>32×3 DataFrame</span></div><div style = \"float: right;\"><span style = \"font-style: italic;\">7 rows omitted</span></div><div style = \"clear: both;\"></div></div><div class = \"data-frame\" style = \"overflow-x: scroll;\"><table class = \"data-frame\" style = \"margin-bottom: 6px;\"><thead><tr class = \"header\"><th class = \"rowNumber\" style = \"font-weight: bold; text-align: right;\">Row</th><th style = \"text-align: left;\">Hour</th><th style = \"text-align: left;\">Quantity_MW</th><th style = \"text-align: left;\">Price_MWh</th></tr><tr class = \"subheader headerLastRow\"><th class = \"rowNumber\" style = \"font-weight: bold; text-align: right;\"></th><th title = \"Int64\" style = \"text-align: left;\">Int64</th><th title = \"Float64\" style = \"text-align: left;\">Float64</th><th title = \"Float64\" style = \"text-align: left;\">Float64</th></tr></thead><tbody><tr><td class = \"rowNumber\" style = \"font-weight: bold; text-align: right;\">1</td><td style = \"text-align: right;\">18</td><td style = \"text-align: right;\">0.0</td><td style = \"text-align: right;\">0.0</td></tr><tr><td class = \"rowNumber\" style = \"font-weight: bold; text-align: right;\">2</td><td style = \"text-align: right;\">18</td><td style = \"text-align: right;\">131.297</td><td style = \"text-align: right;\">0.0</td></tr><tr><td class = \"rowNumber\" style = \"font-weight: bold; text-align: right;\">3</td><td style = \"text-align: right;\">18</td><td style = \"text-align: right;\">131.297</td><td style = \"text-align: right;\">0.0</td></tr><tr><td class = \"rowNumber\" style = \"font-weight: bold; text-align: right;\">4</td><td style = \"text-align: right;\">18</td><td style = \"text-align: right;\">276.512</td><td style = \"text-align: right;\">0.0</td></tr><tr><td class = \"rowNumber\" style = \"font-weight: bold; text-align: right;\">5</td><td style = \"text-align: right;\">18</td><td style = \"text-align: right;\">276.512</td><td style = \"text-align: right;\">0.0</td></tr><tr><td class = \"rowNumber\" style = \"font-weight: bold; text-align: right;\">6</td><td style = \"text-align: right;\">18</td><td style = \"text-align: right;\">411.168</td><td style = \"text-align: right;\">0.0</td></tr><tr><td class = \"rowNumber\" style = \"font-weight: bold; text-align: right;\">7</td><td style = \"text-align: right;\">18</td><td style = \"text-align: right;\">411.168</td><td style = \"text-align: right;\">0.0</td></tr><tr><td class = \"rowNumber\" style = \"font-weight: bold; text-align: right;\">8</td><td style = \"text-align: right;\">18</td><td style = \"text-align: right;\">558.574</td><td style = \"text-align: right;\">0.0</td></tr><tr><td class = \"rowNumber\" style = \"font-weight: bold; text-align: right;\">9</td><td style = \"text-align: right;\">18</td><td style = \"text-align: right;\">558.574</td><td style = \"text-align: right;\">5.47</td></tr><tr><td class = \"rowNumber\" style = \"font-weight: bold; text-align: right;\">10</td><td style = \"text-align: right;\">18</td><td style = \"text-align: right;\">958.574</td><td style = \"text-align: right;\">5.47</td></tr><tr><td class = \"rowNumber\" style = \"font-weight: bold; text-align: right;\">11</td><td style = \"text-align: right;\">18</td><td style = \"text-align: right;\">958.574</td><td style = \"text-align: right;\">6.02</td></tr><tr><td class = \"rowNumber\" style = \"font-weight: bold; text-align: right;\">12</td><td style = \"text-align: right;\">18</td><td style = \"text-align: right;\">1358.57</td><td style = \"text-align: right;\">6.02</td></tr><tr><td class = \"rowNumber\" style = \"font-weight: bold; text-align: right;\">13</td><td style = \"text-align: right;\">18</td><td style = \"text-align: right;\">1358.57</td><td style = \"text-align: right;\">7.0</td></tr><tr><td style = \"text-align: right;\">&vellip;</td><td style = \"text-align: right;\">&vellip;</td><td style = \"text-align: right;\">&vellip;</td><td style = \"text-align: right;\">&vellip;</td></tr><tr><td class = \"rowNumber\" style = \"font-weight: bold; text-align: right;\">21</td><td style = \"text-align: right;\">18</td><td style = \"text-align: right;\">2278.57</td><td style = \"text-align: right;\">10.89</td></tr><tr><td class = \"rowNumber\" style = \"font-weight: bold; text-align: right;\">22</td><td style = \"text-align: right;\">18</td><td style = \"text-align: right;\">2628.57</td><td style = \"text-align: right;\">10.89</td></tr><tr><td class = \"rowNumber\" style = \"font-weight: bold; text-align: right;\">23</td><td style = \"text-align: right;\">18</td><td style = \"text-align: right;\">2628.57</td><td style = \"text-align: right;\">13.32</td></tr><tr><td class = \"rowNumber\" style = \"font-weight: bold; text-align: right;\">24</td><td style = \"text-align: right;\">18</td><td style = \"text-align: right;\">2780.57</td><td style = \"text-align: right;\">13.32</td></tr><tr><td class = \"rowNumber\" style = \"font-weight: bold; text-align: right;\">25</td><td style = \"text-align: right;\">18</td><td style = \"text-align: right;\">2780.57</td><td style = \"text-align: right;\">13.32</td></tr><tr><td class = \"rowNumber\" style = \"font-weight: bold; text-align: right;\">26</td><td style = \"text-align: right;\">18</td><td style = \"text-align: right;\">2932.57</td><td style = \"text-align: right;\">13.32</td></tr><tr><td class = \"rowNumber\" style = \"font-weight: bold; text-align: right;\">27</td><td style = \"text-align: right;\">18</td><td style = \"text-align: right;\">2932.57</td><td style = \"text-align: right;\">20.7</td></tr><tr><td class = \"rowNumber\" style = \"font-weight: bold; text-align: right;\">28</td><td style = \"text-align: right;\">18</td><td style = \"text-align: right;\">3282.57</td><td style = \"text-align: right;\">20.7</td></tr><tr><td class = \"rowNumber\" style = \"font-weight: bold; text-align: right;\">29</td><td style = \"text-align: right;\">18</td><td style = \"text-align: right;\">3282.57</td><td style = \"text-align: right;\">20.93</td></tr><tr><td class = \"rowNumber\" style = \"font-weight: bold; text-align: right;\">30</td><td style = \"text-align: right;\">18</td><td style = \"text-align: right;\">3873.57</td><td style = \"text-align: right;\">20.93</td></tr><tr><td class = \"rowNumber\" style = \"font-weight: bold; text-align: right;\">31</td><td style = \"text-align: right;\">18</td><td style = \"text-align: right;\">3873.57</td><td style = \"text-align: right;\">26.11</td></tr><tr><td class = \"rowNumber\" style = \"font-weight: bold; text-align: right;\">32</td><td style = \"text-align: right;\">18</td><td style = \"text-align: right;\">3933.57</td><td style = \"text-align: right;\">26.11</td></tr></tbody></table></div>"
      ],
      "text/latex": [
       "\\begin{tabular}{r|ccc}\n",
       "\t& Hour & Quantity\\_MW & Price\\_MWh\\\\\n",
       "\t\\hline\n",
       "\t& Int64 & Float64 & Float64\\\\\n",
       "\t\\hline\n",
       "\t1 & 18 & 0.0 & 0.0 \\\\\n",
       "\t2 & 18 & 131.297 & 0.0 \\\\\n",
       "\t3 & 18 & 131.297 & 0.0 \\\\\n",
       "\t4 & 18 & 276.512 & 0.0 \\\\\n",
       "\t5 & 18 & 276.512 & 0.0 \\\\\n",
       "\t6 & 18 & 411.168 & 0.0 \\\\\n",
       "\t7 & 18 & 411.168 & 0.0 \\\\\n",
       "\t8 & 18 & 558.574 & 0.0 \\\\\n",
       "\t9 & 18 & 558.574 & 5.47 \\\\\n",
       "\t10 & 18 & 958.574 & 5.47 \\\\\n",
       "\t11 & 18 & 958.574 & 6.02 \\\\\n",
       "\t12 & 18 & 1358.57 & 6.02 \\\\\n",
       "\t13 & 18 & 1358.57 & 7.0 \\\\\n",
       "\t14 & 18 & 1658.57 & 7.0 \\\\\n",
       "\t15 & 18 & 1658.57 & 10.52 \\\\\n",
       "\t16 & 18 & 1813.57 & 10.52 \\\\\n",
       "\t17 & 18 & 1813.57 & 10.52 \\\\\n",
       "\t18 & 18 & 1968.57 & 10.52 \\\\\n",
       "\t19 & 18 & 1968.57 & 10.52 \\\\\n",
       "\t20 & 18 & 2278.57 & 10.52 \\\\\n",
       "\t21 & 18 & 2278.57 & 10.89 \\\\\n",
       "\t22 & 18 & 2628.57 & 10.89 \\\\\n",
       "\t23 & 18 & 2628.57 & 13.32 \\\\\n",
       "\t24 & 18 & 2780.57 & 13.32 \\\\\n",
       "\t$\\dots$ & $\\dots$ & $\\dots$ & $\\dots$ \\\\\n",
       "\\end{tabular}\n"
      ],
      "text/plain": [
       "\u001b[1m32×3 DataFrame\u001b[0m\n",
       "\u001b[1m Row \u001b[0m│\u001b[1m Hour  \u001b[0m\u001b[1m Quantity_MW \u001b[0m\u001b[1m Price_MWh \u001b[0m\n",
       "     │\u001b[90m Int64 \u001b[0m\u001b[90m Float64     \u001b[0m\u001b[90m Float64   \u001b[0m\n",
       "─────┼───────────────────────────────\n",
       "   1 │    18        0.0         0.0\n",
       "   2 │    18      131.297       0.0\n",
       "   3 │    18      131.297       0.0\n",
       "   4 │    18      276.512       0.0\n",
       "   5 │    18      276.512       0.0\n",
       "   6 │    18      411.168       0.0\n",
       "   7 │    18      411.168       0.0\n",
       "   8 │    18      558.574       0.0\n",
       "  ⋮  │   ⋮         ⋮           ⋮\n",
       "  26 │    18     2932.57       13.32\n",
       "  27 │    18     2932.57       20.7\n",
       "  28 │    18     3282.57       20.7\n",
       "  29 │    18     3282.57       20.93\n",
       "  30 │    18     3873.57       20.93\n",
       "  31 │    18     3873.57       26.11\n",
       "  32 │    18     3933.57       26.11\n",
       "\u001b[36m                      17 rows omitted\u001b[0m"
      ]
     },
     "metadata": {},
     "output_type": "display_data"
    }
   ],
   "source": [
    "#prepare the plot\n",
    "demand_sort = DataFrame(Hour = Int[], Quantity_MW = Float64[], Price_MWh = Float64[])\n",
    "for d in 1:D\n",
    "    push!(demand_sort, (Hour = hour, Quantity_MW = 0, Price_MWh = demand_bids[d, 3]))\n",
    "    push!(demand_sort, (Hour = hour, Quantity_MW = demand_bids[d, 2], Price_MWh = demand_bids[d, 3]))\n",
    "end\n",
    "sort!(demand_sort, :Price_MWh, rev=true)\n",
    "\n",
    "supply_sort = DataFrame(Hour = Int[], Quantity_MW = Float64[], Price_MWh = Float64[])\n",
    "for g in 1:G\n",
    "    push!(supply_sort, (Hour = hour, Quantity_MW = 0, Price_MWh = con_generation[g,3]))\n",
    "    push!(supply_sort, (Hour = hour, Quantity_MW = con_generation[g,6], Price_MWh = con_generation[g,3]))\n",
    "end\n",
    "for w in 1:W\n",
    "    push!(supply_sort, (Hour = hour, Quantity_MW = 0, Price_MWh = 0))\n",
    "    push!(supply_sort, (Hour = hour, Quantity_MW = wind_profile[hour,w+1], Price_MWh = 0))\n",
    "end\n",
    "\n",
    "sort!(supply_sort, :Price_MWh)\n",
    "\n",
    "for d in 2:2*D\n",
    "    demand_sort[d,2] += demand_sort[d-1,2]\n",
    "end\n",
    "for s in 2:size(supply_sort,1)\n",
    "    supply_sort[s,2] += supply_sort[s-1,2]\n",
    "end\n",
    "\n",
    "demand_sort\n",
    "supply_sort"
   ]
  },
  {
   "cell_type": "code",
   "execution_count": 66,
   "metadata": {},
   "outputs": [
    {
     "data": {
      "text/plain": [
       "\"c:\\\\Users\\\\janle\\\\Desktop\\\\Master_local\\\\2\\\\renewables_in_electricity_markets\\\\Task 1\\\\results\\\\market_clearing_hour_18.png\""
      ]
     },
     "metadata": {},
     "output_type": "display_data"
    }
   ],
   "source": [
    "using Plots\n",
    "plot(demand_sort.Quantity_MW, demand_sort.Price_MWh, label=\"Demand\", xlabel=\"Quantity_MW\", ylabel=\"Price_€/MW\",  lw=2)\n",
    "plot!(supply_sort.Quantity_MW, supply_sort.Price_MWh, label=\"Supply\", lw=2)\n",
    "hline!([equilibrium_df[1, 2]], color=\"black\", label=\"Market price\")\n",
    "vline!([equilibrium_df[1, 3]], label=\"Market quantity\")\n",
    "\n",
    "#title=\"Market Clearing\",\n",
    "#save plot in results folder\n",
    "savefig(\"results/market_clearing_hour_\" * string(hour) * \".png\")"
   ]
  },
  {
   "cell_type": "code",
   "execution_count": 67,
   "metadata": {},
   "outputs": [
    {
     "data": {
      "text/plain": [
       "\"results/equilibrium_model1.csv\""
      ]
     },
     "metadata": {},
     "output_type": "display_data"
    }
   ],
   "source": [
    "#save result_df to csv\n",
    "CSV.write(\"results/market_clearing_model1.csv\", result_df)\n",
    "CSV.write(\"results/equilibrium_model1.csv\", equilibrium_df)"
   ]
  },
  {
   "cell_type": "code",
   "execution_count": 68,
   "metadata": {},
   "outputs": [
    {
     "name": "stdout",
     "output_type": "stream",
     "text": [
      "\\begin{tabular}{rrrrrrrrrrrr}\n",
      "  \\hline\n",
      "  \\textbf{x\\_con1} & \\textbf{x\\_con2} & \\textbf{x\\_con3} & \\textbf{x\\_con4} & \\textbf{x\\_con5} & \\textbf{x\\_con6} & \\textbf{x\\_con7} & \\textbf{x\\_con8} & \\textbf{x\\_con9} & \\textbf{x\\_con10} & \\textbf{x\\_con11} & \\textbf{x\\_con12} \\\\\n",
      "  \\texttt{Float64} & \\texttt{Float64} & \\texttt{Float64} & \\texttt{Float64} & \\texttt{Float64} & \\texttt{Float64} & \\texttt{Float64} & \\texttt{Float64} & \\texttt{Float64} & \\texttt{Float64} & \\texttt{Float64} & \\texttt{Float64} \\\\\\hline\n",
      "  21.9257 & 0.0 & 0.0 & 0.0 & 0.0 & 155.0 & 155.0 & 400.0 & 400.0 & 300.0 & 310.0 & 350.0 \\\\\n",
      "  0.0 & 0.0 & 0.0 & 0.0 & 0.0 & 434.0 & 434.0 & 2920.0 & 3140.0 & 1896.0 & 868.0 & 850.5 \\\\\n",
      "  -0.0 & -0.0 & 7.38 & 7.61 & 12.79 & -0.0 & -0.0 & -0.0 & -0.0 & -0.0 & -0.0 & -0.0 \\\\\n",
      "  -0.0 & -0.0 & -0.0 & -0.0 & -0.0 & -2.8 & -2.8 & -7.3 & -7.85 & -6.32 & -2.8 & -2.43 \\\\\\hline\n",
      "\\end{tabular}\n"
     ]
    }
   ],
   "source": [
    "\n",
    "profit_df = DataFrame()\n",
    "#make for each generator a column\n",
    "for i in 1:G\n",
    "    profit_df[!, Symbol(\"x_con$i\")] = Float64[]\n",
    "end\n",
    "\n",
    "# insert the assigned capacity for each generator\n",
    "capacities = []\n",
    "for i in 1:G\n",
    "    # make array with the assigned capacity\n",
    "    push!(capacities, value(x_con[i]))\n",
    "end\n",
    "\n",
    "push!(profit_df, capacities)\n",
    "\n",
    "\n",
    "#calculate the profit for each generator\n",
    "profits = []\n",
    "for i in 1:G\n",
    "    push!(profits, value(x_con[i])* dual(BalanceConstraint)-con_generation[i,3]*value(x_con[i]))\n",
    "end\n",
    "\n",
    "push!(profit_df, profits)\n",
    "\n",
    "#add dual values to dataframe\n",
    "lwr_duals = []\n",
    "upr_duals = []\n",
    "for i in 1:G\n",
    "    push!(lwr_duals, dual(lb_g[i]))\n",
    "    push!(upr_duals, dual(ub_g[i]))\n",
    "end\n",
    "push!(profit_df, lwr_duals)\n",
    "push!(profit_df, upr_duals)\n",
    "\n",
    "CSV.write(\"results/profits_model1.csv\", profit_df)\n",
    "\n",
    "pretty_table(profit_df, backend = Val(:latex))\n",
    "\n"
   ]
  },
  {
   "cell_type": "code",
   "execution_count": 69,
   "metadata": {},
   "outputs": [],
   "source": [
    "#utility table for demand\n",
    "utility_df = DataFrame()\n",
    "\n",
    "#make for each demand a column\n",
    "for i in 1:D\n",
    "    utility_df[!, Symbol(\"y$i\")] = Float64[]\n",
    "end\n",
    "\n",
    "# insert the assigned capacity for each demand\n",
    "capacities = []\n",
    "for i in 1:D\n",
    "    # make array with the assigned capacity\n",
    "    push!(capacities, value(y[i]))\n",
    "end\n",
    "\n",
    "push!(utility_df, capacities)\n",
    "\n",
    "\n",
    "#calculate the utility for each demand\n",
    "utilities = []\n",
    "for i in 1:D\n",
    "    push!(utilities, (demand_bids[i,3]-dual(BalanceConstraint))*value(y[i]))\n",
    "end\n",
    "\n",
    "push!(utility_df, utilities)\n",
    "\n",
    "#add dual values to dataframe\n",
    "lwr_duals = []\n",
    "upr_duals = []\n",
    "for i in 1:D\n",
    "    push!(lwr_duals, dual(lb_d[i]))\n",
    "    push!(upr_duals, dual(ub_d[i]))\n",
    "end\n",
    "push!(utility_df, lwr_duals)\n",
    "push!(utility_df, upr_duals)\n",
    "\n",
    "CSV.write(\"results/utilities_model1.csv\", utility_df)\n",
    "\n",
    "pretty_table(utility_df, backend = Val(:latex))"
   ]
  },
  {
   "cell_type": "code",
   "execution_count": 70,
   "metadata": {},
   "outputs": [
    {
     "name": "stdout",
     "output_type": "stream",
     "text": [
      "\\begin{tabular}{rrrrrrrrrrrrrrrrr}\n",
      "  \\hline\n",
      "  \\textbf{y1} & \\textbf{y2} & \\textbf{y3} & \\textbf{y4} & \\textbf{y5} & \\textbf{y6} & \\textbf{y7} & \\textbf{y8} & \\textbf{y9} & \\textbf{y10} & \\textbf{y11} & \\textbf{y12} & \\textbf{y13} & \\textbf{y14} & \\textbf{y15} & \\textbf{y16} & \\textbf{y17} \\\\\n",
      "  \\texttt{Float64} & \\texttt{Float64} & \\texttt{Float64} & \\texttt{Float64} & \\texttt{Float64} & \\texttt{Float64} & \\texttt{Float64} & \\texttt{Float64} & \\texttt{Float64} & \\texttt{Float64} & \\texttt{Float64} & \\texttt{Float64} & \\texttt{Float64} & \\texttt{Float64} & \\texttt{Float64} & \\texttt{Float64} & \\texttt{Float64} \\\\\\hline\n",
      "  100.719 & 90.117 & 246.497 & 180.234 & 294.205 & 92.7675 & 310.108 & 169.632 & 119.273 & 166.981 & 68.913 & 66.2625 & 127.224 & 116.622 & 159.03 & 161.68 & 180.234 \\\\\n",
      "  805.071 & 588.067 & 1540.6 & 1380.57 & 2034.12 & 577.564 & 2038.23 & 1094.81 & 918.724 & 1193.62 & 586.198 & 537.032 & 641.639 & 830.041 & 943.387 & 967.485 & 1178.16 \\\\\n",
      "  -0.0 & -0.0 & -0.0 & -0.0 & -0.0 & -0.0 & -0.0 & -0.0 & -0.0 & -0.0 & -0.0 & -0.0 & -0.0 & -0.0 & -0.0 & -0.0 & -0.0 \\\\\n",
      "  -7.99324 & -6.5256 & -6.25 & -7.6599 & -6.91393 & -6.22593 & -6.57263 & -6.45406 & -7.70273 & -7.14819 & -8.50636 & -8.10462 & -5.04338 & -7.11736 & -5.93213 & -5.98393 & -6.53683 \\\\\\hline\n",
      "\\end{tabular}\n",
      "\u001b[1m17×3 DataFrame\u001b[0m\n",
      "\u001b[1m Row \u001b[0m│\u001b[1m Node  \u001b[0m\u001b[1m Quantity (MW) \u001b[0m\u001b[1m Price ($/MWh) \u001b[0m\n",
      "     │\u001b[90m Int64 \u001b[0m\u001b[90m Float64       \u001b[0m\u001b[90m Float64       \u001b[0m\n",
      "─────┼─────────────────────────────────────\n",
      "   1 │     1       100.719         21.3132\n",
      "   2 │     2        90.117         19.8456\n",
      "   3 │    13       246.497         19.57\n",
      "   4 │    14       180.234         20.9799\n",
      "   5 │    15       294.206         20.2339\n",
      "   6 │    16        92.7675        19.5459\n",
      "   7 │    18       310.108         19.8926\n",
      "   8 │    19       169.632         19.7741\n",
      "   9 │    20       119.272         21.0227\n",
      "  10 │     3       166.982         20.4682\n",
      "  11 │     4        68.913         21.8264\n",
      "  12 │     5        66.2625        21.4246\n",
      "  13 │     6       127.224         18.3634\n",
      "  14 │     7       116.622         20.4374\n",
      "  15 │     8       159.03          19.2521\n",
      "  16 │     9       161.68          19.3039\n",
      "  17 │    10       180.234         19.8568\n"
     ]
    }
   ],
   "source": [
    "println(demand_bids)"
   ]
  }
 ],
 "metadata": {
  "kernelspec": {
   "display_name": "Julia 1.9.3",
   "language": "julia",
   "name": "julia-1.9"
  },
  "language_info": {
   "file_extension": ".jl",
   "mimetype": "application/julia",
   "name": "julia",
   "version": "1.9.3"
  }
 },
 "nbformat": 4,
 "nbformat_minor": 2
}
