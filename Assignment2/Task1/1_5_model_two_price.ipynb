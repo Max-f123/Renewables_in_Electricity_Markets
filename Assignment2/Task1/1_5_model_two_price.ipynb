{
 "cells": [
  {
   "cell_type": "code",
   "execution_count": 1,
   "metadata": {},
   "outputs": [],
   "source": [
    "import Pkg\n",
    "#Pkg.add(\"JuMP\")\n",
    "#Pkg.add(\"GLPK\")\n",
    "#Pkg.add(\"Gruobi\")\n",
    "#Pkg.add(\"DataFrames\")\n",
    "#Pkg.add(\"CSV\")\n",
    "#Pkg.add(\"PyCall\")"
   ]
  },
  {
   "cell_type": "code",
   "execution_count": 2,
   "metadata": {},
   "outputs": [],
   "source": [
    "using JuMP, GLPK\n",
    "using DataFrames\n",
    "using CSV\n",
    "using PrettyTables\n",
    "using Random"
   ]
  },
  {
   "cell_type": "code",
   "execution_count": 3,
   "metadata": {},
   "outputs": [],
   "source": [
    "# Load the data\n",
    "scenarios_df = CSV.read(\"../data/scenarios.csv\", DataFrame)\n",
    "\n",
    "n_scenarios = size(scenarios_df, 2)/3\n",
    "n_scenarios = convert(Int, n_scenarios)\n",
    "\n",
    "# create a dictonary with 200 dataframes for each scenario\n",
    "all_scenarios = Dict()\n",
    "for i in 1:n_scenarios\n",
    "    df_helper = DataFrame(scenarios_df[:,3*i-2:3*i])\n",
    "    df_helper[!,3] = df_helper[!,3] .* 1.0\n",
    "    rename!(df_helper, [:\"price\", :\"wind power\", :\"grid_excess\"])\n",
    "    all_scenarios[i] = df_helper\n",
    "end"
   ]
  },
  {
   "cell_type": "code",
   "execution_count": 4,
   "metadata": {},
   "outputs": [
    {
     "data": {
      "text/plain": [
       "Any[]"
      ]
     },
     "metadata": {},
     "output_type": "display_data"
    }
   ],
   "source": [
    "W = 250\n",
    "hours = 24\n",
    "\n",
    "insample_scenarios = Dict()\n",
    "out_of_sample_scenarios = Dict()\n",
    "seeds = [123,2,3,4,5,6,7,8,9,10]\n",
    "\n",
    "for seed in seeds\n",
    "    Random.seed!(seed)\n",
    "    selected_scenarios = rand(1:n_scenarios, W)\n",
    "    scenarios = Dict()\n",
    "    counter = 1\n",
    "    for i in selected_scenarios\n",
    "        scenarios[counter] = all_scenarios[i]\n",
    "        counter += 1\n",
    "    end\n",
    "    insample_scenarios[seed] = scenarios\n",
    "\n",
    "    # create the list of index of scenarios out of sample\n",
    "    out_of_sample = []\n",
    "    for i in 1:n_scenarios\n",
    "        if i ∉ selected_scenarios\n",
    "            push!(out_of_sample, i)\n",
    "        end\n",
    "    end\n",
    "\n",
    "    unselected_scenarios = Dict()\n",
    "    counter = 1\n",
    "    for i in out_of_sample\n",
    "        unselected_scenarios[counter] = all_scenarios[i]\n",
    "        counter += 1\n",
    "    end\n",
    "    out_of_sample_scenarios[seed] = unselected_scenarios\n",
    "end\n",
    "\n",
    "alpha = 0.9\n",
    "beta = 0.1\n",
    "objectiv_values = []\n",
    "exp_profits = []\n",
    "profits_in = []\n",
    "CVaR_values = []\n"
   ]
  },
  {
   "cell_type": "code",
   "execution_count": 5,
   "metadata": {},
   "outputs": [
    {
     "name": "stdout",
     "output_type": "stream",
     "text": [
      "Expected profit 129997.0258090001\n",
      "p_DA: [22.33724183870968, 14.389693451612905, 15.949935451612903, 13.469580564516129, 9.242903161290323, 7.841935483870968, 145.9269354516129, 2.7339112741935483, 1.1038967741935486, 146.94499998387096, 0.7919354838709678, 0.7419306451612904, 142.91516125806453, 22.92266117741936, 135.9887096612903, 22.37141930645161, 146.0248386935484, 149.60145158064518, 5.493548387096774, 152.74596772580645, 4.493516129032258, 16.500016064516128, 6.808774177419355, 149.57870966129033]\n",
      "Expected profit 132598.83113649592\n",
      "p_DA: [22.33724183870968, 14.389693451612905, 15.949935451612903, 13.469580564516129, 9.242903161290323, 5.90827414516129, 145.9269354516129, 2.7339112741935483, 1.1038967741935486, 146.94499998387096, 0.7919354838709678, 0.7419306451612904, 142.91516125806453, 13.749257999999998, 135.9887096612903, 14.924994849890199, 146.0248386935484, 149.60145158064518, 5.493548387096774, 152.74596772580645, 4.493516129032258, 14.784612903225803, 6.808774177419355, 149.57870966129033]\n",
      "Expected profit 129548.4715874523\n",
      "p_DA: [22.33724183870968, 14.389693451612905, 15.949935451612903, 15.687870887096777, 13.684112806451612, 5.90827414516129, 145.9269354516129, 2.7339112741935483, 1.1038967741935486, 146.94499998387096, 0.7919354838709678, 0.7419306451612904, 142.91516125806453, 1.167741935483871, 135.9887096612903, 11.5386774032259, 146.0248386935484, 149.60145158064518, 10.317629032258065, 152.74596772580645, 4.493516129032258, 22.11446772580645, 6.808774177419355, 149.57870966129033]\n",
      "Expected profit 135952.891633602\n",
      "p_DA: [22.33724183870968, 14.389693451612905, 15.949935451612903, 13.469580564516129, 9.242903161290323, 7.841935483870968, 145.9269354516129, 2.7339112741935483, 1.1038967741935486, 146.94499998387096, 0.7919354838709678, 0.7419306451612904, 142.91516125806453, 13.749257999999992, 135.9887096612903, 13.44699985483871, 146.0248386935484, 149.60145158064518, 5.493548387096774, 152.74596772580645, 4.493516129032258, 14.784612903225803, 6.808774177419355, 149.57870966129033]\n",
      "Expected profit 123506.4607285077\n",
      "p_DA: [22.33724183870968, 14.389693451612905, 15.949935451612903, 13.469580564516129, 9.242903161290323, 6.538096677419354, 145.9269354516129, 2.7339112741935483, 1.103896774193577, 146.94499998387096, 0.7919354838709678, 0.7419306451612904, 142.91516125806453, 1.167741935483871, 135.9887096612903, 13.44699985483871, 146.0248386935484, 149.60145158064518, 5.493548387096774, 152.74596772580645, 4.493516129032258, 16.500016064516128, 6.808774177419355, 149.57870966129033]\n",
      "Expected profit 134969.02718309406\n",
      "p_DA: [22.33724183870968, 14.389693451612905, 15.949935451612903, 13.469580564516129, 13.684112806451612, 18.319528267075786, 145.9269354516129, 2.7339112741935483, 1.1038967741935486, 146.94499998387096, 0.7919354838709678, 0.7419306451612904, 142.91516125806453, 13.749258, 135.9887096612903, 13.44699985483871, 146.0248386935484, 149.60145158064518, 5.493548387096774, 152.74596772580645, 4.493516129032258, 22.11446772580645, 6.808774177419355, 149.57870966129033]\n",
      "Expected profit 131006.94780624306\n",
      "p_DA: [22.33724183870968, 14.389693451612905, 16.245967693548387, 21.93790314516129, 13.684112806451612, 6.538096677419354, 145.9269354516129, 2.7339112741935483, 1.1038967741935486, 146.94499998387096, 0.7919354838709678, 0.7419306451612904, 142.91516125806453, 1.167741935483871, 135.9887096612903, 2.3072451612903238, 146.0248386935484, 149.60145158064518, 10.317629032258065, 152.74596772580645, 4.493516129032258, 27.229903177419352, 6.808774177419355, 149.57870966129033]\n",
      "Expected profit 129492.10446449819\n",
      "p_DA: [22.33724183870968, 14.389693451612905, 15.949935451612903, 13.469580564516129, 9.242903161290323, 6.538096677419354, 145.9269354516129, 2.7339112741935483, 1.1038967741935486, 146.94499998387096, 0.7919354838709678, 0.7419306451612904, 142.91516125806453, 1.167741935483871, 135.9887096612903, 2.3072451612903224, 146.0248386935484, 149.60145158064518, 5.493548387096774, 152.74596772580645, 4.493516129032258, 16.500016064516128, 6.808774177419355, 149.57870966129033]\n",
      "Expected profit 126392.32837253253\n",
      "p_DA: [22.33724183870968, 14.389693451612905, 15.949935451612902, 15.687870887096777, 9.242903161290323, 7.841935483870968, 145.9269354516129, 2.7339112741935483, 1.1038967741935486, 146.94499998387096, 0.7919354838709678, 0.7419306451612904, 142.91516125806453, 28.317257903225805, 135.9887096612903, 28.99003225806452, 146.0248386935484, 149.60145158064518, 5.493548387096774, 152.74596772580645, 4.493516129032258, 22.11446772580645, 6.808774177419355, 149.57870966129033]\n",
      "Expected profit 132816.6931209174\n",
      "p_DA: [22.33724183870968, 14.389693451612905, 15.949935451612903, 13.469580564516129, 13.57685472580645, 7.841935483870968, 145.9269354516129, 2.7339112741935483, 1.1038967741935486, 146.94499998387096, 0.7919354838709678, 0.7419306451612904, 142.91516125806453, 32.4904354516129, 135.9887096612903, 32.01943806643713, 146.0248386935484, 149.60145158064518, 5.493548387096774, 152.74596772580645, 4.493516129032258, 31.39583864516129, 6.808774177419355, 149.57870966129033]\n"
     ]
    }
   ],
   "source": [
    "expected_profit_list = []\n",
    "#create df with seeds as column and add the p_DA_values for each seed and definec the columns\n",
    "bids_df = DataFrame()\n",
    "\n",
    "for seed in seeds[1:10]\n",
    "    scenarios = insample_scenarios[seed]\n",
    "\n",
    "    # Create a new model with GLPK solver\n",
    "    model = Model(GLPK.Optimizer)\n",
    "    unregister(model, :p_DA)\n",
    "\n",
    "    # Define the decision variables for hour\n",
    "    @variable(model, p_DA[1:hours])\n",
    "    @variable(model, delta[1:W,1:hours])\n",
    "    @variable(model, delta_up[1:W,1:hours])\n",
    "    @variable(model, delta_down[1:W,1:hours])\n",
    "    @variable(model, zeta)\n",
    "    @variable(model, eta[1:W] >= 0)\n",
    "\n",
    "    # Define the objective function\n",
    "    @objective(model, Max, (1-beta) *  sum(1/W*(scenarios[i][hour,\"price\"] * p_DA[hour]\n",
    "        + delta_up[i,hour] * scenarios[i][hour,\"price\"] * (scenarios[i][hour,\"grid_excess\"]*0.9 + (1-scenarios[i][hour,\"grid_excess\"])*1)\n",
    "        - delta_down[i,hour] * scenarios[i][hour,\"price\"] * (scenarios[i][hour,\"grid_excess\"]*1 + (1-scenarios[i][hour,\"grid_excess\"])*1.2)\n",
    "        + beta  * (zeta - (1/(1-alpha)) * sum(1/W * eta[i] for i in 1:W))) for i in 1:W, hour in 1:hours))\n",
    "\n",
    "    # Define the constraints\n",
    "    @constraint(model, [hour in 1:hours], p_DA[hour] <= 200)\n",
    "    @constraint(model, [hour in 1:hours], p_DA[hour] >= 0)\n",
    "    @constraint(model, [i in 1:W, hour in 1:hours], delta[i,hour] == scenarios[i][hour,\"wind power\"] - p_DA[hour])\n",
    "    @constraint(model, [i in 1:W, hour in 1:hours], delta[i,hour] == delta_up[i,hour] - delta_down[i,hour])\n",
    "    @constraint(model, [i in 1:W, hour in 1:hours], delta_down[i,hour] >= 0)\n",
    "    #@constraint(model, [i in 1:W, hour in 1:hours], delta_down[i,hour] <= p_DA[hour])\n",
    "    @constraint(model, [i in 1:W, hour in 1:hours], delta_up[i,hour] >= 0)\n",
    "    #@constraint(model, [i in 1:W, hour in 1:hours], delta_up[i,hour] + p_DA[hour] <= 200)\n",
    "\n",
    "    @constraint(model, [i in 1:W], -1 * sum(scenarios[i][hour,\"price\"] * p_DA[hour]\n",
    "    + delta_up[i,hour] * scenarios[i][hour,\"price\"] * (scenarios[i][hour,\"grid_excess\"]*0.9 + (1-scenarios[i][hour,\"grid_excess\"])*1)\n",
    "    - delta_down[i,hour] * scenarios[i][hour,\"price\"] * (scenarios[i][hour,\"grid_excess\"]*1 + (1-scenarios[i][hour,\"grid_excess\"])*1.2) for hour in 1:hours) + zeta - eta[i] <= 0)\n",
    "\n",
    "\n",
    "\n",
    "    # Solve the optimization problem\n",
    "    optimize!(model)\n",
    "\n",
    "    # save the p_DA values\n",
    "    p_DA_values = value.(p_DA)\n",
    "\n",
    "    exp_profit = value.(sum(1/W.*(scenarios[i][hour,\"price\"] * p_DA[hour]\n",
    "        + delta_up[i,hour] * scenarios[i][hour,\"price\"] * (scenarios[i][hour,\"grid_excess\"]*0.9 + (1-scenarios[i][hour,\"grid_excess\"])*1)\n",
    "        - delta_down[i,hour] * scenarios[i][hour,\"price\"] * (scenarios[i][hour,\"grid_excess\"]*1 + (1-scenarios[i][hour,\"grid_excess\"])*1.2) for i in 1:W, hour in 1:hours)))\n",
    "\n",
    "\n",
    "    #println(model)\n",
    "\n",
    "    # Print the termination status\n",
    "    status = termination_status(model)\n",
    "    if status == MOI.OPTIMAL\n",
    "        println(\"Expected profit \", exp_profit)\n",
    "        println(\"p_DA: \", value.(p_DA))\n",
    "        #add the p_DA values to the df\n",
    "        bids_df[!, string(seed)] = value.(p_DA)\n",
    "        push!(expected_profit_list, exp_profit)\n",
    "        \n",
    "    else\n",
    "        println(\"No optimal solution found\")\n",
    "    end\n",
    "end"
   ]
  },
  {
   "cell_type": "code",
   "execution_count": 8,
   "metadata": {},
   "outputs": [
    {
     "data": {
      "text/plain": [
       "10-element Vector{Any}:\n",
       " 134281.39493848503\n",
       " 132131.62631511892\n",
       " 133861.21879045566\n",
       " 132049.2992644381\n",
       " 134199.0721905296\n",
       " 132550.32036987023\n",
       " 132445.02293430347\n",
       " 133537.92737599355\n",
       " 133673.68303863733\n",
       " 133243.43070736292"
      ]
     },
     "metadata": {},
     "output_type": "display_data"
    }
   ],
   "source": [
    "\n",
    "W_new = n_scenarios - W\n",
    "hours = 24\n",
    "profits_list = []\n",
    "\n",
    "for seed in seeds[1:10]\n",
    "    unselected_scenarios = out_of_sample_scenarios[seed]\n",
    "    p_DA_values = value.(bids_df[!, string(seed)])\n",
    "    # calculate the expected profit for the out of sample scenarios\n",
    "    exp_profit = 0\n",
    "    for i in 1:W_new\n",
    "        profit_day = 0\n",
    "        for hour in 1:hours\n",
    "            profit = 0\n",
    "            profit += unselected_scenarios[i][hour,\"price\"] * p_DA_values[hour] # should the day ahead price be fixed to the first scenario? So instead of i, 1?\n",
    "            if unselected_scenarios[i][hour,\"wind power\"] > p_DA_values[hour]\n",
    "                profit += unselected_scenarios[i][hour,\"price\"] * (unselected_scenarios[i][hour,\"wind power\"] - p_DA_values[hour]) * (unselected_scenarios[i][hour,\"grid_excess\"]*0.9 + (1-unselected_scenarios[i][hour,\"grid_excess\"])*1)\n",
    "            else\n",
    "                profit -= unselected_scenarios[i][hour,\"price\"] * (p_DA_values[hour] - unselected_scenarios[i][hour,\"wind power\"]) * (unselected_scenarios[i][hour,\"grid_excess\"]*1 + (1-unselected_scenarios[i][hour,\"grid_excess\"])*1.2)\n",
    "            end\n",
    "            profit_day += profit\n",
    "        end\n",
    "        #push!(profits_out, profit_day)\n",
    "        exp_profit += profit_day\n",
    "    end\n",
    "    exp_profit = exp_profit / W_new\n",
    "    push!(profits_list, exp_profit)\n",
    "end\n",
    "\n",
    "profits_list"
   ]
  },
  {
   "cell_type": "code",
   "execution_count": 9,
   "metadata": {},
   "outputs": [
    {
     "data": {
      "text/html": [
       "<div><div style = \"float: left;\"><span>10×4 DataFrame</span></div><div style = \"clear: both;\"></div></div><div class = \"data-frame\" style = \"overflow-x: scroll;\"><table class = \"data-frame\" style = \"margin-bottom: 6px;\"><thead><tr class = \"header\"><th class = \"rowNumber\" style = \"font-weight: bold; text-align: right;\">Row</th><th style = \"text-align: left;\">seed</th><th style = \"text-align: left;\">expected_profit</th><th style = \"text-align: left;\">profit_out</th><th style = \"text-align: left;\">relative</th></tr><tr class = \"subheader headerLastRow\"><th class = \"rowNumber\" style = \"font-weight: bold; text-align: right;\"></th><th title = \"Int64\" style = \"text-align: left;\">Int64</th><th title = \"Any\" style = \"text-align: left;\">Any</th><th title = \"Any\" style = \"text-align: left;\">Any</th><th title = \"Float64\" style = \"text-align: left;\">Float64</th></tr></thead><tbody><tr><td class = \"rowNumber\" style = \"font-weight: bold; text-align: right;\">1</td><td style = \"text-align: right;\">123</td><td style = \"text-align: left;\">129997.0</td><td style = \"text-align: left;\">1.34281e5</td><td style = \"text-align: right;\">0.0329574</td></tr><tr><td class = \"rowNumber\" style = \"font-weight: bold; text-align: right;\">2</td><td style = \"text-align: right;\">2</td><td style = \"text-align: left;\">1.32599e5</td><td style = \"text-align: left;\">1.32132e5</td><td style = \"text-align: right;\">-0.00352345</td></tr><tr><td class = \"rowNumber\" style = \"font-weight: bold; text-align: right;\">3</td><td style = \"text-align: right;\">3</td><td style = \"text-align: left;\">1.29548e5</td><td style = \"text-align: left;\">1.33861e5</td><td style = \"text-align: right;\">0.0332906</td></tr><tr><td class = \"rowNumber\" style = \"font-weight: bold; text-align: right;\">4</td><td style = \"text-align: right;\">4</td><td style = \"text-align: left;\">1.35953e5</td><td style = \"text-align: left;\">1.32049e5</td><td style = \"text-align: right;\">-0.0287128</td></tr><tr><td class = \"rowNumber\" style = \"font-weight: bold; text-align: right;\">5</td><td style = \"text-align: right;\">5</td><td style = \"text-align: left;\">1.23506e5</td><td style = \"text-align: left;\">1.34199e5</td><td style = \"text-align: right;\">0.0865753</td></tr><tr><td class = \"rowNumber\" style = \"font-weight: bold; text-align: right;\">6</td><td style = \"text-align: right;\">6</td><td style = \"text-align: left;\">134969.0</td><td style = \"text-align: left;\">1.3255e5</td><td style = \"text-align: right;\">-0.0179205</td></tr><tr><td class = \"rowNumber\" style = \"font-weight: bold; text-align: right;\">7</td><td style = \"text-align: right;\">7</td><td style = \"text-align: left;\">1.31007e5</td><td style = \"text-align: left;\">132445.0</td><td style = \"text-align: right;\">0.0109771</td></tr><tr><td class = \"rowNumber\" style = \"font-weight: bold; text-align: right;\">8</td><td style = \"text-align: right;\">8</td><td style = \"text-align: left;\">1.29492e5</td><td style = \"text-align: left;\">1.33538e5</td><td style = \"text-align: right;\">0.0312438</td></tr><tr><td class = \"rowNumber\" style = \"font-weight: bold; text-align: right;\">9</td><td style = \"text-align: right;\">9</td><td style = \"text-align: left;\">1.26392e5</td><td style = \"text-align: left;\">1.33674e5</td><td style = \"text-align: right;\">0.0576092</td></tr><tr><td class = \"rowNumber\" style = \"font-weight: bold; text-align: right;\">10</td><td style = \"text-align: right;\">10</td><td style = \"text-align: left;\">1.32817e5</td><td style = \"text-align: left;\">1.33243e5</td><td style = \"text-align: right;\">0.00321298</td></tr></tbody></table></div>"
      ],
      "text/latex": [
       "\\begin{tabular}{r|cccc}\n",
       "\t& seed & expected\\_profit & profit\\_out & relative\\\\\n",
       "\t\\hline\n",
       "\t& Int64 & Any & Any & Float64\\\\\n",
       "\t\\hline\n",
       "\t1 & 123 & 129997.0 & 1.34281e5 & 0.0329574 \\\\\n",
       "\t2 & 2 & 1.32599e5 & 1.32132e5 & -0.00352345 \\\\\n",
       "\t3 & 3 & 1.29548e5 & 1.33861e5 & 0.0332906 \\\\\n",
       "\t4 & 4 & 1.35953e5 & 1.32049e5 & -0.0287128 \\\\\n",
       "\t5 & 5 & 1.23506e5 & 1.34199e5 & 0.0865753 \\\\\n",
       "\t6 & 6 & 134969.0 & 1.3255e5 & -0.0179205 \\\\\n",
       "\t7 & 7 & 1.31007e5 & 132445.0 & 0.0109771 \\\\\n",
       "\t8 & 8 & 1.29492e5 & 1.33538e5 & 0.0312438 \\\\\n",
       "\t9 & 9 & 1.26392e5 & 1.33674e5 & 0.0576092 \\\\\n",
       "\t10 & 10 & 1.32817e5 & 1.33243e5 & 0.00321298 \\\\\n",
       "\\end{tabular}\n"
      ],
      "text/plain": [
       "\u001b[1m10×4 DataFrame\u001b[0m\n",
       "\u001b[1m Row \u001b[0m│\u001b[1m seed  \u001b[0m\u001b[1m expected_profit \u001b[0m\u001b[1m profit_out \u001b[0m\u001b[1m relative    \u001b[0m\n",
       "     │\u001b[90m Int64 \u001b[0m\u001b[90m Any             \u001b[0m\u001b[90m Any        \u001b[0m\u001b[90m Float64     \u001b[0m\n",
       "─────┼─────────────────────────────────────────────────\n",
       "   1 │   123  129997.0         1.34281e5    0.0329574\n",
       "   2 │     2  1.32599e5        1.32132e5   -0.00352345\n",
       "   3 │     3  1.29548e5        1.33861e5    0.0332906\n",
       "   4 │     4  1.35953e5        1.32049e5   -0.0287128\n",
       "   5 │     5  1.23506e5        1.34199e5    0.0865753\n",
       "   6 │     6  134969.0         1.3255e5    -0.0179205\n",
       "   7 │     7  1.31007e5        132445.0     0.0109771\n",
       "   8 │     8  1.29492e5        1.33538e5    0.0312438\n",
       "   9 │     9  1.26392e5        1.33674e5    0.0576092\n",
       "  10 │    10  1.32817e5        1.33243e5    0.00321298"
      ]
     },
     "metadata": {},
     "output_type": "display_data"
    }
   ],
   "source": [
    "#make dataframe with the expected profits, profits_list\n",
    "df = DataFrame(seed = seeds[1:10], expected_profit = expected_profit_list, profit_out = profits_list)\n",
    "#make a relative column\n",
    "df[!, \"relative\"] = df[!,\"profit_out\"] ./ df[!,\"expected_profit\"].-1\n",
    "df"
   ]
  }
 ],
 "metadata": {
  "kernelspec": {
   "display_name": "Julia 1.9.3",
   "language": "julia",
   "name": "julia-1.9"
  },
  "language_info": {
   "file_extension": ".jl",
   "mimetype": "application/julia",
   "name": "julia",
   "version": "1.9.3"
  }
 },
 "nbformat": 4,
 "nbformat_minor": 2
}
