{
 "cells": [
  {
   "cell_type": "code",
   "execution_count": 60,
   "metadata": {},
   "outputs": [],
   "source": [
    "import Pkg\n",
    "#Pkg.add(\"JuMP\")\n",
    "#Pkg.add(\"GLPK\")\n",
    "#Pkg.add(\"Gruobi\")\n",
    "#Pkg.add(\"DataFrames\")\n",
    "#Pkg.add(\"CSV\")\n",
    "#Pkg.add(\"PyCall\")"
   ]
  },
  {
   "cell_type": "code",
   "execution_count": 61,
   "metadata": {},
   "outputs": [],
   "source": [
    "using JuMP, GLPK\n",
    "using DataFrames\n",
    "using CSV\n",
    "using PrettyTables\n",
    "using Random"
   ]
  },
  {
   "cell_type": "code",
   "execution_count": 62,
   "metadata": {},
   "outputs": [],
   "source": [
    "# Load the data\n",
    "scenarios_df = CSV.read(\"../data/scenarios.csv\", DataFrame)\n",
    "\n",
    "n_scenarios = size(scenarios_df, 2)/3\n",
    "n_scenarios = convert(Int, n_scenarios)\n",
    "\n",
    "# create a dictonary with 200 dataframes for each scenario\n",
    "all_scenarios = Dict()\n",
    "for i in 1:n_scenarios\n",
    "    df_helper = DataFrame(scenarios_df[:,3*i-2:3*i])\n",
    "    df_helper[!,3] = df_helper[!,3] .* 1.0\n",
    "    rename!(df_helper, [:\"price\", :\"wind power\", :\"grid_excess\"])\n",
    "    all_scenarios[i] = df_helper\n",
    "end"
   ]
  },
  {
   "cell_type": "code",
   "execution_count": 63,
   "metadata": {},
   "outputs": [
    {
     "data": {
      "text/plain": [
       "0.95"
      ]
     },
     "metadata": {},
     "output_type": "display_data"
    }
   ],
   "source": [
    "W = 250\n",
    "hours = 24\n",
    "Random.seed!(123)\n",
    "selected_scenarios = rand(1:n_scenarios, W)\n",
    "\n",
    "scenarios = Dict()\n",
    "counter = 1\n",
    "for i in selected_scenarios\n",
    "    scenarios[counter] = all_scenarios[i]\n",
    "    counter += 1\n",
    "end\n",
    "\n",
    "beta = 0.99\n",
    "alpha = 0.95"
   ]
  },
  {
   "cell_type": "code",
   "execution_count": 64,
   "metadata": {},
   "outputs": [],
   "source": [
    "# Create a new model with GLPK solver\n",
    "model = Model(GLPK.Optimizer)\n",
    "\n",
    "# Define the decision variables for hour\n",
    "@variable(model, p_DA[1:hours])\n",
    "@variable(model, delta[1:W,1:hours])\n",
    "@variable(model, zeta)\n",
    "@variable(model, eta[1:W] >= 0)\n",
    "\n",
    "# Define the objective function\n",
    "@objective(model, Max, sum(1/W .*\n",
    "(scenarios[i][hour,\"price\"] * p_DA[hour]\n",
    "+ scenarios[i][hour,\"price\"] * delta[i, hour]*((0.9.*scenarios[i][hour,\"grid_excess\"]) + 1.2.*(1-scenarios[i][hour,\"grid_excess\"]))) for i in 1:W, hour in 1:hours)\n",
    "+ beta  * (zeta - (1/(1-alpha)) * sum(1/W .* eta[i] for i in 1:W)))\n",
    "\n",
    "# Define the constraints\n",
    "@constraint(model, [hour in 1:hours], p_DA[hour] <= 200)\n",
    "@constraint(model, [hour in 1:hours], p_DA[hour] >= 0)\n",
    "@constraint(model, [i in 1:W, hour in 1:hours], delta[i,hour] == scenarios[i][hour,\"wind power\"] - p_DA[hour])\n",
    "@constraint(model, [i in 1:W], -sum((scenarios[i][hour,\"price\"] * p_DA[hour]\n",
    "+ scenarios[i][hour,\"price\"] * delta[i, hour]*((0.9.*scenarios[i][hour,\"grid_excess\"]) + 1.2.*(1-scenarios[i][hour,\"grid_excess\"]))) for hour in 1:hours) + zeta - eta[i] <= 0)\n",
    "\n",
    "\n",
    "# Solve the optimization problem\n",
    "optimize!(model)\n",
    "\n",
    "exp_profit = sum(1/W .*\n",
    "(scenarios[i][hour,\"price\"] * value.(p_DA[hour])\n",
    "+ scenarios[i][hour,\"price\"] * value.(delta[i, hour])*((0.9.*scenarios[i][hour,\"grid_excess\"]) + 1.2.*(1-scenarios[i][hour,\"grid_excess\"]))) for i in 1:W, hour in 1:hours)\n",
    "\n",
    "CVaR = beta  * (zeta - (1/(1-alpha)) * sum(1/W .* eta[i] for i in 1:W))\n",
    "\n",
    "# Print the termination status\n",
    "status = termination_status(model)\n",
    "if status == MOI.OPTIMAL\n",
    "    println(\"Optimal solution found\")\n",
    "    \n",
    "    # RETURN OBJECTIVE value\n",
    "    println(\"Objective value: \", objective_value(model))\n",
    "    println(\"Expected profit: \", exp_profit)\n",
    "    println(\"CVaR: \", CVaR)\n",
    "else\n",
    "    println(\"No optimal solution found\")\n",
    "end"
   ]
  },
  {
   "cell_type": "code",
   "execution_count": 65,
   "metadata": {},
   "outputs": [],
   "source": [
    "println(\"p_DA: \", value.(p_DA))\n",
    "println(\"delta: \", value.(delta))"
   ]
  },
  {
   "cell_type": "code",
   "execution_count": 66,
   "metadata": {},
   "outputs": [],
   "source": [
    "# Initialize the DataFrame directly without dynamic column names\n",
    "result_df = DataFrame(hour = Int[], p_DA = Float64[])\n",
    "\n",
    "# make a table with the results\n",
    "for hour in 1:hours\n",
    "    push!(result_df, [hour, value(p_DA[hour])])\n",
    "end\n",
    "\n",
    "profit_df = DataFrame(scenario = Int[], profit = Float64[])\n",
    "\n",
    "for i in 1:W\n",
    "    profit = 0\n",
    "    for hour in 1:hours\n",
    "        profit += (scenarios[i][hour,\"price\"] * value(p_DA[hour])\n",
    "        + scenarios[i][hour,\"price\"] * value(delta[i, hour])*((0.9.*scenarios[i][hour,\"grid_excess\"]) + 1.2.*(1-scenarios[i][hour,\"grid_excess\"])))\n",
    "    end\n",
    "    push!(profit_df, [i, profit])\n",
    "end"
   ]
  },
  {
   "cell_type": "code",
   "execution_count": 67,
   "metadata": {},
   "outputs": [],
   "source": [
    "pretty_table(result_df, backend = Val(:latex))"
   ]
  }
 ],
 "metadata": {
  "kernelspec": {
   "display_name": "Julia 1.9.3",
   "language": "julia",
   "name": "julia-1.9"
  },
  "language_info": {
   "file_extension": ".jl",
   "mimetype": "application/julia",
   "name": "julia",
   "version": "1.9.3"
  }
 },
 "nbformat": 4,
 "nbformat_minor": 2
}
