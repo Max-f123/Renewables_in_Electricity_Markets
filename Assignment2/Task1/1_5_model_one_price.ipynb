{
 "cells": [
  {
   "cell_type": "code",
   "execution_count": 1,
   "metadata": {},
   "outputs": [],
   "source": [
    "import Pkg\n",
    "#Pkg.add(\"JuMP\")\n",
    "#Pkg.add(\"GLPK\")\n",
    "#Pkg.add(\"Gruobi\")\n",
    "#Pkg.add(\"DataFrames\")\n",
    "#Pkg.add(\"CSV\")\n",
    "#Pkg.add(\"PyCall\")"
   ]
  },
  {
   "cell_type": "code",
   "execution_count": 2,
   "metadata": {},
   "outputs": [],
   "source": [
    "using JuMP, GLPK\n",
    "using DataFrames\n",
    "using CSV\n",
    "using PrettyTables\n",
    "using Random"
   ]
  },
  {
   "cell_type": "code",
   "execution_count": 3,
   "metadata": {},
   "outputs": [],
   "source": [
    "# Load the data\n",
    "scenarios_df = CSV.read(\"../data/scenarios.csv\", DataFrame)\n",
    "\n",
    "n_scenarios = size(scenarios_df, 2)/3\n",
    "n_scenarios = convert(Int, n_scenarios)\n",
    "\n",
    "# create a dictonary with 200 dataframes for each scenario\n",
    "all_scenarios = Dict()\n",
    "for i in 1:n_scenarios\n",
    "    df_helper = DataFrame(scenarios_df[:,3*i-2:3*i])\n",
    "    df_helper[!,3] = df_helper[!,3] .* 1.0\n",
    "    rename!(df_helper, [:\"price\", :\"wind power\", :\"grid_excess\"])\n",
    "    all_scenarios[i] = df_helper\n",
    "end"
   ]
  },
  {
   "cell_type": "code",
   "execution_count": 4,
   "metadata": {},
   "outputs": [
    {
     "data": {
      "text/plain": [
       "Any[]"
      ]
     },
     "metadata": {},
     "output_type": "display_data"
    }
   ],
   "source": [
    "W = 250\n",
    "hours = 24\n",
    "\n",
    "insample_scenarios = Dict()\n",
    "out_of_sample_scenarios = Dict()\n",
    "seeds = [123,2,3,4,5,6,7,8,9,10]\n",
    "\n",
    "for seed in seeds\n",
    "    Random.seed!(seed)\n",
    "    selected_scenarios = rand(1:n_scenarios, W)\n",
    "    scenarios = Dict()\n",
    "    counter = 1\n",
    "    for i in selected_scenarios\n",
    "        scenarios[counter] = all_scenarios[i]\n",
    "        counter += 1\n",
    "    end\n",
    "    insample_scenarios[seed] = scenarios\n",
    "\n",
    "    # create the list of index of scenarios out of sample\n",
    "    out_of_sample = []\n",
    "    for i in 1:n_scenarios\n",
    "        if i ∉ selected_scenarios\n",
    "            push!(out_of_sample, i)\n",
    "        end\n",
    "    end\n",
    "\n",
    "    unselected_scenarios = Dict()\n",
    "    counter = 1\n",
    "    for i in out_of_sample\n",
    "        unselected_scenarios[counter] = all_scenarios[i]\n",
    "        counter += 1\n",
    "    end\n",
    "    out_of_sample_scenarios[seed] = unselected_scenarios\n",
    "end\n",
    "\n",
    "alpha = 0.9\n",
    "beta = 0.1\n",
    "objectiv_values = []\n",
    "exp_profits = []\n",
    "profits_in = []\n",
    "CVaR_values = []\n"
   ]
  },
  {
   "cell_type": "code",
   "execution_count": 5,
   "metadata": {},
   "outputs": [
    {
     "name": "stdout",
     "output_type": "stream",
     "text": [
      "Expected profit 151705.65829751402\n",
      "p_DA: [200.0, 0.0, 200.0, 200.0, 0.0, 200.0, 200.0, 0.0, 0.0, 200.0, 0.0, 0.0, 200.0, 200.0, 200.0, 200.0, 200.0, 200.0, -2.2737367544323206e-13, 200.0, 0.0, 0.0, 0.0, 200.0]\n",
      "Expected profit 154063.64361532073\n",
      "p_DA: [0.0, 0.0, 200.0, 200.0, 0.0, 200.0, 200.0, 0.0, 0.0, 200.0, 0.0, 0.0, 200.0, 200.0, 200.0, 200.0, 200.0, 200.0, 0.0, 200.0, 0.0, 0.0, 0.0, 200.0]\n",
      "Expected profit 149907.07158734958\n",
      "p_DA: [0.0, 0.0, 0.0, 0.0, 200.0, 0.0, 200.0, 0.0, 0.0, 200.0, 0.0, 0.0, 200.0, 0.0, 200.0, 0.0, 200.0, 200.0, 0.0, 200.0, 0.0, 200.0, 0.0, 200.0]\n",
      "Expected profit 157437.83042198804\n",
      "p_DA: [200.0, 0.0, 0.0, 0.0, 200.0, 197.05229261473679, 200.0, 0.0, 0.0, 200.0, 0.0, 0.0, 200.0, 0.0, 200.0, 0.0, 200.0, 200.0, 0.0, 200.0, 0.0, 200.0, 0.0, 200.0]\n",
      "Expected profit 144440.52291332762\n",
      "p_DA: [0.0, 0.0, 200.0, 200.0, 200.0, 0.0, 200.0, 0.0, 0.0, 200.0, 0.0, 0.0, 200.0, 0.0, 200.0, 56.08322919962296, 200.0, 200.0, 0.0, 200.0, 0.0, 200.0, 0.0, 200.0]\n",
      "Expected profit 155844.61906884852\n",
      "p_DA: [200.0, 0.0, 0.0, 0.0, 122.90209509584078, 200.0, 200.0, 0.0, 0.0, 200.0, 0.0, 0.0, 200.0, 200.0, 200.0, 200.0, 200.0, 200.0, 0.0, 200.0, 0.0, 200.0, 0.0, 200.0]\n",
      "Expected profit 151636.19957032832\n",
      "p_DA: [0.0, 0.0, 200.0, 195.35417241570448, 200.0, 0.0, 200.0, 0.0, 0.0, 200.0, 0.0, 0.0, 200.0, 0.0, 200.0, 0.0, 200.0, 200.0, 0.0, 200.0, 0.0, 200.0, 0.0, 200.0]\n",
      "Expected profit 151072.16566195982\n",
      "p_DA: [200.0, 0.0, 200.0, 200.0, 0.0, 200.0, 200.0, 0.0, 0.0, 200.0, 0.0, 0.0, 200.0, 200.0, 200.0, 200.0, 200.0, 200.0, 0.0, 200.0, 0.0, 0.0, 0.0, 200.0]\n",
      "Expected profit 146344.96971188462\n",
      "p_DA: [0.0, 0.0, 0.0, 0.0, 200.0, 200.0, 200.0, 0.0, 0.0, 200.0, 0.0, 0.0, 200.0, 0.0, 200.0, 0.0, 200.0, 200.0, 0.0, 200.0, 0.0, 200.0, 0.0, 200.0]\n",
      "Expected profit 155043.4126421925\n",
      "p_DA: [200.0, 0.0, 0.0, 0.0, 0.0, 200.0, 200.0, 0.0, 0.0, 200.0, 0.0, 0.0, 200.0, 200.0, 200.0, 200.0, 200.0, 200.0, 0.0, 200.0, 0.0, 0.0, 0.0, 200.0]\n"
     ]
    }
   ],
   "source": [
    "expected_profit_list = []\n",
    "#create df with seeds as column and add the p_DA_values for each seed and definec the columns\n",
    "bids_df = DataFrame()\n",
    "\n",
    "for seed in seeds[1:10]\n",
    "    scenarios = insample_scenarios[seed]\n",
    "\n",
    "    # Create a new model with GLPK solver\n",
    "    model = Model(GLPK.Optimizer)\n",
    "    unregister(model, :p_DA)\n",
    "\n",
    "    # Define the decision variables for hour\n",
    "    @variable(model, p_DA[1:hours])\n",
    "    @variable(model, delta[1:W,1:hours])\n",
    "    #@variable(model, delta_up[1:W,1:hours])\n",
    "    #@variable(model, delta_down[1:W,1:hours])\n",
    "    @variable(model, zeta)\n",
    "    @variable(model, eta[1:W] >= 0)\n",
    "\n",
    "    # Define the objective function\n",
    "    @objective(model, Max, (1-beta) * sum(1/W *\n",
    "    (scenarios[i][hour,\"price\"] * p_DA[hour]\n",
    "    + scenarios[i][hour,\"price\"] * delta[i, hour]*((0.9.*scenarios[i][hour,\"grid_excess\"]) + 1.2.*(1-scenarios[i][hour,\"grid_excess\"]))) for i in 1:W, hour in 1:hours)\n",
    "    + beta  * (zeta - (1/(1-alpha)) * sum(1/W * eta[i] for i in 1:W)))\n",
    "\n",
    "    # Define the constraints\n",
    "    @constraint(model, [hour in 1:hours], p_DA[hour] <= 200)\n",
    "    @constraint(model, [hour in 1:hours], p_DA[hour] >= 0)\n",
    "    @constraint(model, [i in 1:W, hour in 1:hours], delta[i,hour] == scenarios[i][hour,\"wind power\"] - p_DA[hour])\n",
    "    #@constraint(model, [i in 1:W, hour in 1:hours], delta[i,hour] == delta_up[i,hour] - delta_down[i,hour])\n",
    "    #@constraint(model, [i in 1:W, hour in 1:hours], delta_down[i,hour] >= 0)\n",
    "    #@constraint(model, [i in 1:W, hour in 1:hours], delta_down[i,hour] <= p_DA[hour])\n",
    "    #@constraint(model, [i in 1:W, hour in 1:hours], delta_up[i,hour] >= 0)\n",
    "    #@constraint(model, [i in 1:W, hour in 1:hours], delta_up[i,hour] + p_DA[hour] <= 200)\n",
    "\n",
    "    @constraint(model, [i in 1:W], eta[i] >= 0)\n",
    "    @constraint(model, [i in 1:W], -1 * sum((scenarios[i][hour,\"price\"] * p_DA[hour]\n",
    "    + scenarios[i][hour,\"price\"] * delta[i, hour]*((0.9.*scenarios[i][hour,\"grid_excess\"]) + 1.2.*(1-scenarios[i][hour,\"grid_excess\"]))) for hour in 1:hours) + zeta - eta[i] <= 0)\n",
    "\n",
    "\n",
    "\n",
    "    # Solve the optimization problem\n",
    "    optimize!(model)\n",
    "\n",
    "    # save the p_DA values\n",
    "    p_DA_values = value.(p_DA)\n",
    "\n",
    "    exp_profit = sum(1/W .*\n",
    "    (scenarios[i][hour,\"price\"] * value.(p_DA[hour])\n",
    "    + scenarios[i][hour,\"price\"] * value.(delta[i, hour])*((0.9.*scenarios[i][hour,\"grid_excess\"]) + 1.2.*(1-scenarios[i][hour,\"grid_excess\"]))) for i in 1:W, hour in 1:hours)\n",
    "\n",
    "\n",
    "    #println(model)\n",
    "\n",
    "    # Print the termination status\n",
    "    status = termination_status(model)\n",
    "    if status == MOI.OPTIMAL\n",
    "        println(\"Expected profit \", exp_profit)\n",
    "        println(\"p_DA: \", value.(p_DA))\n",
    "        #add the p_DA values to the df\n",
    "        bids_df[!, string(seed)] = value.(p_DA)\n",
    "        push!(expected_profit_list, exp_profit)\n",
    "        \n",
    "    else\n",
    "        println(\"No optimal solution found\")\n",
    "    end\n",
    "end"
   ]
  },
  {
   "cell_type": "code",
   "execution_count": 6,
   "metadata": {},
   "outputs": [
    {
     "data": {
      "text/plain": [
       "10-element Vector{Any}:\n",
       " 154973.35406540532\n",
       " 152818.98503445022\n",
       " 154847.13488706914\n",
       " 152656.1832165012\n",
       " 155001.67367857654\n",
       " 153198.14695217749\n",
       " 153220.76024095135\n",
       " 154282.024931861\n",
       " 154436.86554868685\n",
       " 153495.29826739506"
      ]
     },
     "metadata": {},
     "output_type": "display_data"
    }
   ],
   "source": [
    "\n",
    "W_new = n_scenarios - W\n",
    "hours = 24\n",
    "profits_list = []\n",
    "\n",
    "for seed in seeds[1:10]\n",
    "    unselected_scenarios = out_of_sample_scenarios[seed]\n",
    "    p_DA_values = value.(bids_df[!, string(seed)])\n",
    "    # calculate the expected profit for the out of sample scenarios\n",
    "    exp_profit = 0\n",
    "    for i in 1:W_new\n",
    "        profit_day = 0\n",
    "        for hour in 1:hours\n",
    "            profit = 0\n",
    "            profit += unselected_scenarios[i][hour,\"price\"] * p_DA_values[hour] # should the day ahead price be fixed to the first scenario? So instead of i, 1?\n",
    "            profit += unselected_scenarios[i][hour,\"price\"] * (unselected_scenarios[i][hour,\"wind power\"]-p_DA_values[hour])*((0.9.*unselected_scenarios[i][hour,\"grid_excess\"]) + 1.2.*(1-unselected_scenarios[i][hour,\"grid_excess\"]))\n",
    "            profit_day += profit\n",
    "        end\n",
    "        #push!(profits_out, profit_day)\n",
    "        exp_profit += profit_day\n",
    "    end\n",
    "    exp_profit = exp_profit / W_new\n",
    "    push!(profits_list, exp_profit)\n",
    "end\n",
    "\n",
    "profits_list"
   ]
  },
  {
   "cell_type": "code",
   "execution_count": 7,
   "metadata": {},
   "outputs": [
    {
     "data": {
      "text/html": [
       "<div><div style = \"float: left;\"><span>10×4 DataFrame</span></div><div style = \"clear: both;\"></div></div><div class = \"data-frame\" style = \"overflow-x: scroll;\"><table class = \"data-frame\" style = \"margin-bottom: 6px;\"><thead><tr class = \"header\"><th class = \"rowNumber\" style = \"font-weight: bold; text-align: right;\">Row</th><th style = \"text-align: left;\">seed</th><th style = \"text-align: left;\">expected_profit</th><th style = \"text-align: left;\">profit_out</th><th style = \"text-align: left;\">relative</th></tr><tr class = \"subheader headerLastRow\"><th class = \"rowNumber\" style = \"font-weight: bold; text-align: right;\"></th><th title = \"Int64\" style = \"text-align: left;\">Int64</th><th title = \"Any\" style = \"text-align: left;\">Any</th><th title = \"Any\" style = \"text-align: left;\">Any</th><th title = \"Float64\" style = \"text-align: left;\">Float64</th></tr></thead><tbody><tr><td class = \"rowNumber\" style = \"font-weight: bold; text-align: right;\">1</td><td style = \"text-align: right;\">123</td><td style = \"text-align: left;\">1.51706e5</td><td style = \"text-align: left;\">1.54973e5</td><td style = \"text-align: right;\">0.0215397</td></tr><tr><td class = \"rowNumber\" style = \"font-weight: bold; text-align: right;\">2</td><td style = \"text-align: right;\">2</td><td style = \"text-align: left;\">1.54064e5</td><td style = \"text-align: left;\">152819.0</td><td style = \"text-align: right;\">-0.00807886</td></tr><tr><td class = \"rowNumber\" style = \"font-weight: bold; text-align: right;\">3</td><td style = \"text-align: right;\">3</td><td style = \"text-align: left;\">1.49907e5</td><td style = \"text-align: left;\">1.54847e5</td><td style = \"text-align: right;\">0.0329542</td></tr><tr><td class = \"rowNumber\" style = \"font-weight: bold; text-align: right;\">4</td><td style = \"text-align: right;\">4</td><td style = \"text-align: left;\">1.57438e5</td><td style = \"text-align: left;\">1.52656e5</td><td style = \"text-align: right;\">-0.0303717</td></tr><tr><td class = \"rowNumber\" style = \"font-weight: bold; text-align: right;\">5</td><td style = \"text-align: right;\">5</td><td style = \"text-align: left;\">1.44441e5</td><td style = \"text-align: left;\">1.55002e5</td><td style = \"text-align: right;\">0.0731176</td></tr><tr><td class = \"rowNumber\" style = \"font-weight: bold; text-align: right;\">6</td><td style = \"text-align: right;\">6</td><td style = \"text-align: left;\">1.55845e5</td><td style = \"text-align: left;\">1.53198e5</td><td style = \"text-align: right;\">-0.0169815</td></tr><tr><td class = \"rowNumber\" style = \"font-weight: bold; text-align: right;\">7</td><td style = \"text-align: right;\">7</td><td style = \"text-align: left;\">1.51636e5</td><td style = \"text-align: left;\">1.53221e5</td><td style = \"text-align: right;\">0.0104498</td></tr><tr><td class = \"rowNumber\" style = \"font-weight: bold; text-align: right;\">8</td><td style = \"text-align: right;\">8</td><td style = \"text-align: left;\">1.51072e5</td><td style = \"text-align: left;\">154282.0</td><td style = \"text-align: right;\">0.0212472</td></tr><tr><td class = \"rowNumber\" style = \"font-weight: bold; text-align: right;\">9</td><td style = \"text-align: right;\">9</td><td style = \"text-align: left;\">146345.0</td><td style = \"text-align: left;\">1.54437e5</td><td style = \"text-align: right;\">0.0552933</td></tr><tr><td class = \"rowNumber\" style = \"font-weight: bold; text-align: right;\">10</td><td style = \"text-align: right;\">10</td><td style = \"text-align: left;\">1.55043e5</td><td style = \"text-align: left;\">1.53495e5</td><td style = \"text-align: right;\">-0.00998504</td></tr></tbody></table></div>"
      ],
      "text/latex": [
       "\\begin{tabular}{r|cccc}\n",
       "\t& seed & expected\\_profit & profit\\_out & relative\\\\\n",
       "\t\\hline\n",
       "\t& Int64 & Any & Any & Float64\\\\\n",
       "\t\\hline\n",
       "\t1 & 123 & 1.51706e5 & 1.54973e5 & 0.0215397 \\\\\n",
       "\t2 & 2 & 1.54064e5 & 152819.0 & -0.00807886 \\\\\n",
       "\t3 & 3 & 1.49907e5 & 1.54847e5 & 0.0329542 \\\\\n",
       "\t4 & 4 & 1.57438e5 & 1.52656e5 & -0.0303717 \\\\\n",
       "\t5 & 5 & 1.44441e5 & 1.55002e5 & 0.0731176 \\\\\n",
       "\t6 & 6 & 1.55845e5 & 1.53198e5 & -0.0169815 \\\\\n",
       "\t7 & 7 & 1.51636e5 & 1.53221e5 & 0.0104498 \\\\\n",
       "\t8 & 8 & 1.51072e5 & 154282.0 & 0.0212472 \\\\\n",
       "\t9 & 9 & 146345.0 & 1.54437e5 & 0.0552933 \\\\\n",
       "\t10 & 10 & 1.55043e5 & 1.53495e5 & -0.00998504 \\\\\n",
       "\\end{tabular}\n"
      ],
      "text/plain": [
       "\u001b[1m10×4 DataFrame\u001b[0m\n",
       "\u001b[1m Row \u001b[0m│\u001b[1m seed  \u001b[0m\u001b[1m expected_profit \u001b[0m\u001b[1m profit_out \u001b[0m\u001b[1m relative    \u001b[0m\n",
       "     │\u001b[90m Int64 \u001b[0m\u001b[90m Any             \u001b[0m\u001b[90m Any        \u001b[0m\u001b[90m Float64     \u001b[0m\n",
       "─────┼─────────────────────────────────────────────────\n",
       "   1 │   123  1.51706e5        1.54973e5    0.0215397\n",
       "   2 │     2  1.54064e5        152819.0    -0.00807886\n",
       "   3 │     3  1.49907e5        1.54847e5    0.0329542\n",
       "   4 │     4  1.57438e5        1.52656e5   -0.0303717\n",
       "   5 │     5  1.44441e5        1.55002e5    0.0731176\n",
       "   6 │     6  1.55845e5        1.53198e5   -0.0169815\n",
       "   7 │     7  1.51636e5        1.53221e5    0.0104498\n",
       "   8 │     8  1.51072e5        154282.0     0.0212472\n",
       "   9 │     9  146345.0         1.54437e5    0.0552933\n",
       "  10 │    10  1.55043e5        1.53495e5   -0.00998504"
      ]
     },
     "metadata": {},
     "output_type": "display_data"
    }
   ],
   "source": [
    "#make dataframe with the expected profits, profits_list\n",
    "df = DataFrame(seed = seeds[1:10], expected_profit = expected_profit_list, profit_out = profits_list)\n",
    "#make a relative column\n",
    "df[!, \"relative\"] = df[!,\"profit_out\"] ./ df[!,\"expected_profit\"].-1\n",
    "df"
   ]
  }
 ],
 "metadata": {
  "kernelspec": {
   "display_name": "Julia 1.9.3",
   "language": "julia",
   "name": "julia-1.9"
  },
  "language_info": {
   "file_extension": ".jl",
   "mimetype": "application/julia",
   "name": "julia",
   "version": "1.9.3"
  }
 },
 "nbformat": 4,
 "nbformat_minor": 2
}
