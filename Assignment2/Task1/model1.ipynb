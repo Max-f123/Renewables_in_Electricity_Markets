{
 "cells": [
  {
   "cell_type": "code",
   "execution_count": 1,
   "metadata": {},
   "outputs": [],
   "source": [
    "import Pkg\n",
    "#Pkg.add(\"JuMP\")\n",
    "#Pkg.add(\"GLPK\")\n",
    "#Pkg.add(\"Gruobi\")\n",
    "#Pkg.add(\"DataFrames\")\n",
    "#Pkg.add(\"CSV\")\n",
    "#Pkg.add(\"PyCall\")"
   ]
  },
  {
   "cell_type": "code",
   "execution_count": 2,
   "metadata": {},
   "outputs": [],
   "source": [
    "using JuMP, GLPK\n",
    "using DataFrames\n",
    "using CSV"
   ]
  },
  {
   "cell_type": "code",
   "execution_count": 3,
   "metadata": {},
   "outputs": [],
   "source": [
    "# Load the data\n",
    "scenarios_200 = CSV.read(\"../data/scenarios_200.csv\", DataFrame)\n",
    "\n",
    "# create a dictonary with 200 dataframes for each scenario\n",
    "scenarios = Dict()\n",
    "for i in 1:200\n",
    "    scenarios[i] = DataFrame(scenarios_200[:,3*i-2:3*i])\n",
    "end"
   ]
  },
  {
   "cell_type": "code",
   "execution_count": 4,
   "metadata": {},
   "outputs": [
    {
     "data": {
      "text/html": [
       "<div><div style = \"float: left;\"><span>24×3 DataFrame</span></div><div style = \"clear: both;\"></div></div><div class = \"data-frame\" style = \"overflow-x: scroll;\"><table class = \"data-frame\" style = \"margin-bottom: 6px;\"><thead><tr class = \"header\"><th class = \"rowNumber\" style = \"font-weight: bold; text-align: right;\">Row</th><th style = \"text-align: left;\">price_197</th><th style = \"text-align: left;\">wind power_197</th><th style = \"text-align: left;\">grid_excess_197</th></tr><tr class = \"subheader headerLastRow\"><th class = \"rowNumber\" style = \"font-weight: bold; text-align: right;\"></th><th title = \"Float64\" style = \"text-align: left;\">Float64</th><th title = \"Float64\" style = \"text-align: left;\">Float64</th><th title = \"Int64\" style = \"text-align: left;\">Int64</th></tr></thead><tbody><tr><td class = \"rowNumber\" style = \"font-weight: bold; text-align: right;\">1</td><td style = \"text-align: right;\">96.41</td><td style = \"text-align: right;\">1597.95</td><td style = \"text-align: right;\">1</td></tr><tr><td class = \"rowNumber\" style = \"font-weight: bold; text-align: right;\">2</td><td style = \"text-align: right;\">95.08</td><td style = \"text-align: right;\">1399.15</td><td style = \"text-align: right;\">1</td></tr><tr><td class = \"rowNumber\" style = \"font-weight: bold; text-align: right;\">3</td><td style = \"text-align: right;\">93.63</td><td style = \"text-align: right;\">1121.67</td><td style = \"text-align: right;\">0</td></tr><tr><td class = \"rowNumber\" style = \"font-weight: bold; text-align: right;\">4</td><td style = \"text-align: right;\">89.17</td><td style = \"text-align: right;\">927.533</td><td style = \"text-align: right;\">1</td></tr><tr><td class = \"rowNumber\" style = \"font-weight: bold; text-align: right;\">5</td><td style = \"text-align: right;\">88.97</td><td style = \"text-align: right;\">829.228</td><td style = \"text-align: right;\">1</td></tr><tr><td class = \"rowNumber\" style = \"font-weight: bold; text-align: right;\">6</td><td style = \"text-align: right;\">93.69</td><td style = \"text-align: right;\">792.45</td><td style = \"text-align: right;\">1</td></tr><tr><td class = \"rowNumber\" style = \"font-weight: bold; text-align: right;\">7</td><td style = \"text-align: right;\">100.5</td><td style = \"text-align: right;\">668.976</td><td style = \"text-align: right;\">0</td></tr><tr><td class = \"rowNumber\" style = \"font-weight: bold; text-align: right;\">8</td><td style = \"text-align: right;\">101.92</td><td style = \"text-align: right;\">326.361</td><td style = \"text-align: right;\">1</td></tr><tr><td class = \"rowNumber\" style = \"font-weight: bold; text-align: right;\">9</td><td style = \"text-align: right;\">101.95</td><td style = \"text-align: right;\">394.394</td><td style = \"text-align: right;\">0</td></tr><tr><td class = \"rowNumber\" style = \"font-weight: bold; text-align: right;\">10</td><td style = \"text-align: right;\">97.09</td><td style = \"text-align: right;\">594.167</td><td style = \"text-align: right;\">1</td></tr><tr><td class = \"rowNumber\" style = \"font-weight: bold; text-align: right;\">11</td><td style = \"text-align: right;\">75.62</td><td style = \"text-align: right;\">669.897</td><td style = \"text-align: right;\">0</td></tr><tr><td class = \"rowNumber\" style = \"font-weight: bold; text-align: right;\">12</td><td style = \"text-align: right;\">60.01</td><td style = \"text-align: right;\">636.17</td><td style = \"text-align: right;\">1</td></tr><tr><td class = \"rowNumber\" style = \"font-weight: bold; text-align: right;\">13</td><td style = \"text-align: right;\">34.9</td><td style = \"text-align: right;\">564.407</td><td style = \"text-align: right;\">0</td></tr><tr><td class = \"rowNumber\" style = \"font-weight: bold; text-align: right;\">14</td><td style = \"text-align: right;\">24.9</td><td style = \"text-align: right;\">533.202</td><td style = \"text-align: right;\">1</td></tr><tr><td class = \"rowNumber\" style = \"font-weight: bold; text-align: right;\">15</td><td style = \"text-align: right;\">13.88</td><td style = \"text-align: right;\">575.952</td><td style = \"text-align: right;\">0</td></tr><tr><td class = \"rowNumber\" style = \"font-weight: bold; text-align: right;\">16</td><td style = \"text-align: right;\">14.24</td><td style = \"text-align: right;\">752.251</td><td style = \"text-align: right;\">1</td></tr><tr><td class = \"rowNumber\" style = \"font-weight: bold; text-align: right;\">17</td><td style = \"text-align: right;\">20.74</td><td style = \"text-align: right;\">1157.54</td><td style = \"text-align: right;\">0</td></tr><tr><td class = \"rowNumber\" style = \"font-weight: bold; text-align: right;\">18</td><td style = \"text-align: right;\">34.32</td><td style = \"text-align: right;\">1996.95</td><td style = \"text-align: right;\">1</td></tr><tr><td class = \"rowNumber\" style = \"font-weight: bold; text-align: right;\">19</td><td style = \"text-align: right;\">66.5</td><td style = \"text-align: right;\">3006.75</td><td style = \"text-align: right;\">0</td></tr><tr><td class = \"rowNumber\" style = \"font-weight: bold; text-align: right;\">20</td><td style = \"text-align: right;\">90.92</td><td style = \"text-align: right;\">3714.72</td><td style = \"text-align: right;\">0</td></tr><tr><td class = \"rowNumber\" style = \"font-weight: bold; text-align: right;\">21</td><td style = \"text-align: right;\">96.56</td><td style = \"text-align: right;\">4218.65</td><td style = \"text-align: right;\">1</td></tr><tr><td class = \"rowNumber\" style = \"font-weight: bold; text-align: right;\">22</td><td style = \"text-align: right;\">96.77</td><td style = \"text-align: right;\">4150.43</td><td style = \"text-align: right;\">1</td></tr><tr><td class = \"rowNumber\" style = \"font-weight: bold; text-align: right;\">23</td><td style = \"text-align: right;\">91.87</td><td style = \"text-align: right;\">3947.7</td><td style = \"text-align: right;\">1</td></tr><tr><td class = \"rowNumber\" style = \"font-weight: bold; text-align: right;\">24</td><td style = \"text-align: right;\">87.39</td><td style = \"text-align: right;\">3802.81</td><td style = \"text-align: right;\">0</td></tr></tbody></table></div>"
      ],
      "text/latex": [
       "\\begin{tabular}{r|ccc}\n",
       "\t& price\\_197 & wind power\\_197 & grid\\_excess\\_197\\\\\n",
       "\t\\hline\n",
       "\t& Float64 & Float64 & Int64\\\\\n",
       "\t\\hline\n",
       "\t1 & 96.41 & 1597.95 & 1 \\\\\n",
       "\t2 & 95.08 & 1399.15 & 1 \\\\\n",
       "\t3 & 93.63 & 1121.67 & 0 \\\\\n",
       "\t4 & 89.17 & 927.533 & 1 \\\\\n",
       "\t5 & 88.97 & 829.228 & 1 \\\\\n",
       "\t6 & 93.69 & 792.45 & 1 \\\\\n",
       "\t7 & 100.5 & 668.976 & 0 \\\\\n",
       "\t8 & 101.92 & 326.361 & 1 \\\\\n",
       "\t9 & 101.95 & 394.394 & 0 \\\\\n",
       "\t10 & 97.09 & 594.167 & 1 \\\\\n",
       "\t11 & 75.62 & 669.897 & 0 \\\\\n",
       "\t12 & 60.01 & 636.17 & 1 \\\\\n",
       "\t13 & 34.9 & 564.407 & 0 \\\\\n",
       "\t14 & 24.9 & 533.202 & 1 \\\\\n",
       "\t15 & 13.88 & 575.952 & 0 \\\\\n",
       "\t16 & 14.24 & 752.251 & 1 \\\\\n",
       "\t17 & 20.74 & 1157.54 & 0 \\\\\n",
       "\t18 & 34.32 & 1996.95 & 1 \\\\\n",
       "\t19 & 66.5 & 3006.75 & 0 \\\\\n",
       "\t20 & 90.92 & 3714.72 & 0 \\\\\n",
       "\t21 & 96.56 & 4218.65 & 1 \\\\\n",
       "\t22 & 96.77 & 4150.43 & 1 \\\\\n",
       "\t23 & 91.87 & 3947.7 & 1 \\\\\n",
       "\t24 & 87.39 & 3802.81 & 0 \\\\\n",
       "\\end{tabular}\n"
      ],
      "text/plain": [
       "\u001b[1m24×3 DataFrame\u001b[0m\n",
       "\u001b[1m Row \u001b[0m│\u001b[1m price_197 \u001b[0m\u001b[1m wind power_197 \u001b[0m\u001b[1m grid_excess_197 \u001b[0m\n",
       "     │\u001b[90m Float64   \u001b[0m\u001b[90m Float64        \u001b[0m\u001b[90m Int64           \u001b[0m\n",
       "─────┼────────────────────────────────────────────\n",
       "   1 │     96.41        1597.95                 1\n",
       "   2 │     95.08        1399.15                 1\n",
       "   3 │     93.63        1121.67                 0\n",
       "   4 │     89.17         927.533                1\n",
       "   5 │     88.97         829.228                1\n",
       "   6 │     93.69         792.45                 1\n",
       "   7 │    100.5          668.976                0\n",
       "   8 │    101.92         326.361                1\n",
       "  ⋮  │     ⋮            ⋮                ⋮\n",
       "  18 │     34.32        1996.95                 1\n",
       "  19 │     66.5         3006.75                 0\n",
       "  20 │     90.92        3714.72                 0\n",
       "  21 │     96.56        4218.65                 1\n",
       "  22 │     96.77        4150.43                 1\n",
       "  23 │     91.87        3947.7                  1\n",
       "  24 │     87.39        3802.81                 0\n",
       "\u001b[36m                                    9 rows omitted\u001b[0m"
      ]
     },
     "metadata": {},
     "output_type": "display_data"
    }
   ],
   "source": [
    "scenarios[198]"
   ]
  },
  {
   "cell_type": "code",
   "execution_count": 5,
   "metadata": {},
   "outputs": [
    {
     "data": {
      "text/html": [
       "<div><div style = \"float: left;\"><span>0×2 DataFrame</span></div><div style = \"clear: both;\"></div></div><div class = \"data-frame\" style = \"overflow-x: scroll;\"><table class = \"data-frame\" style = \"margin-bottom: 6px;\"><thead><tr class = \"header\"><th class = \"rowNumber\" style = \"font-weight: bold; text-align: right;\">Row</th><th style = \"text-align: left;\">hour</th><th style = \"text-align: left;\">p_DA</th></tr><tr class = \"subheader headerLastRow\"><th class = \"rowNumber\" style = \"font-weight: bold; text-align: right;\"></th><th title = \"Int64\" style = \"text-align: left;\">Int64</th><th title = \"Float64\" style = \"text-align: left;\">Float64</th></tr></thead><tbody></tbody></table></div>"
      ],
      "text/latex": [
       "\\begin{tabular}{r|cc}\n",
       "\t& hour & p\\_DA\\\\\n",
       "\t\\hline\n",
       "\t& Int64 & Float64\\\\\n",
       "\t\\hline\n",
       "\\end{tabular}\n"
      ],
      "text/plain": [
       "\u001b[1m0×2 DataFrame\u001b[0m\n",
       "\u001b[1m Row \u001b[0m│\u001b[1m hour  \u001b[0m\u001b[1m p_DA    \u001b[0m\n",
       "     │\u001b[90m Int64 \u001b[0m\u001b[90m Float64 \u001b[0m\n",
       "─────┴────────────────"
      ]
     },
     "metadata": {},
     "output_type": "display_data"
    }
   ],
   "source": [
    "# Initialize the DataFrame directly without dynamic column names\n",
    "result_df = DataFrame(hour = Int[], p_DA = Float64[])"
   ]
  },
  {
   "cell_type": "code",
   "execution_count": 6,
   "metadata": {},
   "outputs": [
    {
     "ename": "ArgumentError",
     "evalue": "ArgumentError: column name \"price\" not found in the data frame; existing most similar names are: \"price_1\"",
     "output_type": "error",
     "traceback": [
      "ArgumentError: column name \"price\" not found in the data frame; existing most similar names are: \"price_1\"\n",
      "\n",
      "Stacktrace:\n",
      " [1] lookupname\n",
      "   @ C:\\Users\\janle\\.julia\\packages\\DataFrames\\58MUJ\\src\\other\\index.jl:416 [inlined]\n",
      " [2] getindex\n",
      "   @ C:\\Users\\janle\\.julia\\packages\\DataFrames\\58MUJ\\src\\other\\index.jl:422 [inlined]\n",
      " [3] getindex\n",
      "   @ C:\\Users\\janle\\.julia\\packages\\DataFrames\\58MUJ\\src\\other\\index.jl:423 [inlined]\n",
      " [4] getindex(df::DataFrame, row_ind::Int64, col_ind::String)\n",
      "   @ DataFrames C:\\Users\\janle\\.julia\\packages\\DataFrames\\58MUJ\\src\\dataframe\\dataframe.jl:522\n",
      " [5] macro expansion\n",
      "   @ C:\\Users\\janle\\.julia\\packages\\MutableArithmetics\\Zy1nV\\src\\rewrite.jl:322 [inlined]\n",
      " [6] macro expansion\n",
      "   @ C:\\Users\\janle\\.julia\\packages\\JuMP\\KiENn\\src\\macros.jl:1595 [inlined]\n",
      " [7] top-level scope\n",
      "   @ c:\\Users\\janle\\Desktop\\Master_local\\2\\renewables_in_electricity_markets\\Assignment2\\Task1\\model1.ipynb:11"
     ]
    }
   ],
   "source": [
    "# Create a new model with GLPK solver\n",
    "model = Model(GLPK.Optimizer)\n",
    "\n",
    "# Define the decision variables for hour\n",
    "@variable(model, p_DA[1:24] >= 0)\n",
    "@variable(model, delta[1:200,1:24])\n",
    "@variable(model, delta_up[1:200,1:24] >= 0)\n",
    "@variable(model, delta_down[1:200,1:24] >= 0)\n",
    "\n",
    "# Define the objective function\n",
    "@objective(model, Min, sum( sum( 1/200 * (scenarios[i][hour,\"price\"] * p_DA[hour] + 0.9*scenarios[i][hour,\"price\"]*delta_up[i,hour] - 1.2*scenarios[i][hour,\"price\"]*delta_down[i,hour]) for i in 1:200) for hour in 1:24))\n",
    "\n",
    "# Define the constraints\n",
    "@constraint(model, [hour in 1:24], p_DA[hour] <= 200)\n",
    "@constraint(model, [i in 1:200, hour in 1:24], delta[i,hour] = scenarios[i][hour,\"wind power\"] - p_DA[hour])\n",
    "@constraint(model, [i in 1:200, hour in 1:24], delta[i,hour] == delta_up[i,hour] - delta_down[i,hour])\n",
    "@constraint(model, [i in 1:200, hour in 1:24], delta_down[i,hour] >= 0)\n",
    "@constraint(model, [i in 1:200, hour in 1:24], delta_up[i,hour] >= 0)\n",
    "\n",
    "# Solve the optimization problem\n",
    "optimize!(model)\n",
    "\n",
    "# Check the status of the solution\n",
    "status = termination_status(model)\n",
    "if status == MOI.OPTIMAL\n",
    "    println(\"Optimal solution found\")\n",
    "    \n",
    "    # RETURN OBJECTIVE value\n",
    "    println(\"Objective value: \", objective_value(model))\n",
    "\n",
    "\n",
    "else\n",
    "    println(\"No optimal solution found\")\n",
    "end\n"
   ]
  }
 ],
 "metadata": {
  "kernelspec": {
   "display_name": "Julia 1.9.3",
   "language": "julia",
   "name": "julia-1.9"
  },
  "language_info": {
   "file_extension": ".jl",
   "mimetype": "application/julia",
   "name": "julia",
   "version": "1.9.3"
  }
 },
 "nbformat": 4,
 "nbformat_minor": 2
}
