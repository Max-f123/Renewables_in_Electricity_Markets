{
 "cells": [
  {
   "cell_type": "code",
   "execution_count": 62,
   "metadata": {},
   "outputs": [],
   "source": [
    "import Pkg\n",
    "#Pkg.add(\"JuMP\")\n",
    "#Pkg.add(\"GLPK\")\n",
    "#Pkg.add(\"Gruobi\")\n",
    "#Pkg.add(\"DataFrames\")\n",
    "#Pkg.add(\"CSV\")\n",
    "#Pkg.add(\"PyCall\")"
   ]
  },
  {
   "cell_type": "code",
   "execution_count": 63,
   "metadata": {},
   "outputs": [],
   "source": [
    "using JuMP, GLPK\n",
    "using DataFrames\n",
    "using CSV\n",
    "using PrettyTables\n",
    "using Random"
   ]
  },
  {
   "cell_type": "code",
   "execution_count": 64,
   "metadata": {},
   "outputs": [],
   "source": [
    "# Load the data\n",
    "scenarios_df = CSV.read(\"../data/scenarios.csv\", DataFrame)\n",
    "\n",
    "n_scenarios = size(scenarios_df, 2)/3\n",
    "n_scenarios = convert(Int, n_scenarios)\n",
    "\n",
    "# create a dictonary with 200 dataframes for each scenario\n",
    "all_scenarios = Dict()\n",
    "for i in 1:n_scenarios\n",
    "    df_helper = DataFrame(scenarios_df[:,3*i-2:3*i])\n",
    "    df_helper[!,3] = df_helper[!,3] .* 1.0\n",
    "    rename!(df_helper, [:\"price\", :\"wind power\", :\"grid_excess\"])\n",
    "    all_scenarios[i] = df_helper\n",
    "end"
   ]
  },
  {
   "cell_type": "code",
   "execution_count": 65,
   "metadata": {},
   "outputs": [
    {
     "data": {
      "text/plain": [
       "Any[]"
      ]
     },
     "metadata": {},
     "output_type": "display_data"
    }
   ],
   "source": [
    "W = 600\n",
    "hours = 24\n",
    "\n",
    "insample_scenarios = Dict()\n",
    "out_of_sample_scenarios = Dict()\n",
    "seeds = [123,2,3,4,5,6,7,8,9,10]\n",
    "\n",
    "for seed in seeds\n",
    "    Random.seed!(seed)\n",
    "    selected_scenarios = rand(1:n_scenarios, W)\n",
    "    scenarios = Dict()\n",
    "    counter = 1\n",
    "    for i in selected_scenarios\n",
    "        scenarios[counter] = all_scenarios[i]\n",
    "        counter += 1\n",
    "    end\n",
    "    insample_scenarios[seed] = scenarios\n",
    "\n",
    "    # create the list of index of scenarios out of sample\n",
    "    out_of_sample = []\n",
    "    for i in 1:n_scenarios\n",
    "        if i ∉ selected_scenarios\n",
    "            push!(out_of_sample, i)\n",
    "        end\n",
    "    end\n",
    "\n",
    "    unselected_scenarios = Dict()\n",
    "    counter = 1\n",
    "    for i in out_of_sample\n",
    "        unselected_scenarios[counter] = all_scenarios[i]\n",
    "        counter += 1\n",
    "    end\n",
    "    out_of_sample_scenarios[seed] = unselected_scenarios\n",
    "end\n",
    "\n",
    "alpha = 0.9\n",
    "beta = 0.1\n",
    "objectiv_values = []\n",
    "exp_profits = []\n",
    "profits_in = []\n",
    "CVaR_values = []\n"
   ]
  },
  {
   "cell_type": "code",
   "execution_count": 66,
   "metadata": {},
   "outputs": [
    {
     "name": "stdout",
     "output_type": "stream",
     "text": [
      "Expected profit 137801.8567580831\n",
      "p_DA: [22.33724183870968, 14.389693451612905, 15.949935451612903, 15.687870887096777, 9.242903161290323, 7.841935483870968, 145.9269354516129, 2.7339112741935483, 1.1038967741935486, 146.94499998387096, 0.7919354838709678, 0.7419306451612904, 142.91516125806453, 22.673644935483868, 135.9887096612903, 22.37141930645161, 146.0248386935484, 149.60145158064518, 5.493548387096774, 152.74596772580645, 4.493516129032258, 14.784612903225804, 6.808774177419355, 149.57870966129033]\n",
      "Expected profit 134945.4736386281\n",
      "p_DA: [22.33724183870968, 14.389693451612905, 15.949935451612903, 13.469580564516129, 9.242903161290323, 7.841935483870132, 145.9269354516129, 2.7339112741935483, 1.1038967741935486, 146.94499998387096, 0.7919354838709678, 0.7419306451612904, 142.91516125806453, 17.20006443548387, 135.9887096612903, 19.107161209677415, 146.0248386935484, 149.60145158064518, 5.493548387096774, 152.74596772580645, 4.493516129032258, 14.784612903225804, 6.808774177419355, 149.57870966129033]\n",
      "Expected profit 132877.61592973446\n",
      "p_DA: [22.33724183870968, 14.389693451612905, 16.245967693548387, 21.93790314516129, 13.57685472580645, 5.90827414516129, 145.9269354516129, 2.7339112741935483, 1.1038967741935486, 146.94499998387096, 0.7919354838709678, 0.7419306451612904, 142.91516125806453, 1.167741935483871, 135.9887096612903, 11.538677403225806, 146.0248386935484, 149.60145158064518, 5.493548387096774, 152.74596772580645, 4.493516129032258, 22.11446772580645, 6.808774177419355, 149.57870966129033]\n",
      "Expected profit 132155.34637706587\n",
      "p_DA: [22.33724183870968, 14.389693451612905, 15.949935451612903, 13.469580564516129, 9.242903161290323, 7.841935483870968, 145.9269354516129, 2.7339112741935483, 1.1038967741935486, 146.94499998387096, 0.7919354838709678, 0.7419306451612904, 142.91516125806453, 1.167741935483871, 135.9887096612903, 13.44699985483871, 146.0248386935484, 149.60145158064518, 5.493548387096774, 152.74596772580645, 4.493516129032258, 16.500016064516128, 6.808774177419355, 149.57870966129033]\n",
      "Expected profit 127228.43110337929\n",
      "p_DA: [22.33724183870968, 14.389693451612905, 15.949935451612903, 13.469580564516129, 9.242903161290323, 7.841935483870968, 145.9269354516129, 2.7339112741935483, 1.1038967741935486, 146.94499998387096, 0.7919354838709678, 0.7419306451612904, 142.91516125806453, 17.20006443548387, 135.9887096612903, 13.44699985483871, 146.0248386935484, 149.60145158064518, 5.493548387096774, 152.74596772580645, 4.493516129032258, 16.500016064516128, 6.808774177419355, 149.57870966129033]\n",
      "Expected profit 132361.7690704567\n",
      "p_DA: [22.33724183870968, 14.389693451612905, 15.949935451612903, 13.469580564516129, 9.242903161290323, 7.841935483870968, 145.9269354516129, 2.7339112741935483, 1.1038967741935486, 146.94499998387096, 0.7919354838709678, 0.7419306451612904, 142.91516125806453, 20.37838693548387, 135.9887096612903, 22.37141930645161, 146.0248386935484, 149.60145158064518, 5.493548387096774, 152.74596772580645, 4.493516129032258, 14.784612903225804, 6.808774177419355, 149.57870966129033]\n",
      "Expected profit 132034.62006213196\n",
      "p_DA: [22.33724183870968, 14.389693451612905, 15.949935451612903, 13.469580564516129, 13.684112806451612, 6.538096677419354, 145.9269354516129, 2.7339112741935483, 1.1038967741935486, 146.94499998387096, 0.7919354838709678, 0.7419306451612904, 142.91516125806453, 1.167741935483871, 135.9887096612903, 11.538677403225806, 146.0248386935484, 149.60145158064518, 5.493548387096774, 152.74596772580645, 4.493516129032258, 30.522817498249854, 6.808774177419355, 149.57870966129033]\n",
      "Expected profit 135587.34646443187\n",
      "p_DA: [22.33724183870968, 14.389693451612905, 15.949935451612903, 13.469580564516129, 9.242903161290323, 5.90827414516129, 145.9269354516129, 2.7339112741935483, 1.1038967741935486, 146.94499998387096, 0.7919354838709678, 0.7419306451612904, 142.91516125806453, 1.167741935483871, 135.9887096612903, 11.538677403225806, 146.0248386935484, 149.60145158064518, 5.493548387096774, 152.74596772580645, 4.493516129032258, 4.803145161290321, 6.808774177419355, 149.57870966129033]\n",
      "Expected profit 128502.42331612592\n",
      "p_DA: [22.33724183870968, 14.389693451612905, 16.245967693548387, 21.93790314516129, 9.242903161290323, 6.538096677419354, 145.9269354516129, 2.7339112741935483, 1.1038967741935415, 146.94499998387096, 0.7919354838709678, 0.7419306451612904, 142.91516125806453, 20.37838693548387, 135.9887096612903, 22.37141930645161, 146.0248386935484, 149.60145158064518, 5.493548387096774, 152.74596772580645, 4.493516129032258, 14.784612903225804, 6.808774177419355, 149.57870966129033]\n",
      "Expected profit 129001.06580471463\n",
      "p_DA: [22.33724183870968, 14.389693451612905, 15.949935451612903, 13.469580564516129, 13.57685472580645, 7.841935483870968, 145.9269354516129, 2.7339112741935483, 1.1038967741935557, 146.94499998387096, 0.7919354838709678, 0.7419306451612904, 142.91516125806453, 17.20006443548387, 135.9887096612903, 18.560605180147014, 146.0248386935484, 149.60145158064518, 5.493548387096774, 152.74596772580645, 4.493516129032258, 22.11446772580645, 6.808774177419355, 149.57870966129033]\n"
     ]
    }
   ],
   "source": [
    "expected_profit_list = []\n",
    "#create df with seeds as column and add the p_DA_values for each seed and definec the columns\n",
    "bids_df = DataFrame()\n",
    "\n",
    "for seed in seeds[1:10]\n",
    "    scenarios = insample_scenarios[seed]\n",
    "\n",
    "    # Create a new model with GLPK solver\n",
    "    model = Model(GLPK.Optimizer)\n",
    "    unregister(model, :p_DA)\n",
    "\n",
    "    # Define the decision variables for hour\n",
    "    @variable(model, p_DA[1:hours])\n",
    "    @variable(model, delta[1:W,1:hours])\n",
    "    @variable(model, delta_up[1:W,1:hours])\n",
    "    @variable(model, delta_down[1:W,1:hours])\n",
    "    @variable(model, zeta)\n",
    "    @variable(model, eta[1:W] >= 0)\n",
    "\n",
    "    # Define the objective function\n",
    "    @objective(model, Max, (1-beta) *  sum(1/W*(scenarios[i][hour,\"price\"] * p_DA[hour]\n",
    "        + delta_up[i,hour] * scenarios[i][hour,\"price\"] * (scenarios[i][hour,\"grid_excess\"]*0.9 + (1-scenarios[i][hour,\"grid_excess\"])*1)\n",
    "        - delta_down[i,hour] * scenarios[i][hour,\"price\"] * (scenarios[i][hour,\"grid_excess\"]*1 + (1-scenarios[i][hour,\"grid_excess\"])*1.2)\n",
    "        + beta  * (zeta - (1/(1-alpha)) * sum(1/W * eta[i] for i in 1:W))) for i in 1:W, hour in 1:hours))\n",
    "\n",
    "    # Define the constraints\n",
    "    @constraint(model, [hour in 1:hours], p_DA[hour] <= 200)\n",
    "    @constraint(model, [hour in 1:hours], p_DA[hour] >= 0)\n",
    "    @constraint(model, [i in 1:W, hour in 1:hours], delta[i,hour] == scenarios[i][hour,\"wind power\"] - p_DA[hour])\n",
    "    @constraint(model, [i in 1:W, hour in 1:hours], delta[i,hour] == delta_up[i,hour] - delta_down[i,hour])\n",
    "    @constraint(model, [i in 1:W, hour in 1:hours], delta_down[i,hour] >= 0)\n",
    "    #@constraint(model, [i in 1:W, hour in 1:hours], delta_down[i,hour] <= p_DA[hour])\n",
    "    @constraint(model, [i in 1:W, hour in 1:hours], delta_up[i,hour] >= 0)\n",
    "    #@constraint(model, [i in 1:W, hour in 1:hours], delta_up[i,hour] + p_DA[hour] <= 200)\n",
    "\n",
    "    @constraint(model, [i in 1:W], -1 * sum(scenarios[i][hour,\"price\"] * p_DA[hour]\n",
    "    + delta_up[i,hour] * scenarios[i][hour,\"price\"] * (scenarios[i][hour,\"grid_excess\"]*0.9 + (1-scenarios[i][hour,\"grid_excess\"])*1)\n",
    "    - delta_down[i,hour] * scenarios[i][hour,\"price\"] * (scenarios[i][hour,\"grid_excess\"]*1 + (1-scenarios[i][hour,\"grid_excess\"])*1.2) for hour in 1:hours) + zeta - eta[i] <= 0)\n",
    "\n",
    "\n",
    "\n",
    "    # Solve the optimization problem\n",
    "    optimize!(model)\n",
    "\n",
    "    # save the p_DA values\n",
    "    p_DA_values = value.(p_DA)\n",
    "\n",
    "    exp_profit = value.(sum(1/W.*(scenarios[i][hour,\"price\"] * p_DA[hour]\n",
    "        + delta_up[i,hour] * scenarios[i][hour,\"price\"] * (scenarios[i][hour,\"grid_excess\"]*0.9 + (1-scenarios[i][hour,\"grid_excess\"])*1)\n",
    "        - delta_down[i,hour] * scenarios[i][hour,\"price\"] * (scenarios[i][hour,\"grid_excess\"]*1 + (1-scenarios[i][hour,\"grid_excess\"])*1.2) for i in 1:W, hour in 1:hours)))\n",
    "\n",
    "\n",
    "    #println(model)\n",
    "\n",
    "    # Print the termination status\n",
    "    status = termination_status(model)\n",
    "    if status == MOI.OPTIMAL\n",
    "        println(\"Expected profit \", exp_profit)\n",
    "        println(\"p_DA: \", value.(p_DA))\n",
    "        #add the p_DA values to the df\n",
    "        bids_df[!, string(seed)] = value.(p_DA)\n",
    "        push!(expected_profit_list, exp_profit)\n",
    "        \n",
    "    else\n",
    "        println(\"No optimal solution found\")\n",
    "    end\n",
    "end"
   ]
  },
  {
   "cell_type": "code",
   "execution_count": 67,
   "metadata": {},
   "outputs": [
    {
     "data": {
      "text/plain": [
       "10-element Vector{Any}:\n",
       " 133303.78676766064\n",
       " 133920.15080374118\n",
       " 137348.73054559453\n",
       " 141082.29327233657\n",
       " 138651.2300567204\n",
       " 138719.00981495762\n",
       " 137651.3109400352\n",
       " 137557.49607588377\n",
       " 140489.38028757318\n",
       " 138571.21130827494"
      ]
     },
     "metadata": {},
     "output_type": "display_data"
    }
   ],
   "source": [
    "\n",
    "W_new = n_scenarios - W\n",
    "hours = 24\n",
    "profits_list = []\n",
    "\n",
    "for seed in seeds[1:10]\n",
    "    unselected_scenarios = out_of_sample_scenarios[seed]\n",
    "    p_DA_values = value.(bids_df[!, string(seed)])\n",
    "    # calculate the expected profit for the out of sample scenarios\n",
    "    exp_profit = 0\n",
    "    for i in 1:W_new\n",
    "        profit_day = 0\n",
    "        for hour in 1:hours\n",
    "            profit = 0\n",
    "            profit += unselected_scenarios[i][hour,\"price\"] * p_DA_values[hour] # should the day ahead price be fixed to the first scenario? So instead of i, 1?\n",
    "            if unselected_scenarios[i][hour,\"wind power\"] > p_DA_values[hour]\n",
    "                profit += unselected_scenarios[i][hour,\"price\"] * (unselected_scenarios[i][hour,\"wind power\"] - p_DA_values[hour]) * (unselected_scenarios[i][hour,\"grid_excess\"]*0.9 + (1-unselected_scenarios[i][hour,\"grid_excess\"])*1)\n",
    "            else\n",
    "                profit -= unselected_scenarios[i][hour,\"price\"] * (p_DA_values[hour] - unselected_scenarios[i][hour,\"wind power\"]) * (unselected_scenarios[i][hour,\"grid_excess\"]*1 + (1-unselected_scenarios[i][hour,\"grid_excess\"])*1.2)\n",
    "            end\n",
    "            profit_day += profit\n",
    "        end\n",
    "        push!(profits_out, profit_day)\n",
    "        exp_profit += profit_day\n",
    "    end\n",
    "    exp_profit = exp_profit / W_new\n",
    "    push!(profits_list, exp_profit)\n",
    "end\n",
    "\n",
    "profits_list"
   ]
  },
  {
   "cell_type": "code",
   "execution_count": 68,
   "metadata": {},
   "outputs": [
    {
     "data": {
      "text/html": [
       "<div><div style = \"float: left;\"><span>10×4 DataFrame</span></div><div style = \"clear: both;\"></div></div><div class = \"data-frame\" style = \"overflow-x: scroll;\"><table class = \"data-frame\" style = \"margin-bottom: 6px;\"><thead><tr class = \"header\"><th class = \"rowNumber\" style = \"font-weight: bold; text-align: right;\">Row</th><th style = \"text-align: left;\">seed</th><th style = \"text-align: left;\">expected_profit</th><th style = \"text-align: left;\">profit_out</th><th style = \"text-align: left;\">relative</th></tr><tr class = \"subheader headerLastRow\"><th class = \"rowNumber\" style = \"font-weight: bold; text-align: right;\"></th><th title = \"Int64\" style = \"text-align: left;\">Int64</th><th title = \"Any\" style = \"text-align: left;\">Any</th><th title = \"Any\" style = \"text-align: left;\">Any</th><th title = \"Float64\" style = \"text-align: left;\">Float64</th></tr></thead><tbody><tr><td class = \"rowNumber\" style = \"font-weight: bold; text-align: right;\">1</td><td style = \"text-align: right;\">123</td><td style = \"text-align: left;\">1.37802e5</td><td style = \"text-align: left;\">1.33304e5</td><td style = \"text-align: right;\">-0.0326416</td></tr><tr><td class = \"rowNumber\" style = \"font-weight: bold; text-align: right;\">2</td><td style = \"text-align: right;\">2</td><td style = \"text-align: left;\">1.34945e5</td><td style = \"text-align: left;\">1.3392e5</td><td style = \"text-align: right;\">-0.00759805</td></tr><tr><td class = \"rowNumber\" style = \"font-weight: bold; text-align: right;\">3</td><td style = \"text-align: right;\">3</td><td style = \"text-align: left;\">1.32878e5</td><td style = \"text-align: left;\">1.37349e5</td><td style = \"text-align: right;\">0.0336484</td></tr><tr><td class = \"rowNumber\" style = \"font-weight: bold; text-align: right;\">4</td><td style = \"text-align: right;\">4</td><td style = \"text-align: left;\">1.32155e5</td><td style = \"text-align: left;\">1.41082e5</td><td style = \"text-align: right;\">0.0675489</td></tr><tr><td class = \"rowNumber\" style = \"font-weight: bold; text-align: right;\">5</td><td style = \"text-align: right;\">5</td><td style = \"text-align: left;\">1.27228e5</td><td style = \"text-align: left;\">1.38651e5</td><td style = \"text-align: right;\">0.0897818</td></tr><tr><td class = \"rowNumber\" style = \"font-weight: bold; text-align: right;\">6</td><td style = \"text-align: right;\">6</td><td style = \"text-align: left;\">1.32362e5</td><td style = \"text-align: left;\">138719.0</td><td style = \"text-align: right;\">0.0480293</td></tr><tr><td class = \"rowNumber\" style = \"font-weight: bold; text-align: right;\">7</td><td style = \"text-align: right;\">7</td><td style = \"text-align: left;\">1.32035e5</td><td style = \"text-align: left;\">1.37651e5</td><td style = \"text-align: right;\">0.0425395</td></tr><tr><td class = \"rowNumber\" style = \"font-weight: bold; text-align: right;\">8</td><td style = \"text-align: right;\">8</td><td style = \"text-align: left;\">1.35587e5</td><td style = \"text-align: left;\">1.37557e5</td><td style = \"text-align: right;\">0.0145305</td></tr><tr><td class = \"rowNumber\" style = \"font-weight: bold; text-align: right;\">9</td><td style = \"text-align: right;\">9</td><td style = \"text-align: left;\">1.28502e5</td><td style = \"text-align: left;\">1.40489e5</td><td style = \"text-align: right;\">0.093282</td></tr><tr><td class = \"rowNumber\" style = \"font-weight: bold; text-align: right;\">10</td><td style = \"text-align: right;\">10</td><td style = \"text-align: left;\">1.29001e5</td><td style = \"text-align: left;\">1.38571e5</td><td style = \"text-align: right;\">0.0741866</td></tr></tbody></table></div>"
      ],
      "text/latex": [
       "\\begin{tabular}{r|cccc}\n",
       "\t& seed & expected\\_profit & profit\\_out & relative\\\\\n",
       "\t\\hline\n",
       "\t& Int64 & Any & Any & Float64\\\\\n",
       "\t\\hline\n",
       "\t1 & 123 & 1.37802e5 & 1.33304e5 & -0.0326416 \\\\\n",
       "\t2 & 2 & 1.34945e5 & 1.3392e5 & -0.00759805 \\\\\n",
       "\t3 & 3 & 1.32878e5 & 1.37349e5 & 0.0336484 \\\\\n",
       "\t4 & 4 & 1.32155e5 & 1.41082e5 & 0.0675489 \\\\\n",
       "\t5 & 5 & 1.27228e5 & 1.38651e5 & 0.0897818 \\\\\n",
       "\t6 & 6 & 1.32362e5 & 138719.0 & 0.0480293 \\\\\n",
       "\t7 & 7 & 1.32035e5 & 1.37651e5 & 0.0425395 \\\\\n",
       "\t8 & 8 & 1.35587e5 & 1.37557e5 & 0.0145305 \\\\\n",
       "\t9 & 9 & 1.28502e5 & 1.40489e5 & 0.093282 \\\\\n",
       "\t10 & 10 & 1.29001e5 & 1.38571e5 & 0.0741866 \\\\\n",
       "\\end{tabular}\n"
      ],
      "text/plain": [
       "\u001b[1m10×4 DataFrame\u001b[0m\n",
       "\u001b[1m Row \u001b[0m│\u001b[1m seed  \u001b[0m\u001b[1m expected_profit \u001b[0m\u001b[1m profit_out \u001b[0m\u001b[1m relative    \u001b[0m\n",
       "     │\u001b[90m Int64 \u001b[0m\u001b[90m Any             \u001b[0m\u001b[90m Any        \u001b[0m\u001b[90m Float64     \u001b[0m\n",
       "─────┼─────────────────────────────────────────────────\n",
       "   1 │   123  1.37802e5        1.33304e5   -0.0326416\n",
       "   2 │     2  1.34945e5        1.3392e5    -0.00759805\n",
       "   3 │     3  1.32878e5        1.37349e5    0.0336484\n",
       "   4 │     4  1.32155e5        1.41082e5    0.0675489\n",
       "   5 │     5  1.27228e5        1.38651e5    0.0897818\n",
       "   6 │     6  1.32362e5        138719.0     0.0480293\n",
       "   7 │     7  1.32035e5        1.37651e5    0.0425395\n",
       "   8 │     8  1.35587e5        1.37557e5    0.0145305\n",
       "   9 │     9  1.28502e5        1.40489e5    0.093282\n",
       "  10 │    10  1.29001e5        1.38571e5    0.0741866"
      ]
     },
     "metadata": {},
     "output_type": "display_data"
    }
   ],
   "source": [
    "#make dataframe with the expected profits, profits_list\n",
    "df = DataFrame(seed = seeds[1:10], expected_profit = expected_profit_list, profit_out = profits_list)\n",
    "#make a relative column\n",
    "df[!, \"relative\"] = df[!,\"profit_out\"] ./ df[!,\"expected_profit\"].-1\n",
    "df"
   ]
  }
 ],
 "metadata": {
  "kernelspec": {
   "display_name": "Julia 1.9.3",
   "language": "julia",
   "name": "julia-1.9"
  },
  "language_info": {
   "file_extension": ".jl",
   "mimetype": "application/julia",
   "name": "julia",
   "version": "1.9.3"
  }
 },
 "nbformat": 4,
 "nbformat_minor": 2
}
