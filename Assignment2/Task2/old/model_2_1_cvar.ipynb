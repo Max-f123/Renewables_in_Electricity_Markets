{
 "cells": [
  {
   "cell_type": "code",
   "execution_count": 7,
   "metadata": {},
   "outputs": [],
   "source": [
    "using JuMP, GLPK\n",
    "using DataFrames\n",
    "using CSV\n",
    "using PrettyTables\n",
    "using Random"
   ]
  },
  {
   "cell_type": "code",
   "execution_count": 8,
   "metadata": {},
   "outputs": [
    {
     "data": {
      "text/plain": [
       "125"
      ]
     },
     "metadata": {},
     "output_type": "display_data"
    }
   ],
   "source": [
    "scenarios_df = CSV.read(\"load_profiles.csv\", DataFrame)\n",
    "n_scenarios = size(scenarios_df, 2)\n",
    "in_sample_n = 125"
   ]
  },
  {
   "cell_type": "code",
   "execution_count": 9,
   "metadata": {},
   "outputs": [
    {
     "name": "stdout",
     "output_type": "stream",
     "text": [
      "Optimal solution cap_bid: 285.86367935399085\n"
     ]
    }
   ],
   "source": [
    "\n",
    "# Create a new model with GLPK solver\n",
    "model = Model(GLPK.Optimizer)\n",
    "\n",
    "@variable(model, cap_bid)\n",
    "@variable(model, beta <= 0)\n",
    "@variable(model, theta[1:60, 1:in_sample_n])\n",
    "\n",
    "@constraint(model, cap_bid >= 0)\n",
    "\n",
    "for scenario in 1:in_sample_n\n",
    "    for minute in 1:60\n",
    "        @constraint(model, cap_bid - scenarios_df[minute, scenario] <= theta[minute, scenario])\n",
    "        @constraint(model, beta <= theta[minute, scenario])\n",
    "    end\n",
    "end\n",
    "@constraint(model, (1/(60*in_sample_n))*sum(theta[minute, scenario] for scenario in 1:in_sample_n, minute in 1:60) <= 0.9*beta) \n",
    "\n",
    "# Define the objective function\n",
    "@objective(model, Max, cap_bid)\n",
    "\n",
    "# Solve the model\n",
    "optimize!(model)\n",
    "\n",
    "# Check the status of the solution\n",
    "status = termination_status(model)\n",
    "if status == MOI.OPTIMAL\n",
    "    #println(\"Optimal solution found\")\n",
    "    println(\"Optimal solution cap_bid: \", value(cap_bid))\n",
    "elseif status == MOI.INFEASIBLE\n",
    "    println(\"No feasible solution found\")\n",
    "else\n",
    "    println(\"Solver status: \", status)\n",
    "end"
   ]
  }
 ],
 "metadata": {
  "kernelspec": {
   "display_name": "Julia 1.9.3",
   "language": "julia",
   "name": "julia-1.9"
  },
  "language_info": {
   "file_extension": ".jl",
   "mimetype": "application/julia",
   "name": "julia",
   "version": "1.9.3"
  }
 },
 "nbformat": 4,
 "nbformat_minor": 2
}
