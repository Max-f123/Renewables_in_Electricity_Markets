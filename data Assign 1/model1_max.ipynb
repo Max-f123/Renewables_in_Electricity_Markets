{
 "cells": [
  {
   "cell_type": "code",
   "execution_count": 72,
   "metadata": {},
   "outputs": [],
   "source": [
    "using JuMP, GLPK\n",
    "using DataFrames\n",
    "using CSV"
   ]
  },
  {
   "cell_type": "code",
   "execution_count": 73,
   "metadata": {},
   "outputs": [
    {
     "data": {
      "text/html": [
       "<div><div style = \"float: left;\"><span>34×4 DataFrame</span></div><div style = \"float: right;\"><span style = \"font-style: italic;\">9 rows omitted</span></div><div style = \"clear: both;\"></div></div><div class = \"data-frame\" style = \"overflow-x: scroll;\"><table class = \"data-frame\" style = \"margin-bottom: 6px;\"><thead><tr class = \"header\"><th class = \"rowNumber\" style = \"font-weight: bold; text-align: right;\">Row</th><th style = \"text-align: left;\">Transmission lines: From node</th><th style = \"text-align: left;\">To node</th><th style = \"text-align: left;\"> Susceptance [per-unit]</th><th style = \"text-align: left;\"> Capacity [MW]</th></tr><tr class = \"subheader headerLastRow\"><th class = \"rowNumber\" style = \"font-weight: bold; text-align: right;\"></th><th title = \"Int64\" style = \"text-align: left;\">Int64</th><th title = \"Int64\" style = \"text-align: left;\">Int64</th><th title = \"String7\" style = \"text-align: left;\">String7</th><th title = \"Int64\" style = \"text-align: left;\">Int64</th></tr></thead><tbody><tr><td class = \"rowNumber\" style = \"font-weight: bold; text-align: right;\">1</td><td style = \"text-align: right;\">1</td><td style = \"text-align: right;\">2</td><td style = \"text-align: left;\">0.0146</td><td style = \"text-align: right;\">175</td></tr><tr><td class = \"rowNumber\" style = \"font-weight: bold; text-align: right;\">2</td><td style = \"text-align: right;\">1</td><td style = \"text-align: right;\">3</td><td style = \"text-align: left;\">0.2253</td><td style = \"text-align: right;\">175</td></tr><tr><td class = \"rowNumber\" style = \"font-weight: bold; text-align: right;\">3</td><td style = \"text-align: right;\">1</td><td style = \"text-align: right;\">5</td><td style = \"text-align: left;\">0.0907</td><td style = \"text-align: right;\">350</td></tr><tr><td class = \"rowNumber\" style = \"font-weight: bold; text-align: right;\">4</td><td style = \"text-align: right;\">2</td><td style = \"text-align: right;\">4</td><td style = \"text-align: left;\">0.1356</td><td style = \"text-align: right;\">175</td></tr><tr><td class = \"rowNumber\" style = \"font-weight: bold; text-align: right;\">5</td><td style = \"text-align: right;\">2</td><td style = \"text-align: right;\">6</td><td style = \"text-align: left;\">0.205</td><td style = \"text-align: right;\">175</td></tr><tr><td class = \"rowNumber\" style = \"font-weight: bold; text-align: right;\">6</td><td style = \"text-align: right;\">3</td><td style = \"text-align: right;\">9</td><td style = \"text-align: left;\">0.1271</td><td style = \"text-align: right;\">175</td></tr><tr><td class = \"rowNumber\" style = \"font-weight: bold; text-align: right;\">7</td><td style = \"text-align: right;\">3</td><td style = \"text-align: right;\">24</td><td style = \"text-align: left;\">0.084</td><td style = \"text-align: right;\">400</td></tr><tr><td class = \"rowNumber\" style = \"font-weight: bold; text-align: right;\">8</td><td style = \"text-align: right;\">4</td><td style = \"text-align: right;\">9</td><td style = \"text-align: left;\">0.111</td><td style = \"text-align: right;\">175</td></tr><tr><td class = \"rowNumber\" style = \"font-weight: bold; text-align: right;\">9</td><td style = \"text-align: right;\">5</td><td style = \"text-align: right;\">10</td><td style = \"text-align: left;\">0.094</td><td style = \"text-align: right;\">350</td></tr><tr><td class = \"rowNumber\" style = \"font-weight: bold; text-align: right;\">10</td><td style = \"text-align: right;\">6</td><td style = \"text-align: right;\">10</td><td style = \"text-align: left;\">0.0642</td><td style = \"text-align: right;\">175</td></tr><tr><td class = \"rowNumber\" style = \"font-weight: bold; text-align: right;\">11</td><td style = \"text-align: right;\">7</td><td style = \"text-align: right;\">8</td><td style = \"text-align: left;\">0.0652</td><td style = \"text-align: right;\">350</td></tr><tr><td class = \"rowNumber\" style = \"font-weight: bold; text-align: right;\">12</td><td style = \"text-align: right;\">8</td><td style = \"text-align: right;\">9</td><td style = \"text-align: left;\">0.1762</td><td style = \"text-align: right;\">175</td></tr><tr><td class = \"rowNumber\" style = \"font-weight: bold; text-align: right;\">13</td><td style = \"text-align: right;\">8</td><td style = \"text-align: right;\">10</td><td style = \"text-align: left;\">0.1762</td><td style = \"text-align: right;\">175</td></tr><tr><td style = \"text-align: right;\">&vellip;</td><td style = \"text-align: right;\">&vellip;</td><td style = \"text-align: right;\">&vellip;</td><td style = \"text-align: right;\">&vellip;</td><td style = \"text-align: right;\">&vellip;</td></tr><tr><td class = \"rowNumber\" style = \"font-weight: bold; text-align: right;\">23</td><td style = \"text-align: right;\">14</td><td style = \"text-align: right;\">16</td><td style = \"text-align: left;\">594</td><td style = \"text-align: right;\">250</td></tr><tr><td class = \"rowNumber\" style = \"font-weight: bold; text-align: right;\">24</td><td style = \"text-align: right;\">15</td><td style = \"text-align: right;\">16</td><td style = \"text-align: left;\">172</td><td style = \"text-align: right;\">500</td></tr><tr><td class = \"rowNumber\" style = \"font-weight: bold; text-align: right;\">25</td><td style = \"text-align: right;\">15</td><td style = \"text-align: right;\">21</td><td style = \"text-align: left;\">249</td><td style = \"text-align: right;\">400</td></tr><tr><td class = \"rowNumber\" style = \"font-weight: bold; text-align: right;\">26</td><td style = \"text-align: right;\">15</td><td style = \"text-align: right;\">24</td><td style = \"text-align: left;\">529</td><td style = \"text-align: right;\">500</td></tr><tr><td class = \"rowNumber\" style = \"font-weight: bold; text-align: right;\">27</td><td style = \"text-align: right;\">16</td><td style = \"text-align: right;\">17</td><td style = \"text-align: left;\">263</td><td style = \"text-align: right;\">500</td></tr><tr><td class = \"rowNumber\" style = \"font-weight: bold; text-align: right;\">28</td><td style = \"text-align: right;\">16</td><td style = \"text-align: right;\">19</td><td style = \"text-align: left;\">234</td><td style = \"text-align: right;\">500</td></tr><tr><td class = \"rowNumber\" style = \"font-weight: bold; text-align: right;\">29</td><td style = \"text-align: right;\">17</td><td style = \"text-align: right;\">18</td><td style = \"text-align: left;\">143</td><td style = \"text-align: right;\">500</td></tr><tr><td class = \"rowNumber\" style = \"font-weight: bold; text-align: right;\">30</td><td style = \"text-align: right;\">17</td><td style = \"text-align: right;\">22</td><td style = \"text-align: left;\">1,069</td><td style = \"text-align: right;\">500</td></tr><tr><td class = \"rowNumber\" style = \"font-weight: bold; text-align: right;\">31</td><td style = \"text-align: right;\">18</td><td style = \"text-align: right;\">21</td><td style = \"text-align: left;\">132</td><td style = \"text-align: right;\">1000</td></tr><tr><td class = \"rowNumber\" style = \"font-weight: bold; text-align: right;\">32</td><td style = \"text-align: right;\">19</td><td style = \"text-align: right;\">20</td><td style = \"text-align: left;\">203</td><td style = \"text-align: right;\">1000</td></tr><tr><td class = \"rowNumber\" style = \"font-weight: bold; text-align: right;\">33</td><td style = \"text-align: right;\">20</td><td style = \"text-align: right;\">23</td><td style = \"text-align: left;\">112</td><td style = \"text-align: right;\">1000</td></tr><tr><td class = \"rowNumber\" style = \"font-weight: bold; text-align: right;\">34</td><td style = \"text-align: right;\">21</td><td style = \"text-align: right;\">22</td><td style = \"text-align: left;\">692</td><td style = \"text-align: right;\">500</td></tr></tbody></table></div>"
      ],
      "text/latex": [
       "\\begin{tabular}{r|cccc}\n",
       "\t& Transmission lines: From node & To node &  Susceptance [per-unit] &  Capacity [MW]\\\\\n",
       "\t\\hline\n",
       "\t& Int64 & Int64 & String7 & Int64\\\\\n",
       "\t\\hline\n",
       "\t1 & 1 & 2 & 0.0146 & 175 \\\\\n",
       "\t2 & 1 & 3 & 0.2253 & 175 \\\\\n",
       "\t3 & 1 & 5 & 0.0907 & 350 \\\\\n",
       "\t4 & 2 & 4 & 0.1356 & 175 \\\\\n",
       "\t5 & 2 & 6 & 0.205 & 175 \\\\\n",
       "\t6 & 3 & 9 & 0.1271 & 175 \\\\\n",
       "\t7 & 3 & 24 & 0.084 & 400 \\\\\n",
       "\t8 & 4 & 9 & 0.111 & 175 \\\\\n",
       "\t9 & 5 & 10 & 0.094 & 350 \\\\\n",
       "\t10 & 6 & 10 & 0.0642 & 175 \\\\\n",
       "\t11 & 7 & 8 & 0.0652 & 350 \\\\\n",
       "\t12 & 8 & 9 & 0.1762 & 175 \\\\\n",
       "\t13 & 8 & 10 & 0.1762 & 175 \\\\\n",
       "\t14 & 9 & 11 & 0.084 & 400 \\\\\n",
       "\t15 & 9 & 12 & 0.084 & 400 \\\\\n",
       "\t16 & 10 & 11 & 0.084 & 400 \\\\\n",
       "\t17 & 10 & 12 & 0.084 & 400 \\\\\n",
       "\t18 & 11 & 13 & 488 & 500 \\\\\n",
       "\t19 & 11 & 14 & 426 & 500 \\\\\n",
       "\t20 & 12 & 13 & 488 & 500 \\\\\n",
       "\t21 & 12 & 23 & 985 & 500 \\\\\n",
       "\t22 & 13 & 23 & 884 & 250 \\\\\n",
       "\t23 & 14 & 16 & 594 & 250 \\\\\n",
       "\t24 & 15 & 16 & 172 & 500 \\\\\n",
       "\t$\\dots$ & $\\dots$ & $\\dots$ & $\\dots$ & $\\dots$ \\\\\n",
       "\\end{tabular}\n"
      ],
      "text/plain": [
       "\u001b[1m34×4 DataFrame\u001b[0m\n",
       "\u001b[1m Row \u001b[0m│\u001b[1m Transmission lines: From node \u001b[0m\u001b[1m To node \u001b[0m\u001b[1m  Susceptance [per-unit] \u001b[0m\u001b[1m  Capac\u001b[0m ⋯\n",
       "     │\u001b[90m Int64                         \u001b[0m\u001b[90m Int64   \u001b[0m\u001b[90m String7                 \u001b[0m\u001b[90m Int64 \u001b[0m ⋯\n",
       "─────┼──────────────────────────────────────────────────────────────────────────\n",
       "   1 │                             1        2  0.0146                          ⋯\n",
       "   2 │                             1        3  0.2253\n",
       "   3 │                             1        5  0.0907\n",
       "   4 │                             2        4  0.1356\n",
       "   5 │                             2        6  0.205                           ⋯\n",
       "   6 │                             3        9  0.1271\n",
       "   7 │                             3       24  0.084\n",
       "   8 │                             4        9  0.111\n",
       "  ⋮  │               ⋮                   ⋮                ⋮                    ⋱\n",
       "  28 │                            16       19  234                             ⋯\n",
       "  29 │                            17       18  143\n",
       "  30 │                            17       22  1,069\n",
       "  31 │                            18       21  132\n",
       "  32 │                            19       20  203                             ⋯\n",
       "  33 │                            20       23  112\n",
       "  34 │                            21       22  692\n",
       "\u001b[36m                                                    1 column and 19 rows omitted\u001b[0m"
      ]
     },
     "metadata": {},
     "output_type": "display_data"
    }
   ],
   "source": [
    "##Creation of the Input DataFrames\n",
    "\n",
    "#load demand data\n",
    "Demands = CSV.File(\"../data Assign 1/Demands.csv\") |> DataFrame\n",
    "\n",
    "#load conventional generators data\n",
    "Conv_gen = CSV.File(\"../data Assign 1/Conventional_generators.csv\") |> DataFrame\n",
    "\n",
    "#load wind farms data\n",
    "Wind_farms = CSV.File(\"../data Assign 1/Wind_farms.csv\") |> DataFrame\n",
    "\n",
    "#load transmission lines data\n",
    "Trans_lines = CSV.File(\"../data Assign 1/transmission_lines.csv\") |> DataFrame"
   ]
  },
  {
   "cell_type": "code",
   "execution_count": 74,
   "metadata": {},
   "outputs": [],
   "source": [
    "##Definition of the Result DataFrames\n",
    "\n",
    "# Definition of the Main result DataFrame\n",
    "main_result = DataFrame(hour = Int[], social_welfare = Float64[], market_price = Float64[])\n",
    "\n",
    "# Initialize the Demand DataFrame directly without dynamic column names\n",
    "details_results_demand = DataFrame(hour = Int[], total_demand = Float64[])\n",
    "# For x variables, manually add each column. This is a one-time setup.\n",
    "for i in 1:size(Demands, 1)\n",
    "    details_results_demand[!, Symbol(\"demand_n°$i\")] = Float64[]\n",
    "end\n",
    "\n",
    "# Initialize the Supply DataFrame directly without dynamic column names\n",
    "details_results_supply = DataFrame(hour = Int[], total_supply = Float64[])\n",
    "# For x variables, manually add each column. This is a one-time setup.\n",
    "for i in 1:size(Conv_gen, 1)\n",
    "    details_results_supply[!, Symbol(\"supply_n°$i\")] = Float64[]\n",
    "end\n",
    "for i in size(Conv_gen, 1):(size(Conv_gen, 1)+size(Wind_farms, 1))\n",
    "    details_results_supply[!, Symbol(\"supply_n°$i\")] = Float64[]\n",
    "end\n"
   ]
  },
  {
   "cell_type": "code",
   "execution_count": 75,
   "metadata": {},
   "outputs": [
    {
     "data": {
      "text/plain": [
       "A JuMP Model\n",
       "Feasibility problem with:\n",
       "Variables: 0\n",
       "Model mode: AUTOMATIC\n",
       "CachingOptimizer state: EMPTY_OPTIMIZER\n",
       "Solver name: GLPK"
      ]
     },
     "metadata": {},
     "output_type": "display_data"
    }
   ],
   "source": [
    "##Definition of the model\n",
    "\n",
    "# Create a new model with GLPK solver\n",
    "model = Model(GLPK.Optimizer)\n"
   ]
  },
  {
   "cell_type": "code",
   "execution_count": 76,
   "metadata": {},
   "outputs": [],
   "source": [
    "##Computation of the optimization problem for every hour\n",
    "\n",
    "#for hour in 1:24\n",
    "    # Define the decision variables for every supply and every demand\n",
    "    unregister(model, :x)  # Unregister the existing variable named \"x\" from the model\n",
    "    @variable(model, x[1:size(Conv_gen, 1) + size(Wind_farms, 1) + size(Demands, 1)])  # Create the new variables\n",
    "\n",
    "    for i in 1:size(Conv_gen, 1)\n",
    "        set_lower_bound(x[i], 0)  # Set the lower bound\n",
    "        set_upper_bound(x[i], Conv_gen[i,6])  # Set the upper bound\n",
    "    end\n",
    "    for i in (size(Conv_gen, 1) + 1):(size(Conv_gen, 1)+size(Wind_farms, 1))\n",
    "        set_lower_bound(x[i], 0)  # Set the lower bound\n",
    "        set_upper_bound(x[i], Wind_farms[i - size(Conv_gen, 1),4])  # Set the upper bound\n",
    "    end\n",
    "    for i in (size(Conv_gen, 1)+size(Wind_farms, 1) + 1):(size(Conv_gen, 1) + size(Wind_farms, 1) + size(Demands, 1))\n",
    "        set_lower_bound(x[i], 0)  # Set the lower bound\n",
    "        set_upper_bound(x[i], Demands[i - size(Conv_gen, 1) - size(Wind_farms, 1),3])  # Set the upper bound\n",
    "    end\n",
    "\n",
    "    # Define the objective function\n",
    "    @objective(model, Min, \n",
    "    - (sum(Demands[demand,4] * x[demand + size(Conv_gen, 1) + size(Wind_farms, 1)] for demand in 1:size(Demands,1))\n",
    "    - (sum(Conv_gen[generator,3] * x[generator] for generator in 1:size(Conv_gen,1))\n",
    "    + sum( 0 * x[generator + size(Conv_gen,1)] for generator in 1:size(Wind_farms,1)))))\n",
    "\n",
    "     # Add the equilibrium constraint\n",
    "     @constraint(model, sum(x[generator] for generator in 1:size(Conv_gen,1)+size(Wind_farms,1)) == sum(x[demand + size(Conv_gen, 1) + size(Wind_farms, 1)] for demand in 1:size(Demands,1)))\n",
    "\n",
    "    # Print the model\n",
    "    #print(model)\n",
    "\n",
    "    # Solve the model\n",
    "    optimize!(model)\n",
    "\n",
    "\n",
    "    "
   ]
  },
  {
   "cell_type": "code",
   "execution_count": null,
   "metadata": {},
   "outputs": [],
   "source": [
    "TBC"
   ]
  },
  {
   "cell_type": "code",
   "execution_count": null,
   "metadata": {},
   "outputs": [],
   "source": []
  },
  {
   "cell_type": "code",
   "execution_count": null,
   "metadata": {},
   "outputs": [],
   "source": []
  },
  {
   "cell_type": "code",
   "execution_count": null,
   "metadata": {},
   "outputs": [],
   "source": [
    "    # Define the objective function\n",
    "    @objective(model, Min, sum(cost[generator,2] * x[generator] for generator in 1:size(cost,1)))\n",
    "\n",
    "    # Add the equilibrium constraint\n",
    "    @constraint(model, sum(x[generator] for generator in 1:size(cost,1)) == demand[hour,2])\n",
    "\n",
    "    # Print the model\n",
    "    #print(model)\n",
    "\n",
    "    # Solve the model\n",
    "    optimize!(model)\n",
    "\n",
    "    # Check the status of the solution\n",
    "    status = termination_status(model)\n",
    "    if status == MOI.OPTIMAL\n",
    "        println(\"Hour \", hour, \": Optimal solution found\")\n",
    "\n",
    "        # Assuming 'model' and 'x' are properly defined and 'hour' is known\n",
    "        new_row = [hour, objective_value(model)]\n",
    "        append!(new_row, [value(x[i]) for i in 1:size(cost, 1)]) # Simplifies adding x values\n",
    "\n",
    "        push!(result_df, new_row)\n",
    "\n",
    "    elseif status == MOI.INFEASIBLE\n",
    "        println(\"Hour \", hour, \": No feasible solution found\")\n",
    "    else\n",
    "        println(\"Hour \", hour, \": Solver status: \", status)\n",
    "    end\n",
    "end\n",
    "\n"
   ]
  },
  {
   "cell_type": "code",
   "execution_count": 21,
   "metadata": {},
   "outputs": [
    {
     "data": {
      "text/html": [
       "<div><div style = \"float: left;\"><span>24×14 DataFrame</span></div><div style = \"clear: both;\"></div></div><div class = \"data-frame\" style = \"overflow-x: scroll;\"><table class = \"data-frame\" style = \"margin-bottom: 6px;\"><thead><tr class = \"header\"><th class = \"rowNumber\" style = \"font-weight: bold; text-align: right;\">Row</th><th style = \"text-align: left;\">hour</th><th style = \"text-align: left;\">objective_value</th><th style = \"text-align: left;\">x1</th><th style = \"text-align: left;\">x2</th><th style = \"text-align: left;\">x3</th><th style = \"text-align: left;\">x4</th><th style = \"text-align: left;\">x5</th><th style = \"text-align: left;\">x6</th><th style = \"text-align: left;\">x7</th><th style = \"text-align: left;\">x8</th><th style = \"text-align: left;\">x9</th><th style = \"text-align: left;\">x10</th><th style = \"text-align: left;\">x11</th><th style = \"text-align: left;\">x12</th></tr><tr class = \"subheader headerLastRow\"><th class = \"rowNumber\" style = \"font-weight: bold; text-align: right;\"></th><th title = \"Int64\" style = \"text-align: left;\">Int64</th><th title = \"Float64\" style = \"text-align: left;\">Float64</th><th title = \"Float64\" style = \"text-align: left;\">Float64</th><th title = \"Float64\" style = \"text-align: left;\">Float64</th><th title = \"Float64\" style = \"text-align: left;\">Float64</th><th title = \"Float64\" style = \"text-align: left;\">Float64</th><th title = \"Float64\" style = \"text-align: left;\">Float64</th><th title = \"Float64\" style = \"text-align: left;\">Float64</th><th title = \"Float64\" style = \"text-align: left;\">Float64</th><th title = \"Float64\" style = \"text-align: left;\">Float64</th><th title = \"Float64\" style = \"text-align: left;\">Float64</th><th title = \"Float64\" style = \"text-align: left;\">Float64</th><th title = \"Float64\" style = \"text-align: left;\">Float64</th><th title = \"Float64\" style = \"text-align: left;\">Float64</th></tr></thead><tbody><tr><td class = \"rowNumber\" style = \"font-weight: bold; text-align: right;\">1</td><td style = \"text-align: right;\">1</td><td style = \"text-align: right;\">15192.9</td><td style = \"text-align: right;\">30.4</td><td style = \"text-align: right;\">30.4</td><td style = \"text-align: right;\">75.0</td><td style = \"text-align: right;\">206.85</td><td style = \"text-align: right;\">12.0</td><td style = \"text-align: right;\">54.25</td><td style = \"text-align: right;\">54.25</td><td style = \"text-align: right;\">364.185</td><td style = \"text-align: right;\">400.0</td><td style = \"text-align: right;\">300.0</td><td style = \"text-align: right;\">108.5</td><td style = \"text-align: right;\">140.0</td></tr><tr><td class = \"rowNumber\" style = \"font-weight: bold; text-align: right;\">2</td><td style = \"text-align: right;\">2</td><td style = \"text-align: right;\">14554.6</td><td style = \"text-align: right;\">30.4</td><td style = \"text-align: right;\">30.4</td><td style = \"text-align: right;\">75.0</td><td style = \"text-align: right;\">206.85</td><td style = \"text-align: right;\">12.0</td><td style = \"text-align: right;\">54.25</td><td style = \"text-align: right;\">54.25</td><td style = \"text-align: right;\">258.165</td><td style = \"text-align: right;\">400.0</td><td style = \"text-align: right;\">300.0</td><td style = \"text-align: right;\">108.5</td><td style = \"text-align: right;\">140.0</td></tr><tr><td class = \"rowNumber\" style = \"font-weight: bold; text-align: right;\">3</td><td style = \"text-align: right;\">3</td><td style = \"text-align: right;\">14076.0</td><td style = \"text-align: right;\">30.4</td><td style = \"text-align: right;\">30.4</td><td style = \"text-align: right;\">75.0</td><td style = \"text-align: right;\">206.85</td><td style = \"text-align: right;\">12.0</td><td style = \"text-align: right;\">54.25</td><td style = \"text-align: right;\">54.25</td><td style = \"text-align: right;\">178.65</td><td style = \"text-align: right;\">400.0</td><td style = \"text-align: right;\">300.0</td><td style = \"text-align: right;\">108.5</td><td style = \"text-align: right;\">140.0</td></tr><tr><td class = \"rowNumber\" style = \"font-weight: bold; text-align: right;\">4</td><td style = \"text-align: right;\">4</td><td style = \"text-align: right;\">13916.4</td><td style = \"text-align: right;\">30.4</td><td style = \"text-align: right;\">30.4</td><td style = \"text-align: right;\">75.0</td><td style = \"text-align: right;\">206.85</td><td style = \"text-align: right;\">12.0</td><td style = \"text-align: right;\">54.25</td><td style = \"text-align: right;\">54.25</td><td style = \"text-align: right;\">152.145</td><td style = \"text-align: right;\">400.0</td><td style = \"text-align: right;\">300.0</td><td style = \"text-align: right;\">108.5</td><td style = \"text-align: right;\">140.0</td></tr><tr><td class = \"rowNumber\" style = \"font-weight: bold; text-align: right;\">5</td><td style = \"text-align: right;\">5</td><td style = \"text-align: right;\">13916.4</td><td style = \"text-align: right;\">30.4</td><td style = \"text-align: right;\">30.4</td><td style = \"text-align: right;\">75.0</td><td style = \"text-align: right;\">206.85</td><td style = \"text-align: right;\">12.0</td><td style = \"text-align: right;\">54.25</td><td style = \"text-align: right;\">54.25</td><td style = \"text-align: right;\">152.145</td><td style = \"text-align: right;\">400.0</td><td style = \"text-align: right;\">300.0</td><td style = \"text-align: right;\">108.5</td><td style = \"text-align: right;\">140.0</td></tr><tr><td class = \"rowNumber\" style = \"font-weight: bold; text-align: right;\">6</td><td style = \"text-align: right;\">6</td><td style = \"text-align: right;\">14076.0</td><td style = \"text-align: right;\">30.4</td><td style = \"text-align: right;\">30.4</td><td style = \"text-align: right;\">75.0</td><td style = \"text-align: right;\">206.85</td><td style = \"text-align: right;\">12.0</td><td style = \"text-align: right;\">54.25</td><td style = \"text-align: right;\">54.25</td><td style = \"text-align: right;\">178.65</td><td style = \"text-align: right;\">400.0</td><td style = \"text-align: right;\">300.0</td><td style = \"text-align: right;\">108.5</td><td style = \"text-align: right;\">140.0</td></tr><tr><td class = \"rowNumber\" style = \"font-weight: bold; text-align: right;\">7</td><td style = \"text-align: right;\">7</td><td style = \"text-align: right;\">16983.5</td><td style = \"text-align: right;\">30.4</td><td style = \"text-align: right;\">30.4</td><td style = \"text-align: right;\">75.0</td><td style = \"text-align: right;\">206.85</td><td style = \"text-align: right;\">12.0</td><td style = \"text-align: right;\">155.0</td><td style = \"text-align: right;\">103.22</td><td style = \"text-align: right;\">400.0</td><td style = \"text-align: right;\">400.0</td><td style = \"text-align: right;\">300.0</td><td style = \"text-align: right;\">108.5</td><td style = \"text-align: right;\">140.0</td></tr><tr><td class = \"rowNumber\" style = \"font-weight: bold; text-align: right;\">8</td><td style = \"text-align: right;\">8</td><td style = \"text-align: right;\">20353.5</td><td style = \"text-align: right;\">30.4</td><td style = \"text-align: right;\">30.4</td><td style = \"text-align: right;\">75.0</td><td style = \"text-align: right;\">206.85</td><td style = \"text-align: right;\">12.0</td><td style = \"text-align: right;\">155.0</td><td style = \"text-align: right;\">155.0</td><td style = \"text-align: right;\">400.0</td><td style = \"text-align: right;\">400.0</td><td style = \"text-align: right;\">300.0</td><td style = \"text-align: right;\">310.0</td><td style = \"text-align: right;\">204.78</td></tr><tr><td class = \"rowNumber\" style = \"font-weight: bold; text-align: right;\">9</td><td style = \"text-align: right;\">9</td><td style = \"text-align: right;\">23178.0</td><td style = \"text-align: right;\">30.4</td><td style = \"text-align: right;\">123.725</td><td style = \"text-align: right;\">75.0</td><td style = \"text-align: right;\">206.85</td><td style = \"text-align: right;\">12.0</td><td style = \"text-align: right;\">155.0</td><td style = \"text-align: right;\">155.0</td><td style = \"text-align: right;\">400.0</td><td style = \"text-align: right;\">400.0</td><td style = \"text-align: right;\">300.0</td><td style = \"text-align: right;\">310.0</td><td style = \"text-align: right;\">350.0</td></tr><tr><td class = \"rowNumber\" style = \"font-weight: bold; text-align: right;\">10</td><td style = \"text-align: right;\">10</td><td style = \"text-align: right;\">23531.1</td><td style = \"text-align: right;\">30.4</td><td style = \"text-align: right;\">150.23</td><td style = \"text-align: right;\">75.0</td><td style = \"text-align: right;\">206.85</td><td style = \"text-align: right;\">12.0</td><td style = \"text-align: right;\">155.0</td><td style = \"text-align: right;\">155.0</td><td style = \"text-align: right;\">400.0</td><td style = \"text-align: right;\">400.0</td><td style = \"text-align: right;\">300.0</td><td style = \"text-align: right;\">310.0</td><td style = \"text-align: right;\">350.0</td></tr><tr><td class = \"rowNumber\" style = \"font-weight: bold; text-align: right;\">11</td><td style = \"text-align: right;\">11</td><td style = \"text-align: right;\">23531.1</td><td style = \"text-align: right;\">30.4</td><td style = \"text-align: right;\">150.23</td><td style = \"text-align: right;\">75.0</td><td style = \"text-align: right;\">206.85</td><td style = \"text-align: right;\">12.0</td><td style = \"text-align: right;\">155.0</td><td style = \"text-align: right;\">155.0</td><td style = \"text-align: right;\">400.0</td><td style = \"text-align: right;\">400.0</td><td style = \"text-align: right;\">300.0</td><td style = \"text-align: right;\">310.0</td><td style = \"text-align: right;\">350.0</td></tr><tr><td class = \"rowNumber\" style = \"font-weight: bold; text-align: right;\">12</td><td style = \"text-align: right;\">12</td><td style = \"text-align: right;\">23178.0</td><td style = \"text-align: right;\">30.4</td><td style = \"text-align: right;\">123.725</td><td style = \"text-align: right;\">75.0</td><td style = \"text-align: right;\">206.85</td><td style = \"text-align: right;\">12.0</td><td style = \"text-align: right;\">155.0</td><td style = \"text-align: right;\">155.0</td><td style = \"text-align: right;\">400.0</td><td style = \"text-align: right;\">400.0</td><td style = \"text-align: right;\">300.0</td><td style = \"text-align: right;\">310.0</td><td style = \"text-align: right;\">350.0</td></tr><tr><td class = \"rowNumber\" style = \"font-weight: bold; text-align: right;\">13</td><td style = \"text-align: right;\">13</td><td style = \"text-align: right;\">23178.0</td><td style = \"text-align: right;\">30.4</td><td style = \"text-align: right;\">123.725</td><td style = \"text-align: right;\">75.0</td><td style = \"text-align: right;\">206.85</td><td style = \"text-align: right;\">12.0</td><td style = \"text-align: right;\">155.0</td><td style = \"text-align: right;\">155.0</td><td style = \"text-align: right;\">400.0</td><td style = \"text-align: right;\">400.0</td><td style = \"text-align: right;\">300.0</td><td style = \"text-align: right;\">310.0</td><td style = \"text-align: right;\">350.0</td></tr><tr><td class = \"rowNumber\" style = \"font-weight: bold; text-align: right;\">14</td><td style = \"text-align: right;\">14</td><td style = \"text-align: right;\">23178.0</td><td style = \"text-align: right;\">30.4</td><td style = \"text-align: right;\">123.725</td><td style = \"text-align: right;\">75.0</td><td style = \"text-align: right;\">206.85</td><td style = \"text-align: right;\">12.0</td><td style = \"text-align: right;\">155.0</td><td style = \"text-align: right;\">155.0</td><td style = \"text-align: right;\">400.0</td><td style = \"text-align: right;\">400.0</td><td style = \"text-align: right;\">300.0</td><td style = \"text-align: right;\">310.0</td><td style = \"text-align: right;\">350.0</td></tr><tr><td class = \"rowNumber\" style = \"font-weight: bold; text-align: right;\">15</td><td style = \"text-align: right;\">15</td><td style = \"text-align: right;\">22471.9</td><td style = \"text-align: right;\">30.4</td><td style = \"text-align: right;\">70.715</td><td style = \"text-align: right;\">75.0</td><td style = \"text-align: right;\">206.85</td><td style = \"text-align: right;\">12.0</td><td style = \"text-align: right;\">155.0</td><td style = \"text-align: right;\">155.0</td><td style = \"text-align: right;\">400.0</td><td style = \"text-align: right;\">400.0</td><td style = \"text-align: right;\">300.0</td><td style = \"text-align: right;\">310.0</td><td style = \"text-align: right;\">350.0</td></tr><tr><td class = \"rowNumber\" style = \"font-weight: bold; text-align: right;\">16</td><td style = \"text-align: right;\">16</td><td style = \"text-align: right;\">22471.9</td><td style = \"text-align: right;\">30.4</td><td style = \"text-align: right;\">70.715</td><td style = \"text-align: right;\">75.0</td><td style = \"text-align: right;\">206.85</td><td style = \"text-align: right;\">12.0</td><td style = \"text-align: right;\">155.0</td><td style = \"text-align: right;\">155.0</td><td style = \"text-align: right;\">400.0</td><td style = \"text-align: right;\">400.0</td><td style = \"text-align: right;\">300.0</td><td style = \"text-align: right;\">310.0</td><td style = \"text-align: right;\">350.0</td></tr><tr><td class = \"rowNumber\" style = \"font-weight: bold; text-align: right;\">17</td><td style = \"text-align: right;\">17</td><td style = \"text-align: right;\">24590.2</td><td style = \"text-align: right;\">108.145</td><td style = \"text-align: right;\">152.0</td><td style = \"text-align: right;\">75.0</td><td style = \"text-align: right;\">206.85</td><td style = \"text-align: right;\">12.0</td><td style = \"text-align: right;\">155.0</td><td style = \"text-align: right;\">155.0</td><td style = \"text-align: right;\">400.0</td><td style = \"text-align: right;\">400.0</td><td style = \"text-align: right;\">300.0</td><td style = \"text-align: right;\">310.0</td><td style = \"text-align: right;\">350.0</td></tr><tr><td class = \"rowNumber\" style = \"font-weight: bold; text-align: right;\">18</td><td style = \"text-align: right;\">18</td><td style = \"text-align: right;\">24943.3</td><td style = \"text-align: right;\">134.65</td><td style = \"text-align: right;\">152.0</td><td style = \"text-align: right;\">75.0</td><td style = \"text-align: right;\">206.85</td><td style = \"text-align: right;\">12.0</td><td style = \"text-align: right;\">155.0</td><td style = \"text-align: right;\">155.0</td><td style = \"text-align: right;\">400.0</td><td style = \"text-align: right;\">400.0</td><td style = \"text-align: right;\">300.0</td><td style = \"text-align: right;\">310.0</td><td style = \"text-align: right;\">350.0</td></tr><tr><td class = \"rowNumber\" style = \"font-weight: bold; text-align: right;\">19</td><td style = \"text-align: right;\">19</td><td style = \"text-align: right;\">24943.3</td><td style = \"text-align: right;\">134.65</td><td style = \"text-align: right;\">152.0</td><td style = \"text-align: right;\">75.0</td><td style = \"text-align: right;\">206.85</td><td style = \"text-align: right;\">12.0</td><td style = \"text-align: right;\">155.0</td><td style = \"text-align: right;\">155.0</td><td style = \"text-align: right;\">400.0</td><td style = \"text-align: right;\">400.0</td><td style = \"text-align: right;\">300.0</td><td style = \"text-align: right;\">310.0</td><td style = \"text-align: right;\">350.0</td></tr><tr><td class = \"rowNumber\" style = \"font-weight: bold; text-align: right;\">20</td><td style = \"text-align: right;\">20</td><td style = \"text-align: right;\">23531.1</td><td style = \"text-align: right;\">30.4</td><td style = \"text-align: right;\">150.23</td><td style = \"text-align: right;\">75.0</td><td style = \"text-align: right;\">206.85</td><td style = \"text-align: right;\">12.0</td><td style = \"text-align: right;\">155.0</td><td style = \"text-align: right;\">155.0</td><td style = \"text-align: right;\">400.0</td><td style = \"text-align: right;\">400.0</td><td style = \"text-align: right;\">300.0</td><td style = \"text-align: right;\">310.0</td><td style = \"text-align: right;\">350.0</td></tr><tr><td class = \"rowNumber\" style = \"font-weight: bold; text-align: right;\">21</td><td style = \"text-align: right;\">21</td><td style = \"text-align: right;\">21796.7</td><td style = \"text-align: right;\">30.4</td><td style = \"text-align: right;\">30.4</td><td style = \"text-align: right;\">75.0</td><td style = \"text-align: right;\">206.85</td><td style = \"text-align: right;\">12.0</td><td style = \"text-align: right;\">155.0</td><td style = \"text-align: right;\">155.0</td><td style = \"text-align: right;\">400.0</td><td style = \"text-align: right;\">400.0</td><td style = \"text-align: right;\">300.0</td><td style = \"text-align: right;\">310.0</td><td style = \"text-align: right;\">337.305</td></tr><tr><td class = \"rowNumber\" style = \"font-weight: bold; text-align: right;\">22</td><td style = \"text-align: right;\">22</td><td style = \"text-align: right;\">19493.0</td><td style = \"text-align: right;\">30.4</td><td style = \"text-align: right;\">30.4</td><td style = \"text-align: right;\">75.0</td><td style = \"text-align: right;\">206.85</td><td style = \"text-align: right;\">12.0</td><td style = \"text-align: right;\">155.0</td><td style = \"text-align: right;\">155.0</td><td style = \"text-align: right;\">400.0</td><td style = \"text-align: right;\">400.0</td><td style = \"text-align: right;\">300.0</td><td style = \"text-align: right;\">295.265</td><td style = \"text-align: right;\">140.0</td></tr><tr><td class = \"rowNumber\" style = \"font-weight: bold; text-align: right;\">23</td><td style = \"text-align: right;\">23</td><td style = \"text-align: right;\">16704.7</td><td style = \"text-align: right;\">30.4</td><td style = \"text-align: right;\">30.4</td><td style = \"text-align: right;\">75.0</td><td style = \"text-align: right;\">206.85</td><td style = \"text-align: right;\">12.0</td><td style = \"text-align: right;\">155.0</td><td style = \"text-align: right;\">76.715</td><td style = \"text-align: right;\">400.0</td><td style = \"text-align: right;\">400.0</td><td style = \"text-align: right;\">300.0</td><td style = \"text-align: right;\">108.5</td><td style = \"text-align: right;\">140.0</td></tr><tr><td class = \"rowNumber\" style = \"font-weight: bold; text-align: right;\">24</td><td style = \"text-align: right;\">24</td><td style = \"text-align: right;\">14554.6</td><td style = \"text-align: right;\">30.4</td><td style = \"text-align: right;\">30.4</td><td style = \"text-align: right;\">75.0</td><td style = \"text-align: right;\">206.85</td><td style = \"text-align: right;\">12.0</td><td style = \"text-align: right;\">54.25</td><td style = \"text-align: right;\">54.25</td><td style = \"text-align: right;\">258.165</td><td style = \"text-align: right;\">400.0</td><td style = \"text-align: right;\">300.0</td><td style = \"text-align: right;\">108.5</td><td style = \"text-align: right;\">140.0</td></tr></tbody></table></div>"
      ],
      "text/latex": [
       "\\begin{tabular}{r|cccccccccc}\n",
       "\t& hour & objective\\_value & x1 & x2 & x3 & x4 & x5 & x6 & x7 & \\\\\n",
       "\t\\hline\n",
       "\t& Int64 & Float64 & Float64 & Float64 & Float64 & Float64 & Float64 & Float64 & Float64 & \\\\\n",
       "\t\\hline\n",
       "\t1 & 1 & 15192.9 & 30.4 & 30.4 & 75.0 & 206.85 & 12.0 & 54.25 & 54.25 & $\\dots$ \\\\\n",
       "\t2 & 2 & 14554.6 & 30.4 & 30.4 & 75.0 & 206.85 & 12.0 & 54.25 & 54.25 & $\\dots$ \\\\\n",
       "\t3 & 3 & 14076.0 & 30.4 & 30.4 & 75.0 & 206.85 & 12.0 & 54.25 & 54.25 & $\\dots$ \\\\\n",
       "\t4 & 4 & 13916.4 & 30.4 & 30.4 & 75.0 & 206.85 & 12.0 & 54.25 & 54.25 & $\\dots$ \\\\\n",
       "\t5 & 5 & 13916.4 & 30.4 & 30.4 & 75.0 & 206.85 & 12.0 & 54.25 & 54.25 & $\\dots$ \\\\\n",
       "\t6 & 6 & 14076.0 & 30.4 & 30.4 & 75.0 & 206.85 & 12.0 & 54.25 & 54.25 & $\\dots$ \\\\\n",
       "\t7 & 7 & 16983.5 & 30.4 & 30.4 & 75.0 & 206.85 & 12.0 & 155.0 & 103.22 & $\\dots$ \\\\\n",
       "\t8 & 8 & 20353.5 & 30.4 & 30.4 & 75.0 & 206.85 & 12.0 & 155.0 & 155.0 & $\\dots$ \\\\\n",
       "\t9 & 9 & 23178.0 & 30.4 & 123.725 & 75.0 & 206.85 & 12.0 & 155.0 & 155.0 & $\\dots$ \\\\\n",
       "\t10 & 10 & 23531.1 & 30.4 & 150.23 & 75.0 & 206.85 & 12.0 & 155.0 & 155.0 & $\\dots$ \\\\\n",
       "\t11 & 11 & 23531.1 & 30.4 & 150.23 & 75.0 & 206.85 & 12.0 & 155.0 & 155.0 & $\\dots$ \\\\\n",
       "\t12 & 12 & 23178.0 & 30.4 & 123.725 & 75.0 & 206.85 & 12.0 & 155.0 & 155.0 & $\\dots$ \\\\\n",
       "\t13 & 13 & 23178.0 & 30.4 & 123.725 & 75.0 & 206.85 & 12.0 & 155.0 & 155.0 & $\\dots$ \\\\\n",
       "\t14 & 14 & 23178.0 & 30.4 & 123.725 & 75.0 & 206.85 & 12.0 & 155.0 & 155.0 & $\\dots$ \\\\\n",
       "\t15 & 15 & 22471.9 & 30.4 & 70.715 & 75.0 & 206.85 & 12.0 & 155.0 & 155.0 & $\\dots$ \\\\\n",
       "\t16 & 16 & 22471.9 & 30.4 & 70.715 & 75.0 & 206.85 & 12.0 & 155.0 & 155.0 & $\\dots$ \\\\\n",
       "\t17 & 17 & 24590.2 & 108.145 & 152.0 & 75.0 & 206.85 & 12.0 & 155.0 & 155.0 & $\\dots$ \\\\\n",
       "\t18 & 18 & 24943.3 & 134.65 & 152.0 & 75.0 & 206.85 & 12.0 & 155.0 & 155.0 & $\\dots$ \\\\\n",
       "\t19 & 19 & 24943.3 & 134.65 & 152.0 & 75.0 & 206.85 & 12.0 & 155.0 & 155.0 & $\\dots$ \\\\\n",
       "\t20 & 20 & 23531.1 & 30.4 & 150.23 & 75.0 & 206.85 & 12.0 & 155.0 & 155.0 & $\\dots$ \\\\\n",
       "\t21 & 21 & 21796.7 & 30.4 & 30.4 & 75.0 & 206.85 & 12.0 & 155.0 & 155.0 & $\\dots$ \\\\\n",
       "\t22 & 22 & 19493.0 & 30.4 & 30.4 & 75.0 & 206.85 & 12.0 & 155.0 & 155.0 & $\\dots$ \\\\\n",
       "\t23 & 23 & 16704.7 & 30.4 & 30.4 & 75.0 & 206.85 & 12.0 & 155.0 & 76.715 & $\\dots$ \\\\\n",
       "\t24 & 24 & 14554.6 & 30.4 & 30.4 & 75.0 & 206.85 & 12.0 & 54.25 & 54.25 & $\\dots$ \\\\\n",
       "\\end{tabular}\n"
      ],
      "text/plain": [
       "\u001b[1m24×14 DataFrame\u001b[0m\n",
       "\u001b[1m Row \u001b[0m│\u001b[1m hour  \u001b[0m\u001b[1m objective_value \u001b[0m\u001b[1m x1      \u001b[0m\u001b[1m x2      \u001b[0m\u001b[1m x3      \u001b[0m\u001b[1m x4      \u001b[0m\u001b[1m x5      \u001b[0m\u001b[1m x6\u001b[0m ⋯\n",
       "     │\u001b[90m Int64 \u001b[0m\u001b[90m Float64         \u001b[0m\u001b[90m Float64 \u001b[0m\u001b[90m Float64 \u001b[0m\u001b[90m Float64 \u001b[0m\u001b[90m Float64 \u001b[0m\u001b[90m Float64 \u001b[0m\u001b[90m Fl\u001b[0m ⋯\n",
       "─────┼──────────────────────────────────────────────────────────────────────────\n",
       "   1 │     1          15192.9   30.4     30.4       75.0   206.85     12.0     ⋯\n",
       "   2 │     2          14554.6   30.4     30.4       75.0   206.85     12.0\n",
       "   3 │     3          14076.0   30.4     30.4       75.0   206.85     12.0\n",
       "   4 │     4          13916.4   30.4     30.4       75.0   206.85     12.0\n",
       "   5 │     5          13916.4   30.4     30.4       75.0   206.85     12.0     ⋯\n",
       "   6 │     6          14076.0   30.4     30.4       75.0   206.85     12.0\n",
       "   7 │     7          16983.5   30.4     30.4       75.0   206.85     12.0   1\n",
       "   8 │     8          20353.5   30.4     30.4       75.0   206.85     12.0   1\n",
       "  ⋮  │   ⋮           ⋮            ⋮        ⋮        ⋮        ⋮        ⋮        ⋱\n",
       "  18 │    18          24943.3  134.65   152.0       75.0   206.85     12.0   1 ⋯\n",
       "  19 │    19          24943.3  134.65   152.0       75.0   206.85     12.0   1\n",
       "  20 │    20          23531.1   30.4    150.23      75.0   206.85     12.0   1\n",
       "  21 │    21          21796.7   30.4     30.4       75.0   206.85     12.0   1\n",
       "  22 │    22          19493.0   30.4     30.4       75.0   206.85     12.0   1 ⋯\n",
       "  23 │    23          16704.7   30.4     30.4       75.0   206.85     12.0   1\n",
       "  24 │    24          14554.6   30.4     30.4       75.0   206.85     12.0\n",
       "\u001b[36m                                                    7 columns and 9 rows omitted\u001b[0m"
      ]
     },
     "metadata": {},
     "output_type": "display_data"
    }
   ],
   "source": [
    "result_df"
   ]
  },
  {
   "cell_type": "code",
   "execution_count": 22,
   "metadata": {},
   "outputs": [
    {
     "data": {
      "text/plain": [
       "\"../results/market_clearing_Jan.csv\""
      ]
     },
     "metadata": {},
     "output_type": "display_data"
    }
   ],
   "source": [
    "#save result_df to csv\n",
    "CSV.write(\"../results/market_clearing_Jan.csv\", result_df)"
   ]
  }
 ],
 "metadata": {
  "kernelspec": {
   "display_name": "Julia 1.10.0",
   "language": "julia",
   "name": "julia-1.10"
  },
  "language_info": {
   "file_extension": ".jl",
   "mimetype": "application/julia",
   "name": "julia",
   "version": "1.10.0"
  }
 },
 "nbformat": 4,
 "nbformat_minor": 2
}
