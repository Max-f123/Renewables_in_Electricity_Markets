{
 "cells": [
  {
   "cell_type": "code",
   "execution_count": 20,
   "metadata": {},
   "outputs": [],
   "source": [
    "import Pkg\n",
    "#Pkg.add(\"JuMP\")\n",
    "#Pkg.add(\"GLPK\")\n",
    "#Pkg.add(\"Gruobi\")\n",
    "#Pkg.add(\"DataFrames\")\n",
    "#Pkg.add(\"CSV\")\n",
    "#Pkg.add(\"PyCall\")"
   ]
  },
  {
   "cell_type": "code",
   "execution_count": 21,
   "metadata": {},
   "outputs": [],
   "source": [
    "using JuMP, GLPK\n",
    "using DataFrames\n",
    "using CSV\n",
    "using PrettyTables\n",
    "using Random"
   ]
  },
  {
   "cell_type": "code",
   "execution_count": 22,
   "metadata": {},
   "outputs": [],
   "source": [
    "# Load the data\n",
    "scenarios_df = CSV.read(\"../data/scenarios.csv\", DataFrame)\n",
    "\n",
    "n_scenarios = size(scenarios_df, 2)/3\n",
    "n_scenarios = convert(Int, n_scenarios)\n",
    "\n",
    "# create a dictonary with 200 dataframes for each scenario\n",
    "all_scenarios = Dict()\n",
    "for i in 1:n_scenarios\n",
    "    df_helper = DataFrame(scenarios_df[:,3*i-2:3*i])\n",
    "    df_helper[!,3] = df_helper[!,3] .* 1.0\n",
    "    rename!(df_helper, [:\"price\", :\"wind power\", :\"grid_excess\"])\n",
    "    all_scenarios[i] = df_helper\n",
    "end"
   ]
  },
  {
   "cell_type": "code",
   "execution_count": 34,
   "metadata": {},
   "outputs": [
    {
     "data": {
      "text/plain": [
       "Any[]"
      ]
     },
     "metadata": {},
     "output_type": "display_data"
    }
   ],
   "source": [
    "W = 250\n",
    "hours = 24\n",
    "Random.seed!(123)\n",
    "selected_scenarios = rand(1:n_scenarios, W)\n",
    "\n",
    "scenarios = Dict()\n",
    "counter = 1\n",
    "for i in selected_scenarios\n",
    "    scenarios[counter] = all_scenarios[i]\n",
    "    counter += 1\n",
    "end\n",
    "\n",
    "# create the list of index of scenarios out of sample\n",
    "out_of_sample = []\n",
    "for i in 1:n_scenarios\n",
    "    if i ∉ selected_scenarios\n",
    "        push!(out_of_sample, i)\n",
    "    end\n",
    "end\n",
    "\n",
    "unselected_scenarios = Dict()\n",
    "counter = 1\n",
    "for i in out_of_sample\n",
    "    unselected_scenarios[counter] = all_scenarios[i]\n",
    "    counter += 1\n",
    "end\n",
    "\n",
    "alpha = 0.9\n",
    "beta = 0.8\n",
    "objectiv_values = []\n",
    "exp_profits = []\n",
    "CVaR_values = []\n"
   ]
  },
  {
   "cell_type": "code",
   "execution_count": 35,
   "metadata": {},
   "outputs": [],
   "source": [
    "\n",
    "# Create a new model with GLPK solver\n",
    "model = Model(GLPK.Optimizer)\n",
    "unregister(model, :p_DA)\n",
    "\n",
    "# Define the decision variables for hour\n",
    "@variable(model, p_DA[1:hours])\n",
    "@variable(model, delta[1:W,1:hours])\n",
    "@variable(model, delta_up[1:W,1:hours])\n",
    "@variable(model, delta_down[1:W,1:hours])\n",
    "@variable(model, zeta)\n",
    "@variable(model, eta[1:W] >= 0)\n",
    "\n",
    "# Define the objective function\n",
    "@objective(model, Max, (1-beta) *  sum(1/W*(scenarios[i][hour,\"price\"] * p_DA[hour]\n",
    "    + delta_up[i,hour] * scenarios[i][hour,\"price\"] * (scenarios[i][hour,\"grid_excess\"]*0.9 + (1-scenarios[i][hour,\"grid_excess\"])*1)\n",
    "    - delta_down[i,hour] * scenarios[i][hour,\"price\"] * (scenarios[i][hour,\"grid_excess\"]*1 + (1-scenarios[i][hour,\"grid_excess\"])*1.2)\n",
    "    + beta  * (zeta - (1/(1-alpha)) * sum(1/W * eta[i] for i in 1:W))) for i in 1:W, hour in 1:hours))\n",
    "\n",
    "# Define the constraints\n",
    "@constraint(model, [hour in 1:hours], p_DA[hour] <= 200)\n",
    "@constraint(model, [hour in 1:hours], p_DA[hour] >= 0)\n",
    "@constraint(model, [i in 1:W, hour in 1:hours], delta[i,hour] == scenarios[i][hour,\"wind power\"] - p_DA[hour])\n",
    "@constraint(model, [i in 1:W, hour in 1:hours], delta[i,hour] == delta_up[i,hour] - delta_down[i,hour])\n",
    "@constraint(model, [i in 1:W, hour in 1:hours], delta_down[i,hour] >= 0)\n",
    "#@constraint(model, [i in 1:W, hour in 1:hours], delta_down[i,hour] <= p_DA[hour])\n",
    "@constraint(model, [i in 1:W, hour in 1:hours], delta_up[i,hour] >= 0)\n",
    "#@constraint(model, [i in 1:W, hour in 1:hours], delta_up[i,hour] + p_DA[hour] <= 200)\n",
    "\n",
    "@constraint(model, [i in 1:W], -1 * sum(scenarios[i][hour,\"price\"] * p_DA[hour]\n",
    "+ delta_up[i,hour] * scenarios[i][hour,\"price\"] * (scenarios[i][hour,\"grid_excess\"]*0.9 + (1-scenarios[i][hour,\"grid_excess\"])*1)\n",
    "- delta_down[i,hour] * scenarios[i][hour,\"price\"] * (scenarios[i][hour,\"grid_excess\"]*1 + (1-scenarios[i][hour,\"grid_excess\"])*1.2) for hour in 1:hours) + zeta - eta[i] <= 0)\n",
    "\n",
    "\n",
    "\n",
    "# Solve the optimization problem\n",
    "optimize!(model)\n",
    "\n",
    "# save the p_DA values\n",
    "p_DA_values = value.(p_DA)\n",
    "\n",
    "exp_profit = value.(sum(1/W.*(scenarios[i][hour,\"price\"] * p_DA[hour]\n",
    "    + delta_up[i,hour] * scenarios[i][hour,\"price\"] * (scenarios[i][hour,\"grid_excess\"]*0.9 + (1-scenarios[i][hour,\"grid_excess\"])*1)\n",
    "    - delta_down[i,hour] * scenarios[i][hour,\"price\"] * (scenarios[i][hour,\"grid_excess\"]*1 + (1-scenarios[i][hour,\"grid_excess\"])*1.2) for i in 1:W, hour in 1:hours)))\n",
    "\n",
    "\n",
    "#println(model)\n",
    "\n",
    "# Print the termination status\n",
    "status = termination_status(model)\n",
    "if status == MOI.OPTIMAL\n",
    "    println(\"Optimal solution found\")\n",
    "    println(\"Expected profit \", exp_profit)\n",
    "    println(\"p_DA: \", value.(p_DA))\n",
    "    \n",
    "else\n",
    "    println(\"No optimal solution found\")\n",
    "end\n"
   ]
  },
  {
   "cell_type": "code",
   "execution_count": null,
   "metadata": {},
   "outputs": [],
   "source": [
    "W_new = n_scenarios - W\n",
    "hours = 24\n",
    "\n",
    "# calculate the expected profit for the out of sample scenarios\n",
    "exp_profit = 0\n",
    "for i in 1:W_new\n",
    "    profit_day = 0\n",
    "    for hour in 1:hours\n",
    "        profit = 0\n",
    "        profit += unselected_scenarios[i][hour,\"price\"] * p_DA_values[hour]\n",
    "        if unselected_scenarios[i][hour,\"wind power\"] > p_DA_values[hour]\n",
    "            profit += unselected_scenarios[i][hour,\"price\"] * (unselected_scenarios[i][hour,\"wind power\"] - p_DA_values[hour]) * (unselected_scenarios[i][hour,\"grid_excess\"]*0.9 + (1-unselected_scenarios[i][hour,\"grid_excess\"])*1)\n",
    "        else\n",
    "            profit -= unselected_scenarios[i][hour,\"price\"] * (p_DA_values[hour] - unselected_scenarios[i][hour,\"wind power\"]) * (unselected_scenarios[i][hour,\"grid_excess\"]*1 + (1-unselected_scenarios[i][hour,\"grid_excess\"])*1.2)\n",
    "        end\n",
    "        profit_day += profit\n",
    "    end\n",
    "    exp_profit += profit_day\n",
    "end\n",
    "\n",
    "exp_profit = exp_profit / W_new\n",
    "\n"
   ]
  },
  {
   "cell_type": "code",
   "execution_count": null,
   "metadata": {},
   "outputs": [],
   "source": [
    "# plot the distribution of the profits, in and out of sample"
   ]
  }
 ],
 "metadata": {
  "kernelspec": {
   "display_name": "Julia 1.10.0",
   "language": "julia",
   "name": "julia-1.10"
  },
  "language_info": {
   "file_extension": ".jl",
   "mimetype": "application/julia",
   "name": "julia",
   "version": "1.10.0"
  }
 },
 "nbformat": 4,
 "nbformat_minor": 2
}
