{
 "cells": [
  {
   "cell_type": "code",
   "execution_count": 6,
   "metadata": {},
   "outputs": [],
   "source": [
    "import Pkg\n",
    "#Pkg.add(\"JuMP\")\n",
    "#Pkg.add(\"GLPK\")\n",
    "#Pkg.add(\"Gruobi\")\n",
    "#Pkg.add(\"DataFrames\")\n",
    "#Pkg.add(\"CSV\")\n",
    "#Pkg.add(\"PyCall\")"
   ]
  },
  {
   "cell_type": "code",
   "execution_count": 7,
   "metadata": {},
   "outputs": [],
   "source": [
    "using JuMP, GLPK\n",
    "using DataFrames\n",
    "using CSV"
   ]
  },
  {
   "cell_type": "code",
   "execution_count": 8,
   "metadata": {},
   "outputs": [],
   "source": [
    "# Load the data\n",
    "scenarios_200 = CSV.read(\"../data/scenarios_200.csv\", DataFrame)\n",
    "\n",
    "# create a dictonary with 200 dataframes for each scenario\n",
    "scenarios = Dict()\n",
    "for i in 1:200\n",
    "    df_helper = DataFrame(scenarios_200[:,3*i-2:3*i])\n",
    "    #set column names\n",
    "    rename!(df_helper, [:\"price\", :\"wind power\", :\"grid_excess\"])\n",
    "    scenarios[i] = df_helper\n",
    "end"
   ]
  },
  {
   "cell_type": "code",
   "execution_count": 9,
   "metadata": {},
   "outputs": [
    {
     "data": {
      "text/html": [
       "<div><div style = \"float: left;\"><span>0×2 DataFrame</span></div><div style = \"clear: both;\"></div></div><div class = \"data-frame\" style = \"overflow-x: scroll;\"><table class = \"data-frame\" style = \"margin-bottom: 6px;\"><thead><tr class = \"header\"><th class = \"rowNumber\" style = \"font-weight: bold; text-align: right;\">Row</th><th style = \"text-align: left;\">hour</th><th style = \"text-align: left;\">p_DA</th></tr><tr class = \"subheader headerLastRow\"><th class = \"rowNumber\" style = \"font-weight: bold; text-align: right;\"></th><th title = \"Int64\" style = \"text-align: left;\">Int64</th><th title = \"Float64\" style = \"text-align: left;\">Float64</th></tr></thead><tbody></tbody></table></div>"
      ],
      "text/latex": [
       "\\begin{tabular}{r|cc}\n",
       "\t& hour & p\\_DA\\\\\n",
       "\t\\hline\n",
       "\t& Int64 & Float64\\\\\n",
       "\t\\hline\n",
       "\\end{tabular}\n"
      ],
      "text/plain": [
       "\u001b[1m0×2 DataFrame\u001b[0m\n",
       "\u001b[1m Row \u001b[0m│\u001b[1m hour  \u001b[0m\u001b[1m p_DA    \u001b[0m\n",
       "     │\u001b[90m Int64 \u001b[0m\u001b[90m Float64 \u001b[0m\n",
       "─────┴────────────────"
      ]
     },
     "metadata": {},
     "output_type": "display_data"
    }
   ],
   "source": [
    "# Initialize the DataFrame directly without dynamic column names\n",
    "result_df = DataFrame(hour = Int[], p_DA = Float64[])"
   ]
  },
  {
   "cell_type": "code",
   "execution_count": 10,
   "metadata": {},
   "outputs": [
    {
     "name": "stdout",
     "output_type": "stream",
     "text": [
      "No optimal solution found\n"
     ]
    }
   ],
   "source": [
    "# Create a new model with GLPK solver\n",
    "model = Model(GLPK.Optimizer)\n",
    "\n",
    "# Define the decision variables for hour\n",
    "@variable(model, p_DA[1:24])\n",
    "@variable(model, delta[1:200,1:24])\n",
    "@variable(model, delta_up[1:200,1:24])\n",
    "@variable(model, delta_down[1:200,1:24])\n",
    "\n",
    "# Define the objective function\n",
    "@objective(model, Max, sum(sum(1/200*(scenarios[i][hour,\"price\"] * p_DA[hour] + 0.9*scenarios[i][hour,\"price\"]*delta_up[i,hour] - 1.2*scenarios[i][hour,\"price\"]*delta_down[i,hour]) for i in 1:200) for hour in 1:24))\n",
    "\n",
    "# Define the constraints\n",
    "@constraint(model, [hour in 1:24], p_DA[hour] <= 200)\n",
    "@constraint(model, [hour in 1:24], p_DA[hour] >= 0)\n",
    "@constraint(model, [i in 1:200, hour in 1:24], delta[i,hour] == scenarios[i][hour,\"wind power\"] - p_DA[hour])\n",
    "@constraint(model, [i in 1:200, hour in 1:24], delta[i,hour] == delta_up[i,hour] - delta_down[i,hour])\n",
    "@constraint(model, [i in 1:200, hour in 1:24], delta_down[i,hour] >= 0)\n",
    "@constraint(model, [i in 1:200, hour in 1:24], delta_up[i,hour] >= 0)\n",
    "\n",
    "# Solve the optimization problem\n",
    "optimize!(model)\n",
    "\n",
    "#println(model)\n",
    "\n",
    "# Print the termination status\n",
    "status = termination_status(model)\n",
    "if status == MOI.OPTIMAL\n",
    "    println(\"Optimal solution found\")\n",
    "    \n",
    "    # RETURN OBJECTIVE value\n",
    "    println(\"Objective value: \", objective_value(model))\n",
    "else\n",
    "    println(\"No optimal solution found\")\n",
    "end"
   ]
  }
 ],
 "metadata": {
  "kernelspec": {
   "display_name": "Julia 1.9.3",
   "language": "julia",
   "name": "julia-1.9"
  },
  "language_info": {
   "file_extension": ".jl",
   "mimetype": "application/julia",
   "name": "julia",
   "version": "1.9.3"
  }
 },
 "nbformat": 4,
 "nbformat_minor": 2
}
