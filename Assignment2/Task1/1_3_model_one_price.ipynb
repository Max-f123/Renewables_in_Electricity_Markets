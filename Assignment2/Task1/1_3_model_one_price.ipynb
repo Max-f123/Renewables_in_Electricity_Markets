{
 "cells": [
  {
   "cell_type": "code",
   "execution_count": 43,
   "metadata": {},
   "outputs": [],
   "source": [
    "import Pkg\n",
    "#Pkg.add(\"JuMP\")\n",
    "#Pkg.add(\"GLPK\")\n",
    "#Pkg.add(\"Gruobi\")\n",
    "#Pkg.add(\"DataFrames\")\n",
    "#Pkg.add(\"CSV\")\n",
    "# Pkg.add(\"PyPlot\")\n",
    "# Pkg.add(\"PyCall\")"
   ]
  },
  {
   "cell_type": "code",
   "execution_count": 44,
   "metadata": {},
   "outputs": [],
   "source": [
    "using JuMP, GLPK\n",
    "using DataFrames\n",
    "using CSV\n",
    "using PrettyTables\n",
    "using Random\n",
    "using Plots\n",
    "# using PyPlot\n",
    "# using PyCall"
   ]
  },
  {
   "cell_type": "code",
   "execution_count": 45,
   "metadata": {},
   "outputs": [],
   "source": [
    "# Load the data\n",
    "scenarios_df = CSV.read(\"../data/scenarios.csv\", DataFrame)\n",
    "\n",
    "n_scenarios = size(scenarios_df, 2)/3\n",
    "n_scenarios = convert(Int, n_scenarios)\n",
    "\n",
    "# create a dictonary with 200 dataframes for each scenario\n",
    "all_scenarios = Dict()\n",
    "for i in 1:n_scenarios\n",
    "    df_helper = DataFrame(scenarios_df[:,3*i-2:3*i])\n",
    "    df_helper[!,3] = df_helper[!,3] .* 1.0\n",
    "    rename!(df_helper, [:\"price\", :\"wind power\", :\"grid_excess\"])\n",
    "    all_scenarios[i] = df_helper\n",
    "end"
   ]
  },
  {
   "cell_type": "code",
   "execution_count": 46,
   "metadata": {},
   "outputs": [
    {
     "data": {
      "text/plain": [
       "Any[]"
      ]
     },
     "metadata": {},
     "output_type": "display_data"
    }
   ],
   "source": [
    "W = 250\n",
    "hours = 24\n",
    "Random.seed!(123)\n",
    "selected_scenarios = rand(1:n_scenarios, W)\n",
    "\n",
    "scenarios = Dict()\n",
    "counter = 1\n",
    "for i in selected_scenarios\n",
    "    scenarios[counter] = all_scenarios[i]\n",
    "    counter += 1\n",
    "end\n",
    "\n",
    "alpha = 0.99\n",
    "#make beta a list of values\n",
    "betas = [0.1, 1, 100, 1000, 10000, 1000000, 10000000, 10000000000000000000000000000000000000]\n",
    "objectiv_values = []\n",
    "exp_profits = []\n",
    "CVaR_values = []"
   ]
  },
  {
   "cell_type": "code",
   "execution_count": 47,
   "metadata": {},
   "outputs": [
    {
     "name": "stdout",
     "output_type": "stream",
     "text": [
      "Optimal solution found\n",
      "p_DA: [200.0, 0.0, 200.0, 200.0, 0.0, 200.0, 200.0, 0.0, 0.0, 200.0, 0.0, 0.0, 200.0, 200.0, 200.0, 200.0, 200.0, 200.0, -2.842170943040401e-14, 200.0, 0.0, 0.0, 0.0, 200.0]\n",
      "Optimal solution found\n",
      "p_DA: [200.0, 0.0, 200.0, 200.0, 0.0, 200.0, 200.0, 0.0, 0.0, 200.0, 2.842170943040401e-14, 0.0, 200.0, 200.0, 200.0, 200.0, 200.0, 200.0, 0.0, 200.0, 0.0, 2.3947935693636538e-14, 0.0, 200.0]\n",
      "Optimal solution found\n",
      "p_DA: [200.0, 0.0, 200.0, 200.0, 0.0, 200.0, 200.0, 0.0, 0.0, 200.0, 0.0, 0.0, 200.0, 0.0, 200.0, 0.0, 200.0, 200.0, 0.0, 200.0, 0.0, 28.4454127984302, 0.0, 200.0]\n",
      "Optimal solution found\n",
      "p_DA: [200.0, 0.0, 200.0, 200.0, 0.0, 200.0, 200.0, 0.0, 0.0, 200.0, 0.0, 0.0, 200.0, 0.0, 200.0, 0.0, 200.0, 200.0, 0.0, 200.0, 0.0, 28.4454127984302, 0.0, 200.0]\n",
      "Optimal solution found\n",
      "p_DA: [200.0, 0.0, 200.0, 200.0, 0.0, 200.0, 200.0, 0.0, 0.0, 200.0, 0.0, 0.0, 200.0, 0.0, 200.0, 0.0, 200.0, 200.0, 0.0, 200.0, 0.0, 28.445412798430215, 0.0, 200.0]\n",
      "Optimal solution found\n",
      "p_DA: [200.0, 0.0, 200.0, 200.0, 0.0, 200.0, 200.0, 0.0, 0.0, 200.0, 0.0, 0.0, 200.0, 0.0, 200.0, 0.0, 200.0, 200.0, 0.0, 200.0, 0.0, 28.4454127984302, 0.0, 200.0]\n",
      "Optimal solution found\n",
      "p_DA: [200.0, 0.0, 200.0, 200.0, 0.0, 200.0, 200.0, 0.0, 0.0, 200.0, 0.0, 0.0, 200.0, 0.0, 200.0, 0.0, 200.0, 200.0, 0.0, 200.0, 0.0, 28.4454127984302, 0.0, 200.0]\n",
      "Optimal solution found\n",
      "p_DA: [200.0, 0.0, 200.0, 200.0, 0.0, 151.10161283870966, 200.0, 0.0, 0.0, 200.0, 0.0, 0.0, 200.0, 0.0, 200.0, 0.0, 200.0, 200.0, 0.0, 200.0, 0.0, 28.4454127984302, 0.0, 200.0]\n"
     ]
    }
   ],
   "source": [
    "for beta in betas\n",
    "    # Create a new model with GLPK solver\n",
    "    model = Model(GLPK.Optimizer)\n",
    "    unregister(model, :p_DA)\n",
    "    #reset the model\n",
    "    \n",
    "\n",
    "    # Define the decision variables for hour\n",
    "    @variable(model, p_DA[1:hours])\n",
    "    @variable(model, delta[1:W,1:hours])\n",
    "    @variable(model, zeta)\n",
    "    @variable(model, eta[1:W])\n",
    "\n",
    "    # Define the objective function\n",
    "    @objective(model, Max, sum(1/W *\n",
    "    (scenarios[i][hour,\"price\"] * p_DA[hour]\n",
    "    + scenarios[i][hour,\"price\"] * delta[i, hour]*((0.9.*scenarios[i][hour,\"grid_excess\"]) + 1.2.*(1-scenarios[i][hour,\"grid_excess\"]))) for i in 1:W, hour in 1:hours)\n",
    "    + beta  * (zeta - (1/(1-alpha)) * sum(1/W * eta[i] for i in 1:W)))\n",
    "\n",
    "    # Define the constraints\n",
    "    @constraint(model, [hour in 1:hours], p_DA[hour] <= 200)\n",
    "    @constraint(model, [hour in 1:hours], p_DA[hour] >= 0)\n",
    "    @constraint(model, [i in 1:W, hour in 1:hours], delta[i,hour] == scenarios[i][hour,\"wind power\"] - p_DA[hour])\n",
    "    @constraint(model, [i in 1:W], eta[i] >= 0)\n",
    "    @constraint(model, [i in 1:W], -1 * sum((scenarios[i][hour,\"price\"] * p_DA[hour]\n",
    "    + scenarios[i][hour,\"price\"] * delta[i, hour]*((0.9.*scenarios[i][hour,\"grid_excess\"]) + 1.2.*(1-scenarios[i][hour,\"grid_excess\"]))) for hour in 1:hours) + zeta - eta[i] <= 0)\n",
    "\n",
    "\n",
    "    # Solve the optimization problem\n",
    "    optimize!(model)\n",
    "\n",
    "    exp_profit = sum(1/W .*\n",
    "    (scenarios[i][hour,\"price\"] * value.(p_DA[hour])\n",
    "    + scenarios[i][hour,\"price\"] * value.(delta[i, hour])*((0.9.*scenarios[i][hour,\"grid_excess\"]) + 1.2.*(1-scenarios[i][hour,\"grid_excess\"]))) for i in 1:W, hour in 1:hours)\n",
    "\n",
    "    CVaR = (value.(zeta) - (1/(1-alpha)) * sum(1/W .* value.(eta[i]) for i in 1:W))\n",
    "\n",
    "    # Print the termination status\n",
    "    status = termination_status(model)\n",
    "    if status == MOI.OPTIMAL\n",
    "        println(\"Optimal solution found\")\n",
    "\n",
    "        println(\"p_DA: \", value.(p_DA))\n",
    "        \n",
    "        # RETURN OBJECTIVE value\n",
    "        #println(\"Objective value: \", objective_value(model))\n",
    "        #println(\"Expected profit: \", exp_profit)\n",
    "        #println(\"CVaR: \", CVaR)\n",
    "        push!(objectiv_values, objective_value(model))\n",
    "        push!(exp_profits, exp_profit)\n",
    "        push!(CVaR_values, CVaR)\n",
    "    else\n",
    "        println(\"No optimal solution found\")\n",
    "    end\n",
    "end"
   ]
  },
  {
   "cell_type": "code",
   "execution_count": 48,
   "metadata": {},
   "outputs": [
    {
     "data": {
      "text/plain": [
       "\"1_3_results/one_price_results.csv\""
      ]
     },
     "metadata": {},
     "output_type": "display_data"
    }
   ],
   "source": [
    "#make a dataframe with the results\n",
    "results = DataFrame(betas = betas, objective_values = objectiv_values, exp_profits = exp_profits, CVaR_values = CVaR_values)\n",
    "\n",
    "#save the results\n",
    "CSV.write(\"1_3_results/one_price_results.csv\", results)"
   ]
  }
 ],
 "metadata": {
  "kernelspec": {
   "display_name": "Julia 1.9.3",
   "language": "julia",
   "name": "julia-1.9"
  },
  "language_info": {
   "file_extension": ".jl",
   "mimetype": "application/julia",
   "name": "julia",
   "version": "1.9.3"
  }
 },
 "nbformat": 4,
 "nbformat_minor": 2
}
