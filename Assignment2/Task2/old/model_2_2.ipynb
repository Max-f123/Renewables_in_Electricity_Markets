{
 "cells": [
  {
   "cell_type": "code",
   "execution_count": 25,
   "metadata": {},
   "outputs": [],
   "source": [
    "using JuMP, GLPK\n",
    "using DataFrames\n",
    "using CSV\n",
    "using PrettyTables\n",
    "using Random"
   ]
  },
  {
   "cell_type": "code",
   "execution_count": 26,
   "metadata": {},
   "outputs": [
    {
     "data": {
      "text/plain": [
       "125"
      ]
     },
     "metadata": {},
     "output_type": "display_data"
    }
   ],
   "source": [
    "scenarios_df = CSV.read(\"load_profiles.csv\", DataFrame)\n",
    "n_scenarios = size(scenarios_df, 2)\n",
    "in_sample_n = 125"
   ]
  },
  {
   "cell_type": "code",
   "execution_count": 27,
   "metadata": {},
   "outputs": [
    {
     "name": "stdout",
     "output_type": "stream",
     "text": [
      "Allowed number of scenarios below CVaR: 11.25\n",
      "CVaR test passed\n",
      "11\n",
      "Also_x test failed\n",
      "75\n"
     ]
    }
   ],
   "source": [
    "cvar_value = 285.0\n",
    "also_x_value = 400.0\n",
    "\n",
    "below_cvar = 0\n",
    "below_also_x = 0\n",
    "\n",
    "#check how many values are above the cvar_value\n",
    "for i in 1+in_sample_n:n_scenarios\n",
    "\n",
    "    minute_values = scenarios_df[:,i]\n",
    "    #println(minute_values)\n",
    "    #println(sum(minute_values .> cvar_value))\n",
    "    if sum(minute_values .> cvar_value) <= 0.9*length(minute_values)\n",
    "        below_cvar += 1\n",
    "    end\n",
    "    if sum(minute_values .> also_x_value) <= 0.9*length(minute_values)\n",
    "        below_also_x += 1\n",
    "    end\n",
    "end\n",
    "\n",
    "println(\"Allowed number of scenarios below CVaR: \", 0.15*(n_scenarios-in_sample_n))\n",
    "\n",
    "if below_cvar <= 0.15*(n_scenarios-in_sample_n)\n",
    "    println(\"CVaR test passed\")\n",
    "    println(below_cvar)\n",
    "else\n",
    "    println(\"CVaR test failed\")\n",
    "    println(below_cvar)\n",
    "end\n",
    "\n",
    "if below_also_x <= 0.15*(n_scenarios-in_sample_n)\n",
    "    println(\"Also_x test passed\")\n",
    "    println(below_also_x)\n",
    "else\n",
    "    println(\"Also_x test failed\")\n",
    "    println(below_also_x)\n",
    "end"
   ]
  }
 ],
 "metadata": {
  "kernelspec": {
   "display_name": "Julia 1.9.3",
   "language": "julia",
   "name": "julia-1.9"
  },
  "language_info": {
   "file_extension": ".jl",
   "mimetype": "application/julia",
   "name": "julia",
   "version": "1.9.3"
  }
 },
 "nbformat": 4,
 "nbformat_minor": 2
}
