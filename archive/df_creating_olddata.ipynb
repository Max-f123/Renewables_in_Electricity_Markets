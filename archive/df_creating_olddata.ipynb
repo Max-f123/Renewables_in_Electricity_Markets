{
 "cells": [
  {
   "cell_type": "code",
   "execution_count": 18,
   "metadata": {},
   "outputs": [],
   "source": [
    "import pandas as pd"
   ]
  },
  {
   "cell_type": "code",
   "execution_count": 19,
   "metadata": {},
   "outputs": [],
   "source": [
    "# Creating a DataFrame for Table 1: Technical Data of Generating Units\n",
    "\n",
    "data_table_1 = {\n",
    "    \"Unit #\": list(range(1, 13)),\n",
    "    \"Node\": [1, 2, 7, 13, 15, 15, 16, 18, 21, 22, 23, 23],\n",
    "    \"Pmax (MW)\": [152, 152, 350, 591, 60, 155, 155, 400, 400, 300, 310, 350],\n",
    "    \"Pmin (MW)\": [30.4, 30.4, 75, 206.85, 12, 54.25, 54.25, 100, 100, 300, 108.5, 140],\n",
    "    \"R+ (MW)\": [40, 40, 70, 180, 60, 30, 30, 0, 0, 0, 60, 40],\n",
    "    \"R- (MW)\": [40, 40, 70, 180, 60, 30, 30, 0, 0, 0, 60, 40],\n",
    "    \"RU (MW/h)\": [120, 120, 350, 240, 60, 155, 155, 280, 280, 300, 180, 240],\n",
    "    \"RD (MW/h)\": [120, 120, 350, 240, 60, 155, 155, 280, 280, 300, 180, 240],\n",
    "    \"UT (h)\": [8, 8, 8, 12, 4, 8, 8, 1, 1, 0, 8, 8],\n",
    "    \"DT (h)\": [4, 4, 8, 10, 2, 8, 8, 1, 1, 0, 8, 8]\n",
    "}\n",
    "\n",
    "# Creating the DataFrame\n",
    "data_table_1 = pd.DataFrame(data_table_1)\n",
    "\n",
    "#save the DataFrame to a csv file\n",
    "data_table_1.to_csv('data/technical_data_generation.csv', index=False)\n"
   ]
  },
  {
   "cell_type": "code",
   "execution_count": 20,
   "metadata": {},
   "outputs": [],
   "source": [
    "# Creating a DataFrame for Table 2: Costs and Initial State of Generating Units\n",
    "\n",
    "data_table_2 = {\n",
    "    \"Unit #\": list(range(1, 13)),\n",
    "    \"Ci ($/MWh)\": [13.32, 13.32, 20.7, 20.93, 26.11, 10.52, 10.52, 6.02, 5.47, 0, 10.52, 10.89],\n",
    "    \"Cu ($/MWh)\": [15, 15, 10, 8, 7, 16, 16, 0, 0, 0, 17, 16],\n",
    "    \"Cd ($/MWh)\": [14, 14, 9, 7, 5, 14, 14, 0, 0, 0, 16, 14],\n",
    "    \"C+ ($/MWh)\": [15, 15, 24, 25, 28, 16, 16, 0, 0, 0, 14, 16],\n",
    "    \"C- ($/MWh)\": [11, 11, 16, 17, 23, 7, 7, 0, 0, 0, 8, 8],\n",
    "    \"Csu ($)\": [1430.4, 1430.4, 1725, 3056.7, 437, 312, 312, 0, 0, 0, 624, 2298],\n",
    "    \"Pini (MW)\": [76, 76, 0, 0, 0, 0, 124, 240, 240, 240, 248, 280],\n",
    "    \"Uini (0/1)\": [1, 1, 0, 0, 0, 0, 1, 1, 1, 1, 1, 1],\n",
    "    \"Tini (h)\": [22, 22, -2, -1, -1, -2, 10, 50, 16, 24, 10, 50]\n",
    "}\n",
    "\n",
    "# Creating the DataFrame\n",
    "data_table_2 = pd.DataFrame(data_table_2)\n",
    "\n",
    "#save data to csv\n",
    "data_table_2.to_csv('data/cost_generation.csv', index=False)"
   ]
  },
  {
   "cell_type": "code",
   "execution_count": 21,
   "metadata": {},
   "outputs": [],
   "source": [
    "# Creating a DataFrame for Table 3: Load Profile\n",
    "\n",
    "data_table_3 = {\n",
    "    \"Hour\": list(range(1, 25)),\n",
    "    \"System demand (MW)\": [\n",
    "        1775.835, 1669.815, 1590.3, 1563.795, 1563.795, 1590.3, 1961.37, 2279.43,\n",
    "        2517.975, 2544.48, 2544.48, 2517.975, 2517.975, 2517.975, 2464.965, 2464.965,\n",
    "        2623.995, 2650.5, 2650.5, 2544.48, 2411.955, 2199.915, 1934.865, 1669.815\n",
    "    ]\n",
    "}\n",
    "\n",
    "# Creating the DataFrame\n",
    "data_table_3 = pd.DataFrame(data_table_3)\n",
    "\n",
    "#save data to csv\n",
    "data_table_3.to_csv('data/system_load.csv', index=False)"
   ]
  },
  {
   "cell_type": "code",
   "execution_count": 22,
   "metadata": {},
   "outputs": [],
   "source": [
    "# Creating a DataFrame for Table 4: Node Location and Distribution of the Total System Demand\n",
    "\n",
    "data_table_4 = {\n",
    "    \"Load #\": [1, 2, 3, 4, 5, 6, 7, 8, 9, 10, 11, 12, 13, 14, 15, 16, 17],\n",
    "    \"Node\": [1, 2, 3, 4, 5, 6, 7, 8, 9, 10, 13, 14, 15, 16, 18, 19, 20],\n",
    "    \"% of system load\": [3.8, 3.4, 6.3, 2.6, 2.5, 4.8, 4.4, 6, 6.1, 6.8, 9.3, 6.8, 11.1, 3.5, 11.7, 6.4, 4.5]\n",
    "}\n",
    "\n",
    "# Creating the DataFrame\n",
    "data_table_4 = pd.DataFrame(data_table_4)\n",
    "\n",
    "#save data to csv\n",
    "data_table_4.to_csv('data/load_distribution.csv', index=False)"
   ]
  },
  {
   "cell_type": "code",
   "execution_count": 23,
   "metadata": {},
   "outputs": [],
   "source": [
    "# Creating a DataFrame for the provided table data\n",
    "\n",
    "data_table_5 = {\n",
    "    \"From\": [1, 1, 1, 2, 2, 3, 3, 4, 5, 6, 7, 8, 8, 9, 9, 10, 10, 11, 11, 12, 12, 13, 14, 15, 15, 15, 16, 16, 17, 17, 18, 19, 20, 21],\n",
    "    \"To\": [2, 3, 5, 4, 6, 9, 24, 9, 10, 10, 8, 9, 10, 11, 12, 11, 12, 13, 14, 13, 23, 23, 16, 16, 21, 24, 17, 19, 18, 22, 21, 20, 23, 22],\n",
    "    \"Reactance (p.u.)\": [0.0146, 0.2253, 0.0907, 0.1356, 0.205, 0.1271, 0.084, 0.111, 0.094, 0.0642, 0.0652, 0.1762, 0.1762, 0.084, 0.084, 0.084, 0.084, 0.0488, 0.0426, 0.0488, 0.0985, 0.0884, 0.0594, 0.0172, 0.0249, 0.0529, 0.0263, 0.0234, 0.0143, 0.1069, 0.0132, 0.0203, 0.0112, 0.0692],\n",
    "    \"Capacity (MVA)\": [175, 175, 350, 175, 175, 175, 400, 175, 350, 175, 350, 175, 175, 400, 400, 400, 400, 500, 500, 500, 500, 500, 500, 500, 1000, 500, 500, 500, 500, 500, 1000, 1000, 1000, 500]\n",
    "}\n",
    "\n",
    "# Creating the DataFrame\n",
    "data_table_5 = pd.DataFrame(data_table_5)\n",
    "\n",
    "#save data to csv\n",
    "data_table_5.to_csv('data/transmission_lines.csv', index=False)\n"
   ]
  },
  {
   "cell_type": "code",
   "execution_count": 24,
   "metadata": {},
   "outputs": [],
   "source": [
    "# add column to wind_technicaldata\n",
    "wind_technicaldata = pd.read_csv('data/wind_technicaldata.csv')\n",
    "wind_technicaldata['Ci ($/MWh)'] = 0\n",
    "wind_technicaldata.to_csv('data/wind_technicaldata.csv', index=False)"
   ]
  },
  {
   "cell_type": "code",
   "execution_count": 25,
   "metadata": {},
   "outputs": [],
   "source": [
    "import random\n",
    "\n",
    "#load the data\n",
    "demand_othersource = pd.read_csv('Max/Data/Demands.csv')\n",
    "node_list = list(demand_othersource['Location [node]'])\n",
    "power_list = list(demand_othersource[' Consumption [MW]'])\n",
    "\n",
    "#load demand\n",
    "sytem_load = pd.read_csv('data/system_load.csv')\n",
    "\n",
    "#normalize the demand column\n",
    "sytem_load['System demand (MW) norm'] = sytem_load['System demand (MW)'] / sytem_load['System demand (MW)'].mean()\n",
    "\n",
    "#create dictonary for demand, 20 entries  with an dataframe with random values for each hour, assigned to a node and including quantity and price\n",
    "demand_dict = {}\n",
    "for i in range(0,len(node_list)):\n",
    "    demand_dict[i] = pd.DataFrame({'Hour': list(range(1, 25)),\n",
    "    'Node': node_list[i],\n",
    "    'Quantity (MW)': power_list[i] * sytem_load['System demand (MW) norm'],\n",
    "    'Price ($/MWh)': [random.uniform(0, 35) for x in range(24)]})\n",
    "\n",
    "#save data to csv\n",
    "for i in range(0,len(node_list)):\n",
    "    demand_dict[i].to_csv('data/demand_bids/demand_node_'+str(i)+'.csv', index=False)"
   ]
  },
  {
   "cell_type": "code",
   "execution_count": 27,
   "metadata": {},
   "outputs": [],
   "source": [
    "#return list of demand_bids folder\n",
    "import os\n",
    "\n",
    "# Replace 'your_specific_folder_path' with the path to the folder you are interested in\n",
    "folder_path = 'data/demand_bids'\n",
    "\n",
    "# List all files in the specified folder\n",
    "file_list = os.listdir(folder_path)\n"
   ]
  },
  {
   "cell_type": "code",
   "execution_count": 28,
   "metadata": {},
   "outputs": [],
   "source": [
    "#create for each hour a dataframe of the bids\n",
    "\n",
    "for hour in range(0,24):\n",
    "    demand_bids = pd.DataFrame(columns=['Node', 'Quantity (MW)', 'Price ($/MWh)'])\n",
    "    for bid in file_list:\n",
    "        bid_df = pd.read_csv('data/demand_bids/'+bid)\n",
    "        # Data for the new row\n",
    "        new_row = {'Node': bid_df['Node'][hour], 'Quantity (MW)': bid_df['Quantity (MW)'][hour], 'Price ($/MWh)':bid_df['Price ($/MWh)'][hour]}\n",
    "\n",
    "        # Adding a new row without using the append function\n",
    "        # We're using loc to add a row at a specified index\n",
    "        demand_bids.loc[len(demand_bids)] = new_row\n",
    "    #save demand bids\n",
    "    demand_bids.to_csv('data/demand_bids_hour/demand_hour_'+str(hour)+'.csv', index=False)"
   ]
  },
  {
   "cell_type": "code",
   "execution_count": 29,
   "metadata": {},
   "outputs": [],
   "source": [
    "wind_profile = pd.read_csv('data/wind_powerprofile.csv')\n",
    "# multiply all values with 200 except of hour column\n",
    "wind_profile.iloc[:,1:] = wind_profile.iloc[:,1:]*200\n",
    "#save data to csv\n",
    "wind_profile.to_csv('data/wind_powerprofile_200.csv', index=False)"
   ]
  }
 ],
 "metadata": {
  "kernelspec": {
   "display_name": "Python 3",
   "language": "python",
   "name": "python3"
  },
  "language_info": {
   "codemirror_mode": {
    "name": "ipython",
    "version": 3
   },
   "file_extension": ".py",
   "mimetype": "text/x-python",
   "name": "python",
   "nbconvert_exporter": "python",
   "pygments_lexer": "ipython3",
   "version": "3.11.1"
  }
 },
 "nbformat": 4,
 "nbformat_minor": 2
}
