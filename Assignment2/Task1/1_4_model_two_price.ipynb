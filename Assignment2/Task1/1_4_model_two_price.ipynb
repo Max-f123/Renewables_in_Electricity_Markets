{
 "cells": [
  {
   "cell_type": "code",
   "execution_count": 9,
   "metadata": {},
   "outputs": [],
   "source": [
    "import Pkg\n",
    "#Pkg.add(\"JuMP\")\n",
    "#Pkg.add(\"GLPK\")\n",
    "#Pkg.add(\"Gruobi\")\n",
    "#Pkg.add(\"DataFrames\")\n",
    "#Pkg.add(\"CSV\")\n",
    "#Pkg.add(\"PyCall\")"
   ]
  },
  {
   "cell_type": "code",
   "execution_count": 10,
   "metadata": {},
   "outputs": [],
   "source": [
    "using JuMP, GLPK\n",
    "using DataFrames\n",
    "using CSV\n",
    "using PrettyTables\n",
    "using Random"
   ]
  },
  {
   "cell_type": "code",
   "execution_count": 11,
   "metadata": {},
   "outputs": [],
   "source": [
    "# Load the data\n",
    "scenarios_df = CSV.read(\"../data/scenarios.csv\", DataFrame)\n",
    "\n",
    "n_scenarios = size(scenarios_df, 2)/3\n",
    "n_scenarios = convert(Int, n_scenarios)\n",
    "\n",
    "# create a dictonary with 200 dataframes for each scenario\n",
    "all_scenarios = Dict()\n",
    "for i in 1:n_scenarios\n",
    "    df_helper = DataFrame(scenarios_df[:,3*i-2:3*i])\n",
    "    df_helper[!,3] = df_helper[!,3] .* 1.0\n",
    "    rename!(df_helper, [:\"price\", :\"wind power\", :\"grid_excess\"])\n",
    "    all_scenarios[i] = df_helper\n",
    "end"
   ]
  },
  {
   "cell_type": "code",
   "execution_count": 12,
   "metadata": {},
   "outputs": [
    {
     "data": {
      "text/plain": [
       "Any[]"
      ]
     },
     "metadata": {},
     "output_type": "display_data"
    }
   ],
   "source": [
    "W = 250\n",
    "hours = 24\n",
    "Random.seed!(123)\n",
    "selected_scenarios = rand(1:n_scenarios, W)\n",
    "\n",
    "scenarios = Dict()\n",
    "counter = 1\n",
    "for i in selected_scenarios\n",
    "    scenarios[counter] = all_scenarios[i]\n",
    "    counter += 1\n",
    "end\n",
    "\n",
    "# create the list of index of scenarios out of sample\n",
    "out_of_sample = []\n",
    "for i in 1:n_scenarios\n",
    "    if i ∉ selected_scenarios\n",
    "        push!(out_of_sample, i)\n",
    "    end\n",
    "end\n",
    "\n",
    "unselected_scenarios = Dict()\n",
    "counter = 1\n",
    "for i in out_of_sample\n",
    "    unselected_scenarios[counter] = all_scenarios[i]\n",
    "    counter += 1\n",
    "end\n",
    "\n",
    "alpha = 0.9\n",
    "beta = 0.8\n",
    "objectiv_values = []\n",
    "exp_profits = []\n",
    "profits_in = []\n",
    "CVaR_values = []\n"
   ]
  },
  {
   "cell_type": "code",
   "execution_count": 13,
   "metadata": {},
   "outputs": [
    {
     "name": "stdout",
     "output_type": "stream",
     "text": [
      "Optimal solution found\n",
      "Expected profit 129743.68116920897\n",
      "p_DA: [22.33724183870968, 14.389693451612905, 15.949935451612903, 13.469580564516129, 9.242903161290323, 5.90827414516129, 145.9269354516129, 2.7339112741935483, 1.1038967741935486, 146.94499998387096, 0.7919354838709678, 0.7419306451612904, 142.91516125806453, 1.167741935483871, 135.9887096612903, 2.3072451612903224, 146.0248386935484, 149.60145158064518, 5.493548387096774, 152.74596772580645, 4.493516129032258, 4.803145161290321, 6.808774177419355, 149.57870966129033]\n"
     ]
    }
   ],
   "source": [
    "\n",
    "# Create a new model with GLPK solver\n",
    "model = Model(GLPK.Optimizer)\n",
    "unregister(model, :p_DA)\n",
    "\n",
    "# Define the decision variables for hour\n",
    "@variable(model, p_DA[1:hours])\n",
    "@variable(model, delta[1:W,1:hours])\n",
    "@variable(model, delta_up[1:W,1:hours])\n",
    "@variable(model, delta_down[1:W,1:hours])\n",
    "@variable(model, zeta)\n",
    "@variable(model, eta[1:W] >= 0)\n",
    "\n",
    "# Define the objective function\n",
    "@objective(model, Max, (1-beta) *  sum(1/W*(scenarios[i][hour,\"price\"] * p_DA[hour]\n",
    "    + delta_up[i,hour] * scenarios[i][hour,\"price\"] * (scenarios[i][hour,\"grid_excess\"]*0.9 + (1-scenarios[i][hour,\"grid_excess\"])*1)\n",
    "    - delta_down[i,hour] * scenarios[i][hour,\"price\"] * (scenarios[i][hour,\"grid_excess\"]*1 + (1-scenarios[i][hour,\"grid_excess\"])*1.2)\n",
    "    + beta  * (zeta - (1/(1-alpha)) * sum(1/W * eta[i] for i in 1:W))) for i in 1:W, hour in 1:hours))\n",
    "\n",
    "# Define the constraints\n",
    "@constraint(model, [hour in 1:hours], p_DA[hour] <= 200)\n",
    "@constraint(model, [hour in 1:hours], p_DA[hour] >= 0)\n",
    "@constraint(model, [i in 1:W, hour in 1:hours], delta[i,hour] == scenarios[i][hour,\"wind power\"] - p_DA[hour])\n",
    "@constraint(model, [i in 1:W, hour in 1:hours], delta[i,hour] == delta_up[i,hour] - delta_down[i,hour])\n",
    "@constraint(model, [i in 1:W, hour in 1:hours], delta_down[i,hour] >= 0)\n",
    "#@constraint(model, [i in 1:W, hour in 1:hours], delta_down[i,hour] <= p_DA[hour])\n",
    "@constraint(model, [i in 1:W, hour in 1:hours], delta_up[i,hour] >= 0)\n",
    "#@constraint(model, [i in 1:W, hour in 1:hours], delta_up[i,hour] + p_DA[hour] <= 200)\n",
    "@constraint(model, [i in 1:W], eta[i] >= 0)\n",
    "@constraint(model, [i in 1:W], -1 * sum(scenarios[i][hour,\"price\"] * p_DA[hour]\n",
    "+ delta_up[i,hour] * scenarios[i][hour,\"price\"] * (scenarios[i][hour,\"grid_excess\"]*0.9 + (1-scenarios[i][hour,\"grid_excess\"])*1)\n",
    "- delta_down[i,hour] * scenarios[i][hour,\"price\"] * (scenarios[i][hour,\"grid_excess\"]*1 + (1-scenarios[i][hour,\"grid_excess\"])*1.2) for hour in 1:hours) + zeta - eta[i] <= 0)\n",
    "\n",
    "\n",
    "\n",
    "# Solve the optimization problem\n",
    "optimize!(model)\n",
    "\n",
    "# save the p_DA values\n",
    "p_DA_values = value.(p_DA)\n",
    "\n",
    "exp_profit = value.(sum(1/W.*(scenarios[i][hour,\"price\"] * p_DA[hour]\n",
    "    + delta_up[i,hour] * scenarios[i][hour,\"price\"] * (scenarios[i][hour,\"grid_excess\"]*0.9 + (1-scenarios[i][hour,\"grid_excess\"])*1)\n",
    "    - delta_down[i,hour] * scenarios[i][hour,\"price\"] * (scenarios[i][hour,\"grid_excess\"]*1 + (1-scenarios[i][hour,\"grid_excess\"])*1.2) for i in 1:W, hour in 1:hours)))\n",
    "\n",
    "# save the profit of each scenario\n",
    "for i in 1:W\n",
    "    push!(profits_in, value.(sum(scenarios[i][hour,\"price\"] * p_DA[hour]\n",
    "    + delta_up[i,hour] * scenarios[i][hour,\"price\"] * (scenarios[i][hour,\"grid_excess\"]*0.9 + (1-scenarios[i][hour,\"grid_excess\"])*1)\n",
    "    - delta_down[i,hour] * scenarios[i][hour,\"price\"] * (scenarios[i][hour,\"grid_excess\"]*1 + (1-scenarios[i][hour,\"grid_excess\"])*1.2) for hour in 1:hours)))\n",
    "end\n",
    "\n",
    "\n",
    "#println(model)\n",
    "\n",
    "# Print the termination status\n",
    "status = termination_status(model)\n",
    "if status == MOI.OPTIMAL\n",
    "    println(\"Optimal solution found\")\n",
    "    println(\"Expected profit \", exp_profit)\n",
    "    println(\"p_DA: \", value.(p_DA))\n",
    "    \n",
    "else\n",
    "    println(\"No optimal solution found\")\n",
    "end\n"
   ]
  },
  {
   "cell_type": "code",
   "execution_count": 14,
   "metadata": {},
   "outputs": [
    {
     "data": {
      "text/plain": [
       "26300.59931582175"
      ]
     },
     "metadata": {},
     "output_type": "display_data"
    }
   ],
   "source": [
    "W_new = n_scenarios - W\n",
    "hours = 24\n",
    "profits_out = []\n",
    "\n",
    "# calculate the expected profit for the out of sample scenarios\n",
    "exp_profit = 0\n",
    "for i in 1:W_new\n",
    "    profit_day = 0\n",
    "    for hour in 1:hours\n",
    "        profit = 0\n",
    "        profit += unselected_scenarios[1][hour,\"price\"] * p_DA_values[hour] # should the day ahead price be fixed to the first scenario? So instead of i, 1?\n",
    "        if unselected_scenarios[i][hour,\"wind power\"] > p_DA_values[hour]\n",
    "            profit += unselected_scenarios[1][hour,\"price\"] * (unselected_scenarios[i][hour,\"wind power\"] - p_DA_values[hour]) * (unselected_scenarios[i][hour,\"grid_excess\"]*0.9 + (1-unselected_scenarios[i][hour,\"grid_excess\"])*1)\n",
    "        else\n",
    "            profit -= unselected_scenarios[1][hour,\"price\"] * (p_DA_values[hour] - unselected_scenarios[i][hour,\"wind power\"]) * (unselected_scenarios[i][hour,\"grid_excess\"]*1 + (1-unselected_scenarios[i][hour,\"grid_excess\"])*1.2)\n",
    "        end\n",
    "        profit_day += profit\n",
    "    end\n",
    "    push!(profits_out, profit_day)\n",
    "    exp_profit += profit_day\n",
    "end\n",
    "\n",
    "exp_profit = exp_profit / W_new\n",
    "\n"
   ]
  },
  {
   "cell_type": "code",
   "execution_count": 15,
   "metadata": {},
   "outputs": [
    {
     "data": {
      "text/plain": [
       "\"1_4_results/profits_two_price.csv\""
      ]
     },
     "metadata": {},
     "output_type": "display_data"
    }
   ],
   "source": [
    "# create a dataframe with the profits and if the scenanrio is in or out of sample\n",
    "df = DataFrame(Scenario = 1:W + W_new, Profit = [profits_in; profits_out], In_Out = [fill(\"In\",W); fill(\"Out\",W_new)])  \n",
    "\n",
    "# save the data\n",
    "CSV.write(\"1_4_results/profits_two_price.csv\", df)\n",
    "\n",
    "\n"
   ]
  },
  {
   "cell_type": "code",
   "execution_count": 16,
   "metadata": {},
   "outputs": [],
   "source": []
  }
 ],
 "metadata": {
  "kernelspec": {
   "display_name": "Julia 1.9.3",
   "language": "julia",
   "name": "julia-1.9"
  },
  "language_info": {
   "file_extension": ".jl",
   "mimetype": "application/julia",
   "name": "julia",
   "version": "1.9.3"
  }
 },
 "nbformat": 4,
 "nbformat_minor": 2
}
