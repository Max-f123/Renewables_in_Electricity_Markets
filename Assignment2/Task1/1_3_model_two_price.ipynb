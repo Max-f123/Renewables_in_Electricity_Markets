{
 "cells": [
  {
   "cell_type": "code",
   "execution_count": 1,
   "metadata": {},
   "outputs": [],
   "source": [
    "import Pkg\n",
    "#Pkg.add(\"JuMP\")\n",
    "#Pkg.add(\"GLPK\")\n",
    "#Pkg.add(\"Gruobi\")\n",
    "#Pkg.add(\"DataFrames\")\n",
    "#Pkg.add(\"CSV\")\n",
    "# Pkg.add(\"PyPlot\")\n",
    "# Pkg.add(\"PyCall\")"
   ]
  },
  {
   "cell_type": "code",
   "execution_count": 2,
   "metadata": {},
   "outputs": [],
   "source": [
    "using JuMP, GLPK\n",
    "using DataFrames\n",
    "using CSV\n",
    "using PrettyTables\n",
    "using Random\n",
    "using Plots\n",
    "# using PyPlot\n",
    "# using PyCall"
   ]
  },
  {
   "cell_type": "code",
   "execution_count": 3,
   "metadata": {},
   "outputs": [],
   "source": [
    "# Load the data\n",
    "scenarios_df = CSV.read(\"../data/scenarios.csv\", DataFrame)\n",
    "\n",
    "n_scenarios = size(scenarios_df, 2)/3\n",
    "n_scenarios = convert(Int, n_scenarios)\n",
    "\n",
    "# create a dictonary with 200 dataframes for each scenario\n",
    "all_scenarios = Dict()\n",
    "for i in 1:n_scenarios\n",
    "    df_helper = DataFrame(scenarios_df[:,3*i-2:3*i])\n",
    "    df_helper[!,3] = df_helper[!,3] .* 1.0\n",
    "    rename!(df_helper, [:\"price\", :\"wind power\", :\"grid_excess\"])\n",
    "    all_scenarios[i] = df_helper\n",
    "end"
   ]
  },
  {
   "cell_type": "code",
   "execution_count": 4,
   "metadata": {},
   "outputs": [
    {
     "data": {
      "text/plain": [
       "Any[]"
      ]
     },
     "metadata": {},
     "output_type": "display_data"
    }
   ],
   "source": [
    "W = 250\n",
    "hours = 24\n",
    "Random.seed!(123)\n",
    "selected_scenarios = rand(1:n_scenarios, W)\n",
    "\n",
    "scenarios = Dict()\n",
    "counter = 1\n",
    "for i in selected_scenarios\n",
    "    scenarios[counter] = all_scenarios[i]\n",
    "    counter += 1\n",
    "end\n",
    "\n",
    "alpha = 0.9\n",
    "#make beta a list of values\n",
    "betas = [0, 0.1, 0.2, 0.3, 0.4, 0.5, 0.6, 0.7, 0.8, 0.9, 1]\n",
    "objectiv_values = []\n",
    "exp_profits = []\n",
    "CVaR_values = [] "
   ]
  },
  {
   "cell_type": "code",
   "execution_count": 5,
   "metadata": {},
   "outputs": [],
   "source": [
    "# create a dataframe to store the profits per scenario for each beta\n",
    "profits_df = DataFrame()\n",
    "\n",
    "# add a first column to the dataframe for beta\n",
    "profits_df[!, \"beta\"] = zeros(length(betas))\n",
    "\n",
    "# add columns to the dataframe for the profits per scenario\n",
    "for i in 1:W\n",
    "    profits_df[!, Symbol(\"profit_scenario_\" * string(i))] = zeros(length(betas))\n",
    "end\n"
   ]
  },
  {
   "cell_type": "code",
   "execution_count": 8,
   "metadata": {},
   "outputs": [
    {
     "name": "stdout",
     "output_type": "stream",
     "text": [
      "Beta: 0.0\n",
      "p_DA: [64.39741935483872, 14.389693451612905, 56.90564516129032, 50.954193548387096, 43.07419354838709, 45.95790322580645, 145.9269354516129, 13.34106441935484, 1.1038967741935486, 146.94499998387096, 21.6095805, 0.7419306451612904, 142.91516125806453, 50.27709674193549, 135.9887096612903, 53.12935479032258, 146.0248386935484, 149.60145158064518, 16.439596645161288, 152.74596772580645, 4.493516129032258, 49.94887096774193, 6.808774177419355, 149.57870966129033]\n",
      "Objective value: 130697.43588726835\n",
      "Expected profit: 130697.4358872683\n",
      "CVaR: 6.415223594478769\n",
      "Beta: 0.1\n",
      "p_DA: [64.39741935483872, 14.389693451612905, 56.90564516129032, 50.954193548387096, 43.07419354838709, 45.95790322580645, 145.9269354516129, 13.34106441935484, 1.1038967741935486, 146.94499998387096, 21.6095805, 0.7419306451612904, 142.91516125806453, 50.27709674193549, 135.9887096612903, 53.12935479032258, 146.0248386935484, 149.60145158064518, 16.439596645161288, 152.74596772580645, 4.493516129032258, 49.94887096774195, 6.808774177419355, 149.57870966129033]\n",
      "Objective value: 117631.50954417128\n",
      "Expected profit: 130697.4358872683\n",
      "CVaR: 38.17245630021417\n",
      "Beta: 0.2\n",
      "p_DA: [64.39741935483872, 14.389693451612905, 56.90564516129032, 50.954193548387096, 43.07419354838709, 45.95790322580645, 145.9269354516129, 13.34106441935484, 1.1038967741935486, 146.94499998387096, 21.6095805, 0.7419306451612904, 142.91516125806453, 50.27709674193549, 135.9887096612903, 53.12935479032258, 146.0248386935484, 149.60145158064518, 16.439596645161288, 152.74596772580645, 4.493516129032258, 49.94887096774193, 6.808774177419355, 149.57870966129033]\n",
      "Objective value: 104565.58320107506\n",
      "Expected profit: 130697.4358872683\n",
      "CVaR: 38.172456300214165\n",
      "Beta: 0.3\n",
      "p_DA: [64.39741935483872, 14.389693451612905, 56.90564516129032, 50.954193548387096, 43.07419354838709, 45.95790322580645, 145.9269354516129, 13.34106441935484, 1.1038967741935486, 146.94499998387096, 21.6095805, 0.7419306451612904, 142.91516125806453, 50.27709674193549, 135.9887096612903, 53.12935479032258, 146.0248386935484, 149.60145158064518, 16.439596645161288, 152.74596772580645, 4.493516129032258, 49.94887096774193, 6.808774177419355, 149.57870966129033]\n",
      "Objective value: 91499.65685797822\n",
      "Expected profit: 130697.4358872683\n",
      "CVaR: 38.172456300214165\n",
      "Beta: 0.4\n",
      "p_DA: [64.39741935483872, 14.389693451612905, 56.90564516129032, 50.954193548387096, 43.07419354838709, 45.95790322580645, 145.9269354516129, 13.34106441935484, 1.1038967741935486, 146.94499998387096, 21.6095805, 0.7419306451612904, 142.91516125806453, 50.27709674193549, 135.9887096612903, 53.12935479032258, 146.0248386935484, 149.60145158064518, 16.439596645161288, 152.74596772580645, 4.493516129032258, 49.94887096774193, 6.808774177419355, 149.57870966129033]\n",
      "Objective value: 78433.73051488063\n",
      "Expected profit: 130697.4358872683\n",
      "CVaR: 38.172456300214165\n",
      "Beta: 0.5\n",
      "p_DA: [64.39741935483872, 14.389693451612905, 56.90564516129032, 50.954193548387096, 43.07419354838709, 45.95790322580645, 145.9269354516129, 13.34106441935484, 1.1038967741935486, 146.94499998387096, 21.6095805, 0.7419306451612904, 142.91516125806453, 50.27709674193549, 135.9887096612903, 53.12935479032258, 146.0248386935484, 149.60145158064518, 16.439596645161288, 152.74596772580645, 4.493516129032258, 49.94887096774193, 6.808774177419355, 149.57870966129033]\n",
      "Objective value: 65367.80417178428\n",
      "Expected profit: 130697.4358872683\n",
      "CVaR: 38.172456300214165\n",
      "Beta: 0.6\n",
      "p_DA: [64.39741935483872, 14.389693451612905, 56.90564516129032, 50.954193548387096, 43.07419354838709, 45.95790322580645, 145.9269354516129, 13.34106441935484, 1.1038967741935486, 146.94499998387096, 21.6095805, 0.7419306451612904, 142.91516125806453, 50.27709674193549, 135.9887096612903, 53.12935479032258, 146.0248386935484, 149.60145158064518, 16.439596645161288, 152.74596772580645, 4.493516129032258, 49.94887096774193, 6.808774177419355, 149.57870966129033]\n",
      "Objective value: 52301.87782868763\n",
      "Expected profit: 130697.4358872683\n",
      "CVaR: 38.172456300214165\n",
      "Beta: 0.7\n",
      "p_DA: [64.39741935483872, 14.389693451612905, 56.90564516129032, 50.954193548387096, 43.07419354838709, 45.95790322580645, 145.9269354516129, 13.34106441935484, 1.1038967741935486, 146.94499998387096, 21.6095805, 0.7419306451612904, 142.91516125806453, 50.27709674193549, 135.9887096612903, 53.12935479032258, 146.0248386935484, 149.60145158064518, 16.439596645161288, 152.74596772580645, 4.493516129032258, 49.94887096774193, 6.808774177419355, 149.57870966129033]\n",
      "Objective value: 39235.95148559042\n",
      "Expected profit: 130697.4358872683\n",
      "CVaR: 38.17245630021418\n",
      "Beta: 0.8\n",
      "p_DA: [64.39741935483872, 14.389693451612905, 56.90564516129032, 50.954193548387096, 43.07419354838709, 45.95790322580645, 145.9269354516129, 13.34106441935484, 1.1038967741935486, 146.94499998387096, 21.6095805, 0.7419306451612904, 142.91516125806453, 50.27709674193549, 135.9887096612903, 53.12935479032258, 146.0248386935484, 149.60145158064518, 16.439596645161288, 152.74596772580645, 4.493516129032258, 49.94887096774193, 6.808774177419355, 149.57870966129033]\n",
      "Objective value: 26170.02514249391\n",
      "Expected profit: 130697.4358872683\n",
      "CVaR: 38.172456300214165\n",
      "Beta: 0.9\n",
      "p_DA: [64.39741935483872, 14.389693451612905, 56.90564516129032, 50.04241930645161, 43.07419354838709, 45.95790322580645, 145.9269354516129, 13.34106441935484, 1.1038967741935486, 146.94499998387096, 21.6095805, 0.7419306451612904, 142.91516125806453, 50.27709674193549, 135.9887096612903, 41.58451606451612, 146.0248386935484, 149.60145158064518, 16.439596645161288, 152.74596772580645, 4.493516129032258, 49.94887096774193, 6.808774177419355, 149.57870966129033]\n",
      "Objective value: 13104.117780434422\n",
      "Expected profit: 130696.71005171021\n",
      "CVaR: 38.27419473702078\n",
      "Beta: 1.0\n",
      "p_DA: [22.33724183870968, 14.389693451612905, 15.949935451612903, 13.469580564516129, 9.242903161290323, 5.90827414516129, 145.9269354516129, 2.7339112741935483, 1.1038967741935486, 142.21532251612905, 0.7919354838709678, 0.7419306451612904, 137.33516127419355, 1.1677419354838712, 132.9970967419355, 2.3072451612903233, 146.0248386935484, 149.60145158064518, 5.493548387096774, 152.74596772580645, 4.493516129032258, 4.803145161290321, 6.808774177419355, 149.57870966129033]\n",
      "Objective value: 41.88855161479495\n",
      "Expected profit: 129742.80499577524\n",
      "CVaR: 41.888551614794956\n"
     ]
    }
   ],
   "source": [
    "loop = 0\n",
    "\n",
    "for beta in betas\n",
    "    print(\"Beta: \", beta, \"\\n\")\n",
    "    loop += 1\n",
    "    # Create a new model with GLPK solver\n",
    "    model = Model(GLPK.Optimizer)\n",
    "    unregister(model, :p_DA)\n",
    "    #reset the model\n",
    "    \n",
    "\n",
    "    # Define the decision variables for hour\n",
    "    @variable(model, p_DA[1:hours])\n",
    "    @variable(model, delta[1:W,1:hours])\n",
    "    @variable(model, delta_up[1:W,1:hours])\n",
    "    @variable(model, delta_down[1:W,1:hours])\n",
    "    @variable(model, zeta)\n",
    "    @variable(model, eta[1:W])\n",
    "\n",
    "\n",
    "    # Define the objective function\n",
    "    @objective(model, Max, (1-beta) * sum(1/W *(\n",
    "    scenarios[i][hour,\"price\"] * p_DA[hour]\n",
    "    + delta_up[i,hour] * scenarios[i][hour,\"price\"] * (scenarios[i][hour,\"grid_excess\"]*0.9 + (1-scenarios[i][hour,\"grid_excess\"])*1)\n",
    "    - delta_down[i,hour] * scenarios[i][hour,\"price\"] * (scenarios[i][hour,\"grid_excess\"]*1 + (1-scenarios[i][hour,\"grid_excess\"])*1.2)\n",
    "    ) for i in 1:W, hour in 1:hours)\n",
    "    + beta  * (zeta - (1/(1-alpha)) * sum(1/W .* eta[i] for i in 1:W)))\n",
    "\n",
    "    # Define the constraints\n",
    "    @constraint(model, [hour in 1:hours], p_DA[hour] <= 200)\n",
    "    @constraint(model, [hour in 1:hours], p_DA[hour] >= 0)\n",
    "    @constraint(model, [i in 1:W, hour in 1:hours], delta[i,hour] == scenarios[i][hour,\"wind power\"] - p_DA[hour])\n",
    "    @constraint(model, [i in 1:W, hour in 1:hours], delta[i,hour] == delta_up[i,hour] - delta_down[i,hour])\n",
    "    @constraint(model, [i in 1:W, hour in 1:hours], delta_down[i,hour] >= 0)\n",
    "    @constraint(model, [i in 1:W, hour in 1:hours], delta_up[i,hour] >= 0)\n",
    "    @constraint(model, [i in 1:W], eta[i] >= 0)\n",
    "    @constraint(model, [i in 1:W], -1 * sum(1/W *(scenarios[i][hour,\"price\"] * p_DA[hour]\n",
    "        + delta_up[i,hour] * scenarios[i][hour,\"price\"] * (scenarios[i][hour,\"grid_excess\"]*0.9 + (1-scenarios[i][hour,\"grid_excess\"])*1)\n",
    "        - delta_down[i,hour] * scenarios[i][hour,\"price\"] * (scenarios[i][hour,\"grid_excess\"]*1 + (1-scenarios[i][hour,\"grid_excess\"])*1.2)) for hour in 1:hours) \n",
    "        + zeta - eta[i] <= 0)\n",
    "\n",
    "\n",
    "    # Solve the optimization problem\n",
    "    optimize!(model)\n",
    "\n",
    "    exp_profit = value.(sum(1/W *(\n",
    "        scenarios[i][hour,\"price\"] * p_DA[hour]\n",
    "        + delta_up[i,hour] * scenarios[i][hour,\"price\"] * (scenarios[i][hour,\"grid_excess\"]*0.9 + (1-scenarios[i][hour,\"grid_excess\"])*1)\n",
    "        - delta_down[i,hour] * scenarios[i][hour,\"price\"] * (scenarios[i][hour,\"grid_excess\"]*1 + (1-scenarios[i][hour,\"grid_excess\"])*1.2)\n",
    "        ) for i in 1:W, hour in 1:hours))\n",
    "\n",
    "    CVaR = (value.(zeta) - (1/(1-alpha)) * sum(1/W .* value.(eta[i]) for i in 1:W))\n",
    "\n",
    "    # Print the termination status\n",
    "    status = termination_status(model)\n",
    "    if status == MOI.OPTIMAL\n",
    "        #println(\"Optimal solution found\")\n",
    "\n",
    "        println(\"p_DA: \", value.(p_DA))\n",
    "        \n",
    "        # RETURN OBJECTIVE value\n",
    "        println(\"Objective value: \", objective_value(model))\n",
    "        println(\"Expected profit: \", exp_profit)\n",
    "        println(\"CVaR: \", CVaR)\n",
    "        #println(\"zeta: \", value.(zeta))\n",
    "        #print sum of eta\n",
    "        #println(\"sum of eta: \", sum(value.(eta)))\n",
    "        #push!(objectiv_values, objective_value(model))\n",
    "        #push!(exp_profits, exp_profit)\n",
    "        #push!(CVaR_values, CVaR)\n",
    "    else\n",
    "        println(\"No optimal solution found\")\n",
    "    end\n",
    "\n",
    "     #save the profits of each scenario for this beta in profits_df\n",
    "    #  profits_df[loop, \"beta\"] = beta\n",
    "    #  for i in 1:W\n",
    "    #      profits_df[loop, Symbol(\"profit_scenario_\" * string(i))] = value.(sum(1/W *(\n",
    "    #         scenarios[i][hour,\"price\"] * p_DA[hour]\n",
    "    #         + delta_up[i,hour] * scenarios[i][hour,\"price\"] * (scenarios[i][hour,\"grid_excess\"]*0.9 + (1-scenarios[i][hour,\"grid_excess\"])*1)\n",
    "    #         - delta_down[i,hour] * scenarios[i][hour,\"price\"] * (scenarios[i][hour,\"grid_excess\"]*1 + (1-scenarios[i][hour,\"grid_excess\"])*1.2)\n",
    "    #         ) for hour in 1:hours))\n",
    "    #  end\n",
    "end"
   ]
  },
  {
   "cell_type": "code",
   "execution_count": null,
   "metadata": {},
   "outputs": [],
   "source": [
    "profit_df = DataFrame(scenario = Int[], profit = Float64[])\n",
    "\n",
    "for i in 1:W\n",
    "    profit = 0\n",
    "    for hour in 1:hours\n",
    "        profit += (scenarios[i][hour,\"price\"] * value(p_DA[hour])\n",
    "        + scenarios[i][hour,\"price\"] * value(delta[i, hour])*((0.9.*scenarios[i][hour,\"grid_excess\"]) + 1.2.*(1-scenarios[i][hour,\"grid_excess\"])))\n",
    "    end\n",
    "    push!(profit_df, [i, profit])\n",
    "end"
   ]
  },
  {
   "cell_type": "code",
   "execution_count": 17,
   "metadata": {},
   "outputs": [
    {
     "data": {
      "text/plain": [
       "\"1_3_results/two_price_results.csv\""
      ]
     },
     "metadata": {},
     "output_type": "display_data"
    }
   ],
   "source": [
    "#make a dataframe with the results\n",
    "results = DataFrame(betas = betas, objective_values = objectiv_values, exp_profits = exp_profits, CVaR_values = CVaR_values)\n",
    "\n",
    "#save the results\n",
    "CSV.write(\"1_3_results/two_price_results.csv\", results)"
   ]
  },
  {
   "cell_type": "code",
   "execution_count": 8,
   "metadata": {},
   "outputs": [
    {
     "data": {
      "text/plain": [
       "\"1_3_results/two_price_profits.csv\""
      ]
     },
     "metadata": {},
     "output_type": "display_data"
    }
   ],
   "source": [
    "# save the profits per scenario for each beta\n",
    "\n",
    "CSV.write(\"1_3_results/two_price_profits.csv\", profits_df)\n"
   ]
  }
 ],
 "metadata": {
  "kernelspec": {
   "display_name": "Julia 1.9.3",
   "language": "julia",
   "name": "julia-1.9"
  },
  "language_info": {
   "file_extension": ".jl",
   "mimetype": "application/julia",
   "name": "julia",
   "version": "1.9.3"
  }
 },
 "nbformat": 4,
 "nbformat_minor": 2
}
