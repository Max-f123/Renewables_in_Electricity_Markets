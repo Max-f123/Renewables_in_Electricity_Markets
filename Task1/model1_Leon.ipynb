{
 "cells": [
  {
   "cell_type": "code",
   "execution_count": 1,
   "metadata": {},
   "outputs": [],
   "source": [
    "using JuMP, GLPK\n",
    "using DataFrames\n",
    "using CSV"
   ]
  },
  {
   "cell_type": "code",
   "execution_count": 5,
   "metadata": {},
   "outputs": [
    {
     "data": {
      "text/html": [
       "<div><div style = \"float: left;\"><span>12×10 DataFrame</span></div><div style = \"clear: both;\"></div></div><div class = \"data-frame\" style = \"overflow-x: scroll;\"><table class = \"data-frame\" style = \"margin-bottom: 6px;\"><thead><tr class = \"header\"><th class = \"rowNumber\" style = \"font-weight: bold; text-align: right;\">Row</th><th style = \"text-align: left;\">Unit #</th><th style = \"text-align: left;\">Node</th><th style = \"text-align: left;\">Pmax (MW)</th><th style = \"text-align: left;\">Pmin (MW)</th><th style = \"text-align: left;\">R+ (MW)</th><th style = \"text-align: left;\">R- (MW)</th><th style = \"text-align: left;\">RU (MW/h)</th><th style = \"text-align: left;\">RD (MW/h)</th><th style = \"text-align: left;\">UT (h)</th><th style = \"text-align: left;\">DT (h)</th></tr><tr class = \"subheader headerLastRow\"><th class = \"rowNumber\" style = \"font-weight: bold; text-align: right;\"></th><th title = \"Int64\" style = \"text-align: left;\">Int64</th><th title = \"Int64\" style = \"text-align: left;\">Int64</th><th title = \"Int64\" style = \"text-align: left;\">Int64</th><th title = \"Float64\" style = \"text-align: left;\">Float64</th><th title = \"Int64\" style = \"text-align: left;\">Int64</th><th title = \"Int64\" style = \"text-align: left;\">Int64</th><th title = \"Int64\" style = \"text-align: left;\">Int64</th><th title = \"Int64\" style = \"text-align: left;\">Int64</th><th title = \"Int64\" style = \"text-align: left;\">Int64</th><th title = \"Int64\" style = \"text-align: left;\">Int64</th></tr></thead><tbody><tr><td class = \"rowNumber\" style = \"font-weight: bold; text-align: right;\">1</td><td style = \"text-align: right;\">1</td><td style = \"text-align: right;\">1</td><td style = \"text-align: right;\">152</td><td style = \"text-align: right;\">30.4</td><td style = \"text-align: right;\">40</td><td style = \"text-align: right;\">40</td><td style = \"text-align: right;\">120</td><td style = \"text-align: right;\">120</td><td style = \"text-align: right;\">8</td><td style = \"text-align: right;\">4</td></tr><tr><td class = \"rowNumber\" style = \"font-weight: bold; text-align: right;\">2</td><td style = \"text-align: right;\">2</td><td style = \"text-align: right;\">2</td><td style = \"text-align: right;\">152</td><td style = \"text-align: right;\">30.4</td><td style = \"text-align: right;\">40</td><td style = \"text-align: right;\">40</td><td style = \"text-align: right;\">120</td><td style = \"text-align: right;\">120</td><td style = \"text-align: right;\">8</td><td style = \"text-align: right;\">4</td></tr><tr><td class = \"rowNumber\" style = \"font-weight: bold; text-align: right;\">3</td><td style = \"text-align: right;\">3</td><td style = \"text-align: right;\">7</td><td style = \"text-align: right;\">350</td><td style = \"text-align: right;\">75.0</td><td style = \"text-align: right;\">70</td><td style = \"text-align: right;\">70</td><td style = \"text-align: right;\">350</td><td style = \"text-align: right;\">350</td><td style = \"text-align: right;\">8</td><td style = \"text-align: right;\">8</td></tr><tr><td class = \"rowNumber\" style = \"font-weight: bold; text-align: right;\">4</td><td style = \"text-align: right;\">4</td><td style = \"text-align: right;\">13</td><td style = \"text-align: right;\">591</td><td style = \"text-align: right;\">206.85</td><td style = \"text-align: right;\">180</td><td style = \"text-align: right;\">180</td><td style = \"text-align: right;\">240</td><td style = \"text-align: right;\">240</td><td style = \"text-align: right;\">12</td><td style = \"text-align: right;\">10</td></tr><tr><td class = \"rowNumber\" style = \"font-weight: bold; text-align: right;\">5</td><td style = \"text-align: right;\">5</td><td style = \"text-align: right;\">15</td><td style = \"text-align: right;\">60</td><td style = \"text-align: right;\">12.0</td><td style = \"text-align: right;\">60</td><td style = \"text-align: right;\">60</td><td style = \"text-align: right;\">60</td><td style = \"text-align: right;\">60</td><td style = \"text-align: right;\">4</td><td style = \"text-align: right;\">2</td></tr><tr><td class = \"rowNumber\" style = \"font-weight: bold; text-align: right;\">6</td><td style = \"text-align: right;\">6</td><td style = \"text-align: right;\">15</td><td style = \"text-align: right;\">155</td><td style = \"text-align: right;\">54.25</td><td style = \"text-align: right;\">30</td><td style = \"text-align: right;\">30</td><td style = \"text-align: right;\">155</td><td style = \"text-align: right;\">155</td><td style = \"text-align: right;\">8</td><td style = \"text-align: right;\">8</td></tr><tr><td class = \"rowNumber\" style = \"font-weight: bold; text-align: right;\">7</td><td style = \"text-align: right;\">7</td><td style = \"text-align: right;\">16</td><td style = \"text-align: right;\">155</td><td style = \"text-align: right;\">54.25</td><td style = \"text-align: right;\">30</td><td style = \"text-align: right;\">30</td><td style = \"text-align: right;\">155</td><td style = \"text-align: right;\">155</td><td style = \"text-align: right;\">8</td><td style = \"text-align: right;\">8</td></tr><tr><td class = \"rowNumber\" style = \"font-weight: bold; text-align: right;\">8</td><td style = \"text-align: right;\">8</td><td style = \"text-align: right;\">18</td><td style = \"text-align: right;\">400</td><td style = \"text-align: right;\">100.0</td><td style = \"text-align: right;\">0</td><td style = \"text-align: right;\">0</td><td style = \"text-align: right;\">280</td><td style = \"text-align: right;\">280</td><td style = \"text-align: right;\">1</td><td style = \"text-align: right;\">1</td></tr><tr><td class = \"rowNumber\" style = \"font-weight: bold; text-align: right;\">9</td><td style = \"text-align: right;\">9</td><td style = \"text-align: right;\">21</td><td style = \"text-align: right;\">400</td><td style = \"text-align: right;\">100.0</td><td style = \"text-align: right;\">0</td><td style = \"text-align: right;\">0</td><td style = \"text-align: right;\">280</td><td style = \"text-align: right;\">280</td><td style = \"text-align: right;\">1</td><td style = \"text-align: right;\">1</td></tr><tr><td class = \"rowNumber\" style = \"font-weight: bold; text-align: right;\">10</td><td style = \"text-align: right;\">10</td><td style = \"text-align: right;\">22</td><td style = \"text-align: right;\">300</td><td style = \"text-align: right;\">300.0</td><td style = \"text-align: right;\">0</td><td style = \"text-align: right;\">0</td><td style = \"text-align: right;\">300</td><td style = \"text-align: right;\">300</td><td style = \"text-align: right;\">0</td><td style = \"text-align: right;\">0</td></tr><tr><td class = \"rowNumber\" style = \"font-weight: bold; text-align: right;\">11</td><td style = \"text-align: right;\">11</td><td style = \"text-align: right;\">23</td><td style = \"text-align: right;\">310</td><td style = \"text-align: right;\">108.5</td><td style = \"text-align: right;\">60</td><td style = \"text-align: right;\">60</td><td style = \"text-align: right;\">180</td><td style = \"text-align: right;\">180</td><td style = \"text-align: right;\">8</td><td style = \"text-align: right;\">8</td></tr><tr><td class = \"rowNumber\" style = \"font-weight: bold; text-align: right;\">12</td><td style = \"text-align: right;\">12</td><td style = \"text-align: right;\">23</td><td style = \"text-align: right;\">350</td><td style = \"text-align: right;\">140.0</td><td style = \"text-align: right;\">40</td><td style = \"text-align: right;\">40</td><td style = \"text-align: right;\">240</td><td style = \"text-align: right;\">240</td><td style = \"text-align: right;\">8</td><td style = \"text-align: right;\">8</td></tr></tbody></table></div>"
      ],
      "text/latex": [
       "\\begin{tabular}{r|cccccccccc}\n",
       "\t& Unit \\# & Node & Pmax (MW) & Pmin (MW) & R+ (MW) & R- (MW) & RU (MW/h) & RD (MW/h) & UT (h) & \\\\\n",
       "\t\\hline\n",
       "\t& Int64 & Int64 & Int64 & Float64 & Int64 & Int64 & Int64 & Int64 & Int64 & \\\\\n",
       "\t\\hline\n",
       "\t1 & 1 & 1 & 152 & 30.4 & 40 & 40 & 120 & 120 & 8 & $\\dots$ \\\\\n",
       "\t2 & 2 & 2 & 152 & 30.4 & 40 & 40 & 120 & 120 & 8 & $\\dots$ \\\\\n",
       "\t3 & 3 & 7 & 350 & 75.0 & 70 & 70 & 350 & 350 & 8 & $\\dots$ \\\\\n",
       "\t4 & 4 & 13 & 591 & 206.85 & 180 & 180 & 240 & 240 & 12 & $\\dots$ \\\\\n",
       "\t5 & 5 & 15 & 60 & 12.0 & 60 & 60 & 60 & 60 & 4 & $\\dots$ \\\\\n",
       "\t6 & 6 & 15 & 155 & 54.25 & 30 & 30 & 155 & 155 & 8 & $\\dots$ \\\\\n",
       "\t7 & 7 & 16 & 155 & 54.25 & 30 & 30 & 155 & 155 & 8 & $\\dots$ \\\\\n",
       "\t8 & 8 & 18 & 400 & 100.0 & 0 & 0 & 280 & 280 & 1 & $\\dots$ \\\\\n",
       "\t9 & 9 & 21 & 400 & 100.0 & 0 & 0 & 280 & 280 & 1 & $\\dots$ \\\\\n",
       "\t10 & 10 & 22 & 300 & 300.0 & 0 & 0 & 300 & 300 & 0 & $\\dots$ \\\\\n",
       "\t11 & 11 & 23 & 310 & 108.5 & 60 & 60 & 180 & 180 & 8 & $\\dots$ \\\\\n",
       "\t12 & 12 & 23 & 350 & 140.0 & 40 & 40 & 240 & 240 & 8 & $\\dots$ \\\\\n",
       "\\end{tabular}\n"
      ],
      "text/plain": [
       "\u001b[1m12×10 DataFrame\u001b[0m\n",
       "\u001b[1m Row \u001b[0m│\u001b[1m Unit # \u001b[0m\u001b[1m Node  \u001b[0m\u001b[1m Pmax (MW) \u001b[0m\u001b[1m Pmin (MW) \u001b[0m\u001b[1m R+ (MW) \u001b[0m\u001b[1m R- (MW) \u001b[0m\u001b[1m RU (MW/h) \u001b[0m\u001b[1m RD (M\u001b[0m ⋯\n",
       "     │\u001b[90m Int64  \u001b[0m\u001b[90m Int64 \u001b[0m\u001b[90m Int64     \u001b[0m\u001b[90m Float64   \u001b[0m\u001b[90m Int64   \u001b[0m\u001b[90m Int64   \u001b[0m\u001b[90m Int64     \u001b[0m\u001b[90m Int64\u001b[0m ⋯\n",
       "─────┼──────────────────────────────────────────────────────────────────────────\n",
       "   1 │      1      1        152      30.4        40       40        120        ⋯\n",
       "   2 │      2      2        152      30.4        40       40        120\n",
       "   3 │      3      7        350      75.0        70       70        350\n",
       "   4 │      4     13        591     206.85      180      180        240\n",
       "   5 │      5     15         60      12.0        60       60         60        ⋯\n",
       "   6 │      6     15        155      54.25       30       30        155\n",
       "   7 │      7     16        155      54.25       30       30        155\n",
       "   8 │      8     18        400     100.0         0        0        280\n",
       "   9 │      9     21        400     100.0         0        0        280        ⋯\n",
       "  10 │     10     22        300     300.0         0        0        300\n",
       "  11 │     11     23        310     108.5        60       60        180\n",
       "  12 │     12     23        350     140.0        40       40        240\n",
       "\u001b[36m                                                               3 columns omitted\u001b[0m"
      ]
     },
     "metadata": {},
     "output_type": "display_data"
    }
   ],
   "source": [
    "#Load data on demand \n",
    "demand = CSV.File(\"../data/demand.csv\") |> DataFrame\n",
    "\n",
    "#Load data on generation units offer\n",
    "offer = CSV.File(\"../data/cost_generation.csv\") |> DataFrame\n",
    "\n",
    "#Load data on capacity of generation units \n",
    "capacity = CSV.File(\"../data/technical_data_generation.csv\") |> DataFrame"
   ]
  }
 ],
 "metadata": {
  "kernelspec": {
   "display_name": "Julia 1.10.0",
   "language": "julia",
   "name": "julia-1.10"
  },
  "language_info": {
   "file_extension": ".jl",
   "mimetype": "application/julia",
   "name": "julia",
   "version": "1.10.0"
  }
 },
 "nbformat": 4,
 "nbformat_minor": 2
}
