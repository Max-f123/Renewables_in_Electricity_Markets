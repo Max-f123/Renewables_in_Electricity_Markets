{
 "cells": [
  {
   "cell_type": "code",
   "execution_count": 1,
   "metadata": {},
   "outputs": [],
   "source": [
    "using JuMP, GLPK\n",
    "using DataFrames\n",
    "using CSV"
   ]
  },
  {
   "cell_type": "code",
   "execution_count": 2,
   "metadata": {},
   "outputs": [
    {
     "data": {
      "text/html": [
       "<div><div style = \"float: left;\"><span>24×7 DataFrame</span></div><div style = \"clear: both;\"></div></div><div class = \"data-frame\" style = \"overflow-x: scroll;\"><table class = \"data-frame\" style = \"margin-bottom: 6px;\"><thead><tr class = \"header\"><th class = \"rowNumber\" style = \"font-weight: bold; text-align: right;\">Row</th><th style = \"text-align: left;\">Hour</th><th style = \"text-align: left;\">W1</th><th style = \"text-align: left;\">W2</th><th style = \"text-align: left;\">W3</th><th style = \"text-align: left;\">W4</th><th style = \"text-align: left;\">W5</th><th style = \"text-align: left;\">W6</th></tr><tr class = \"subheader headerLastRow\"><th class = \"rowNumber\" style = \"font-weight: bold; text-align: right;\"></th><th title = \"Int64\" style = \"text-align: left;\">Int64</th><th title = \"Float64\" style = \"text-align: left;\">Float64</th><th title = \"Float64\" style = \"text-align: left;\">Float64</th><th title = \"Float64\" style = \"text-align: left;\">Float64</th><th title = \"Float64\" style = \"text-align: left;\">Float64</th><th title = \"Float64\" style = \"text-align: left;\">Float64</th><th title = \"Float64\" style = \"text-align: left;\">Float64</th></tr></thead><tbody><tr><td class = \"rowNumber\" style = \"font-weight: bold; text-align: right;\">1</td><td style = \"text-align: right;\">1</td><td style = \"text-align: right;\">76.8921</td><td style = \"text-align: right;\">101.54</td><td style = \"text-align: right;\">92.8003</td><td style = \"text-align: right;\">95.3709</td><td style = \"text-align: right;\">96.002</td><td style = \"text-align: right;\">70.9073</td></tr><tr><td class = \"rowNumber\" style = \"font-weight: bold; text-align: right;\">2</td><td style = \"text-align: right;\">2</td><td style = \"text-align: right;\">66.8277</td><td style = \"text-align: right;\">90.9989</td><td style = \"text-align: right;\">109.167</td><td style = \"text-align: right;\">107.937</td><td style = \"text-align: right;\">103.616</td><td style = \"text-align: right;\">112.618</td></tr><tr><td class = \"rowNumber\" style = \"font-weight: bold; text-align: right;\">3</td><td style = \"text-align: right;\">3</td><td style = \"text-align: right;\">78.422</td><td style = \"text-align: right;\">116.959</td><td style = \"text-align: right;\">142.88</td><td style = \"text-align: right;\">134.78</td><td style = \"text-align: right;\">128.276</td><td style = \"text-align: right;\">133.832</td></tr><tr><td class = \"rowNumber\" style = \"font-weight: bold; text-align: right;\">4</td><td style = \"text-align: right;\">4</td><td style = \"text-align: right;\">64.1437</td><td style = \"text-align: right;\">134.249</td><td style = \"text-align: right;\">159.57</td><td style = \"text-align: right;\">133.664</td><td style = \"text-align: right;\">142.969</td><td style = \"text-align: right;\">154.233</td></tr><tr><td class = \"rowNumber\" style = \"font-weight: bold; text-align: right;\">5</td><td style = \"text-align: right;\">5</td><td style = \"text-align: right;\">102.22</td><td style = \"text-align: right;\">145.507</td><td style = \"text-align: right;\">160.944</td><td style = \"text-align: right;\">165.303</td><td style = \"text-align: right;\">144.03</td><td style = \"text-align: right;\">161.49</td></tr><tr><td class = \"rowNumber\" style = \"font-weight: bold; text-align: right;\">6</td><td style = \"text-align: right;\">6</td><td style = \"text-align: right;\">134.039</td><td style = \"text-align: right;\">131.112</td><td style = \"text-align: right;\">157.023</td><td style = \"text-align: right;\">161.828</td><td style = \"text-align: right;\">144.636</td><td style = \"text-align: right;\">155.222</td></tr><tr><td class = \"rowNumber\" style = \"font-weight: bold; text-align: right;\">7</td><td style = \"text-align: right;\">7</td><td style = \"text-align: right;\">146.517</td><td style = \"text-align: right;\">153.67</td><td style = \"text-align: right;\">141.566</td><td style = \"text-align: right;\">159.927</td><td style = \"text-align: right;\">152.86</td><td style = \"text-align: right;\">153.604</td></tr><tr><td class = \"rowNumber\" style = \"font-weight: bold; text-align: right;\">8</td><td style = \"text-align: right;\">8</td><td style = \"text-align: right;\">143.176</td><td style = \"text-align: right;\">163.392</td><td style = \"text-align: right;\">155.294</td><td style = \"text-align: right;\">170.805</td><td style = \"text-align: right;\">158.643</td><td style = \"text-align: right;\">164.307</td></tr><tr><td class = \"rowNumber\" style = \"font-weight: bold; text-align: right;\">9</td><td style = \"text-align: right;\">9</td><td style = \"text-align: right;\">163.297</td><td style = \"text-align: right;\">144.48</td><td style = \"text-align: right;\">172.638</td><td style = \"text-align: right;\">185.318</td><td style = \"text-align: right;\">150.901</td><td style = \"text-align: right;\">166.558</td></tr><tr><td class = \"rowNumber\" style = \"font-weight: bold; text-align: right;\">10</td><td style = \"text-align: right;\">10</td><td style = \"text-align: right;\">172.635</td><td style = \"text-align: right;\">104.022</td><td style = \"text-align: right;\">166.636</td><td style = \"text-align: right;\">178.014</td><td style = \"text-align: right;\">149.664</td><td style = \"text-align: right;\">150.295</td></tr><tr><td class = \"rowNumber\" style = \"font-weight: bold; text-align: right;\">11</td><td style = \"text-align: right;\">11</td><td style = \"text-align: right;\">166.935</td><td style = \"text-align: right;\">88.9871</td><td style = \"text-align: right;\">154.896</td><td style = \"text-align: right;\">187.256</td><td style = \"text-align: right;\">163.69</td><td style = \"text-align: right;\">147.406</td></tr><tr><td class = \"rowNumber\" style = \"font-weight: bold; text-align: right;\">12</td><td style = \"text-align: right;\">12</td><td style = \"text-align: right;\">161.92</td><td style = \"text-align: right;\">44.976</td><td style = \"text-align: right;\">128.268</td><td style = \"text-align: right;\">164.533</td><td style = \"text-align: right;\">154.556</td><td style = \"text-align: right;\">152.979</td></tr><tr><td class = \"rowNumber\" style = \"font-weight: bold; text-align: right;\">13</td><td style = \"text-align: right;\">13</td><td style = \"text-align: right;\">155.941</td><td style = \"text-align: right;\">29.2907</td><td style = \"text-align: right;\">125.294</td><td style = \"text-align: right;\">153.164</td><td style = \"text-align: right;\">143.349</td><td style = \"text-align: right;\">148.691</td></tr><tr><td class = \"rowNumber\" style = \"font-weight: bold; text-align: right;\">14</td><td style = \"text-align: right;\">14</td><td style = \"text-align: right;\">147.45</td><td style = \"text-align: right;\">99.6239</td><td style = \"text-align: right;\">137.481</td><td style = \"text-align: right;\">145.091</td><td style = \"text-align: right;\">149.504</td><td style = \"text-align: right;\">128.692</td></tr><tr><td class = \"rowNumber\" style = \"font-weight: bold; text-align: right;\">15</td><td style = \"text-align: right;\">15</td><td style = \"text-align: right;\">144.046</td><td style = \"text-align: right;\">119.052</td><td style = \"text-align: right;\">136.311</td><td style = \"text-align: right;\">142.282</td><td style = \"text-align: right;\">148.958</td><td style = \"text-align: right;\">97.3963</td></tr><tr><td class = \"rowNumber\" style = \"font-weight: bold; text-align: right;\">16</td><td style = \"text-align: right;\">16</td><td style = \"text-align: right;\">149.042</td><td style = \"text-align: right;\">104.619</td><td style = \"text-align: right;\">131.206</td><td style = \"text-align: right;\">145.473</td><td style = \"text-align: right;\">142.826</td><td style = \"text-align: right;\">109.022</td></tr><tr><td class = \"rowNumber\" style = \"font-weight: bold; text-align: right;\">17</td><td style = \"text-align: right;\">17</td><td style = \"text-align: right;\">136.464</td><td style = \"text-align: right;\">115.34</td><td style = \"text-align: right;\">130.63</td><td style = \"text-align: right;\">146.518</td><td style = \"text-align: right;\">139.699</td><td style = \"text-align: right;\">96.4666</td></tr><tr><td class = \"rowNumber\" style = \"font-weight: bold; text-align: right;\">18</td><td style = \"text-align: right;\">18</td><td style = \"text-align: right;\">131.297</td><td style = \"text-align: right;\">145.216</td><td style = \"text-align: right;\">134.656</td><td style = \"text-align: right;\">147.406</td><td style = \"text-align: right;\">142.942</td><td style = \"text-align: right;\">90.028</td></tr><tr><td class = \"rowNumber\" style = \"font-weight: bold; text-align: right;\">19</td><td style = \"text-align: right;\">19</td><td style = \"text-align: right;\">146.851</td><td style = \"text-align: right;\">156.859</td><td style = \"text-align: right;\">98.1546</td><td style = \"text-align: right;\">156.673</td><td style = \"text-align: right;\">132.721</td><td style = \"text-align: right;\">110.738</td></tr><tr><td class = \"rowNumber\" style = \"font-weight: bold; text-align: right;\">20</td><td style = \"text-align: right;\">20</td><td style = \"text-align: right;\">144.815</td><td style = \"text-align: right;\">163.31</td><td style = \"text-align: right;\">120.838</td><td style = \"text-align: right;\">153.6</td><td style = \"text-align: right;\">148.263</td><td style = \"text-align: right;\">131.151</td></tr><tr><td class = \"rowNumber\" style = \"font-weight: bold; text-align: right;\">21</td><td style = \"text-align: right;\">21</td><td style = \"text-align: right;\">147.298</td><td style = \"text-align: right;\">163.693</td><td style = \"text-align: right;\">138.631</td><td style = \"text-align: right;\">146.525</td><td style = \"text-align: right;\">163.368</td><td style = \"text-align: right;\">135.953</td></tr><tr><td class = \"rowNumber\" style = \"font-weight: bold; text-align: right;\">22</td><td style = \"text-align: right;\">22</td><td style = \"text-align: right;\">126.313</td><td style = \"text-align: right;\">157.048</td><td style = \"text-align: right;\">163.306</td><td style = \"text-align: right;\">154.949</td><td style = \"text-align: right;\">151.918</td><td style = \"text-align: right;\">128.113</td></tr><tr><td class = \"rowNumber\" style = \"font-weight: bold; text-align: right;\">23</td><td style = \"text-align: right;\">23</td><td style = \"text-align: right;\">124.879</td><td style = \"text-align: right;\">122.933</td><td style = \"text-align: right;\">163.273</td><td style = \"text-align: right;\">151.649</td><td style = \"text-align: right;\">160.448</td><td style = \"text-align: right;\">63.902</td></tr><tr><td class = \"rowNumber\" style = \"font-weight: bold; text-align: right;\">24</td><td style = \"text-align: right;\">24</td><td style = \"text-align: right;\">137.862</td><td style = \"text-align: right;\">152.792</td><td style = \"text-align: right;\">161.572</td><td style = \"text-align: right;\">128.656</td><td style = \"text-align: right;\">158.047</td><td style = \"text-align: right;\">32.0439</td></tr></tbody></table></div>"
      ],
      "text/latex": [
       "\\begin{tabular}{r|ccccccc}\n",
       "\t& Hour & W1 & W2 & W3 & W4 & W5 & W6\\\\\n",
       "\t\\hline\n",
       "\t& Int64 & Float64 & Float64 & Float64 & Float64 & Float64 & Float64\\\\\n",
       "\t\\hline\n",
       "\t1 & 1 & 76.8921 & 101.54 & 92.8003 & 95.3709 & 96.002 & 70.9073 \\\\\n",
       "\t2 & 2 & 66.8277 & 90.9989 & 109.167 & 107.937 & 103.616 & 112.618 \\\\\n",
       "\t3 & 3 & 78.422 & 116.959 & 142.88 & 134.78 & 128.276 & 133.832 \\\\\n",
       "\t4 & 4 & 64.1437 & 134.249 & 159.57 & 133.664 & 142.969 & 154.233 \\\\\n",
       "\t5 & 5 & 102.22 & 145.507 & 160.944 & 165.303 & 144.03 & 161.49 \\\\\n",
       "\t6 & 6 & 134.039 & 131.112 & 157.023 & 161.828 & 144.636 & 155.222 \\\\\n",
       "\t7 & 7 & 146.517 & 153.67 & 141.566 & 159.927 & 152.86 & 153.604 \\\\\n",
       "\t8 & 8 & 143.176 & 163.392 & 155.294 & 170.805 & 158.643 & 164.307 \\\\\n",
       "\t9 & 9 & 163.297 & 144.48 & 172.638 & 185.318 & 150.901 & 166.558 \\\\\n",
       "\t10 & 10 & 172.635 & 104.022 & 166.636 & 178.014 & 149.664 & 150.295 \\\\\n",
       "\t11 & 11 & 166.935 & 88.9871 & 154.896 & 187.256 & 163.69 & 147.406 \\\\\n",
       "\t12 & 12 & 161.92 & 44.976 & 128.268 & 164.533 & 154.556 & 152.979 \\\\\n",
       "\t13 & 13 & 155.941 & 29.2907 & 125.294 & 153.164 & 143.349 & 148.691 \\\\\n",
       "\t14 & 14 & 147.45 & 99.6239 & 137.481 & 145.091 & 149.504 & 128.692 \\\\\n",
       "\t15 & 15 & 144.046 & 119.052 & 136.311 & 142.282 & 148.958 & 97.3963 \\\\\n",
       "\t16 & 16 & 149.042 & 104.619 & 131.206 & 145.473 & 142.826 & 109.022 \\\\\n",
       "\t17 & 17 & 136.464 & 115.34 & 130.63 & 146.518 & 139.699 & 96.4666 \\\\\n",
       "\t18 & 18 & 131.297 & 145.216 & 134.656 & 147.406 & 142.942 & 90.028 \\\\\n",
       "\t19 & 19 & 146.851 & 156.859 & 98.1546 & 156.673 & 132.721 & 110.738 \\\\\n",
       "\t20 & 20 & 144.815 & 163.31 & 120.838 & 153.6 & 148.263 & 131.151 \\\\\n",
       "\t21 & 21 & 147.298 & 163.693 & 138.631 & 146.525 & 163.368 & 135.953 \\\\\n",
       "\t22 & 22 & 126.313 & 157.048 & 163.306 & 154.949 & 151.918 & 128.113 \\\\\n",
       "\t23 & 23 & 124.879 & 122.933 & 163.273 & 151.649 & 160.448 & 63.902 \\\\\n",
       "\t24 & 24 & 137.862 & 152.792 & 161.572 & 128.656 & 158.047 & 32.0439 \\\\\n",
       "\\end{tabular}\n"
      ],
      "text/plain": [
       "\u001b[1m24×7 DataFrame\u001b[0m\n",
       "\u001b[1m Row \u001b[0m│\u001b[1m Hour  \u001b[0m\u001b[1m W1       \u001b[0m\u001b[1m W2       \u001b[0m\u001b[1m W3       \u001b[0m\u001b[1m W4       \u001b[0m\u001b[1m W5      \u001b[0m\u001b[1m W6       \u001b[0m\n",
       "     │\u001b[90m Int64 \u001b[0m\u001b[90m Float64  \u001b[0m\u001b[90m Float64  \u001b[0m\u001b[90m Float64  \u001b[0m\u001b[90m Float64  \u001b[0m\u001b[90m Float64 \u001b[0m\u001b[90m Float64  \u001b[0m\n",
       "─────┼──────────────────────────────────────────────────────────────────\n",
       "   1 │     1   76.8921  101.54     92.8003   95.3709   96.002   70.9073\n",
       "   2 │     2   66.8277   90.9989  109.167   107.937   103.616  112.618\n",
       "   3 │     3   78.422   116.959   142.88    134.78    128.276  133.832\n",
       "   4 │     4   64.1437  134.249   159.57    133.664   142.969  154.233\n",
       "   5 │     5  102.22    145.507   160.944   165.303   144.03   161.49\n",
       "   6 │     6  134.039   131.112   157.023   161.828   144.636  155.222\n",
       "   7 │     7  146.517   153.67    141.566   159.927   152.86   153.604\n",
       "   8 │     8  143.176   163.392   155.294   170.805   158.643  164.307\n",
       "  ⋮  │   ⋮       ⋮         ⋮         ⋮         ⋮         ⋮        ⋮\n",
       "  18 │    18  131.297   145.216   134.656   147.406   142.942   90.028\n",
       "  19 │    19  146.851   156.859    98.1546  156.673   132.721  110.738\n",
       "  20 │    20  144.815   163.31    120.838   153.6     148.263  131.151\n",
       "  21 │    21  147.298   163.693   138.631   146.525   163.368  135.953\n",
       "  22 │    22  126.313   157.048   163.306   154.949   151.918  128.113\n",
       "  23 │    23  124.879   122.933   163.273   151.649   160.448   63.902\n",
       "  24 │    24  137.862   152.792   161.572   128.656   158.047   32.0439\n",
       "\u001b[36m                                                          9 rows omitted\u001b[0m"
      ]
     },
     "metadata": {},
     "output_type": "display_data"
    }
   ],
   "source": [
    "##Creation of the Input DataFrames\n",
    "\n",
    "#load demand data\n",
    "Demands = CSV.File(\"../Max/Data/Demands.csv\") |> DataFrame\n",
    "\n",
    "#load conventional generators data\n",
    "Conv_gen = CSV.File(\"../Max/Data/Conventional_generators.csv\") |> DataFrame\n",
    "\n",
    "#load wind farms data\n",
    "Wind_farms = CSV.File(\"../Max/Data/Wind_farms.csv\") |> DataFrame\n",
    "\n",
    "# load wind profile\n",
    "wind_profile = CSV.File(\"../data/wind_powerprofile_200.csv\") |> DataFrame\n"
   ]
  },
  {
   "cell_type": "code",
   "execution_count": 6,
   "metadata": {},
   "outputs": [
    {
     "data": {
      "text/plain": [
       "4"
      ]
     },
     "metadata": {},
     "output_type": "display_data"
    }
   ],
   "source": [
    "# number of convential generators\n",
    "G = size(Conv_gen, 1)\n",
    "\n",
    "# number of demand\n",
    "D = size(Demands, 1)\n",
    "\n",
    "# number of wind generators\n",
    "W = size(Wind_farms, 1)"
   ]
  },
  {
   "cell_type": "code",
   "execution_count": 7,
   "metadata": {},
   "outputs": [],
   "source": [
    "##Definition of the Result DataFrames\n",
    "\n",
    "# Definition of the Main result DataFrame\n",
    "main_result = DataFrame(hour = Int[], social_welfare = Float64[], market_price = Float64[])\n",
    "\n",
    "# Initialize the Demand DataFrame directly without dynamic column names\n",
    "details_results_demand = DataFrame(hour = Int[], total_demand = Float64[])\n",
    "# For x variables, manually add each column. This is a one-time setup.\n",
    "for i in 1:D\n",
    "    details_results_demand[!, Symbol(\"demand_n°$i\")] = Float64[]\n",
    "end\n",
    "\n",
    "# Initialize the Supply DataFrame directly without dynamic column names\n",
    "details_results_supply = DataFrame(hour = Int[], total_supply = Float64[])\n",
    "# For x variables, manually add each column. This is a one-time setup.\n",
    "for i in 1:G\n",
    "    details_results_supply[!, Symbol(\"supply_n°$i\")] = Float64[]\n",
    "end\n",
    "for i in G:G+W\n",
    "    details_results_supply[!, Symbol(\"supply_n°$i\")] = Float64[]\n",
    "end\n"
   ]
  },
  {
   "cell_type": "code",
   "execution_count": 8,
   "metadata": {},
   "outputs": [
    {
     "data": {
      "text/plain": [
       "A JuMP Model\n",
       "Feasibility problem with:\n",
       "Variables: 0\n",
       "Model mode: AUTOMATIC\n",
       "CachingOptimizer state: EMPTY_OPTIMIZER\n",
       "Solver name: GLPK"
      ]
     },
     "metadata": {},
     "output_type": "display_data"
    }
   ],
   "source": [
    "##Definition of the model\n",
    "\n",
    "# Create a new model with GLPK solver\n",
    "model = Model(GLPK.Optimizer)\n"
   ]
  },
  {
   "cell_type": "code",
   "execution_count": 11,
   "metadata": {},
   "outputs": [
    {
     "name": "stdout",
     "output_type": "stream",
     "text": [
      "Hour 1: Optimal solution found\n"
     ]
    },
    {
     "data": {
      "text/html": [
       "<div><div style = \"float: left;\"><span>1×18 DataFrame</span></div><div style = \"clear: both;\"></div></div><div class = \"data-frame\" style = \"overflow-x: scroll;\"><table class = \"data-frame\" style = \"margin-bottom: 6px;\"><thead><tr class = \"header\"><th class = \"rowNumber\" style = \"font-weight: bold; text-align: right;\">Row</th><th style = \"text-align: left;\">hour</th><th style = \"text-align: left;\">total_supply</th><th style = \"text-align: left;\">supply_n°1</th><th style = \"text-align: left;\">supply_n°2</th><th style = \"text-align: left;\">supply_n°3</th><th style = \"text-align: left;\">supply_n°4</th><th style = \"text-align: left;\">supply_n°5</th><th style = \"text-align: left;\">supply_n°6</th><th style = \"text-align: left;\">supply_n°7</th><th style = \"text-align: left;\">supply_n°8</th><th style = \"text-align: left;\">supply_n°9</th><th style = \"text-align: left;\">supply_n°10</th><th style = \"text-align: left;\">supply_n°11</th><th style = \"text-align: left;\">supply_n°12</th><th style = \"text-align: left;\">supply_n°13</th><th style = \"text-align: left;\">supply_n°14</th><th style = \"text-align: left;\">supply_n°15</th><th style = \"text-align: left;\">supply_n°16</th></tr><tr class = \"subheader headerLastRow\"><th class = \"rowNumber\" style = \"font-weight: bold; text-align: right;\"></th><th title = \"Int64\" style = \"text-align: left;\">Int64</th><th title = \"Float64\" style = \"text-align: left;\">Float64</th><th title = \"Float64\" style = \"text-align: left;\">Float64</th><th title = \"Float64\" style = \"text-align: left;\">Float64</th><th title = \"Float64\" style = \"text-align: left;\">Float64</th><th title = \"Float64\" style = \"text-align: left;\">Float64</th><th title = \"Float64\" style = \"text-align: left;\">Float64</th><th title = \"Float64\" style = \"text-align: left;\">Float64</th><th title = \"Float64\" style = \"text-align: left;\">Float64</th><th title = \"Float64\" style = \"text-align: left;\">Float64</th><th title = \"Float64\" style = \"text-align: left;\">Float64</th><th title = \"Float64\" style = \"text-align: left;\">Float64</th><th title = \"Float64\" style = \"text-align: left;\">Float64</th><th title = \"Float64\" style = \"text-align: left;\">Float64</th><th title = \"Float64\" style = \"text-align: left;\">Float64</th><th title = \"Float64\" style = \"text-align: left;\">Float64</th><th title = \"Float64\" style = \"text-align: left;\">Float64</th><th title = \"Float64\" style = \"text-align: left;\">Float64</th></tr></thead><tbody><tr><td class = \"rowNumber\" style = \"font-weight: bold; text-align: right;\">1</td><td style = \"text-align: right;\">1</td><td style = \"text-align: right;\">2207.0</td><td style = \"text-align: right;\">106.4</td><td style = \"text-align: right;\">106.4</td><td style = \"text-align: right;\">170.269</td><td style = \"text-align: right;\">0.0</td><td style = \"text-align: right;\">0.0</td><td style = \"text-align: right;\">108.5</td><td style = \"text-align: right;\">108.5</td><td style = \"text-align: right;\">280.0</td><td style = \"text-align: right;\">280.0</td><td style = \"text-align: right;\">210.0</td><td style = \"text-align: right;\">217.0</td><td style = \"text-align: right;\">245.0</td><td style = \"text-align: right;\">66.8277</td><td style = \"text-align: right;\">90.9989</td><td style = \"text-align: right;\">109.167</td><td style = \"text-align: right;\">107.937</td></tr></tbody></table></div>"
      ],
      "text/latex": [
       "\\begin{tabular}{r|cccccccc}\n",
       "\t& hour & total\\_supply & supply\\_n°1 & supply\\_n°2 & supply\\_n°3 & supply\\_n°4 & supply\\_n°5 & \\\\\n",
       "\t\\hline\n",
       "\t& Int64 & Float64 & Float64 & Float64 & Float64 & Float64 & Float64 & \\\\\n",
       "\t\\hline\n",
       "\t1 & 1 & 2207.0 & 106.4 & 106.4 & 170.269 & 0.0 & 0.0 & $\\dots$ \\\\\n",
       "\\end{tabular}\n"
      ],
      "text/plain": [
       "\u001b[1m1×18 DataFrame\u001b[0m\n",
       "\u001b[1m Row \u001b[0m│\u001b[1m hour  \u001b[0m\u001b[1m total_supply \u001b[0m\u001b[1m supply_n°1 \u001b[0m\u001b[1m supply_n°2 \u001b[0m\u001b[1m supply_n°3 \u001b[0m\u001b[1m supply_n°4 \u001b[0m\u001b[1m su\u001b[0m ⋯\n",
       "     │\u001b[90m Int64 \u001b[0m\u001b[90m Float64      \u001b[0m\u001b[90m Float64    \u001b[0m\u001b[90m Float64    \u001b[0m\u001b[90m Float64    \u001b[0m\u001b[90m Float64    \u001b[0m\u001b[90m Fl\u001b[0m ⋯\n",
       "─────┼──────────────────────────────────────────────────────────────────────────\n",
       "   1 │     1        2207.0       106.4       106.4     170.269         0.0     ⋯\n",
       "\u001b[36m                                                              12 columns omitted\u001b[0m"
      ]
     },
     "metadata": {},
     "output_type": "display_data"
    }
   ],
   "source": [
    "#Clearing the DataFrames\n",
    "empty!(main_result)\n",
    "empty!(details_results_demand)\n",
    "empty!(details_results_supply)\n",
    "\n",
    "hour = 1\n",
    "# Define the decision variables for every supply and every demand\n",
    "unregister(model, :x)  # Unregister the existing variable named \"x\" from the model\n",
    "unregister(model, :BalanceConstraint)\n",
    "@variable(model, x[1:G + W + D])  # Create the new variables\n",
    "\n",
    "for i in 1:G\n",
    "    set_lower_bound(x[i], 0)  # Set the lower bound\n",
    "    set_upper_bound(x[i], Conv_gen[i, 6])  # Set the upper bound\n",
    "end\n",
    "\n",
    "for i in (G + 1):(G + W)\n",
    "    set_lower_bound(x[i], 0)  # Set the lower bound\n",
    "    set_upper_bound(x[i], wind_profile[hour + 1, i - G + 1])  # Set the upper bound\n",
    "end\n",
    "\n",
    "for i in (G + W + 1):(G + W + D)\n",
    "    set_lower_bound(x[i], 0)  # Set the lower bound\n",
    "    set_upper_bound(x[i], Demands[i - G - W, 3])  # Set the upper bound\n",
    "end\n",
    "\n",
    "# Define the objective function\n",
    "@objective(model, Min,\n",
    "    - (sum(Demands[demand, 4] * x[demand + G + W] for demand in 1:D)\n",
    "    - (sum(Conv_gen[generator, 3] * x[generator] for generator in 1:G)\n",
    "    + sum(0 * x[generator + G] for generator in 1:W))))\n",
    "\n",
    "# Add the equilibrium constraint\n",
    "@constraint(model, BalanceConstraint, sum(x[generator] for generator in 1:G + W) == sum(x[demand + G + W] for demand in 1:D))\n",
    "\n",
    "# Solve the model\n",
    "optimize!(model)\n",
    "\n",
    "status = termination_status(model)\n",
    "if status == MOI.OPTIMAL\n",
    "    println(\"Hour \", hour, \": Optimal solution found\")\n",
    "\n",
    "    # Assuming 'model' and 'x' are properly defined and 'hour' is known\n",
    "    new_mainrow = [hour, -objective_value(model), dual(BalanceConstraint)]\n",
    "    push!(main_result, new_mainrow)\n",
    "\n",
    "    new_demandrow = [hour, sum(value(x[i + G + W]) for i in 1:D)]\n",
    "    append!(new_demandrow, [value(x[i + G + W]) for i in 1:D])\n",
    "    push!(details_results_demand, new_demandrow)\n",
    "\n",
    "    new_supplyrow = [hour, sum(value(x[i]) for i in 1:G + W)]\n",
    "    append!(new_supplyrow, [value(x[i]) for i in 1:G + W])\n",
    "    push!(details_results_supply, new_supplyrow)\n",
    "\n",
    "elseif status == MOI.INFEASIBLE\n",
    "    println(\"Hour \", hour, \": No feasible solution found\")\n",
    "else\n",
    "    println(\"Hour \", hour, \": Solver status: \", status)\n",
    "end\n",
    "\n",
    "\n",
    "    "
   ]
  },
  {
   "cell_type": "code",
   "execution_count": 12,
   "metadata": {},
   "outputs": [
    {
     "data": {
      "text/plain": [
       "\"../Max/Results/Task1/details_results_supply_Max\""
      ]
     },
     "metadata": {},
     "output_type": "display_data"
    }
   ],
   "source": [
    "#save result_df to csv\n",
    "CSV.write(\"../Max/Results/Task1/main_result_Max\", main_result)\n",
    "CSV.write(\"../Max/Results/Task1/details_results_demand_Max\", details_results_demand)\n",
    "CSV.write(\"../Max/Results/Task1/details_results_supply_Max\", details_results_supply)\n"
   ]
  }
 ],
 "metadata": {
  "kernelspec": {
   "display_name": "Julia 1.10.0",
   "language": "julia",
   "name": "julia-1.10"
  },
  "language_info": {
   "file_extension": ".jl",
   "mimetype": "application/julia",
   "name": "julia",
   "version": "1.10.0"
  }
 },
 "nbformat": 4,
 "nbformat_minor": 2
}
