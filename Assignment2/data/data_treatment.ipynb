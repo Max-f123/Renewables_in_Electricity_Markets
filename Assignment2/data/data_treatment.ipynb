{
 "cells": [
  {
   "cell_type": "code",
   "execution_count": 23,
   "metadata": {},
   "outputs": [],
   "source": [
    "# import the necessary packages\n",
    "\n",
    "import numpy as np\n",
    "import pandas as pd\n",
    "\n"
   ]
  },
  {
   "cell_type": "code",
   "execution_count": 24,
   "metadata": {},
   "outputs": [],
   "source": [
    "\n",
    "\n",
    "# Load the wind data\n",
    "wind = pd.read_csv(\"wind_power.csv\")\n",
    "\n",
    "# Extract the day from the first column\n",
    "day = wind.iloc[:, 0]\n",
    "\n",
    "# Extract day from data of this type: \"2022-12-31T23:01:00.000Z\"\n",
    "day = [x.split(\"T\")[0] for x in day]\n",
    "day = [int(x.split(\"-\")[2]) for x in day]\n",
    "\n",
    "# Do the same for hour\n",
    "hour = wind.iloc[:, 0]\n",
    "hour = [x.split(\"T\")[1] for x in hour]\n",
    "hour = [int(x.split(\":\")[0]) for x in hour]\n",
    "\n",
    "# Do the same for month\n",
    "month = wind.iloc[:, 0]\n",
    "month = [x.split(\"T\")[0] for x in month]\n",
    "month = [int(x.split(\"-\")[1]) for x in month]\n",
    "\n",
    "# Transform the first column to datetime\n",
    "wind.iloc[:, 0] = pd.to_datetime(wind.iloc[:, 0])\n",
    "\n",
    "# Add columns for day, hour, and month to the wind DataFrame\n",
    "wind['day'] = day\n",
    "wind['hour'] = hour\n",
    "wind['month'] = month\n",
    "\n",
    "# Rename the column 'Wind power production - real time data' to 'wind power'\n",
    "wind.rename(columns={'Wind power production - real time data': 'wind power'}, inplace=True)\n",
    "\n",
    "# Delete column End time UTC\n",
    "wind.drop(columns=['End time UTC'], inplace=True)\n"
   ]
  },
  {
   "cell_type": "code",
   "execution_count": 25,
   "metadata": {},
   "outputs": [
    {
     "name": "stdout",
     "output_type": "stream",
     "text": [
      "             Start time UTC   wind power  day  hour  month\n",
      "0 2023-01-01 00:00:00+00:00  3558.065000  1.0   0.0    1.0\n",
      "1 2023-01-01 01:00:00+00:00  3635.240000  1.0   1.0    1.0\n",
      "2 2023-01-01 02:00:00+00:00  3627.525000  1.0   2.0    1.0\n",
      "3 2023-01-01 03:00:00+00:00  3503.089999  1.0   3.0    1.0\n",
      "4 2023-01-01 04:00:00+00:00  3352.544999  1.0   4.0    1.0\n"
     ]
    }
   ],
   "source": [
    "# chANGE START TIME COLUMN TO DATTIME WITH HOURLY GRANULARITY\n",
    "wind['Start time UTC'] = pd.to_datetime(wind['Start time UTC'])\n",
    "\n",
    "# drop minutes\n",
    "wind['Start time UTC'] = wind['Start time UTC'].dt.floor('H')\n",
    "\n",
    "# groupby start time and sum the wind power\n",
    "wind = wind.groupby('Start time UTC',as_index=False).mean()\n",
    "\n",
    "# print the head of the wind DataFrame\n",
    "print(wind.head())\n",
    "\n"
   ]
  },
  {
   "cell_type": "code",
   "execution_count": 26,
   "metadata": {},
   "outputs": [
    {
     "name": "stdout",
     "output_type": "stream",
     "text": [
      "  Start time UTC   wind power  hour\n",
      "0     2023-01-01  3558.065000     0\n",
      "1     2023-01-01  3635.240000     1\n",
      "2     2023-01-01  3627.525000     2\n",
      "3     2023-01-01  3503.089999     3\n",
      "4     2023-01-01  3352.544999     4\n"
     ]
    }
   ],
   "source": [
    "# drop time from start time UTC\n",
    "wind['Start time UTC'] = pd.to_datetime(wind['Start time UTC'], format = '%Y-%m-%d %H:%M:%S')\n",
    "\n",
    "#drop time from start time UTC\n",
    "wind['Start time UTC'] = wind['Start time UTC'].dt.date\n",
    "\n",
    "# put column hour into int\n",
    "wind['hour'] = wind['hour'].astype(int)\n",
    "\n",
    "# drop columns month and day\n",
    "wind.drop(columns=['month', 'day'], inplace=True)\n",
    "\n",
    "# print the head of the wind DataFrame\n",
    "print(wind.head())"
   ]
  },
  {
   "cell_type": "code",
   "execution_count": 27,
   "metadata": {},
   "outputs": [],
   "source": [
    "# rename the column 'Start time UTC' to 'date'\n",
    "wind.rename(columns={'Start time UTC': 'date'}, inplace=True)\n",
    "\n"
   ]
  },
  {
   "cell_type": "code",
   "execution_count": 28,
   "metadata": {},
   "outputs": [
    {
     "name": "stdout",
     "output_type": "stream",
     "text": [
      "         date  hour   wind power\n",
      "0  2023-01-01     0  3558.065000\n",
      "1  2023-01-01     1  3635.240000\n",
      "2  2023-01-01     2  3627.525000\n",
      "3  2023-01-01     3  3503.089999\n",
      "4  2023-01-01     4  3352.544999\n"
     ]
    }
   ],
   "source": [
    "# change the order of column wind power and hour\n",
    "wind = wind[['date', 'hour', 'wind power']]\n",
    "# print the head of the wind DataFrame\n",
    "print(wind.head())"
   ]
  },
  {
   "cell_type": "code",
   "execution_count": 29,
   "metadata": {},
   "outputs": [],
   "source": [
    "# save as csv\n",
    "wind.to_csv('wind_power_cleaned.csv', index=False)"
   ]
  }
 ],
 "metadata": {
  "kernelspec": {
   "display_name": "Renew_in_elec_market",
   "language": "python",
   "name": "python3"
  },
  "language_info": {
   "codemirror_mode": {
    "name": "ipython",
    "version": 3
   },
   "file_extension": ".py",
   "mimetype": "text/x-python",
   "name": "python",
   "nbconvert_exporter": "python",
   "pygments_lexer": "ipython3",
   "version": "3.11.5"
  }
 },
 "nbformat": 4,
 "nbformat_minor": 2
}
