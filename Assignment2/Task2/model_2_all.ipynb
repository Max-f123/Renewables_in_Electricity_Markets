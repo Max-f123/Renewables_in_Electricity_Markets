{
 "cells": [
  {
   "cell_type": "code",
   "execution_count": 56,
   "metadata": {},
   "outputs": [],
   "source": [
    "using JuMP, GLPK\n",
    "using DataFrames\n",
    "using CSV\n",
    "using PrettyTables\n",
    "using Random"
   ]
  },
  {
   "cell_type": "code",
   "execution_count": 57,
   "metadata": {},
   "outputs": [
    {
     "data": {
      "text/plain": [
       "100"
      ]
     },
     "metadata": {},
     "output_type": "display_data"
    }
   ],
   "source": [
    "scenarios_df = CSV.read(\"load_profiles.csv\", DataFrame)\n",
    "n_scenarios = size(scenarios_df, 2)\n",
    "M = 10000\n",
    "in_sample_n = 100"
   ]
  },
  {
   "cell_type": "markdown",
   "metadata": {},
   "source": [
    "# Task 2.1"
   ]
  },
  {
   "cell_type": "code",
   "execution_count": 58,
   "metadata": {},
   "outputs": [
    {
     "data": {
      "text/plain": [
       "also_x_function (generic function with 1 method)"
      ]
     },
     "metadata": {},
     "output_type": "display_data"
    }
   ],
   "source": [
    "#define function\n",
    "function also_x_loop(q)\n",
    "    # Create a new model with GLPK solver\n",
    "    model = Model(GLPK.Optimizer)\n",
    "\n",
    "    @variable(model, cap_bid)\n",
    "    @variable(model, bin_var[1:60, 1:in_sample_n])\n",
    "\n",
    "    @constraint(model, cap_bid >= 0)\n",
    "\n",
    "\n",
    "    for scenario in 1:in_sample_n\n",
    "        for minute in 1:60\n",
    "            @constraint(model, cap_bid - scenarios_df[minute, scenario] <= M* bin_var[minute, scenario])\n",
    "            @constraint(model, bin_var[minute, scenario] <= 1)\n",
    "            @constraint(model, bin_var[minute, scenario] >= 0)\n",
    "        end\n",
    "    end\n",
    "    @constraint(model, sum(bin_var[minute, scenario] for scenario in 1:in_sample_n, minute in 1:60) <= q)\n",
    "\n",
    "    # Define the objective function\n",
    "    @objective(model, Max, cap_bid)\n",
    "\n",
    "    # Solve the model\n",
    "    optimize!(model)\n",
    "\n",
    "    # Check the status of the solution\n",
    "    status = termination_status(model)\n",
    "    if status == MOI.OPTIMAL\n",
    "        #println(\"Optimal solution found\")\n",
    "        #println(\"Optimal solution cap_bid: \", value(cap_bid))\n",
    "    elseif status == MOI.INFEASIBLE\n",
    "        println(\"No feasible solution found\")\n",
    "    else\n",
    "        println(\"Solver status: \", status)\n",
    "    end\n",
    "    return JuMP.value.(bin_var), JuMP.value(cap_bid)\n",
    "end\n",
    "\n",
    "function also_x_function(p_value)\n",
    "\n",
    "    stopping_parameter = 0.0001\n",
    "\n",
    "    lwr_q = 0\n",
    "    upr_q = (1-p_value)*in_sample_n*60\n",
    "    counter = 0\n",
    "\n",
    "    while upr_q - lwr_q >= stopping_parameter\n",
    "        q = (lwr_q + upr_q)/2\n",
    "        bin_var, cap_bid = also_x_loop(q)\n",
    "        num_zeros = count(x -> x == 0, bin_var)\n",
    "        #println(\"q: \", q, \" num_zeros: \", num_zeros)\n",
    "\n",
    "        if num_zeros/length(bin_var) > p_value\n",
    "            lwr_q = q\n",
    "        else\n",
    "            upr_q = q\n",
    "        end\n",
    "\n",
    "        if upr_q - lwr_q < stopping_parameter\n",
    "            println(\"q: \", q, \" num_zeros: \", num_zeros)\n",
    "            println(\"cap_bid: \", cap_bid)\n",
    "            return cap_bid\n",
    "        end\n",
    "\n",
    "        if counter > 50\n",
    "            println(\"q: \", q, \" num_zeros: \", num_zeros)\n",
    "            println(\"cap_bid: \", cap_bid)\n",
    "            return cap_bid\n",
    "        end\n",
    "        counter += 1\n",
    "    end\n",
    "end"
   ]
  },
  {
   "cell_type": "code",
   "execution_count": 59,
   "metadata": {},
   "outputs": [
    {
     "data": {
      "text/plain": [
       "cvar_function (generic function with 1 method)"
      ]
     },
     "metadata": {},
     "output_type": "display_data"
    }
   ],
   "source": [
    "function cvar_function(p_value)\n",
    "    # Create a new model with GLPK solver\n",
    "    model = Model(GLPK.Optimizer)\n",
    "\n",
    "    @variable(model, cap_bid)\n",
    "    @variable(model, beta <= 0)\n",
    "    @variable(model, theta[1:60, 1:in_sample_n])\n",
    "\n",
    "    @constraint(model, cap_bid >= 0)\n",
    "\n",
    "    for scenario in 1:in_sample_n\n",
    "        for minute in 1:60\n",
    "            @constraint(model, cap_bid - scenarios_df[minute, scenario] <= theta[minute, scenario])\n",
    "            @constraint(model, beta <= theta[minute, scenario])\n",
    "        end\n",
    "    end\n",
    "    @constraint(model, (1/(60*in_sample_n))*sum(theta[minute, scenario] for scenario in 1:in_sample_n, minute in 1:60) <= p_value*beta) \n",
    "\n",
    "    # Define the objective function\n",
    "    @objective(model, Max, cap_bid)\n",
    "\n",
    "    # Solve the model\n",
    "    optimize!(model)\n",
    "\n",
    "    # Check the status of the solution\n",
    "    status = termination_status(model)\n",
    "    if status == MOI.OPTIMAL\n",
    "        #println(\"Optimal solution found\")\n",
    "        println(\"Optimal solution cap_bid: \", value(cap_bid))\n",
    "    elseif status == MOI.INFEASIBLE\n",
    "        println(\"No feasible solution found\")\n",
    "    else\n",
    "        println(\"Solver status: \", status)\n",
    "    end\n",
    "\n",
    "    return value(cap_bid)\n",
    "end"
   ]
  },
  {
   "cell_type": "code",
   "execution_count": 60,
   "metadata": {},
   "outputs": [
    {
     "name": "stdout",
     "output_type": "stream",
     "text": [
      "q: 1.6078233718872066 num_zeros: 5400\n",
      "cap_bid: 318.36119837424263\n",
      "Optimal solution cap_bid: 291.5641421761087\n"
     ]
    },
    {
     "data": {
      "text/plain": [
       "291.5641421761087"
      ]
     },
     "metadata": {},
     "output_type": "display_data"
    }
   ],
   "source": [
    "p_value = 0.9\n",
    "also_x_value = also_x_function(p_value)\n",
    "cvar_value = cvar_function(p_value)"
   ]
  },
  {
   "cell_type": "markdown",
   "metadata": {},
   "source": [
    "# Task 2.2"
   ]
  },
  {
   "cell_type": "code",
   "execution_count": 61,
   "metadata": {},
   "outputs": [
    {
     "data": {
      "text/plain": [
       "test (generic function with 1 method)"
      ]
     },
     "metadata": {},
     "output_type": "display_data"
    }
   ],
   "source": [
    "function test(p_value, cvar_value, also_x_value)\n",
    "    below_cvar = 0\n",
    "    below_also_x = 0\n",
    "\n",
    "    #check how many values are above the cvar_value\n",
    "    for i in 1+in_sample_n:n_scenarios\n",
    "\n",
    "        minute_values = scenarios_df[:,i]\n",
    "        #println(minute_values)\n",
    "        #println(sum(minute_values .> cvar_value))\n",
    "        if sum(minute_values .> cvar_value) <= p_value*length(minute_values)\n",
    "            below_cvar += 1\n",
    "        end\n",
    "        if sum(minute_values .> also_x_value) <= p_value*length(minute_values)\n",
    "            below_also_x += 1\n",
    "        end\n",
    "    end\n",
    "\n",
    "    println(\"Allowed number of scenarios below CVaR: \", 0.15*(n_scenarios-in_sample_n))\n",
    "\n",
    "    if below_cvar <= 0.15*(n_scenarios-in_sample_n)\n",
    "        println(\"CVaR test passed\")\n",
    "        println(below_cvar)\n",
    "    else\n",
    "        println(\"CVaR test failed\")\n",
    "        println(below_cvar)\n",
    "    end\n",
    "\n",
    "    if below_also_x <= 0.15*(n_scenarios-in_sample_n)\n",
    "        println(\"Also_x test passed\")\n",
    "        println(below_also_x)\n",
    "    else\n",
    "        println(\"Also_x test failed\")\n",
    "        println(below_also_x)\n",
    "    end\n",
    "end"
   ]
  },
  {
   "cell_type": "code",
   "execution_count": 62,
   "metadata": {},
   "outputs": [
    {
     "name": "stdout",
     "output_type": "stream",
     "text": [
      "Allowed number of scenarios below CVaR: 15.0\n",
      "CVaR test failed\n",
      "36\n",
      "Also_x test failed\n",
      "20\n"
     ]
    }
   ],
   "source": [
    "test(p_value, also_x_value, cvar_value)"
   ]
  },
  {
   "cell_type": "markdown",
   "metadata": {},
   "source": [
    "# Task 2.3"
   ]
  },
  {
   "cell_type": "code",
   "execution_count": 63,
   "metadata": {},
   "outputs": [
    {
     "name": "stdout",
     "output_type": "stream",
     "text": [
      "q: 3.3803701400756827 num_zeros: 4800\n",
      "cap_bid: 338.97419836569674\n",
      "Optimal solution cap_bid: 310.80444719839306\n",
      "Allowed number of scenarios below CVaR: 15.0\n",
      "CVaR test failed\n",
      "21\n",
      "Also_x test failed\n",
      "47\n"
     ]
    }
   ],
   "source": [
    "p_value = 0.8\n",
    "also_x_value = also_x_function(p_value)\n",
    "cvar_value = cvar_function(p_value)\n",
    "test(p_value, cvar_value, also_x_value)"
   ]
  },
  {
   "cell_type": "code",
   "execution_count": 66,
   "metadata": {},
   "outputs": [
    {
     "name": "stdout",
     "output_type": "stream",
     "text": [
      "q: 0.01089477539062501 num_zeros: 5995\n",
      "cap_bid: 232.6656707497823\n",
      "Optimal solution cap_bid: 214.5261157338029\n",
      "Allowed number of scenarios below CVaR: 15.0\n",
      "CVaR test passed\n",
      "7\n",
      "Also_x test passed\n",
      "11\n"
     ]
    }
   ],
   "source": [
    "p_value = 0.999\n",
    "also_x_value = also_x_function(p_value)\n",
    "cvar_value = cvar_function(p_value)\n",
    "test(p_value, cvar_value, also_x_value)"
   ]
  }
 ],
 "metadata": {
  "kernelspec": {
   "display_name": "Julia 1.9.3",
   "language": "julia",
   "name": "julia-1.9"
  },
  "language_info": {
   "file_extension": ".jl",
   "mimetype": "application/julia",
   "name": "julia",
   "version": "1.9.3"
  }
 },
 "nbformat": 4,
 "nbformat_minor": 2
}
