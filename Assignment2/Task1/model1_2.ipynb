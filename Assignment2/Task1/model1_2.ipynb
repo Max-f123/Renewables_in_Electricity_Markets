{
 "cells": [
  {
   "cell_type": "code",
   "execution_count": 100,
   "metadata": {},
   "outputs": [],
   "source": [
    "import Pkg\n",
    "#Pkg.add(\"JuMP\")\n",
    "#Pkg.add(\"GLPK\")\n",
    "#Pkg.add(\"Gruobi\")\n",
    "#Pkg.add(\"DataFrames\")\n",
    "#Pkg.add(\"CSV\")\n",
    "#Pkg.add(\"PyCall\")"
   ]
  },
  {
   "cell_type": "code",
   "execution_count": 101,
   "metadata": {},
   "outputs": [],
   "source": [
    "using JuMP, GLPK\n",
    "using DataFrames\n",
    "using CSV"
   ]
  },
  {
   "cell_type": "code",
   "execution_count": 102,
   "metadata": {},
   "outputs": [],
   "source": [
    "# Load the data\n",
    "scenarios_200 = CSV.read(\"../data/scenarios_200.csv\", DataFrame)\n",
    "\n",
    "# create a dictonary with 200 dataframes for each scenario\n",
    "scenarios = Dict()\n",
    "for i in 1:250\n",
    "    df_helper = DataFrame(scenarios_200[:,3*i-2:3*i])\n",
    "    #set column names\n",
    "    rename!(df_helper, [:\"price\", :\"wind power\", :\"grid_excess\"])\n",
    "    scenarios[i] = df_helper\n",
    "end"
   ]
  },
  {
   "cell_type": "code",
   "execution_count": 114,
   "metadata": {},
   "outputs": [
    {
     "data": {
      "text/html": [
       "<div><div style = \"float: left;\"><span>24×3 DataFrame</span></div><div style = \"clear: both;\"></div></div><div class = \"data-frame\" style = \"overflow-x: scroll;\"><table class = \"data-frame\" style = \"margin-bottom: 6px;\"><thead><tr class = \"header\"><th class = \"rowNumber\" style = \"font-weight: bold; text-align: right;\">Row</th><th style = \"text-align: left;\">price</th><th style = \"text-align: left;\">wind power</th><th style = \"text-align: left;\">grid_excess</th></tr><tr class = \"subheader headerLastRow\"><th class = \"rowNumber\" style = \"font-weight: bold; text-align: right;\"></th><th title = \"Float64\" style = \"text-align: left;\">Float64</th><th title = \"Float64\" style = \"text-align: left;\">Float64</th><th title = \"Int64\" style = \"text-align: left;\">Int64</th></tr></thead><tbody><tr><td class = \"rowNumber\" style = \"font-weight: bold; text-align: right;\">1</td><td style = \"text-align: right;\">119.7</td><td style = \"text-align: right;\">21.3596</td><td style = \"text-align: right;\">1</td></tr><tr><td class = \"rowNumber\" style = \"font-weight: bold; text-align: right;\">2</td><td style = \"text-align: right;\">110.79</td><td style = \"text-align: right;\">17.6276</td><td style = \"text-align: right;\">0</td></tr><tr><td class = \"rowNumber\" style = \"font-weight: bold; text-align: right;\">3</td><td style = \"text-align: right;\">104.84</td><td style = \"text-align: right;\">15.5202</td><td style = \"text-align: right;\">1</td></tr><tr><td class = \"rowNumber\" style = \"font-weight: bold; text-align: right;\">4</td><td style = \"text-align: right;\">103.93</td><td style = \"text-align: right;\">15.6879</td><td style = \"text-align: right;\">1</td></tr><tr><td class = \"rowNumber\" style = \"font-weight: bold; text-align: right;\">5</td><td style = \"text-align: right;\">103.77</td><td style = \"text-align: right;\">13.6841</td><td style = \"text-align: right;\">0</td></tr><tr><td class = \"rowNumber\" style = \"font-weight: bold; text-align: right;\">6</td><td style = \"text-align: right;\">107.03</td><td style = \"text-align: right;\">6.5381</td><td style = \"text-align: right;\">1</td></tr><tr><td class = \"rowNumber\" style = \"font-weight: bold; text-align: right;\">7</td><td style = \"text-align: right;\">127.17</td><td style = \"text-align: right;\">3.91215</td><td style = \"text-align: right;\">1</td></tr><tr><td class = \"rowNumber\" style = \"font-weight: bold; text-align: right;\">8</td><td style = \"text-align: right;\">137.67</td><td style = \"text-align: right;\">6.31816</td><td style = \"text-align: right;\">1</td></tr><tr><td class = \"rowNumber\" style = \"font-weight: bold; text-align: right;\">9</td><td style = \"text-align: right;\">144.57</td><td style = \"text-align: right;\">11.0469</td><td style = \"text-align: right;\">0</td></tr><tr><td class = \"rowNumber\" style = \"font-weight: bold; text-align: right;\">10</td><td style = \"text-align: right;\">126.2</td><td style = \"text-align: right;\">12.6372</td><td style = \"text-align: right;\">1</td></tr><tr><td class = \"rowNumber\" style = \"font-weight: bold; text-align: right;\">11</td><td style = \"text-align: right;\">109.94</td><td style = \"text-align: right;\">18.7165</td><td style = \"text-align: right;\">0</td></tr><tr><td class = \"rowNumber\" style = \"font-weight: bold; text-align: right;\">12</td><td style = \"text-align: right;\">103.01</td><td style = \"text-align: right;\">25.8739</td><td style = \"text-align: right;\">0</td></tr><tr><td class = \"rowNumber\" style = \"font-weight: bold; text-align: right;\">13</td><td style = \"text-align: right;\">93.64</td><td style = \"text-align: right;\">27.155</td><td style = \"text-align: right;\">1</td></tr><tr><td class = \"rowNumber\" style = \"font-weight: bold; text-align: right;\">14</td><td style = \"text-align: right;\">87.14</td><td style = \"text-align: right;\">22.6736</td><td style = \"text-align: right;\">1</td></tr><tr><td class = \"rowNumber\" style = \"font-weight: bold; text-align: right;\">15</td><td style = \"text-align: right;\">86.91</td><td style = \"text-align: right;\">17.6295</td><td style = \"text-align: right;\">1</td></tr><tr><td class = \"rowNumber\" style = \"font-weight: bold; text-align: right;\">16</td><td style = \"text-align: right;\">95.53</td><td style = \"text-align: right;\">13.447</td><td style = \"text-align: right;\">1</td></tr><tr><td class = \"rowNumber\" style = \"font-weight: bold; text-align: right;\">17</td><td style = \"text-align: right;\">99.23</td><td style = \"text-align: right;\">9.45813</td><td style = \"text-align: right;\">1</td></tr><tr><td class = \"rowNumber\" style = \"font-weight: bold; text-align: right;\">18</td><td style = \"text-align: right;\">113.62</td><td style = \"text-align: right;\">7.97827</td><td style = \"text-align: right;\">1</td></tr><tr><td class = \"rowNumber\" style = \"font-weight: bold; text-align: right;\">19</td><td style = \"text-align: right;\">138.17</td><td style = \"text-align: right;\">10.9812</td><td style = \"text-align: right;\">0</td></tr><tr><td class = \"rowNumber\" style = \"font-weight: bold; text-align: right;\">20</td><td style = \"text-align: right;\">167.5</td><td style = \"text-align: right;\">15.2005</td><td style = \"text-align: right;\">1</td></tr><tr><td class = \"rowNumber\" style = \"font-weight: bold; text-align: right;\">21</td><td style = \"text-align: right;\">190.71</td><td style = \"text-align: right;\">18.6305</td><td style = \"text-align: right;\">0</td></tr><tr><td class = \"rowNumber\" style = \"font-weight: bold; text-align: right;\">22</td><td style = \"text-align: right;\">181.22</td><td style = \"text-align: right;\">22.1145</td><td style = \"text-align: right;\">0</td></tr><tr><td class = \"rowNumber\" style = \"font-weight: bold; text-align: right;\">23</td><td style = \"text-align: right;\">155.0</td><td style = \"text-align: right;\">23.0791</td><td style = \"text-align: right;\">0</td></tr><tr><td class = \"rowNumber\" style = \"font-weight: bold; text-align: right;\">24</td><td style = \"text-align: right;\">134.88</td><td style = \"text-align: right;\">28.2673</td><td style = \"text-align: right;\">1</td></tr></tbody></table></div>"
      ],
      "text/latex": [
       "\\begin{tabular}{r|ccc}\n",
       "\t& price & wind power & grid\\_excess\\\\\n",
       "\t\\hline\n",
       "\t& Float64 & Float64 & Int64\\\\\n",
       "\t\\hline\n",
       "\t1 & 119.7 & 21.3596 & 1 \\\\\n",
       "\t2 & 110.79 & 17.6276 & 0 \\\\\n",
       "\t3 & 104.84 & 15.5202 & 1 \\\\\n",
       "\t4 & 103.93 & 15.6879 & 1 \\\\\n",
       "\t5 & 103.77 & 13.6841 & 0 \\\\\n",
       "\t6 & 107.03 & 6.5381 & 1 \\\\\n",
       "\t7 & 127.17 & 3.91215 & 1 \\\\\n",
       "\t8 & 137.67 & 6.31816 & 1 \\\\\n",
       "\t9 & 144.57 & 11.0469 & 0 \\\\\n",
       "\t10 & 126.2 & 12.6372 & 1 \\\\\n",
       "\t11 & 109.94 & 18.7165 & 0 \\\\\n",
       "\t12 & 103.01 & 25.8739 & 0 \\\\\n",
       "\t13 & 93.64 & 27.155 & 1 \\\\\n",
       "\t14 & 87.14 & 22.6736 & 1 \\\\\n",
       "\t15 & 86.91 & 17.6295 & 1 \\\\\n",
       "\t16 & 95.53 & 13.447 & 1 \\\\\n",
       "\t17 & 99.23 & 9.45813 & 1 \\\\\n",
       "\t18 & 113.62 & 7.97827 & 1 \\\\\n",
       "\t19 & 138.17 & 10.9812 & 0 \\\\\n",
       "\t20 & 167.5 & 15.2005 & 1 \\\\\n",
       "\t21 & 190.71 & 18.6305 & 0 \\\\\n",
       "\t22 & 181.22 & 22.1145 & 0 \\\\\n",
       "\t23 & 155.0 & 23.0791 & 0 \\\\\n",
       "\t24 & 134.88 & 28.2673 & 1 \\\\\n",
       "\\end{tabular}\n"
      ],
      "text/plain": [
       "\u001b[1m24×3 DataFrame\u001b[0m\n",
       "\u001b[1m Row \u001b[0m│\u001b[1m price   \u001b[0m\u001b[1m wind power \u001b[0m\u001b[1m grid_excess \u001b[0m\n",
       "     │\u001b[90m Float64 \u001b[0m\u001b[90m Float64    \u001b[0m\u001b[90m Int64       \u001b[0m\n",
       "─────┼──────────────────────────────────\n",
       "   1 │  119.7     21.3596             1\n",
       "   2 │  110.79    17.6276             0\n",
       "   3 │  104.84    15.5202             1\n",
       "   4 │  103.93    15.6879             1\n",
       "   5 │  103.77    13.6841             0\n",
       "   6 │  107.03     6.5381             1\n",
       "   7 │  127.17     3.91215            1\n",
       "   8 │  137.67     6.31816            1\n",
       "  ⋮  │    ⋮         ⋮            ⋮\n",
       "  18 │  113.62     7.97827            1\n",
       "  19 │  138.17    10.9812             0\n",
       "  20 │  167.5     15.2005             1\n",
       "  21 │  190.71    18.6305             0\n",
       "  22 │  181.22    22.1145             0\n",
       "  23 │  155.0     23.0791             0\n",
       "  24 │  134.88    28.2673             1\n",
       "\u001b[36m                          9 rows omitted\u001b[0m"
      ]
     },
     "metadata": {},
     "output_type": "display_data"
    }
   ],
   "source": [
    "scenarios[3]"
   ]
  },
  {
   "cell_type": "code",
   "execution_count": 104,
   "metadata": {},
   "outputs": [],
   "source": [
    "#scenarios[2]"
   ]
  },
  {
   "cell_type": "code",
   "execution_count": 105,
   "metadata": {},
   "outputs": [
    {
     "data": {
      "text/html": [
       "<div><div style = \"float: left;\"><span>0×5 DataFrame</span></div><div style = \"clear: both;\"></div></div><div class = \"data-frame\" style = \"overflow-x: scroll;\"><table class = \"data-frame\" style = \"margin-bottom: 6px;\"><thead><tr class = \"header\"><th class = \"rowNumber\" style = \"font-weight: bold; text-align: right;\">Row</th><th style = \"text-align: left;\">hour</th><th style = \"text-align: left;\">p_DA</th><th style = \"text-align: left;\">delta</th><th style = \"text-align: left;\">delta_up</th><th style = \"text-align: left;\">delta_down</th></tr><tr class = \"subheader headerLastRow\"><th class = \"rowNumber\" style = \"font-weight: bold; text-align: right;\"></th><th title = \"Int64\" style = \"text-align: left;\">Int64</th><th title = \"Float64\" style = \"text-align: left;\">Float64</th><th title = \"Float64\" style = \"text-align: left;\">Float64</th><th title = \"Float64\" style = \"text-align: left;\">Float64</th><th title = \"Float64\" style = \"text-align: left;\">Float64</th></tr></thead><tbody></tbody></table></div>"
      ],
      "text/latex": [
       "\\begin{tabular}{r|ccccc}\n",
       "\t& hour & p\\_DA & delta & delta\\_up & delta\\_down\\\\\n",
       "\t\\hline\n",
       "\t& Int64 & Float64 & Float64 & Float64 & Float64\\\\\n",
       "\t\\hline\n",
       "\\end{tabular}\n"
      ],
      "text/plain": [
       "\u001b[1m0×5 DataFrame\u001b[0m\n",
       "\u001b[1m Row \u001b[0m│\u001b[1m hour  \u001b[0m\u001b[1m p_DA    \u001b[0m\u001b[1m delta   \u001b[0m\u001b[1m delta_up \u001b[0m\u001b[1m delta_down \u001b[0m\n",
       "     │\u001b[90m Int64 \u001b[0m\u001b[90m Float64 \u001b[0m\u001b[90m Float64 \u001b[0m\u001b[90m Float64  \u001b[0m\u001b[90m Float64    \u001b[0m\n",
       "─────┴───────────────────────────────────────────────"
      ]
     },
     "metadata": {},
     "output_type": "display_data"
    }
   ],
   "source": [
    "# Initialize the DataFrame directly without dynamic column names\n",
    "result_df = DataFrame(hour = Int[], p_DA = Float64[], delta = Float64[], delta_up = Float64[], delta_down = Float64[])"
   ]
  },
  {
   "cell_type": "code",
   "execution_count": 106,
   "metadata": {},
   "outputs": [
    {
     "data": {
      "text/plain": [
       "24"
      ]
     },
     "metadata": {},
     "output_type": "display_data"
    }
   ],
   "source": [
    "W = 250\n",
    "hours = 24"
   ]
  },
  {
   "cell_type": "code",
   "execution_count": 107,
   "metadata": {},
   "outputs": [],
   "source": [
    "# Create a new model with GLPK solver\n",
    "model = Model(GLPK.Optimizer)\n",
    "\n",
    "# Define the decision variables for hour\n",
    "@variable(model, p_DA[1:hours])\n",
    "@variable(model, delta[1:W,1:hours])\n",
    "@variable(model, delta_up[1:W,1:hours])\n",
    "@variable(model, delta_down[1:W,1:hours])\n",
    "\n",
    "# Define the objective function\n",
    "@objective(model, Max, sum(1/W*(\n",
    "        scenarios[i][hour,\"price\"] * p_DA[hour]\n",
    "     + delta_up[i,hour] * scenarios[i][hour,\"price\"] * (scenarios[i][hour,\"grid_excess\"]*0.9 + (1-scenarios[i][hour,\"grid_excess\"])*1)\n",
    "      - delta_down[i,hour] * scenarios[i][hour,\"price\"] * (scenarios[i][hour,\"grid_excess\"]*1 + (1-scenarios[i][hour,\"grid_excess\"])*1.2)\n",
    "      ) for i in 1:W, hour in 1:hours))\n",
    "\n",
    "# Define the constraints\n",
    "@constraint(model, [hour in 1:hours], p_DA[hour] <= 200)\n",
    "@constraint(model, [hour in 1:hours], p_DA[hour] >= 0)\n",
    "@constraint(model, [i in 1:W, hour in 1:hours], delta[i,hour] == scenarios[i][hour,\"wind power\"] - p_DA[hour])\n",
    "@constraint(model, [i in 1:W, hour in 1:hours], delta[i,hour] == delta_up[i,hour] - delta_down[i,hour])\n",
    "@constraint(model, [i in 1:W, hour in 1:hours], delta_down[i,hour] >= 0)\n",
    "#@constraint(model, [i in 1:W, hour in 1:hours], delta_down[i,hour] <= p_DA[hour])\n",
    "@constraint(model, [i in 1:W, hour in 1:hours], delta_up[i,hour] >= 0)\n",
    "#@constraint(model, [i in 1:W, hour in 1:hours], delta_up[i,hour] + p_DA[hour] <= 200)\n",
    "\n",
    "\n",
    "\n",
    "# Solve the optimization problem\n",
    "optimize!(model)\n",
    "\n",
    "\n",
    "#println(model)\n",
    "\n",
    "# Print the termination status\n",
    "status = termination_status(model)\n",
    "if status == MOI.OPTIMAL\n",
    "    println(\"Optimal solution found\")\n",
    "    \n",
    "    # RETURN OBJECTIVE value\n",
    "    println(\"Objective value: \", objective_value(model))\n",
    "else\n",
    "    println(\"No optimal solution found\")\n",
    "end"
   ]
  },
  {
   "cell_type": "code",
   "execution_count": 108,
   "metadata": {},
   "outputs": [],
   "source": [
    "println(\"Objective value: \", objective_value(model))\n",
    "println(\"p_DA: \", value.(p_DA))\n",
    "println(\"delta: \", value.(delta))\n",
    "println(\"delta_up: \", value.(delta_up))\n",
    "println(\"delta_down: \", value.(delta_down))"
   ]
  },
  {
   "cell_type": "code",
   "execution_count": 109,
   "metadata": {},
   "outputs": [
    {
     "data": {
      "text/html": [
       "<div><div style = \"float: left;\"><span>24×5 DataFrame</span></div><div style = \"clear: both;\"></div></div><div class = \"data-frame\" style = \"overflow-x: scroll;\"><table class = \"data-frame\" style = \"margin-bottom: 6px;\"><thead><tr class = \"header\"><th class = \"rowNumber\" style = \"font-weight: bold; text-align: right;\">Row</th><th style = \"text-align: left;\">hour</th><th style = \"text-align: left;\">p_DA</th><th style = \"text-align: left;\">delta</th><th style = \"text-align: left;\">delta_up</th><th style = \"text-align: left;\">delta_down</th></tr><tr class = \"subheader headerLastRow\"><th class = \"rowNumber\" style = \"font-weight: bold; text-align: right;\"></th><th title = \"Int64\" style = \"text-align: left;\">Int64</th><th title = \"Float64\" style = \"text-align: left;\">Float64</th><th title = \"Float64\" style = \"text-align: left;\">Float64</th><th title = \"Float64\" style = \"text-align: left;\">Float64</th><th title = \"Float64\" style = \"text-align: left;\">Float64</th></tr></thead><tbody><tr><td class = \"rowNumber\" style = \"font-weight: bold; text-align: right;\">1</td><td style = \"text-align: right;\">1</td><td style = \"text-align: right;\">51.5466</td><td style = \"text-align: right;\">100.446</td><td style = \"text-align: right;\">100.446</td><td style = \"text-align: right;\">0.0</td></tr><tr><td class = \"rowNumber\" style = \"font-weight: bold; text-align: right;\">2</td><td style = \"text-align: right;\">2</td><td style = \"text-align: right;\">14.3897</td><td style = \"text-align: right;\">129.07</td><td style = \"text-align: right;\">129.07</td><td style = \"text-align: right;\">0.0</td></tr><tr><td class = \"rowNumber\" style = \"font-weight: bold; text-align: right;\">3</td><td style = \"text-align: right;\">3</td><td style = \"text-align: right;\">51.149</td><td style = \"text-align: right;\">91.4377</td><td style = \"text-align: right;\">91.4377</td><td style = \"text-align: right;\">0.0</td></tr><tr><td class = \"rowNumber\" style = \"font-weight: bold; text-align: right;\">4</td><td style = \"text-align: right;\">4</td><td style = \"text-align: right;\">45.9903</td><td style = \"text-align: right;\">100.628</td><td style = \"text-align: right;\">100.628</td><td style = \"text-align: right;\">0.0</td></tr><tr><td class = \"rowNumber\" style = \"font-weight: bold; text-align: right;\">5</td><td style = \"text-align: right;\">5</td><td style = \"text-align: right;\">43.0742</td><td style = \"text-align: right;\">107.062</td><td style = \"text-align: right;\">107.062</td><td style = \"text-align: right;\">0.0</td></tr><tr><td class = \"rowNumber\" style = \"font-weight: bold; text-align: right;\">6</td><td style = \"text-align: right;\">6</td><td style = \"text-align: right;\">43.3419</td><td style = \"text-align: right;\">107.76</td><td style = \"text-align: right;\">107.76</td><td style = \"text-align: right;\">0.0</td></tr><tr><td class = \"rowNumber\" style = \"font-weight: bold; text-align: right;\">7</td><td style = \"text-align: right;\">7</td><td style = \"text-align: right;\">145.927</td><td style = \"text-align: right;\">0.0</td><td style = \"text-align: right;\">0.0</td><td style = \"text-align: right;\">0.0</td></tr><tr><td class = \"rowNumber\" style = \"font-weight: bold; text-align: right;\">8</td><td style = \"text-align: right;\">8</td><td style = \"text-align: right;\">13.3411</td><td style = \"text-align: right;\">129.92</td><td style = \"text-align: right;\">129.92</td><td style = \"text-align: right;\">0.0</td></tr><tr><td class = \"rowNumber\" style = \"font-weight: bold; text-align: right;\">9</td><td style = \"text-align: right;\">9</td><td style = \"text-align: right;\">1.1039</td><td style = \"text-align: right;\">141.175</td><td style = \"text-align: right;\">141.175</td><td style = \"text-align: right;\">0.0</td></tr><tr><td class = \"rowNumber\" style = \"font-weight: bold; text-align: right;\">10</td><td style = \"text-align: right;\">10</td><td style = \"text-align: right;\">146.945</td><td style = \"text-align: right;\">-4.72968</td><td style = \"text-align: right;\">0.0</td><td style = \"text-align: right;\">4.72968</td></tr><tr><td class = \"rowNumber\" style = \"font-weight: bold; text-align: right;\">11</td><td style = \"text-align: right;\">11</td><td style = \"text-align: right;\">22.8169</td><td style = \"text-align: right;\">118.762</td><td style = \"text-align: right;\">118.762</td><td style = \"text-align: right;\">0.0</td></tr><tr><td class = \"rowNumber\" style = \"font-weight: bold; text-align: right;\">12</td><td style = \"text-align: right;\">12</td><td style = \"text-align: right;\">0.741931</td><td style = \"text-align: right;\">137.576</td><td style = \"text-align: right;\">137.576</td><td style = \"text-align: right;\">0.0</td></tr><tr><td class = \"rowNumber\" style = \"font-weight: bold; text-align: right;\">13</td><td style = \"text-align: right;\">13</td><td style = \"text-align: right;\">142.915</td><td style = \"text-align: right;\">-5.58</td><td style = \"text-align: right;\">0.0</td><td style = \"text-align: right;\">5.58</td></tr><tr><td class = \"rowNumber\" style = \"font-weight: bold; text-align: right;\">14</td><td style = \"text-align: right;\">14</td><td style = \"text-align: right;\">40.8805</td><td style = \"text-align: right;\">95.926</td><td style = \"text-align: right;\">95.926</td><td style = \"text-align: right;\">0.0</td></tr><tr><td class = \"rowNumber\" style = \"font-weight: bold; text-align: right;\">15</td><td style = \"text-align: right;\">15</td><td style = \"text-align: right;\">135.989</td><td style = \"text-align: right;\">-2.99161</td><td style = \"text-align: right;\">0.0</td><td style = \"text-align: right;\">2.99161</td></tr><tr><td class = \"rowNumber\" style = \"font-weight: bold; text-align: right;\">16</td><td style = \"text-align: right;\">16</td><td style = \"text-align: right;\">40.1332</td><td style = \"text-align: right;\">89.396</td><td style = \"text-align: right;\">89.396</td><td style = \"text-align: right;\">0.0</td></tr><tr><td class = \"rowNumber\" style = \"font-weight: bold; text-align: right;\">17</td><td style = \"text-align: right;\">17</td><td style = \"text-align: right;\">146.025</td><td style = \"text-align: right;\">-24.1948</td><td style = \"text-align: right;\">0.0</td><td style = \"text-align: right;\">24.1948</td></tr><tr><td class = \"rowNumber\" style = \"font-weight: bold; text-align: right;\">18</td><td style = \"text-align: right;\">18</td><td style = \"text-align: right;\">149.601</td><td style = \"text-align: right;\">-34.4755</td><td style = \"text-align: right;\">0.0</td><td style = \"text-align: right;\">34.4755</td></tr><tr><td class = \"rowNumber\" style = \"font-weight: bold; text-align: right;\">19</td><td style = \"text-align: right;\">19</td><td style = \"text-align: right;\">16.4396</td><td style = \"text-align: right;\">92.0619</td><td style = \"text-align: right;\">92.0619</td><td style = \"text-align: right;\">0.0</td></tr><tr><td class = \"rowNumber\" style = \"font-weight: bold; text-align: right;\">20</td><td style = \"text-align: right;\">20</td><td style = \"text-align: right;\">152.746</td><td style = \"text-align: right;\">-49.205</td><td style = \"text-align: right;\">0.0</td><td style = \"text-align: right;\">49.205</td></tr><tr><td class = \"rowNumber\" style = \"font-weight: bold; text-align: right;\">21</td><td style = \"text-align: right;\">21</td><td style = \"text-align: right;\">4.49352</td><td style = \"text-align: right;\">93.6887</td><td style = \"text-align: right;\">93.6887</td><td style = \"text-align: right;\">0.0</td></tr><tr><td class = \"rowNumber\" style = \"font-weight: bold; text-align: right;\">22</td><td style = \"text-align: right;\">22</td><td style = \"text-align: right;\">60.7766</td><td style = \"text-align: right;\">31.3894</td><td style = \"text-align: right;\">31.3894</td><td style = \"text-align: right;\">0.0</td></tr><tr><td class = \"rowNumber\" style = \"font-weight: bold; text-align: right;\">23</td><td style = \"text-align: right;\">23</td><td style = \"text-align: right;\">6.80877</td><td style = \"text-align: right;\">77.844</td><td style = \"text-align: right;\">77.844</td><td style = \"text-align: right;\">0.0</td></tr><tr><td class = \"rowNumber\" style = \"font-weight: bold; text-align: right;\">24</td><td style = \"text-align: right;\">24</td><td style = \"text-align: right;\">149.579</td><td style = \"text-align: right;\">-71.5092</td><td style = \"text-align: right;\">0.0</td><td style = \"text-align: right;\">71.5092</td></tr></tbody></table></div>"
      ],
      "text/latex": [
       "\\begin{tabular}{r|ccccc}\n",
       "\t& hour & p\\_DA & delta & delta\\_up & delta\\_down\\\\\n",
       "\t\\hline\n",
       "\t& Int64 & Float64 & Float64 & Float64 & Float64\\\\\n",
       "\t\\hline\n",
       "\t1 & 1 & 51.5466 & 100.446 & 100.446 & 0.0 \\\\\n",
       "\t2 & 2 & 14.3897 & 129.07 & 129.07 & 0.0 \\\\\n",
       "\t3 & 3 & 51.149 & 91.4377 & 91.4377 & 0.0 \\\\\n",
       "\t4 & 4 & 45.9903 & 100.628 & 100.628 & 0.0 \\\\\n",
       "\t5 & 5 & 43.0742 & 107.062 & 107.062 & 0.0 \\\\\n",
       "\t6 & 6 & 43.3419 & 107.76 & 107.76 & 0.0 \\\\\n",
       "\t7 & 7 & 145.927 & 0.0 & 0.0 & 0.0 \\\\\n",
       "\t8 & 8 & 13.3411 & 129.92 & 129.92 & 0.0 \\\\\n",
       "\t9 & 9 & 1.1039 & 141.175 & 141.175 & 0.0 \\\\\n",
       "\t10 & 10 & 146.945 & -4.72968 & 0.0 & 4.72968 \\\\\n",
       "\t11 & 11 & 22.8169 & 118.762 & 118.762 & 0.0 \\\\\n",
       "\t12 & 12 & 0.741931 & 137.576 & 137.576 & 0.0 \\\\\n",
       "\t13 & 13 & 142.915 & -5.58 & 0.0 & 5.58 \\\\\n",
       "\t14 & 14 & 40.8805 & 95.926 & 95.926 & 0.0 \\\\\n",
       "\t15 & 15 & 135.989 & -2.99161 & 0.0 & 2.99161 \\\\\n",
       "\t16 & 16 & 40.1332 & 89.396 & 89.396 & 0.0 \\\\\n",
       "\t17 & 17 & 146.025 & -24.1948 & 0.0 & 24.1948 \\\\\n",
       "\t18 & 18 & 149.601 & -34.4755 & 0.0 & 34.4755 \\\\\n",
       "\t19 & 19 & 16.4396 & 92.0619 & 92.0619 & 0.0 \\\\\n",
       "\t20 & 20 & 152.746 & -49.205 & 0.0 & 49.205 \\\\\n",
       "\t21 & 21 & 4.49352 & 93.6887 & 93.6887 & 0.0 \\\\\n",
       "\t22 & 22 & 60.7766 & 31.3894 & 31.3894 & 0.0 \\\\\n",
       "\t23 & 23 & 6.80877 & 77.844 & 77.844 & 0.0 \\\\\n",
       "\t24 & 24 & 149.579 & -71.5092 & 0.0 & 71.5092 \\\\\n",
       "\\end{tabular}\n"
      ],
      "text/plain": [
       "\u001b[1m24×5 DataFrame\u001b[0m\n",
       "\u001b[1m Row \u001b[0m│\u001b[1m hour  \u001b[0m\u001b[1m p_DA      \u001b[0m\u001b[1m delta     \u001b[0m\u001b[1m delta_up \u001b[0m\u001b[1m delta_down \u001b[0m\n",
       "     │\u001b[90m Int64 \u001b[0m\u001b[90m Float64   \u001b[0m\u001b[90m Float64   \u001b[0m\u001b[90m Float64  \u001b[0m\u001b[90m Float64    \u001b[0m\n",
       "─────┼───────────────────────────────────────────────────\n",
       "   1 │     1   51.5466   100.446    100.446      0.0\n",
       "   2 │     2   14.3897   129.07     129.07       0.0\n",
       "   3 │     3   51.149     91.4377    91.4377     0.0\n",
       "   4 │     4   45.9903   100.628    100.628      0.0\n",
       "   5 │     5   43.0742   107.062    107.062      0.0\n",
       "   6 │     6   43.3419   107.76     107.76       0.0\n",
       "   7 │     7  145.927      0.0        0.0        0.0\n",
       "   8 │     8   13.3411   129.92     129.92       0.0\n",
       "  ⋮  │   ⋮        ⋮          ⋮         ⋮          ⋮\n",
       "  18 │    18  149.601    -34.4755     0.0       34.4755\n",
       "  19 │    19   16.4396    92.0619    92.0619     0.0\n",
       "  20 │    20  152.746    -49.205      0.0       49.205\n",
       "  21 │    21    4.49352   93.6887    93.6887     0.0\n",
       "  22 │    22   60.7766    31.3894    31.3894     0.0\n",
       "  23 │    23    6.80877   77.844     77.844      0.0\n",
       "  24 │    24  149.579    -71.5092     0.0       71.5092\n",
       "\u001b[36m                                           9 rows omitted\u001b[0m"
      ]
     },
     "metadata": {},
     "output_type": "display_data"
    }
   ],
   "source": [
    "#make a table with the results\n",
    "scenario = 1\n",
    "for hour in 1:hours\n",
    "    push!(result_df, [hour, value(p_DA[hour]), value(delta[scenario,hour]), value(delta_up[scenario,hour]), value(delta_down[scenario,hour])])\n",
    "end\n",
    "\n",
    "result_df"
   ]
  },
  {
   "cell_type": "code",
   "execution_count": 110,
   "metadata": {},
   "outputs": [],
   "source": []
  }
 ],
 "metadata": {
  "kernelspec": {
   "display_name": "Julia 1.9.3",
   "language": "julia",
   "name": "julia-1.9"
  },
  "language_info": {
   "file_extension": ".jl",
   "mimetype": "application/julia",
   "name": "julia",
   "version": "1.9.3"
  }
 },
 "nbformat": 4,
 "nbformat_minor": 2
}
