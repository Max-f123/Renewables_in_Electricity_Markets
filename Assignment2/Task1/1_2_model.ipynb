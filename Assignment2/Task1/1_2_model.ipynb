{
 "cells": [
  {
   "cell_type": "code",
   "execution_count": 83,
   "metadata": {},
   "outputs": [],
   "source": [
    "import Pkg\n",
    "#Pkg.add(\"JuMP\")\n",
    "#Pkg.add(\"GLPK\")\n",
    "#Pkg.add(\"Gruobi\")\n",
    "#Pkg.add(\"DataFrames\")\n",
    "#Pkg.add(\"CSV\")\n",
    "#Pkg.add(\"PyCall\")"
   ]
  },
  {
   "cell_type": "code",
   "execution_count": 84,
   "metadata": {},
   "outputs": [],
   "source": [
    "using JuMP, GLPK\n",
    "using DataFrames\n",
    "using CSV\n",
    "using PrettyTables\n",
    "using Random"
   ]
  },
  {
   "cell_type": "code",
   "execution_count": 85,
   "metadata": {},
   "outputs": [],
   "source": [
    "# Load the data\n",
    "scenarios_df = CSV.read(\"../data/scenarios.csv\", DataFrame)\n",
    "\n",
    "n_scenarios = size(scenarios_df, 2)/3\n",
    "n_scenarios = convert(Int, n_scenarios)\n",
    "\n",
    "# create a dictonary with 200 dataframes for each scenario\n",
    "all_scenarios = Dict()\n",
    "for i in 1:n_scenarios\n",
    "    df_helper = DataFrame(scenarios_df[:,3*i-2:3*i])\n",
    "    df_helper[!,3] = df_helper[!,3] .* 1.0\n",
    "    rename!(df_helper, [:\"price\", :\"wind power\", :\"grid_excess\"])\n",
    "    all_scenarios[i] = df_helper\n",
    "end"
   ]
  },
  {
   "cell_type": "code",
   "execution_count": 86,
   "metadata": {},
   "outputs": [],
   "source": [
    "W = 250\n",
    "hours = 24\n",
    "Random.seed!(123)\n",
    "selected_scenarios = rand(1:n_scenarios, W)\n",
    "\n",
    "scenarios = Dict()\n",
    "counter = 1\n",
    "for i in selected_scenarios\n",
    "    scenarios[counter] = all_scenarios[i]\n",
    "    counter += 1\n",
    "end"
   ]
  },
  {
   "cell_type": "code",
   "execution_count": 87,
   "metadata": {},
   "outputs": [],
   "source": [
    "# Create a new model with GLPK solver\n",
    "model = Model(GLPK.Optimizer)\n",
    "\n",
    "# Define the decision variables for hour\n",
    "@variable(model, p_DA[1:hours])\n",
    "@variable(model, delta[1:W,1:hours])\n",
    "@variable(model, delta_up[1:W,1:hours])\n",
    "@variable(model, delta_down[1:W,1:hours])\n",
    "\n",
    "# Define the objective function\n",
    "@objective(model, Max, sum(1/W*(\n",
    "        scenarios[i][hour,\"price\"] * p_DA[hour]\n",
    "     + delta_up[i,hour] * scenarios[i][hour,\"price\"] * (scenarios[i][hour,\"grid_excess\"]*0.9 + (1-scenarios[i][hour,\"grid_excess\"])*1)\n",
    "      - delta_down[i,hour] * scenarios[i][hour,\"price\"] * (scenarios[i][hour,\"grid_excess\"]*1 + (1-scenarios[i][hour,\"grid_excess\"])*1.2)\n",
    "      ) for i in 1:W, hour in 1:hours))\n",
    "\n",
    "# Define the constraints\n",
    "@constraint(model, [hour in 1:hours], p_DA[hour] <= 200)\n",
    "@constraint(model, [hour in 1:hours], p_DA[hour] >= 0)\n",
    "@constraint(model, [i in 1:W, hour in 1:hours], delta[i,hour] == scenarios[i][hour,\"wind power\"] - p_DA[hour])\n",
    "@constraint(model, [i in 1:W, hour in 1:hours], delta[i,hour] == delta_up[i,hour] - delta_down[i,hour])\n",
    "@constraint(model, [i in 1:W, hour in 1:hours], delta_down[i,hour] >= 0)\n",
    "#@constraint(model, [i in 1:W, hour in 1:hours], delta_down[i,hour] <= p_DA[hour])\n",
    "@constraint(model, [i in 1:W, hour in 1:hours], delta_up[i,hour] >= 0)\n",
    "#@constraint(model, [i in 1:W, hour in 1:hours], delta_up[i,hour] + p_DA[hour] <= 200)\n",
    "\n",
    "\n",
    "\n",
    "# Solve the optimization problem\n",
    "optimize!(model)\n",
    "\n",
    "\n",
    "#println(model)\n",
    "\n",
    "# Print the termination status\n",
    "status = termination_status(model)\n",
    "if status == MOI.OPTIMAL\n",
    "    println(\"Optimal solution found\")\n",
    "    \n",
    "    # RETURN OBJECTIVE value\n",
    "    println(\"Objective value: \", objective_value(model))\n",
    "else\n",
    "    println(\"No optimal solution found\")\n",
    "end"
   ]
  },
  {
   "cell_type": "code",
   "execution_count": 88,
   "metadata": {},
   "outputs": [],
   "source": [
    "println(\"Objective value: \", objective_value(model))\n",
    "println(\"p_DA: \", value.(p_DA))\n",
    "println(\"delta: \", value.(delta))\n",
    "println(\"delta_up: \", value.(delta_up))\n",
    "println(\"delta_down: \", value.(delta_down))"
   ]
  },
  {
   "cell_type": "code",
   "execution_count": 89,
   "metadata": {},
   "outputs": [],
   "source": [
    "# Initialize the DataFrame directly without dynamic column names\n",
    "result_df = DataFrame(hour = Int[], p_DA = Float64[])\n",
    "#, delta = Float64[], delta_up = Float64[], delta_down = Float64[]\n",
    "\n",
    "#make a table with the results\n",
    "scenario = 1\n",
    "for hour in 1:hours\n",
    "    push!(result_df, [hour, value(p_DA[hour])])\n",
    "    #, value(delta[scenario,hour]), value(delta_up[scenario,hour]), value(delta_down[scenario,hour])\n",
    "end\n",
    "\n",
    "pretty_table(result_df, backend = Val(:latex))"
   ]
  },
  {
   "cell_type": "code",
   "execution_count": 90,
   "metadata": {},
   "outputs": [],
   "source": [
    "profit_df = DataFrame(scenario = Int[], profit = Float64[])\n",
    "\n",
    "for i in 1:W\n",
    "    profit = 0\n",
    "    for hour in 1:hours\n",
    "        profit += (\n",
    "            scenarios[i][hour,\"price\"] * value(p_DA[hour])\n",
    "        + value(delta_up[i,hour]) * scenarios[i][hour,\"price\"] * (scenarios[i][hour,\"grid_excess\"]*0.9 + (1-scenarios[i][hour,\"grid_excess\"])*1)\n",
    "        - value(delta_down[i,hour]) * scenarios[i][hour,\"price\"] * (scenarios[i][hour,\"grid_excess\"]*1 + (1-scenarios[i][hour,\"grid_excess\"])*1.2)\n",
    "        )\n",
    "    end\n",
    "    push!(profit_df, [i, profit])\n",
    "end\n",
    "\n",
    "#return average of profit\n",
    "println(\"Average profit: \", sum(profit_df[!,\"profit\"])/W)"
   ]
  },
  {
   "cell_type": "code",
   "execution_count": 91,
   "metadata": {},
   "outputs": [
    {
     "data": {
      "text/plain": [
       "\"1_2_results/market_results_1_2.csv\""
      ]
     },
     "metadata": {},
     "output_type": "display_data"
    }
   ],
   "source": [
    "CSV.write(\"1_2_results/profits_1_2.csv\", profit_df)\n",
    "CSV.write(\"1_2_results/market_results_1_2.csv\", result_df)"
   ]
  }
 ],
 "metadata": {
  "kernelspec": {
   "display_name": "Julia 1.9.3",
   "language": "julia",
   "name": "julia-1.9"
  },
  "language_info": {
   "file_extension": ".jl",
   "mimetype": "application/julia",
   "name": "julia",
   "version": "1.9.3"
  }
 },
 "nbformat": 4,
 "nbformat_minor": 2
}
