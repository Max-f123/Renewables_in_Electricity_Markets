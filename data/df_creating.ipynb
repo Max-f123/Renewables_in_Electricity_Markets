{
 "cells": [
  {
   "cell_type": "code",
   "execution_count": 1,
   "metadata": {},
   "outputs": [],
   "source": [
    "import pandas as pd"
   ]
  },
  {
   "cell_type": "code",
   "execution_count": 2,
   "metadata": {},
   "outputs": [],
   "source": [
    "# Creating a DataFrame for Table 3: Load Profile\n",
    "\n",
    "data_table_3 = {\n",
    "    \"Hour\": list(range(1, 25)),\n",
    "    \"System demand (MW)\": [\n",
    "        1775.835, 1669.815, 1590.3, 1563.795, 1563.795, 1590.3, 1961.37, 2279.43,\n",
    "        2517.975, 2544.48, 2544.48, 2517.975, 2517.975, 2517.975, 2464.965, 2464.965,\n",
    "        2623.995, 2650.5, 2650.5, 2544.48, 2411.955, 2199.915, 1934.865, 1669.815\n",
    "    ]\n",
    "}\n",
    "\n",
    "# Creating the DataFrame\n",
    "data_table_3 = pd.DataFrame(data_table_3)\n",
    "\n",
    "#save data to csv\n",
    "data_table_3.to_csv('system_load.csv', index=False)"
   ]
  },
  {
   "cell_type": "code",
   "execution_count": 3,
   "metadata": {},
   "outputs": [],
   "source": [
    "# Creating a DataFrame for Table 4: Node Location and Distribution of the Total System Demand\n",
    "\n",
    "data_table_4 = {\n",
    "    \"Load #\": [1, 2, 3, 4, 5, 6, 7, 8, 9, 10, 11, 12, 13, 14, 15, 16, 17],\n",
    "    \"Node\": [1, 2, 3, 4, 5, 6, 7, 8, 9, 10, 13, 14, 15, 16, 18, 19, 20],\n",
    "    \"% of system load\": [3.8, 3.4, 6.3, 2.6, 2.5, 4.8, 4.4, 6, 6.1, 6.8, 9.3, 6.8, 11.1, 3.5, 11.7, 6.4, 4.5]\n",
    "}\n",
    "\n",
    "# Creating the DataFrame\n",
    "data_table_4 = pd.DataFrame(data_table_4)\n",
    "\n",
    "#save data to csv\n",
    "data_table_4.to_csv('load_distribution.csv', index=False)"
   ]
  },
  {
   "cell_type": "code",
   "execution_count": null,
   "metadata": {},
   "outputs": [],
   "source": [
    "con_generators = pd.read_csv('conventional_generators.csv')"
   ]
  },
  {
   "cell_type": "code",
   "execution_count": 4,
   "metadata": {},
   "outputs": [],
   "source": [
    "import random\n",
    "\n",
    "#load the data\n",
    "demand_othersource = pd.read_csv('demands.csv')\n",
    "node_list = list(demand_othersource['Location [node]'])\n",
    "power_list = list(demand_othersource[' Consumption [MW]'])\n",
    "\n",
    "#load demand\n",
    "sytem_load = pd.read_csv('system_load.csv')\n",
    "\n",
    "#normalize the demand column\n",
    "sytem_load['System demand (MW) norm'] = sytem_load['System demand (MW)'] / sytem_load['System demand (MW)'].mean()\n",
    "\n",
    "#create dictonary for demand, 20 entries  with an dataframe with random values for each hour, assigned to a node and including quantity and price\n",
    "demand_dict = {}\n",
    "for i in range(0,len(node_list)):\n",
    "    demand_dict[i] = pd.DataFrame({'Hour': list(range(1, 25)),\n",
    "    'Node': node_list[i],\n",
    "    'Quantity (MW)': power_list[i] * sytem_load['System demand (MW) norm'],\n",
    "    'Price ($/MWh)': [random.uniform(0, 35) for x in range(24)]})\n",
    "\n",
    "#save data to csv\n",
    "for i in range(0,len(node_list)):\n",
    "    demand_dict[i].to_csv('demand_bids/demand_node_'+str(i)+'.csv', index=False)"
   ]
  },
  {
   "cell_type": "code",
   "execution_count": 5,
   "metadata": {},
   "outputs": [],
   "source": [
    "#return list of demand_bids folder\n",
    "import os\n",
    "\n",
    "# Replace 'your_specific_folder_path' with the path to the folder you are interested in\n",
    "folder_path = 'demand_bids'\n",
    "\n",
    "# List all files in the specified folder\n",
    "file_list = os.listdir(folder_path)\n"
   ]
  },
  {
   "cell_type": "code",
   "execution_count": 6,
   "metadata": {},
   "outputs": [],
   "source": [
    "#create for each hour a dataframe of the bids\n",
    "\n",
    "for hour in range(0,24):\n",
    "    demand_bids = pd.DataFrame(columns=['Node', 'Quantity (MW)', 'Price ($/MWh)'])\n",
    "    for bid in file_list:\n",
    "        bid_df = pd.read_csv('demand_bids/'+bid)\n",
    "        # Data for the new row\n",
    "        new_row = {'Node': bid_df['Node'][hour], 'Quantity (MW)': bid_df['Quantity (MW)'][hour], 'Price ($/MWh)':bid_df['Price ($/MWh)'][hour]}\n",
    "\n",
    "        # Adding a new row without using the append function\n",
    "        # We're using loc to add a row at a specified index\n",
    "        demand_bids.loc[len(demand_bids)] = new_row\n",
    "    #save demand bids\n",
    "    demand_bids.to_csv('demand_bids_hour/demand_hour_'+str(hour)+'.csv', index=False)"
   ]
  },
  {
   "cell_type": "code",
   "execution_count": 7,
   "metadata": {},
   "outputs": [],
   "source": [
    "wind_profile = pd.read_csv('wind_powerprofile.csv')\n",
    "# multiply all values with 200 except of hour column\n",
    "wind_profile.iloc[:,1:] = wind_profile.iloc[:,1:]*200\n",
    "#save data to csv\n",
    "wind_profile.to_csv('wind_powerprofile_200.csv', index=False)"
   ]
  }
 ],
 "metadata": {
  "kernelspec": {
   "display_name": "Python 3",
   "language": "python",
   "name": "python3"
  },
  "language_info": {
   "codemirror_mode": {
    "name": "ipython",
    "version": 3
   },
   "file_extension": ".py",
   "mimetype": "text/x-python",
   "name": "python",
   "nbconvert_exporter": "python",
   "pygments_lexer": "ipython3",
   "version": "3.11.1"
  }
 },
 "nbformat": 4,
 "nbformat_minor": 2
}
