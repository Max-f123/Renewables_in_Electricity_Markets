{
 "cells": [
  {
   "cell_type": "code",
   "execution_count": 139,
   "metadata": {},
   "outputs": [],
   "source": [
    "#import Pkg\n",
    "#Pkg.add(\"JuMP\")\n",
    "#Pkg.add(\"GLPK\")\n",
    "#Pkg.add(\"Gruobi\")\n",
    "#Pkg.add(\"DataFrames\")\n",
    "#Pkg.add(\"CSV\")"
   ]
  },
  {
   "cell_type": "code",
   "execution_count": 140,
   "metadata": {},
   "outputs": [],
   "source": [
    "using JuMP, GLPK\n",
    "using DataFrames\n",
    "using CSV"
   ]
  },
  {
   "cell_type": "code",
   "execution_count": 141,
   "metadata": {},
   "outputs": [
    {
     "data": {
      "text/html": [
       "<div><div style = \"float: left;\"><span>6×5 DataFrame</span></div><div style = \"clear: both;\"></div></div><div class = \"data-frame\" style = \"overflow-x: scroll;\"><table class = \"data-frame\" style = \"margin-bottom: 6px;\"><thead><tr class = \"header\"><th class = \"rowNumber\" style = \"font-weight: bold; text-align: right;\">Row</th><th style = \"text-align: left;\">Unit</th><th style = \"text-align: left;\">Node</th><th style = \"text-align: left;\">Pmax (MW)</th><th style = \"text-align: left;\">Pmin (MW)</th><th style = \"text-align: left;\">Ci ($/MWh)</th></tr><tr class = \"subheader headerLastRow\"><th class = \"rowNumber\" style = \"font-weight: bold; text-align: right;\"></th><th title = \"Int64\" style = \"text-align: left;\">Int64</th><th title = \"Int64\" style = \"text-align: left;\">Int64</th><th title = \"Int64\" style = \"text-align: left;\">Int64</th><th title = \"Int64\" style = \"text-align: left;\">Int64</th><th title = \"Int64\" style = \"text-align: left;\">Int64</th></tr></thead><tbody><tr><td class = \"rowNumber\" style = \"font-weight: bold; text-align: right;\">1</td><td style = \"text-align: right;\">1</td><td style = \"text-align: right;\">3</td><td style = \"text-align: right;\">200</td><td style = \"text-align: right;\">0</td><td style = \"text-align: right;\">0</td></tr><tr><td class = \"rowNumber\" style = \"font-weight: bold; text-align: right;\">2</td><td style = \"text-align: right;\">2</td><td style = \"text-align: right;\">5</td><td style = \"text-align: right;\">200</td><td style = \"text-align: right;\">0</td><td style = \"text-align: right;\">0</td></tr><tr><td class = \"rowNumber\" style = \"font-weight: bold; text-align: right;\">3</td><td style = \"text-align: right;\">3</td><td style = \"text-align: right;\">7</td><td style = \"text-align: right;\">200</td><td style = \"text-align: right;\">0</td><td style = \"text-align: right;\">0</td></tr><tr><td class = \"rowNumber\" style = \"font-weight: bold; text-align: right;\">4</td><td style = \"text-align: right;\">4</td><td style = \"text-align: right;\">16</td><td style = \"text-align: right;\">200</td><td style = \"text-align: right;\">0</td><td style = \"text-align: right;\">0</td></tr><tr><td class = \"rowNumber\" style = \"font-weight: bold; text-align: right;\">5</td><td style = \"text-align: right;\">5</td><td style = \"text-align: right;\">21</td><td style = \"text-align: right;\">200</td><td style = \"text-align: right;\">0</td><td style = \"text-align: right;\">0</td></tr><tr><td class = \"rowNumber\" style = \"font-weight: bold; text-align: right;\">6</td><td style = \"text-align: right;\">6</td><td style = \"text-align: right;\">23</td><td style = \"text-align: right;\">200</td><td style = \"text-align: right;\">0</td><td style = \"text-align: right;\">0</td></tr></tbody></table></div>"
      ],
      "text/latex": [
       "\\begin{tabular}{r|ccccc}\n",
       "\t& Unit & Node & Pmax (MW) & Pmin (MW) & Ci (\\$/MWh)\\\\\n",
       "\t\\hline\n",
       "\t& Int64 & Int64 & Int64 & Int64 & Int64\\\\\n",
       "\t\\hline\n",
       "\t1 & 1 & 3 & 200 & 0 & 0 \\\\\n",
       "\t2 & 2 & 5 & 200 & 0 & 0 \\\\\n",
       "\t3 & 3 & 7 & 200 & 0 & 0 \\\\\n",
       "\t4 & 4 & 16 & 200 & 0 & 0 \\\\\n",
       "\t5 & 5 & 21 & 200 & 0 & 0 \\\\\n",
       "\t6 & 6 & 23 & 200 & 0 & 0 \\\\\n",
       "\\end{tabular}\n"
      ],
      "text/plain": [
       "\u001b[1m6×5 DataFrame\u001b[0m\n",
       "\u001b[1m Row \u001b[0m│\u001b[1m Unit  \u001b[0m\u001b[1m Node  \u001b[0m\u001b[1m Pmax (MW) \u001b[0m\u001b[1m Pmin (MW) \u001b[0m\u001b[1m Ci ($/MWh) \u001b[0m\n",
       "     │\u001b[90m Int64 \u001b[0m\u001b[90m Int64 \u001b[0m\u001b[90m Int64     \u001b[0m\u001b[90m Int64     \u001b[0m\u001b[90m Int64      \u001b[0m\n",
       "─────┼────────────────────────────────────────────────\n",
       "   1 │     1      3        200          0           0\n",
       "   2 │     2      5        200          0           0\n",
       "   3 │     3      7        200          0           0\n",
       "   4 │     4     16        200          0           0\n",
       "   5 │     5     21        200          0           0\n",
       "   6 │     6     23        200          0           0"
      ]
     },
     "metadata": {},
     "output_type": "display_data"
    }
   ],
   "source": [
    "#load demand data\n",
    "demand = CSV.File(\"../data/demand.csv\") |> DataFrame\n",
    "\n",
    "#load cost data\n",
    "cost = CSV.File(\"../data/cost_generation.csv\") |> DataFrame\n",
    "\n",
    "#load capacity data\n",
    "capacity = CSV.File(\"../data/technical_data_generation.csv\") |> DataFrame\n",
    "\n",
    "#load wind_technicaldata\n",
    "wind = CSV.File(\"../data/wind_technicaldata.csv\") |> DataFrame\n"
   ]
  },
  {
   "cell_type": "code",
   "execution_count": 142,
   "metadata": {},
   "outputs": [
    {
     "data": {
      "text/plain": [
       "6"
      ]
     },
     "metadata": {},
     "output_type": "display_data"
    }
   ],
   "source": [
    "#demand bids\n",
    "name = \"demand_hour_0.csv\"\n",
    "demand_bids = CSV.File(\"../data/demand_bids_hour/\" * name) |> DataFrame\n",
    " \n",
    "# number of convential generators\n",
    " G = size(cost, 1)\n",
    "\n",
    " # number of demand\n",
    " D = size(demand_bids, 1)\n",
    "\n",
    " # number of wind generators\n",
    " W = size(wind, 1)"
   ]
  },
  {
   "cell_type": "code",
   "execution_count": 143,
   "metadata": {},
   "outputs": [],
   "source": [
    "# Initialize the DataFrame directly without dynamic column names\n",
    "result_df = DataFrame(hour = Int[], objective_value = Float64[])\n",
    "\n",
    "# For x variables, manually add each column. This is a one-time setup.\n",
    "for i in 1:G\n",
    "    result_df[!, Symbol(\"x$i\")] = Float64[]\n",
    "end\n",
    "\n",
    "# For w variables, manually add each column. This is a one-time setup.\n",
    "for i in 1:W\n",
    "    result_df[!, Symbol(\"x_wind$i\")] = Float64[]\n",
    "end\n",
    "\n",
    "# For y variables, manually add each column. This is a one-time setup.\n",
    "for i in 1:D\n",
    "    result_df[!, Symbol(\"y$i\")] = Float64[]\n",
    "end"
   ]
  },
  {
   "cell_type": "code",
   "execution_count": 144,
   "metadata": {},
   "outputs": [
    {
     "name": "stdout",
     "output_type": "stream",
     "text": [
      "Hour 1: Optimal solution found\n",
      "Hour 2: Optimal solution found\n",
      "Hour 3: Optimal solution found\n",
      "Hour 4: Optimal solution found\n",
      "Hour 5: Optimal solution found\n",
      "Hour 6: Optimal solution found\n",
      "Hour 7: Optimal solution found\n",
      "Hour 8: Optimal solution found\n",
      "Hour 9: Optimal solution found\n",
      "Hour 10: Optimal solution found\n",
      "Hour 11: Optimal solution found\n",
      "Hour 12: Optimal solution found\n",
      "Hour 13: Optimal solution found\n",
      "Hour 14: Optimal solution found\n",
      "Hour 15: Optimal solution found\n",
      "Hour 16: Optimal solution found\n",
      "Hour 17: Optimal solution found\n",
      "Hour 18: Optimal solution found\n",
      "Hour 19: Optimal solution found\n",
      "Hour 20: Optimal solution found\n",
      "Hour 21: Optimal solution found\n",
      "Hour 22: Optimal solution found\n",
      "Hour 23: Optimal solution found\n",
      "Hour 24: Optimal solution found\n"
     ]
    }
   ],
   "source": [
    "\n",
    "for hour in 1:24\n",
    "  # Create a new model with GLPK solver\n",
    "  model = Model(GLPK.Optimizer)\n",
    "\n",
    "  # Define the decision variables for every generator\n",
    "  unregister(model, :x)  # Unregister the existing variable named \"x\" from the model\n",
    "  \n",
    "  #demand bids\n",
    "  name = \"demand_hour_\" * string(hour-1) * \".csv\"\n",
    "  demand_bids = CSV.File(\"../data/demand_bids_hour/\" * name) |> DataFrame\n",
    "\n",
    "   # number of demand\n",
    "   D = size(demand_bids, 1)\n",
    "\n",
    "  # decision variables for convential generators\n",
    "  @variable(model, x[1:G])  # Create the new variable\n",
    "  for generator in 1:G\n",
    "      set_lower_bound(x[generator], 0)  # Set the lower bound\n",
    "      set_upper_bound(x[generator], capacity[generator,3])  # Set the upper bound\n",
    "  end\n",
    "\n",
    "  # wind decision variables\n",
    "  @variable(model, x_wind[1:W])  # Create the new variable\n",
    "  for generator in 1:W\n",
    "      set_lower_bound(x_wind[generator], wind[generator,4])  # Set the lower bound\n",
    "      set_upper_bound(x_wind[generator], wind[generator,3])  # Set the upper bound\n",
    "  end\n",
    "\n",
    "  # decision variables for demand\n",
    "  @variable(model, y[1:size(demand_bids, 1)])  # Create the new variable\n",
    "  for bid in 1:D\n",
    "      set_lower_bound(y[bid], 0)  # Set the lower bound\n",
    "      set_upper_bound(y[bid], demand_bids[bid,2])  # Set the upper bound\n",
    "  end\n",
    "\n",
    "\n",
    "  # Define the objective function\n",
    "  @objective(model, Max, sum(demand_bids[d,3] * y[d] for d in 1:D) - sum(cost[g,2] * x[g] for g in 1:G) - sum(wind[w,5] * x_wind[w] for w in 1:W))\n",
    "\n",
    "  # Add the constraint for the balance between supply and demand\n",
    "  @constraint(model, sum(x[g] for g in 1:G) + sum(x_wind[w] for w in 1:W) - sum(y[d] for d in 1:D) == 0)\n",
    "\n",
    "  # Print the model\n",
    "  #print(model)\n",
    "\n",
    "  # Solve the model\n",
    "  optimize!(model)\n",
    "\n",
    "  # Check the status of the solution\n",
    "  status = termination_status(model)\n",
    "  if status == MOI.OPTIMAL\n",
    "      println(\"Hour \", hour, \": Optimal solution found\")\n",
    "      #println(\"Objective value: \", objective_value(model))\n",
    "      #println(\"x values: \", [value(x[i]) for i in 1:G])\n",
    "      #println(\"x_wind values: \", [value(x_wind[i]) for i in 1:W])\n",
    "      #println(\"y values: \", [value(y[i]) for i in 1:D])\n",
    "\n",
    "      #save results to dataframe\n",
    "      push!(result_df, [hour, objective_value(model), [value(x[i]) for i in 1:G]..., [value(x_wind[i]) for i in 1:W]..., [value(y[i]) for i in 1:D]...])\n",
    "\n",
    "  elseif status == MOI.INFEASIBLE\n",
    "      println(\"Hour \", hour, \": No feasible solution found\")\n",
    "  else\n",
    "      println(\"Hour \", hour, \": Solver status: \", status)\n",
    "  end\n",
    "end"
   ]
  },
  {
   "cell_type": "code",
   "execution_count": 145,
   "metadata": {},
   "outputs": [
    {
     "data": {
      "text/html": [
       "<div><div style = \"float: left;\"><span>24×40 DataFrame</span></div><div style = \"clear: both;\"></div></div><div class = \"data-frame\" style = \"overflow-x: scroll;\"><table class = \"data-frame\" style = \"margin-bottom: 6px;\"><thead><tr class = \"header\"><th class = \"rowNumber\" style = \"font-weight: bold; text-align: right;\">Row</th><th style = \"text-align: left;\">hour</th><th style = \"text-align: left;\">objective_value</th><th style = \"text-align: left;\">x1</th><th style = \"text-align: left;\">x2</th><th style = \"text-align: left;\">x3</th><th style = \"text-align: left;\">x4</th><th style = \"text-align: left;\">x5</th><th style = \"text-align: left;\">x6</th><th style = \"text-align: left;\">x7</th><th style = \"text-align: left;\">x8</th><th style = \"text-align: left;\">x9</th><th style = \"text-align: left;\">x10</th><th style = \"text-align: left;\">x11</th><th style = \"text-align: left;\">x12</th><th style = \"text-align: left;\">x_wind1</th><th style = \"text-align: left;\">x_wind2</th><th style = \"text-align: left;\">x_wind3</th><th style = \"text-align: left;\">x_wind4</th><th style = \"text-align: left;\">x_wind5</th><th style = \"text-align: left;\">x_wind6</th><th style = \"text-align: left;\">y1</th><th style = \"text-align: left;\">y2</th><th style = \"text-align: left;\">y3</th><th style = \"text-align: left;\">y4</th><th style = \"text-align: left;\">y5</th><th style = \"text-align: left;\">y6</th><th style = \"text-align: left;\">y7</th><th style = \"text-align: left;\">y8</th><th style = \"text-align: left;\">y9</th><th style = \"text-align: left;\">y10</th><th style = \"text-align: left;\">y11</th><th style = \"text-align: left;\">y12</th><th style = \"text-align: left;\">y13</th><th style = \"text-align: left;\">y14</th><th style = \"text-align: left;\">y15</th><th style = \"text-align: left;\">y16</th><th style = \"text-align: left;\">y17</th><th style = \"text-align: left;\">y18</th><th style = \"text-align: left;\">y19</th><th style = \"text-align: left;\">y20</th></tr><tr class = \"subheader headerLastRow\"><th class = \"rowNumber\" style = \"font-weight: bold; text-align: right;\"></th><th title = \"Int64\" style = \"text-align: left;\">Int64</th><th title = \"Float64\" style = \"text-align: left;\">Float64</th><th title = \"Float64\" style = \"text-align: left;\">Float64</th><th title = \"Float64\" style = \"text-align: left;\">Float64</th><th title = \"Float64\" style = \"text-align: left;\">Float64</th><th title = \"Float64\" style = \"text-align: left;\">Float64</th><th title = \"Float64\" style = \"text-align: left;\">Float64</th><th title = \"Float64\" style = \"text-align: left;\">Float64</th><th title = \"Float64\" style = \"text-align: left;\">Float64</th><th title = \"Float64\" style = \"text-align: left;\">Float64</th><th title = \"Float64\" style = \"text-align: left;\">Float64</th><th title = \"Float64\" style = \"text-align: left;\">Float64</th><th title = \"Float64\" style = \"text-align: left;\">Float64</th><th title = \"Float64\" style = \"text-align: left;\">Float64</th><th title = \"Float64\" style = \"text-align: left;\">Float64</th><th title = \"Float64\" style = \"text-align: left;\">Float64</th><th title = \"Float64\" style = \"text-align: left;\">Float64</th><th title = \"Float64\" style = \"text-align: left;\">Float64</th><th title = \"Float64\" style = \"text-align: left;\">Float64</th><th title = \"Float64\" style = \"text-align: left;\">Float64</th><th title = \"Float64\" style = \"text-align: left;\">Float64</th><th title = \"Float64\" style = \"text-align: left;\">Float64</th><th title = \"Float64\" style = \"text-align: left;\">Float64</th><th title = \"Float64\" style = \"text-align: left;\">Float64</th><th title = \"Float64\" style = \"text-align: left;\">Float64</th><th title = \"Float64\" style = \"text-align: left;\">Float64</th><th title = \"Float64\" style = \"text-align: left;\">Float64</th><th title = \"Float64\" style = \"text-align: left;\">Float64</th><th title = \"Float64\" style = \"text-align: left;\">Float64</th><th title = \"Float64\" style = \"text-align: left;\">Float64</th><th title = \"Float64\" style = \"text-align: left;\">Float64</th><th title = \"Float64\" style = \"text-align: left;\">Float64</th><th title = \"Float64\" style = \"text-align: left;\">Float64</th><th title = \"Float64\" style = \"text-align: left;\">Float64</th><th title = \"Float64\" style = \"text-align: left;\">Float64</th><th title = \"Float64\" style = \"text-align: left;\">Float64</th><th title = \"Float64\" style = \"text-align: left;\">Float64</th><th title = \"Float64\" style = \"text-align: left;\">Float64</th><th title = \"Float64\" style = \"text-align: left;\">Float64</th><th title = \"Float64\" style = \"text-align: left;\">Float64</th></tr></thead><tbody><tr><td class = \"rowNumber\" style = \"font-weight: bold; text-align: right;\">1</td><td style = \"text-align: right;\">1</td><td style = \"text-align: right;\">41809.1</td><td style = \"text-align: right;\">0.0</td><td style = \"text-align: right;\">0.0</td><td style = \"text-align: right;\">0.0</td><td style = \"text-align: right;\">0.0</td><td style = \"text-align: right;\">0.0</td><td style = \"text-align: right;\">0.0</td><td style = \"text-align: right;\">0.0</td><td style = \"text-align: right;\">400.0</td><td style = \"text-align: right;\">400.0</td><td style = \"text-align: right;\">300.0</td><td style = \"text-align: right;\">0.0</td><td style = \"text-align: right;\">0.0</td><td style = \"text-align: right;\">200.0</td><td style = \"text-align: right;\">200.0</td><td style = \"text-align: right;\">200.0</td><td style = \"text-align: right;\">200.0</td><td style = \"text-align: right;\">200.0</td><td style = \"text-align: right;\">200.0</td><td style = \"text-align: right;\">0.0</td><td style = \"text-align: right;\">0.0</td><td style = \"text-align: right;\">95.2252</td><td style = \"text-align: right;\">32.9464</td><td style = \"text-align: right;\">162.903</td><td style = \"text-align: right;\">180.231</td><td style = \"text-align: right;\">0.0</td><td style = \"text-align: right;\">225.391</td><td style = \"text-align: right;\">141.869</td><td style = \"text-align: right;\">237.728</td><td style = \"text-align: right;\">0.0</td><td style = \"text-align: right;\">75.0261</td><td style = \"text-align: right;\">0.0</td><td style = \"text-align: right;\">113.932</td><td style = \"text-align: right;\">97.8283</td><td style = \"text-align: right;\">250.871</td><td style = \"text-align: right;\">211.581</td><td style = \"text-align: right;\">196.878</td><td style = \"text-align: right;\">166.503</td><td style = \"text-align: right;\">111.087</td></tr><tr><td class = \"rowNumber\" style = \"font-weight: bold; text-align: right;\">2</td><td style = \"text-align: right;\">2</td><td style = \"text-align: right;\">33939.5</td><td style = \"text-align: right;\">0.0</td><td style = \"text-align: right;\">0.0</td><td style = \"text-align: right;\">0.0</td><td style = \"text-align: right;\">0.0</td><td style = \"text-align: right;\">0.0</td><td style = \"text-align: right;\">0.0</td><td style = \"text-align: right;\">0.0</td><td style = \"text-align: right;\">29.0174</td><td style = \"text-align: right;\">400.0</td><td style = \"text-align: right;\">300.0</td><td style = \"text-align: right;\">0.0</td><td style = \"text-align: right;\">0.0</td><td style = \"text-align: right;\">200.0</td><td style = \"text-align: right;\">200.0</td><td style = \"text-align: right;\">200.0</td><td style = \"text-align: right;\">200.0</td><td style = \"text-align: right;\">200.0</td><td style = \"text-align: right;\">200.0</td><td style = \"text-align: right;\">167.498</td><td style = \"text-align: right;\">0.0</td><td style = \"text-align: right;\">174.502</td><td style = \"text-align: right;\">0.0</td><td style = \"text-align: right;\">225.063</td><td style = \"text-align: right;\">0.0</td><td style = \"text-align: right;\">0.0</td><td style = \"text-align: right;\">242.232</td><td style = \"text-align: right;\">0.0</td><td style = \"text-align: right;\">271.104</td><td style = \"text-align: right;\">0.0</td><td style = \"text-align: right;\">107.957</td><td style = \"text-align: right;\">90.0358</td><td style = \"text-align: right;\">248.875</td><td style = \"text-align: right;\">114.826</td><td style = \"text-align: right;\">0.295911</td><td style = \"text-align: right;\">72.2837</td><td style = \"text-align: right;\">200.341</td><td style = \"text-align: right;\">14.0036</td><td style = \"text-align: right;\">0.0</td></tr><tr><td class = \"rowNumber\" style = \"font-weight: bold; text-align: right;\">3</td><td style = \"text-align: right;\">3</td><td style = \"text-align: right;\">36129.4</td><td style = \"text-align: right;\">0.0</td><td style = \"text-align: right;\">0.0</td><td style = \"text-align: right;\">0.0</td><td style = \"text-align: right;\">0.0</td><td style = \"text-align: right;\">0.0</td><td style = \"text-align: right;\">155.0</td><td style = \"text-align: right;\">155.0</td><td style = \"text-align: right;\">400.0</td><td style = \"text-align: right;\">400.0</td><td style = \"text-align: right;\">300.0</td><td style = \"text-align: right;\">310.0</td><td style = \"text-align: right;\">0.0</td><td style = \"text-align: right;\">200.0</td><td style = \"text-align: right;\">200.0</td><td style = \"text-align: right;\">200.0</td><td style = \"text-align: right;\">200.0</td><td style = \"text-align: right;\">200.0</td><td style = \"text-align: right;\">200.0</td><td style = \"text-align: right;\">0.0</td><td style = \"text-align: right;\">0.0</td><td style = \"text-align: right;\">205.748</td><td style = \"text-align: right;\">183.773</td><td style = \"text-align: right;\">285.208</td><td style = \"text-align: right;\">70.5899</td><td style = \"text-align: right;\">0.0</td><td style = \"text-align: right;\">106.515</td><td style = \"text-align: right;\">230.358</td><td style = \"text-align: right;\">186.891</td><td style = \"text-align: right;\">0.0</td><td style = \"text-align: right;\">257.544</td><td style = \"text-align: right;\">177.87</td><td style = \"text-align: right;\">239.477</td><td style = \"text-align: right;\">283.08</td><td style = \"text-align: right;\">234.743</td><td style = \"text-align: right;\">147.964</td><td style = \"text-align: right;\">64.3073</td><td style = \"text-align: right;\">0.0</td><td style = \"text-align: right;\">245.932</td></tr><tr><td class = \"rowNumber\" style = \"font-weight: bold; text-align: right;\">4</td><td style = \"text-align: right;\">4</td><td style = \"text-align: right;\">42496.4</td><td style = \"text-align: right;\">0.0</td><td style = \"text-align: right;\">0.0</td><td style = \"text-align: right;\">0.0</td><td style = \"text-align: right;\">0.0</td><td style = \"text-align: right;\">0.0</td><td style = \"text-align: right;\">0.0</td><td style = \"text-align: right;\">0.0</td><td style = \"text-align: right;\">56.0767</td><td style = \"text-align: right;\">400.0</td><td style = \"text-align: right;\">300.0</td><td style = \"text-align: right;\">0.0</td><td style = \"text-align: right;\">0.0</td><td style = \"text-align: right;\">200.0</td><td style = \"text-align: right;\">200.0</td><td style = \"text-align: right;\">200.0</td><td style = \"text-align: right;\">200.0</td><td style = \"text-align: right;\">200.0</td><td style = \"text-align: right;\">200.0</td><td style = \"text-align: right;\">182.63</td><td style = \"text-align: right;\">102.793</td><td style = \"text-align: right;\">0.0</td><td style = \"text-align: right;\">62.6313</td><td style = \"text-align: right;\">41.3109</td><td style = \"text-align: right;\">56.1774</td><td style = \"text-align: right;\">55.5472</td><td style = \"text-align: right;\">0.0</td><td style = \"text-align: right;\">0.0</td><td style = \"text-align: right;\">289.055</td><td style = \"text-align: right;\">212.036</td><td style = \"text-align: right;\">64.7428</td><td style = \"text-align: right;\">59.8237</td><td style = \"text-align: right;\">250.882</td><td style = \"text-align: right;\">283.437</td><td style = \"text-align: right;\">0.0</td><td style = \"text-align: right;\">6.32088</td><td style = \"text-align: right;\">0.0</td><td style = \"text-align: right;\">229.531</td><td style = \"text-align: right;\">59.1585</td></tr><tr><td class = \"rowNumber\" style = \"font-weight: bold; text-align: right;\">5</td><td style = \"text-align: right;\">5</td><td style = \"text-align: right;\">36938.6</td><td style = \"text-align: right;\">0.0</td><td style = \"text-align: right;\">0.0</td><td style = \"text-align: right;\">0.0</td><td style = \"text-align: right;\">0.0</td><td style = \"text-align: right;\">0.0</td><td style = \"text-align: right;\">0.0</td><td style = \"text-align: right;\">0.0</td><td style = \"text-align: right;\">174.173</td><td style = \"text-align: right;\">400.0</td><td style = \"text-align: right;\">300.0</td><td style = \"text-align: right;\">0.0</td><td style = \"text-align: right;\">0.0</td><td style = \"text-align: right;\">200.0</td><td style = \"text-align: right;\">200.0</td><td style = \"text-align: right;\">200.0</td><td style = \"text-align: right;\">200.0</td><td style = \"text-align: right;\">200.0</td><td style = \"text-align: right;\">200.0</td><td style = \"text-align: right;\">215.837</td><td style = \"text-align: right;\">39.8994</td><td style = \"text-align: right;\">0.0</td><td style = \"text-align: right;\">212.611</td><td style = \"text-align: right;\">0.0</td><td style = \"text-align: right;\">62.5487</td><td style = \"text-align: right;\">249.087</td><td style = \"text-align: right;\">0.0</td><td style = \"text-align: right;\">296.192</td><td style = \"text-align: right;\">115.12</td><td style = \"text-align: right;\">201.519</td><td style = \"text-align: right;\">44.1636</td><td style = \"text-align: right;\">0.0</td><td style = \"text-align: right;\">94.536</td><td style = \"text-align: right;\">287.188</td><td style = \"text-align: right;\">0.0787097</td><td style = \"text-align: right;\">0.0</td><td style = \"text-align: right;\">154.256</td><td style = \"text-align: right;\">0.0</td><td style = \"text-align: right;\">101.138</td></tr><tr><td class = \"rowNumber\" style = \"font-weight: bold; text-align: right;\">6</td><td style = \"text-align: right;\">6</td><td style = \"text-align: right;\">40653.6</td><td style = \"text-align: right;\">0.0</td><td style = \"text-align: right;\">0.0</td><td style = \"text-align: right;\">0.0</td><td style = \"text-align: right;\">0.0</td><td style = \"text-align: right;\">0.0</td><td style = \"text-align: right;\">0.0</td><td style = \"text-align: right;\">0.0</td><td style = \"text-align: right;\">400.0</td><td style = \"text-align: right;\">400.0</td><td style = \"text-align: right;\">300.0</td><td style = \"text-align: right;\">0.0</td><td style = \"text-align: right;\">0.0</td><td style = \"text-align: right;\">200.0</td><td style = \"text-align: right;\">200.0</td><td style = \"text-align: right;\">200.0</td><td style = \"text-align: right;\">200.0</td><td style = \"text-align: right;\">200.0</td><td style = \"text-align: right;\">200.0</td><td style = \"text-align: right;\">49.7495</td><td style = \"text-align: right;\">250.305</td><td style = \"text-align: right;\">128.252</td><td style = \"text-align: right;\">214.502</td><td style = \"text-align: right;\">24.4921</td><td style = \"text-align: right;\">13.9228</td><td style = \"text-align: right;\">72.5966</td><td style = \"text-align: right;\">0.0</td><td style = \"text-align: right;\">181.272</td><td style = \"text-align: right;\">257.832</td><td style = \"text-align: right;\">152.179</td><td style = \"text-align: right;\">298.377</td><td style = \"text-align: right;\">125.375</td><td style = \"text-align: right;\">5.98868</td><td style = \"text-align: right;\">254.488</td><td style = \"text-align: right;\">0.0</td><td style = \"text-align: right;\">62.2707</td><td style = \"text-align: right;\">159.903</td><td style = \"text-align: right;\">36.0081</td><td style = \"text-align: right;\">12.485</td></tr><tr><td class = \"rowNumber\" style = \"font-weight: bold; text-align: right;\">7</td><td style = \"text-align: right;\">7</td><td style = \"text-align: right;\">56435.9</td><td style = \"text-align: right;\">0.0</td><td style = \"text-align: right;\">0.0</td><td style = \"text-align: right;\">0.0</td><td style = \"text-align: right;\">0.0</td><td style = \"text-align: right;\">0.0</td><td style = \"text-align: right;\">155.0</td><td style = \"text-align: right;\">72.7641</td><td style = \"text-align: right;\">400.0</td><td style = \"text-align: right;\">400.0</td><td style = \"text-align: right;\">300.0</td><td style = \"text-align: right;\">0.0</td><td style = \"text-align: right;\">0.0</td><td style = \"text-align: right;\">200.0</td><td style = \"text-align: right;\">200.0</td><td style = \"text-align: right;\">200.0</td><td style = \"text-align: right;\">200.0</td><td style = \"text-align: right;\">200.0</td><td style = \"text-align: right;\">200.0</td><td style = \"text-align: right;\">0.0</td><td style = \"text-align: right;\">185.813</td><td style = \"text-align: right;\">102.653</td><td style = \"text-align: right;\">59.4073</td><td style = \"text-align: right;\">7.82298</td><td style = \"text-align: right;\">179.922</td><td style = \"text-align: right;\">288.642</td><td style = \"text-align: right;\">176.784</td><td style = \"text-align: right;\">224.531</td><td style = \"text-align: right;\">200.23</td><td style = \"text-align: right;\">173.568</td><td style = \"text-align: right;\">192.86</td><td style = \"text-align: right;\">113.591</td><td style = \"text-align: right;\">0.0</td><td style = \"text-align: right;\">261.646</td><td style = \"text-align: right;\">204.581</td><td style = \"text-align: right;\">152.209</td><td style = \"text-align: right;\">0.0</td><td style = \"text-align: right;\">3.50342</td><td style = \"text-align: right;\">0.0</td></tr><tr><td class = \"rowNumber\" style = \"font-weight: bold; text-align: right;\">8</td><td style = \"text-align: right;\">8</td><td style = \"text-align: right;\">38532.5</td><td style = \"text-align: right;\">0.0</td><td style = \"text-align: right;\">0.0</td><td style = \"text-align: right;\">0.0</td><td style = \"text-align: right;\">0.0</td><td style = \"text-align: right;\">0.0</td><td style = \"text-align: right;\">0.0</td><td style = \"text-align: right;\">0.0</td><td style = \"text-align: right;\">0.0</td><td style = \"text-align: right;\">400.0</td><td style = \"text-align: right;\">300.0</td><td style = \"text-align: right;\">0.0</td><td style = \"text-align: right;\">0.0</td><td style = \"text-align: right;\">200.0</td><td style = \"text-align: right;\">200.0</td><td style = \"text-align: right;\">200.0</td><td style = \"text-align: right;\">200.0</td><td style = \"text-align: right;\">200.0</td><td style = \"text-align: right;\">200.0</td><td style = \"text-align: right;\">183.727</td><td style = \"text-align: right;\">83.8165</td><td style = \"text-align: right;\">44.804</td><td style = \"text-align: right;\">0.0</td><td style = \"text-align: right;\">272.878</td><td style = \"text-align: right;\">0.0</td><td style = \"text-align: right;\">0.0</td><td style = \"text-align: right;\">99.5922</td><td style = \"text-align: right;\">0.0</td><td style = \"text-align: right;\">152.481</td><td style = \"text-align: right;\">109.201</td><td style = \"text-align: right;\">9.59198</td><td style = \"text-align: right;\">260.706</td><td style = \"text-align: right;\">279.702</td><td style = \"text-align: right;\">11.2783</td><td style = \"text-align: right;\">226.811</td><td style = \"text-align: right;\">0.0</td><td style = \"text-align: right;\">86.5742</td><td style = \"text-align: right;\">52.2719</td><td style = \"text-align: right;\">26.5641</td></tr><tr><td class = \"rowNumber\" style = \"font-weight: bold; text-align: right;\">9</td><td style = \"text-align: right;\">9</td><td style = \"text-align: right;\">37581.5</td><td style = \"text-align: right;\">0.0</td><td style = \"text-align: right;\">0.0</td><td style = \"text-align: right;\">0.0</td><td style = \"text-align: right;\">0.0</td><td style = \"text-align: right;\">0.0</td><td style = \"text-align: right;\">0.0</td><td style = \"text-align: right;\">0.0</td><td style = \"text-align: right;\">108.547</td><td style = \"text-align: right;\">400.0</td><td style = \"text-align: right;\">300.0</td><td style = \"text-align: right;\">0.0</td><td style = \"text-align: right;\">0.0</td><td style = \"text-align: right;\">200.0</td><td style = \"text-align: right;\">200.0</td><td style = \"text-align: right;\">200.0</td><td style = \"text-align: right;\">200.0</td><td style = \"text-align: right;\">200.0</td><td style = \"text-align: right;\">200.0</td><td style = \"text-align: right;\">0.0</td><td style = \"text-align: right;\">79.1139</td><td style = \"text-align: right;\">11.1967</td><td style = \"text-align: right;\">0.0</td><td style = \"text-align: right;\">124.032</td><td style = \"text-align: right;\">40.1477</td><td style = \"text-align: right;\">253.186</td><td style = \"text-align: right;\">291.307</td><td style = \"text-align: right;\">73.6302</td><td style = \"text-align: right;\">49.6137</td><td style = \"text-align: right;\">193.48</td><td style = \"text-align: right;\">0.0</td><td style = \"text-align: right;\">0.0</td><td style = \"text-align: right;\">141.179</td><td style = \"text-align: right;\">150.099</td><td style = \"text-align: right;\">87.8987</td><td style = \"text-align: right;\">195.298</td><td style = \"text-align: right;\">0.0</td><td style = \"text-align: right;\">107.321</td><td style = \"text-align: right;\">211.046</td></tr><tr><td class = \"rowNumber\" style = \"font-weight: bold; text-align: right;\">10</td><td style = \"text-align: right;\">10</td><td style = \"text-align: right;\">21448.7</td><td style = \"text-align: right;\">0.0</td><td style = \"text-align: right;\">0.0</td><td style = \"text-align: right;\">0.0</td><td style = \"text-align: right;\">0.0</td><td style = \"text-align: right;\">0.0</td><td style = \"text-align: right;\">0.0</td><td style = \"text-align: right;\">0.0</td><td style = \"text-align: right;\">0.0</td><td style = \"text-align: right;\">0.0</td><td style = \"text-align: right;\">300.0</td><td style = \"text-align: right;\">0.0</td><td style = \"text-align: right;\">0.0</td><td style = \"text-align: right;\">200.0</td><td style = \"text-align: right;\">200.0</td><td style = \"text-align: right;\">200.0</td><td style = \"text-align: right;\">200.0</td><td style = \"text-align: right;\">200.0</td><td style = \"text-align: right;\">200.0</td><td style = \"text-align: right;\">251.677</td><td style = \"text-align: right;\">5.26734</td><td style = \"text-align: right;\">51.6604</td><td style = \"text-align: right;\">0.0</td><td style = \"text-align: right;\">13.2672</td><td style = \"text-align: right;\">14.2321</td><td style = \"text-align: right;\">33.0705</td><td style = \"text-align: right;\">118.397</td><td style = \"text-align: right;\">48.4744</td><td style = \"text-align: right;\">101.155</td><td style = \"text-align: right;\">37.1224</td><td style = \"text-align: right;\">163.132</td><td style = \"text-align: right;\">73.6118</td><td style = \"text-align: right;\">214.756</td><td style = \"text-align: right;\">0.0</td><td style = \"text-align: right;\">111.264</td><td style = \"text-align: right;\">202.941</td><td style = \"text-align: right;\">9.37276</td><td style = \"text-align: right;\">50.5992</td><td style = \"text-align: right;\">0.0</td></tr><tr><td class = \"rowNumber\" style = \"font-weight: bold; text-align: right;\">11</td><td style = \"text-align: right;\">11</td><td style = \"text-align: right;\">46417.5</td><td style = \"text-align: right;\">0.0</td><td style = \"text-align: right;\">0.0</td><td style = \"text-align: right;\">0.0</td><td style = \"text-align: right;\">0.0</td><td style = \"text-align: right;\">0.0</td><td style = \"text-align: right;\">155.0</td><td style = \"text-align: right;\">108.865</td><td style = \"text-align: right;\">400.0</td><td style = \"text-align: right;\">400.0</td><td style = \"text-align: right;\">300.0</td><td style = \"text-align: right;\">0.0</td><td style = \"text-align: right;\">0.0</td><td style = \"text-align: right;\">200.0</td><td style = \"text-align: right;\">200.0</td><td style = \"text-align: right;\">200.0</td><td style = \"text-align: right;\">200.0</td><td style = \"text-align: right;\">200.0</td><td style = \"text-align: right;\">200.0</td><td style = \"text-align: right;\">213.416</td><td style = \"text-align: right;\">183.096</td><td style = \"text-align: right;\">0.0</td><td style = \"text-align: right;\">188.448</td><td style = \"text-align: right;\">0.0</td><td style = \"text-align: right;\">178.835</td><td style = \"text-align: right;\">0.0</td><td style = \"text-align: right;\">266.705</td><td style = \"text-align: right;\">113.426</td><td style = \"text-align: right;\">234.046</td><td style = \"text-align: right;\">299.412</td><td style = \"text-align: right;\">0.0</td><td style = \"text-align: right;\">171.777</td><td style = \"text-align: right;\">0.0</td><td style = \"text-align: right;\">5.3259</td><td style = \"text-align: right;\">137.161</td><td style = \"text-align: right;\">0.0</td><td style = \"text-align: right;\">174.537</td><td style = \"text-align: right;\">253.201</td><td style = \"text-align: right;\">144.478</td></tr><tr><td class = \"rowNumber\" style = \"font-weight: bold; text-align: right;\">12</td><td style = \"text-align: right;\">12</td><td style = \"text-align: right;\">50153.9</td><td style = \"text-align: right;\">0.0</td><td style = \"text-align: right;\">0.0</td><td style = \"text-align: right;\">0.0</td><td style = \"text-align: right;\">0.0</td><td style = \"text-align: right;\">0.0</td><td style = \"text-align: right;\">155.0</td><td style = \"text-align: right;\">148.121</td><td style = \"text-align: right;\">400.0</td><td style = \"text-align: right;\">400.0</td><td style = \"text-align: right;\">300.0</td><td style = \"text-align: right;\">0.0</td><td style = \"text-align: right;\">0.0</td><td style = \"text-align: right;\">200.0</td><td style = \"text-align: right;\">200.0</td><td style = \"text-align: right;\">200.0</td><td style = \"text-align: right;\">200.0</td><td style = \"text-align: right;\">200.0</td><td style = \"text-align: right;\">200.0</td><td style = \"text-align: right;\">248.137</td><td style = \"text-align: right;\">45.2462</td><td style = \"text-align: right;\">0.0</td><td style = \"text-align: right;\">99.7573</td><td style = \"text-align: right;\">218.107</td><td style = \"text-align: right;\">239.367</td><td style = \"text-align: right;\">31.6184</td><td style = \"text-align: right;\">203.299</td><td style = \"text-align: right;\">0.0</td><td style = \"text-align: right;\">233.138</td><td style = \"text-align: right;\">20.7817</td><td style = \"text-align: right;\">175.022</td><td style = \"text-align: right;\">0.0</td><td style = \"text-align: right;\">233.591</td><td style = \"text-align: right;\">269.211</td><td style = \"text-align: right;\">236.054</td><td style = \"text-align: right;\">66.2685</td><td style = \"text-align: right;\">45.9008</td><td style = \"text-align: right;\">0.0</td><td style = \"text-align: right;\">237.622</td></tr><tr><td class = \"rowNumber\" style = \"font-weight: bold; text-align: right;\">13</td><td style = \"text-align: right;\">13</td><td style = \"text-align: right;\">44291.8</td><td style = \"text-align: right;\">0.0</td><td style = \"text-align: right;\">0.0</td><td style = \"text-align: right;\">0.0</td><td style = \"text-align: right;\">0.0</td><td style = \"text-align: right;\">0.0</td><td style = \"text-align: right;\">127.339</td><td style = \"text-align: right;\">0.0</td><td style = \"text-align: right;\">400.0</td><td style = \"text-align: right;\">400.0</td><td style = \"text-align: right;\">300.0</td><td style = \"text-align: right;\">0.0</td><td style = \"text-align: right;\">0.0</td><td style = \"text-align: right;\">200.0</td><td style = \"text-align: right;\">200.0</td><td style = \"text-align: right;\">200.0</td><td style = \"text-align: right;\">200.0</td><td style = \"text-align: right;\">200.0</td><td style = \"text-align: right;\">200.0</td><td style = \"text-align: right;\">27.2159</td><td style = \"text-align: right;\">0.0</td><td style = \"text-align: right;\">259.593</td><td style = \"text-align: right;\">6.65846</td><td style = \"text-align: right;\">0.0</td><td style = \"text-align: right;\">0.0</td><td style = \"text-align: right;\">195.869</td><td style = \"text-align: right;\">263.121</td><td style = \"text-align: right;\">260.71</td><td style = \"text-align: right;\">187.153</td><td style = \"text-align: right;\">252.504</td><td style = \"text-align: right;\">0.0</td><td style = \"text-align: right;\">0.0</td><td style = \"text-align: right;\">295.215</td><td style = \"text-align: right;\">200.866</td><td style = \"text-align: right;\">99.756</td><td style = \"text-align: right;\">100.495</td><td style = \"text-align: right;\">237.142</td><td style = \"text-align: right;\">41.0408</td><td style = \"text-align: right;\">0.0</td></tr><tr><td class = \"rowNumber\" style = \"font-weight: bold; text-align: right;\">14</td><td style = \"text-align: right;\">14</td><td style = \"text-align: right;\">40616.1</td><td style = \"text-align: right;\">0.0</td><td style = \"text-align: right;\">0.0</td><td style = \"text-align: right;\">0.0</td><td style = \"text-align: right;\">0.0</td><td style = \"text-align: right;\">0.0</td><td style = \"text-align: right;\">0.0</td><td style = \"text-align: right;\">0.0</td><td style = \"text-align: right;\">295.546</td><td style = \"text-align: right;\">400.0</td><td style = \"text-align: right;\">300.0</td><td style = \"text-align: right;\">0.0</td><td style = \"text-align: right;\">0.0</td><td style = \"text-align: right;\">200.0</td><td style = \"text-align: right;\">200.0</td><td style = \"text-align: right;\">200.0</td><td style = \"text-align: right;\">200.0</td><td style = \"text-align: right;\">200.0</td><td style = \"text-align: right;\">200.0</td><td style = \"text-align: right;\">294.336</td><td style = \"text-align: right;\">0.0</td><td style = \"text-align: right;\">217.683</td><td style = \"text-align: right;\">188.29</td><td style = \"text-align: right;\">43.3842</td><td style = \"text-align: right;\">89.822</td><td style = \"text-align: right;\">234.738</td><td style = \"text-align: right;\">134.777</td><td style = \"text-align: right;\">0.0</td><td style = \"text-align: right;\">0.0</td><td style = \"text-align: right;\">48.3218</td><td style = \"text-align: right;\">128.019</td><td style = \"text-align: right;\">129.184</td><td style = \"text-align: right;\">242.384</td><td style = \"text-align: right;\">155.658</td><td style = \"text-align: right;\">75.0158</td><td style = \"text-align: right;\">60.8752</td><td style = \"text-align: right;\">153.059</td><td style = \"text-align: right;\">0.0</td><td style = \"text-align: right;\">0.0</td></tr><tr><td class = \"rowNumber\" style = \"font-weight: bold; text-align: right;\">15</td><td style = \"text-align: right;\">15</td><td style = \"text-align: right;\">50907.3</td><td style = \"text-align: right;\">0.0</td><td style = \"text-align: right;\">0.0</td><td style = \"text-align: right;\">0.0</td><td style = \"text-align: right;\">0.0</td><td style = \"text-align: right;\">0.0</td><td style = \"text-align: right;\">155.0</td><td style = \"text-align: right;\">155.0</td><td style = \"text-align: right;\">400.0</td><td style = \"text-align: right;\">400.0</td><td style = \"text-align: right;\">300.0</td><td style = \"text-align: right;\">33.8053</td><td style = \"text-align: right;\">0.0</td><td style = \"text-align: right;\">200.0</td><td style = \"text-align: right;\">200.0</td><td style = \"text-align: right;\">200.0</td><td style = \"text-align: right;\">200.0</td><td style = \"text-align: right;\">200.0</td><td style = \"text-align: right;\">200.0</td><td style = \"text-align: right;\">0.0</td><td style = \"text-align: right;\">131.139</td><td style = \"text-align: right;\">0.0</td><td style = \"text-align: right;\">247.888</td><td style = \"text-align: right;\">0.0</td><td style = \"text-align: right;\">195.895</td><td style = \"text-align: right;\">127.046</td><td style = \"text-align: right;\">25.2549</td><td style = \"text-align: right;\">246.212</td><td style = \"text-align: right;\">296.718</td><td style = \"text-align: right;\">15.1831</td><td style = \"text-align: right;\">0.0</td><td style = \"text-align: right;\">128.06</td><td style = \"text-align: right;\">152.756</td><td style = \"text-align: right;\">253.316</td><td style = \"text-align: right;\">0.0</td><td style = \"text-align: right;\">237.691</td><td style = \"text-align: right;\">251.413</td><td style = \"text-align: right;\">297.795</td><td style = \"text-align: right;\">37.4393</td></tr><tr><td class = \"rowNumber\" style = \"font-weight: bold; text-align: right;\">16</td><td style = \"text-align: right;\">16</td><td style = \"text-align: right;\">47727.4</td><td style = \"text-align: right;\">0.0</td><td style = \"text-align: right;\">0.0</td><td style = \"text-align: right;\">0.0</td><td style = \"text-align: right;\">0.0</td><td style = \"text-align: right;\">0.0</td><td style = \"text-align: right;\">0.0</td><td style = \"text-align: right;\">0.0</td><td style = \"text-align: right;\">400.0</td><td style = \"text-align: right;\">400.0</td><td style = \"text-align: right;\">300.0</td><td style = \"text-align: right;\">0.0</td><td style = \"text-align: right;\">0.0</td><td style = \"text-align: right;\">200.0</td><td style = \"text-align: right;\">200.0</td><td style = \"text-align: right;\">200.0</td><td style = \"text-align: right;\">200.0</td><td style = \"text-align: right;\">200.0</td><td style = \"text-align: right;\">200.0</td><td style = \"text-align: right;\">27.7614</td><td style = \"text-align: right;\">65.4492</td><td style = \"text-align: right;\">110.92</td><td style = \"text-align: right;\">100.113</td><td style = \"text-align: right;\">0.0</td><td style = \"text-align: right;\">0.0</td><td style = \"text-align: right;\">121.321</td><td style = \"text-align: right;\">47.7131</td><td style = \"text-align: right;\">298.177</td><td style = \"text-align: right;\">181.916</td><td style = \"text-align: right;\">0.0</td><td style = \"text-align: right;\">195.589</td><td style = \"text-align: right;\">50.5599</td><td style = \"text-align: right;\">117.303</td><td style = \"text-align: right;\">238.004</td><td style = \"text-align: right;\">195.698</td><td style = \"text-align: right;\">65.1752</td><td style = \"text-align: right;\">233.643</td><td style = \"text-align: right;\">0.0</td><td style = \"text-align: right;\">250.657</td></tr><tr><td class = \"rowNumber\" style = \"font-weight: bold; text-align: right;\">17</td><td style = \"text-align: right;\">17</td><td style = \"text-align: right;\">62383.5</td><td style = \"text-align: right;\">0.0</td><td style = \"text-align: right;\">0.0</td><td style = \"text-align: right;\">0.0</td><td style = \"text-align: right;\">0.0</td><td style = \"text-align: right;\">0.0</td><td style = \"text-align: right;\">155.0</td><td style = \"text-align: right;\">155.0</td><td style = \"text-align: right;\">400.0</td><td style = \"text-align: right;\">400.0</td><td style = \"text-align: right;\">300.0</td><td style = \"text-align: right;\">284.114</td><td style = \"text-align: right;\">0.0</td><td style = \"text-align: right;\">200.0</td><td style = \"text-align: right;\">200.0</td><td style = \"text-align: right;\">200.0</td><td style = \"text-align: right;\">200.0</td><td style = \"text-align: right;\">200.0</td><td style = \"text-align: right;\">200.0</td><td style = \"text-align: right;\">0.0</td><td style = \"text-align: right;\">229.884</td><td style = \"text-align: right;\">264.426</td><td style = \"text-align: right;\">232.577</td><td style = \"text-align: right;\">0.0</td><td style = \"text-align: right;\">76.7921</td><td style = \"text-align: right;\">127.865</td><td style = \"text-align: right;\">243.125</td><td style = \"text-align: right;\">168.801</td><td style = \"text-align: right;\">244.992</td><td style = \"text-align: right;\">232.525</td><td style = \"text-align: right;\">170.661</td><td style = \"text-align: right;\">249.275</td><td style = \"text-align: right;\">205.363</td><td style = \"text-align: right;\">279.325</td><td style = \"text-align: right;\">66.0865</td><td style = \"text-align: right;\">0.0</td><td style = \"text-align: right;\">0.0</td><td style = \"text-align: right;\">15.3429</td><td style = \"text-align: right;\">87.0745</td></tr><tr><td class = \"rowNumber\" style = \"font-weight: bold; text-align: right;\">18</td><td style = \"text-align: right;\">18</td><td style = \"text-align: right;\">38838.9</td><td style = \"text-align: right;\">0.0</td><td style = \"text-align: right;\">0.0</td><td style = \"text-align: right;\">0.0</td><td style = \"text-align: right;\">0.0</td><td style = \"text-align: right;\">0.0</td><td style = \"text-align: right;\">0.0</td><td style = \"text-align: right;\">0.0</td><td style = \"text-align: right;\">400.0</td><td style = \"text-align: right;\">400.0</td><td style = \"text-align: right;\">300.0</td><td style = \"text-align: right;\">0.0</td><td style = \"text-align: right;\">0.0</td><td style = \"text-align: right;\">200.0</td><td style = \"text-align: right;\">200.0</td><td style = \"text-align: right;\">200.0</td><td style = \"text-align: right;\">200.0</td><td style = \"text-align: right;\">200.0</td><td style = \"text-align: right;\">200.0</td><td style = \"text-align: right;\">194.658</td><td style = \"text-align: right;\">173.675</td><td style = \"text-align: right;\">0.0</td><td style = \"text-align: right;\">269.651</td><td style = \"text-align: right;\">222.183</td><td style = \"text-align: right;\">95.3138</td><td style = \"text-align: right;\">214.345</td><td style = \"text-align: right;\">289.809</td><td style = \"text-align: right;\">49.0784</td><td style = \"text-align: right;\">0.0</td><td style = \"text-align: right;\">0.0</td><td style = \"text-align: right;\">199.672</td><td style = \"text-align: right;\">0.0</td><td style = \"text-align: right;\">26.6152</td><td style = \"text-align: right;\">47.2023</td><td style = \"text-align: right;\">229.314</td><td style = \"text-align: right;\">66.8684</td><td style = \"text-align: right;\">99.0602</td><td style = \"text-align: right;\">0.0</td><td style = \"text-align: right;\">122.554</td></tr><tr><td class = \"rowNumber\" style = \"font-weight: bold; text-align: right;\">19</td><td style = \"text-align: right;\">19</td><td style = \"text-align: right;\">49969.7</td><td style = \"text-align: right;\">0.0</td><td style = \"text-align: right;\">0.0</td><td style = \"text-align: right;\">0.0</td><td style = \"text-align: right;\">0.0</td><td style = \"text-align: right;\">0.0</td><td style = \"text-align: right;\">110.014</td><td style = \"text-align: right;\">0.0</td><td style = \"text-align: right;\">400.0</td><td style = \"text-align: right;\">400.0</td><td style = \"text-align: right;\">300.0</td><td style = \"text-align: right;\">0.0</td><td style = \"text-align: right;\">0.0</td><td style = \"text-align: right;\">200.0</td><td style = \"text-align: right;\">200.0</td><td style = \"text-align: right;\">200.0</td><td style = \"text-align: right;\">200.0</td><td style = \"text-align: right;\">200.0</td><td style = \"text-align: right;\">200.0</td><td style = \"text-align: right;\">236.983</td><td style = \"text-align: right;\">144.31</td><td style = \"text-align: right;\">14.4485</td><td style = \"text-align: right;\">196.815</td><td style = \"text-align: right;\">72.9123</td><td style = \"text-align: right;\">239.96</td><td style = \"text-align: right;\">33.3938</td><td style = \"text-align: right;\">256.637</td><td style = \"text-align: right;\">0.0</td><td style = \"text-align: right;\">0.0</td><td style = \"text-align: right;\">0.0</td><td style = \"text-align: right;\">46.8431</td><td style = \"text-align: right;\">114.314</td><td style = \"text-align: right;\">240.5</td><td style = \"text-align: right;\">0.0</td><td style = \"text-align: right;\">162.623</td><td style = \"text-align: right;\">176.247</td><td style = \"text-align: right;\">209.08</td><td style = \"text-align: right;\">264.948</td><td style = \"text-align: right;\">0.0</td></tr><tr><td class = \"rowNumber\" style = \"font-weight: bold; text-align: right;\">20</td><td style = \"text-align: right;\">20</td><td style = \"text-align: right;\">33726.9</td><td style = \"text-align: right;\">0.0</td><td style = \"text-align: right;\">0.0</td><td style = \"text-align: right;\">0.0</td><td style = \"text-align: right;\">0.0</td><td style = \"text-align: right;\">0.0</td><td style = \"text-align: right;\">0.0</td><td style = \"text-align: right;\">0.0</td><td style = \"text-align: right;\">48.3411</td><td style = \"text-align: right;\">400.0</td><td style = \"text-align: right;\">300.0</td><td style = \"text-align: right;\">0.0</td><td style = \"text-align: right;\">0.0</td><td style = \"text-align: right;\">200.0</td><td style = \"text-align: right;\">200.0</td><td style = \"text-align: right;\">200.0</td><td style = \"text-align: right;\">200.0</td><td style = \"text-align: right;\">200.0</td><td style = \"text-align: right;\">200.0</td><td style = \"text-align: right;\">0.0</td><td style = \"text-align: right;\">179.531</td><td style = \"text-align: right;\">121.494</td><td style = \"text-align: right;\">144.683</td><td style = \"text-align: right;\">140.209</td><td style = \"text-align: right;\">68.7356</td><td style = \"text-align: right;\">0.0</td><td style = \"text-align: right;\">106.953</td><td style = \"text-align: right;\">195.791</td><td style = \"text-align: right;\">165.86</td><td style = \"text-align: right;\">222.858</td><td style = \"text-align: right;\">266.194</td><td style = \"text-align: right;\">0.0</td><td style = \"text-align: right;\">11.9685</td><td style = \"text-align: right;\">291.443</td><td style = \"text-align: right;\">0.0</td><td style = \"text-align: right;\">32.6211</td><td style = \"text-align: right;\">0.0</td><td style = \"text-align: right;\">0.0</td><td style = \"text-align: right;\">0.0</td></tr><tr><td class = \"rowNumber\" style = \"font-weight: bold; text-align: right;\">21</td><td style = \"text-align: right;\">21</td><td style = \"text-align: right;\">47206.5</td><td style = \"text-align: right;\">0.0</td><td style = \"text-align: right;\">0.0</td><td style = \"text-align: right;\">0.0</td><td style = \"text-align: right;\">0.0</td><td style = \"text-align: right;\">0.0</td><td style = \"text-align: right;\">71.6948</td><td style = \"text-align: right;\">0.0</td><td style = \"text-align: right;\">400.0</td><td style = \"text-align: right;\">400.0</td><td style = \"text-align: right;\">300.0</td><td style = \"text-align: right;\">0.0</td><td style = \"text-align: right;\">0.0</td><td style = \"text-align: right;\">200.0</td><td style = \"text-align: right;\">200.0</td><td style = \"text-align: right;\">200.0</td><td style = \"text-align: right;\">200.0</td><td style = \"text-align: right;\">200.0</td><td style = \"text-align: right;\">200.0</td><td style = \"text-align: right;\">162.145</td><td style = \"text-align: right;\">0.0</td><td style = \"text-align: right;\">275.362</td><td style = \"text-align: right;\">113.054</td><td style = \"text-align: right;\">194.168</td><td style = \"text-align: right;\">0.0</td><td style = \"text-align: right;\">218.8</td><td style = \"text-align: right;\">199.332</td><td style = \"text-align: right;\">0.0</td><td style = \"text-align: right;\">230.355</td><td style = \"text-align: right;\">286.451</td><td style = \"text-align: right;\">61.7785</td><td style = \"text-align: right;\">294.419</td><td style = \"text-align: right;\">0.0</td><td style = \"text-align: right;\">58.687</td><td style = \"text-align: right;\">0.0</td><td style = \"text-align: right;\">0.0</td><td style = \"text-align: right;\">0.0</td><td style = \"text-align: right;\">0.0</td><td style = \"text-align: right;\">277.143</td></tr><tr><td class = \"rowNumber\" style = \"font-weight: bold; text-align: right;\">22</td><td style = \"text-align: right;\">22</td><td style = \"text-align: right;\">49346.7</td><td style = \"text-align: right;\">0.0</td><td style = \"text-align: right;\">0.0</td><td style = \"text-align: right;\">0.0</td><td style = \"text-align: right;\">0.0</td><td style = \"text-align: right;\">0.0</td><td style = \"text-align: right;\">87.1844</td><td style = \"text-align: right;\">0.0</td><td style = \"text-align: right;\">400.0</td><td style = \"text-align: right;\">400.0</td><td style = \"text-align: right;\">300.0</td><td style = \"text-align: right;\">0.0</td><td style = \"text-align: right;\">0.0</td><td style = \"text-align: right;\">200.0</td><td style = \"text-align: right;\">200.0</td><td style = \"text-align: right;\">200.0</td><td style = \"text-align: right;\">200.0</td><td style = \"text-align: right;\">200.0</td><td style = \"text-align: right;\">200.0</td><td style = \"text-align: right;\">0.0</td><td style = \"text-align: right;\">287.255</td><td style = \"text-align: right;\">145.64</td><td style = \"text-align: right;\">33.6511</td><td style = \"text-align: right;\">3.85519</td><td style = \"text-align: right;\">224.541</td><td style = \"text-align: right;\">131.894</td><td style = \"text-align: right;\">289.906</td><td style = \"text-align: right;\">173.161</td><td style = \"text-align: right;\">224.233</td><td style = \"text-align: right;\">224.882</td><td style = \"text-align: right;\">115.888</td><td style = \"text-align: right;\">192.26</td><td style = \"text-align: right;\">0.0</td><td style = \"text-align: right;\">65.659</td><td style = \"text-align: right;\">2.81304</td><td style = \"text-align: right;\">12.0815</td><td style = \"text-align: right;\">247.918</td><td style = \"text-align: right;\">0.0</td><td style = \"text-align: right;\">11.5473</td></tr><tr><td class = \"rowNumber\" style = \"font-weight: bold; text-align: right;\">23</td><td style = \"text-align: right;\">23</td><td style = \"text-align: right;\">50004.2</td><td style = \"text-align: right;\">0.0</td><td style = \"text-align: right;\">0.0</td><td style = \"text-align: right;\">0.0</td><td style = \"text-align: right;\">0.0</td><td style = \"text-align: right;\">0.0</td><td style = \"text-align: right;\">0.0</td><td style = \"text-align: right;\">0.0</td><td style = \"text-align: right;\">400.0</td><td style = \"text-align: right;\">400.0</td><td style = \"text-align: right;\">300.0</td><td style = \"text-align: right;\">0.0</td><td style = \"text-align: right;\">0.0</td><td style = \"text-align: right;\">200.0</td><td style = \"text-align: right;\">200.0</td><td style = \"text-align: right;\">200.0</td><td style = \"text-align: right;\">200.0</td><td style = \"text-align: right;\">200.0</td><td style = \"text-align: right;\">200.0</td><td style = \"text-align: right;\">91.5265</td><td style = \"text-align: right;\">149.102</td><td style = \"text-align: right;\">200.245</td><td style = \"text-align: right;\">0.0</td><td style = \"text-align: right;\">295.162</td><td style = \"text-align: right;\">0.0</td><td style = \"text-align: right;\">222.627</td><td style = \"text-align: right;\">115.608</td><td style = \"text-align: right;\">0.0</td><td style = \"text-align: right;\">246.581</td><td style = \"text-align: right;\">182.089</td><td style = \"text-align: right;\">0.0</td><td style = \"text-align: right;\">161.454</td><td style = \"text-align: right;\">0.0</td><td style = \"text-align: right;\">67.609</td><td style = \"text-align: right;\">188.553</td><td style = \"text-align: right;\">0.0</td><td style = \"text-align: right;\">0.0</td><td style = \"text-align: right;\">173.201</td><td style = \"text-align: right;\">206.244</td></tr><tr><td class = \"rowNumber\" style = \"font-weight: bold; text-align: right;\">24</td><td style = \"text-align: right;\">24</td><td style = \"text-align: right;\">31861.6</td><td style = \"text-align: right;\">0.0</td><td style = \"text-align: right;\">0.0</td><td style = \"text-align: right;\">0.0</td><td style = \"text-align: right;\">0.0</td><td style = \"text-align: right;\">0.0</td><td style = \"text-align: right;\">0.0</td><td style = \"text-align: right;\">0.0</td><td style = \"text-align: right;\">170.2</td><td style = \"text-align: right;\">400.0</td><td style = \"text-align: right;\">300.0</td><td style = \"text-align: right;\">0.0</td><td style = \"text-align: right;\">0.0</td><td style = \"text-align: right;\">200.0</td><td style = \"text-align: right;\">200.0</td><td style = \"text-align: right;\">200.0</td><td style = \"text-align: right;\">200.0</td><td style = \"text-align: right;\">200.0</td><td style = \"text-align: right;\">200.0</td><td style = \"text-align: right;\">0.0</td><td style = \"text-align: right;\">0.0</td><td style = \"text-align: right;\">25.7516</td><td style = \"text-align: right;\">0.0</td><td style = \"text-align: right;\">0.0</td><td style = \"text-align: right;\">76.5921</td><td style = \"text-align: right;\">0.0</td><td style = \"text-align: right;\">0.0</td><td style = \"text-align: right;\">90.6003</td><td style = \"text-align: right;\">195.578</td><td style = \"text-align: right;\">252.998</td><td style = \"text-align: right;\">249.493</td><td style = \"text-align: right;\">84.4282</td><td style = \"text-align: right;\">288.936</td><td style = \"text-align: right;\">71.535</td><td style = \"text-align: right;\">126.727</td><td style = \"text-align: right;\">274.782</td><td style = \"text-align: right;\">172.738</td><td style = \"text-align: right;\">0.0</td><td style = \"text-align: right;\">160.04</td></tr></tbody></table></div>"
      ],
      "text/latex": [
       "\\begin{tabular}{r|cccccccccc}\n",
       "\t& hour & objective\\_value & x1 & x2 & x3 & x4 & x5 & x6 & x7 & \\\\\n",
       "\t\\hline\n",
       "\t& Int64 & Float64 & Float64 & Float64 & Float64 & Float64 & Float64 & Float64 & Float64 & \\\\\n",
       "\t\\hline\n",
       "\t1 & 1 & 41809.1 & 0.0 & 0.0 & 0.0 & 0.0 & 0.0 & 0.0 & 0.0 & $\\dots$ \\\\\n",
       "\t2 & 2 & 33939.5 & 0.0 & 0.0 & 0.0 & 0.0 & 0.0 & 0.0 & 0.0 & $\\dots$ \\\\\n",
       "\t3 & 3 & 36129.4 & 0.0 & 0.0 & 0.0 & 0.0 & 0.0 & 155.0 & 155.0 & $\\dots$ \\\\\n",
       "\t4 & 4 & 42496.4 & 0.0 & 0.0 & 0.0 & 0.0 & 0.0 & 0.0 & 0.0 & $\\dots$ \\\\\n",
       "\t5 & 5 & 36938.6 & 0.0 & 0.0 & 0.0 & 0.0 & 0.0 & 0.0 & 0.0 & $\\dots$ \\\\\n",
       "\t6 & 6 & 40653.6 & 0.0 & 0.0 & 0.0 & 0.0 & 0.0 & 0.0 & 0.0 & $\\dots$ \\\\\n",
       "\t7 & 7 & 56435.9 & 0.0 & 0.0 & 0.0 & 0.0 & 0.0 & 155.0 & 72.7641 & $\\dots$ \\\\\n",
       "\t8 & 8 & 38532.5 & 0.0 & 0.0 & 0.0 & 0.0 & 0.0 & 0.0 & 0.0 & $\\dots$ \\\\\n",
       "\t9 & 9 & 37581.5 & 0.0 & 0.0 & 0.0 & 0.0 & 0.0 & 0.0 & 0.0 & $\\dots$ \\\\\n",
       "\t10 & 10 & 21448.7 & 0.0 & 0.0 & 0.0 & 0.0 & 0.0 & 0.0 & 0.0 & $\\dots$ \\\\\n",
       "\t11 & 11 & 46417.5 & 0.0 & 0.0 & 0.0 & 0.0 & 0.0 & 155.0 & 108.865 & $\\dots$ \\\\\n",
       "\t12 & 12 & 50153.9 & 0.0 & 0.0 & 0.0 & 0.0 & 0.0 & 155.0 & 148.121 & $\\dots$ \\\\\n",
       "\t13 & 13 & 44291.8 & 0.0 & 0.0 & 0.0 & 0.0 & 0.0 & 127.339 & 0.0 & $\\dots$ \\\\\n",
       "\t14 & 14 & 40616.1 & 0.0 & 0.0 & 0.0 & 0.0 & 0.0 & 0.0 & 0.0 & $\\dots$ \\\\\n",
       "\t15 & 15 & 50907.3 & 0.0 & 0.0 & 0.0 & 0.0 & 0.0 & 155.0 & 155.0 & $\\dots$ \\\\\n",
       "\t16 & 16 & 47727.4 & 0.0 & 0.0 & 0.0 & 0.0 & 0.0 & 0.0 & 0.0 & $\\dots$ \\\\\n",
       "\t17 & 17 & 62383.5 & 0.0 & 0.0 & 0.0 & 0.0 & 0.0 & 155.0 & 155.0 & $\\dots$ \\\\\n",
       "\t18 & 18 & 38838.9 & 0.0 & 0.0 & 0.0 & 0.0 & 0.0 & 0.0 & 0.0 & $\\dots$ \\\\\n",
       "\t19 & 19 & 49969.7 & 0.0 & 0.0 & 0.0 & 0.0 & 0.0 & 110.014 & 0.0 & $\\dots$ \\\\\n",
       "\t20 & 20 & 33726.9 & 0.0 & 0.0 & 0.0 & 0.0 & 0.0 & 0.0 & 0.0 & $\\dots$ \\\\\n",
       "\t21 & 21 & 47206.5 & 0.0 & 0.0 & 0.0 & 0.0 & 0.0 & 71.6948 & 0.0 & $\\dots$ \\\\\n",
       "\t22 & 22 & 49346.7 & 0.0 & 0.0 & 0.0 & 0.0 & 0.0 & 87.1844 & 0.0 & $\\dots$ \\\\\n",
       "\t23 & 23 & 50004.2 & 0.0 & 0.0 & 0.0 & 0.0 & 0.0 & 0.0 & 0.0 & $\\dots$ \\\\\n",
       "\t24 & 24 & 31861.6 & 0.0 & 0.0 & 0.0 & 0.0 & 0.0 & 0.0 & 0.0 & $\\dots$ \\\\\n",
       "\\end{tabular}\n"
      ],
      "text/plain": [
       "\u001b[1m24×40 DataFrame\u001b[0m\n",
       "\u001b[1m Row \u001b[0m│\u001b[1m hour  \u001b[0m\u001b[1m objective_value \u001b[0m\u001b[1m x1      \u001b[0m\u001b[1m x2      \u001b[0m\u001b[1m x3      \u001b[0m\u001b[1m x4      \u001b[0m\u001b[1m x5      \u001b[0m\u001b[1m x6\u001b[0m ⋯\n",
       "     │\u001b[90m Int64 \u001b[0m\u001b[90m Float64         \u001b[0m\u001b[90m Float64 \u001b[0m\u001b[90m Float64 \u001b[0m\u001b[90m Float64 \u001b[0m\u001b[90m Float64 \u001b[0m\u001b[90m Float64 \u001b[0m\u001b[90m Fl\u001b[0m ⋯\n",
       "─────┼──────────────────────────────────────────────────────────────────────────\n",
       "   1 │     1          41809.1      0.0      0.0      0.0      0.0      0.0     ⋯\n",
       "   2 │     2          33939.5      0.0      0.0      0.0      0.0      0.0\n",
       "   3 │     3          36129.4      0.0      0.0      0.0      0.0      0.0  15\n",
       "   4 │     4          42496.4      0.0      0.0      0.0      0.0      0.0\n",
       "   5 │     5          36938.6      0.0      0.0      0.0      0.0      0.0     ⋯\n",
       "   6 │     6          40653.6      0.0      0.0      0.0      0.0      0.0\n",
       "   7 │     7          56435.9      0.0      0.0      0.0      0.0      0.0  15\n",
       "   8 │     8          38532.5      0.0      0.0      0.0      0.0      0.0\n",
       "  ⋮  │   ⋮           ⋮            ⋮        ⋮        ⋮        ⋮        ⋮        ⋱\n",
       "  18 │    18          38838.9      0.0      0.0      0.0      0.0      0.0     ⋯\n",
       "  19 │    19          49969.7      0.0      0.0      0.0      0.0      0.0  11\n",
       "  20 │    20          33726.9      0.0      0.0      0.0      0.0      0.0\n",
       "  21 │    21          47206.5      0.0      0.0      0.0      0.0      0.0   7\n",
       "  22 │    22          49346.7      0.0      0.0      0.0      0.0      0.0   8 ⋯\n",
       "  23 │    23          50004.2      0.0      0.0      0.0      0.0      0.0\n",
       "  24 │    24          31861.6      0.0      0.0      0.0      0.0      0.0\n",
       "\u001b[36m                                                   33 columns and 9 rows omitted\u001b[0m"
      ]
     },
     "metadata": {},
     "output_type": "display_data"
    }
   ],
   "source": [
    "result_df"
   ]
  },
  {
   "cell_type": "code",
   "execution_count": 146,
   "metadata": {},
   "outputs": [
    {
     "data": {
      "text/plain": [
       "\"../results/market_clearing_Jan.csv\""
      ]
     },
     "metadata": {},
     "output_type": "display_data"
    }
   ],
   "source": [
    "#save result_df to csv\n",
    "CSV.write(\"../results/market_clearing_Jan.csv\", result_df)"
   ]
  }
 ],
 "metadata": {
  "kernelspec": {
   "display_name": "Julia 1.9.3",
   "language": "julia",
   "name": "julia-1.9"
  },
  "language_info": {
   "file_extension": ".jl",
   "mimetype": "application/julia",
   "name": "julia",
   "version": "1.9.3"
  }
 },
 "nbformat": 4,
 "nbformat_minor": 2
}
