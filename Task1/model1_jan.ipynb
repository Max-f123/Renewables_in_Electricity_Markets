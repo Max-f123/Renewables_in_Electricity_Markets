{
 "cells": [
  {
   "cell_type": "code",
   "execution_count": 1,
   "metadata": {},
   "outputs": [
    {
     "name": "stderr",
     "output_type": "stream",
     "text": [
      "\u001b[32m\u001b[1m  Installing\u001b[22m\u001b[39m known registries into `C:\\Users\\leonr\\.julia`\n"
     ]
    },
    {
     "name": "stderr",
     "output_type": "stream",
     "text": [
      "\u001b[32m\u001b[1m    Updating\u001b[22m\u001b[39m registry at `C:\\Users\\leonr\\.julia\\registries\\General.toml`"
     ]
    },
    {
     "name": "stderr",
     "output_type": "stream",
     "text": [
      "\n",
      "\u001b[32m\u001b[1m   Resolving\u001b[22m\u001b[39m package versions...\n"
     ]
    },
    {
     "name": "stderr",
     "output_type": "stream",
     "text": [
      "\u001b[32m\u001b[1m   Installed\u001b[22m\u001b[39m MutableArithmetics ─── v1.4.0\n"
     ]
    },
    {
     "name": "stderr",
     "output_type": "stream",
     "text": [
      "\u001b[32m\u001b[1m   Installed\u001b[22m\u001b[39m IrrationalConstants ── v0.2.2\n",
      "\u001b[32m\u001b[1m   Installed\u001b[22m\u001b[39m DiffRules ──────────── v1.15.1\n"
     ]
    },
    {
     "name": "stderr",
     "output_type": "stream",
     "text": [
      "\u001b[32m\u001b[1m   Installed\u001b[22m\u001b[39m DiffResults ────────── v1.1.0\n"
     ]
    },
    {
     "name": "stderr",
     "output_type": "stream",
     "text": [
      "\u001b[32m\u001b[1m   Installed\u001b[22m\u001b[39m JSON ───────────────── v0.21.4\n"
     ]
    },
    {
     "name": "stderr",
     "output_type": "stream",
     "text": [
      "\u001b[32m\u001b[1m   Installed\u001b[22m\u001b[39m BenchmarkTools ─────── v1.4.0\n"
     ]
    },
    {
     "name": "stderr",
     "output_type": "stream",
     "text": [
      "\u001b[32m\u001b[1m   Installed\u001b[22m\u001b[39m SpecialFunctions ───── v2.3.1\n"
     ]
    },
    {
     "name": "stderr",
     "output_type": "stream",
     "text": [
      "\u001b[32m\u001b[1m   Installed\u001b[22m\u001b[39m Preferences ────────── v1.4.1\n"
     ]
    },
    {
     "name": "stderr",
     "output_type": "stream",
     "text": [
      "\u001b[32m\u001b[1m   Installed\u001b[22m\u001b[39m Bzip2_jll ──────────── v1.0.8+1\n"
     ]
    },
    {
     "name": "stderr",
     "output_type": "stream",
     "text": [
      "\u001b[32m\u001b[1m   Installed\u001b[22m\u001b[39m CodecBzip2 ─────────── v0.8.2\n"
     ]
    },
    {
     "name": "stderr",
     "output_type": "stream",
     "text": [
      "\u001b[32m\u001b[1m   Installed\u001b[22m\u001b[39m Parsers ────────────── v2.8.1\n"
     ]
    },
    {
     "name": "stderr",
     "output_type": "stream",
     "text": [
      "\u001b[32m\u001b[1m   Installed\u001b[22m\u001b[39m JLLWrappers ────────── v1.5.0\n"
     ]
    },
    {
     "name": "stderr",
     "output_type": "stream",
     "text": [
      "\u001b[32m\u001b[1m   Installed\u001b[22m\u001b[39m NaNMath ────────────── v1.0.2\n"
     ]
    },
    {
     "name": "stderr",
     "output_type": "stream",
     "text": [
      "\u001b[32m\u001b[1m   Installed\u001b[22m\u001b[39m StaticArraysCore ───── v1.4.2\n"
     ]
    },
    {
     "name": "stderr",
     "output_type": "stream",
     "text": [
      "\u001b[32m\u001b[1m   Installed\u001b[22m\u001b[39m PrecompileTools ────── v1.2.0\n"
     ]
    },
    {
     "name": "stderr",
     "output_type": "stream",
     "text": [
      "\u001b[32m\u001b[1m   Installed\u001b[22m\u001b[39m OrderedCollections ─── v1.6.3\n"
     ]
    },
    {
     "name": "stderr",
     "output_type": "stream",
     "text": [
      "\u001b[32m\u001b[1m   Installed\u001b[22m\u001b[39m TranscodingStreams ─── v0.10.3\n"
     ]
    },
    {
     "name": "stderr",
     "output_type": "stream",
     "text": [
      "\u001b[32m\u001b[1m   Installed\u001b[22m\u001b[39m ForwardDiff ────────── v0.10.36\n"
     ]
    },
    {
     "name": "stderr",
     "output_type": "stream",
     "text": [
      "\u001b[32m\u001b[1m   Installed\u001b[22m\u001b[39m JuMP ───────────────── v1.19.0\n"
     ]
    },
    {
     "name": "stderr",
     "output_type": "stream",
     "text": [
      "\u001b[32m\u001b[1m   Installed\u001b[22m\u001b[39m CommonSubexpressions ─ v0.3.0\n",
      "\u001b[32m\u001b[1m   Installed\u001b[22m\u001b[39m DataStructures ─────── v0.18.16\n"
     ]
    },
    {
     "name": "stderr",
     "output_type": "stream",
     "text": [
      "\u001b[32m\u001b[1m   Installed\u001b[22m\u001b[39m LogExpFunctions ────── v0.3.26\n",
      "\u001b[32m\u001b[1m   Installed\u001b[22m\u001b[39m MacroTools ─────────── v0.5.13\n"
     ]
    },
    {
     "name": "stderr",
     "output_type": "stream",
     "text": [
      "\u001b[32m\u001b[1m   Installed\u001b[22m\u001b[39m OpenSpecFun_jll ────── v0.5.5+0\n",
      "\u001b[32m\u001b[1m   Installed\u001b[22m\u001b[39m CodecZlib ──────────── v0.7.4\n"
     ]
    },
    {
     "name": "stderr",
     "output_type": "stream",
     "text": [
      "\u001b[32m\u001b[1m   Installed\u001b[22m\u001b[39m Compat ─────────────── v4.12.0\n"
     ]
    },
    {
     "name": "stderr",
     "output_type": "stream",
     "text": [
      "\u001b[32m\u001b[1m   Installed\u001b[22m\u001b[39m DocStringExtensions ── v0.9.3\n"
     ]
    },
    {
     "name": "stderr",
     "output_type": "stream",
     "text": [
      "\u001b[32m\u001b[1m   Installed\u001b[22m\u001b[39m MathOptInterface ───── v1.25.2\n"
     ]
    },
    {
     "name": "stderr",
     "output_type": "stream",
     "text": [
      "\u001b[32m\u001b[1m    Updating\u001b[22m\u001b[39m `C:\\Users\\leonr\\.julia\\environments\\v1.10\\Project.toml`\n",
      "  \u001b[90m[4076af6c] \u001b[39m\u001b[92m+ JuMP v1.19.0\u001b[39m\n",
      "\u001b[32m\u001b[1m    Updating\u001b[22m\u001b[39m `C:\\Users\\leonr\\.julia\\environments\\v1.10\\Manifest.toml`"
     ]
    },
    {
     "name": "stderr",
     "output_type": "stream",
     "text": [
      "\n",
      "  \u001b[90m[6e4b80f9] \u001b[39m\u001b[92m+ BenchmarkTools v1.4.0\u001b[39m\n",
      "  \u001b[90m[523fee87] \u001b[39m\u001b[92m+ CodecBzip2 v0.8.2\u001b[39m\n",
      "  \u001b[90m[944b1d66] \u001b[39m\u001b[92m+ CodecZlib v0.7.4\u001b[39m\n",
      "  \u001b[90m[bbf7d656] \u001b[39m\u001b[92m+ CommonSubexpressions v0.3.0\u001b[39m\n",
      "  \u001b[90m[34da2185] \u001b[39m\u001b[92m+ Compat v4.12.0\u001b[39m\n",
      "  \u001b[90m[864edb3b] \u001b[39m\u001b[92m+ DataStructures v0.18.16\u001b[39m"
     ]
    },
    {
     "name": "stderr",
     "output_type": "stream",
     "text": [
      "\n",
      "  \u001b[90m[163ba53b] \u001b[39m\u001b[92m+ DiffResults v1.1.0\u001b[39m\n",
      "  \u001b[90m[b552c78f] \u001b[39m\u001b[92m+ DiffRules v1.15.1\u001b[39m\n",
      "  \u001b[90m[ffbed154] \u001b[39m\u001b[92m+ DocStringExtensions v0.9.3\u001b[39m"
     ]
    },
    {
     "name": "stderr",
     "output_type": "stream",
     "text": [
      "\n",
      "  \u001b[90m[f6369f11] \u001b[39m\u001b[92m+ ForwardDiff v0.10.36\u001b[39m\n",
      "  \u001b[90m[92d709cd] \u001b[39m\u001b[92m+ IrrationalConstants v0.2.2\u001b[39m\n",
      "  \u001b[90m[692b3bcd] \u001b[39m\u001b[92m+ JLLWrappers v1.5.0\u001b[39m\n",
      "  \u001b[90m[682c06a0] \u001b[39m\u001b[92m+ JSON v0.21.4\u001b[39m\n",
      "  \u001b[90m[4076af6c] \u001b[39m\u001b[92m+ JuMP v1.19.0\u001b[39m\n",
      "  \u001b[90m[2ab3a3ac] \u001b[39m\u001b[92m+ LogExpFunctions v0.3.26\u001b[39m"
     ]
    },
    {
     "name": "stderr",
     "output_type": "stream",
     "text": [
      "\n",
      "  \u001b[90m[1914dd2f] \u001b[39m\u001b[92m+ MacroTools v0.5.13\u001b[39m\n",
      "  \u001b[90m[b8f27783] \u001b[39m\u001b[92m+ MathOptInterface v1.25.2\u001b[39m\n",
      "  \u001b[90m[d8a4904e] \u001b[39m\u001b[92m+ MutableArithmetics v1.4.0\u001b[39m"
     ]
    },
    {
     "name": "stderr",
     "output_type": "stream",
     "text": [
      "\n",
      "  \u001b[90m[77ba4419] \u001b[39m\u001b[92m+ NaNMath v1.0.2\u001b[39m\n",
      "  \u001b[90m[bac558e1] \u001b[39m\u001b[92m+ OrderedCollections v1.6.3\u001b[39m\n",
      "  \u001b[90m[69de0a69] \u001b[39m\u001b[92m+ Parsers v2.8.1\u001b[39m\n",
      "  \u001b[90m[aea7be01] \u001b[39m\u001b[92m+ PrecompileTools v1.2.0\u001b[39m\n",
      "  \u001b[90m[21216c6a] \u001b[39m\u001b[92m+ Preferences v1.4.1\u001b[39m\n",
      "  \u001b[90m[276daf66] \u001b[39m\u001b[92m+ SpecialFunctions v2.3.1\u001b[39m\n",
      "  \u001b[90m[1e83bf80] \u001b[39m\u001b[92m+ StaticArraysCore v1.4.2\u001b[39m\n",
      "  "
     ]
    },
    {
     "name": "stderr",
     "output_type": "stream",
     "text": [
      "\u001b[90m[3bb67fe8] \u001b[39m\u001b[92m+ TranscodingStreams v0.10.3\u001b[39m\n",
      "  \u001b[90m[6e34b625] \u001b[39m\u001b[92m+ Bzip2_jll v1.0.8+1\u001b[39m\n",
      "  \u001b[90m[efe28fd5] \u001b[39m\u001b[92m+ OpenSpecFun_jll v0.5.5+0\u001b[39m\n",
      "  \u001b[90m[0dad84c5] \u001b[39m\u001b[92m+ ArgTools v1.1.1\u001b[39m\n",
      "  \u001b[90m[56f22d72] \u001b[39m\u001b[92m+ Artifacts\u001b[39m\n",
      "  \u001b[90m[2a0f44e3] \u001b[39m\u001b[92m+ Base64\u001b[39m\n",
      "  \u001b[90m[ade2ca70] \u001b[39m\u001b[92m+ Dates\u001b[39m\n",
      "  \u001b[90m[f43a241f] \u001b[39m\u001b[92m+ Downloads v1.6.0\u001b[39m\n",
      "  \u001b[90m[7b1f6079] \u001b[39m\u001b[92m+ FileWatching\u001b[39m\n",
      " "
     ]
    },
    {
     "name": "stderr",
     "output_type": "stream",
     "text": [
      " \u001b[90m[b77e0a4c] \u001b[39m\u001b[92m+ InteractiveUtils\u001b[39m\n",
      "  \u001b[90m[b27032c2] \u001b[39m\u001b[92m+ LibCURL v0.6.4\u001b[39m\n",
      "  \u001b[90m[76f85450] \u001b[39m\u001b[92m+ LibGit2\u001b[39m\n",
      "  \u001b[90m[8f399da3] \u001b[39m\u001b[92m+ Libdl\u001b[39m\n",
      "  \u001b[90m[37e2e46d] \u001b[39m\u001b[92m+ LinearAlgebra\u001b[39m\n",
      "  \u001b[90m[56ddb016] \u001b[39m\u001b[92m+ Logging\u001b[39m\n",
      "  \u001b[90m[d6f4376e] \u001b[39m\u001b[92m+ Markdown\u001b[39m\n",
      "  \u001b[90m[a63ad114] \u001b[39m\u001b[92m+ Mmap\u001b[39m\n",
      "  \u001b[90m[ca575930] \u001b[39m\u001b[92m+ NetworkOptions v1.2.0\u001b[39m\n",
      "  \u001b[90m[44cfe95a] \u001b[39m\u001b[92m+ Pkg v1.10.0\u001b[39m\n",
      "  "
     ]
    },
    {
     "name": "stderr",
     "output_type": "stream",
     "text": [
      "\u001b[90m[de0858da] \u001b[39m\u001b[92m+ Printf\u001b[39m\n",
      "  \u001b[90m[9abbd945] \u001b[39m\u001b[92m+ Profile\u001b[39m\n",
      "  \u001b[90m[3fa0cd96] \u001b[39m\u001b[92m+ REPL\u001b[39m\n",
      "  \u001b[90m[9a3f8284] \u001b[39m\u001b[92m+ Random\u001b[39m\n",
      "  \u001b[90m[ea8e919c] \u001b[39m\u001b[92m+ SHA v0.7.0\u001b[39m\n",
      "  \u001b[90m[9e88b42a] \u001b[39m"
     ]
    },
    {
     "name": "stderr",
     "output_type": "stream",
     "text": [
      "\u001b[92m+ Serialization\u001b[39m\n",
      "  \u001b[90m[6462fe0b] \u001b[39m\u001b[92m+ Sockets\u001b[39m\n",
      "  \u001b[90m[2f01184e] \u001b[39m\u001b[92m+ SparseArrays v1.10.0\u001b[39m\n",
      "  \u001b[90m[10745b16] \u001b[39m\u001b[92m+ Statistics v1.10.0\u001b[39m\n",
      "  \u001b[90m[fa267f1f] \u001b[39m\u001b[92m+ TOML v1.0.3\u001b[39m\n",
      "  \u001b[90m[a4e569a6] \u001b[39m\u001b[92m+ Tar v1.10.0\u001b[39m\n",
      "  \u001b[90m[8dfed614] \u001b[39m\u001b[92m+ Test\u001b[39m\n",
      "  \u001b[90m[cf7118a7] \u001b[39m\u001b[92m+ UUIDs\u001b[39m\n",
      " "
     ]
    },
    {
     "name": "stderr",
     "output_type": "stream",
     "text": [
      " \u001b[90m[4ec0a83e] \u001b[39m\u001b[92m+ Unicode\u001b[39m\n",
      "  \u001b[90m[e66e0078] \u001b[39m\u001b[92m+ CompilerSupportLibraries_jll v1.0.5+1\u001b[39m\n",
      "  \u001b[90m[deac9b47] \u001b[39m\u001b[92m+ LibCURL_jll v8.4.0+0\u001b[39m\n",
      "  \u001b[90m[e37daf67] \u001b[39m\u001b[92m+ LibGit2_jll v1.6.4+0\u001b[39m\n",
      "  \u001b[90m[29816b5a] \u001b[39m\u001b[92m+ LibSSH2_jll v1.11.0+1\u001b[39m\n",
      "  \u001b[90m[c8ffd9c3] \u001b[39m\u001b[92m+ MbedTLS_jll v2.28.2+1\u001b[39m\n",
      "  \u001b[90m[14a3606d] \u001b[39m\u001b[92m+ MozillaCACerts_jll v2023.1.10\u001b[39m\n",
      "  \u001b[90m[4536629a] \u001b[39m\u001b[92m+ OpenBLAS_jll v0.3.23+2\u001b[39m\n",
      "  \u001b[90m[05823500] \u001b[39m\u001b[92m+ OpenLibm_jll v0.8.1+2\u001b[39m\n",
      "  \u001b[90m[bea87d4a] \u001b[39m\u001b[92m+ SuiteSparse_jll v7.2.1+1\u001b[39m\n",
      "  \u001b[90m[83775a58] \u001b[39m\u001b[92m+ Zlib_jll v1.2.13+1\u001b[39m\n",
      "  \u001b[90m[8e850b90] \u001b[39m"
     ]
    },
    {
     "name": "stderr",
     "output_type": "stream",
     "text": [
      "\u001b[92m+ libblastrampoline_jll v5.8.0+1\u001b[39m\n",
      "  \u001b[90m[8e850ede] \u001b[39m\u001b[92m+ nghttp2_jll v1.52.0+1\u001b[39m\n",
      "  \u001b[90m[3f19e933] \u001b[39m\u001b[92m+ p7zip_jll v17.4.0+2\u001b[39m\n"
     ]
    },
    {
     "name": "stderr",
     "output_type": "stream",
     "text": [
      "\u001b[32m\u001b[1mPrecompiling\u001b[22m\u001b[39m project...\n"
     ]
    },
    {
     "name": "stderr",
     "output_type": "stream",
     "text": [
      "\u001b[32m  ✓ \u001b[39m\u001b[90mNaNMath\u001b[39m\n"
     ]
    },
    {
     "name": "stderr",
     "output_type": "stream",
     "text": [
      "\u001b[32m  ✓ \u001b[39m\u001b[90mCompat\u001b[39m\n",
      "\u001b[32m  ✓ \u001b[39m\u001b[90mCompilerSupportLibraries_jll\u001b[39m\n"
     ]
    },
    {
     "name": "stderr",
     "output_type": "stream",
     "text": [
      "\u001b[32m  ✓ \u001b[39m\u001b[90mStaticArraysCore\u001b[39m\n"
     ]
    },
    {
     "name": "stderr",
     "output_type": "stream",
     "text": [
      "\u001b[32m  ✓ \u001b[39m\u001b[90mIrrationalConstants\u001b[39m\n",
      "\u001b[32m  ✓ \u001b[39m\u001b[90mOrderedCollections\u001b[39m\n"
     ]
    },
    {
     "name": "stderr",
     "output_type": "stream",
     "text": [
      "\u001b[32m  ✓ \u001b[39m\u001b[90mDocStringExtensions\u001b[39m\n"
     ]
    },
    {
     "name": "stderr",
     "output_type": "stream",
     "text": [
      "\u001b[32m  ✓ \u001b[39m\u001b[90mTranscodingStreams\u001b[39m\n"
     ]
    },
    {
     "name": "stderr",
     "output_type": "stream",
     "text": [
      "\u001b[32m  ✓ \u001b[39m\u001b[90mCompat → CompatLinearAlgebraExt\u001b[39m\n"
     ]
    },
    {
     "name": "stderr",
     "output_type": "stream",
     "text": [
      "\u001b[32m  ✓ \u001b[39m\u001b[90mPreferences\u001b[39m\n"
     ]
    },
    {
     "name": "stderr",
     "output_type": "stream",
     "text": [
      "\u001b[32m  ✓ \u001b[39m\u001b[90mDiffResults\u001b[39m\n"
     ]
    },
    {
     "name": "stderr",
     "output_type": "stream",
     "text": [
      "\u001b[32m  ✓ \u001b[39m\u001b[90mStatistics\u001b[39m\n"
     ]
    },
    {
     "name": "stderr",
     "output_type": "stream",
     "text": [
      "\u001b[32m  ✓ \u001b[39m\u001b[90mLogExpFunctions\u001b[39m\n",
      "\u001b[32m  ✓ \u001b[39m\u001b[90mTranscodingStreams → TestExt\u001b[39m\n"
     ]
    },
    {
     "name": "stderr",
     "output_type": "stream",
     "text": [
      "\u001b[32m  ✓ \u001b[39m"
     ]
    },
    {
     "name": "stderr",
     "output_type": "stream",
     "text": [
      "\u001b[90mMacroTools\u001b[39m\n"
     ]
    },
    {
     "name": "stderr",
     "output_type": "stream",
     "text": [
      "\u001b[32m  ✓ \u001b[39m\u001b[90mCodecZlib\u001b[39m\n"
     ]
    },
    {
     "name": "stderr",
     "output_type": "stream",
     "text": [
      "\u001b[32m  ✓ \u001b[39m\u001b[90mDataStructures\u001b[39m\n",
      "\u001b[32m  ✓ \u001b[39m\u001b[90mPrecompileTools\u001b[39m\n"
     ]
    },
    {
     "name": "stderr",
     "output_type": "stream",
     "text": [
      "\u001b[32m  ✓ \u001b[39m\u001b[90mCommonSubexpressions\u001b[39m\n",
      "\u001b[32m  ✓ \u001b[39m\u001b[90mJLLWrappers\u001b[39m\n"
     ]
    },
    {
     "name": "stderr",
     "output_type": "stream",
     "text": [
      "\u001b[32m  ✓ \u001b[39m\u001b[90mOpenSpecFun_jll\u001b[39m\n",
      "\u001b[32m  ✓ \u001b[39m\u001b[90mBzip2_jll\u001b[39m\n"
     ]
    },
    {
     "name": "stderr",
     "output_type": "stream",
     "text": [
      "\u001b[32m  ✓ \u001b[39m\u001b[90mMutableArithmetics\u001b[39m\n"
     ]
    },
    {
     "name": "stderr",
     "output_type": "stream",
     "text": [
      "\u001b[32m  ✓ \u001b[39m\u001b[90mCodecBzip2\u001b[39m\n"
     ]
    },
    {
     "name": "stderr",
     "output_type": "stream",
     "text": [
      "\u001b[32m  ✓ \u001b[39m\u001b[90mSpecialFunctions\u001b[39m\n"
     ]
    },
    {
     "name": "stderr",
     "output_type": "stream",
     "text": [
      "\u001b[32m  ✓ \u001b[39m\u001b[90mDiffRules\u001b[39m\n"
     ]
    },
    {
     "name": "stderr",
     "output_type": "stream",
     "text": [
      "\u001b[32m  ✓ \u001b[39m\u001b[90mForwardDiff\u001b[39m\n"
     ]
    },
    {
     "name": "stderr",
     "output_type": "stream",
     "text": [
      "\u001b[32m  ✓ \u001b[39m\u001b[90mParsers\u001b[39m\n"
     ]
    },
    {
     "name": "stderr",
     "output_type": "stream",
     "text": [
      "\u001b[32m  ✓ \u001b[39m\u001b[90mJSON\u001b[39m\n"
     ]
    },
    {
     "name": "stderr",
     "output_type": "stream",
     "text": [
      "\u001b[32m  ✓ \u001b[39m\u001b[90mBenchmarkTools\u001b[39m\n"
     ]
    },
    {
     "name": "stderr",
     "output_type": "stream",
     "text": [
      "\u001b[32m  ✓ \u001b[39m\u001b[90mMathOptInterface\u001b[39m\n"
     ]
    },
    {
     "name": "stderr",
     "output_type": "stream",
     "text": [
      "\u001b[32m  ✓ \u001b[39mJuMP\n"
     ]
    },
    {
     "name": "stderr",
     "output_type": "stream",
     "text": [
      "  32 dependencies successfully precompiled in 682 seconds. 6 already precompiled.\n",
      "\u001b[32m\u001b[1m   Resolving\u001b[22m\u001b[39m package versions..."
     ]
    },
    {
     "name": "stderr",
     "output_type": "stream",
     "text": [
      "\n"
     ]
    },
    {
     "name": "stderr",
     "output_type": "stream",
     "text": [
      "\u001b[32m\u001b[1m   Installed\u001b[22m\u001b[39m GLPK_jll ─ v5.0.1+0\n"
     ]
    },
    {
     "name": "stderr",
     "output_type": "stream",
     "text": [
      "\u001b[32m\u001b[1m   Installed\u001b[22m\u001b[39m GLPK ───── v1.1.3\n"
     ]
    },
    {
     "name": "stderr",
     "output_type": "stream",
     "text": [
      "\u001b[32m\u001b[1m    Updating\u001b[22m\u001b[39m `C:\\Users\\leonr\\.julia\\environments\\v1.10\\Project.toml`\n"
     ]
    },
    {
     "name": "stderr",
     "output_type": "stream",
     "text": [
      "  \u001b[90m[60bf3e95] \u001b[39m\u001b[92m+ GLPK v1.1.3\u001b[39m\n",
      "\u001b[32m\u001b[1m    Updating\u001b[22m\u001b[39m `C:\\Users\\leonr\\.julia\\environments\\v1.10\\Manifest.toml`"
     ]
    },
    {
     "name": "stderr",
     "output_type": "stream",
     "text": [
      "\n",
      "  \u001b[90m[60bf3e95] \u001b[39m\u001b[92m+ GLPK v1.1.3\u001b[39m\n",
      "  \u001b[90m[e8aa6df9] \u001b[39m\u001b[92m+ GLPK_jll v5.0.1+0\u001b[39m\n",
      "  \u001b[90m[781609d7] \u001b[39m\u001b[92m+ GMP_jll v6.2.1+6\u001b[39m\n"
     ]
    },
    {
     "name": "stderr",
     "output_type": "stream",
     "text": [
      "\u001b[32m\u001b[1mPrecompiling\u001b[22m\u001b[39m project..."
     ]
    },
    {
     "name": "stderr",
     "output_type": "stream",
     "text": [
      "\n"
     ]
    },
    {
     "name": "stderr",
     "output_type": "stream",
     "text": [
      "\u001b[32m  ✓ \u001b[39m\u001b[90mGLPK_jll\u001b[39m\n"
     ]
    },
    {
     "name": "stderr",
     "output_type": "stream",
     "text": [
      "\u001b[32m  ✓ \u001b[39mGLPK\n",
      "  2 dependencies successfully precompiled in 15 seconds. 39 already precompiled.\n",
      "\u001b[32m\u001b[1m   Resolving\u001b[22m\u001b[39m package versions...\n"
     ]
    },
    {
     "name": "stderr",
     "output_type": "stream",
     "text": [
      "\u001b[32m\u001b[1m   Installed\u001b[22m\u001b[39m Crayons ───────────────────── v4.1.1\n"
     ]
    },
    {
     "name": "stderr",
     "output_type": "stream",
     "text": [
      "\u001b[32m\u001b[1m   Installed\u001b[22m\u001b[39m TableTraits ───────────────── v1.0.1\n"
     ]
    },
    {
     "name": "stderr",
     "output_type": "stream",
     "text": [
      "\u001b[32m\u001b[1m   Installed\u001b[22m\u001b[39m Tables ────────────────────── v1.11.1\n"
     ]
    },
    {
     "name": "stderr",
     "output_type": "stream",
     "text": [
      "\u001b[32m\u001b[1m   Installed\u001b[22m\u001b[39m InlineStrings ─────────────── v1.4.0\n"
     ]
    },
    {
     "name": "stderr",
     "output_type": "stream",
     "text": [
      "\u001b[32m\u001b[1m   Installed\u001b[22m\u001b[39m DataAPI ───────────────────── v1.16.0\n"
     ]
    },
    {
     "name": "stderr",
     "output_type": "stream",
     "text": [
      "\u001b[32m\u001b[1m   Installed\u001b[22m\u001b[39m SentinelArrays ────────────── v1.4.1\n",
      "\u001b[32m\u001b[1m   Installed\u001b[22m\u001b[39m PooledArrays ──────────────── v1.4.3\n"
     ]
    },
    {
     "name": "stderr",
     "output_type": "stream",
     "text": [
      "\u001b[32m\u001b[1m   Installed\u001b[22m\u001b[39m IteratorInterfaceExtensions ─ v1.0.0\n",
      "\u001b[32m\u001b[1m   Installed\u001b[22m\u001b[39m DataValueInterfaces ───────── v1.0.0\n"
     ]
    },
    {
     "name": "stderr",
     "output_type": "stream",
     "text": [
      "\u001b[32m\u001b[1m   Installed\u001b[22m\u001b[39m LaTeXStrings ──────────────── v1.3.1\n"
     ]
    },
    {
     "name": "stderr",
     "output_type": "stream",
     "text": [
      "\u001b[32m\u001b[1m   Installed\u001b[22m\u001b[39m InvertedIndices ───────────── v1.3.0\n"
     ]
    },
    {
     "name": "stderr",
     "output_type": "stream",
     "text": [
      "\u001b[32m\u001b[1m   Installed\u001b[22m\u001b[39m Reexport ──────────────────── v1.2.2\n"
     ]
    },
    {
     "name": "stderr",
     "output_type": "stream",
     "text": [
      "\u001b[32m\u001b[1m   Installed\u001b[22m\u001b[39m SortingAlgorithms ─────────── v1.2.1\n"
     ]
    },
    {
     "name": "stderr",
     "output_type": "stream",
     "text": [
      "\u001b[32m\u001b[1m   Installed\u001b[22m\u001b[39m Missings ──────────────────── v1.1.0\n"
     ]
    },
    {
     "name": "stderr",
     "output_type": "stream",
     "text": [
      "\u001b[32m\u001b[1m   Installed\u001b[22m\u001b[39m StringManipulation ────────── v0.3.4\n"
     ]
    },
    {
     "name": "stderr",
     "output_type": "stream",
     "text": [
      "\u001b[32m\u001b[1m   Installed\u001b[22m\u001b[39m DataFrames ────────────────── v1.6.1\n"
     ]
    },
    {
     "name": "stderr",
     "output_type": "stream",
     "text": [
      "\u001b[32m\u001b[1m   Installed\u001b[22m\u001b[39m PrettyTables ──────────────── v2.3.1\n"
     ]
    },
    {
     "name": "stderr",
     "output_type": "stream",
     "text": [
      "\u001b[32m\u001b[1m    Updating\u001b[22m\u001b[39m `C:\\Users\\leonr\\.julia\\environments\\v1.10\\Project.toml`\n",
      "  "
     ]
    },
    {
     "name": "stderr",
     "output_type": "stream",
     "text": [
      "\u001b[90m[a93c6f00] \u001b[39m\u001b[92m+ DataFrames v1.6.1\u001b[39m\n",
      "\u001b[32m\u001b[1m    Updating\u001b[22m\u001b[39m `C:\\Users\\leonr\\.julia\\environments\\v1.10\\Manifest.toml`\n"
     ]
    },
    {
     "name": "stderr",
     "output_type": "stream",
     "text": [
      " "
     ]
    },
    {
     "name": "stderr",
     "output_type": "stream",
     "text": [
      " \u001b[90m[a8cc5b0e] \u001b[39m\u001b[92m+ Crayons v4.1.1\u001b[39m\n"
     ]
    },
    {
     "name": "stderr",
     "output_type": "stream",
     "text": [
      "  \u001b[90m[9a962f9c] \u001b[39m\u001b[92m+ DataAPI v1.16.0\u001b[39m\n",
      "  \u001b[90m[a93c6f00] \u001b[39m\u001b[92m+ DataFrames v1.6.1\u001b[39m"
     ]
    },
    {
     "name": "stderr",
     "output_type": "stream",
     "text": [
      "\n",
      "  \u001b[90m[e2d170a0] \u001b[39m\u001b[92m+ DataValueInterfaces v1.0.0\u001b[39m\n"
     ]
    },
    {
     "name": "stderr",
     "output_type": "stream",
     "text": [
      "  \u001b[90m[842dd82b] \u001b[39m\u001b[92m+ InlineStrings v1.4.0\u001b[39m\n",
      "  \u001b[90m[41ab1584] \u001b[39m\u001b[92m+ InvertedIndices v1.3.0\u001b[39m"
     ]
    },
    {
     "name": "stderr",
     "output_type": "stream",
     "text": [
      "\n",
      "  \u001b[90m[82899510] \u001b[39m\u001b[92m+ IteratorInterfaceExtensions v1.0.0\u001b[39m\n",
      "  \u001b[90m[b964fa9f] \u001b[39m\u001b[92m+ LaTeXStrings v1.3.1\u001b[39m\n"
     ]
    },
    {
     "name": "stderr",
     "output_type": "stream",
     "text": [
      "  \u001b[90m[e1d29d7a] \u001b[39m\u001b[92m+ Missings v1.1.0\u001b[39m\n",
      " "
     ]
    },
    {
     "name": "stderr",
     "output_type": "stream",
     "text": [
      " \u001b[90m[2dfb63ee] \u001b[39m\u001b[92m+ PooledArrays v1.4.3\u001b[39m\n",
      "  \u001b[90m[08abe8d2] \u001b[39m\u001b[92m+ PrettyTables v2.3.1\u001b[39m\n",
      "  \u001b[90m[189a3867] \u001b[39m\u001b[92m+ Reexport v1.2.2\u001b[39m\n",
      "  \u001b[90m[91c51154] \u001b[39m\u001b[92m+ SentinelArrays v1.4.1\u001b[39m\n",
      "  \u001b[90m[a2af1166] \u001b[39m\u001b[92m+ SortingAlgorithms v1.2.1\u001b[39m\n",
      "  \u001b[90m[892a3eda] \u001b[39m"
     ]
    },
    {
     "name": "stderr",
     "output_type": "stream",
     "text": [
      "\u001b[92m+ StringManipulation v0.3.4\u001b[39m\n",
      "  \u001b[90m[3783bdb8] \u001b[39m\u001b[92m+ TableTraits v1.0.1\u001b[39m\n",
      "  \u001b[90m[bd369af6] \u001b[39m\u001b[92m+ Tables v1.11.1\u001b[39m\n",
      "  \u001b[90m[9fa8497b] \u001b[39m\u001b[92m+ Future\u001b[39m\n"
     ]
    },
    {
     "name": "stderr",
     "output_type": "stream",
     "text": [
      "\u001b[32m\u001b[1mPrecompiling\u001b[22m\u001b[39m"
     ]
    },
    {
     "name": "stderr",
     "output_type": "stream",
     "text": [
      " "
     ]
    },
    {
     "name": "stderr",
     "output_type": "stream",
     "text": [
      "project..."
     ]
    },
    {
     "name": "stderr",
     "output_type": "stream",
     "text": [
      "\n"
     ]
    },
    {
     "name": "stderr",
     "output_type": "stream",
     "text": [
      "\u001b[32m  ✓ \u001b[39m\u001b[90mDataValueInterfaces\u001b[39m\n"
     ]
    },
    {
     "name": "stderr",
     "output_type": "stream",
     "text": [
      "\u001b[32m  ✓ \u001b[39m\u001b[90mReexport\u001b[39m\n"
     ]
    },
    {
     "name": "stderr",
     "output_type": "stream",
     "text": [
      "\u001b[32m  ✓ \u001b[39m\u001b[90mLaTeXStrings\u001b[39m\n",
      "\u001b[32m  ✓ \u001b[39m\u001b[90mInvertedIndices\u001b[39m\n"
     ]
    },
    {
     "name": "stderr",
     "output_type": "stream",
     "text": [
      "\u001b[32m  ✓ \u001b[39m\u001b[90mIteratorInterfaceExtensions\u001b[39m\n"
     ]
    },
    {
     "name": "stderr",
     "output_type": "stream",
     "text": [
      "\u001b[32m  ✓ \u001b[39m\u001b[90mDataAPI\u001b[39m\n"
     ]
    },
    {
     "name": "stderr",
     "output_type": "stream",
     "text": [
      "\u001b[32m  ✓ \u001b[39m\u001b[90mSortingAlgorithms\u001b[39m\n"
     ]
    },
    {
     "name": "stderr",
     "output_type": "stream",
     "text": [
      "\u001b[32m  ✓ \u001b[39m\u001b[90mTableTraits\u001b[39m\n"
     ]
    },
    {
     "name": "stderr",
     "output_type": "stream",
     "text": [
      "\u001b[32m  ✓ \u001b[39m\u001b[90mSentinelArrays\u001b[39m\n"
     ]
    },
    {
     "name": "stderr",
     "output_type": "stream",
     "text": [
      "\u001b[32m  ✓ \u001b[39m\u001b[90mPooledArrays\u001b[39m\n"
     ]
    },
    {
     "name": "stderr",
     "output_type": "stream",
     "text": [
      "\u001b[32m  ✓ \u001b[39m"
     ]
    },
    {
     "name": "stderr",
     "output_type": "stream",
     "text": [
      "\u001b[90mCrayons\u001b[39m\n"
     ]
    },
    {
     "name": "stderr",
     "output_type": "stream",
     "text": [
      "\u001b[32m  ✓ \u001b[39m\u001b[90mInlineStrings\u001b[39m\n",
      "\u001b[32m  ✓ \u001b[39m\u001b[90mMissings\u001b[39m\n"
     ]
    },
    {
     "name": "stderr",
     "output_type": "stream",
     "text": [
      "\u001b[32m  ✓ \u001b[39m\u001b[90mStringManipulation\u001b[39m\n"
     ]
    },
    {
     "name": "stderr",
     "output_type": "stream",
     "text": [
      "\u001b[32m  ✓ \u001b[39m\u001b[90mTables\u001b[39m\n"
     ]
    },
    {
     "name": "stderr",
     "output_type": "stream",
     "text": [
      "\u001b[32m  ✓ \u001b[39m\u001b[90mPrettyTables\u001b[39m\n"
     ]
    },
    {
     "name": "stderr",
     "output_type": "stream",
     "text": [
      "\u001b[32m  ✓ \u001b[39mDataFrames\n",
      "  17 dependencies successfully precompiled in 153 seconds. 41 already precompiled.\n",
      "\u001b[32m\u001b[1m   Resolving\u001b[22m\u001b[39m package versions..."
     ]
    },
    {
     "name": "stderr",
     "output_type": "stream",
     "text": [
      "\n"
     ]
    },
    {
     "name": "stderr",
     "output_type": "stream",
     "text": [
      "\u001b[32m\u001b[1m   Installed\u001b[22m\u001b[39m WorkerUtilities ─ v1.6.1\n",
      "\u001b[32m\u001b[1m   Installed\u001b[22m\u001b[39m FilePathsBase ─── v0.9.21\n"
     ]
    },
    {
     "name": "stderr",
     "output_type": "stream",
     "text": [
      "\u001b[32m\u001b[1m   Installed\u001b[22m\u001b[39m WeakRefStrings ── v1.4.2\n"
     ]
    },
    {
     "name": "stderr",
     "output_type": "stream",
     "text": [
      "\u001b[32m\u001b[1m   Installed\u001b[22m\u001b[39m CSV ───────────── v0.10.12\n"
     ]
    },
    {
     "name": "stderr",
     "output_type": "stream",
     "text": [
      "\u001b[32m\u001b[1m    Updating\u001b[22m\u001b[39m `C:\\Users\\leonr\\.julia\\environments\\v1.10\\Project.toml`\n",
      "  \u001b[90m[336ed68f] \u001b[39m\u001b[92m+ CSV v0.10.12\u001b[39m\n",
      "\u001b[32m\u001b[1m    Updating\u001b[22m\u001b[39m `C:\\Users\\leonr\\.julia\\environments\\v1.10\\Manifest.toml`\n"
     ]
    },
    {
     "name": "stderr",
     "output_type": "stream",
     "text": [
      "  \u001b[90m[336ed68f] \u001b[39m\u001b[92m+ CSV v0.10.12\u001b[39m\n",
      "  \u001b[90m[48062228] \u001b[39m\u001b[92m+ FilePathsBase v0.9.21\u001b[39m\n",
      "  \u001b[90m[ea10d353] \u001b[39m\u001b[92m+ WeakRefStrings v1.4.2\u001b[39m\n",
      "  \u001b[90m[76eceee3] \u001b[39m\u001b[92m+ WorkerUtilities v1.6.1\u001b[39m"
     ]
    },
    {
     "name": "stderr",
     "output_type": "stream",
     "text": [
      "\n",
      "\u001b[32m\u001b[1mPrecompiling\u001b[22m\u001b[39m"
     ]
    },
    {
     "name": "stderr",
     "output_type": "stream",
     "text": [
      " project..."
     ]
    },
    {
     "name": "stderr",
     "output_type": "stream",
     "text": [
      "\n"
     ]
    },
    {
     "name": "stderr",
     "output_type": "stream",
     "text": [
      "\u001b[32m  ✓ \u001b[39m\u001b[90mWorkerUtilities\u001b[39m\n"
     ]
    },
    {
     "name": "stderr",
     "output_type": "stream",
     "text": [
      "\u001b[32m  ✓ \u001b[39m\u001b[90mWeakRefStrings\u001b[39m\n"
     ]
    },
    {
     "name": "stderr",
     "output_type": "stream",
     "text": [
      "\u001b[32m  ✓ \u001b[39m\u001b[90mFilePathsBase\u001b[39m\n"
     ]
    },
    {
     "name": "stderr",
     "output_type": "stream",
     "text": [
      "\u001b[32m  ✓ \u001b[39mCSV\n",
      "  4 dependencies successfully precompiled in 61 seconds. 58 already precompiled.\n"
     ]
    }
   ],
   "source": [
    "import Pkg\n",
    "Pkg.add(\"JuMP\")\n",
    "Pkg.add(\"GLPK\")\n",
    "Pkg.add(\"DataFrames\")\n",
    "Pkg.add(\"CSV\")"
   ]
  },
  {
   "cell_type": "code",
   "execution_count": 2,
   "metadata": {},
   "outputs": [],
   "source": [
    "using JuMP, GLPK\n",
    "using DataFrames\n",
    "using CSV"
   ]
  },
  {
   "cell_type": "code",
   "execution_count": 3,
   "metadata": {},
   "outputs": [
    {
     "data": {
      "text/html": [
       "<div><div style = \"float: left;\"><span>12×10 DataFrame</span></div><div style = \"clear: both;\"></div></div><div class = \"data-frame\" style = \"overflow-x: scroll;\"><table class = \"data-frame\" style = \"margin-bottom: 6px;\"><thead><tr class = \"header\"><th class = \"rowNumber\" style = \"font-weight: bold; text-align: right;\">Row</th><th style = \"text-align: left;\">Unit #</th><th style = \"text-align: left;\">Node</th><th style = \"text-align: left;\">Pmax (MW)</th><th style = \"text-align: left;\">Pmin (MW)</th><th style = \"text-align: left;\">R+ (MW)</th><th style = \"text-align: left;\">R- (MW)</th><th style = \"text-align: left;\">RU (MW/h)</th><th style = \"text-align: left;\">RD (MW/h)</th><th style = \"text-align: left;\">UT (h)</th><th style = \"text-align: left;\">DT (h)</th></tr><tr class = \"subheader headerLastRow\"><th class = \"rowNumber\" style = \"font-weight: bold; text-align: right;\"></th><th title = \"Int64\" style = \"text-align: left;\">Int64</th><th title = \"Int64\" style = \"text-align: left;\">Int64</th><th title = \"Int64\" style = \"text-align: left;\">Int64</th><th title = \"Float64\" style = \"text-align: left;\">Float64</th><th title = \"Int64\" style = \"text-align: left;\">Int64</th><th title = \"Int64\" style = \"text-align: left;\">Int64</th><th title = \"Int64\" style = \"text-align: left;\">Int64</th><th title = \"Int64\" style = \"text-align: left;\">Int64</th><th title = \"Int64\" style = \"text-align: left;\">Int64</th><th title = \"Int64\" style = \"text-align: left;\">Int64</th></tr></thead><tbody><tr><td class = \"rowNumber\" style = \"font-weight: bold; text-align: right;\">1</td><td style = \"text-align: right;\">1</td><td style = \"text-align: right;\">1</td><td style = \"text-align: right;\">152</td><td style = \"text-align: right;\">30.4</td><td style = \"text-align: right;\">40</td><td style = \"text-align: right;\">40</td><td style = \"text-align: right;\">120</td><td style = \"text-align: right;\">120</td><td style = \"text-align: right;\">8</td><td style = \"text-align: right;\">4</td></tr><tr><td class = \"rowNumber\" style = \"font-weight: bold; text-align: right;\">2</td><td style = \"text-align: right;\">2</td><td style = \"text-align: right;\">2</td><td style = \"text-align: right;\">152</td><td style = \"text-align: right;\">30.4</td><td style = \"text-align: right;\">40</td><td style = \"text-align: right;\">40</td><td style = \"text-align: right;\">120</td><td style = \"text-align: right;\">120</td><td style = \"text-align: right;\">8</td><td style = \"text-align: right;\">4</td></tr><tr><td class = \"rowNumber\" style = \"font-weight: bold; text-align: right;\">3</td><td style = \"text-align: right;\">3</td><td style = \"text-align: right;\">7</td><td style = \"text-align: right;\">350</td><td style = \"text-align: right;\">75.0</td><td style = \"text-align: right;\">70</td><td style = \"text-align: right;\">70</td><td style = \"text-align: right;\">350</td><td style = \"text-align: right;\">350</td><td style = \"text-align: right;\">8</td><td style = \"text-align: right;\">8</td></tr><tr><td class = \"rowNumber\" style = \"font-weight: bold; text-align: right;\">4</td><td style = \"text-align: right;\">4</td><td style = \"text-align: right;\">13</td><td style = \"text-align: right;\">591</td><td style = \"text-align: right;\">206.85</td><td style = \"text-align: right;\">180</td><td style = \"text-align: right;\">180</td><td style = \"text-align: right;\">240</td><td style = \"text-align: right;\">240</td><td style = \"text-align: right;\">12</td><td style = \"text-align: right;\">10</td></tr><tr><td class = \"rowNumber\" style = \"font-weight: bold; text-align: right;\">5</td><td style = \"text-align: right;\">5</td><td style = \"text-align: right;\">15</td><td style = \"text-align: right;\">60</td><td style = \"text-align: right;\">12.0</td><td style = \"text-align: right;\">60</td><td style = \"text-align: right;\">60</td><td style = \"text-align: right;\">60</td><td style = \"text-align: right;\">60</td><td style = \"text-align: right;\">4</td><td style = \"text-align: right;\">2</td></tr><tr><td class = \"rowNumber\" style = \"font-weight: bold; text-align: right;\">6</td><td style = \"text-align: right;\">6</td><td style = \"text-align: right;\">15</td><td style = \"text-align: right;\">155</td><td style = \"text-align: right;\">54.25</td><td style = \"text-align: right;\">30</td><td style = \"text-align: right;\">30</td><td style = \"text-align: right;\">155</td><td style = \"text-align: right;\">155</td><td style = \"text-align: right;\">8</td><td style = \"text-align: right;\">8</td></tr><tr><td class = \"rowNumber\" style = \"font-weight: bold; text-align: right;\">7</td><td style = \"text-align: right;\">7</td><td style = \"text-align: right;\">16</td><td style = \"text-align: right;\">155</td><td style = \"text-align: right;\">54.25</td><td style = \"text-align: right;\">30</td><td style = \"text-align: right;\">30</td><td style = \"text-align: right;\">155</td><td style = \"text-align: right;\">155</td><td style = \"text-align: right;\">8</td><td style = \"text-align: right;\">8</td></tr><tr><td class = \"rowNumber\" style = \"font-weight: bold; text-align: right;\">8</td><td style = \"text-align: right;\">8</td><td style = \"text-align: right;\">18</td><td style = \"text-align: right;\">400</td><td style = \"text-align: right;\">100.0</td><td style = \"text-align: right;\">0</td><td style = \"text-align: right;\">0</td><td style = \"text-align: right;\">280</td><td style = \"text-align: right;\">280</td><td style = \"text-align: right;\">1</td><td style = \"text-align: right;\">1</td></tr><tr><td class = \"rowNumber\" style = \"font-weight: bold; text-align: right;\">9</td><td style = \"text-align: right;\">9</td><td style = \"text-align: right;\">21</td><td style = \"text-align: right;\">400</td><td style = \"text-align: right;\">100.0</td><td style = \"text-align: right;\">0</td><td style = \"text-align: right;\">0</td><td style = \"text-align: right;\">280</td><td style = \"text-align: right;\">280</td><td style = \"text-align: right;\">1</td><td style = \"text-align: right;\">1</td></tr><tr><td class = \"rowNumber\" style = \"font-weight: bold; text-align: right;\">10</td><td style = \"text-align: right;\">10</td><td style = \"text-align: right;\">22</td><td style = \"text-align: right;\">300</td><td style = \"text-align: right;\">300.0</td><td style = \"text-align: right;\">0</td><td style = \"text-align: right;\">0</td><td style = \"text-align: right;\">300</td><td style = \"text-align: right;\">300</td><td style = \"text-align: right;\">0</td><td style = \"text-align: right;\">0</td></tr><tr><td class = \"rowNumber\" style = \"font-weight: bold; text-align: right;\">11</td><td style = \"text-align: right;\">11</td><td style = \"text-align: right;\">23</td><td style = \"text-align: right;\">310</td><td style = \"text-align: right;\">108.5</td><td style = \"text-align: right;\">60</td><td style = \"text-align: right;\">60</td><td style = \"text-align: right;\">180</td><td style = \"text-align: right;\">180</td><td style = \"text-align: right;\">8</td><td style = \"text-align: right;\">8</td></tr><tr><td class = \"rowNumber\" style = \"font-weight: bold; text-align: right;\">12</td><td style = \"text-align: right;\">12</td><td style = \"text-align: right;\">23</td><td style = \"text-align: right;\">350</td><td style = \"text-align: right;\">140.0</td><td style = \"text-align: right;\">40</td><td style = \"text-align: right;\">40</td><td style = \"text-align: right;\">240</td><td style = \"text-align: right;\">240</td><td style = \"text-align: right;\">8</td><td style = \"text-align: right;\">8</td></tr></tbody></table></div>"
      ],
      "text/latex": [
       "\\begin{tabular}{r|cccccccccc}\n",
       "\t& Unit \\# & Node & Pmax (MW) & Pmin (MW) & R+ (MW) & R- (MW) & RU (MW/h) & RD (MW/h) & UT (h) & \\\\\n",
       "\t\\hline\n",
       "\t& Int64 & Int64 & Int64 & Float64 & Int64 & Int64 & Int64 & Int64 & Int64 & \\\\\n",
       "\t\\hline\n",
       "\t1 & 1 & 1 & 152 & 30.4 & 40 & 40 & 120 & 120 & 8 & $\\dots$ \\\\\n",
       "\t2 & 2 & 2 & 152 & 30.4 & 40 & 40 & 120 & 120 & 8 & $\\dots$ \\\\\n",
       "\t3 & 3 & 7 & 350 & 75.0 & 70 & 70 & 350 & 350 & 8 & $\\dots$ \\\\\n",
       "\t4 & 4 & 13 & 591 & 206.85 & 180 & 180 & 240 & 240 & 12 & $\\dots$ \\\\\n",
       "\t5 & 5 & 15 & 60 & 12.0 & 60 & 60 & 60 & 60 & 4 & $\\dots$ \\\\\n",
       "\t6 & 6 & 15 & 155 & 54.25 & 30 & 30 & 155 & 155 & 8 & $\\dots$ \\\\\n",
       "\t7 & 7 & 16 & 155 & 54.25 & 30 & 30 & 155 & 155 & 8 & $\\dots$ \\\\\n",
       "\t8 & 8 & 18 & 400 & 100.0 & 0 & 0 & 280 & 280 & 1 & $\\dots$ \\\\\n",
       "\t9 & 9 & 21 & 400 & 100.0 & 0 & 0 & 280 & 280 & 1 & $\\dots$ \\\\\n",
       "\t10 & 10 & 22 & 300 & 300.0 & 0 & 0 & 300 & 300 & 0 & $\\dots$ \\\\\n",
       "\t11 & 11 & 23 & 310 & 108.5 & 60 & 60 & 180 & 180 & 8 & $\\dots$ \\\\\n",
       "\t12 & 12 & 23 & 350 & 140.0 & 40 & 40 & 240 & 240 & 8 & $\\dots$ \\\\\n",
       "\\end{tabular}\n"
      ],
      "text/plain": [
       "\u001b[1m12×10 DataFrame\u001b[0m\n",
       "\u001b[1m Row \u001b[0m│\u001b[1m Unit # \u001b[0m\u001b[1m Node  \u001b[0m\u001b[1m Pmax (MW) \u001b[0m\u001b[1m Pmin (MW) \u001b[0m\u001b[1m R+ (MW) \u001b[0m\u001b[1m R- (MW) \u001b[0m\u001b[1m RU (MW/h) \u001b[0m\u001b[1m RD (M\u001b[0m ⋯\n",
       "     │\u001b[90m Int64  \u001b[0m\u001b[90m Int64 \u001b[0m\u001b[90m Int64     \u001b[0m\u001b[90m Float64   \u001b[0m\u001b[90m Int64   \u001b[0m\u001b[90m Int64   \u001b[0m\u001b[90m Int64     \u001b[0m\u001b[90m Int64\u001b[0m ⋯\n",
       "─────┼──────────────────────────────────────────────────────────────────────────\n",
       "   1 │      1      1        152      30.4        40       40        120        ⋯\n",
       "   2 │      2      2        152      30.4        40       40        120\n",
       "   3 │      3      7        350      75.0        70       70        350\n",
       "   4 │      4     13        591     206.85      180      180        240\n",
       "   5 │      5     15         60      12.0        60       60         60        ⋯\n",
       "   6 │      6     15        155      54.25       30       30        155\n",
       "   7 │      7     16        155      54.25       30       30        155\n",
       "   8 │      8     18        400     100.0         0        0        280\n",
       "   9 │      9     21        400     100.0         0        0        280        ⋯\n",
       "  10 │     10     22        300     300.0         0        0        300\n",
       "  11 │     11     23        310     108.5        60       60        180\n",
       "  12 │     12     23        350     140.0        40       40        240\n",
       "\u001b[36m                                                               3 columns omitted\u001b[0m"
      ]
     },
     "metadata": {},
     "output_type": "display_data"
    }
   ],
   "source": [
    "#load demand data\n",
    "demand = CSV.File(\"../data/demand.csv\") |> DataFrame\n",
    "\n",
    "#load cost data\n",
    "cost = CSV.File(\"../data/cost_generation.csv\") |> DataFrame\n",
    "\n",
    "#load capacity data\n",
    "capacity = CSV.File(\"../data/technical_data_generation.csv\") |> DataFrame\n"
   ]
  },
  {
   "cell_type": "code",
   "execution_count": 4,
   "metadata": {},
   "outputs": [],
   "source": [
    "# Initialize the DataFrame directly without dynamic column names\n",
    "result_df = DataFrame(hour = Int[], objective_value = Float64[])\n",
    "\n",
    "# For x variables, manually add each column. This is a one-time setup.\n",
    "for i in 1:size(cost, 1)\n",
    "    result_df[!, Symbol(\"x$i\")] = Float64[]\n",
    "end"
   ]
  },
  {
   "cell_type": "code",
   "execution_count": 5,
   "metadata": {},
   "outputs": [
    {
     "name": "stdout",
     "output_type": "stream",
     "text": [
      "Min 13.32 x[1] + 13.32 x[2] + 20.7 x[3] + 20.93 x[4] + 26.11 x[5] + 10.52 x[6] + 10.52 x[7] + 6.02 x[8] + 5.47 x[9] + 10.52 x[11] + 10.89 x[12]\n",
      "Subject to"
     ]
    },
    {
     "name": "stdout",
     "output_type": "stream",
     "text": [
      "\n",
      " x[1] + x[2] + x[3] + x[4] + x[5] + x[6] + x[7] + x[8] + x[9] + x[10] + x[11] + x[12] == 1775.835\n",
      " x[1] >= 30.4\n",
      " x[2] >= 30.4\n",
      " x[3] >= 75\n",
      " x[4] >= 206.85\n",
      " x[5] >= 12\n",
      " x[6] >= 54.25\n",
      " x[7] >= 54.25\n",
      " x[8] >= 100\n",
      " x[9] >= 100\n",
      " x[10] >= 300\n",
      " x[11] >= 108.5\n",
      " x[12] >= 140\n",
      " x[1] <= 152\n",
      " x[2] <= 152\n",
      " x[3] <= 350\n",
      " x[4] <= 591\n",
      " x[5] <= 60\n",
      " x[6] <= 155\n",
      " x[7] <= 155\n",
      " x[8] <= 400\n",
      " x[9] <= 400\n",
      " x[10] <= 300\n",
      " x[11] <= 310\n",
      " x[12] <= 350"
     ]
    },
    {
     "name": "stdout",
     "output_type": "stream",
     "text": [
      "\n",
      "Hour 1: Optimal solution found\n"
     ]
    },
    {
     "name": "stdout",
     "output_type": "stream",
     "text": [
      "Min 13.32 x[1] + 13.32 x[2] + 20.7 x[3] + 20.93 x[4] + 26.11 x[5] + 10.52 x[6] + 10.52 x[7] + 6.02 x[8] + 5.47 x[9] + 10.52 x[11] + 10.89 x[12]\n",
      "Subject to\n",
      " x[1] + x[2] + x[3] + x[4] + x[5] + x[6] + x[7] + x[8] + x[9] + x[10] + x[11] + x[12] == 1669.815\n",
      " x[1] >= 30.4\n",
      " x[2] >= 30.4\n",
      " x[3] >= 75\n",
      " x[4] >= 206.85\n",
      " x[5] >= 12\n",
      " x[6] >= 54.25\n",
      " x[7] >= 54.25\n",
      " x[8] >= 100\n",
      " x[9] >= 100\n",
      " x[10] >= 300\n",
      " x[11] >= 108.5\n",
      " x[12] >= 140\n",
      " x[1] <= 152\n",
      " x[2] <= 152\n",
      " x[3] <= 350\n",
      " x[4] <= 591\n",
      " x[5] <= 60\n",
      " x[6] <= 155\n",
      " x[7] <= 155\n",
      " x[8] <= 400\n",
      " x[9] <= 400\n",
      " x[10] <= 300\n",
      " x[11] <= 310\n",
      " x[12] <= 350\n",
      "Hour 2: Optimal solution found\n",
      "Min 13.32 x[1] + 13.32 x[2] + 20.7 x[3] + 20.93 x[4] + 26.11 x[5] + 10.52 x[6] + 10.52 x[7] + 6.02 x[8] + 5.47 x[9] + 10.52 x[11] + 10.89 x[12]\n",
      "Subject to\n",
      " x[1] + x[2] + x[3] + x[4] + x[5] + x[6] + x[7] + x[8] + x[9] + x[10] + x[11] + x[12] == 1590.3\n",
      " x[1] >= 30.4\n",
      " "
     ]
    },
    {
     "name": "stdout",
     "output_type": "stream",
     "text": [
      "x[2] >= 30.4\n",
      " x[3] >= 75\n",
      " x[4] >= 206.85\n",
      " x[5] >= 12\n",
      " x[6] >= 54.25\n",
      " x[7] >= 54.25\n",
      " x[8] >= 100\n",
      " x[9] >= 100\n",
      " x[10] >= 300\n",
      " x[11] >= 108.5\n",
      " x[12] >= 140\n",
      " x[1] <= 152\n",
      " x[2] <= 152\n",
      " x[3] <= 350\n",
      " x[4] <= 591\n",
      " x[5] <= 60\n",
      " x[6] <= 155\n",
      " x[7] <= 155\n",
      " x[8] <= 400\n",
      " x[9] <= 400\n",
      " x[10] <= 300\n",
      " x[11] <= 310\n",
      " x[12] <= 350\n",
      "Hour 3: Optimal solution found\n",
      "Min 13.32 x[1] + 13.32 x[2] + 20.7 x[3] + 20.93 x[4] + 26.11 x[5] + 10.52 x[6] + 10.52 x[7] + 6.02 x[8] + 5.47 x[9] + 10.52 x[11] + 10.89 x[12]\n",
      "Subject to\n",
      " x[1] + x[2] + x[3] + x[4] + x[5] + x[6] + x[7] + x[8] + x[9] + x[10] + x[11] + x[12] == 1563.795\n"
     ]
    },
    {
     "name": "stdout",
     "output_type": "stream",
     "text": [
      " x[1] >= 30.4\n",
      " x[2] >= 30.4\n",
      " x[3] >= 75\n",
      " x[4] >= 206.85\n",
      " x[5] >= 12\n",
      " x[6] >= 54.25\n",
      " x[7] >= 54.25\n",
      " x[8] >= 100\n",
      " x[9] >= 100\n",
      " x[10] >= 300\n",
      " x[11] >= 108.5\n",
      " x[12] >= 140\n",
      " x[1] <= 152\n",
      " x[2] <= 152\n",
      " x[3] <= 350\n",
      " x[4] <= 591\n",
      " x[5] <= 60\n",
      " x[6] <= 155\n",
      " x[7] <= 155\n",
      " x[8] <= 400\n",
      " x[9] <= 400\n",
      " x[10] <= 300\n",
      " x[11] <= 310\n",
      " x[12] <= 350\n",
      "Hour 4: Optimal solution found\n",
      "Min 13.32 x[1] + 13.32 x[2] + 20.7 x[3] + 20.93 x[4] + 26.11 x[5] + 10.52 x[6] + 10.52 x[7] + 6.02 x[8] + 5.47 x[9] + 10.52 x[11] + 10.89 x[12]\n",
      "Subject to\n",
      " x[1] + x[2] + x[3] + x[4] + x[5] + x[6] + x[7] + x[8] + x[9] + x[10] + x[11] + x[12] == 1563.795\n",
      " x[1] >= 30.4\n",
      " x[2] >= 30.4\n",
      " x[3] >= 75\n",
      " x[4] >= 206.85\n",
      " x[5] >= 12\n",
      " x[6] >= 54.25"
     ]
    },
    {
     "name": "stdout",
     "output_type": "stream",
     "text": [
      "\n",
      " x[7] >= 54.25\n",
      " x[8] >= 100\n",
      " x[9] >= 100\n",
      " x[10] >= 300\n",
      " x[11] >= 108.5\n",
      " x[12] >= 140\n",
      " x[1] <= 152\n",
      " x[2] <= 152\n",
      " x[3] <= 350\n",
      " x[4] <= 591\n",
      " x[5] <= 60\n",
      " x[6] <= 155\n",
      " x[7] <= 155\n",
      " x[8] <= 400\n",
      " x[9] <= 400\n",
      " x[10] <= 300\n",
      " x[11] <= 310\n",
      " x[12] <= 350\n",
      "Hour 5: Optimal solution found\n",
      "Min 13.32 x[1] + 13.32 x[2] + 20.7 x[3] + 20.93 x[4] + 26.11 x[5] + 10.52 x[6] + 10.52 x[7] + 6.02 x[8] + 5.47 x[9] + 10.52 x[11] + 10.89 x[12]\n",
      "Subject to\n",
      " x[1] + x[2] + x[3] + x[4] + x[5] + x[6] + x[7] + x[8] + x[9] + x[10] + x[11] + x[12] == 1590.3\n",
      " x[1] >= 30.4\n",
      " x[2] >= 30.4\n",
      " x[3] >= 75\n",
      " x[4] >= 206.85\n",
      " x[5] >= 12\n",
      " x[6] >= 54.25\n",
      " x[7] >= 54.25\n",
      " x[8] >= 100\n",
      " x[9] >= 100\n",
      " x[10] >= 300\n",
      " x[11] >= 108.5\n",
      " x[12] >= 140\n",
      " x[1] <= 152\n",
      " x[2] <= 152\n",
      " x[3] <= 350"
     ]
    },
    {
     "name": "stdout",
     "output_type": "stream",
     "text": [
      "\n",
      " x[4] <= 591\n",
      " x[5] <= 60\n",
      " x[6] <= 155\n",
      " x[7] <= 155\n",
      " x[8] <= 400\n",
      " x[9] <= 400\n",
      " x[10] <= 300\n",
      " x[11] <= 310\n",
      " x[12] <= 350\n",
      "Hour 6: Optimal solution found\n",
      "Min 13.32 x[1] + 13.32 x[2] + 20.7 x[3] + 20.93 x[4] + 26.11 x[5] + 10.52 x[6] + 10.52 x[7] + 6.02 x[8] + 5.47 x[9] + 10.52 x[11] + 10.89 x[12]\n",
      "Subject to\n",
      " x[1] + x[2] + x[3] + x[4] + x[5] + x[6] + x[7] + x[8] + x[9] + x[10] + x[11] + x[12] == 1961.37\n",
      " x[1] >= 30.4\n",
      " x[2] >= 30.4\n",
      " x[3] >= 75\n",
      " x[4] >= 206.85\n",
      " x[5] >= 12\n",
      " x[6] >= 54.25\n",
      " x[7] >= 54.25\n",
      " x[8] >= 100\n",
      " x[9] >= 100\n",
      " x[10] >= 300\n"
     ]
    },
    {
     "name": "stdout",
     "output_type": "stream",
     "text": [
      " x[11] >= 108.5\n",
      " x[12] >= 140\n",
      " x[1] <= 152\n",
      " x[2] <= 152\n",
      " x[3] <= 350\n",
      " x[4] <= 591\n",
      " x[5] <= 60\n",
      " x[6] <= 155\n",
      " x[7] <= 155\n",
      " x[8] <= 400\n",
      " x[9] <= 400\n",
      " x[10] <= 300\n",
      " x[11] <= 310\n",
      " x[12] <= 350\n",
      "Hour 7: Optimal solution found\n",
      "Min 13.32 x[1] + 13.32 x[2] + 20.7 x[3] + 20.93 x[4] + 26.11 x[5] + 10.52 x[6] + 10.52 x[7] + 6.02 x[8] + 5.47 x[9] + 10.52 x[11] + 10.89 x[12]\n",
      "Subject to\n",
      " x[1] + x[2] + x[3] + x[4] + x[5] + x[6] + x[7] + x[8] + x[9] + x[10] + x[11] + x[12] == 2279.43\n",
      " x[1] >= 30.4\n",
      " x[2] >= 30.4\n",
      " x[3] >= 75\n",
      " x[4] >= 206.85\n",
      " x[5] >= 12\n",
      " x[6] >= 54.25\n",
      " x[7] >= 54.25\n",
      " x[8] >= 100\n",
      " x[9] >= 100\n",
      " x[10] >= 300\n",
      " x[11] >= 108.5\n",
      " x[12] >= 140\n",
      " x[1] <= 152\n",
      " x[2] <= 152\n",
      " x[3] <= 350\n",
      " x[4] <= 591\n",
      " x[5] <= 60\n",
      " x[6] <= 155\n",
      " x[7] <= 155\n",
      " x[8] <= 400\n",
      " x[9] <= 400\n",
      " x[10] <= 300\n",
      " x[11] <= 310\n",
      " x[12] <= 350\n",
      "Hour 8: Optimal solution found\n",
      "Min 13.32 x[1] + 13.32 x[2] + 20.7 x[3] + 20.93 x[4] + 26.11 x[5] + 10.52 x[6] + 10.52 x[7] + 6.02 x[8] + 5.47 x[9] + 10.52 x[11] + 10.89 x[12]\n",
      "Subject to\n",
      " x[1] + x[2] + x[3] + x[4] + x[5] + x[6] + x[7] + x[8] + x[9] + x[10] + x[11] + x[12] == 2517.975\n",
      " x[1] >= 30.4\n",
      " x[2] >= 30.4\n",
      " x[3] >= 75\n",
      " "
     ]
    },
    {
     "name": "stdout",
     "output_type": "stream",
     "text": [
      "x[4] >= 206.85\n",
      " x[5] >= 12\n",
      " x[6] >= 54.25\n",
      " x[7] >= 54.25\n",
      " x[8] >= 100\n",
      " x[9] >= 100\n",
      " x[10] >= 300\n",
      " x[11] >= 108.5\n",
      " x[12] >= 140\n",
      " x[1] <= 152\n",
      " x[2] <= 152\n",
      " x[3] <= 350\n",
      " x[4] <= 591\n",
      " x[5] <= 60\n",
      " x[6] <= 155\n",
      " x[7] <= 155\n",
      " x[8] <= 400\n",
      " x[9] <= 400\n",
      " x[10] <= 300\n",
      " x[11] <= 310\n",
      " x[12] <= 350\n",
      "Hour 9: Optimal solution found\n",
      "Min 13.32 x[1] + 13.32 x[2] + 20.7 x[3] + 20.93 x[4] + 26.11 x[5] + 10.52 x[6] + 10.52 x[7] + 6.02 x[8] + 5.47 x[9] + 10.52 x[11] + 10.89 x[12]\n",
      "Subject to\n",
      " x[1] + x[2] + x[3] + x[4] + x[5] + x[6] + x[7] + x[8] + x[9] + x[10] + x[11] + x[12] == 2544.48\n",
      " x[1] >= 30.4\n"
     ]
    },
    {
     "name": "stdout",
     "output_type": "stream",
     "text": [
      " x[2] >= 30.4\n",
      " x[3] >= 75\n",
      " x[4] >= 206.85\n",
      " x[5] >= 12\n",
      " x[6] >= 54.25\n",
      " x[7] >= 54.25\n",
      " x[8] >= 100\n",
      " x[9] >= 100\n",
      " x[10] >= 300\n",
      " x[11] >= 108.5\n",
      " x[12] >= 140\n",
      " x[1] <= 152\n",
      " x[2] <= 152\n",
      " x[3] <= 350\n",
      " x[4] <= 591\n",
      " x[5] <= 60\n",
      " x[6] <= 155\n",
      " x[7] <= 155\n",
      " x[8] <= 400\n",
      " x[9] <= 400\n",
      " x[10] <= 300\n",
      " x[11] <= 310\n",
      " x[12] <= 350\n",
      "Hour 10: Optimal solution found\n",
      "Min 13.32 x[1] + 13.32 x[2] + 20.7 x[3] + 20.93 x[4] + 26.11 x[5] + 10.52 x[6] + 10.52 x[7] + 6.02 x[8] + 5.47 x[9] + 10.52 x[11] + 10.89 x[12]\n",
      "Subject to\n",
      " x[1] + x[2] + x[3] + x[4] + x[5] + x[6] + x[7] + x[8] + x[9] + x[10] + x[11] + x[12] == 2544.48\n",
      " x[1] >= 30.4\n",
      " x[2] >= 30.4\n",
      " x[3] >= 75\n"
     ]
    },
    {
     "name": "stdout",
     "output_type": "stream",
     "text": [
      " x[4] >= 206.85\n",
      " x[5] >= 12\n",
      " x[6] >= 54.25\n",
      " x[7] >= 54.25\n",
      " x[8] >= 100\n",
      " x[9] >= 100\n",
      " x[10] >= 300\n",
      " x[11] >= 108.5\n",
      " x[12] >= 140\n",
      " x[1] <= 152\n",
      " x[2] <= 152\n",
      " x[3] <= 350\n",
      " x[4] <= 591\n",
      " x[5] <= 60\n",
      " x[6] <= 155\n",
      " x[7] <= 155\n",
      " x[8] <= 400\n",
      " x[9] <= 400\n",
      " x[10] <= 300\n",
      " x[11] <= 310\n",
      " x[12] <= 350\n",
      "Hour 11: Optimal solution found\n",
      "Min 13.32 x[1] + 13.32 x[2] + 20.7 x[3] + 20.93 x[4] + 26.11 x[5] + 10.52 x[6] + 10.52 x[7] + 6.02 x[8] + 5.47 x[9] + 10.52 x[11] + 10.89 x[12]\n",
      "Subject to\n",
      " x[1] + x[2] + x[3] + x[4] + x[5] + x[6] + x[7] + x[8] + x[9] + x[10] + x[11] + x[12] == 2517.975\n",
      " x[1] >= 30.4\n",
      " x[2] >= 30.4\n",
      " x[3] >= 75\n",
      " x[4] >= 206.85\n",
      " x[5] >= 12\n",
      " x[6] >= 54.25\n",
      " x[7] >= 54.25\n"
     ]
    },
    {
     "name": "stdout",
     "output_type": "stream",
     "text": [
      " x[8] >= 100\n",
      " x[9] >= 100\n",
      " x[10] >= 300\n",
      " x[11] >= 108.5\n",
      " x[12] >= 140\n",
      " x[1] <= 152\n",
      " x[2] <= 152\n",
      " x[3] <= 350\n",
      " x[4] <= 591\n",
      " x[5] <= 60\n",
      " x[6] <= 155\n",
      " x[7] <= 155\n",
      " x[8] <= 400\n",
      " x[9] <= 400\n",
      " x[10] <= 300\n",
      " x[11] <= 310\n",
      " x[12] <= 350\n",
      "Hour 12: Optimal solution found\n",
      "Min 13.32 x[1] + 13.32 x[2] + 20.7 x[3] + 20.93 x[4] + 26.11 x[5] + 10.52 x[6] + 10.52 x[7] + 6.02 x[8] + 5.47 x[9] + 10.52 x[11] + 10.89 x[12]\n",
      "Subject to\n",
      " x[1] + x[2] + x[3] + x[4] + x[5] + x[6] + x[7] + x[8] + x[9] + x[10] + x[11] + x[12] == 2517.975\n",
      " x[1] >= 30.4\n",
      " x[2] >= 30.4\n",
      " x[3] >= 75\n",
      " x[4] >= 206.85\n",
      " x[5] >= 12\n",
      " x[6] >= 54.25\n",
      " x[7] >= 54.25\n",
      " x[8] >= 100\n",
      " x[9] >= 100\n",
      " x[10] >= 300\n",
      " x[11] >= 108.5\n",
      " x[12] >= 140\n",
      " x[1] <= 152\n",
      " x[2] <= 152\n",
      " x[3] <= 350\n",
      " x[4] <= 591\n",
      " x[5] <= 60\n",
      " x[6] <= 155\n",
      " x[7] <= 155\n",
      " x[8] <= 400\n",
      " x[9] <= 400\n",
      " x[10] <= 300\n",
      " x[11] <= 310\n",
      " x[12] <= 350\n",
      "Hour 13: Optimal solution found\n"
     ]
    },
    {
     "name": "stdout",
     "output_type": "stream",
     "text": [
      "Min 13.32 x[1] + 13.32 x[2] + 20.7 x[3] + 20.93 x[4] + 26.11 x[5] + 10.52 x[6] + 10.52 x[7] + 6.02 x[8] + 5.47 x[9] + 10.52 x[11] + 10.89 x[12]\n",
      "Subject to\n",
      " x[1] + x[2] + x[3] + x[4] + x[5] + x[6] + x[7] + x[8] + x[9] + x[10] + x[11] + x[12] == 2517.975\n",
      " x[1] >= 30.4\n",
      " x[2] >= 30.4\n",
      " x[3] >= 75\n",
      " x[4] >= 206.85\n",
      " x[5] >= 12\n",
      " x[6] >= 54.25\n",
      " x[7] >= 54.25\n",
      " x[8] >= 100\n",
      " x[9] >= 100\n",
      " x[10] >= 300\n",
      " x[11] >= 108.5\n",
      " x[12] >= 140\n",
      " x[1] <= 152\n",
      " x[2] <= 152\n",
      " x[3] <= 350\n",
      " x[4] <= 591\n",
      " x[5] <= 60\n",
      " x[6] <= 155\n",
      " x[7] <= 155"
     ]
    },
    {
     "name": "stdout",
     "output_type": "stream",
     "text": [
      "\n",
      " x[8] <= 400\n",
      " x[9] <= 400\n",
      " x[10] <= 300\n",
      " x[11] <= 310\n",
      " x[12] <= 350\n",
      "Hour 14: Optimal solution found\n",
      "Min 13.32 x[1] + 13.32 x[2] + 20.7 x[3] + 20.93 x[4] + 26.11 x[5] + 10.52 x[6] + 10.52 x[7] + 6.02 x[8] + 5.47 x[9] + 10.52 x[11] + 10.89 x[12]\n",
      "Subject to\n",
      " x[1] + x[2] + x[3] + x[4] + x[5] + x[6] + x[7] + x[8] + x[9] + x[10] + x[11] + x[12] == 2464.965\n",
      " x[1] >= 30.4\n",
      " x[2] >= 30.4"
     ]
    },
    {
     "name": "stdout",
     "output_type": "stream",
     "text": [
      "\n",
      " x[3] >= 75\n",
      " x[4] >= 206.85\n",
      " x[5] >= 12\n",
      " x[6] >= 54.25\n",
      " x[7] >= 54.25\n",
      " x[8] >= 100\n",
      " x[9] >= 100\n",
      " x[10] >= 300\n",
      " x[11] >= 108.5\n",
      " x[12] >= 140\n",
      " x[1] <= 152\n",
      " x[2] <= 152\n",
      " x[3] <= 350\n",
      " x[4] <= 591\n",
      " x[5] <= 60\n",
      " x[6] <= 155\n",
      " x[7] <= 155\n",
      " x[8] <= 400\n",
      " x[9] <= 400\n",
      " x[10] <= 300\n",
      " x[11] <= 310\n",
      " x[12] <= 350\n",
      "Hour 15: Optimal solution found\n",
      "Min 13.32 x[1] + 13.32 x[2] + 20.7 x[3] + 20.93 x[4] + 26.11 x[5] + 10.52 x[6] + 10.52 x[7] + 6.02 x[8] + 5.47 x[9] + 10.52 x[11] + 10.89 x[12]\n",
      "Subject to\n",
      " x[1] + x[2] + x[3] + x[4] + x[5] + x[6] + x[7] + x[8] + x[9] + x[10] + x[11] + x[12] == 2464.965\n",
      " x[1] >= 30.4\n",
      " x[2] >= 30.4\n",
      " x[3] >= 75\n",
      " x[4] >= 206.85\n",
      " x[5] >= 12\n",
      " x[6] >= 54.25\n",
      " x[7] >= 54.25\n",
      " x[8] >= 100\n",
      " x[9] >= 100\n",
      " x[10] >= 300\n",
      " "
     ]
    },
    {
     "name": "stdout",
     "output_type": "stream",
     "text": [
      "x[11] >= 108.5\n",
      " x[12] >= 140\n",
      " x[1] <= 152\n",
      " x[2] <= 152\n",
      " x[3] <= 350\n",
      " x[4] <= 591\n",
      " x[5] <= 60\n",
      " x[6] <= 155\n",
      " x[7] <= 155\n",
      " x[8] <= 400\n",
      " x[9] <= 400\n",
      " x[10] <= 300\n",
      " x[11] <= 310\n",
      " x[12] <= 350\n",
      "Hour 16: Optimal solution found\n",
      "Min 13.32 x[1] + 13.32 x[2] + 20.7 x[3] + 20.93 x[4] + 26.11 x[5] + 10.52 x[6] + 10.52 x[7] + 6.02 x[8] + 5.47 x[9] + 10.52 x[11] + 10.89 x[12]\n",
      "Subject to\n",
      " x[1] + x[2] + x[3] + x[4] + x[5] + x[6] + x[7] + x[8] + x[9] + x[10] + x[11] + x[12] == 2623.995\n",
      " x[1] >= 30.4\n",
      " x[2] >= 30.4\n",
      " x[3] >= 75\n",
      " x[4] >= 206.85\n",
      " x[5] >= 12\n",
      " x[6] >= 54.25\n",
      " x[7] >= 54.25\n",
      " x[8] >= 100\n",
      " x[9] >= 100\n",
      " x[10] >= 300\n",
      " x[11] >= 108.5\n",
      " x[12] >= 140\n",
      " x[1] <= 152\n",
      " x[2] <= 152\n",
      " x[3] <= 350\n",
      " x[4] <= 591\n",
      " x[5] <= 60\n",
      " x[6] <= 155\n",
      " x[7] <= 155\n",
      " x[8] <= 400\n",
      " x[9] <= 400\n",
      " x[10] <= 300\n",
      " x[11] <= 310\n",
      " x[12] <= 350\n",
      "Hour 17: Optimal solution found\n",
      "Min 13.32 x[1] + 13.32 x[2] + 20.7 x[3] + 20.93 x[4] + 26.11 x[5] + 10.52 x[6] + 10.52 x[7] + 6.02 x[8] + 5.47 x[9] + 10.52 x[11] + 10.89 x[12]\n",
      "Subject to"
     ]
    },
    {
     "name": "stdout",
     "output_type": "stream",
     "text": [
      "\n",
      " x[1] + x[2] + x[3] + x[4] + x[5] + x[6] + x[7] + x[8] + x[9] + x[10] + x[11] + x[12] == 2650.5\n",
      " x[1] >= 30.4\n",
      " x[2] >= 30.4\n",
      " x[3] >= 75\n",
      " x[4] >= 206.85\n",
      " x[5] >= 12\n",
      " x[6] >= 54.25\n",
      " x[7] >= 54.25\n",
      " x[8] >= 100\n",
      " x[9] >= 100\n",
      " x[10] >= 300\n",
      " x[11] >= 108.5\n",
      " x[12] >= 140\n",
      " x[1] <= 152\n",
      " x[2] <= 152\n",
      " x[3] <= 350\n",
      " x[4] <= 591\n",
      " x[5] <= 60\n",
      " x[6] <= 155\n",
      " x[7] <= 155\n",
      " x[8] <= 400\n",
      " x[9] <= 400\n",
      " x[10] <= 300\n",
      " x[11] <= 310\n",
      " x[12] <= 350\n",
      "Hour 18: Optimal solution found\n",
      "Min 13.32 x[1] + 13.32 x[2] + 20.7 x[3] + 20.93 x[4] + 26.11 x[5] + 10.52 x[6] + 10.52 x[7] + 6.02 x[8] + 5.47 x[9] + 10.52 x[11] + 10.89 x[12]\n",
      "Subject to\n",
      " x[1] + x[2] + x[3] + x[4] + x[5] + x[6] + x[7] + x[8] + x[9] + x[10] + x[11] + x[12] == 2650.5\n",
      " x[1] >= 30.4\n",
      " x[2] >= 30.4\n",
      " x[3] >= 75\n",
      " x[4] >= 206.85\n",
      " x[5] >= 12\n",
      " x[6] >= 54.25\n",
      " x[7] >= 54.25\n",
      " x[8] >= 100\n",
      " x[9] >= 100\n",
      " x[10] >= 300\n",
      " x[11] >= 108.5\n",
      " x[12] >= 140\n",
      " x[1] <= 152\n",
      " x[2] <= 152\n",
      " x[3] <= 350\n",
      " x[4] <= 591\n",
      " x[5] <= 60\n",
      " x[6] <= 155\n",
      " x[7] <= 155\n",
      " x[8] <= 400\n",
      " x[9] <= 400\n",
      " x[10] <= 300\n",
      " x[11] <= 310\n",
      " "
     ]
    },
    {
     "name": "stdout",
     "output_type": "stream",
     "text": [
      "x[12] <= 350\n",
      "Hour 19: Optimal solution found\n",
      "Min 13.32 x[1] + 13.32 x[2] + 20.7 x[3] + 20.93 x[4] + 26.11 x[5] + 10.52 x[6] + 10.52 x[7] + 6.02 x[8] + 5.47 x[9] + 10.52 x[11] + 10.89 x[12]\n",
      "Subject to\n",
      " x[1] + x[2] + x[3] + x[4] + x[5] + x[6] + x[7] + x[8] + x[9] + x[10] + x[11] + x[12] == 2544.48\n",
      " x[1] >= 30.4\n",
      " x[2] >= 30.4\n",
      " x[3] >= 75\n",
      " x[4] >= 206.85\n",
      " x[5] >= 12\n",
      " x[6] >= 54.25\n",
      " x[7] >= 54.25\n",
      " x[8] >= 100\n",
      " x[9] >= 100\n",
      " x[10] >= 300\n",
      " x[11] >= 108.5\n",
      " x[12] >= 140\n",
      " x[1] <= 152\n",
      " x[2] <= 152\n",
      " x[3] <= 350\n",
      " x[4] <= 591\n",
      " x[5] <= 60\n",
      " x[6] <= 155\n",
      " x[7] <= 155\n",
      " x[8] <= 400\n",
      " x[9] <= 400\n",
      " x[10] <= 300\n",
      " x[11] <= 310\n",
      " x[12] <= 350\n",
      "Hour 20: Optimal solution found\n",
      "Min 13.32 x[1] + 13.32 x[2] + 20.7 x[3] + 20.93 x[4] + 26.11 x[5] + 10.52 x[6] + 10.52 x[7] + 6.02 x[8] + 5.47 x[9] + 10.52 x[11] + 10.89 x[12]\n",
      "Subject to\n",
      " x[1] + x[2] + x[3] + x[4] + x[5] + x[6] + x[7] + x[8] + x[9] + x[10] + x[11] + x[12] == 2411.955\n",
      " x[1] >= 30.4\n",
      " x[2] >= 30.4\n",
      " x[3] >= 75\n",
      " x[4] >= 206.85\n",
      " x[5] >= 12\n",
      " x[6] >= 54.25\n",
      " x[7] >= 54.25\n",
      " x[8] >= 100\n",
      " x[9] >= 100"
     ]
    },
    {
     "name": "stdout",
     "output_type": "stream",
     "text": [
      "\n",
      " x[10] >= 300\n",
      " x[11] >= 108.5\n",
      " x[12] >= 140\n",
      " x[1] <= 152\n",
      " x[2] <= 152\n",
      " x[3] <= 350\n",
      " x[4] <= 591\n",
      " x[5] <= 60\n",
      " x[6] <= 155\n",
      " x[7] <= 155\n",
      " x[8] <= 400\n",
      " x[9] <= 400\n",
      " x[10] <= 300\n",
      " x[11] <= 310\n",
      " x[12] <= 350\n",
      "Hour 21: Optimal solution found\n",
      "Min 13.32 x[1] + 13.32 x[2] + 20.7 x[3] + 20.93 x[4] + 26.11 x[5] + 10.52 x[6] + 10.52 x[7] + 6.02 x[8] + 5.47 x[9] + 10.52 x[11] + 10.89 x[12]\n",
      "Subject to\n",
      " x[1] + x[2] + x[3] + x[4] + x[5] + x[6] + x[7] + x[8] + x[9] + x[10] + x[11] + x[12] == 2199.915\n",
      " x[1] >= 30.4\n",
      " x[2] >= 30.4\n",
      " x[3] >= 75\n",
      " x[4] >= 206.85\n",
      " x[5] >= 12\n",
      " x[6] >= 54.25\n",
      " x[7] >= 54.25\n",
      " x[8] >= 100\n",
      " x[9] >= 100\n",
      " x[10] >= 300\n",
      " x[11] >= 108.5\n",
      " x[12] >= 140\n",
      " x[1] <= 152\n",
      " x[2] <= 152\n",
      " x[3] <= 350\n",
      " x[4] <= 591\n",
      " x[5] <= 60\n",
      " x[6] <= 155\n",
      " x[7] <= 155\n",
      " x[8] <= 400\n",
      " x[9] <= 400\n",
      " x[10] <= 300\n",
      " x[11] <= 310\n",
      " x[12] <= 350\n",
      "Hour 22"
     ]
    },
    {
     "name": "stdout",
     "output_type": "stream",
     "text": [
      ": Optimal solution found\n",
      "Min 13.32 x[1] + 13.32 x[2] + 20.7 x[3] + 20.93 x[4] + 26.11 x[5] + 10.52 x[6] + 10.52 x[7] + 6.02 x[8] + 5.47 x[9] + 10.52 x[11] + 10.89 x[12]\n",
      "Subject to\n",
      " x[1] + x[2] + x[3] + x[4] + x[5] + x[6] + x[7] + x[8] + x[9] + x[10] + x[11] + x[12] == 1934.865\n",
      " x[1] >= 30.4\n",
      " x[2] >= 30.4\n",
      " x[3] >= 75\n",
      " x[4] >= 206.85\n",
      " x[5] >= 12\n",
      " x[6] >= 54.25\n",
      " x[7] >= 54.25\n",
      " x[8] >= 100\n",
      " x[9] >= 100\n",
      " x[10] >= 300\n",
      " x[11] >= 108.5\n",
      " x[12] >= 140\n",
      " "
     ]
    },
    {
     "name": "stdout",
     "output_type": "stream",
     "text": [
      "x[1] <= 152\n",
      " x[2] <= 152\n",
      " x[3] <= 350\n",
      " x[4] <= 591\n",
      " x[5] <= 60\n",
      " x[6] <= 155\n",
      " x[7] <= 155\n",
      " x[8] <= 400\n",
      " x[9] <= 400\n",
      " x[10] <= 300\n",
      " x[11] <= 310\n",
      " x[12] <= 350\n",
      "Hour 23: Optimal solution found\n",
      "Min 13.32 x[1] + 13.32 x[2] + 20.7 x[3] + 20.93 x[4] + 26.11 x[5] + 10.52 x[6] + 10.52 x[7] + 6.02 x[8] + 5.47 x[9] + 10.52 x[11] + 10.89 x[12]\n",
      "Subject to\n",
      " x[1] + x[2] + x[3] + x[4] + x[5] + x[6] + x[7] + x[8] + x[9] + x[10] + x[11] + x[12] == 1669.815\n",
      " x[1] >= 30.4\n",
      " x[2] >= 30.4\n",
      " x[3] >= 75\n",
      " x[4] >= 206.85\n",
      " x[5] >= 12\n",
      " x[6] >= 54.25\n",
      " x[7] >= 54.25\n",
      " x[8] >= 100\n",
      " x[9] >= 100\n",
      " x[10] >= 300\n",
      " x[11] >= 108.5\n",
      " x[12] >= 140\n",
      " x[1] <= 152\n",
      " x[2] <= 152\n",
      " x[3] <= 350\n",
      " x[4] <= 591\n",
      " x[5] <= 60\n",
      " x[6] <= 155\n",
      " x[7] <= 155\n",
      " x[8] <= 400\n",
      " x[9] <= 400\n",
      " x[10] <= 300\n",
      " x[11] <= 310\n",
      " x[12] <= 350\n",
      "Hour 24: Optimal solution found\n"
     ]
    }
   ],
   "source": [
    "\n",
    "for hour in 1:24\n",
    "    # Create a new model with GLPK solver\n",
    "    model = Model(GLPK.Optimizer)\n",
    "\n",
    "    # Define the decision variables for every generator\n",
    "    unregister(model, :x)  # Unregister the existing variable named \"x\" from the model\n",
    "    @variable(model, x[1:size(cost, 1)])  # Create the new variable\n",
    "    for generator in 1:size(cost, 1)\n",
    "        set_lower_bound(x[generator], capacity[generator,4])  # Set the lower bound\n",
    "        set_upper_bound(x[generator], capacity[generator,3])  # Set the upper bound\n",
    "    end\n",
    "\n",
    "\n",
    "    # Define the objective function\n",
    "    @objective(model, Min, sum(cost[generator,2] * x[generator] for generator in 1:size(cost,1)))\n",
    "\n",
    "    # Add the equilibrium constraint\n",
    "    @constraint(model, sum(x[generator] for generator in 1:size(cost,1)) == demand[hour,2])\n",
    "\n",
    "    # Print the model\n",
    "    print(model)\n",
    "\n",
    "    # Solve the model\n",
    "    optimize!(model)\n",
    "\n",
    "    # Check the status of the solution\n",
    "    status = termination_status(model)\n",
    "    if status == MOI.OPTIMAL\n",
    "        println(\"Hour \", hour, \": Optimal solution found\")\n",
    "\n",
    "        # Assuming 'model' and 'x' are properly defined and 'hour' is known\n",
    "        new_row = [hour, objective_value(model)]\n",
    "        append!(new_row, [value(x[i]) for i in 1:size(cost, 1)]) # Simplifies adding x values\n",
    "\n",
    "        push!(result_df, new_row)\n",
    "\n",
    "    elseif status == MOI.INFEASIBLE\n",
    "        println(\"Hour \", hour, \": No feasible solution found\")\n",
    "    else\n",
    "        println(\"Hour \", hour, \": Solver status: \", status)\n",
    "    end\n",
    "end"
   ]
  },
  {
   "cell_type": "code",
   "execution_count": 6,
   "metadata": {},
   "outputs": [
    {
     "data": {
      "text/html": [
       "<div><div style = \"float: left;\"><span>24×14 DataFrame</span></div><div style = \"clear: both;\"></div></div><div class = \"data-frame\" style = \"overflow-x: scroll;\"><table class = \"data-frame\" style = \"margin-bottom: 6px;\"><thead><tr class = \"header\"><th class = \"rowNumber\" style = \"font-weight: bold; text-align: right;\">Row</th><th style = \"text-align: left;\">hour</th><th style = \"text-align: left;\">objective_value</th><th style = \"text-align: left;\">x1</th><th style = \"text-align: left;\">x2</th><th style = \"text-align: left;\">x3</th><th style = \"text-align: left;\">x4</th><th style = \"text-align: left;\">x5</th><th style = \"text-align: left;\">x6</th><th style = \"text-align: left;\">x7</th><th style = \"text-align: left;\">x8</th><th style = \"text-align: left;\">x9</th><th style = \"text-align: left;\">x10</th><th style = \"text-align: left;\">x11</th><th style = \"text-align: left;\">x12</th></tr><tr class = \"subheader headerLastRow\"><th class = \"rowNumber\" style = \"font-weight: bold; text-align: right;\"></th><th title = \"Int64\" style = \"text-align: left;\">Int64</th><th title = \"Float64\" style = \"text-align: left;\">Float64</th><th title = \"Float64\" style = \"text-align: left;\">Float64</th><th title = \"Float64\" style = \"text-align: left;\">Float64</th><th title = \"Float64\" style = \"text-align: left;\">Float64</th><th title = \"Float64\" style = \"text-align: left;\">Float64</th><th title = \"Float64\" style = \"text-align: left;\">Float64</th><th title = \"Float64\" style = \"text-align: left;\">Float64</th><th title = \"Float64\" style = \"text-align: left;\">Float64</th><th title = \"Float64\" style = \"text-align: left;\">Float64</th><th title = \"Float64\" style = \"text-align: left;\">Float64</th><th title = \"Float64\" style = \"text-align: left;\">Float64</th><th title = \"Float64\" style = \"text-align: left;\">Float64</th><th title = \"Float64\" style = \"text-align: left;\">Float64</th></tr></thead><tbody><tr><td class = \"rowNumber\" style = \"font-weight: bold; text-align: right;\">1</td><td style = \"text-align: right;\">1</td><td style = \"text-align: right;\">15192.9</td><td style = \"text-align: right;\">30.4</td><td style = \"text-align: right;\">30.4</td><td style = \"text-align: right;\">75.0</td><td style = \"text-align: right;\">206.85</td><td style = \"text-align: right;\">12.0</td><td style = \"text-align: right;\">54.25</td><td style = \"text-align: right;\">54.25</td><td style = \"text-align: right;\">364.185</td><td style = \"text-align: right;\">400.0</td><td style = \"text-align: right;\">300.0</td><td style = \"text-align: right;\">108.5</td><td style = \"text-align: right;\">140.0</td></tr><tr><td class = \"rowNumber\" style = \"font-weight: bold; text-align: right;\">2</td><td style = \"text-align: right;\">2</td><td style = \"text-align: right;\">14554.6</td><td style = \"text-align: right;\">30.4</td><td style = \"text-align: right;\">30.4</td><td style = \"text-align: right;\">75.0</td><td style = \"text-align: right;\">206.85</td><td style = \"text-align: right;\">12.0</td><td style = \"text-align: right;\">54.25</td><td style = \"text-align: right;\">54.25</td><td style = \"text-align: right;\">258.165</td><td style = \"text-align: right;\">400.0</td><td style = \"text-align: right;\">300.0</td><td style = \"text-align: right;\">108.5</td><td style = \"text-align: right;\">140.0</td></tr><tr><td class = \"rowNumber\" style = \"font-weight: bold; text-align: right;\">3</td><td style = \"text-align: right;\">3</td><td style = \"text-align: right;\">14076.0</td><td style = \"text-align: right;\">30.4</td><td style = \"text-align: right;\">30.4</td><td style = \"text-align: right;\">75.0</td><td style = \"text-align: right;\">206.85</td><td style = \"text-align: right;\">12.0</td><td style = \"text-align: right;\">54.25</td><td style = \"text-align: right;\">54.25</td><td style = \"text-align: right;\">178.65</td><td style = \"text-align: right;\">400.0</td><td style = \"text-align: right;\">300.0</td><td style = \"text-align: right;\">108.5</td><td style = \"text-align: right;\">140.0</td></tr><tr><td class = \"rowNumber\" style = \"font-weight: bold; text-align: right;\">4</td><td style = \"text-align: right;\">4</td><td style = \"text-align: right;\">13916.4</td><td style = \"text-align: right;\">30.4</td><td style = \"text-align: right;\">30.4</td><td style = \"text-align: right;\">75.0</td><td style = \"text-align: right;\">206.85</td><td style = \"text-align: right;\">12.0</td><td style = \"text-align: right;\">54.25</td><td style = \"text-align: right;\">54.25</td><td style = \"text-align: right;\">152.145</td><td style = \"text-align: right;\">400.0</td><td style = \"text-align: right;\">300.0</td><td style = \"text-align: right;\">108.5</td><td style = \"text-align: right;\">140.0</td></tr><tr><td class = \"rowNumber\" style = \"font-weight: bold; text-align: right;\">5</td><td style = \"text-align: right;\">5</td><td style = \"text-align: right;\">13916.4</td><td style = \"text-align: right;\">30.4</td><td style = \"text-align: right;\">30.4</td><td style = \"text-align: right;\">75.0</td><td style = \"text-align: right;\">206.85</td><td style = \"text-align: right;\">12.0</td><td style = \"text-align: right;\">54.25</td><td style = \"text-align: right;\">54.25</td><td style = \"text-align: right;\">152.145</td><td style = \"text-align: right;\">400.0</td><td style = \"text-align: right;\">300.0</td><td style = \"text-align: right;\">108.5</td><td style = \"text-align: right;\">140.0</td></tr><tr><td class = \"rowNumber\" style = \"font-weight: bold; text-align: right;\">6</td><td style = \"text-align: right;\">6</td><td style = \"text-align: right;\">14076.0</td><td style = \"text-align: right;\">30.4</td><td style = \"text-align: right;\">30.4</td><td style = \"text-align: right;\">75.0</td><td style = \"text-align: right;\">206.85</td><td style = \"text-align: right;\">12.0</td><td style = \"text-align: right;\">54.25</td><td style = \"text-align: right;\">54.25</td><td style = \"text-align: right;\">178.65</td><td style = \"text-align: right;\">400.0</td><td style = \"text-align: right;\">300.0</td><td style = \"text-align: right;\">108.5</td><td style = \"text-align: right;\">140.0</td></tr><tr><td class = \"rowNumber\" style = \"font-weight: bold; text-align: right;\">7</td><td style = \"text-align: right;\">7</td><td style = \"text-align: right;\">16983.5</td><td style = \"text-align: right;\">30.4</td><td style = \"text-align: right;\">30.4</td><td style = \"text-align: right;\">75.0</td><td style = \"text-align: right;\">206.85</td><td style = \"text-align: right;\">12.0</td><td style = \"text-align: right;\">155.0</td><td style = \"text-align: right;\">103.22</td><td style = \"text-align: right;\">400.0</td><td style = \"text-align: right;\">400.0</td><td style = \"text-align: right;\">300.0</td><td style = \"text-align: right;\">108.5</td><td style = \"text-align: right;\">140.0</td></tr><tr><td class = \"rowNumber\" style = \"font-weight: bold; text-align: right;\">8</td><td style = \"text-align: right;\">8</td><td style = \"text-align: right;\">20353.5</td><td style = \"text-align: right;\">30.4</td><td style = \"text-align: right;\">30.4</td><td style = \"text-align: right;\">75.0</td><td style = \"text-align: right;\">206.85</td><td style = \"text-align: right;\">12.0</td><td style = \"text-align: right;\">155.0</td><td style = \"text-align: right;\">155.0</td><td style = \"text-align: right;\">400.0</td><td style = \"text-align: right;\">400.0</td><td style = \"text-align: right;\">300.0</td><td style = \"text-align: right;\">310.0</td><td style = \"text-align: right;\">204.78</td></tr><tr><td class = \"rowNumber\" style = \"font-weight: bold; text-align: right;\">9</td><td style = \"text-align: right;\">9</td><td style = \"text-align: right;\">23178.0</td><td style = \"text-align: right;\">30.4</td><td style = \"text-align: right;\">123.725</td><td style = \"text-align: right;\">75.0</td><td style = \"text-align: right;\">206.85</td><td style = \"text-align: right;\">12.0</td><td style = \"text-align: right;\">155.0</td><td style = \"text-align: right;\">155.0</td><td style = \"text-align: right;\">400.0</td><td style = \"text-align: right;\">400.0</td><td style = \"text-align: right;\">300.0</td><td style = \"text-align: right;\">310.0</td><td style = \"text-align: right;\">350.0</td></tr><tr><td class = \"rowNumber\" style = \"font-weight: bold; text-align: right;\">10</td><td style = \"text-align: right;\">10</td><td style = \"text-align: right;\">23531.1</td><td style = \"text-align: right;\">30.4</td><td style = \"text-align: right;\">150.23</td><td style = \"text-align: right;\">75.0</td><td style = \"text-align: right;\">206.85</td><td style = \"text-align: right;\">12.0</td><td style = \"text-align: right;\">155.0</td><td style = \"text-align: right;\">155.0</td><td style = \"text-align: right;\">400.0</td><td style = \"text-align: right;\">400.0</td><td style = \"text-align: right;\">300.0</td><td style = \"text-align: right;\">310.0</td><td style = \"text-align: right;\">350.0</td></tr><tr><td class = \"rowNumber\" style = \"font-weight: bold; text-align: right;\">11</td><td style = \"text-align: right;\">11</td><td style = \"text-align: right;\">23531.1</td><td style = \"text-align: right;\">30.4</td><td style = \"text-align: right;\">150.23</td><td style = \"text-align: right;\">75.0</td><td style = \"text-align: right;\">206.85</td><td style = \"text-align: right;\">12.0</td><td style = \"text-align: right;\">155.0</td><td style = \"text-align: right;\">155.0</td><td style = \"text-align: right;\">400.0</td><td style = \"text-align: right;\">400.0</td><td style = \"text-align: right;\">300.0</td><td style = \"text-align: right;\">310.0</td><td style = \"text-align: right;\">350.0</td></tr><tr><td class = \"rowNumber\" style = \"font-weight: bold; text-align: right;\">12</td><td style = \"text-align: right;\">12</td><td style = \"text-align: right;\">23178.0</td><td style = \"text-align: right;\">30.4</td><td style = \"text-align: right;\">123.725</td><td style = \"text-align: right;\">75.0</td><td style = \"text-align: right;\">206.85</td><td style = \"text-align: right;\">12.0</td><td style = \"text-align: right;\">155.0</td><td style = \"text-align: right;\">155.0</td><td style = \"text-align: right;\">400.0</td><td style = \"text-align: right;\">400.0</td><td style = \"text-align: right;\">300.0</td><td style = \"text-align: right;\">310.0</td><td style = \"text-align: right;\">350.0</td></tr><tr><td class = \"rowNumber\" style = \"font-weight: bold; text-align: right;\">13</td><td style = \"text-align: right;\">13</td><td style = \"text-align: right;\">23178.0</td><td style = \"text-align: right;\">30.4</td><td style = \"text-align: right;\">123.725</td><td style = \"text-align: right;\">75.0</td><td style = \"text-align: right;\">206.85</td><td style = \"text-align: right;\">12.0</td><td style = \"text-align: right;\">155.0</td><td style = \"text-align: right;\">155.0</td><td style = \"text-align: right;\">400.0</td><td style = \"text-align: right;\">400.0</td><td style = \"text-align: right;\">300.0</td><td style = \"text-align: right;\">310.0</td><td style = \"text-align: right;\">350.0</td></tr><tr><td class = \"rowNumber\" style = \"font-weight: bold; text-align: right;\">14</td><td style = \"text-align: right;\">14</td><td style = \"text-align: right;\">23178.0</td><td style = \"text-align: right;\">30.4</td><td style = \"text-align: right;\">123.725</td><td style = \"text-align: right;\">75.0</td><td style = \"text-align: right;\">206.85</td><td style = \"text-align: right;\">12.0</td><td style = \"text-align: right;\">155.0</td><td style = \"text-align: right;\">155.0</td><td style = \"text-align: right;\">400.0</td><td style = \"text-align: right;\">400.0</td><td style = \"text-align: right;\">300.0</td><td style = \"text-align: right;\">310.0</td><td style = \"text-align: right;\">350.0</td></tr><tr><td class = \"rowNumber\" style = \"font-weight: bold; text-align: right;\">15</td><td style = \"text-align: right;\">15</td><td style = \"text-align: right;\">22471.9</td><td style = \"text-align: right;\">30.4</td><td style = \"text-align: right;\">70.715</td><td style = \"text-align: right;\">75.0</td><td style = \"text-align: right;\">206.85</td><td style = \"text-align: right;\">12.0</td><td style = \"text-align: right;\">155.0</td><td style = \"text-align: right;\">155.0</td><td style = \"text-align: right;\">400.0</td><td style = \"text-align: right;\">400.0</td><td style = \"text-align: right;\">300.0</td><td style = \"text-align: right;\">310.0</td><td style = \"text-align: right;\">350.0</td></tr><tr><td class = \"rowNumber\" style = \"font-weight: bold; text-align: right;\">16</td><td style = \"text-align: right;\">16</td><td style = \"text-align: right;\">22471.9</td><td style = \"text-align: right;\">30.4</td><td style = \"text-align: right;\">70.715</td><td style = \"text-align: right;\">75.0</td><td style = \"text-align: right;\">206.85</td><td style = \"text-align: right;\">12.0</td><td style = \"text-align: right;\">155.0</td><td style = \"text-align: right;\">155.0</td><td style = \"text-align: right;\">400.0</td><td style = \"text-align: right;\">400.0</td><td style = \"text-align: right;\">300.0</td><td style = \"text-align: right;\">310.0</td><td style = \"text-align: right;\">350.0</td></tr><tr><td class = \"rowNumber\" style = \"font-weight: bold; text-align: right;\">17</td><td style = \"text-align: right;\">17</td><td style = \"text-align: right;\">24590.2</td><td style = \"text-align: right;\">108.145</td><td style = \"text-align: right;\">152.0</td><td style = \"text-align: right;\">75.0</td><td style = \"text-align: right;\">206.85</td><td style = \"text-align: right;\">12.0</td><td style = \"text-align: right;\">155.0</td><td style = \"text-align: right;\">155.0</td><td style = \"text-align: right;\">400.0</td><td style = \"text-align: right;\">400.0</td><td style = \"text-align: right;\">300.0</td><td style = \"text-align: right;\">310.0</td><td style = \"text-align: right;\">350.0</td></tr><tr><td class = \"rowNumber\" style = \"font-weight: bold; text-align: right;\">18</td><td style = \"text-align: right;\">18</td><td style = \"text-align: right;\">24943.3</td><td style = \"text-align: right;\">134.65</td><td style = \"text-align: right;\">152.0</td><td style = \"text-align: right;\">75.0</td><td style = \"text-align: right;\">206.85</td><td style = \"text-align: right;\">12.0</td><td style = \"text-align: right;\">155.0</td><td style = \"text-align: right;\">155.0</td><td style = \"text-align: right;\">400.0</td><td style = \"text-align: right;\">400.0</td><td style = \"text-align: right;\">300.0</td><td style = \"text-align: right;\">310.0</td><td style = \"text-align: right;\">350.0</td></tr><tr><td class = \"rowNumber\" style = \"font-weight: bold; text-align: right;\">19</td><td style = \"text-align: right;\">19</td><td style = \"text-align: right;\">24943.3</td><td style = \"text-align: right;\">134.65</td><td style = \"text-align: right;\">152.0</td><td style = \"text-align: right;\">75.0</td><td style = \"text-align: right;\">206.85</td><td style = \"text-align: right;\">12.0</td><td style = \"text-align: right;\">155.0</td><td style = \"text-align: right;\">155.0</td><td style = \"text-align: right;\">400.0</td><td style = \"text-align: right;\">400.0</td><td style = \"text-align: right;\">300.0</td><td style = \"text-align: right;\">310.0</td><td style = \"text-align: right;\">350.0</td></tr><tr><td class = \"rowNumber\" style = \"font-weight: bold; text-align: right;\">20</td><td style = \"text-align: right;\">20</td><td style = \"text-align: right;\">23531.1</td><td style = \"text-align: right;\">30.4</td><td style = \"text-align: right;\">150.23</td><td style = \"text-align: right;\">75.0</td><td style = \"text-align: right;\">206.85</td><td style = \"text-align: right;\">12.0</td><td style = \"text-align: right;\">155.0</td><td style = \"text-align: right;\">155.0</td><td style = \"text-align: right;\">400.0</td><td style = \"text-align: right;\">400.0</td><td style = \"text-align: right;\">300.0</td><td style = \"text-align: right;\">310.0</td><td style = \"text-align: right;\">350.0</td></tr><tr><td class = \"rowNumber\" style = \"font-weight: bold; text-align: right;\">21</td><td style = \"text-align: right;\">21</td><td style = \"text-align: right;\">21796.7</td><td style = \"text-align: right;\">30.4</td><td style = \"text-align: right;\">30.4</td><td style = \"text-align: right;\">75.0</td><td style = \"text-align: right;\">206.85</td><td style = \"text-align: right;\">12.0</td><td style = \"text-align: right;\">155.0</td><td style = \"text-align: right;\">155.0</td><td style = \"text-align: right;\">400.0</td><td style = \"text-align: right;\">400.0</td><td style = \"text-align: right;\">300.0</td><td style = \"text-align: right;\">310.0</td><td style = \"text-align: right;\">337.305</td></tr><tr><td class = \"rowNumber\" style = \"font-weight: bold; text-align: right;\">22</td><td style = \"text-align: right;\">22</td><td style = \"text-align: right;\">19493.0</td><td style = \"text-align: right;\">30.4</td><td style = \"text-align: right;\">30.4</td><td style = \"text-align: right;\">75.0</td><td style = \"text-align: right;\">206.85</td><td style = \"text-align: right;\">12.0</td><td style = \"text-align: right;\">155.0</td><td style = \"text-align: right;\">155.0</td><td style = \"text-align: right;\">400.0</td><td style = \"text-align: right;\">400.0</td><td style = \"text-align: right;\">300.0</td><td style = \"text-align: right;\">295.265</td><td style = \"text-align: right;\">140.0</td></tr><tr><td class = \"rowNumber\" style = \"font-weight: bold; text-align: right;\">23</td><td style = \"text-align: right;\">23</td><td style = \"text-align: right;\">16704.7</td><td style = \"text-align: right;\">30.4</td><td style = \"text-align: right;\">30.4</td><td style = \"text-align: right;\">75.0</td><td style = \"text-align: right;\">206.85</td><td style = \"text-align: right;\">12.0</td><td style = \"text-align: right;\">155.0</td><td style = \"text-align: right;\">76.715</td><td style = \"text-align: right;\">400.0</td><td style = \"text-align: right;\">400.0</td><td style = \"text-align: right;\">300.0</td><td style = \"text-align: right;\">108.5</td><td style = \"text-align: right;\">140.0</td></tr><tr><td class = \"rowNumber\" style = \"font-weight: bold; text-align: right;\">24</td><td style = \"text-align: right;\">24</td><td style = \"text-align: right;\">14554.6</td><td style = \"text-align: right;\">30.4</td><td style = \"text-align: right;\">30.4</td><td style = \"text-align: right;\">75.0</td><td style = \"text-align: right;\">206.85</td><td style = \"text-align: right;\">12.0</td><td style = \"text-align: right;\">54.25</td><td style = \"text-align: right;\">54.25</td><td style = \"text-align: right;\">258.165</td><td style = \"text-align: right;\">400.0</td><td style = \"text-align: right;\">300.0</td><td style = \"text-align: right;\">108.5</td><td style = \"text-align: right;\">140.0</td></tr></tbody></table></div>"
      ],
      "text/latex": [
       "\\begin{tabular}{r|cccccccccc}\n",
       "\t& hour & objective\\_value & x1 & x2 & x3 & x4 & x5 & x6 & x7 & \\\\\n",
       "\t\\hline\n",
       "\t& Int64 & Float64 & Float64 & Float64 & Float64 & Float64 & Float64 & Float64 & Float64 & \\\\\n",
       "\t\\hline\n",
       "\t1 & 1 & 15192.9 & 30.4 & 30.4 & 75.0 & 206.85 & 12.0 & 54.25 & 54.25 & $\\dots$ \\\\\n",
       "\t2 & 2 & 14554.6 & 30.4 & 30.4 & 75.0 & 206.85 & 12.0 & 54.25 & 54.25 & $\\dots$ \\\\\n",
       "\t3 & 3 & 14076.0 & 30.4 & 30.4 & 75.0 & 206.85 & 12.0 & 54.25 & 54.25 & $\\dots$ \\\\\n",
       "\t4 & 4 & 13916.4 & 30.4 & 30.4 & 75.0 & 206.85 & 12.0 & 54.25 & 54.25 & $\\dots$ \\\\\n",
       "\t5 & 5 & 13916.4 & 30.4 & 30.4 & 75.0 & 206.85 & 12.0 & 54.25 & 54.25 & $\\dots$ \\\\\n",
       "\t6 & 6 & 14076.0 & 30.4 & 30.4 & 75.0 & 206.85 & 12.0 & 54.25 & 54.25 & $\\dots$ \\\\\n",
       "\t7 & 7 & 16983.5 & 30.4 & 30.4 & 75.0 & 206.85 & 12.0 & 155.0 & 103.22 & $\\dots$ \\\\\n",
       "\t8 & 8 & 20353.5 & 30.4 & 30.4 & 75.0 & 206.85 & 12.0 & 155.0 & 155.0 & $\\dots$ \\\\\n",
       "\t9 & 9 & 23178.0 & 30.4 & 123.725 & 75.0 & 206.85 & 12.0 & 155.0 & 155.0 & $\\dots$ \\\\\n",
       "\t10 & 10 & 23531.1 & 30.4 & 150.23 & 75.0 & 206.85 & 12.0 & 155.0 & 155.0 & $\\dots$ \\\\\n",
       "\t11 & 11 & 23531.1 & 30.4 & 150.23 & 75.0 & 206.85 & 12.0 & 155.0 & 155.0 & $\\dots$ \\\\\n",
       "\t12 & 12 & 23178.0 & 30.4 & 123.725 & 75.0 & 206.85 & 12.0 & 155.0 & 155.0 & $\\dots$ \\\\\n",
       "\t13 & 13 & 23178.0 & 30.4 & 123.725 & 75.0 & 206.85 & 12.0 & 155.0 & 155.0 & $\\dots$ \\\\\n",
       "\t14 & 14 & 23178.0 & 30.4 & 123.725 & 75.0 & 206.85 & 12.0 & 155.0 & 155.0 & $\\dots$ \\\\\n",
       "\t15 & 15 & 22471.9 & 30.4 & 70.715 & 75.0 & 206.85 & 12.0 & 155.0 & 155.0 & $\\dots$ \\\\\n",
       "\t16 & 16 & 22471.9 & 30.4 & 70.715 & 75.0 & 206.85 & 12.0 & 155.0 & 155.0 & $\\dots$ \\\\\n",
       "\t17 & 17 & 24590.2 & 108.145 & 152.0 & 75.0 & 206.85 & 12.0 & 155.0 & 155.0 & $\\dots$ \\\\\n",
       "\t18 & 18 & 24943.3 & 134.65 & 152.0 & 75.0 & 206.85 & 12.0 & 155.0 & 155.0 & $\\dots$ \\\\\n",
       "\t19 & 19 & 24943.3 & 134.65 & 152.0 & 75.0 & 206.85 & 12.0 & 155.0 & 155.0 & $\\dots$ \\\\\n",
       "\t20 & 20 & 23531.1 & 30.4 & 150.23 & 75.0 & 206.85 & 12.0 & 155.0 & 155.0 & $\\dots$ \\\\\n",
       "\t21 & 21 & 21796.7 & 30.4 & 30.4 & 75.0 & 206.85 & 12.0 & 155.0 & 155.0 & $\\dots$ \\\\\n",
       "\t22 & 22 & 19493.0 & 30.4 & 30.4 & 75.0 & 206.85 & 12.0 & 155.0 & 155.0 & $\\dots$ \\\\\n",
       "\t23 & 23 & 16704.7 & 30.4 & 30.4 & 75.0 & 206.85 & 12.0 & 155.0 & 76.715 & $\\dots$ \\\\\n",
       "\t24 & 24 & 14554.6 & 30.4 & 30.4 & 75.0 & 206.85 & 12.0 & 54.25 & 54.25 & $\\dots$ \\\\\n",
       "\\end{tabular}\n"
      ],
      "text/plain": [
       "\u001b[1m24×14 DataFrame\u001b[0m\n",
       "\u001b[1m Row \u001b[0m│\u001b[1m hour  \u001b[0m\u001b[1m objective_value \u001b[0m\u001b[1m x1      \u001b[0m\u001b[1m x2      \u001b[0m\u001b[1m x3      \u001b[0m\u001b[1m x4      \u001b[0m\u001b[1m x5      \u001b[0m\u001b[1m x6\u001b[0m ⋯\n",
       "     │\u001b[90m Int64 \u001b[0m\u001b[90m Float64         \u001b[0m\u001b[90m Float64 \u001b[0m\u001b[90m Float64 \u001b[0m\u001b[90m Float64 \u001b[0m\u001b[90m Float64 \u001b[0m\u001b[90m Float64 \u001b[0m\u001b[90m Fl\u001b[0m ⋯\n",
       "─────┼──────────────────────────────────────────────────────────────────────────\n",
       "   1 │     1          15192.9   30.4     30.4       75.0   206.85     12.0     ⋯\n",
       "   2 │     2          14554.6   30.4     30.4       75.0   206.85     12.0\n",
       "   3 │     3          14076.0   30.4     30.4       75.0   206.85     12.0\n",
       "   4 │     4          13916.4   30.4     30.4       75.0   206.85     12.0\n",
       "   5 │     5          13916.4   30.4     30.4       75.0   206.85     12.0     ⋯\n",
       "   6 │     6          14076.0   30.4     30.4       75.0   206.85     12.0\n",
       "   7 │     7          16983.5   30.4     30.4       75.0   206.85     12.0   1\n",
       "   8 │     8          20353.5   30.4     30.4       75.0   206.85     12.0   1\n",
       "  ⋮  │   ⋮           ⋮            ⋮        ⋮        ⋮        ⋮        ⋮        ⋱\n",
       "  18 │    18          24943.3  134.65   152.0       75.0   206.85     12.0   1 ⋯\n",
       "  19 │    19          24943.3  134.65   152.0       75.0   206.85     12.0   1\n",
       "  20 │    20          23531.1   30.4    150.23      75.0   206.85     12.0   1\n",
       "  21 │    21          21796.7   30.4     30.4       75.0   206.85     12.0   1\n",
       "  22 │    22          19493.0   30.4     30.4       75.0   206.85     12.0   1 ⋯\n",
       "  23 │    23          16704.7   30.4     30.4       75.0   206.85     12.0   1\n",
       "  24 │    24          14554.6   30.4     30.4       75.0   206.85     12.0\n",
       "\u001b[36m                                                    7 columns and 9 rows omitted\u001b[0m"
      ]
     },
     "metadata": {},
     "output_type": "display_data"
    }
   ],
   "source": [
    "result_df"
   ]
  },
  {
   "cell_type": "code",
   "execution_count": 7,
   "metadata": {},
   "outputs": [
    {
     "data": {
      "text/plain": [
       "\"../results/market_clearing_Jan.csv\""
      ]
     },
     "metadata": {},
     "output_type": "display_data"
    }
   ],
   "source": [
    "#save result_df to csv\n",
    "CSV.write(\"../results/market_clearing_Jan.csv\", result_df)"
   ]
  }
 ],
 "metadata": {
  "kernelspec": {
   "display_name": "Julia 1.10.0",
   "language": "julia",
   "name": "julia-1.10"
  },
  "language_info": {
   "file_extension": ".jl",
   "mimetype": "application/julia",
   "name": "julia",
   "version": "1.10.0"
  }
 },
 "nbformat": 4,
 "nbformat_minor": 2
}
