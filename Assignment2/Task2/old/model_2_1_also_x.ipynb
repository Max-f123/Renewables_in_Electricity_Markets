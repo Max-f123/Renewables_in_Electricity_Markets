{
 "cells": [
  {
   "cell_type": "code",
   "execution_count": null,
   "metadata": {},
   "outputs": [],
   "source": [
    "using JuMP, GLPK\n",
    "using DataFrames\n",
    "using CSV\n",
    "using PrettyTables\n",
    "using Random"
   ]
  },
  {
   "cell_type": "code",
   "execution_count": null,
   "metadata": {},
   "outputs": [],
   "source": [
    "scenarios_df = CSV.read(\"load_profiles.csv\", DataFrame)\n",
    "n_scenarios = size(scenarios_df, 2)\n",
    "M = 10000\n",
    "in_sample_n = 100"
   ]
  },
  {
   "cell_type": "code",
   "execution_count": null,
   "metadata": {},
   "outputs": [],
   "source": [
    "#define function\n",
    "function f(q)\n",
    "    # Create a new model with GLPK solver\n",
    "    model = Model(GLPK.Optimizer)\n",
    "\n",
    "    @variable(model, cap_bid)\n",
    "    @variable(model, bin_var[1:60, 1:in_sample_n],Bin)\n",
    "\n",
    "    @constraint(model, cap_bid >= 0)\n",
    "\n",
    "    for scenario in 1:in_sample_n\n",
    "        for minute in 1:60\n",
    "            @constraint(model, cap_bid - scenarios_df[minute, scenario] <= M* bin_var[minute, scenario])\n",
    "        end\n",
    "    end\n",
    "    @constraint(model, sum(bin_var[minute, scenario] for scenario in 1:in_sample_n, minute in 1:60) <= q)\n",
    "\n",
    "    # Define the objective function\n",
    "    @objective(model, Max, cap_bid)\n",
    "\n",
    "    # Solve the model\n",
    "    optimize!(model)\n",
    "\n",
    "    # Check the status of the solution\n",
    "    status = termination_status(model)\n",
    "    if status == MOI.OPTIMAL\n",
    "        #println(\"Optimal solution found\")\n",
    "        println(\"Optimal solution cap_bid: \", value(cap_bid))\n",
    "    elseif status == MOI.INFEASIBLE\n",
    "        println(\"No feasible solution found\")\n",
    "    else\n",
    "        println(\"Solver status: \", status)\n",
    "    end\n",
    "    return JuMP.value.(bin_var)\n",
    "end"
   ]
  },
  {
   "cell_type": "code",
   "execution_count": null,
   "metadata": {},
   "outputs": [],
   "source": [
    "#ALSO-X\n",
    "\n",
    "stopping_parameter = 0.0001\n",
    "\n",
    "lwr_q = 0\n",
    "upr_q = 0.1*in_sample_n*60\n",
    "counter = 0\n",
    "\n",
    "while upr_q - lwr_q >= stopping_parameter\n",
    "    q = (lwr_q + upr_q)/2\n",
    "    bin_var = f(q)\n",
    "    num_zeros = count(x -> x == 0, bin_var)\n",
    "    println(\"q: \", q, \" num_zeros: \", num_zeros)\n",
    "\n",
    "    if num_zeros/length(bin_var) > 0.9\n",
    "        lwr_q = q\n",
    "    else\n",
    "        upr_q = q\n",
    "    end\n",
    "\n",
    "    if counter > 50\n",
    "        break\n",
    "    end\n",
    "    counter += 1\n",
    "end"
   ]
  }
 ],
 "metadata": {
  "kernelspec": {
   "display_name": "Julia 1.9.3",
   "language": "julia",
   "name": "julia-1.9"
  },
  "language_info": {
   "file_extension": ".jl",
   "mimetype": "application/julia",
   "name": "julia",
   "version": "1.9.3"
  }
 },
 "nbformat": 4,
 "nbformat_minor": 2
}
