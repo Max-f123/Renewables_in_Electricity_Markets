{
 "cells": [
  {
   "cell_type": "code",
   "execution_count": 16,
   "metadata": {},
   "outputs": [],
   "source": [
    "using JuMP, GLPK\n",
    "using DataFrames\n",
    "using CSV"
   ]
  },
  {
   "cell_type": "code",
   "execution_count": 17,
   "metadata": {},
   "outputs": [
    {
     "data": {
      "text/html": [
       "<div><div style = \"float: left;\"><span>12×10 DataFrame</span></div><div style = \"clear: both;\"></div></div><div class = \"data-frame\" style = \"overflow-x: scroll;\"><table class = \"data-frame\" style = \"margin-bottom: 6px;\"><thead><tr class = \"header\"><th class = \"rowNumber\" style = \"font-weight: bold; text-align: right;\">Row</th><th style = \"text-align: left;\">Unit #</th><th style = \"text-align: left;\">Node</th><th style = \"text-align: left;\">Pmax (MW)</th><th style = \"text-align: left;\">Pmin (MW)</th><th style = \"text-align: left;\">R+ (MW)</th><th style = \"text-align: left;\">R- (MW)</th><th style = \"text-align: left;\">RU (MW/h)</th><th style = \"text-align: left;\">RD (MW/h)</th><th style = \"text-align: left;\">UT (h)</th><th style = \"text-align: left;\">DT (h)</th></tr><tr class = \"subheader headerLastRow\"><th class = \"rowNumber\" style = \"font-weight: bold; text-align: right;\"></th><th title = \"Int64\" style = \"text-align: left;\">Int64</th><th title = \"Int64\" style = \"text-align: left;\">Int64</th><th title = \"Int64\" style = \"text-align: left;\">Int64</th><th title = \"Float64\" style = \"text-align: left;\">Float64</th><th title = \"Int64\" style = \"text-align: left;\">Int64</th><th title = \"Int64\" style = \"text-align: left;\">Int64</th><th title = \"Int64\" style = \"text-align: left;\">Int64</th><th title = \"Int64\" style = \"text-align: left;\">Int64</th><th title = \"Int64\" style = \"text-align: left;\">Int64</th><th title = \"Int64\" style = \"text-align: left;\">Int64</th></tr></thead><tbody><tr><td class = \"rowNumber\" style = \"font-weight: bold; text-align: right;\">1</td><td style = \"text-align: right;\">1</td><td style = \"text-align: right;\">1</td><td style = \"text-align: right;\">152</td><td style = \"text-align: right;\">30.4</td><td style = \"text-align: right;\">40</td><td style = \"text-align: right;\">40</td><td style = \"text-align: right;\">120</td><td style = \"text-align: right;\">120</td><td style = \"text-align: right;\">8</td><td style = \"text-align: right;\">4</td></tr><tr><td class = \"rowNumber\" style = \"font-weight: bold; text-align: right;\">2</td><td style = \"text-align: right;\">2</td><td style = \"text-align: right;\">2</td><td style = \"text-align: right;\">152</td><td style = \"text-align: right;\">30.4</td><td style = \"text-align: right;\">40</td><td style = \"text-align: right;\">40</td><td style = \"text-align: right;\">120</td><td style = \"text-align: right;\">120</td><td style = \"text-align: right;\">8</td><td style = \"text-align: right;\">4</td></tr><tr><td class = \"rowNumber\" style = \"font-weight: bold; text-align: right;\">3</td><td style = \"text-align: right;\">3</td><td style = \"text-align: right;\">7</td><td style = \"text-align: right;\">350</td><td style = \"text-align: right;\">75.0</td><td style = \"text-align: right;\">70</td><td style = \"text-align: right;\">70</td><td style = \"text-align: right;\">350</td><td style = \"text-align: right;\">350</td><td style = \"text-align: right;\">8</td><td style = \"text-align: right;\">8</td></tr><tr><td class = \"rowNumber\" style = \"font-weight: bold; text-align: right;\">4</td><td style = \"text-align: right;\">4</td><td style = \"text-align: right;\">13</td><td style = \"text-align: right;\">591</td><td style = \"text-align: right;\">206.85</td><td style = \"text-align: right;\">180</td><td style = \"text-align: right;\">180</td><td style = \"text-align: right;\">240</td><td style = \"text-align: right;\">240</td><td style = \"text-align: right;\">12</td><td style = \"text-align: right;\">10</td></tr><tr><td class = \"rowNumber\" style = \"font-weight: bold; text-align: right;\">5</td><td style = \"text-align: right;\">5</td><td style = \"text-align: right;\">15</td><td style = \"text-align: right;\">60</td><td style = \"text-align: right;\">12.0</td><td style = \"text-align: right;\">60</td><td style = \"text-align: right;\">60</td><td style = \"text-align: right;\">60</td><td style = \"text-align: right;\">60</td><td style = \"text-align: right;\">4</td><td style = \"text-align: right;\">2</td></tr><tr><td class = \"rowNumber\" style = \"font-weight: bold; text-align: right;\">6</td><td style = \"text-align: right;\">6</td><td style = \"text-align: right;\">15</td><td style = \"text-align: right;\">155</td><td style = \"text-align: right;\">54.25</td><td style = \"text-align: right;\">30</td><td style = \"text-align: right;\">30</td><td style = \"text-align: right;\">155</td><td style = \"text-align: right;\">155</td><td style = \"text-align: right;\">8</td><td style = \"text-align: right;\">8</td></tr><tr><td class = \"rowNumber\" style = \"font-weight: bold; text-align: right;\">7</td><td style = \"text-align: right;\">7</td><td style = \"text-align: right;\">16</td><td style = \"text-align: right;\">155</td><td style = \"text-align: right;\">54.25</td><td style = \"text-align: right;\">30</td><td style = \"text-align: right;\">30</td><td style = \"text-align: right;\">155</td><td style = \"text-align: right;\">155</td><td style = \"text-align: right;\">8</td><td style = \"text-align: right;\">8</td></tr><tr><td class = \"rowNumber\" style = \"font-weight: bold; text-align: right;\">8</td><td style = \"text-align: right;\">8</td><td style = \"text-align: right;\">18</td><td style = \"text-align: right;\">400</td><td style = \"text-align: right;\">100.0</td><td style = \"text-align: right;\">0</td><td style = \"text-align: right;\">0</td><td style = \"text-align: right;\">280</td><td style = \"text-align: right;\">280</td><td style = \"text-align: right;\">1</td><td style = \"text-align: right;\">1</td></tr><tr><td class = \"rowNumber\" style = \"font-weight: bold; text-align: right;\">9</td><td style = \"text-align: right;\">9</td><td style = \"text-align: right;\">21</td><td style = \"text-align: right;\">400</td><td style = \"text-align: right;\">100.0</td><td style = \"text-align: right;\">0</td><td style = \"text-align: right;\">0</td><td style = \"text-align: right;\">280</td><td style = \"text-align: right;\">280</td><td style = \"text-align: right;\">1</td><td style = \"text-align: right;\">1</td></tr><tr><td class = \"rowNumber\" style = \"font-weight: bold; text-align: right;\">10</td><td style = \"text-align: right;\">10</td><td style = \"text-align: right;\">22</td><td style = \"text-align: right;\">300</td><td style = \"text-align: right;\">300.0</td><td style = \"text-align: right;\">0</td><td style = \"text-align: right;\">0</td><td style = \"text-align: right;\">300</td><td style = \"text-align: right;\">300</td><td style = \"text-align: right;\">0</td><td style = \"text-align: right;\">0</td></tr><tr><td class = \"rowNumber\" style = \"font-weight: bold; text-align: right;\">11</td><td style = \"text-align: right;\">11</td><td style = \"text-align: right;\">23</td><td style = \"text-align: right;\">310</td><td style = \"text-align: right;\">108.5</td><td style = \"text-align: right;\">60</td><td style = \"text-align: right;\">60</td><td style = \"text-align: right;\">180</td><td style = \"text-align: right;\">180</td><td style = \"text-align: right;\">8</td><td style = \"text-align: right;\">8</td></tr><tr><td class = \"rowNumber\" style = \"font-weight: bold; text-align: right;\">12</td><td style = \"text-align: right;\">12</td><td style = \"text-align: right;\">23</td><td style = \"text-align: right;\">350</td><td style = \"text-align: right;\">140.0</td><td style = \"text-align: right;\">40</td><td style = \"text-align: right;\">40</td><td style = \"text-align: right;\">240</td><td style = \"text-align: right;\">240</td><td style = \"text-align: right;\">8</td><td style = \"text-align: right;\">8</td></tr></tbody></table></div>"
      ],
      "text/latex": [
       "\\begin{tabular}{r|cccccccccc}\n",
       "\t& Unit \\# & Node & Pmax (MW) & Pmin (MW) & R+ (MW) & R- (MW) & RU (MW/h) & RD (MW/h) & UT (h) & \\\\\n",
       "\t\\hline\n",
       "\t& Int64 & Int64 & Int64 & Float64 & Int64 & Int64 & Int64 & Int64 & Int64 & \\\\\n",
       "\t\\hline\n",
       "\t1 & 1 & 1 & 152 & 30.4 & 40 & 40 & 120 & 120 & 8 & $\\dots$ \\\\\n",
       "\t2 & 2 & 2 & 152 & 30.4 & 40 & 40 & 120 & 120 & 8 & $\\dots$ \\\\\n",
       "\t3 & 3 & 7 & 350 & 75.0 & 70 & 70 & 350 & 350 & 8 & $\\dots$ \\\\\n",
       "\t4 & 4 & 13 & 591 & 206.85 & 180 & 180 & 240 & 240 & 12 & $\\dots$ \\\\\n",
       "\t5 & 5 & 15 & 60 & 12.0 & 60 & 60 & 60 & 60 & 4 & $\\dots$ \\\\\n",
       "\t6 & 6 & 15 & 155 & 54.25 & 30 & 30 & 155 & 155 & 8 & $\\dots$ \\\\\n",
       "\t7 & 7 & 16 & 155 & 54.25 & 30 & 30 & 155 & 155 & 8 & $\\dots$ \\\\\n",
       "\t8 & 8 & 18 & 400 & 100.0 & 0 & 0 & 280 & 280 & 1 & $\\dots$ \\\\\n",
       "\t9 & 9 & 21 & 400 & 100.0 & 0 & 0 & 280 & 280 & 1 & $\\dots$ \\\\\n",
       "\t10 & 10 & 22 & 300 & 300.0 & 0 & 0 & 300 & 300 & 0 & $\\dots$ \\\\\n",
       "\t11 & 11 & 23 & 310 & 108.5 & 60 & 60 & 180 & 180 & 8 & $\\dots$ \\\\\n",
       "\t12 & 12 & 23 & 350 & 140.0 & 40 & 40 & 240 & 240 & 8 & $\\dots$ \\\\\n",
       "\\end{tabular}\n"
      ],
      "text/plain": [
       "\u001b[1m12×10 DataFrame\u001b[0m\n",
       "\u001b[1m Row \u001b[0m│\u001b[1m Unit # \u001b[0m\u001b[1m Node  \u001b[0m\u001b[1m Pmax (MW) \u001b[0m\u001b[1m Pmin (MW) \u001b[0m\u001b[1m R+ (MW) \u001b[0m\u001b[1m R- (MW) \u001b[0m\u001b[1m RU (MW/h) \u001b[0m\u001b[1m RD (M\u001b[0m ⋯\n",
       "     │\u001b[90m Int64  \u001b[0m\u001b[90m Int64 \u001b[0m\u001b[90m Int64     \u001b[0m\u001b[90m Float64   \u001b[0m\u001b[90m Int64   \u001b[0m\u001b[90m Int64   \u001b[0m\u001b[90m Int64     \u001b[0m\u001b[90m Int64\u001b[0m ⋯\n",
       "─────┼──────────────────────────────────────────────────────────────────────────\n",
       "   1 │      1      1        152      30.4        40       40        120        ⋯\n",
       "   2 │      2      2        152      30.4        40       40        120\n",
       "   3 │      3      7        350      75.0        70       70        350\n",
       "   4 │      4     13        591     206.85      180      180        240\n",
       "   5 │      5     15         60      12.0        60       60         60        ⋯\n",
       "   6 │      6     15        155      54.25       30       30        155\n",
       "   7 │      7     16        155      54.25       30       30        155\n",
       "   8 │      8     18        400     100.0         0        0        280\n",
       "   9 │      9     21        400     100.0         0        0        280        ⋯\n",
       "  10 │     10     22        300     300.0         0        0        300\n",
       "  11 │     11     23        310     108.5        60       60        180\n",
       "  12 │     12     23        350     140.0        40       40        240\n",
       "\u001b[36m                                                               3 columns omitted\u001b[0m"
      ]
     },
     "metadata": {},
     "output_type": "display_data"
    }
   ],
   "source": [
    "#load demand data\n",
    "demand = CSV.File(\"../data/demand.csv\") |> DataFrame\n",
    "\n",
    "#load cost data\n",
    "cost = CSV.File(\"../data/cost_generation.csv\") |> DataFrame\n",
    "\n",
    "#load capacity data\n",
    "capacity = CSV.File(\"../data/technical_data_generation.csv\") |> DataFrame\n"
   ]
  },
  {
   "cell_type": "code",
   "execution_count": 18,
   "metadata": {},
   "outputs": [],
   "source": [
    "# Initialize the DataFrame directly without dynamic column names\n",
    "result_df = DataFrame(hour = Int[], objective_value = Float64[])\n",
    "\n",
    "# For x variables, manually add each column. This is a one-time setup.\n",
    "for i in 1:size(cost, 1)\n",
    "    result_df[!, Symbol(\"x$i\")] = Float64[]\n",
    "end"
   ]
  },
  {
   "cell_type": "code",
   "execution_count": 19,
   "metadata": {},
   "outputs": [
    {
     "name": "stdout",
     "output_type": "stream",
     "text": [
      "Hour 1: Optimal solution found"
     ]
    },
    {
     "name": "stdout",
     "output_type": "stream",
     "text": [
      "\n",
      "Hour 2: Optimal solution found\n",
      "Hour 3: Optimal solution found\n",
      "Hour 4: Optimal solution found\n",
      "Hour 5: Optimal solution found\n",
      "Hour 6: Optimal solution found\n",
      "Hour 7: Optimal solution found\n",
      "Hour 8: Optimal solution found\n",
      "Hour 9: Optimal solution found\n",
      "Hour 10: Optimal solution found\n",
      "Hour 11: Optimal solution found\n",
      "Hour 12: Optimal solution found\n",
      "Hour 13: Optimal solution found\n",
      "Hour 14: Optimal solution found\n",
      "Hour 15: Optimal solution found\n",
      "Hour 16: Optimal solution found\n",
      "Hour 17: Optimal solution found\n",
      "Hour 18: Optimal solution found\n",
      "Hour 19: Optimal solution found\n",
      "Hour 20: Optimal solution found\n",
      "Hour 21: Optimal solution found\n",
      "Hour 22: Optimal solution found\n",
      "Hour 23: Optimal solution found\n",
      "Hour 24: Optimal solution found\n"
     ]
    }
   ],
   "source": [
    "\n",
    "for hour in 1:24\n",
    "    # Create a new model with GLPK solver\n",
    "    model = Model(GLPK.Optimizer)\n",
    "\n",
    "    # Define the decision variables for every generator\n",
    "    unregister(model, :x)  # Unregister the existing variable named \"x\" from the model\n",
    "    @variable(model, x[1:size(cost, 1)])  # Create the new variable\n",
    "    for generator in 1:size(cost, 1)\n",
    "        set_lower_bound(x[generator], capacity[generator,4])  # Set the lower bound\n",
    "        set_upper_bound(x[generator], capacity[generator,3])  # Set the upper bound\n",
    "    end\n",
    "\n",
    "\n",
    "    # Define the objective function\n",
    "    @objective(model, Min, sum(cost[generator,2] * x[generator] for generator in 1:size(cost,1)))\n",
    "\n",
    "    # Add the equilibrium constraint\n",
    "    @constraint(model, sum(x[generator] for generator in 1:size(cost,1)) == demand[hour,2])\n",
    "\n",
    "    # Print the model\n",
    "    #print(model)\n",
    "\n",
    "    # Solve the model\n",
    "    optimize!(model)\n",
    "\n",
    "    # Check the status of the solution\n",
    "    status = termination_status(model)\n",
    "    if status == MOI.OPTIMAL\n",
    "        println(\"Hour \", hour, \": Optimal solution found\")\n",
    "\n",
    "        # Assuming 'model' and 'x' are properly defined and 'hour' is known\n",
    "        new_row = [hour, objective_value(model)]\n",
    "        append!(new_row, [value(x[i]) for i in 1:size(cost, 1)]) # Simplifies adding x values\n",
    "\n",
    "        push!(result_df, new_row)\n",
    "\n",
    "    elseif status == MOI.INFEASIBLE\n",
    "        println(\"Hour \", hour, \": No feasible solution found\")\n",
    "    else\n",
    "        println(\"Hour \", hour, \": Solver status: \", status)\n",
    "    end\n",
    "end"
   ]
  },
  {
   "cell_type": "code",
   "execution_count": 20,
   "metadata": {},
   "outputs": [
    {
     "data": {
      "text/html": [
       "<div><div style = \"float: left;\"><span>24×14 DataFrame</span></div><div style = \"clear: both;\"></div></div><div class = \"data-frame\" style = \"overflow-x: scroll;\"><table class = \"data-frame\" style = \"margin-bottom: 6px;\"><thead><tr class = \"header\"><th class = \"rowNumber\" style = \"font-weight: bold; text-align: right;\">Row</th><th style = \"text-align: left;\">hour</th><th style = \"text-align: left;\">objective_value</th><th style = \"text-align: left;\">x1</th><th style = \"text-align: left;\">x2</th><th style = \"text-align: left;\">x3</th><th style = \"text-align: left;\">x4</th><th style = \"text-align: left;\">x5</th><th style = \"text-align: left;\">x6</th><th style = \"text-align: left;\">x7</th><th style = \"text-align: left;\">x8</th><th style = \"text-align: left;\">x9</th><th style = \"text-align: left;\">x10</th><th style = \"text-align: left;\">x11</th><th style = \"text-align: left;\">x12</th></tr><tr class = \"subheader headerLastRow\"><th class = \"rowNumber\" style = \"font-weight: bold; text-align: right;\"></th><th title = \"Int64\" style = \"text-align: left;\">Int64</th><th title = \"Float64\" style = \"text-align: left;\">Float64</th><th title = \"Float64\" style = \"text-align: left;\">Float64</th><th title = \"Float64\" style = \"text-align: left;\">Float64</th><th title = \"Float64\" style = \"text-align: left;\">Float64</th><th title = \"Float64\" style = \"text-align: left;\">Float64</th><th title = \"Float64\" style = \"text-align: left;\">Float64</th><th title = \"Float64\" style = \"text-align: left;\">Float64</th><th title = \"Float64\" style = \"text-align: left;\">Float64</th><th title = \"Float64\" style = \"text-align: left;\">Float64</th><th title = \"Float64\" style = \"text-align: left;\">Float64</th><th title = \"Float64\" style = \"text-align: left;\">Float64</th><th title = \"Float64\" style = \"text-align: left;\">Float64</th><th title = \"Float64\" style = \"text-align: left;\">Float64</th></tr></thead><tbody><tr><td class = \"rowNumber\" style = \"font-weight: bold; text-align: right;\">1</td><td style = \"text-align: right;\">1</td><td style = \"text-align: right;\">15192.9</td><td style = \"text-align: right;\">30.4</td><td style = \"text-align: right;\">30.4</td><td style = \"text-align: right;\">75.0</td><td style = \"text-align: right;\">206.85</td><td style = \"text-align: right;\">12.0</td><td style = \"text-align: right;\">54.25</td><td style = \"text-align: right;\">54.25</td><td style = \"text-align: right;\">364.185</td><td style = \"text-align: right;\">400.0</td><td style = \"text-align: right;\">300.0</td><td style = \"text-align: right;\">108.5</td><td style = \"text-align: right;\">140.0</td></tr><tr><td class = \"rowNumber\" style = \"font-weight: bold; text-align: right;\">2</td><td style = \"text-align: right;\">2</td><td style = \"text-align: right;\">14554.6</td><td style = \"text-align: right;\">30.4</td><td style = \"text-align: right;\">30.4</td><td style = \"text-align: right;\">75.0</td><td style = \"text-align: right;\">206.85</td><td style = \"text-align: right;\">12.0</td><td style = \"text-align: right;\">54.25</td><td style = \"text-align: right;\">54.25</td><td style = \"text-align: right;\">258.165</td><td style = \"text-align: right;\">400.0</td><td style = \"text-align: right;\">300.0</td><td style = \"text-align: right;\">108.5</td><td style = \"text-align: right;\">140.0</td></tr><tr><td class = \"rowNumber\" style = \"font-weight: bold; text-align: right;\">3</td><td style = \"text-align: right;\">3</td><td style = \"text-align: right;\">14076.0</td><td style = \"text-align: right;\">30.4</td><td style = \"text-align: right;\">30.4</td><td style = \"text-align: right;\">75.0</td><td style = \"text-align: right;\">206.85</td><td style = \"text-align: right;\">12.0</td><td style = \"text-align: right;\">54.25</td><td style = \"text-align: right;\">54.25</td><td style = \"text-align: right;\">178.65</td><td style = \"text-align: right;\">400.0</td><td style = \"text-align: right;\">300.0</td><td style = \"text-align: right;\">108.5</td><td style = \"text-align: right;\">140.0</td></tr><tr><td class = \"rowNumber\" style = \"font-weight: bold; text-align: right;\">4</td><td style = \"text-align: right;\">4</td><td style = \"text-align: right;\">13916.4</td><td style = \"text-align: right;\">30.4</td><td style = \"text-align: right;\">30.4</td><td style = \"text-align: right;\">75.0</td><td style = \"text-align: right;\">206.85</td><td style = \"text-align: right;\">12.0</td><td style = \"text-align: right;\">54.25</td><td style = \"text-align: right;\">54.25</td><td style = \"text-align: right;\">152.145</td><td style = \"text-align: right;\">400.0</td><td style = \"text-align: right;\">300.0</td><td style = \"text-align: right;\">108.5</td><td style = \"text-align: right;\">140.0</td></tr><tr><td class = \"rowNumber\" style = \"font-weight: bold; text-align: right;\">5</td><td style = \"text-align: right;\">5</td><td style = \"text-align: right;\">13916.4</td><td style = \"text-align: right;\">30.4</td><td style = \"text-align: right;\">30.4</td><td style = \"text-align: right;\">75.0</td><td style = \"text-align: right;\">206.85</td><td style = \"text-align: right;\">12.0</td><td style = \"text-align: right;\">54.25</td><td style = \"text-align: right;\">54.25</td><td style = \"text-align: right;\">152.145</td><td style = \"text-align: right;\">400.0</td><td style = \"text-align: right;\">300.0</td><td style = \"text-align: right;\">108.5</td><td style = \"text-align: right;\">140.0</td></tr><tr><td class = \"rowNumber\" style = \"font-weight: bold; text-align: right;\">6</td><td style = \"text-align: right;\">6</td><td style = \"text-align: right;\">14076.0</td><td style = \"text-align: right;\">30.4</td><td style = \"text-align: right;\">30.4</td><td style = \"text-align: right;\">75.0</td><td style = \"text-align: right;\">206.85</td><td style = \"text-align: right;\">12.0</td><td style = \"text-align: right;\">54.25</td><td style = \"text-align: right;\">54.25</td><td style = \"text-align: right;\">178.65</td><td style = \"text-align: right;\">400.0</td><td style = \"text-align: right;\">300.0</td><td style = \"text-align: right;\">108.5</td><td style = \"text-align: right;\">140.0</td></tr><tr><td class = \"rowNumber\" style = \"font-weight: bold; text-align: right;\">7</td><td style = \"text-align: right;\">7</td><td style = \"text-align: right;\">16983.5</td><td style = \"text-align: right;\">30.4</td><td style = \"text-align: right;\">30.4</td><td style = \"text-align: right;\">75.0</td><td style = \"text-align: right;\">206.85</td><td style = \"text-align: right;\">12.0</td><td style = \"text-align: right;\">155.0</td><td style = \"text-align: right;\">103.22</td><td style = \"text-align: right;\">400.0</td><td style = \"text-align: right;\">400.0</td><td style = \"text-align: right;\">300.0</td><td style = \"text-align: right;\">108.5</td><td style = \"text-align: right;\">140.0</td></tr><tr><td class = \"rowNumber\" style = \"font-weight: bold; text-align: right;\">8</td><td style = \"text-align: right;\">8</td><td style = \"text-align: right;\">20353.5</td><td style = \"text-align: right;\">30.4</td><td style = \"text-align: right;\">30.4</td><td style = \"text-align: right;\">75.0</td><td style = \"text-align: right;\">206.85</td><td style = \"text-align: right;\">12.0</td><td style = \"text-align: right;\">155.0</td><td style = \"text-align: right;\">155.0</td><td style = \"text-align: right;\">400.0</td><td style = \"text-align: right;\">400.0</td><td style = \"text-align: right;\">300.0</td><td style = \"text-align: right;\">310.0</td><td style = \"text-align: right;\">204.78</td></tr><tr><td class = \"rowNumber\" style = \"font-weight: bold; text-align: right;\">9</td><td style = \"text-align: right;\">9</td><td style = \"text-align: right;\">23178.0</td><td style = \"text-align: right;\">30.4</td><td style = \"text-align: right;\">123.725</td><td style = \"text-align: right;\">75.0</td><td style = \"text-align: right;\">206.85</td><td style = \"text-align: right;\">12.0</td><td style = \"text-align: right;\">155.0</td><td style = \"text-align: right;\">155.0</td><td style = \"text-align: right;\">400.0</td><td style = \"text-align: right;\">400.0</td><td style = \"text-align: right;\">300.0</td><td style = \"text-align: right;\">310.0</td><td style = \"text-align: right;\">350.0</td></tr><tr><td class = \"rowNumber\" style = \"font-weight: bold; text-align: right;\">10</td><td style = \"text-align: right;\">10</td><td style = \"text-align: right;\">23531.1</td><td style = \"text-align: right;\">30.4</td><td style = \"text-align: right;\">150.23</td><td style = \"text-align: right;\">75.0</td><td style = \"text-align: right;\">206.85</td><td style = \"text-align: right;\">12.0</td><td style = \"text-align: right;\">155.0</td><td style = \"text-align: right;\">155.0</td><td style = \"text-align: right;\">400.0</td><td style = \"text-align: right;\">400.0</td><td style = \"text-align: right;\">300.0</td><td style = \"text-align: right;\">310.0</td><td style = \"text-align: right;\">350.0</td></tr><tr><td class = \"rowNumber\" style = \"font-weight: bold; text-align: right;\">11</td><td style = \"text-align: right;\">11</td><td style = \"text-align: right;\">23531.1</td><td style = \"text-align: right;\">30.4</td><td style = \"text-align: right;\">150.23</td><td style = \"text-align: right;\">75.0</td><td style = \"text-align: right;\">206.85</td><td style = \"text-align: right;\">12.0</td><td style = \"text-align: right;\">155.0</td><td style = \"text-align: right;\">155.0</td><td style = \"text-align: right;\">400.0</td><td style = \"text-align: right;\">400.0</td><td style = \"text-align: right;\">300.0</td><td style = \"text-align: right;\">310.0</td><td style = \"text-align: right;\">350.0</td></tr><tr><td class = \"rowNumber\" style = \"font-weight: bold; text-align: right;\">12</td><td style = \"text-align: right;\">12</td><td style = \"text-align: right;\">23178.0</td><td style = \"text-align: right;\">30.4</td><td style = \"text-align: right;\">123.725</td><td style = \"text-align: right;\">75.0</td><td style = \"text-align: right;\">206.85</td><td style = \"text-align: right;\">12.0</td><td style = \"text-align: right;\">155.0</td><td style = \"text-align: right;\">155.0</td><td style = \"text-align: right;\">400.0</td><td style = \"text-align: right;\">400.0</td><td style = \"text-align: right;\">300.0</td><td style = \"text-align: right;\">310.0</td><td style = \"text-align: right;\">350.0</td></tr><tr><td class = \"rowNumber\" style = \"font-weight: bold; text-align: right;\">13</td><td style = \"text-align: right;\">13</td><td style = \"text-align: right;\">23178.0</td><td style = \"text-align: right;\">30.4</td><td style = \"text-align: right;\">123.725</td><td style = \"text-align: right;\">75.0</td><td style = \"text-align: right;\">206.85</td><td style = \"text-align: right;\">12.0</td><td style = \"text-align: right;\">155.0</td><td style = \"text-align: right;\">155.0</td><td style = \"text-align: right;\">400.0</td><td style = \"text-align: right;\">400.0</td><td style = \"text-align: right;\">300.0</td><td style = \"text-align: right;\">310.0</td><td style = \"text-align: right;\">350.0</td></tr><tr><td class = \"rowNumber\" style = \"font-weight: bold; text-align: right;\">14</td><td style = \"text-align: right;\">14</td><td style = \"text-align: right;\">23178.0</td><td style = \"text-align: right;\">30.4</td><td style = \"text-align: right;\">123.725</td><td style = \"text-align: right;\">75.0</td><td style = \"text-align: right;\">206.85</td><td style = \"text-align: right;\">12.0</td><td style = \"text-align: right;\">155.0</td><td style = \"text-align: right;\">155.0</td><td style = \"text-align: right;\">400.0</td><td style = \"text-align: right;\">400.0</td><td style = \"text-align: right;\">300.0</td><td style = \"text-align: right;\">310.0</td><td style = \"text-align: right;\">350.0</td></tr><tr><td class = \"rowNumber\" style = \"font-weight: bold; text-align: right;\">15</td><td style = \"text-align: right;\">15</td><td style = \"text-align: right;\">22471.9</td><td style = \"text-align: right;\">30.4</td><td style = \"text-align: right;\">70.715</td><td style = \"text-align: right;\">75.0</td><td style = \"text-align: right;\">206.85</td><td style = \"text-align: right;\">12.0</td><td style = \"text-align: right;\">155.0</td><td style = \"text-align: right;\">155.0</td><td style = \"text-align: right;\">400.0</td><td style = \"text-align: right;\">400.0</td><td style = \"text-align: right;\">300.0</td><td style = \"text-align: right;\">310.0</td><td style = \"text-align: right;\">350.0</td></tr><tr><td class = \"rowNumber\" style = \"font-weight: bold; text-align: right;\">16</td><td style = \"text-align: right;\">16</td><td style = \"text-align: right;\">22471.9</td><td style = \"text-align: right;\">30.4</td><td style = \"text-align: right;\">70.715</td><td style = \"text-align: right;\">75.0</td><td style = \"text-align: right;\">206.85</td><td style = \"text-align: right;\">12.0</td><td style = \"text-align: right;\">155.0</td><td style = \"text-align: right;\">155.0</td><td style = \"text-align: right;\">400.0</td><td style = \"text-align: right;\">400.0</td><td style = \"text-align: right;\">300.0</td><td style = \"text-align: right;\">310.0</td><td style = \"text-align: right;\">350.0</td></tr><tr><td class = \"rowNumber\" style = \"font-weight: bold; text-align: right;\">17</td><td style = \"text-align: right;\">17</td><td style = \"text-align: right;\">24590.2</td><td style = \"text-align: right;\">108.145</td><td style = \"text-align: right;\">152.0</td><td style = \"text-align: right;\">75.0</td><td style = \"text-align: right;\">206.85</td><td style = \"text-align: right;\">12.0</td><td style = \"text-align: right;\">155.0</td><td style = \"text-align: right;\">155.0</td><td style = \"text-align: right;\">400.0</td><td style = \"text-align: right;\">400.0</td><td style = \"text-align: right;\">300.0</td><td style = \"text-align: right;\">310.0</td><td style = \"text-align: right;\">350.0</td></tr><tr><td class = \"rowNumber\" style = \"font-weight: bold; text-align: right;\">18</td><td style = \"text-align: right;\">18</td><td style = \"text-align: right;\">24943.3</td><td style = \"text-align: right;\">134.65</td><td style = \"text-align: right;\">152.0</td><td style = \"text-align: right;\">75.0</td><td style = \"text-align: right;\">206.85</td><td style = \"text-align: right;\">12.0</td><td style = \"text-align: right;\">155.0</td><td style = \"text-align: right;\">155.0</td><td style = \"text-align: right;\">400.0</td><td style = \"text-align: right;\">400.0</td><td style = \"text-align: right;\">300.0</td><td style = \"text-align: right;\">310.0</td><td style = \"text-align: right;\">350.0</td></tr><tr><td class = \"rowNumber\" style = \"font-weight: bold; text-align: right;\">19</td><td style = \"text-align: right;\">19</td><td style = \"text-align: right;\">24943.3</td><td style = \"text-align: right;\">134.65</td><td style = \"text-align: right;\">152.0</td><td style = \"text-align: right;\">75.0</td><td style = \"text-align: right;\">206.85</td><td style = \"text-align: right;\">12.0</td><td style = \"text-align: right;\">155.0</td><td style = \"text-align: right;\">155.0</td><td style = \"text-align: right;\">400.0</td><td style = \"text-align: right;\">400.0</td><td style = \"text-align: right;\">300.0</td><td style = \"text-align: right;\">310.0</td><td style = \"text-align: right;\">350.0</td></tr><tr><td class = \"rowNumber\" style = \"font-weight: bold; text-align: right;\">20</td><td style = \"text-align: right;\">20</td><td style = \"text-align: right;\">23531.1</td><td style = \"text-align: right;\">30.4</td><td style = \"text-align: right;\">150.23</td><td style = \"text-align: right;\">75.0</td><td style = \"text-align: right;\">206.85</td><td style = \"text-align: right;\">12.0</td><td style = \"text-align: right;\">155.0</td><td style = \"text-align: right;\">155.0</td><td style = \"text-align: right;\">400.0</td><td style = \"text-align: right;\">400.0</td><td style = \"text-align: right;\">300.0</td><td style = \"text-align: right;\">310.0</td><td style = \"text-align: right;\">350.0</td></tr><tr><td class = \"rowNumber\" style = \"font-weight: bold; text-align: right;\">21</td><td style = \"text-align: right;\">21</td><td style = \"text-align: right;\">21796.7</td><td style = \"text-align: right;\">30.4</td><td style = \"text-align: right;\">30.4</td><td style = \"text-align: right;\">75.0</td><td style = \"text-align: right;\">206.85</td><td style = \"text-align: right;\">12.0</td><td style = \"text-align: right;\">155.0</td><td style = \"text-align: right;\">155.0</td><td style = \"text-align: right;\">400.0</td><td style = \"text-align: right;\">400.0</td><td style = \"text-align: right;\">300.0</td><td style = \"text-align: right;\">310.0</td><td style = \"text-align: right;\">337.305</td></tr><tr><td class = \"rowNumber\" style = \"font-weight: bold; text-align: right;\">22</td><td style = \"text-align: right;\">22</td><td style = \"text-align: right;\">19493.0</td><td style = \"text-align: right;\">30.4</td><td style = \"text-align: right;\">30.4</td><td style = \"text-align: right;\">75.0</td><td style = \"text-align: right;\">206.85</td><td style = \"text-align: right;\">12.0</td><td style = \"text-align: right;\">155.0</td><td style = \"text-align: right;\">155.0</td><td style = \"text-align: right;\">400.0</td><td style = \"text-align: right;\">400.0</td><td style = \"text-align: right;\">300.0</td><td style = \"text-align: right;\">295.265</td><td style = \"text-align: right;\">140.0</td></tr><tr><td class = \"rowNumber\" style = \"font-weight: bold; text-align: right;\">23</td><td style = \"text-align: right;\">23</td><td style = \"text-align: right;\">16704.7</td><td style = \"text-align: right;\">30.4</td><td style = \"text-align: right;\">30.4</td><td style = \"text-align: right;\">75.0</td><td style = \"text-align: right;\">206.85</td><td style = \"text-align: right;\">12.0</td><td style = \"text-align: right;\">155.0</td><td style = \"text-align: right;\">76.715</td><td style = \"text-align: right;\">400.0</td><td style = \"text-align: right;\">400.0</td><td style = \"text-align: right;\">300.0</td><td style = \"text-align: right;\">108.5</td><td style = \"text-align: right;\">140.0</td></tr><tr><td class = \"rowNumber\" style = \"font-weight: bold; text-align: right;\">24</td><td style = \"text-align: right;\">24</td><td style = \"text-align: right;\">14554.6</td><td style = \"text-align: right;\">30.4</td><td style = \"text-align: right;\">30.4</td><td style = \"text-align: right;\">75.0</td><td style = \"text-align: right;\">206.85</td><td style = \"text-align: right;\">12.0</td><td style = \"text-align: right;\">54.25</td><td style = \"text-align: right;\">54.25</td><td style = \"text-align: right;\">258.165</td><td style = \"text-align: right;\">400.0</td><td style = \"text-align: right;\">300.0</td><td style = \"text-align: right;\">108.5</td><td style = \"text-align: right;\">140.0</td></tr></tbody></table></div>"
      ],
      "text/latex": [
       "\\begin{tabular}{r|cccccccccc}\n",
       "\t& hour & objective\\_value & x1 & x2 & x3 & x4 & x5 & x6 & x7 & \\\\\n",
       "\t\\hline\n",
       "\t& Int64 & Float64 & Float64 & Float64 & Float64 & Float64 & Float64 & Float64 & Float64 & \\\\\n",
       "\t\\hline\n",
       "\t1 & 1 & 15192.9 & 30.4 & 30.4 & 75.0 & 206.85 & 12.0 & 54.25 & 54.25 & $\\dots$ \\\\\n",
       "\t2 & 2 & 14554.6 & 30.4 & 30.4 & 75.0 & 206.85 & 12.0 & 54.25 & 54.25 & $\\dots$ \\\\\n",
       "\t3 & 3 & 14076.0 & 30.4 & 30.4 & 75.0 & 206.85 & 12.0 & 54.25 & 54.25 & $\\dots$ \\\\\n",
       "\t4 & 4 & 13916.4 & 30.4 & 30.4 & 75.0 & 206.85 & 12.0 & 54.25 & 54.25 & $\\dots$ \\\\\n",
       "\t5 & 5 & 13916.4 & 30.4 & 30.4 & 75.0 & 206.85 & 12.0 & 54.25 & 54.25 & $\\dots$ \\\\\n",
       "\t6 & 6 & 14076.0 & 30.4 & 30.4 & 75.0 & 206.85 & 12.0 & 54.25 & 54.25 & $\\dots$ \\\\\n",
       "\t7 & 7 & 16983.5 & 30.4 & 30.4 & 75.0 & 206.85 & 12.0 & 155.0 & 103.22 & $\\dots$ \\\\\n",
       "\t8 & 8 & 20353.5 & 30.4 & 30.4 & 75.0 & 206.85 & 12.0 & 155.0 & 155.0 & $\\dots$ \\\\\n",
       "\t9 & 9 & 23178.0 & 30.4 & 123.725 & 75.0 & 206.85 & 12.0 & 155.0 & 155.0 & $\\dots$ \\\\\n",
       "\t10 & 10 & 23531.1 & 30.4 & 150.23 & 75.0 & 206.85 & 12.0 & 155.0 & 155.0 & $\\dots$ \\\\\n",
       "\t11 & 11 & 23531.1 & 30.4 & 150.23 & 75.0 & 206.85 & 12.0 & 155.0 & 155.0 & $\\dots$ \\\\\n",
       "\t12 & 12 & 23178.0 & 30.4 & 123.725 & 75.0 & 206.85 & 12.0 & 155.0 & 155.0 & $\\dots$ \\\\\n",
       "\t13 & 13 & 23178.0 & 30.4 & 123.725 & 75.0 & 206.85 & 12.0 & 155.0 & 155.0 & $\\dots$ \\\\\n",
       "\t14 & 14 & 23178.0 & 30.4 & 123.725 & 75.0 & 206.85 & 12.0 & 155.0 & 155.0 & $\\dots$ \\\\\n",
       "\t15 & 15 & 22471.9 & 30.4 & 70.715 & 75.0 & 206.85 & 12.0 & 155.0 & 155.0 & $\\dots$ \\\\\n",
       "\t16 & 16 & 22471.9 & 30.4 & 70.715 & 75.0 & 206.85 & 12.0 & 155.0 & 155.0 & $\\dots$ \\\\\n",
       "\t17 & 17 & 24590.2 & 108.145 & 152.0 & 75.0 & 206.85 & 12.0 & 155.0 & 155.0 & $\\dots$ \\\\\n",
       "\t18 & 18 & 24943.3 & 134.65 & 152.0 & 75.0 & 206.85 & 12.0 & 155.0 & 155.0 & $\\dots$ \\\\\n",
       "\t19 & 19 & 24943.3 & 134.65 & 152.0 & 75.0 & 206.85 & 12.0 & 155.0 & 155.0 & $\\dots$ \\\\\n",
       "\t20 & 20 & 23531.1 & 30.4 & 150.23 & 75.0 & 206.85 & 12.0 & 155.0 & 155.0 & $\\dots$ \\\\\n",
       "\t21 & 21 & 21796.7 & 30.4 & 30.4 & 75.0 & 206.85 & 12.0 & 155.0 & 155.0 & $\\dots$ \\\\\n",
       "\t22 & 22 & 19493.0 & 30.4 & 30.4 & 75.0 & 206.85 & 12.0 & 155.0 & 155.0 & $\\dots$ \\\\\n",
       "\t23 & 23 & 16704.7 & 30.4 & 30.4 & 75.0 & 206.85 & 12.0 & 155.0 & 76.715 & $\\dots$ \\\\\n",
       "\t24 & 24 & 14554.6 & 30.4 & 30.4 & 75.0 & 206.85 & 12.0 & 54.25 & 54.25 & $\\dots$ \\\\\n",
       "\\end{tabular}\n"
      ],
      "text/plain": [
       "\u001b[1m24×14 DataFrame\u001b[0m\n",
       "\u001b[1m Row \u001b[0m│\u001b[1m hour  \u001b[0m\u001b[1m objective_value \u001b[0m\u001b[1m x1      \u001b[0m\u001b[1m x2      \u001b[0m\u001b[1m x3      \u001b[0m\u001b[1m x4      \u001b[0m\u001b[1m x5      \u001b[0m\u001b[1m x6\u001b[0m ⋯\n",
       "     │\u001b[90m Int64 \u001b[0m\u001b[90m Float64         \u001b[0m\u001b[90m Float64 \u001b[0m\u001b[90m Float64 \u001b[0m\u001b[90m Float64 \u001b[0m\u001b[90m Float64 \u001b[0m\u001b[90m Float64 \u001b[0m\u001b[90m Fl\u001b[0m ⋯\n",
       "─────┼──────────────────────────────────────────────────────────────────────────\n",
       "   1 │     1          15192.9   30.4     30.4       75.0   206.85     12.0     ⋯\n",
       "   2 │     2          14554.6   30.4     30.4       75.0   206.85     12.0\n",
       "   3 │     3          14076.0   30.4     30.4       75.0   206.85     12.0\n",
       "   4 │     4          13916.4   30.4     30.4       75.0   206.85     12.0\n",
       "   5 │     5          13916.4   30.4     30.4       75.0   206.85     12.0     ⋯\n",
       "   6 │     6          14076.0   30.4     30.4       75.0   206.85     12.0\n",
       "   7 │     7          16983.5   30.4     30.4       75.0   206.85     12.0   1\n",
       "   8 │     8          20353.5   30.4     30.4       75.0   206.85     12.0   1\n",
       "  ⋮  │   ⋮           ⋮            ⋮        ⋮        ⋮        ⋮        ⋮        ⋱\n",
       "  18 │    18          24943.3  134.65   152.0       75.0   206.85     12.0   1 ⋯\n",
       "  19 │    19          24943.3  134.65   152.0       75.0   206.85     12.0   1\n",
       "  20 │    20          23531.1   30.4    150.23      75.0   206.85     12.0   1\n",
       "  21 │    21          21796.7   30.4     30.4       75.0   206.85     12.0   1\n",
       "  22 │    22          19493.0   30.4     30.4       75.0   206.85     12.0   1 ⋯\n",
       "  23 │    23          16704.7   30.4     30.4       75.0   206.85     12.0   1\n",
       "  24 │    24          14554.6   30.4     30.4       75.0   206.85     12.0\n",
       "\u001b[36m                                                    7 columns and 9 rows omitted\u001b[0m"
      ]
     },
     "metadata": {},
     "output_type": "display_data"
    }
   ],
   "source": [
    "result_df"
   ]
  },
  {
   "cell_type": "code",
   "execution_count": 21,
   "metadata": {},
   "outputs": [
    {
     "data": {
      "text/plain": [
       "\"../results/market_clearing_Jan.csv\""
      ]
     },
     "metadata": {},
     "output_type": "display_data"
    }
   ],
   "source": [
    "#save result_df to csv\n",
    "CSV.write(\"../results/market_clearing_Jan.csv\", result_df)"
   ]
  }
 ],
 "metadata": {
  "kernelspec": {
   "display_name": "Julia 1.9.3",
   "language": "julia",
   "name": "julia-1.9"
  },
  "language_info": {
   "file_extension": ".jl",
   "mimetype": "application/julia",
   "name": "julia",
   "version": "1.9.3"
  }
 },
 "nbformat": 4,
 "nbformat_minor": 2
}
